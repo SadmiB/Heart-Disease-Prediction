{
 "cells": [
  {
   "cell_type": "markdown",
   "metadata": {},
   "source": [
    "# Automated ML\n",
    "\n",
    "Import all the dependencies that will be needed for the project."
   ]
  },
  {
   "cell_type": "code",
   "execution_count": 1,
   "metadata": {
    "gather": {
     "logged": 1611519322441
    },
    "jupyter": {
     "outputs_hidden": false,
     "source_hidden": false
    },
    "nteract": {
     "transient": {
      "deleting": false
     }
    }
   },
   "outputs": [
    {
     "name": "stdout",
     "output_type": "stream",
     "text": [
      "SDK version: 1.20.0\n"
     ]
    }
   ],
   "source": [
    "import logging\n",
    "import os\n",
    "import csv\n",
    "\n",
    "from matplotlib import pyplot as plt\n",
    "import numpy as np\n",
    "import pandas as pd\n",
    "from sklearn import datasets\n",
    "import pkg_resources\n",
    "\n",
    "import azureml.core\n",
    "from azureml.core.experiment import Experiment\n",
    "from azureml.core.workspace import Workspace\n",
    "from azureml.train.automl import AutoMLConfig\n",
    "from azureml.core.dataset import Dataset\n",
    "\n",
    "\n",
    "print(\"SDK version:\", azureml.core.VERSION)"
   ]
  },
  {
   "cell_type": "markdown",
   "metadata": {},
   "source": [
    "# Workspace"
   ]
  },
  {
   "cell_type": "code",
   "execution_count": 2,
   "metadata": {
    "gather": {
     "logged": 1611516736885
    }
   },
   "outputs": [
    {
     "name": "stdout",
     "output_type": "stream",
     "text": [
      "quick-starts-ws-136593\n",
      "aml-quickstarts-136593\n",
      "southcentralus\n",
      "976ee174-3882-4721-b90a-b5fef6b72f24\n"
     ]
    }
   ],
   "source": [
    "ws = Workspace.from_config()\n",
    "print(ws.name, ws.resource_group, ws.location, ws.subscription_id, sep = '\\n')"
   ]
  },
  {
   "cell_type": "markdown",
   "metadata": {},
   "source": [
    "## Dataset\n",
    "\n",
    "### Overview\n",
    "We will be using a dataset about hear disease from [kaggle](https://www.kaggle.com/ronitf/heart-disease-uci)\n",
    "\n",
    "* age: age in years \n",
    "* sex: (1 = male; 0 = female) \n",
    "* cp: chest pain type\n",
    "* trestbps: resting blood pressure (in mm Hg on admission to the hospital)\n",
    "* chol: serum cholestoral in mg/dl \n",
    "* fbs: (fasting blood sugar &gt; 120 mg/dl) (1 = true; 0 = false) \n",
    "* restecg: resting electrocardiographic results \n",
    "* thalach: maximum heart rate achieved \n",
    "* exang: exercise induced angina (1 = yes; 0 = no) \n",
    "* oldpeak: ST depression induced by exercise relative to rest \n",
    "* slope: the slope of the peak exercise ST segment\n",
    "* ca: number of major vessels (0-3) colored by flourosopy \n",
    "* thal: 3 = normal; 6 = fixed defect; 7 = reversable defect \n",
    "* target: 1 or 0 \n",
    "\n",
    "\n",
    "Accessing the dataset:"
   ]
  },
  {
   "cell_type": "code",
   "execution_count": 3,
   "metadata": {
    "gather": {
     "logged": 1611516748138
    }
   },
   "outputs": [
    {
     "name": "stdout",
     "output_type": "stream",
     "text": [
      "Creating heart-disease-dataset dataset..\n"
     ]
    },
    {
     "data": {
      "text/html": [
       "<div>\n",
       "<style scoped>\n",
       "    .dataframe tbody tr th:only-of-type {\n",
       "        vertical-align: middle;\n",
       "    }\n",
       "\n",
       "    .dataframe tbody tr th {\n",
       "        vertical-align: top;\n",
       "    }\n",
       "\n",
       "    .dataframe thead th {\n",
       "        text-align: right;\n",
       "    }\n",
       "</style>\n",
       "<table border=\"1\" class=\"dataframe\">\n",
       "  <thead>\n",
       "    <tr style=\"text-align: right;\">\n",
       "      <th></th>\n",
       "      <th>age</th>\n",
       "      <th>sex</th>\n",
       "      <th>cp</th>\n",
       "      <th>trestbps</th>\n",
       "      <th>chol</th>\n",
       "      <th>fbs</th>\n",
       "      <th>restecg</th>\n",
       "      <th>thalach</th>\n",
       "      <th>exang</th>\n",
       "      <th>oldpeak</th>\n",
       "      <th>slope</th>\n",
       "      <th>ca</th>\n",
       "      <th>thal</th>\n",
       "      <th>target</th>\n",
       "    </tr>\n",
       "  </thead>\n",
       "  <tbody>\n",
       "    <tr>\n",
       "      <th>count</th>\n",
       "      <td>303.000000</td>\n",
       "      <td>303.000000</td>\n",
       "      <td>303.000000</td>\n",
       "      <td>303.000000</td>\n",
       "      <td>303.000000</td>\n",
       "      <td>303.000000</td>\n",
       "      <td>303.000000</td>\n",
       "      <td>303.000000</td>\n",
       "      <td>303.000000</td>\n",
       "      <td>303.000000</td>\n",
       "      <td>303.000000</td>\n",
       "      <td>303.000000</td>\n",
       "      <td>303.000000</td>\n",
       "      <td>303.000000</td>\n",
       "    </tr>\n",
       "    <tr>\n",
       "      <th>mean</th>\n",
       "      <td>54.366337</td>\n",
       "      <td>0.683168</td>\n",
       "      <td>0.966997</td>\n",
       "      <td>131.623762</td>\n",
       "      <td>246.264026</td>\n",
       "      <td>0.148515</td>\n",
       "      <td>0.528053</td>\n",
       "      <td>149.646865</td>\n",
       "      <td>0.326733</td>\n",
       "      <td>1.039604</td>\n",
       "      <td>1.399340</td>\n",
       "      <td>0.729373</td>\n",
       "      <td>2.313531</td>\n",
       "      <td>0.544554</td>\n",
       "    </tr>\n",
       "    <tr>\n",
       "      <th>std</th>\n",
       "      <td>9.082101</td>\n",
       "      <td>0.466011</td>\n",
       "      <td>1.032052</td>\n",
       "      <td>17.538143</td>\n",
       "      <td>51.830751</td>\n",
       "      <td>0.356198</td>\n",
       "      <td>0.525860</td>\n",
       "      <td>22.905161</td>\n",
       "      <td>0.469794</td>\n",
       "      <td>1.161075</td>\n",
       "      <td>0.616226</td>\n",
       "      <td>1.022606</td>\n",
       "      <td>0.612277</td>\n",
       "      <td>0.498835</td>\n",
       "    </tr>\n",
       "    <tr>\n",
       "      <th>min</th>\n",
       "      <td>29.000000</td>\n",
       "      <td>0.000000</td>\n",
       "      <td>0.000000</td>\n",
       "      <td>94.000000</td>\n",
       "      <td>126.000000</td>\n",
       "      <td>0.000000</td>\n",
       "      <td>0.000000</td>\n",
       "      <td>71.000000</td>\n",
       "      <td>0.000000</td>\n",
       "      <td>0.000000</td>\n",
       "      <td>0.000000</td>\n",
       "      <td>0.000000</td>\n",
       "      <td>0.000000</td>\n",
       "      <td>0.000000</td>\n",
       "    </tr>\n",
       "    <tr>\n",
       "      <th>25%</th>\n",
       "      <td>47.500000</td>\n",
       "      <td>0.000000</td>\n",
       "      <td>0.000000</td>\n",
       "      <td>120.000000</td>\n",
       "      <td>211.000000</td>\n",
       "      <td>0.000000</td>\n",
       "      <td>0.000000</td>\n",
       "      <td>133.500000</td>\n",
       "      <td>0.000000</td>\n",
       "      <td>0.000000</td>\n",
       "      <td>1.000000</td>\n",
       "      <td>0.000000</td>\n",
       "      <td>2.000000</td>\n",
       "      <td>0.000000</td>\n",
       "    </tr>\n",
       "    <tr>\n",
       "      <th>50%</th>\n",
       "      <td>55.000000</td>\n",
       "      <td>1.000000</td>\n",
       "      <td>1.000000</td>\n",
       "      <td>130.000000</td>\n",
       "      <td>240.000000</td>\n",
       "      <td>0.000000</td>\n",
       "      <td>1.000000</td>\n",
       "      <td>153.000000</td>\n",
       "      <td>0.000000</td>\n",
       "      <td>0.800000</td>\n",
       "      <td>1.000000</td>\n",
       "      <td>0.000000</td>\n",
       "      <td>2.000000</td>\n",
       "      <td>1.000000</td>\n",
       "    </tr>\n",
       "    <tr>\n",
       "      <th>75%</th>\n",
       "      <td>61.000000</td>\n",
       "      <td>1.000000</td>\n",
       "      <td>2.000000</td>\n",
       "      <td>140.000000</td>\n",
       "      <td>274.500000</td>\n",
       "      <td>0.000000</td>\n",
       "      <td>1.000000</td>\n",
       "      <td>166.000000</td>\n",
       "      <td>1.000000</td>\n",
       "      <td>1.600000</td>\n",
       "      <td>2.000000</td>\n",
       "      <td>1.000000</td>\n",
       "      <td>3.000000</td>\n",
       "      <td>1.000000</td>\n",
       "    </tr>\n",
       "    <tr>\n",
       "      <th>max</th>\n",
       "      <td>77.000000</td>\n",
       "      <td>1.000000</td>\n",
       "      <td>3.000000</td>\n",
       "      <td>200.000000</td>\n",
       "      <td>564.000000</td>\n",
       "      <td>1.000000</td>\n",
       "      <td>2.000000</td>\n",
       "      <td>202.000000</td>\n",
       "      <td>1.000000</td>\n",
       "      <td>6.200000</td>\n",
       "      <td>2.000000</td>\n",
       "      <td>4.000000</td>\n",
       "      <td>3.000000</td>\n",
       "      <td>1.000000</td>\n",
       "    </tr>\n",
       "  </tbody>\n",
       "</table>\n",
       "</div>"
      ],
      "text/plain": [
       "              age         sex          cp    trestbps        chol         fbs  \\\n",
       "count  303.000000  303.000000  303.000000  303.000000  303.000000  303.000000   \n",
       "mean    54.366337    0.683168    0.966997  131.623762  246.264026    0.148515   \n",
       "std      9.082101    0.466011    1.032052   17.538143   51.830751    0.356198   \n",
       "min     29.000000    0.000000    0.000000   94.000000  126.000000    0.000000   \n",
       "25%     47.500000    0.000000    0.000000  120.000000  211.000000    0.000000   \n",
       "50%     55.000000    1.000000    1.000000  130.000000  240.000000    0.000000   \n",
       "75%     61.000000    1.000000    2.000000  140.000000  274.500000    0.000000   \n",
       "max     77.000000    1.000000    3.000000  200.000000  564.000000    1.000000   \n",
       "\n",
       "          restecg     thalach       exang     oldpeak       slope          ca  \\\n",
       "count  303.000000  303.000000  303.000000  303.000000  303.000000  303.000000   \n",
       "mean     0.528053  149.646865    0.326733    1.039604    1.399340    0.729373   \n",
       "std      0.525860   22.905161    0.469794    1.161075    0.616226    1.022606   \n",
       "min      0.000000   71.000000    0.000000    0.000000    0.000000    0.000000   \n",
       "25%      0.000000  133.500000    0.000000    0.000000    1.000000    0.000000   \n",
       "50%      1.000000  153.000000    0.000000    0.800000    1.000000    0.000000   \n",
       "75%      1.000000  166.000000    1.000000    1.600000    2.000000    1.000000   \n",
       "max      2.000000  202.000000    1.000000    6.200000    2.000000    4.000000   \n",
       "\n",
       "             thal      target  \n",
       "count  303.000000  303.000000  \n",
       "mean     2.313531    0.544554  \n",
       "std      0.612277    0.498835  \n",
       "min      0.000000    0.000000  \n",
       "25%      2.000000    0.000000  \n",
       "50%      2.000000    1.000000  \n",
       "75%      3.000000    1.000000  \n",
       "max      3.000000    1.000000  "
      ]
     },
     "execution_count": 3,
     "metadata": {},
     "output_type": "execute_result"
    }
   ],
   "source": [
    "found = False\n",
    "key = \"heart-disease-dataset\"\n",
    "description_text = \"Heart disease dataset\"\n",
    "\n",
    "if key in ws.datasets.keys():\n",
    "        print(\"Dataset {} already exists..!\".format(key))\n",
    "        found = True\n",
    "        dataset = Dataset.get_by_name(ws, name=key)\n",
    "\n",
    "if not found:\n",
    "        # Create AML Dataset and register it into Workspace\n",
    "        print(\"Creating {} dataset..\".format(key))\n",
    "        data = 'https://raw.githubusercontent.com/SadmiB/Heart-Disease-Prediction/master/heart.csv'\n",
    "        dataset = Dataset.Tabular.from_delimited_files(data)        \n",
    "        #Register Dataset in Workspace\n",
    "        dataset = dataset.register(workspace=ws,\n",
    "                                   name=key,\n",
    "                                   description=description_text)\n",
    "\n",
    "\n",
    "df = dataset.to_pandas_dataframe()\n",
    "df.describe()"
   ]
  },
  {
   "cell_type": "code",
   "execution_count": 4,
   "metadata": {
    "gather": {
     "logged": 1611516748690
    }
   },
   "outputs": [
    {
     "data": {
      "text/html": [
       "<div>\n",
       "<style scoped>\n",
       "    .dataframe tbody tr th:only-of-type {\n",
       "        vertical-align: middle;\n",
       "    }\n",
       "\n",
       "    .dataframe tbody tr th {\n",
       "        vertical-align: top;\n",
       "    }\n",
       "\n",
       "    .dataframe thead th {\n",
       "        text-align: right;\n",
       "    }\n",
       "</style>\n",
       "<table border=\"1\" class=\"dataframe\">\n",
       "  <thead>\n",
       "    <tr style=\"text-align: right;\">\n",
       "      <th></th>\n",
       "      <th>age</th>\n",
       "      <th>sex</th>\n",
       "      <th>cp</th>\n",
       "      <th>trestbps</th>\n",
       "      <th>chol</th>\n",
       "      <th>fbs</th>\n",
       "      <th>restecg</th>\n",
       "      <th>thalach</th>\n",
       "      <th>exang</th>\n",
       "      <th>oldpeak</th>\n",
       "      <th>slope</th>\n",
       "      <th>ca</th>\n",
       "      <th>thal</th>\n",
       "      <th>target</th>\n",
       "    </tr>\n",
       "  </thead>\n",
       "  <tbody>\n",
       "    <tr>\n",
       "      <th>0</th>\n",
       "      <td>63</td>\n",
       "      <td>1</td>\n",
       "      <td>3</td>\n",
       "      <td>145</td>\n",
       "      <td>233</td>\n",
       "      <td>1</td>\n",
       "      <td>0</td>\n",
       "      <td>150</td>\n",
       "      <td>0</td>\n",
       "      <td>2.3</td>\n",
       "      <td>0</td>\n",
       "      <td>0</td>\n",
       "      <td>1</td>\n",
       "      <td>1</td>\n",
       "    </tr>\n",
       "    <tr>\n",
       "      <th>1</th>\n",
       "      <td>37</td>\n",
       "      <td>1</td>\n",
       "      <td>2</td>\n",
       "      <td>130</td>\n",
       "      <td>250</td>\n",
       "      <td>0</td>\n",
       "      <td>1</td>\n",
       "      <td>187</td>\n",
       "      <td>0</td>\n",
       "      <td>3.5</td>\n",
       "      <td>0</td>\n",
       "      <td>0</td>\n",
       "      <td>2</td>\n",
       "      <td>1</td>\n",
       "    </tr>\n",
       "    <tr>\n",
       "      <th>2</th>\n",
       "      <td>41</td>\n",
       "      <td>0</td>\n",
       "      <td>1</td>\n",
       "      <td>130</td>\n",
       "      <td>204</td>\n",
       "      <td>0</td>\n",
       "      <td>0</td>\n",
       "      <td>172</td>\n",
       "      <td>0</td>\n",
       "      <td>1.4</td>\n",
       "      <td>2</td>\n",
       "      <td>0</td>\n",
       "      <td>2</td>\n",
       "      <td>1</td>\n",
       "    </tr>\n",
       "    <tr>\n",
       "      <th>3</th>\n",
       "      <td>56</td>\n",
       "      <td>1</td>\n",
       "      <td>1</td>\n",
       "      <td>120</td>\n",
       "      <td>236</td>\n",
       "      <td>0</td>\n",
       "      <td>1</td>\n",
       "      <td>178</td>\n",
       "      <td>0</td>\n",
       "      <td>0.8</td>\n",
       "      <td>2</td>\n",
       "      <td>0</td>\n",
       "      <td>2</td>\n",
       "      <td>1</td>\n",
       "    </tr>\n",
       "    <tr>\n",
       "      <th>4</th>\n",
       "      <td>57</td>\n",
       "      <td>0</td>\n",
       "      <td>0</td>\n",
       "      <td>120</td>\n",
       "      <td>354</td>\n",
       "      <td>0</td>\n",
       "      <td>1</td>\n",
       "      <td>163</td>\n",
       "      <td>1</td>\n",
       "      <td>0.6</td>\n",
       "      <td>2</td>\n",
       "      <td>0</td>\n",
       "      <td>2</td>\n",
       "      <td>1</td>\n",
       "    </tr>\n",
       "  </tbody>\n",
       "</table>\n",
       "</div>"
      ],
      "text/plain": [
       "   age  sex  cp  trestbps  chol  fbs  restecg  thalach  exang  oldpeak  slope  \\\n",
       "0   63    1   3       145   233    1        0      150      0      2.3      0   \n",
       "1   37    1   2       130   250    0        1      187      0      3.5      0   \n",
       "2   41    0   1       130   204    0        0      172      0      1.4      2   \n",
       "3   56    1   1       120   236    0        1      178      0      0.8      2   \n",
       "4   57    0   0       120   354    0        1      163      1      0.6      2   \n",
       "\n",
       "   ca  thal  target  \n",
       "0   0     1       1  \n",
       "1   0     2       1  \n",
       "2   0     2       1  \n",
       "3   0     2       1  \n",
       "4   0     2       1  "
      ]
     },
     "execution_count": 4,
     "metadata": {},
     "output_type": "execute_result"
    }
   ],
   "source": [
    "dataset.take(5).to_pandas_dataframe()"
   ]
  },
  {
   "cell_type": "markdown",
   "metadata": {},
   "source": [
    "# Experiment"
   ]
  },
  {
   "cell_type": "code",
   "execution_count": 5,
   "metadata": {
    "gather": {
     "logged": 1611516751386
    }
   },
   "outputs": [
    {
     "data": {
      "text/html": [
       "<table style=\"width:100%\"><tr><th>Name</th><th>Workspace</th><th>Report Page</th><th>Docs Page</th></tr><tr><td>heart-disease-experiment-ml1</td><td>quick-starts-ws-136593</td><td><a href=\"https://ml.azure.com/experiments/heart-disease-experiment-ml1?wsid=/subscriptions/976ee174-3882-4721-b90a-b5fef6b72f24/resourcegroups/aml-quickstarts-136593/workspaces/quick-starts-ws-136593\" target=\"_blank\" rel=\"noopener\">Link to Azure Machine Learning studio</a></td><td><a href=\"https://docs.microsoft.com/en-us/python/api/azureml-core/azureml.core.experiment.Experiment?view=azure-ml-py\" target=\"_blank\" rel=\"noopener\">Link to Documentation</a></td></tr></table>"
      ],
      "text/plain": [
       "Experiment(Name: heart-disease-experiment-ml1,\n",
       "Workspace: quick-starts-ws-136593)"
      ]
     },
     "execution_count": 5,
     "metadata": {},
     "output_type": "execute_result"
    }
   ],
   "source": [
    "# choose a name for experiment\n",
    "experiment_name = 'heart-disease-experiment-ml1'\n",
    "project_folder = 'heart-disease-project'\n",
    "experiment=Experiment(ws, experiment_name)\n",
    "experiment"
   ]
  },
  {
   "cell_type": "markdown",
   "metadata": {},
   "source": [
    "# Create or Attach an AmlCompute cluster"
   ]
  },
  {
   "cell_type": "code",
   "execution_count": 6,
   "metadata": {
    "gather": {
     "logged": 1611516760278
    }
   },
   "outputs": [
    {
     "name": "stdout",
     "output_type": "stream",
     "text": [
      "Creating\n",
      "Succeeded...............................................................................................................\n",
      "AmlCompute wait for completion finished\n",
      "\n",
      "Wait timeout has been reached\n",
      "Current provisioning state of AmlCompute is \"Succeeded\" and current node count is \"0\"\n"
     ]
    }
   ],
   "source": [
    "from azureml.core.compute import AmlCompute\n",
    "from azureml.core.compute import ComputeTarget\n",
    "from azureml.core.compute_target import ComputeTargetException\n",
    "\n",
    "# NOTE: update the cluster name to match the existing cluster\n",
    "# Choose a name for your CPU cluster\n",
    "amlcompute_cluster_name = \"auto-ml\"\n",
    "\n",
    "# Verify that cluster does not exist already\n",
    "try:\n",
    "    compute_target = ComputeTarget(workspace=ws, name=amlcompute_cluster_name)\n",
    "    print('Found existing cluster, use it.')\n",
    "except ComputeTargetException:\n",
    "    compute_config = AmlCompute.provisioning_configuration(vm_size='STANDARD_D2_V2',\n",
    "                                                           max_nodes=4)\n",
    "    compute_target = ComputeTarget.create(ws, amlcompute_cluster_name, compute_config)\n",
    "\n",
    "    compute_target.wait_for_completion(show_output=True, min_node_count = 1, timeout_in_minutes = 10)"
   ]
  },
  {
   "cell_type": "markdown",
   "metadata": {},
   "source": [
    "## AutoML Configuration\n",
    "\n",
    "Below the Automl settings and cofiguration we using AUC_weighted as a primary metric and the task to solve is classification. The target column is \"target\" which represents whether a patient has a heart disease or not."
   ]
  },
  {
   "cell_type": "code",
   "execution_count": 7,
   "metadata": {
    "gather": {
     "logged": 1611516768191
    },
    "jupyter": {
     "outputs_hidden": false,
     "source_hidden": false
    },
    "nteract": {
     "transient": {
      "deleting": false
     }
    }
   },
   "outputs": [],
   "source": [
    "# Automl settings\n",
    "automl_settings = { \n",
    "    \"experiment_timeout_minutes\": 20,\n",
    "    \"max_concurrent_iterations\": 5,\n",
    "    \"enable_onnx_compatible_models\": True,\n",
    "    \"primary_metric\" : 'accuracy',\n",
    "    \"experiment_exit_score\" : 0.9984,\n",
    "    \"enable_early_stopping\" : True,\n",
    "    \"featurization\" : \"auto\"\n",
    "}\n",
    "\n",
    "# automl config\n",
    "automl_config = AutoMLConfig(compute_target=compute_target,\n",
    "                             task = \"classification\",\n",
    "                             blocked_models = ['KNN','LinearSVM'],\n",
    "                             training_data=dataset,\n",
    "                             label_column_name=\"target\",   \n",
    "                             path = project_folder,\n",
    "                             debug_log = \"automl_errors.log\",\n",
    "                             **automl_settings)"
   ]
  },
  {
   "cell_type": "code",
   "execution_count": 8,
   "metadata": {
    "gather": {
     "logged": 1611516782078
    },
    "jupyter": {
     "outputs_hidden": false,
     "source_hidden": false
    },
    "nteract": {
     "transient": {
      "deleting": false
     }
    }
   },
   "outputs": [
    {
     "name": "stdout",
     "output_type": "stream",
     "text": [
      "Running on remote.\n"
     ]
    }
   ],
   "source": [
    "# Submit the ml experiment\n",
    "remote_run = experiment.submit(automl_config)"
   ]
  },
  {
   "cell_type": "markdown",
   "metadata": {},
   "source": [
    "## Run Details\n",
    "\n",
    "OPTIONAL: Write about the different models trained and their performance. Why do you think some models did better than others?\n",
    "\n",
    "TODO: In the cell below, use the `RunDetails` widget to show the different experiments."
   ]
  },
  {
   "cell_type": "code",
   "execution_count": 9,
   "metadata": {
    "gather": {
     "logged": 1611518305650
    },
    "scrolled": false
   },
   "outputs": [
    {
     "data": {
      "application/vnd.jupyter.widget-view+json": {
       "model_id": "53c5289c3b0146229d9eb5c544848842",
       "version_major": 2,
       "version_minor": 0
      },
      "text/plain": [
       "_AutoMLWidget(widget_settings={'childWidgetDisplay': 'popup', 'send_telemetry': False, 'log_level': 'INFO', 's…"
      ]
     },
     "metadata": {},
     "output_type": "display_data"
    },
    {
     "data": {
      "application/aml.mini.widget.v1": "{\"status\": \"Completed\", \"workbench_run_details_uri\": \"https://ml.azure.com/experiments/heart-disease-experiment-ml1/runs/AutoML_4b3e9d87-95c4-4540-b56d-7cfc88ec52ac?wsid=/subscriptions/976ee174-3882-4721-b90a-b5fef6b72f24/resourcegroups/aml-quickstarts-136593/workspaces/quick-starts-ws-136593\", \"run_id\": \"AutoML_4b3e9d87-95c4-4540-b56d-7cfc88ec52ac\", \"run_properties\": {\"run_id\": \"AutoML_4b3e9d87-95c4-4540-b56d-7cfc88ec52ac\", \"created_utc\": \"2021-01-30T13:00:27.598763Z\", \"properties\": {\"num_iterations\": \"1000\", \"training_type\": \"TrainFull\", \"acquisition_function\": \"EI\", \"primary_metric\": \"accuracy\", \"train_split\": \"0\", \"acquisition_parameter\": \"0\", \"num_cross_validation\": null, \"target\": \"auto-ml\", \"AMLSettingsJsonString\": \"{\\\"path\\\":null,\\\"name\\\":\\\"heart-disease-experiment-ml1\\\",\\\"subscription_id\\\":\\\"976ee174-3882-4721-b90a-b5fef6b72f24\\\",\\\"resource_group\\\":\\\"aml-quickstarts-136593\\\",\\\"workspace_name\\\":\\\"quick-starts-ws-136593\\\",\\\"region\\\":\\\"southcentralus\\\",\\\"compute_target\\\":\\\"auto-ml\\\",\\\"spark_service\\\":null,\\\"azure_service\\\":\\\"remote\\\",\\\"many_models\\\":false,\\\"pipeline_fetch_max_batch_size\\\":1,\\\"iterations\\\":1000,\\\"primary_metric\\\":\\\"accuracy\\\",\\\"task_type\\\":\\\"classification\\\",\\\"data_script\\\":null,\\\"validation_size\\\":0.0,\\\"n_cross_validations\\\":null,\\\"y_min\\\":null,\\\"y_max\\\":null,\\\"num_classes\\\":null,\\\"featurization\\\":\\\"auto\\\",\\\"_ignore_package_version_incompatibilities\\\":false,\\\"is_timeseries\\\":false,\\\"max_cores_per_iteration\\\":1,\\\"max_concurrent_iterations\\\":5,\\\"iteration_timeout_minutes\\\":null,\\\"mem_in_mb\\\":null,\\\"enforce_time_on_windows\\\":false,\\\"experiment_timeout_minutes\\\":20,\\\"experiment_exit_score\\\":0.9984,\\\"whitelist_models\\\":null,\\\"blacklist_algos\\\":[\\\"KNN\\\",\\\"LinearSVM\\\",\\\"TensorFlowLinearClassifier\\\",\\\"TensorFlowDNN\\\"],\\\"supported_models\\\":[\\\"XGBoostClassifier\\\",\\\"KNN\\\",\\\"LogisticRegression\\\",\\\"BernoulliNaiveBayes\\\",\\\"RandomForest\\\",\\\"DecisionTree\\\",\\\"LightGBM\\\",\\\"LinearSVM\\\",\\\"ExtremeRandomTrees\\\",\\\"AveragedPerceptronClassifier\\\",\\\"SVM\\\",\\\"TensorFlowDNN\\\",\\\"SGD\\\",\\\"TensorFlowLinearClassifier\\\",\\\"GradientBoosting\\\",\\\"MultinomialNaiveBayes\\\"],\\\"auto_blacklist\\\":true,\\\"blacklist_samples_reached\\\":false,\\\"exclude_nan_labels\\\":true,\\\"verbosity\\\":20,\\\"_debug_log\\\":\\\"azureml_automl.log\\\",\\\"show_warnings\\\":false,\\\"model_explainability\\\":true,\\\"service_url\\\":null,\\\"sdk_url\\\":null,\\\"sdk_packages\\\":null,\\\"enable_onnx_compatible_models\\\":true,\\\"enable_split_onnx_featurizer_estimator_models\\\":false,\\\"vm_type\\\":\\\"STANDARD_D2_V2\\\",\\\"telemetry_verbosity\\\":20,\\\"send_telemetry\\\":true,\\\"enable_dnn\\\":false,\\\"scenario\\\":\\\"SDK-1.13.0\\\",\\\"environment_label\\\":null,\\\"force_text_dnn\\\":false,\\\"enable_feature_sweeping\\\":false,\\\"enable_early_stopping\\\":true,\\\"early_stopping_n_iters\\\":10,\\\"metrics\\\":null,\\\"enable_ensembling\\\":true,\\\"enable_stack_ensembling\\\":false,\\\"ensemble_iterations\\\":15,\\\"enable_tf\\\":false,\\\"enable_subsampling\\\":null,\\\"subsample_seed\\\":null,\\\"enable_nimbusml\\\":false,\\\"enable_streaming\\\":false,\\\"force_streaming\\\":false,\\\"track_child_runs\\\":true,\\\"allowed_private_models\\\":[],\\\"label_column_name\\\":\\\"target\\\",\\\"weight_column_name\\\":null,\\\"cv_split_column_names\\\":null,\\\"enable_local_managed\\\":false,\\\"_local_managed_run_id\\\":null,\\\"cost_mode\\\":1,\\\"lag_length\\\":0,\\\"metric_operation\\\":\\\"maximize\\\",\\\"preprocess\\\":true}\", \"DataPrepJsonString\": \"{\\\\\\\"training_data\\\\\\\": \\\\\\\"{\\\\\\\\\\\\\\\"blocks\\\\\\\\\\\\\\\": [{\\\\\\\\\\\\\\\"id\\\\\\\\\\\\\\\": \\\\\\\\\\\\\\\"2bbc931e-3fdc-4cc1-a3de-762edaaab682\\\\\\\\\\\\\\\", \\\\\\\\\\\\\\\"type\\\\\\\\\\\\\\\": \\\\\\\\\\\\\\\"Microsoft.DPrep.GetFilesBlock\\\\\\\\\\\\\\\", \\\\\\\\\\\\\\\"arguments\\\\\\\\\\\\\\\": {\\\\\\\\\\\\\\\"isArchive\\\\\\\\\\\\\\\": false, \\\\\\\\\\\\\\\"path\\\\\\\\\\\\\\\": {\\\\\\\\\\\\\\\"target\\\\\\\\\\\\\\\": 4, \\\\\\\\\\\\\\\"resourceDetails\\\\\\\\\\\\\\\": [{\\\\\\\\\\\\\\\"path\\\\\\\\\\\\\\\": \\\\\\\\\\\\\\\"https://raw.githubusercontent.com/SadmiB/Heart-Disease-Prediction/master/heart.csv\\\\\\\\\\\\\\\"}]}}, \\\\\\\\\\\\\\\"localData\\\\\\\\\\\\\\\": {}, \\\\\\\\\\\\\\\"isEnabled\\\\\\\\\\\\\\\": true, \\\\\\\\\\\\\\\"name\\\\\\\\\\\\\\\": null, \\\\\\\\\\\\\\\"annotation\\\\\\\\\\\\\\\": null}, {\\\\\\\\\\\\\\\"id\\\\\\\\\\\\\\\": \\\\\\\\\\\\\\\"0a8822c4-be58-499d-913d-93066628941a\\\\\\\\\\\\\\\", \\\\\\\\\\\\\\\"type\\\\\\\\\\\\\\\": \\\\\\\\\\\\\\\"Microsoft.DPrep.ParseDelimitedBlock\\\\\\\\\\\\\\\", \\\\\\\\\\\\\\\"arguments\\\\\\\\\\\\\\\": {\\\\\\\\\\\\\\\"columnHeadersMode\\\\\\\\\\\\\\\": 3, \\\\\\\\\\\\\\\"fileEncoding\\\\\\\\\\\\\\\": 0, \\\\\\\\\\\\\\\"handleQuotedLineBreaks\\\\\\\\\\\\\\\": false, \\\\\\\\\\\\\\\"preview\\\\\\\\\\\\\\\": false, \\\\\\\\\\\\\\\"separator\\\\\\\\\\\\\\\": \\\\\\\\\\\\\\\",\\\\\\\\\\\\\\\", \\\\\\\\\\\\\\\"skipRows\\\\\\\\\\\\\\\": 0, \\\\\\\\\\\\\\\"skipRowsMode\\\\\\\\\\\\\\\": 0}, \\\\\\\\\\\\\\\"localData\\\\\\\\\\\\\\\": {}, \\\\\\\\\\\\\\\"isEnabled\\\\\\\\\\\\\\\": true, \\\\\\\\\\\\\\\"name\\\\\\\\\\\\\\\": null, \\\\\\\\\\\\\\\"annotation\\\\\\\\\\\\\\\": null}, {\\\\\\\\\\\\\\\"id\\\\\\\\\\\\\\\": \\\\\\\\\\\\\\\"81d8e97d-3b64-4b6d-9109-d19de2afe9ee\\\\\\\\\\\\\\\", \\\\\\\\\\\\\\\"type\\\\\\\\\\\\\\\": \\\\\\\\\\\\\\\"Microsoft.DPrep.DropColumnsBlock\\\\\\\\\\\\\\\", \\\\\\\\\\\\\\\"arguments\\\\\\\\\\\\\\\": {\\\\\\\\\\\\\\\"columns\\\\\\\\\\\\\\\": {\\\\\\\\\\\\\\\"type\\\\\\\\\\\\\\\": 0, \\\\\\\\\\\\\\\"details\\\\\\\\\\\\\\\": {\\\\\\\\\\\\\\\"selectedColumns\\\\\\\\\\\\\\\": [\\\\\\\\\\\\\\\"Path\\\\\\\\\\\\\\\"]}}}, \\\\\\\\\\\\\\\"localData\\\\\\\\\\\\\\\": {}, \\\\\\\\\\\\\\\"isEnabled\\\\\\\\\\\\\\\": true, \\\\\\\\\\\\\\\"name\\\\\\\\\\\\\\\": null, \\\\\\\\\\\\\\\"annotation\\\\\\\\\\\\\\\": null}, {\\\\\\\\\\\\\\\"id\\\\\\\\\\\\\\\": \\\\\\\\\\\\\\\"e257a43a-0c93-418d-a8e7-d95e5d5831e0\\\\\\\\\\\\\\\", \\\\\\\\\\\\\\\"type\\\\\\\\\\\\\\\": \\\\\\\\\\\\\\\"Microsoft.DPrep.SetColumnTypesBlock\\\\\\\\\\\\\\\", \\\\\\\\\\\\\\\"arguments\\\\\\\\\\\\\\\": {\\\\\\\\\\\\\\\"columnConversion\\\\\\\\\\\\\\\": [{\\\\\\\\\\\\\\\"column\\\\\\\\\\\\\\\": {\\\\\\\\\\\\\\\"type\\\\\\\\\\\\\\\": 2, \\\\\\\\\\\\\\\"details\\\\\\\\\\\\\\\": {\\\\\\\\\\\\\\\"selectedColumn\\\\\\\\\\\\\\\": \\\\\\\\\\\\\\\"age\\\\\\\\\\\\\\\"}}, \\\\\\\\\\\\\\\"typeProperty\\\\\\\\\\\\\\\": 2}, {\\\\\\\\\\\\\\\"column\\\\\\\\\\\\\\\": {\\\\\\\\\\\\\\\"type\\\\\\\\\\\\\\\": 2, \\\\\\\\\\\\\\\"details\\\\\\\\\\\\\\\": {\\\\\\\\\\\\\\\"selectedColumn\\\\\\\\\\\\\\\": \\\\\\\\\\\\\\\"sex\\\\\\\\\\\\\\\"}}, \\\\\\\\\\\\\\\"typeProperty\\\\\\\\\\\\\\\": 2}, {\\\\\\\\\\\\\\\"column\\\\\\\\\\\\\\\": {\\\\\\\\\\\\\\\"type\\\\\\\\\\\\\\\": 2, \\\\\\\\\\\\\\\"details\\\\\\\\\\\\\\\": {\\\\\\\\\\\\\\\"selectedColumn\\\\\\\\\\\\\\\": \\\\\\\\\\\\\\\"cp\\\\\\\\\\\\\\\"}}, \\\\\\\\\\\\\\\"typeProperty\\\\\\\\\\\\\\\": 2}, {\\\\\\\\\\\\\\\"column\\\\\\\\\\\\\\\": {\\\\\\\\\\\\\\\"type\\\\\\\\\\\\\\\": 2, \\\\\\\\\\\\\\\"details\\\\\\\\\\\\\\\": {\\\\\\\\\\\\\\\"selectedColumn\\\\\\\\\\\\\\\": \\\\\\\\\\\\\\\"trestbps\\\\\\\\\\\\\\\"}}, \\\\\\\\\\\\\\\"typeProperty\\\\\\\\\\\\\\\": 2}, {\\\\\\\\\\\\\\\"column\\\\\\\\\\\\\\\": {\\\\\\\\\\\\\\\"type\\\\\\\\\\\\\\\": 2, \\\\\\\\\\\\\\\"details\\\\\\\\\\\\\\\": {\\\\\\\\\\\\\\\"selectedColumn\\\\\\\\\\\\\\\": \\\\\\\\\\\\\\\"chol\\\\\\\\\\\\\\\"}}, \\\\\\\\\\\\\\\"typeProperty\\\\\\\\\\\\\\\": 2}, {\\\\\\\\\\\\\\\"column\\\\\\\\\\\\\\\": {\\\\\\\\\\\\\\\"type\\\\\\\\\\\\\\\": 2, \\\\\\\\\\\\\\\"details\\\\\\\\\\\\\\\": {\\\\\\\\\\\\\\\"selectedColumn\\\\\\\\\\\\\\\": \\\\\\\\\\\\\\\"fbs\\\\\\\\\\\\\\\"}}, \\\\\\\\\\\\\\\"typeProperty\\\\\\\\\\\\\\\": 2}, {\\\\\\\\\\\\\\\"column\\\\\\\\\\\\\\\": {\\\\\\\\\\\\\\\"type\\\\\\\\\\\\\\\": 2, \\\\\\\\\\\\\\\"details\\\\\\\\\\\\\\\": {\\\\\\\\\\\\\\\"selectedColumn\\\\\\\\\\\\\\\": \\\\\\\\\\\\\\\"restecg\\\\\\\\\\\\\\\"}}, \\\\\\\\\\\\\\\"typeProperty\\\\\\\\\\\\\\\": 2}, {\\\\\\\\\\\\\\\"column\\\\\\\\\\\\\\\": {\\\\\\\\\\\\\\\"type\\\\\\\\\\\\\\\": 2, \\\\\\\\\\\\\\\"details\\\\\\\\\\\\\\\": {\\\\\\\\\\\\\\\"selectedColumn\\\\\\\\\\\\\\\": \\\\\\\\\\\\\\\"thalach\\\\\\\\\\\\\\\"}}, \\\\\\\\\\\\\\\"typeProperty\\\\\\\\\\\\\\\": 2}, {\\\\\\\\\\\\\\\"column\\\\\\\\\\\\\\\": {\\\\\\\\\\\\\\\"type\\\\\\\\\\\\\\\": 2, \\\\\\\\\\\\\\\"details\\\\\\\\\\\\\\\": {\\\\\\\\\\\\\\\"selectedColumn\\\\\\\\\\\\\\\": \\\\\\\\\\\\\\\"exang\\\\\\\\\\\\\\\"}}, \\\\\\\\\\\\\\\"typeProperty\\\\\\\\\\\\\\\": 2}, {\\\\\\\\\\\\\\\"column\\\\\\\\\\\\\\\": {\\\\\\\\\\\\\\\"type\\\\\\\\\\\\\\\": 2, \\\\\\\\\\\\\\\"details\\\\\\\\\\\\\\\": {\\\\\\\\\\\\\\\"selectedColumn\\\\\\\\\\\\\\\": \\\\\\\\\\\\\\\"oldpeak\\\\\\\\\\\\\\\"}}, \\\\\\\\\\\\\\\"typeProperty\\\\\\\\\\\\\\\": 3}, {\\\\\\\\\\\\\\\"column\\\\\\\\\\\\\\\": {\\\\\\\\\\\\\\\"type\\\\\\\\\\\\\\\": 2, \\\\\\\\\\\\\\\"details\\\\\\\\\\\\\\\": {\\\\\\\\\\\\\\\"selectedColumn\\\\\\\\\\\\\\\": \\\\\\\\\\\\\\\"slope\\\\\\\\\\\\\\\"}}, \\\\\\\\\\\\\\\"typeProperty\\\\\\\\\\\\\\\": 2}, {\\\\\\\\\\\\\\\"column\\\\\\\\\\\\\\\": {\\\\\\\\\\\\\\\"type\\\\\\\\\\\\\\\": 2, \\\\\\\\\\\\\\\"details\\\\\\\\\\\\\\\": {\\\\\\\\\\\\\\\"selectedColumn\\\\\\\\\\\\\\\": \\\\\\\\\\\\\\\"ca\\\\\\\\\\\\\\\"}}, \\\\\\\\\\\\\\\"typeProperty\\\\\\\\\\\\\\\": 2}, {\\\\\\\\\\\\\\\"column\\\\\\\\\\\\\\\": {\\\\\\\\\\\\\\\"type\\\\\\\\\\\\\\\": 2, \\\\\\\\\\\\\\\"details\\\\\\\\\\\\\\\": {\\\\\\\\\\\\\\\"selectedColumn\\\\\\\\\\\\\\\": \\\\\\\\\\\\\\\"thal\\\\\\\\\\\\\\\"}}, \\\\\\\\\\\\\\\"typeProperty\\\\\\\\\\\\\\\": 2}, {\\\\\\\\\\\\\\\"column\\\\\\\\\\\\\\\": {\\\\\\\\\\\\\\\"type\\\\\\\\\\\\\\\": 2, \\\\\\\\\\\\\\\"details\\\\\\\\\\\\\\\": {\\\\\\\\\\\\\\\"selectedColumn\\\\\\\\\\\\\\\": \\\\\\\\\\\\\\\"target\\\\\\\\\\\\\\\"}}, \\\\\\\\\\\\\\\"typeProperty\\\\\\\\\\\\\\\": 2}]}, \\\\\\\\\\\\\\\"localData\\\\\\\\\\\\\\\": {}, \\\\\\\\\\\\\\\"isEnabled\\\\\\\\\\\\\\\": true, \\\\\\\\\\\\\\\"name\\\\\\\\\\\\\\\": null, \\\\\\\\\\\\\\\"annotation\\\\\\\\\\\\\\\": null}], \\\\\\\\\\\\\\\"inspectors\\\\\\\\\\\\\\\": [], \\\\\\\\\\\\\\\"meta\\\\\\\\\\\\\\\": {\\\\\\\\\\\\\\\"savedDatasetId\\\\\\\\\\\\\\\": \\\\\\\\\\\\\\\"b122cb0f-a7cf-469d-97dc-dc989201b5dd\\\\\\\\\\\\\\\", \\\\\\\\\\\\\\\"datasetType\\\\\\\\\\\\\\\": \\\\\\\\\\\\\\\"tabular\\\\\\\\\\\\\\\", \\\\\\\\\\\\\\\"subscriptionId\\\\\\\\\\\\\\\": \\\\\\\\\\\\\\\"976ee174-3882-4721-b90a-b5fef6b72f24\\\\\\\\\\\\\\\", \\\\\\\\\\\\\\\"workspaceId\\\\\\\\\\\\\\\": \\\\\\\\\\\\\\\"9f63e6f1-0aa6-413a-9594-63f9667e0f9b\\\\\\\\\\\\\\\", \\\\\\\\\\\\\\\"workspaceLocation\\\\\\\\\\\\\\\": \\\\\\\\\\\\\\\"southcentralus\\\\\\\\\\\\\\\"}}\\\\\\\", \\\\\\\"activities\\\\\\\": 0}\", \"EnableSubsampling\": null, \"runTemplate\": \"AutoML\", \"azureml.runsource\": \"automl\", \"display_task_type\": \"classification\", \"dependencies_versions\": \"{\\\"azureml-widgets\\\": \\\"1.20.0\\\", \\\"azureml-train\\\": \\\"1.20.0\\\", \\\"azureml-train-restclients-hyperdrive\\\": \\\"1.20.0\\\", \\\"azureml-train-core\\\": \\\"1.20.0\\\", \\\"azureml-train-automl\\\": \\\"1.20.0\\\", \\\"azureml-train-automl-runtime\\\": \\\"1.20.0\\\", \\\"azureml-train-automl-client\\\": \\\"1.20.0\\\", \\\"azureml-tensorboard\\\": \\\"1.20.0\\\", \\\"azureml-telemetry\\\": \\\"1.20.0\\\", \\\"azureml-sdk\\\": \\\"1.20.0\\\", \\\"azureml-samples\\\": \\\"0+unknown\\\", \\\"azureml-pipeline\\\": \\\"1.20.0\\\", \\\"azureml-pipeline-steps\\\": \\\"1.20.0\\\", \\\"azureml-pipeline-core\\\": \\\"1.20.0\\\", \\\"azureml-opendatasets\\\": \\\"1.20.0\\\", \\\"azureml-model-management-sdk\\\": \\\"1.0.1b6.post1\\\", \\\"azureml-mlflow\\\": \\\"1.20.0.post1\\\", \\\"azureml-interpret\\\": \\\"1.20.0\\\", \\\"azureml-explain-model\\\": \\\"1.20.0\\\", \\\"azureml-defaults\\\": \\\"1.20.0\\\", \\\"azureml-dataset-runtime\\\": \\\"1.20.0\\\", \\\"azureml-dataprep\\\": \\\"2.7.3\\\", \\\"azureml-dataprep-rslex\\\": \\\"1.5.0\\\", \\\"azureml-dataprep-native\\\": \\\"27.0.0\\\", \\\"azureml-datadrift\\\": \\\"1.20.0\\\", \\\"azureml-core\\\": \\\"1.20.0\\\", \\\"azureml-contrib-services\\\": \\\"1.20.0\\\", \\\"azureml-contrib-server\\\": \\\"1.20.0\\\", \\\"azureml-contrib-reinforcementlearning\\\": \\\"1.20.0\\\", \\\"azureml-contrib-pipeline-steps\\\": \\\"1.20.0\\\", \\\"azureml-contrib-notebook\\\": \\\"1.20.0\\\", \\\"azureml-contrib-interpret\\\": \\\"1.20.0\\\", \\\"azureml-contrib-gbdt\\\": \\\"1.20.0\\\", \\\"azureml-contrib-fairness\\\": \\\"1.20.0\\\", \\\"azureml-contrib-dataset\\\": \\\"1.20.0\\\", \\\"azureml-cli-common\\\": \\\"1.20.0\\\", \\\"azureml-automl-runtime\\\": \\\"1.20.0\\\", \\\"azureml-automl-core\\\": \\\"1.20.0\\\", \\\"azureml-accel-models\\\": \\\"1.20.0\\\"}\", \"_aml_system_scenario_identification\": \"Remote.Parent\", \"ClientType\": \"SDK\", \"environment_cpu_name\": \"AzureML-AutoML\", \"environment_cpu_label\": \"prod\", \"environment_gpu_name\": \"AzureML-AutoML-GPU\", \"environment_gpu_label\": \"prod\", \"root_attribution\": \"automl\", \"attribution\": \"AutoML\", \"Orchestrator\": \"AutoML\", \"CancelUri\": \"https://southcentralus.experiments.azureml.net/jasmine/v1.0/subscriptions/976ee174-3882-4721-b90a-b5fef6b72f24/resourceGroups/aml-quickstarts-136593/providers/Microsoft.MachineLearningServices/workspaces/quick-starts-ws-136593/experimentids/8ebf8b77-32d3-4334-93c3-94533e87711d/cancel/AutoML_4b3e9d87-95c4-4540-b56d-7cfc88ec52ac\", \"ClientSdkVersion\": \"1.20.0.post1\", \"snapshotId\": \"00000000-0000-0000-0000-000000000000\", \"SetupRunId\": \"AutoML_4b3e9d87-95c4-4540-b56d-7cfc88ec52ac_setup\", \"SetupRunContainerId\": \"dcid.AutoML_4b3e9d87-95c4-4540-b56d-7cfc88ec52ac_setup\", \"FeaturizationRunJsonPath\": \"featurizer_container.json\", \"FeaturizationRunId\": \"AutoML_4b3e9d87-95c4-4540-b56d-7cfc88ec52ac_featurize\", \"ProblemInfoJsonString\": \"{\\\"dataset_num_categorical\\\": 0, \\\"is_sparse\\\": true, \\\"subsampling\\\": false, \\\"dataset_classes\\\": 2, \\\"dataset_features\\\": 27, \\\"dataset_samples\\\": 303, \\\"single_frequency_class_detected\\\": false}\", \"ModelExplainRunId\": \"AutoML_4b3e9d87-95c4-4540-b56d-7cfc88ec52ac_ModelExplain\"}, \"tags\": {\"model_explain_run\": \"best_run\", \"_aml_system_azureml.automlComponent\": \"AutoML\", \"pipeline_id\": \"\", \"score\": \"\", \"predicted_cost\": \"\", \"fit_time\": \"\", \"training_percent\": \"\", \"iteration\": \"\", \"run_preprocessor\": \"\", \"run_algorithm\": \"\", \"dynamic_whitelisting_iterations\": \"<25>;<30>;<35>;\", \"automl_best_child_run_id\": \"AutoML_4b3e9d87-95c4-4540-b56d-7cfc88ec52ac_38\", \"model_explain_best_run_child_id\": \"AutoML_4b3e9d87-95c4-4540-b56d-7cfc88ec52ac_38\"}, \"end_time_utc\": \"2021-01-30T13:27:30.137648Z\", \"status\": \"Completed\", \"log_files\": {}, \"log_groups\": [], \"run_duration\": \"0:27:02\"}, \"child_runs\": [{\"run_id\": \"AutoML_4b3e9d87-95c4-4540-b56d-7cfc88ec52ac_3\", \"run_number\": 5, \"metric\": null, \"status\": \"Failed\", \"run_type\": null, \"training_percent\": \"100\", \"start_time\": \"2021-01-30T13:11:14.693356Z\", \"end_time\": \"2021-01-30T13:11:15.567543Z\", \"created_time\": \"2021-01-30T13:11:14.693356Z\", \"created_time_dt\": \"2021-01-30T13:11:14.693356Z\", \"duration\": \"0:00:00\", \"iteration\": \"3\", \"goal\": null, \"run_name\": \"Failed\", \"run_properties\": null}, {\"run_id\": \"AutoML_4b3e9d87-95c4-4540-b56d-7cfc88ec52ac_1\", \"run_number\": 6, \"metric\": null, \"status\": \"Completed\", \"run_type\": \"azureml.scriptrun\", \"training_percent\": \"100\", \"start_time\": \"2021-01-30T13:11:24.852902Z\", \"end_time\": \"2021-01-30T13:12:18.155205Z\", \"created_time\": \"2021-01-30T13:11:14.699995Z\", \"created_time_dt\": \"2021-01-30T13:11:14.699995Z\", \"duration\": \"0:01:03\", \"iteration\": \"1\", \"goal\": \"accuracy_max\", \"run_name\": \"MaxAbsScaler, XGBoostClassifier\", \"run_properties\": \"copy=True\", \"primary_metric\": 0.81795699, \"best_metric\": 0.81795699}, {\"run_id\": \"AutoML_4b3e9d87-95c4-4540-b56d-7cfc88ec52ac_0\", \"run_number\": 7, \"metric\": null, \"status\": \"Completed\", \"run_type\": \"azureml.scriptrun\", \"training_percent\": \"100\", \"start_time\": \"2021-01-30T13:12:26.046628Z\", \"end_time\": \"2021-01-30T13:13:26.070414Z\", \"created_time\": \"2021-01-30T13:11:14.708444Z\", \"created_time_dt\": \"2021-01-30T13:11:14.708444Z\", \"duration\": \"0:02:11\", \"iteration\": \"0\", \"goal\": \"accuracy_max\", \"run_name\": \"MaxAbsScaler, LightGBM\", \"run_properties\": \"copy=True\", \"primary_metric\": 0.81150538, \"best_metric\": 0.81150538}, {\"run_id\": \"AutoML_4b3e9d87-95c4-4540-b56d-7cfc88ec52ac_4\", \"run_number\": 8, \"metric\": null, \"status\": \"Completed\", \"run_type\": \"azureml.scriptrun\", \"training_percent\": \"100\", \"start_time\": \"2021-01-30T13:13:27.555088Z\", \"end_time\": \"2021-01-30T13:14:25.160717Z\", \"created_time\": \"2021-01-30T13:11:14.997275Z\", \"created_time_dt\": \"2021-01-30T13:11:14.997275Z\", \"duration\": \"0:03:10\", \"iteration\": \"4\", \"goal\": \"accuracy_max\", \"run_name\": \"MaxAbsScaler, RandomForest\", \"run_properties\": \"copy=True\", \"primary_metric\": 0.8344086, \"best_metric\": 0.8344086}, {\"run_id\": \"AutoML_4b3e9d87-95c4-4540-b56d-7cfc88ec52ac_2\", \"run_number\": 9, \"metric\": null, \"status\": \"Completed\", \"run_type\": \"azureml.scriptrun\", \"training_percent\": \"100\", \"start_time\": \"2021-01-30T13:14:16.851869Z\", \"end_time\": \"2021-01-30T13:17:43.716779Z\", \"created_time\": \"2021-01-30T13:11:14.697905Z\", \"created_time_dt\": \"2021-01-30T13:11:14.697905Z\", \"duration\": \"0:06:29\", \"iteration\": \"2\", \"goal\": \"accuracy_max\", \"run_name\": \"MaxAbsScaler, RandomForest\", \"run_properties\": \"copy=True\", \"primary_metric\": 0.82784946, \"best_metric\": 0.82784946}, {\"run_id\": \"AutoML_4b3e9d87-95c4-4540-b56d-7cfc88ec52ac_5\", \"run_number\": 10, \"metric\": null, \"status\": \"Completed\", \"run_type\": \"azureml.scriptrun\", \"training_percent\": \"100\", \"start_time\": \"2021-01-30T13:14:14.212164Z\", \"end_time\": \"2021-01-30T13:17:59.823138Z\", \"created_time\": \"2021-01-30T13:11:20.553811Z\", \"created_time_dt\": \"2021-01-30T13:11:20.553811Z\", \"duration\": \"0:06:39\", \"iteration\": \"5\", \"goal\": \"accuracy_max\", \"run_name\": \"MaxAbsScaler, RandomForest\", \"run_properties\": \"copy=True\", \"primary_metric\": 0.79129032, \"best_metric\": 0.8344086}, {\"run_id\": \"AutoML_4b3e9d87-95c4-4540-b56d-7cfc88ec52ac_6\", \"run_number\": 11, \"metric\": null, \"status\": \"Completed\", \"run_type\": \"azureml.scriptrun\", \"training_percent\": \"100\", \"start_time\": \"2021-01-30T13:14:18.121049Z\", \"end_time\": \"2021-01-30T13:17:46.206733Z\", \"created_time\": \"2021-01-30T13:12:22.944009Z\", \"created_time_dt\": \"2021-01-30T13:12:22.944009Z\", \"duration\": \"0:05:23\", \"iteration\": \"6\", \"goal\": \"accuracy_max\", \"run_name\": \"StandardScalerWrapper, XGBoostClassifier\", \"run_properties\": \"<azureml.automl.runtime.shared.model_wrappers.StandardScalerWrapper object at 0x7f3cdc452048\", \"primary_metric\": 0.83462366, \"best_metric\": 0.83462366}, {\"run_id\": \"AutoML_4b3e9d87-95c4-4540-b56d-7cfc88ec52ac_7\", \"run_number\": 12, \"metric\": null, \"status\": \"Completed\", \"run_type\": \"azureml.scriptrun\", \"training_percent\": \"100\", \"start_time\": \"2021-01-30T13:14:27.645243Z\", \"end_time\": \"2021-01-30T13:15:24.663207Z\", \"created_time\": \"2021-01-30T13:13:30.762204Z\", \"created_time_dt\": \"2021-01-30T13:13:30.762204Z\", \"duration\": \"0:01:53\", \"iteration\": \"7\", \"goal\": \"accuracy_max\", \"run_name\": \"MaxAbsScaler, GradientBoosting\", \"run_properties\": \"copy=True\", \"primary_metric\": 0.82817204, \"best_metric\": 0.83462366}, {\"run_id\": \"AutoML_4b3e9d87-95c4-4540-b56d-7cfc88ec52ac_8\", \"run_number\": 13, \"metric\": null, \"status\": \"Completed\", \"run_type\": \"azureml.scriptrun\", \"training_percent\": \"100\", \"start_time\": \"2021-01-30T13:15:28.738601Z\", \"end_time\": \"2021-01-30T13:16:30.366953Z\", \"created_time\": \"2021-01-30T13:14:27.469228Z\", \"created_time_dt\": \"2021-01-30T13:14:27.469228Z\", \"duration\": \"0:02:02\", \"iteration\": \"8\", \"goal\": \"accuracy_max\", \"run_name\": \"MaxAbsScaler, LogisticRegression\", \"run_properties\": \"copy=True\", \"primary_metric\": 0.83473118, \"best_metric\": 0.83473118}, {\"run_id\": \"AutoML_4b3e9d87-95c4-4540-b56d-7cfc88ec52ac_9\", \"run_number\": 14, \"metric\": null, \"status\": \"Completed\", \"run_type\": \"azureml.scriptrun\", \"training_percent\": \"100\", \"start_time\": \"2021-01-30T13:16:34.815894Z\", \"end_time\": \"2021-01-30T13:17:34.510564Z\", \"created_time\": \"2021-01-30T13:15:26.973636Z\", \"created_time_dt\": \"2021-01-30T13:15:26.973636Z\", \"duration\": \"0:02:07\", \"iteration\": \"9\", \"goal\": \"accuracy_max\", \"run_name\": \"MaxAbsScaler, LogisticRegression\", \"run_properties\": \"copy=True\", \"primary_metric\": 0.83473118, \"best_metric\": 0.83473118}, {\"run_id\": \"AutoML_4b3e9d87-95c4-4540-b56d-7cfc88ec52ac_10\", \"run_number\": 15, \"metric\": null, \"status\": \"Completed\", \"run_type\": \"azureml.scriptrun\", \"training_percent\": \"100\", \"start_time\": \"2021-01-30T13:17:34.645996Z\", \"end_time\": \"2021-01-30T13:18:28.036582Z\", \"created_time\": \"2021-01-30T13:16:32.593789Z\", \"created_time_dt\": \"2021-01-30T13:16:32.593789Z\", \"duration\": \"0:01:55\", \"iteration\": \"10\", \"goal\": \"accuracy_max\", \"run_name\": \"TruncatedSVDWrapper, XGBoostClassifier\", \"run_properties\": \"n_components=0.7026315789473684, random_state=None\", \"primary_metric\": 0.80494624, \"best_metric\": 0.83473118}, {\"run_id\": \"AutoML_4b3e9d87-95c4-4540-b56d-7cfc88ec52ac_11\", \"run_number\": 16, \"metric\": null, \"status\": \"Completed\", \"run_type\": \"azureml.scriptrun\", \"training_percent\": \"100\", \"start_time\": \"2021-01-30T13:17:47.408418Z\", \"end_time\": \"2021-01-30T13:18:41.444279Z\", \"created_time\": \"2021-01-30T13:17:37.255078Z\", \"created_time_dt\": \"2021-01-30T13:17:37.255078Z\", \"duration\": \"0:01:04\", \"iteration\": \"11\", \"goal\": \"accuracy_max\", \"run_name\": \"MaxAbsScaler, LightGBM\", \"run_properties\": \"copy=True\", \"primary_metric\": 0.84473118, \"best_metric\": 0.84473118}, {\"run_id\": \"AutoML_4b3e9d87-95c4-4540-b56d-7cfc88ec52ac_12\", \"run_number\": 17, \"metric\": null, \"status\": \"Completed\", \"run_type\": \"azureml.scriptrun\", \"training_percent\": \"100\", \"start_time\": \"2021-01-30T13:17:57.852163Z\", \"end_time\": \"2021-01-30T13:18:46.422082Z\", \"created_time\": \"2021-01-30T13:17:45.586601Z\", \"created_time_dt\": \"2021-01-30T13:17:45.586601Z\", \"duration\": \"0:01:00\", \"iteration\": \"12\", \"goal\": \"accuracy_max\", \"run_name\": \"TruncatedSVDWrapper, XGBoostClassifier\", \"run_properties\": \"n_components=0.5047368421052632, random_state=None\", \"primary_metric\": 0.79139785, \"best_metric\": 0.84473118}, {\"run_id\": \"AutoML_4b3e9d87-95c4-4540-b56d-7cfc88ec52ac_13\", \"run_number\": 18, \"metric\": null, \"status\": \"Completed\", \"run_type\": \"azureml.scriptrun\", \"training_percent\": \"100\", \"start_time\": \"2021-01-30T13:18:01.516373Z\", \"end_time\": \"2021-01-30T13:18:59.379047Z\", \"created_time\": \"2021-01-30T13:17:49.504798Z\", \"created_time_dt\": \"2021-01-30T13:17:49.504798Z\", \"duration\": \"0:01:09\", \"iteration\": \"13\", \"goal\": \"accuracy_max\", \"run_name\": \"MaxAbsScaler, LightGBM\", \"run_properties\": \"copy=True\", \"primary_metric\": 0.82473118, \"best_metric\": 0.84473118}, {\"run_id\": \"AutoML_4b3e9d87-95c4-4540-b56d-7cfc88ec52ac_14\", \"run_number\": 19, \"metric\": null, \"status\": \"Completed\", \"run_type\": \"azureml.scriptrun\", \"training_percent\": \"100\", \"start_time\": \"2021-01-30T13:18:30.815381Z\", \"end_time\": \"2021-01-30T13:19:32.234523Z\", \"created_time\": \"2021-01-30T13:18:02.007762Z\", \"created_time_dt\": \"2021-01-30T13:18:02.007762Z\", \"duration\": \"0:01:30\", \"iteration\": \"14\", \"goal\": \"accuracy_max\", \"run_name\": \"StandardScalerWrapper, XGBoostClassifier\", \"run_properties\": \"<azureml.automl.runtime.shared.model_wrappers.StandardScalerWrapper object at 0x7fc54e1b65c0\", \"primary_metric\": 0.8411828, \"best_metric\": 0.84473118}, {\"run_id\": \"AutoML_4b3e9d87-95c4-4540-b56d-7cfc88ec52ac_15\", \"run_number\": 20, \"metric\": null, \"status\": \"Completed\", \"run_type\": \"azureml.scriptrun\", \"training_percent\": \"100\", \"start_time\": \"2021-01-30T13:18:44.821654Z\", \"end_time\": \"2021-01-30T13:19:44.21924Z\", \"created_time\": \"2021-01-30T13:18:29.950396Z\", \"created_time_dt\": \"2021-01-30T13:18:29.950396Z\", \"duration\": \"0:01:14\", \"iteration\": \"15\", \"goal\": \"accuracy_max\", \"run_name\": \"TruncatedSVDWrapper, XGBoostClassifier\", \"run_properties\": \"n_components=0.7026315789473684, random_state=None\", \"primary_metric\": 0.75860215, \"best_metric\": 0.84473118}, {\"run_id\": \"AutoML_4b3e9d87-95c4-4540-b56d-7cfc88ec52ac_16\", \"run_number\": 21, \"metric\": null, \"status\": \"Completed\", \"run_type\": \"azureml.scriptrun\", \"training_percent\": \"100\", \"start_time\": \"2021-01-30T13:18:55.161376Z\", \"end_time\": \"2021-01-30T13:19:53.656821Z\", \"created_time\": \"2021-01-30T13:18:43.368193Z\", \"created_time_dt\": \"2021-01-30T13:18:43.368193Z\", \"duration\": \"0:01:10\", \"iteration\": \"16\", \"goal\": \"accuracy_max\", \"run_name\": \"MaxAbsScaler, LightGBM\", \"run_properties\": \"copy=True\", \"primary_metric\": 0.83150538, \"best_metric\": 0.84473118}, {\"run_id\": \"AutoML_4b3e9d87-95c4-4540-b56d-7cfc88ec52ac_17\", \"run_number\": 22, \"metric\": null, \"status\": \"Completed\", \"run_type\": \"azureml.scriptrun\", \"training_percent\": \"100\", \"start_time\": \"2021-01-30T13:19:04.354166Z\", \"end_time\": \"2021-01-30T13:20:03.315164Z\", \"created_time\": \"2021-01-30T13:18:48.460125Z\", \"created_time_dt\": \"2021-01-30T13:18:48.460125Z\", \"duration\": \"0:01:14\", \"iteration\": \"17\", \"goal\": \"accuracy_max\", \"run_name\": \"MaxAbsScaler, LightGBM\", \"run_properties\": \"copy=True\", \"primary_metric\": 0.81827957, \"best_metric\": 0.84473118}, {\"run_id\": \"AutoML_4b3e9d87-95c4-4540-b56d-7cfc88ec52ac_18\", \"run_number\": 23, \"metric\": null, \"status\": \"Completed\", \"run_type\": \"azureml.scriptrun\", \"training_percent\": \"100\", \"start_time\": \"2021-01-30T13:19:38.096103Z\", \"end_time\": \"2021-01-30T13:20:48.844228Z\", \"created_time\": \"2021-01-30T13:19:01.231976Z\", \"created_time_dt\": \"2021-01-30T13:19:01.231976Z\", \"duration\": \"0:01:47\", \"iteration\": \"18\", \"goal\": \"accuracy_max\", \"run_name\": \"SparseNormalizer, XGBoostClassifier\", \"run_properties\": \"<azureml.automl.runtime.shared.model_wrappers.SparseNormalizer object at 0x7fcf70d10d68\", \"primary_metric\": 0.83795699, \"best_metric\": 0.84473118}, {\"run_id\": \"AutoML_4b3e9d87-95c4-4540-b56d-7cfc88ec52ac_19\", \"run_number\": 24, \"metric\": null, \"status\": \"Completed\", \"run_type\": \"azureml.scriptrun\", \"training_percent\": \"100\", \"start_time\": \"2021-01-30T13:19:48.511841Z\", \"end_time\": \"2021-01-30T13:21:40.248976Z\", \"created_time\": \"2021-01-30T13:19:34.350838Z\", \"created_time_dt\": \"2021-01-30T13:19:34.350838Z\", \"duration\": \"0:02:05\", \"iteration\": \"19\", \"goal\": \"accuracy_max\", \"run_name\": \"SparseNormalizer, XGBoostClassifier\", \"run_properties\": \"<azureml.automl.runtime.shared.model_wrappers.SparseNormalizer object at 0x7fd92ed2cb38\", \"primary_metric\": 0.81150538, \"best_metric\": 0.84473118}, {\"run_id\": \"AutoML_4b3e9d87-95c4-4540-b56d-7cfc88ec52ac_20\", \"run_number\": 25, \"metric\": null, \"status\": \"Completed\", \"run_type\": \"azureml.scriptrun\", \"training_percent\": \"100\", \"start_time\": \"2021-01-30T13:20:00.35736Z\", \"end_time\": \"2021-01-30T13:21:51.980471Z\", \"created_time\": \"2021-01-30T13:19:46.569028Z\", \"created_time_dt\": \"2021-01-30T13:19:46.569028Z\", \"duration\": \"0:02:05\", \"iteration\": \"20\", \"goal\": \"accuracy_max\", \"run_name\": \"TruncatedSVDWrapper, XGBoostClassifier\", \"run_properties\": \"n_components=0.6036842105263158, random_state=None\", \"primary_metric\": 0.78505376, \"best_metric\": 0.84473118}, {\"run_id\": \"AutoML_4b3e9d87-95c4-4540-b56d-7cfc88ec52ac_21\", \"run_number\": 26, \"metric\": null, \"status\": \"Completed\", \"run_type\": \"azureml.scriptrun\", \"training_percent\": \"100\", \"start_time\": \"2021-01-30T13:20:08.010929Z\", \"end_time\": \"2021-01-30T13:21:06.325879Z\", \"created_time\": \"2021-01-30T13:19:55.664355Z\", \"created_time_dt\": \"2021-01-30T13:19:55.664355Z\", \"duration\": \"0:01:10\", \"iteration\": \"21\", \"goal\": \"accuracy_max\", \"run_name\": \"SparseNormalizer, XGBoostClassifier\", \"run_properties\": \"<azureml.automl.runtime.shared.model_wrappers.SparseNormalizer object at 0x7fa23bbb2f28\", \"primary_metric\": 0.82483871, \"best_metric\": 0.84473118}, {\"run_id\": \"AutoML_4b3e9d87-95c4-4540-b56d-7cfc88ec52ac_22\", \"run_number\": 27, \"metric\": null, \"status\": \"Completed\", \"run_type\": \"azureml.scriptrun\", \"training_percent\": \"100\", \"start_time\": \"2021-01-30T13:20:50.076434Z\", \"end_time\": \"2021-01-30T13:21:46.149547Z\", \"created_time\": \"2021-01-30T13:20:05.167303Z\", \"created_time_dt\": \"2021-01-30T13:20:05.167303Z\", \"duration\": \"0:01:40\", \"iteration\": \"22\", \"goal\": \"accuracy_max\", \"run_name\": \"MaxAbsScaler, LogisticRegression\", \"run_properties\": \"copy=True\", \"primary_metric\": 0.84419355, \"best_metric\": 0.84473118}, {\"run_id\": \"AutoML_4b3e9d87-95c4-4540-b56d-7cfc88ec52ac_23\", \"run_number\": 28, \"metric\": null, \"status\": \"Completed\", \"run_type\": \"azureml.scriptrun\", \"training_percent\": \"100\", \"start_time\": \"2021-01-30T13:21:07.703495Z\", \"end_time\": \"2021-01-30T13:22:01.580953Z\", \"created_time\": \"2021-01-30T13:20:51.212511Z\", \"created_time_dt\": \"2021-01-30T13:20:51.212511Z\", \"duration\": \"0:01:10\", \"iteration\": \"23\", \"goal\": \"accuracy_max\", \"run_name\": \"SparseNormalizer, XGBoostClassifier\", \"run_properties\": \"<azureml.automl.runtime.shared.model_wrappers.SparseNormalizer object at 0x7fa4d007d438\", \"primary_metric\": 0.83462366, \"best_metric\": 0.84473118}, {\"run_id\": \"AutoML_4b3e9d87-95c4-4540-b56d-7cfc88ec52ac_24\", \"run_number\": 29, \"metric\": null, \"status\": \"Completed\", \"run_type\": \"azureml.scriptrun\", \"training_percent\": \"100\", \"start_time\": \"2021-01-30T13:21:44.229354Z\", \"end_time\": \"2021-01-30T13:22:47.416937Z\", \"created_time\": \"2021-01-30T13:21:08.08881Z\", \"created_time_dt\": \"2021-01-30T13:21:08.08881Z\", \"duration\": \"0:01:39\", \"iteration\": \"24\", \"goal\": \"accuracy_max\", \"run_name\": \"SparseNormalizer, XGBoostClassifier\", \"run_properties\": \"<azureml.automl.runtime.shared.model_wrappers.SparseNormalizer object at 0x7fc2c42ad5f8\", \"primary_metric\": 0.81172043, \"best_metric\": 0.84473118}, {\"run_id\": \"AutoML_4b3e9d87-95c4-4540-b56d-7cfc88ec52ac_25\", \"run_number\": 30, \"metric\": null, \"status\": \"Completed\", \"run_type\": \"azureml.scriptrun\", \"training_percent\": \"100\", \"start_time\": \"2021-01-30T13:21:56.0781Z\", \"end_time\": \"2021-01-30T13:23:00.925018Z\", \"created_time\": \"2021-01-30T13:21:43.492184Z\", \"created_time_dt\": \"2021-01-30T13:21:43.492184Z\", \"duration\": \"0:01:17\", \"iteration\": \"25\", \"goal\": \"accuracy_max\", \"run_name\": \"TruncatedSVDWrapper, LightGBM\", \"run_properties\": \"n_components=0.9005263157894737, random_state=None\", \"primary_metric\": 0.77236559, \"best_metric\": 0.84473118}, {\"run_id\": \"AutoML_4b3e9d87-95c4-4540-b56d-7cfc88ec52ac_26\", \"run_number\": 31, \"metric\": null, \"status\": \"Completed\", \"run_type\": \"azureml.scriptrun\", \"training_percent\": \"100\", \"start_time\": \"2021-01-30T13:22:02.097279Z\", \"end_time\": \"2021-01-30T13:23:06.586556Z\", \"created_time\": \"2021-01-30T13:21:48.790753Z\", \"created_time_dt\": \"2021-01-30T13:21:48.790753Z\", \"duration\": \"0:01:17\", \"iteration\": \"26\", \"goal\": \"accuracy_max\", \"run_name\": \"MaxAbsScaler, RandomForest\", \"run_properties\": \"copy=True\", \"primary_metric\": 0.81150538, \"best_metric\": 0.84473118}, {\"run_id\": \"AutoML_4b3e9d87-95c4-4540-b56d-7cfc88ec52ac_27\", \"run_number\": 32, \"metric\": null, \"status\": \"Completed\", \"run_type\": \"azureml.scriptrun\", \"training_percent\": \"100\", \"start_time\": \"2021-01-30T13:22:07.677728Z\", \"end_time\": \"2021-01-30T13:22:59.177198Z\", \"created_time\": \"2021-01-30T13:21:54.530003Z\", \"created_time_dt\": \"2021-01-30T13:21:54.530003Z\", \"duration\": \"0:01:04\", \"iteration\": \"27\", \"goal\": \"accuracy_max\", \"run_name\": \"TruncatedSVDWrapper, XGBoostClassifier\", \"run_properties\": \"n_components=0.8015789473684211, random_state=None\", \"primary_metric\": 0.80473118, \"best_metric\": 0.84473118}, {\"run_id\": \"AutoML_4b3e9d87-95c4-4540-b56d-7cfc88ec52ac_28\", \"run_number\": 33, \"metric\": null, \"status\": \"Completed\", \"run_type\": \"azureml.scriptrun\", \"training_percent\": \"100\", \"start_time\": \"2021-01-30T13:22:52.253982Z\", \"end_time\": \"2021-01-30T13:23:49.362074Z\", \"created_time\": \"2021-01-30T13:22:03.83064Z\", \"created_time_dt\": \"2021-01-30T13:22:03.83064Z\", \"duration\": \"0:01:45\", \"iteration\": \"28\", \"goal\": \"accuracy_max\", \"run_name\": \"StandardScalerWrapper, GradientBoosting\", \"run_properties\": \"<azureml.automl.runtime.shared.model_wrappers.StandardScalerWrapper object at 0x7fba6aa24898\", \"primary_metric\": 0.83817204, \"best_metric\": 0.84473118}, {\"run_id\": \"AutoML_4b3e9d87-95c4-4540-b56d-7cfc88ec52ac_29\", \"run_number\": 34, \"metric\": null, \"status\": \"Completed\", \"run_type\": \"azureml.scriptrun\", \"training_percent\": \"100\", \"start_time\": \"2021-01-30T13:23:04.699295Z\", \"end_time\": \"2021-01-30T13:24:05.898116Z\", \"created_time\": \"2021-01-30T13:22:50.101014Z\", \"created_time_dt\": \"2021-01-30T13:22:50.101014Z\", \"duration\": \"0:01:15\", \"iteration\": \"29\", \"goal\": \"accuracy_max\", \"run_name\": \"TruncatedSVDWrapper, XGBoostClassifier\", \"run_properties\": \"n_components=0.9005263157894737, random_state=None\", \"primary_metric\": 0.80139785, \"best_metric\": 0.84473118}, {\"run_id\": \"AutoML_4b3e9d87-95c4-4540-b56d-7cfc88ec52ac_30\", \"run_number\": 35, \"metric\": null, \"status\": \"Completed\", \"run_type\": \"azureml.scriptrun\", \"training_percent\": \"100\", \"start_time\": \"2021-01-30T13:23:12.9767Z\", \"end_time\": \"2021-01-30T13:24:15.307503Z\", \"created_time\": \"2021-01-30T13:23:02.350262Z\", \"created_time_dt\": \"2021-01-30T13:23:02.350262Z\", \"duration\": \"0:01:12\", \"iteration\": \"30\", \"goal\": \"accuracy_max\", \"run_name\": \"MaxAbsScaler, LightGBM\", \"run_properties\": \"copy=True\", \"primary_metric\": 0.80182796, \"best_metric\": 0.84473118}, {\"run_id\": \"AutoML_4b3e9d87-95c4-4540-b56d-7cfc88ec52ac_31\", \"run_number\": 36, \"metric\": null, \"status\": \"Completed\", \"run_type\": \"azureml.scriptrun\", \"training_percent\": \"100\", \"start_time\": \"2021-01-30T13:23:18.082252Z\", \"end_time\": \"2021-01-30T13:24:06.963431Z\", \"created_time\": \"2021-01-30T13:23:05.20583Z\", \"created_time_dt\": \"2021-01-30T13:23:05.20583Z\", \"duration\": \"0:01:01\", \"iteration\": \"31\", \"goal\": \"accuracy_max\", \"run_name\": \"MaxAbsScaler, LogisticRegression\", \"run_properties\": \"copy=True\", \"primary_metric\": 0.82129032, \"best_metric\": 0.84473118}, {\"run_id\": \"AutoML_4b3e9d87-95c4-4540-b56d-7cfc88ec52ac_32\", \"run_number\": 37, \"metric\": null, \"status\": \"Completed\", \"run_type\": \"azureml.scriptrun\", \"training_percent\": \"100\", \"start_time\": \"2021-01-30T13:23:52.55791Z\", \"end_time\": \"2021-01-30T13:24:44.520494Z\", \"created_time\": \"2021-01-30T13:23:09.84877Z\", \"created_time_dt\": \"2021-01-30T13:23:09.84877Z\", \"duration\": \"0:01:34\", \"iteration\": \"32\", \"goal\": \"accuracy_max\", \"run_name\": \"MaxAbsScaler, LogisticRegression\", \"run_properties\": \"copy=True\", \"primary_metric\": 0.82795699, \"best_metric\": 0.84473118}, {\"run_id\": \"AutoML_4b3e9d87-95c4-4540-b56d-7cfc88ec52ac_33\", \"run_number\": 38, \"metric\": null, \"status\": \"Completed\", \"run_type\": \"azureml.scriptrun\", \"training_percent\": \"100\", \"start_time\": \"2021-01-30T13:24:10.281125Z\", \"end_time\": \"2021-01-30T13:25:08.665087Z\", \"created_time\": \"2021-01-30T13:23:52.381224Z\", \"created_time_dt\": \"2021-01-30T13:23:52.381224Z\", \"duration\": \"0:01:16\", \"iteration\": \"33\", \"goal\": \"accuracy_max\", \"run_name\": \"MaxAbsScaler, LogisticRegression\", \"run_properties\": \"copy=True\", \"primary_metric\": 0.82129032, \"best_metric\": 0.84473118}, {\"run_id\": \"AutoML_4b3e9d87-95c4-4540-b56d-7cfc88ec52ac_34\", \"run_number\": 39, \"metric\": null, \"status\": \"Completed\", \"run_type\": \"azureml.scriptrun\", \"training_percent\": \"100\", \"start_time\": \"2021-01-30T13:24:19.572225Z\", \"end_time\": \"2021-01-30T13:25:08.972014Z\", \"created_time\": \"2021-01-30T13:24:07.574886Z\", \"created_time_dt\": \"2021-01-30T13:24:07.574886Z\", \"duration\": \"0:01:01\", \"iteration\": \"34\", \"goal\": \"accuracy_max\", \"run_name\": \"MaxAbsScaler, LogisticRegression\", \"run_properties\": \"copy=True\", \"primary_metric\": 0.82129032, \"best_metric\": 0.84473118}, {\"run_id\": \"AutoML_4b3e9d87-95c4-4540-b56d-7cfc88ec52ac_35\", \"run_number\": 40, \"metric\": null, \"status\": \"Canceled\", \"run_type\": \"azureml.scriptrun\", \"training_percent\": \"100\", \"start_time\": \"2021-01-30T13:24:23.084544Z\", \"end_time\": \"2021-01-30T13:25:17.748926Z\", \"created_time\": \"2021-01-30T13:24:11.689691Z\", \"created_time_dt\": \"2021-01-30T13:24:11.689691Z\", \"duration\": \"0:01:06\", \"iteration\": \"35\", \"goal\": \"accuracy_max\", \"run_name\": \"TruncatedSVDWrapper, LightGBM\", \"run_properties\": \"n_components=0.6531578947368422, random_state=None\", \"primary_metric\": 0.7388172, \"best_metric\": 0.84473118}, {\"run_id\": \"AutoML_4b3e9d87-95c4-4540-b56d-7cfc88ec52ac_36\", \"run_number\": 41, \"metric\": null, \"status\": \"Canceled\", \"run_type\": \"azureml.scriptrun\", \"training_percent\": \"100\", \"start_time\": \"2021-01-30T13:24:47.636744Z\", \"end_time\": \"2021-01-30T13:25:16.801135Z\", \"created_time\": \"2021-01-30T13:24:18.368657Z\", \"created_time_dt\": \"2021-01-30T13:24:18.368657Z\", \"duration\": \"0:00:58\", \"iteration\": \"36\", \"goal\": null, \"run_name\": \"SparseNormalizer, XGBoostClassifier\", \"run_properties\": null}, {\"run_id\": \"AutoML_4b3e9d87-95c4-4540-b56d-7cfc88ec52ac_37\", \"run_number\": 42, \"metric\": null, \"status\": \"Canceled\", \"run_type\": \"azureml.scriptrun\", \"training_percent\": \"100\", \"start_time\": \"2021-01-30T13:24:46.942728Z\", \"end_time\": \"2021-01-30T13:25:15.484053Z\", \"created_time\": \"2021-01-30T13:24:46.942728Z\", \"created_time_dt\": \"2021-01-30T13:24:46.942728Z\", \"duration\": \"0:00:28\", \"iteration\": \"37\", \"goal\": null, \"run_name\": \"Canceled\", \"run_properties\": null}, {\"run_id\": \"AutoML_4b3e9d87-95c4-4540-b56d-7cfc88ec52ac_38\", \"run_number\": 43, \"metric\": null, \"status\": \"Completed\", \"run_type\": \"azureml.scriptrun\", \"training_percent\": \"100\", \"start_time\": \"2021-01-30T13:25:31.954969Z\", \"end_time\": \"2021-01-30T13:27:19.493992Z\", \"created_time\": \"2021-01-30T13:25:19.219188Z\", \"created_time_dt\": \"2021-01-30T13:25:19.219188Z\", \"duration\": \"0:02:00\", \"iteration\": \"38\", \"goal\": \"accuracy_max\", \"run_name\": \"VotingEnsemble\", \"run_properties\": \"classification_labels=None,\\n                              estimators=[('11',\\n                                           Pipeline(memory=None,\\n                                                    steps=[('maxabsscaler',\\n                                                            MaxAbsScaler(copy=True\", \"primary_metric\": 0.8644086, \"best_metric\": 0.8644086}], \"children_metrics\": {\"categories\": [0], \"series\": {\"balanced_accuracy\": [{\"categories\": [\"0\", \"1\", \"2\", \"4\", \"5\", \"6\", \"7\", \"8\", \"9\", \"10\", \"11\", \"12\", \"13\", \"14\", \"15\", \"16\", \"17\", \"18\", \"19\", \"20\", \"21\", \"22\", \"23\", \"24\", \"25\", \"26\", \"27\", \"28\", \"29\", \"30\", \"31\", \"32\", \"33\", \"34\", \"35\", \"38\"], \"mode\": \"markers\", \"name\": \"balanced_accuracy\", \"stepped\": false, \"type\": \"scatter\", \"data\": [0.8071990726421842, 0.8115750673045564, 0.825359910986846, 0.8317910778591895, 0.7894828694267548, 0.8294532256529161, 0.8250098903504475, 0.8312937973619089, 0.8312937973619089, 0.8001088252133144, 0.8379696112281252, 0.7847764544107425, 0.8198532453099017, 0.8376416110549236, 0.7543615077303159, 0.8268417573138936, 0.8166178023472916, 0.8345225283402528, 0.8078256661209448, 0.783167209897086, 0.8159899732190752, 0.8417382804244259, 0.8313012621623302, 0.8063563715266504, 0.7595846821736915, 0.8059929441043991, 0.7965398941443833, 0.8326984934570074, 0.7923331031283818, 0.7872733997598549, 0.8194067078432404, 0.8248160645683864, 0.8194067078432404, 0.8194067078432404, 0.7221055773861502, 0.8588628509003897]}, {\"categories\": [\"0\", \"1\", \"2\", \"4\", \"5\", \"6\", \"7\", \"8\", \"9\", \"10\", \"11\", \"12\", \"13\", \"14\", \"15\", \"16\", \"17\", \"18\", \"19\", \"20\", \"21\", \"22\", \"23\", \"24\", \"25\", \"26\", \"27\", \"28\", \"29\", \"30\", \"31\", \"32\", \"33\", \"34\", \"35\", \"38\"], \"mode\": \"lines\", \"name\": \"balanced_accuracy_max\", \"stepped\": true, \"type\": \"scatter\", \"data\": [0.8071990726421842, 0.8115750673045564, 0.825359910986846, 0.8317910778591895, 0.8317910778591895, 0.8317910778591895, 0.8317910778591895, 0.8317910778591895, 0.8317910778591895, 0.8317910778591895, 0.8379696112281252, 0.8379696112281252, 0.8379696112281252, 0.8379696112281252, 0.8379696112281252, 0.8379696112281252, 0.8379696112281252, 0.8379696112281252, 0.8379696112281252, 0.8379696112281252, 0.8379696112281252, 0.8417382804244259, 0.8417382804244259, 0.8417382804244259, 0.8417382804244259, 0.8417382804244259, 0.8417382804244259, 0.8417382804244259, 0.8417382804244259, 0.8417382804244259, 0.8417382804244259, 0.8417382804244259, 0.8417382804244259, 0.8417382804244259, 0.8417382804244259, 0.8588628509003897]}], \"matthews_correlation\": [{\"categories\": [\"0\", \"1\", \"2\", \"4\", \"5\", \"6\", \"7\", \"8\", \"9\", \"10\", \"11\", \"12\", \"13\", \"14\", \"15\", \"16\", \"17\", \"18\", \"19\", \"20\", \"21\", \"22\", \"23\", \"24\", \"25\", \"26\", \"27\", \"28\", \"29\", \"30\", \"31\", \"32\", \"33\", \"34\", \"35\", \"38\"], \"mode\": \"markers\", \"name\": \"matthews_correlation\", \"stepped\": false, \"type\": \"scatter\", \"data\": [0.6281999109043686, 0.6331746195926933, 0.6520238995062916, 0.6688440946346443, 0.5826624620619297, 0.6657249309757818, 0.6534614718710018, 0.6712570647179581, 0.6712570647179581, 0.607314533455531, 0.6825265448819405, 0.576620627777403, 0.6484315985505903, 0.6807980166636652, 0.5128423827249021, 0.6575589228961929, 0.6347076838942708, 0.6720230866493122, 0.6174274079838302, 0.5672839931041352, 0.6422911578644277, 0.6884727338865677, 0.6658157818992307, 0.6198641862369547, 0.5507671213266286, 0.6192210255767578, 0.6005749527879456, 0.6715467883469111, 0.5951218139667647, 0.6024335055125183, 0.6460243009601208, 0.6584512424003264, 0.6460243009601208, 0.6460243009601208, 0.4785910473975192, 0.7219474375716254]}, {\"categories\": [\"0\", \"1\", \"2\", \"4\", \"5\", \"6\", \"7\", \"8\", \"9\", \"10\", \"11\", \"12\", \"13\", \"14\", \"15\", \"16\", \"17\", \"18\", \"19\", \"20\", \"21\", \"22\", \"23\", \"24\", \"25\", \"26\", \"27\", \"28\", \"29\", \"30\", \"31\", \"32\", \"33\", \"34\", \"35\", \"38\"], \"mode\": \"lines\", \"name\": \"matthews_correlation_max\", \"stepped\": true, \"type\": \"scatter\", \"data\": [0.6281999109043686, 0.6331746195926933, 0.6520238995062916, 0.6688440946346443, 0.6688440946346443, 0.6688440946346443, 0.6688440946346443, 0.6712570647179581, 0.6712570647179581, 0.6712570647179581, 0.6825265448819405, 0.6825265448819405, 0.6825265448819405, 0.6825265448819405, 0.6825265448819405, 0.6825265448819405, 0.6825265448819405, 0.6825265448819405, 0.6825265448819405, 0.6825265448819405, 0.6825265448819405, 0.6884727338865677, 0.6884727338865677, 0.6884727338865677, 0.6884727338865677, 0.6884727338865677, 0.6884727338865677, 0.6884727338865677, 0.6884727338865677, 0.6884727338865677, 0.6884727338865677, 0.6884727338865677, 0.6884727338865677, 0.6884727338865677, 0.6884727338865677, 0.7219474375716254]}], \"f1_score_micro\": [{\"categories\": [\"0\", \"1\", \"2\", \"4\", \"5\", \"6\", \"7\", \"8\", \"9\", \"10\", \"11\", \"12\", \"13\", \"14\", \"15\", \"16\", \"17\", \"18\", \"19\", \"20\", \"21\", \"22\", \"23\", \"24\", \"25\", \"26\", \"27\", \"28\", \"29\", \"30\", \"31\", \"32\", \"33\", \"34\", \"35\", \"38\"], \"mode\": \"markers\", \"name\": \"f1_score_micro\", \"stepped\": false, \"type\": \"scatter\", \"data\": [0.811505376344086, 0.8179569892473119, 0.8278494623655914, 0.8344086021505378, 0.7912903225806451, 0.8346236559139785, 0.8281720430107526, 0.8347311827956988, 0.8347311827956988, 0.8049462365591399, 0.8447311827956991, 0.7913978494623656, 0.824731182795699, 0.841182795698925, 0.7586021505376344, 0.831505376344086, 0.818279569892473, 0.837956989247312, 0.811505376344086, 0.7850537634408602, 0.8248387096774193, 0.8441935483870969, 0.8346236559139785, 0.8117204301075269, 0.7723655913978495, 0.811505376344086, 0.8047311827956989, 0.8381720430107528, 0.8013978494623656, 0.8018279569892475, 0.8212903225806449, 0.8279569892473118, 0.8212903225806449, 0.8212903225806449, 0.7388172043010753, 0.8644086021505377]}, {\"categories\": [\"0\", \"1\", \"2\", \"4\", \"5\", \"6\", \"7\", \"8\", \"9\", \"10\", \"11\", \"12\", \"13\", \"14\", \"15\", \"16\", \"17\", \"18\", \"19\", \"20\", \"21\", \"22\", \"23\", \"24\", \"25\", \"26\", \"27\", \"28\", \"29\", \"30\", \"31\", \"32\", \"33\", \"34\", \"35\", \"38\"], \"mode\": \"lines\", \"name\": \"f1_score_micro_max\", \"stepped\": true, \"type\": \"scatter\", \"data\": [0.811505376344086, 0.8179569892473119, 0.8278494623655914, 0.8344086021505378, 0.8344086021505378, 0.8346236559139785, 0.8346236559139785, 0.8347311827956988, 0.8347311827956988, 0.8347311827956988, 0.8447311827956991, 0.8447311827956991, 0.8447311827956991, 0.8447311827956991, 0.8447311827956991, 0.8447311827956991, 0.8447311827956991, 0.8447311827956991, 0.8447311827956991, 0.8447311827956991, 0.8447311827956991, 0.8447311827956991, 0.8447311827956991, 0.8447311827956991, 0.8447311827956991, 0.8447311827956991, 0.8447311827956991, 0.8447311827956991, 0.8447311827956991, 0.8447311827956991, 0.8447311827956991, 0.8447311827956991, 0.8447311827956991, 0.8447311827956991, 0.8447311827956991, 0.8644086021505377]}], \"weighted_accuracy\": [{\"categories\": [\"0\", \"1\", \"2\", \"4\", \"5\", \"6\", \"7\", \"8\", \"9\", \"10\", \"11\", \"12\", \"13\", \"14\", \"15\", \"16\", \"17\", \"18\", \"19\", \"20\", \"21\", \"22\", \"23\", \"24\", \"25\", \"26\", \"27\", \"28\", \"29\", \"30\", \"31\", \"32\", \"33\", \"34\", \"35\", \"38\"], \"mode\": \"markers\", \"name\": \"weighted_accuracy\", \"stepped\": false, \"type\": \"scatter\", \"data\": [0.815316867788248, 0.8236140706065846, 0.8301513470939806, 0.8366264922541753, 0.7928328791955097, 0.8390730342250918, 0.831136841914257, 0.837751600524251, 0.837751600524251, 0.8090495518928448, 0.8505969658103002, 0.7972644726708753, 0.8288544989276992, 0.844287573613945, 0.7621094706537028, 0.835675453673938, 0.8197191030776614, 0.8409212030665556, 0.8148013428932555, 0.7866033707592128, 0.8326391775364442, 0.8463211655910563, 0.8374652832386044, 0.8164630949834963, 0.7834754378343456, 0.8162720167092677, 0.8117470938352425, 0.8430658843409183, 0.8092018135529987, 0.8146796387717842, 0.8229765655492752, 0.830764628109122, 0.8229765655492752, 0.8229765655492752, 0.7534764696889837, 0.869337230041231]}, {\"categories\": [\"0\", \"1\", \"2\", \"4\", \"5\", \"6\", \"7\", \"8\", \"9\", \"10\", \"11\", \"12\", \"13\", \"14\", \"15\", \"16\", \"17\", \"18\", \"19\", \"20\", \"21\", \"22\", \"23\", \"24\", \"25\", \"26\", \"27\", \"28\", \"29\", \"30\", \"31\", \"32\", \"33\", \"34\", \"35\", \"38\"], \"mode\": \"lines\", \"name\": \"weighted_accuracy_max\", \"stepped\": true, \"type\": \"scatter\", \"data\": [0.815316867788248, 0.8236140706065846, 0.8301513470939806, 0.8366264922541753, 0.8366264922541753, 0.8390730342250918, 0.8390730342250918, 0.8390730342250918, 0.8390730342250918, 0.8390730342250918, 0.8505969658103002, 0.8505969658103002, 0.8505969658103002, 0.8505969658103002, 0.8505969658103002, 0.8505969658103002, 0.8505969658103002, 0.8505969658103002, 0.8505969658103002, 0.8505969658103002, 0.8505969658103002, 0.8505969658103002, 0.8505969658103002, 0.8505969658103002, 0.8505969658103002, 0.8505969658103002, 0.8505969658103002, 0.8505969658103002, 0.8505969658103002, 0.8505969658103002, 0.8505969658103002, 0.8505969658103002, 0.8505969658103002, 0.8505969658103002, 0.8505969658103002, 0.869337230041231]}], \"average_precision_score_macro\": [{\"categories\": [\"0\", \"1\", \"2\", \"4\", \"5\", \"6\", \"7\", \"8\", \"9\", \"10\", \"11\", \"12\", \"13\", \"14\", \"15\", \"16\", \"17\", \"18\", \"19\", \"20\", \"21\", \"22\", \"23\", \"24\", \"25\", \"26\", \"27\", \"28\", \"29\", \"30\", \"31\", \"32\", \"33\", \"34\", \"35\", \"38\"], \"mode\": \"markers\", \"name\": \"average_precision_score_macro\", \"stepped\": false, \"type\": \"scatter\", \"data\": [0.8867812599152358, 0.8970532796237158, 0.9011338337626457, 0.912424744956206, 0.89502454291675, 0.9121555385554858, 0.9173888823374654, 0.9079722809927715, 0.907238542541623, 0.8851659096757623, 0.9105696578179024, 0.8828113311652986, 0.9025410500017805, 0.9120866932341098, 0.8333621439282337, 0.9076965610156172, 0.899440127888657, 0.8987027616314627, 0.9009416852265607, 0.8734250438371636, 0.9016042329257793, 0.9183101920301716, 0.8724793475739201, 0.8878905394934584, 0.8687417125084231, 0.8996852071839646, 0.8768447794190447, 0.908806675889352, 0.8763364362463832, 0.8978681818289631, 0.9080109837127042, 0.9062593518428674, 0.9084963277041018, 0.9084963277041018, 0.8329250276955669, 0.9204482127575584]}, {\"categories\": [\"0\", \"1\", \"2\", \"4\", \"5\", \"6\", \"7\", \"8\", \"9\", \"10\", \"11\", \"12\", \"13\", \"14\", \"15\", \"16\", \"17\", \"18\", \"19\", \"20\", \"21\", \"22\", \"23\", \"24\", \"25\", \"26\", \"27\", \"28\", \"29\", \"30\", \"31\", \"32\", \"33\", \"34\", \"35\", \"38\"], \"mode\": \"lines\", \"name\": \"average_precision_score_macro_max\", \"stepped\": true, \"type\": \"scatter\", \"data\": [0.8867812599152358, 0.8970532796237158, 0.9011338337626457, 0.912424744956206, 0.912424744956206, 0.912424744956206, 0.9173888823374654, 0.9173888823374654, 0.9173888823374654, 0.9173888823374654, 0.9173888823374654, 0.9173888823374654, 0.9173888823374654, 0.9173888823374654, 0.9173888823374654, 0.9173888823374654, 0.9173888823374654, 0.9173888823374654, 0.9173888823374654, 0.9173888823374654, 0.9173888823374654, 0.9183101920301716, 0.9183101920301716, 0.9183101920301716, 0.9183101920301716, 0.9183101920301716, 0.9183101920301716, 0.9183101920301716, 0.9183101920301716, 0.9183101920301716, 0.9183101920301716, 0.9183101920301716, 0.9183101920301716, 0.9183101920301716, 0.9183101920301716, 0.9204482127575584]}], \"recall_score_weighted\": [{\"categories\": [\"0\", \"1\", \"2\", \"4\", \"5\", \"6\", \"7\", \"8\", \"9\", \"10\", \"11\", \"12\", \"13\", \"14\", \"15\", \"16\", \"17\", \"18\", \"19\", \"20\", \"21\", \"22\", \"23\", \"24\", \"25\", \"26\", \"27\", \"28\", \"29\", \"30\", \"31\", \"32\", \"33\", \"34\", \"35\", \"38\"], \"mode\": \"markers\", \"name\": \"recall_score_weighted\", \"stepped\": false, \"type\": \"scatter\", \"data\": [0.811505376344086, 0.8179569892473119, 0.8278494623655913, 0.8344086021505378, 0.7912903225806451, 0.8346236559139785, 0.8281720430107526, 0.8347311827956988, 0.8347311827956988, 0.8049462365591398, 0.8447311827956991, 0.7913978494623656, 0.824731182795699, 0.841182795698925, 0.7586021505376344, 0.831505376344086, 0.818279569892473, 0.837956989247312, 0.811505376344086, 0.7850537634408602, 0.8248387096774193, 0.8441935483870969, 0.8346236559139785, 0.8117204301075269, 0.7723655913978494, 0.811505376344086, 0.8047311827956989, 0.8381720430107528, 0.8013978494623656, 0.8018279569892475, 0.8212903225806449, 0.8279569892473118, 0.8212903225806449, 0.8212903225806449, 0.7388172043010753, 0.8644086021505377]}, {\"categories\": [\"0\", \"1\", \"2\", \"4\", \"5\", \"6\", \"7\", \"8\", \"9\", \"10\", \"11\", \"12\", \"13\", \"14\", \"15\", \"16\", \"17\", \"18\", \"19\", \"20\", \"21\", \"22\", \"23\", \"24\", \"25\", \"26\", \"27\", \"28\", \"29\", \"30\", \"31\", \"32\", \"33\", \"34\", \"35\", \"38\"], \"mode\": \"lines\", \"name\": \"recall_score_weighted_max\", \"stepped\": true, \"type\": \"scatter\", \"data\": [0.811505376344086, 0.8179569892473119, 0.8278494623655913, 0.8344086021505378, 0.8344086021505378, 0.8346236559139785, 0.8346236559139785, 0.8347311827956988, 0.8347311827956988, 0.8347311827956988, 0.8447311827956991, 0.8447311827956991, 0.8447311827956991, 0.8447311827956991, 0.8447311827956991, 0.8447311827956991, 0.8447311827956991, 0.8447311827956991, 0.8447311827956991, 0.8447311827956991, 0.8447311827956991, 0.8447311827956991, 0.8447311827956991, 0.8447311827956991, 0.8447311827956991, 0.8447311827956991, 0.8447311827956991, 0.8447311827956991, 0.8447311827956991, 0.8447311827956991, 0.8447311827956991, 0.8447311827956991, 0.8447311827956991, 0.8447311827956991, 0.8447311827956991, 0.8644086021505377]}], \"log_loss\": [{\"categories\": [\"0\", \"1\", \"2\", \"4\", \"5\", \"6\", \"7\", \"8\", \"9\", \"10\", \"11\", \"12\", \"13\", \"14\", \"15\", \"16\", \"17\", \"18\", \"19\", \"20\", \"21\", \"22\", \"23\", \"24\", \"25\", \"26\", \"27\", \"28\", \"29\", \"30\", \"31\", \"32\", \"33\", \"34\", \"35\", \"38\"], \"mode\": \"markers\", \"name\": \"log_loss\", \"stepped\": false, \"type\": \"scatter\", \"data\": [0.5268000663868162, 0.4398173368615275, 0.4094553328648754, 0.3943609564839445, 0.4629514855869412, 0.3979910199151824, 0.3788423303889055, 0.41025817039833273, 0.4172071059720772, 0.45151989040418117, 0.400068442963328, 0.44016097993874803, 0.42135727633207287, 0.38539674113609645, 0.5237906048331282, 0.3902587167506202, 0.4576003141513706, 0.4012052149104416, 0.4082559980707911, 0.45842410195664884, 0.41945737188458676, 0.3717849271858892, 0.49398459760106117, 0.47410691081831996, 0.5857405940086439, 0.4187342978599918, 0.4533315298023216, 0.4045765225392112, 0.47887397577083124, 0.534981066803356, 0.40792770582814397, 0.4172458060147548, 0.41231659433659484, 0.4123064218800391, 0.6000772980908639, 0.37827633854702897]}, {\"categories\": [\"0\", \"1\", \"2\", \"4\", \"5\", \"6\", \"7\", \"8\", \"9\", \"10\", \"11\", \"12\", \"13\", \"14\", \"15\", \"16\", \"17\", \"18\", \"19\", \"20\", \"21\", \"22\", \"23\", \"24\", \"25\", \"26\", \"27\", \"28\", \"29\", \"30\", \"31\", \"32\", \"33\", \"34\", \"35\", \"38\"], \"mode\": \"lines\", \"name\": \"log_loss_min\", \"stepped\": true, \"type\": \"scatter\", \"data\": [0.5268000663868162, 0.4398173368615275, 0.4094553328648754, 0.3943609564839445, 0.3943609564839445, 0.3943609564839445, 0.3788423303889055, 0.3788423303889055, 0.3788423303889055, 0.3788423303889055, 0.3788423303889055, 0.3788423303889055, 0.3788423303889055, 0.3788423303889055, 0.3788423303889055, 0.3788423303889055, 0.3788423303889055, 0.3788423303889055, 0.3788423303889055, 0.3788423303889055, 0.3788423303889055, 0.3717849271858892, 0.3717849271858892, 0.3717849271858892, 0.3717849271858892, 0.3717849271858892, 0.3717849271858892, 0.3717849271858892, 0.3717849271858892, 0.3717849271858892, 0.3717849271858892, 0.3717849271858892, 0.3717849271858892, 0.3717849271858892, 0.3717849271858892, 0.3717849271858892]}], \"AUC_micro\": [{\"categories\": [\"0\", \"1\", \"2\", \"4\", \"5\", \"6\", \"7\", \"8\", \"9\", \"10\", \"11\", \"12\", \"13\", \"14\", \"15\", \"16\", \"17\", \"18\", \"19\", \"20\", \"21\", \"22\", \"23\", \"24\", \"25\", \"26\", \"27\", \"28\", \"29\", \"30\", \"31\", \"32\", \"33\", \"34\", \"35\", \"38\"], \"mode\": \"markers\", \"name\": \"AUC_micro\", \"stepped\": false, \"type\": \"scatter\", \"data\": [0.8751829113192275, 0.8874298762862759, 0.8966504798242573, 0.9049309746791536, 0.880638108451844, 0.9089943346051568, 0.9090049716730257, 0.9025816857440165, 0.9015269973407329, 0.8793099780321423, 0.9067069025320846, 0.8707561567811307, 0.8951811770146838, 0.9049838131575905, 0.8302075384437508, 0.904414036304775, 0.8900929587235519, 0.9015498901607121, 0.8950631286853972, 0.865278182448838, 0.8978514279107411, 0.913363047751185, 0.8766978841484565, 0.8883487108336224, 0.8442655798358192, 0.8939131691525033, 0.8706715227193895, 0.9044810960804718, 0.869054110301769, 0.886239449647358, 0.9021442941380506, 0.9000067059775695, 0.9012695109261186, 0.9012695109261186, 0.8105390218522371, 0.9133383050063593]}, {\"categories\": [\"0\", \"1\", \"2\", \"4\", \"5\", \"6\", \"7\", \"8\", \"9\", \"10\", \"11\", \"12\", \"13\", \"14\", \"15\", \"16\", \"17\", \"18\", \"19\", \"20\", \"21\", \"22\", \"23\", \"24\", \"25\", \"26\", \"27\", \"28\", \"29\", \"30\", \"31\", \"32\", \"33\", \"34\", \"35\", \"38\"], \"mode\": \"lines\", \"name\": \"AUC_micro_max\", \"stepped\": true, \"type\": \"scatter\", \"data\": [0.8751829113192275, 0.8874298762862759, 0.8966504798242573, 0.9049309746791536, 0.9049309746791536, 0.9089943346051568, 0.9090049716730257, 0.9090049716730257, 0.9090049716730257, 0.9090049716730257, 0.9090049716730257, 0.9090049716730257, 0.9090049716730257, 0.9090049716730257, 0.9090049716730257, 0.9090049716730257, 0.9090049716730257, 0.9090049716730257, 0.9090049716730257, 0.9090049716730257, 0.9090049716730257, 0.913363047751185, 0.913363047751185, 0.913363047751185, 0.913363047751185, 0.913363047751185, 0.913363047751185, 0.913363047751185, 0.913363047751185, 0.913363047751185, 0.913363047751185, 0.913363047751185, 0.913363047751185, 0.913363047751185, 0.913363047751185, 0.913363047751185]}], \"accuracy\": [{\"categories\": [\"0\", \"1\", \"2\", \"4\", \"5\", \"6\", \"7\", \"8\", \"9\", \"10\", \"11\", \"12\", \"13\", \"14\", \"15\", \"16\", \"17\", \"18\", \"19\", \"20\", \"21\", \"22\", \"23\", \"24\", \"25\", \"26\", \"27\", \"28\", \"29\", \"30\", \"31\", \"32\", \"33\", \"34\", \"35\", \"38\"], \"mode\": \"markers\", \"name\": \"accuracy\", \"stepped\": false, \"type\": \"scatter\", \"data\": [0.811505376344086, 0.8179569892473119, 0.8278494623655913, 0.8344086021505378, 0.7912903225806451, 0.8346236559139785, 0.8281720430107526, 0.8347311827956988, 0.8347311827956988, 0.8049462365591398, 0.8447311827956991, 0.7913978494623656, 0.824731182795699, 0.841182795698925, 0.7586021505376344, 0.831505376344086, 0.818279569892473, 0.837956989247312, 0.811505376344086, 0.7850537634408602, 0.8248387096774193, 0.8441935483870969, 0.8346236559139785, 0.8117204301075269, 0.7723655913978494, 0.811505376344086, 0.8047311827956989, 0.8381720430107528, 0.8013978494623656, 0.8018279569892475, 0.8212903225806449, 0.8279569892473118, 0.8212903225806449, 0.8212903225806449, 0.7388172043010753, 0.8644086021505377]}, {\"categories\": [\"0\", \"1\", \"2\", \"4\", \"5\", \"6\", \"7\", \"8\", \"9\", \"10\", \"11\", \"12\", \"13\", \"14\", \"15\", \"16\", \"17\", \"18\", \"19\", \"20\", \"21\", \"22\", \"23\", \"24\", \"25\", \"26\", \"27\", \"28\", \"29\", \"30\", \"31\", \"32\", \"33\", \"34\", \"35\", \"38\"], \"mode\": \"lines\", \"name\": \"accuracy_max\", \"stepped\": true, \"type\": \"scatter\", \"data\": [0.811505376344086, 0.8179569892473119, 0.8278494623655913, 0.8344086021505378, 0.8344086021505378, 0.8346236559139785, 0.8346236559139785, 0.8347311827956988, 0.8347311827956988, 0.8347311827956988, 0.8447311827956991, 0.8447311827956991, 0.8447311827956991, 0.8447311827956991, 0.8447311827956991, 0.8447311827956991, 0.8447311827956991, 0.8447311827956991, 0.8447311827956991, 0.8447311827956991, 0.8447311827956991, 0.8447311827956991, 0.8447311827956991, 0.8447311827956991, 0.8447311827956991, 0.8447311827956991, 0.8447311827956991, 0.8447311827956991, 0.8447311827956991, 0.8447311827956991, 0.8447311827956991, 0.8447311827956991, 0.8447311827956991, 0.8447311827956991, 0.8447311827956991, 0.8644086021505377]}], \"precision_score_macro\": [{\"categories\": [\"0\", \"1\", \"2\", \"4\", \"5\", \"6\", \"7\", \"8\", \"9\", \"10\", \"11\", \"12\", \"13\", \"14\", \"15\", \"16\", \"17\", \"18\", \"19\", \"20\", \"21\", \"22\", \"23\", \"24\", \"25\", \"26\", \"27\", \"28\", \"29\", \"30\", \"31\", \"32\", \"33\", \"34\", \"35\", \"38\"], \"mode\": \"markers\", \"name\": \"precision_score_macro\", \"stepped\": false, \"type\": \"scatter\", \"data\": [0.8214211740701678, 0.8219988224709587, 0.8267660525748761, 0.8372529186499774, 0.7932757846728434, 0.836507969155028, 0.8286175589116764, 0.8405328429385335, 0.8405328429385335, 0.8074091478696742, 0.8447813738119466, 0.7920952168746287, 0.8287618165288444, 0.8433338720103425, 0.7586185402574722, 0.8308106715266158, 0.8181436945407533, 0.8376697691713172, 0.809638642875872, 0.7841969086125433, 0.8268163807278256, 0.8469493292655057, 0.8346000772103714, 0.813696679352639, 0.7928497671918725, 0.813444827231592, 0.8044110615887605, 0.8390139081334903, 0.8031916925075493, 0.8179687340093688, 0.8269281127369364, 0.8341970586248081, 0.8269281127369364, 0.8269281127369364, 0.7590435894514842, 0.8631532051539791]}, {\"categories\": [\"0\", \"1\", \"2\", \"4\", \"5\", \"6\", \"7\", \"8\", \"9\", \"10\", \"11\", \"12\", \"13\", \"14\", \"15\", \"16\", \"17\", \"18\", \"19\", \"20\", \"21\", \"22\", \"23\", \"24\", \"25\", \"26\", \"27\", \"28\", \"29\", \"30\", \"31\", \"32\", \"33\", \"34\", \"35\", \"38\"], \"mode\": \"lines\", \"name\": \"precision_score_macro_max\", \"stepped\": true, \"type\": \"scatter\", \"data\": [0.8214211740701678, 0.8219988224709587, 0.8267660525748761, 0.8372529186499774, 0.8372529186499774, 0.8372529186499774, 0.8372529186499774, 0.8405328429385335, 0.8405328429385335, 0.8405328429385335, 0.8447813738119466, 0.8447813738119466, 0.8447813738119466, 0.8447813738119466, 0.8447813738119466, 0.8447813738119466, 0.8447813738119466, 0.8447813738119466, 0.8447813738119466, 0.8447813738119466, 0.8447813738119466, 0.8469493292655057, 0.8469493292655057, 0.8469493292655057, 0.8469493292655057, 0.8469493292655057, 0.8469493292655057, 0.8469493292655057, 0.8469493292655057, 0.8469493292655057, 0.8469493292655057, 0.8469493292655057, 0.8469493292655057, 0.8469493292655057, 0.8469493292655057, 0.8631532051539791]}], \"recall_score_micro\": [{\"categories\": [\"0\", \"1\", \"2\", \"4\", \"5\", \"6\", \"7\", \"8\", \"9\", \"10\", \"11\", \"12\", \"13\", \"14\", \"15\", \"16\", \"17\", \"18\", \"19\", \"20\", \"21\", \"22\", \"23\", \"24\", \"25\", \"26\", \"27\", \"28\", \"29\", \"30\", \"31\", \"32\", \"33\", \"34\", \"35\", \"38\"], \"mode\": \"markers\", \"name\": \"recall_score_micro\", \"stepped\": false, \"type\": \"scatter\", \"data\": [0.811505376344086, 0.8179569892473119, 0.8278494623655913, 0.8344086021505378, 0.7912903225806451, 0.8346236559139785, 0.8281720430107526, 0.8347311827956988, 0.8347311827956988, 0.8049462365591398, 0.8447311827956991, 0.7913978494623656, 0.824731182795699, 0.841182795698925, 0.7586021505376344, 0.831505376344086, 0.818279569892473, 0.837956989247312, 0.811505376344086, 0.7850537634408602, 0.8248387096774193, 0.8441935483870969, 0.8346236559139785, 0.8117204301075269, 0.7723655913978494, 0.811505376344086, 0.8047311827956989, 0.8381720430107528, 0.8013978494623656, 0.8018279569892475, 0.8212903225806449, 0.8279569892473118, 0.8212903225806449, 0.8212903225806449, 0.7388172043010753, 0.8644086021505377]}, {\"categories\": [\"0\", \"1\", \"2\", \"4\", \"5\", \"6\", \"7\", \"8\", \"9\", \"10\", \"11\", \"12\", \"13\", \"14\", \"15\", \"16\", \"17\", \"18\", \"19\", \"20\", \"21\", \"22\", \"23\", \"24\", \"25\", \"26\", \"27\", \"28\", \"29\", \"30\", \"31\", \"32\", \"33\", \"34\", \"35\", \"38\"], \"mode\": \"lines\", \"name\": \"recall_score_micro_max\", \"stepped\": true, \"type\": \"scatter\", \"data\": [0.811505376344086, 0.8179569892473119, 0.8278494623655913, 0.8344086021505378, 0.8344086021505378, 0.8346236559139785, 0.8346236559139785, 0.8347311827956988, 0.8347311827956988, 0.8347311827956988, 0.8447311827956991, 0.8447311827956991, 0.8447311827956991, 0.8447311827956991, 0.8447311827956991, 0.8447311827956991, 0.8447311827956991, 0.8447311827956991, 0.8447311827956991, 0.8447311827956991, 0.8447311827956991, 0.8447311827956991, 0.8447311827956991, 0.8447311827956991, 0.8447311827956991, 0.8447311827956991, 0.8447311827956991, 0.8447311827956991, 0.8447311827956991, 0.8447311827956991, 0.8447311827956991, 0.8447311827956991, 0.8447311827956991, 0.8447311827956991, 0.8447311827956991, 0.8644086021505377]}], \"average_precision_score_weighted\": [{\"categories\": [\"0\", \"1\", \"2\", \"4\", \"5\", \"6\", \"7\", \"8\", \"9\", \"10\", \"11\", \"12\", \"13\", \"14\", \"15\", \"16\", \"17\", \"18\", \"19\", \"20\", \"21\", \"22\", \"23\", \"24\", \"25\", \"26\", \"27\", \"28\", \"29\", \"30\", \"31\", \"32\", \"33\", \"34\", \"35\", \"38\"], \"mode\": \"markers\", \"name\": \"average_precision_score_weighted\", \"stepped\": false, \"type\": \"scatter\", \"data\": [0.8919494524740141, 0.9010638342497428, 0.9040275400560075, 0.9152397263034496, 0.8990648571611167, 0.9161552844204488, 0.9207857023041448, 0.9118567269060114, 0.9111275520764168, 0.8896503295680797, 0.914740420496206, 0.8869905385571129, 0.9065998912839845, 0.9154854782636184, 0.8390440543053274, 0.9125807946554014, 0.9037077502228635, 0.9034318574627743, 0.9050764050822598, 0.8787914737661275, 0.9051483051255621, 0.9217305521924901, 0.8761599189037217, 0.8922728747866495, 0.8735025794250548, 0.9033482975750463, 0.8811887295005818, 0.9116732743181514, 0.8802048113935262, 0.9010027064134084, 0.9118401087415229, 0.9101852718237401, 0.9123460771527144, 0.9123460771527144, 0.8392474225807991, 0.9235098488113087]}, {\"categories\": [\"0\", \"1\", \"2\", \"4\", \"5\", \"6\", \"7\", \"8\", \"9\", \"10\", \"11\", \"12\", \"13\", \"14\", \"15\", \"16\", \"17\", \"18\", \"19\", \"20\", \"21\", \"22\", \"23\", \"24\", \"25\", \"26\", \"27\", \"28\", \"29\", \"30\", \"31\", \"32\", \"33\", \"34\", \"35\", \"38\"], \"mode\": \"lines\", \"name\": \"average_precision_score_weighted_max\", \"stepped\": true, \"type\": \"scatter\", \"data\": [0.8919494524740141, 0.9010638342497428, 0.9040275400560075, 0.9152397263034496, 0.9152397263034496, 0.9161552844204488, 0.9207857023041448, 0.9207857023041448, 0.9207857023041448, 0.9207857023041448, 0.9207857023041448, 0.9207857023041448, 0.9207857023041448, 0.9207857023041448, 0.9207857023041448, 0.9207857023041448, 0.9207857023041448, 0.9207857023041448, 0.9207857023041448, 0.9207857023041448, 0.9207857023041448, 0.9217305521924901, 0.9217305521924901, 0.9217305521924901, 0.9217305521924901, 0.9217305521924901, 0.9217305521924901, 0.9217305521924901, 0.9217305521924901, 0.9217305521924901, 0.9217305521924901, 0.9217305521924901, 0.9217305521924901, 0.9217305521924901, 0.9217305521924901, 0.9235098488113087]}], \"AUC_weighted\": [{\"categories\": [\"0\", \"1\", \"2\", \"4\", \"5\", \"6\", \"7\", \"8\", \"9\", \"10\", \"11\", \"12\", \"13\", \"14\", \"15\", \"16\", \"17\", \"18\", \"19\", \"20\", \"21\", \"22\", \"23\", \"24\", \"25\", \"26\", \"27\", \"28\", \"29\", \"30\", \"31\", \"32\", \"33\", \"34\", \"35\", \"38\"], \"mode\": \"markers\", \"name\": \"AUC_weighted\", \"stepped\": false, \"type\": \"scatter\", \"data\": [0.8828390759710418, 0.889146318736876, 0.8945253278856219, 0.9066874444641473, 0.8892720898382664, 0.9107430852028375, 0.9126645540132383, 0.9064790628761218, 0.9056930672813026, 0.8813806205547691, 0.9096604237552379, 0.8747243236496332, 0.8993165262813095, 0.9066965157162526, 0.8237288111641827, 0.9085118912448633, 0.8953059238233386, 0.9006612454453012, 0.897522173317452, 0.8655992393256324, 0.8988597661654936, 0.9173701985578921, 0.876327587230451, 0.8860449288700064, 0.8675617614096716, 0.8943936771862468, 0.8694108565296645, 0.9046679347197923, 0.8703152920780628, 0.8922512310530886, 0.9065183862977981, 0.9043539461627697, 0.9069395958072428, 0.9069395958072428, 0.8206007397387042, 0.9169683691924403]}, {\"categories\": [\"0\", \"1\", \"2\", \"4\", \"5\", \"6\", \"7\", \"8\", \"9\", \"10\", \"11\", \"12\", \"13\", \"14\", \"15\", \"16\", \"17\", \"18\", \"19\", \"20\", \"21\", \"22\", \"23\", \"24\", \"25\", \"26\", \"27\", \"28\", \"29\", \"30\", \"31\", \"32\", \"33\", \"34\", \"35\", \"38\"], \"mode\": \"lines\", \"name\": \"AUC_weighted_max\", \"stepped\": true, \"type\": \"scatter\", \"data\": [0.8828390759710418, 0.889146318736876, 0.8945253278856219, 0.9066874444641473, 0.9066874444641473, 0.9107430852028375, 0.9126645540132383, 0.9126645540132383, 0.9126645540132383, 0.9126645540132383, 0.9126645540132383, 0.9126645540132383, 0.9126645540132383, 0.9126645540132383, 0.9126645540132383, 0.9126645540132383, 0.9126645540132383, 0.9126645540132383, 0.9126645540132383, 0.9126645540132383, 0.9126645540132383, 0.9173701985578921, 0.9173701985578921, 0.9173701985578921, 0.9173701985578921, 0.9173701985578921, 0.9173701985578921, 0.9173701985578921, 0.9173701985578921, 0.9173701985578921, 0.9173701985578921, 0.9173701985578921, 0.9173701985578921, 0.9173701985578921, 0.9173701985578921, 0.9173701985578921]}], \"average_precision_score_micro\": [{\"categories\": [\"0\", \"1\", \"2\", \"4\", \"5\", \"6\", \"7\", \"8\", \"9\", \"10\", \"11\", \"12\", \"13\", \"14\", \"15\", \"16\", \"17\", \"18\", \"19\", \"20\", \"21\", \"22\", \"23\", \"24\", \"25\", \"26\", \"27\", \"28\", \"29\", \"30\", \"31\", \"32\", \"33\", \"34\", \"35\", \"38\"], \"mode\": \"markers\", \"name\": \"average_precision_score_micro\", \"stepped\": false, \"type\": \"scatter\", \"data\": [0.8785300785590453, 0.895605229754536, 0.8990762753896562, 0.9072119730651098, 0.88384441459914, 0.9098837002782227, 0.9121391897716264, 0.9039100681422203, 0.9029327022277016, 0.8809000899111281, 0.9083399420886368, 0.8777900622127023, 0.898022572108015, 0.9090014829513834, 0.8348498139228999, 0.9049649243497884, 0.8941001178772359, 0.8999277053857272, 0.8975334419052544, 0.8726506914111143, 0.8973217541144992, 0.9141179424092055, 0.8710725591252417, 0.8896028670995563, 0.849971617824206, 0.8973508346223369, 0.876416391838369, 0.9040341689219039, 0.8727640159844221, 0.8854344346848897, 0.9040387568859976, 0.9024407643128972, 0.9031859740646506, 0.9031859740646506, 0.8178280883319161, 0.9149173350240044]}, {\"categories\": [\"0\", \"1\", \"2\", \"4\", \"5\", \"6\", \"7\", \"8\", \"9\", \"10\", \"11\", \"12\", \"13\", \"14\", \"15\", \"16\", \"17\", \"18\", \"19\", \"20\", \"21\", \"22\", \"23\", \"24\", \"25\", \"26\", \"27\", \"28\", \"29\", \"30\", \"31\", \"32\", \"33\", \"34\", \"35\", \"38\"], \"mode\": \"lines\", \"name\": \"average_precision_score_micro_max\", \"stepped\": true, \"type\": \"scatter\", \"data\": [0.8785300785590453, 0.895605229754536, 0.8990762753896562, 0.9072119730651098, 0.9072119730651098, 0.9098837002782227, 0.9121391897716264, 0.9121391897716264, 0.9121391897716264, 0.9121391897716264, 0.9121391897716264, 0.9121391897716264, 0.9121391897716264, 0.9121391897716264, 0.9121391897716264, 0.9121391897716264, 0.9121391897716264, 0.9121391897716264, 0.9121391897716264, 0.9121391897716264, 0.9121391897716264, 0.9141179424092055, 0.9141179424092055, 0.9141179424092055, 0.9141179424092055, 0.9141179424092055, 0.9141179424092055, 0.9141179424092055, 0.9141179424092055, 0.9141179424092055, 0.9141179424092055, 0.9141179424092055, 0.9141179424092055, 0.9141179424092055, 0.9141179424092055, 0.9149173350240044]}], \"precision_score_weighted\": [{\"categories\": [\"0\", \"1\", \"2\", \"4\", \"5\", \"6\", \"7\", \"8\", \"9\", \"10\", \"11\", \"12\", \"13\", \"14\", \"15\", \"16\", \"17\", \"18\", \"19\", \"20\", \"21\", \"22\", \"23\", \"24\", \"25\", \"26\", \"27\", \"28\", \"29\", \"30\", \"31\", \"32\", \"33\", \"34\", \"35\", \"38\"], \"mode\": \"markers\", \"name\": \"precision_score_weighted\", \"stepped\": false, \"type\": \"scatter\", \"data\": [0.8262799266252276, 0.8259051766115084, 0.8324429500501607, 0.8421203177488756, 0.8002438648743203, 0.8404263310306954, 0.8341010561930865, 0.8451596691956912, 0.8451596691956912, 0.8121236676531668, 0.8480723085421852, 0.7965785717725946, 0.8327215406887832, 0.8480641631894003, 0.765724168312204, 0.8356136404569939, 0.8252563291652475, 0.8424584991060072, 0.8155599064756535, 0.7923295903290535, 0.8292248978471134, 0.8518633919843598, 0.8394275242906646, 0.8182819286633078, 0.7941238121904506, 0.8182026873962359, 0.8086875888036372, 0.8429561062561911, 0.8063647076384888, 0.8169214728009395, 0.8329915423672538, 0.8390890350280458, 0.8329915423672538, 0.8329915423672538, 0.760478905072793, 0.8658115719406041]}, {\"categories\": [\"0\", \"1\", \"2\", \"4\", \"5\", \"6\", \"7\", \"8\", \"9\", \"10\", \"11\", \"12\", \"13\", \"14\", \"15\", \"16\", \"17\", \"18\", \"19\", \"20\", \"21\", \"22\", \"23\", \"24\", \"25\", \"26\", \"27\", \"28\", \"29\", \"30\", \"31\", \"32\", \"33\", \"34\", \"35\", \"38\"], \"mode\": \"lines\", \"name\": \"precision_score_weighted_max\", \"stepped\": true, \"type\": \"scatter\", \"data\": [0.8262799266252276, 0.8262799266252276, 0.8324429500501607, 0.8421203177488756, 0.8421203177488756, 0.8421203177488756, 0.8421203177488756, 0.8451596691956912, 0.8451596691956912, 0.8451596691956912, 0.8480723085421852, 0.8480723085421852, 0.8480723085421852, 0.8480723085421852, 0.8480723085421852, 0.8480723085421852, 0.8480723085421852, 0.8480723085421852, 0.8480723085421852, 0.8480723085421852, 0.8480723085421852, 0.8518633919843598, 0.8518633919843598, 0.8518633919843598, 0.8518633919843598, 0.8518633919843598, 0.8518633919843598, 0.8518633919843598, 0.8518633919843598, 0.8518633919843598, 0.8518633919843598, 0.8518633919843598, 0.8518633919843598, 0.8518633919843598, 0.8518633919843598, 0.8658115719406041]}], \"precision_score_micro\": [{\"categories\": [\"0\", \"1\", \"2\", \"4\", \"5\", \"6\", \"7\", \"8\", \"9\", \"10\", \"11\", \"12\", \"13\", \"14\", \"15\", \"16\", \"17\", \"18\", \"19\", \"20\", \"21\", \"22\", \"23\", \"24\", \"25\", \"26\", \"27\", \"28\", \"29\", \"30\", \"31\", \"32\", \"33\", \"34\", \"35\", \"38\"], \"mode\": \"markers\", \"name\": \"precision_score_micro\", \"stepped\": false, \"type\": \"scatter\", \"data\": [0.811505376344086, 0.8179569892473119, 0.8278494623655913, 0.8344086021505378, 0.7912903225806451, 0.8346236559139785, 0.8281720430107526, 0.8347311827956988, 0.8347311827956988, 0.8049462365591398, 0.8447311827956991, 0.7913978494623656, 0.824731182795699, 0.841182795698925, 0.7586021505376344, 0.831505376344086, 0.818279569892473, 0.837956989247312, 0.811505376344086, 0.7850537634408602, 0.8248387096774193, 0.8441935483870969, 0.8346236559139785, 0.8117204301075269, 0.7723655913978494, 0.811505376344086, 0.8047311827956989, 0.8381720430107528, 0.8013978494623656, 0.8018279569892475, 0.8212903225806449, 0.8279569892473118, 0.8212903225806449, 0.8212903225806449, 0.7388172043010753, 0.8644086021505377]}, {\"categories\": [\"0\", \"1\", \"2\", \"4\", \"5\", \"6\", \"7\", \"8\", \"9\", \"10\", \"11\", \"12\", \"13\", \"14\", \"15\", \"16\", \"17\", \"18\", \"19\", \"20\", \"21\", \"22\", \"23\", \"24\", \"25\", \"26\", \"27\", \"28\", \"29\", \"30\", \"31\", \"32\", \"33\", \"34\", \"35\", \"38\"], \"mode\": \"lines\", \"name\": \"precision_score_micro_max\", \"stepped\": true, \"type\": \"scatter\", \"data\": [0.811505376344086, 0.8179569892473119, 0.8278494623655913, 0.8344086021505378, 0.8344086021505378, 0.8346236559139785, 0.8346236559139785, 0.8347311827956988, 0.8347311827956988, 0.8347311827956988, 0.8447311827956991, 0.8447311827956991, 0.8447311827956991, 0.8447311827956991, 0.8447311827956991, 0.8447311827956991, 0.8447311827956991, 0.8447311827956991, 0.8447311827956991, 0.8447311827956991, 0.8447311827956991, 0.8447311827956991, 0.8447311827956991, 0.8447311827956991, 0.8447311827956991, 0.8447311827956991, 0.8447311827956991, 0.8447311827956991, 0.8447311827956991, 0.8447311827956991, 0.8447311827956991, 0.8447311827956991, 0.8447311827956991, 0.8447311827956991, 0.8447311827956991, 0.8644086021505377]}], \"norm_macro_recall\": [{\"categories\": [\"0\", \"1\", \"2\", \"4\", \"5\", \"6\", \"7\", \"8\", \"9\", \"10\", \"11\", \"12\", \"13\", \"14\", \"15\", \"16\", \"17\", \"18\", \"19\", \"20\", \"21\", \"22\", \"23\", \"24\", \"25\", \"26\", \"27\", \"28\", \"29\", \"30\", \"31\", \"32\", \"33\", \"34\", \"35\", \"38\"], \"mode\": \"markers\", \"name\": \"norm_macro_recall\", \"stepped\": false, \"type\": \"scatter\", \"data\": [0.6143981452843683, 0.623150134609113, 0.650719821973692, 0.6635821557183786, 0.5789657388535097, 0.658906451305832, 0.6500197807008953, 0.6625875947238176, 0.6625875947238176, 0.6002176504266288, 0.6759392224562504, 0.5695529088214847, 0.6397064906198033, 0.6752832221098475, 0.5087230154606316, 0.6536835146277871, 0.6332356046945831, 0.6690450566805055, 0.6156513322418895, 0.5663344197941721, 0.6319799464381507, 0.6834765608488519, 0.6626025243246605, 0.6127127430533004, 0.5191693643473828, 0.6119858882087985, 0.5930797882887665, 0.6653969869140148, 0.5846662062567635, 0.5745467995197098, 0.6388134156864806, 0.649632129136773, 0.6388134156864806, 0.6388134156864806, 0.44421115477230033, 0.7177257018007792]}, {\"categories\": [\"0\", \"1\", \"2\", \"4\", \"5\", \"6\", \"7\", \"8\", \"9\", \"10\", \"11\", \"12\", \"13\", \"14\", \"15\", \"16\", \"17\", \"18\", \"19\", \"20\", \"21\", \"22\", \"23\", \"24\", \"25\", \"26\", \"27\", \"28\", \"29\", \"30\", \"31\", \"32\", \"33\", \"34\", \"35\", \"38\"], \"mode\": \"lines\", \"name\": \"norm_macro_recall_max\", \"stepped\": true, \"type\": \"scatter\", \"data\": [0.6143981452843683, 0.623150134609113, 0.650719821973692, 0.6635821557183786, 0.6635821557183786, 0.6635821557183786, 0.6635821557183786, 0.6635821557183786, 0.6635821557183786, 0.6635821557183786, 0.6759392224562504, 0.6759392224562504, 0.6759392224562504, 0.6759392224562504, 0.6759392224562504, 0.6759392224562504, 0.6759392224562504, 0.6759392224562504, 0.6759392224562504, 0.6759392224562504, 0.6759392224562504, 0.6834765608488519, 0.6834765608488519, 0.6834765608488519, 0.6834765608488519, 0.6834765608488519, 0.6834765608488519, 0.6834765608488519, 0.6834765608488519, 0.6834765608488519, 0.6834765608488519, 0.6834765608488519, 0.6834765608488519, 0.6834765608488519, 0.6834765608488519, 0.7177257018007792]}], \"f1_score_weighted\": [{\"categories\": [\"0\", \"1\", \"2\", \"4\", \"5\", \"6\", \"7\", \"8\", \"9\", \"10\", \"11\", \"12\", \"13\", \"14\", \"15\", \"16\", \"17\", \"18\", \"19\", \"20\", \"21\", \"22\", \"23\", \"24\", \"25\", \"26\", \"27\", \"28\", \"29\", \"30\", \"31\", \"32\", \"33\", \"34\", \"35\", \"38\"], \"mode\": \"markers\", \"name\": \"f1_score_weighted\", \"stepped\": false, \"type\": \"scatter\", \"data\": [0.8098393982665282, 0.8159674257271587, 0.8274730485200157, 0.8340152881847145, 0.7910590811944418, 0.8335655555708563, 0.8277700643284609, 0.8325752611778195, 0.8325752611778195, 0.8035424223838197, 0.8436219504962553, 0.7904159713978085, 0.8234726864942719, 0.8404375879922175, 0.7573498107006945, 0.8310751090241171, 0.8180926244831237, 0.8378414828806097, 0.8111261990246348, 0.7847611467359428, 0.8227944552601075, 0.8437797835722517, 0.8340710595539852, 0.8103542738506624, 0.7621037205121521, 0.8099192138428497, 0.8033369252421598, 0.8367806909520702, 0.7994426226022193, 0.7953386086853813, 0.8196435558530762, 0.8258944632603807, 0.8196435558530762, 0.8196435558530762, 0.7274083490498413, 0.8636987432819382]}, {\"categories\": [\"0\", \"1\", \"2\", \"4\", \"5\", \"6\", \"7\", \"8\", \"9\", \"10\", \"11\", \"12\", \"13\", \"14\", \"15\", \"16\", \"17\", \"18\", \"19\", \"20\", \"21\", \"22\", \"23\", \"24\", \"25\", \"26\", \"27\", \"28\", \"29\", \"30\", \"31\", \"32\", \"33\", \"34\", \"35\", \"38\"], \"mode\": \"lines\", \"name\": \"f1_score_weighted_max\", \"stepped\": true, \"type\": \"scatter\", \"data\": [0.8098393982665282, 0.8159674257271587, 0.8274730485200157, 0.8340152881847145, 0.8340152881847145, 0.8340152881847145, 0.8340152881847145, 0.8340152881847145, 0.8340152881847145, 0.8340152881847145, 0.8436219504962553, 0.8436219504962553, 0.8436219504962553, 0.8436219504962553, 0.8436219504962553, 0.8436219504962553, 0.8436219504962553, 0.8436219504962553, 0.8436219504962553, 0.8436219504962553, 0.8436219504962553, 0.8437797835722517, 0.8437797835722517, 0.8437797835722517, 0.8437797835722517, 0.8437797835722517, 0.8437797835722517, 0.8437797835722517, 0.8437797835722517, 0.8437797835722517, 0.8437797835722517, 0.8437797835722517, 0.8437797835722517, 0.8437797835722517, 0.8437797835722517, 0.8636987432819382]}], \"f1_score_macro\": [{\"categories\": [\"0\", \"1\", \"2\", \"4\", \"5\", \"6\", \"7\", \"8\", \"9\", \"10\", \"11\", \"12\", \"13\", \"14\", \"15\", \"16\", \"17\", \"18\", \"19\", \"20\", \"21\", \"22\", \"23\", \"24\", \"25\", \"26\", \"27\", \"28\", \"29\", \"30\", \"31\", \"32\", \"33\", \"34\", \"35\", \"38\"], \"mode\": \"markers\", \"name\": \"f1_score_macro\", \"stepped\": false, \"type\": \"scatter\", \"data\": [0.8051086915482137, 0.8105255180161939, 0.8232363647522598, 0.8300675703893436, 0.7865435994565534, 0.8288200257957291, 0.8232606045914869, 0.8280498547401585, 0.8280498547401585, 0.7986227022175731, 0.8384001634641965, 0.7846458507310434, 0.8189230484062314, 0.8361400884820137, 0.7515779420697359, 0.8262484992857759, 0.8136668341037575, 0.8335774734137376, 0.806294597456875, 0.7796438432054194, 0.8167559023114039, 0.8398622455656846, 0.8299161766249761, 0.8052556761073791, 0.7544975808075653, 0.8046192807222825, 0.7967879671505982, 0.8319545556283398, 0.7929959075105354, 0.7869663353532333, 0.8153175145346921, 0.8213743849689695, 0.8153175145346921, 0.8153175145346921, 0.7172184955482028, 0.859532309368255]}, {\"categories\": [\"0\", \"1\", \"2\", \"4\", \"5\", \"6\", \"7\", \"8\", \"9\", \"10\", \"11\", \"12\", \"13\", \"14\", \"15\", \"16\", \"17\", \"18\", \"19\", \"20\", \"21\", \"22\", \"23\", \"24\", \"25\", \"26\", \"27\", \"28\", \"29\", \"30\", \"31\", \"32\", \"33\", \"34\", \"35\", \"38\"], \"mode\": \"lines\", \"name\": \"f1_score_macro_max\", \"stepped\": true, \"type\": \"scatter\", \"data\": [0.8051086915482137, 0.8105255180161939, 0.8232363647522598, 0.8300675703893436, 0.8300675703893436, 0.8300675703893436, 0.8300675703893436, 0.8300675703893436, 0.8300675703893436, 0.8300675703893436, 0.8384001634641965, 0.8384001634641965, 0.8384001634641965, 0.8384001634641965, 0.8384001634641965, 0.8384001634641965, 0.8384001634641965, 0.8384001634641965, 0.8384001634641965, 0.8384001634641965, 0.8384001634641965, 0.8398622455656846, 0.8398622455656846, 0.8398622455656846, 0.8398622455656846, 0.8398622455656846, 0.8398622455656846, 0.8398622455656846, 0.8398622455656846, 0.8398622455656846, 0.8398622455656846, 0.8398622455656846, 0.8398622455656846, 0.8398622455656846, 0.8398622455656846, 0.859532309368255]}], \"recall_score_macro\": [{\"categories\": [\"0\", \"1\", \"2\", \"4\", \"5\", \"6\", \"7\", \"8\", \"9\", \"10\", \"11\", \"12\", \"13\", \"14\", \"15\", \"16\", \"17\", \"18\", \"19\", \"20\", \"21\", \"22\", \"23\", \"24\", \"25\", \"26\", \"27\", \"28\", \"29\", \"30\", \"31\", \"32\", \"33\", \"34\", \"35\", \"38\"], \"mode\": \"markers\", \"name\": \"recall_score_macro\", \"stepped\": false, \"type\": \"scatter\", \"data\": [0.8071990726421842, 0.8115750673045564, 0.825359910986846, 0.8317910778591895, 0.7894828694267548, 0.8294532256529161, 0.8250098903504475, 0.8312937973619089, 0.8312937973619089, 0.8001088252133144, 0.8379696112281252, 0.7847764544107425, 0.8198532453099017, 0.8376416110549236, 0.7543615077303159, 0.8268417573138936, 0.8166178023472916, 0.8345225283402528, 0.8078256661209448, 0.783167209897086, 0.8159899732190752, 0.8417382804244259, 0.8313012621623302, 0.8063563715266504, 0.7595846821736915, 0.8059929441043991, 0.7965398941443833, 0.8326984934570074, 0.7923331031283818, 0.7872733997598549, 0.8194067078432404, 0.8248160645683864, 0.8194067078432404, 0.8194067078432404, 0.7221055773861502, 0.8588628509003897]}, {\"categories\": [\"0\", \"1\", \"2\", \"4\", \"5\", \"6\", \"7\", \"8\", \"9\", \"10\", \"11\", \"12\", \"13\", \"14\", \"15\", \"16\", \"17\", \"18\", \"19\", \"20\", \"21\", \"22\", \"23\", \"24\", \"25\", \"26\", \"27\", \"28\", \"29\", \"30\", \"31\", \"32\", \"33\", \"34\", \"35\", \"38\"], \"mode\": \"lines\", \"name\": \"recall_score_macro_max\", \"stepped\": true, \"type\": \"scatter\", \"data\": [0.8071990726421842, 0.8115750673045564, 0.825359910986846, 0.8317910778591895, 0.8317910778591895, 0.8317910778591895, 0.8317910778591895, 0.8317910778591895, 0.8317910778591895, 0.8317910778591895, 0.8379696112281252, 0.8379696112281252, 0.8379696112281252, 0.8379696112281252, 0.8379696112281252, 0.8379696112281252, 0.8379696112281252, 0.8379696112281252, 0.8379696112281252, 0.8379696112281252, 0.8379696112281252, 0.8417382804244259, 0.8417382804244259, 0.8417382804244259, 0.8417382804244259, 0.8417382804244259, 0.8417382804244259, 0.8417382804244259, 0.8417382804244259, 0.8417382804244259, 0.8417382804244259, 0.8417382804244259, 0.8417382804244259, 0.8417382804244259, 0.8417382804244259, 0.8588628509003897]}], \"AUC_macro\": [{\"categories\": [\"0\", \"1\", \"2\", \"4\", \"5\", \"6\", \"7\", \"8\", \"9\", \"10\", \"11\", \"12\", \"13\", \"14\", \"15\", \"16\", \"17\", \"18\", \"19\", \"20\", \"21\", \"22\", \"23\", \"24\", \"25\", \"26\", \"27\", \"28\", \"29\", \"30\", \"31\", \"32\", \"33\", \"34\", \"35\", \"38\"], \"mode\": \"markers\", \"name\": \"AUC_macro\", \"stepped\": false, \"type\": \"scatter\", \"data\": [0.8828390759710418, 0.889146318736876, 0.8945253278856219, 0.9066874444641473, 0.8892720898382663, 0.9107430852028375, 0.9126645540132383, 0.9064790628761218, 0.9056930672813026, 0.8813806205547691, 0.9096604237552379, 0.8747243236496332, 0.8993165262813095, 0.9066965157162526, 0.8237288111641826, 0.9085118912448633, 0.8953059238233386, 0.9006612454453012, 0.897522173317452, 0.8655992393256324, 0.8988597661654936, 0.9173701985578921, 0.876327587230451, 0.8860449288700064, 0.8675617614096716, 0.8943936771862468, 0.8694108565296645, 0.9046679347197923, 0.8703152920780628, 0.8922512310530886, 0.9065183862977981, 0.9043539461627697, 0.9069395958072428, 0.9069395958072428, 0.8206007397387042, 0.9169683691924403]}, {\"categories\": [\"0\", \"1\", \"2\", \"4\", \"5\", \"6\", \"7\", \"8\", \"9\", \"10\", \"11\", \"12\", \"13\", \"14\", \"15\", \"16\", \"17\", \"18\", \"19\", \"20\", \"21\", \"22\", \"23\", \"24\", \"25\", \"26\", \"27\", \"28\", \"29\", \"30\", \"31\", \"32\", \"33\", \"34\", \"35\", \"38\"], \"mode\": \"lines\", \"name\": \"AUC_macro_max\", \"stepped\": true, \"type\": \"scatter\", \"data\": [0.8828390759710418, 0.889146318736876, 0.8945253278856219, 0.9066874444641473, 0.9066874444641473, 0.9107430852028375, 0.9126645540132383, 0.9126645540132383, 0.9126645540132383, 0.9126645540132383, 0.9126645540132383, 0.9126645540132383, 0.9126645540132383, 0.9126645540132383, 0.9126645540132383, 0.9126645540132383, 0.9126645540132383, 0.9126645540132383, 0.9126645540132383, 0.9126645540132383, 0.9126645540132383, 0.9173701985578921, 0.9173701985578921, 0.9173701985578921, 0.9173701985578921, 0.9173701985578921, 0.9173701985578921, 0.9173701985578921, 0.9173701985578921, 0.9173701985578921, 0.9173701985578921, 0.9173701985578921, 0.9173701985578921, 0.9173701985578921, 0.9173701985578921, 0.9173701985578921]}]}, \"metricName\": null, \"primaryMetricName\": \"accuracy\", \"showLegend\": false}, \"run_metrics\": [{\"name\": \"experiment_status\", \"run_id\": \"AutoML_4b3e9d87-95c4-4540-b56d-7cfc88ec52ac\", \"categories\": [0, 1, 2, 3, 4, 5, 6, 7, 8, 9, 10, 11, 12, 13], \"series\": [{\"data\": [\"DatasetEvaluation\", \"FeaturesGeneration\", \"DatasetFeaturization\", \"DatasetFeaturizationCompleted\", \"DatasetCrossValidationSplit\", \"ModelSelection\", \"BestRunExplainModel\", \"ModelExplanationDataSetSetup\", \"PickSurrogateModel\", \"EngineeredFeatureExplanations\", \"EngineeredFeatureExplanations\", \"RawFeaturesExplanations\", \"RawFeaturesExplanations\", \"BestRunExplainModel\"]}]}, {\"name\": \"experiment_status_description\", \"run_id\": \"AutoML_4b3e9d87-95c4-4540-b56d-7cfc88ec52ac\", \"categories\": [0, 1, 2, 3, 4, 5, 6, 7, 8, 9, 10, 11, 12, 13], \"series\": [{\"data\": [\"Gathering dataset statistics.\", \"Generating features for the dataset.\", \"Beginning to fit featurizers and featurize the dataset.\", \"Completed fit featurizers and featurizing the dataset.\", \"Generating individually featurized CV splits.\", \"Beginning model selection.\", \"Best run model explanations started\", \"Model explanations data setup completed\", \"Choosing LightGBM as the surrogate model for explanations\", \"Computation of engineered features started\", \"Computation of engineered features completed\", \"Computation of raw features started\", \"Computation of raw features completed\", \"Best run model explanations completed\"]}]}, {\"name\": \"weighted_accuracy\", \"run_id\": \"AutoML_4b3e9d87-95c4-4540-b56d-7cfc88ec52ac\", \"categories\": [0], \"series\": [{\"data\": [0.869337230041231]}]}, {\"name\": \"f1_score_weighted\", \"run_id\": \"AutoML_4b3e9d87-95c4-4540-b56d-7cfc88ec52ac\", \"categories\": [0], \"series\": [{\"data\": [0.8636987432819382]}]}, {\"name\": \"AUC_weighted\", \"run_id\": \"AutoML_4b3e9d87-95c4-4540-b56d-7cfc88ec52ac\", \"categories\": [0], \"series\": [{\"data\": [0.9169683691924403]}]}, {\"name\": \"recall_score_macro\", \"run_id\": \"AutoML_4b3e9d87-95c4-4540-b56d-7cfc88ec52ac\", \"categories\": [0], \"series\": [{\"data\": [0.8588628509003897]}]}, {\"name\": \"AUC_macro\", \"run_id\": \"AutoML_4b3e9d87-95c4-4540-b56d-7cfc88ec52ac\", \"categories\": [0], \"series\": [{\"data\": [0.9169683691924403]}]}, {\"name\": \"average_precision_score_micro\", \"run_id\": \"AutoML_4b3e9d87-95c4-4540-b56d-7cfc88ec52ac\", \"categories\": [0], \"series\": [{\"data\": [0.9149173350240044]}]}, {\"name\": \"AUC_micro\", \"run_id\": \"AutoML_4b3e9d87-95c4-4540-b56d-7cfc88ec52ac\", \"categories\": [0], \"series\": [{\"data\": [0.9133383050063593]}]}, {\"name\": \"average_precision_score_macro\", \"run_id\": \"AutoML_4b3e9d87-95c4-4540-b56d-7cfc88ec52ac\", \"categories\": [0], \"series\": [{\"data\": [0.9204482127575584]}]}, {\"name\": \"norm_macro_recall\", \"run_id\": \"AutoML_4b3e9d87-95c4-4540-b56d-7cfc88ec52ac\", \"categories\": [0], \"series\": [{\"data\": [0.7177257018007792]}]}, {\"name\": \"f1_score_micro\", \"run_id\": \"AutoML_4b3e9d87-95c4-4540-b56d-7cfc88ec52ac\", \"categories\": [0], \"series\": [{\"data\": [0.8644086021505377]}]}, {\"name\": \"log_loss\", \"run_id\": \"AutoML_4b3e9d87-95c4-4540-b56d-7cfc88ec52ac\", \"categories\": [0], \"series\": [{\"data\": [0.37827633854702897]}]}, {\"name\": \"recall_score_micro\", \"run_id\": \"AutoML_4b3e9d87-95c4-4540-b56d-7cfc88ec52ac\", \"categories\": [0], \"series\": [{\"data\": [0.8644086021505377]}]}, {\"name\": \"average_precision_score_weighted\", \"run_id\": \"AutoML_4b3e9d87-95c4-4540-b56d-7cfc88ec52ac\", \"categories\": [0], \"series\": [{\"data\": [0.9235098488113087]}]}, {\"name\": \"precision_score_micro\", \"run_id\": \"AutoML_4b3e9d87-95c4-4540-b56d-7cfc88ec52ac\", \"categories\": [0], \"series\": [{\"data\": [0.8644086021505377]}]}, {\"name\": \"balanced_accuracy\", \"run_id\": \"AutoML_4b3e9d87-95c4-4540-b56d-7cfc88ec52ac\", \"categories\": [0], \"series\": [{\"data\": [0.8588628509003897]}]}, {\"name\": \"matthews_correlation\", \"run_id\": \"AutoML_4b3e9d87-95c4-4540-b56d-7cfc88ec52ac\", \"categories\": [0], \"series\": [{\"data\": [0.7219474375716254]}]}, {\"name\": \"precision_score_macro\", \"run_id\": \"AutoML_4b3e9d87-95c4-4540-b56d-7cfc88ec52ac\", \"categories\": [0], \"series\": [{\"data\": [0.8631532051539791]}]}, {\"name\": \"precision_score_weighted\", \"run_id\": \"AutoML_4b3e9d87-95c4-4540-b56d-7cfc88ec52ac\", \"categories\": [0], \"series\": [{\"data\": [0.8658115719406041]}]}, {\"name\": \"recall_score_weighted\", \"run_id\": \"AutoML_4b3e9d87-95c4-4540-b56d-7cfc88ec52ac\", \"categories\": [0], \"series\": [{\"data\": [0.8644086021505377]}]}, {\"name\": \"f1_score_macro\", \"run_id\": \"AutoML_4b3e9d87-95c4-4540-b56d-7cfc88ec52ac\", \"categories\": [0], \"series\": [{\"data\": [0.859532309368255]}]}, {\"name\": \"accuracy\", \"run_id\": \"AutoML_4b3e9d87-95c4-4540-b56d-7cfc88ec52ac\", \"categories\": [0], \"series\": [{\"data\": [0.8644086021505377]}]}], \"run_logs\": \"\\nRun is completed.\", \"graph\": {}, \"widget_settings\": {\"childWidgetDisplay\": \"popup\", \"send_telemetry\": false, \"log_level\": \"INFO\", \"sdk_version\": \"1.20.0\"}, \"loading\": false}"
     },
     "metadata": {},
     "output_type": "display_data"
    },
    {
     "data": {
      "text/plain": [
       "{'runId': 'AutoML_4b3e9d87-95c4-4540-b56d-7cfc88ec52ac',\n",
       " 'target': 'auto-ml',\n",
       " 'status': 'Completed',\n",
       " 'startTimeUtc': '2021-01-30T13:00:48.78433Z',\n",
       " 'endTimeUtc': '2021-01-30T13:27:30.137648Z',\n",
       " 'properties': {'num_iterations': '1000',\n",
       "  'training_type': 'TrainFull',\n",
       "  'acquisition_function': 'EI',\n",
       "  'primary_metric': 'accuracy',\n",
       "  'train_split': '0',\n",
       "  'acquisition_parameter': '0',\n",
       "  'num_cross_validation': None,\n",
       "  'target': 'auto-ml',\n",
       "  'AMLSettingsJsonString': '{\"path\":null,\"name\":\"heart-disease-experiment-ml1\",\"subscription_id\":\"976ee174-3882-4721-b90a-b5fef6b72f24\",\"resource_group\":\"aml-quickstarts-136593\",\"workspace_name\":\"quick-starts-ws-136593\",\"region\":\"southcentralus\",\"compute_target\":\"auto-ml\",\"spark_service\":null,\"azure_service\":\"remote\",\"many_models\":false,\"pipeline_fetch_max_batch_size\":1,\"iterations\":1000,\"primary_metric\":\"accuracy\",\"task_type\":\"classification\",\"data_script\":null,\"validation_size\":0.0,\"n_cross_validations\":null,\"y_min\":null,\"y_max\":null,\"num_classes\":null,\"featurization\":\"auto\",\"_ignore_package_version_incompatibilities\":false,\"is_timeseries\":false,\"max_cores_per_iteration\":1,\"max_concurrent_iterations\":5,\"iteration_timeout_minutes\":null,\"mem_in_mb\":null,\"enforce_time_on_windows\":false,\"experiment_timeout_minutes\":20,\"experiment_exit_score\":0.9984,\"whitelist_models\":null,\"blacklist_algos\":[\"KNN\",\"LinearSVM\",\"TensorFlowLinearClassifier\",\"TensorFlowDNN\"],\"supported_models\":[\"XGBoostClassifier\",\"KNN\",\"LogisticRegression\",\"BernoulliNaiveBayes\",\"RandomForest\",\"DecisionTree\",\"LightGBM\",\"LinearSVM\",\"ExtremeRandomTrees\",\"AveragedPerceptronClassifier\",\"SVM\",\"TensorFlowDNN\",\"SGD\",\"TensorFlowLinearClassifier\",\"GradientBoosting\",\"MultinomialNaiveBayes\"],\"auto_blacklist\":true,\"blacklist_samples_reached\":false,\"exclude_nan_labels\":true,\"verbosity\":20,\"_debug_log\":\"azureml_automl.log\",\"show_warnings\":false,\"model_explainability\":true,\"service_url\":null,\"sdk_url\":null,\"sdk_packages\":null,\"enable_onnx_compatible_models\":true,\"enable_split_onnx_featurizer_estimator_models\":false,\"vm_type\":\"STANDARD_D2_V2\",\"telemetry_verbosity\":20,\"send_telemetry\":true,\"enable_dnn\":false,\"scenario\":\"SDK-1.13.0\",\"environment_label\":null,\"force_text_dnn\":false,\"enable_feature_sweeping\":false,\"enable_early_stopping\":true,\"early_stopping_n_iters\":10,\"metrics\":null,\"enable_ensembling\":true,\"enable_stack_ensembling\":false,\"ensemble_iterations\":15,\"enable_tf\":false,\"enable_subsampling\":null,\"subsample_seed\":null,\"enable_nimbusml\":false,\"enable_streaming\":false,\"force_streaming\":false,\"track_child_runs\":true,\"allowed_private_models\":[],\"label_column_name\":\"target\",\"weight_column_name\":null,\"cv_split_column_names\":null,\"enable_local_managed\":false,\"_local_managed_run_id\":null,\"cost_mode\":1,\"lag_length\":0,\"metric_operation\":\"maximize\",\"preprocess\":true}',\n",
       "  'DataPrepJsonString': '{\\\\\"training_data\\\\\": \\\\\"{\\\\\\\\\\\\\"blocks\\\\\\\\\\\\\": [{\\\\\\\\\\\\\"id\\\\\\\\\\\\\": \\\\\\\\\\\\\"2bbc931e-3fdc-4cc1-a3de-762edaaab682\\\\\\\\\\\\\", \\\\\\\\\\\\\"type\\\\\\\\\\\\\": \\\\\\\\\\\\\"Microsoft.DPrep.GetFilesBlock\\\\\\\\\\\\\", \\\\\\\\\\\\\"arguments\\\\\\\\\\\\\": {\\\\\\\\\\\\\"isArchive\\\\\\\\\\\\\": false, \\\\\\\\\\\\\"path\\\\\\\\\\\\\": {\\\\\\\\\\\\\"target\\\\\\\\\\\\\": 4, \\\\\\\\\\\\\"resourceDetails\\\\\\\\\\\\\": [{\\\\\\\\\\\\\"path\\\\\\\\\\\\\": \\\\\\\\\\\\\"https://raw.githubusercontent.com/SadmiB/Heart-Disease-Prediction/master/heart.csv\\\\\\\\\\\\\"}]}}, \\\\\\\\\\\\\"localData\\\\\\\\\\\\\": {}, \\\\\\\\\\\\\"isEnabled\\\\\\\\\\\\\": true, \\\\\\\\\\\\\"name\\\\\\\\\\\\\": null, \\\\\\\\\\\\\"annotation\\\\\\\\\\\\\": null}, {\\\\\\\\\\\\\"id\\\\\\\\\\\\\": \\\\\\\\\\\\\"0a8822c4-be58-499d-913d-93066628941a\\\\\\\\\\\\\", \\\\\\\\\\\\\"type\\\\\\\\\\\\\": \\\\\\\\\\\\\"Microsoft.DPrep.ParseDelimitedBlock\\\\\\\\\\\\\", \\\\\\\\\\\\\"arguments\\\\\\\\\\\\\": {\\\\\\\\\\\\\"columnHeadersMode\\\\\\\\\\\\\": 3, \\\\\\\\\\\\\"fileEncoding\\\\\\\\\\\\\": 0, \\\\\\\\\\\\\"handleQuotedLineBreaks\\\\\\\\\\\\\": false, \\\\\\\\\\\\\"preview\\\\\\\\\\\\\": false, \\\\\\\\\\\\\"separator\\\\\\\\\\\\\": \\\\\\\\\\\\\",\\\\\\\\\\\\\", \\\\\\\\\\\\\"skipRows\\\\\\\\\\\\\": 0, \\\\\\\\\\\\\"skipRowsMode\\\\\\\\\\\\\": 0}, \\\\\\\\\\\\\"localData\\\\\\\\\\\\\": {}, \\\\\\\\\\\\\"isEnabled\\\\\\\\\\\\\": true, \\\\\\\\\\\\\"name\\\\\\\\\\\\\": null, \\\\\\\\\\\\\"annotation\\\\\\\\\\\\\": null}, {\\\\\\\\\\\\\"id\\\\\\\\\\\\\": \\\\\\\\\\\\\"81d8e97d-3b64-4b6d-9109-d19de2afe9ee\\\\\\\\\\\\\", \\\\\\\\\\\\\"type\\\\\\\\\\\\\": \\\\\\\\\\\\\"Microsoft.DPrep.DropColumnsBlock\\\\\\\\\\\\\", \\\\\\\\\\\\\"arguments\\\\\\\\\\\\\": {\\\\\\\\\\\\\"columns\\\\\\\\\\\\\": {\\\\\\\\\\\\\"type\\\\\\\\\\\\\": 0, \\\\\\\\\\\\\"details\\\\\\\\\\\\\": {\\\\\\\\\\\\\"selectedColumns\\\\\\\\\\\\\": [\\\\\\\\\\\\\"Path\\\\\\\\\\\\\"]}}}, \\\\\\\\\\\\\"localData\\\\\\\\\\\\\": {}, \\\\\\\\\\\\\"isEnabled\\\\\\\\\\\\\": true, \\\\\\\\\\\\\"name\\\\\\\\\\\\\": null, \\\\\\\\\\\\\"annotation\\\\\\\\\\\\\": null}, {\\\\\\\\\\\\\"id\\\\\\\\\\\\\": \\\\\\\\\\\\\"e257a43a-0c93-418d-a8e7-d95e5d5831e0\\\\\\\\\\\\\", \\\\\\\\\\\\\"type\\\\\\\\\\\\\": \\\\\\\\\\\\\"Microsoft.DPrep.SetColumnTypesBlock\\\\\\\\\\\\\", \\\\\\\\\\\\\"arguments\\\\\\\\\\\\\": {\\\\\\\\\\\\\"columnConversion\\\\\\\\\\\\\": [{\\\\\\\\\\\\\"column\\\\\\\\\\\\\": {\\\\\\\\\\\\\"type\\\\\\\\\\\\\": 2, \\\\\\\\\\\\\"details\\\\\\\\\\\\\": {\\\\\\\\\\\\\"selectedColumn\\\\\\\\\\\\\": \\\\\\\\\\\\\"age\\\\\\\\\\\\\"}}, \\\\\\\\\\\\\"typeProperty\\\\\\\\\\\\\": 2}, {\\\\\\\\\\\\\"column\\\\\\\\\\\\\": {\\\\\\\\\\\\\"type\\\\\\\\\\\\\": 2, \\\\\\\\\\\\\"details\\\\\\\\\\\\\": {\\\\\\\\\\\\\"selectedColumn\\\\\\\\\\\\\": \\\\\\\\\\\\\"sex\\\\\\\\\\\\\"}}, \\\\\\\\\\\\\"typeProperty\\\\\\\\\\\\\": 2}, {\\\\\\\\\\\\\"column\\\\\\\\\\\\\": {\\\\\\\\\\\\\"type\\\\\\\\\\\\\": 2, \\\\\\\\\\\\\"details\\\\\\\\\\\\\": {\\\\\\\\\\\\\"selectedColumn\\\\\\\\\\\\\": \\\\\\\\\\\\\"cp\\\\\\\\\\\\\"}}, \\\\\\\\\\\\\"typeProperty\\\\\\\\\\\\\": 2}, {\\\\\\\\\\\\\"column\\\\\\\\\\\\\": {\\\\\\\\\\\\\"type\\\\\\\\\\\\\": 2, \\\\\\\\\\\\\"details\\\\\\\\\\\\\": {\\\\\\\\\\\\\"selectedColumn\\\\\\\\\\\\\": \\\\\\\\\\\\\"trestbps\\\\\\\\\\\\\"}}, \\\\\\\\\\\\\"typeProperty\\\\\\\\\\\\\": 2}, {\\\\\\\\\\\\\"column\\\\\\\\\\\\\": {\\\\\\\\\\\\\"type\\\\\\\\\\\\\": 2, \\\\\\\\\\\\\"details\\\\\\\\\\\\\": {\\\\\\\\\\\\\"selectedColumn\\\\\\\\\\\\\": \\\\\\\\\\\\\"chol\\\\\\\\\\\\\"}}, \\\\\\\\\\\\\"typeProperty\\\\\\\\\\\\\": 2}, {\\\\\\\\\\\\\"column\\\\\\\\\\\\\": {\\\\\\\\\\\\\"type\\\\\\\\\\\\\": 2, \\\\\\\\\\\\\"details\\\\\\\\\\\\\": {\\\\\\\\\\\\\"selectedColumn\\\\\\\\\\\\\": \\\\\\\\\\\\\"fbs\\\\\\\\\\\\\"}}, \\\\\\\\\\\\\"typeProperty\\\\\\\\\\\\\": 2}, {\\\\\\\\\\\\\"column\\\\\\\\\\\\\": {\\\\\\\\\\\\\"type\\\\\\\\\\\\\": 2, \\\\\\\\\\\\\"details\\\\\\\\\\\\\": {\\\\\\\\\\\\\"selectedColumn\\\\\\\\\\\\\": \\\\\\\\\\\\\"restecg\\\\\\\\\\\\\"}}, \\\\\\\\\\\\\"typeProperty\\\\\\\\\\\\\": 2}, {\\\\\\\\\\\\\"column\\\\\\\\\\\\\": {\\\\\\\\\\\\\"type\\\\\\\\\\\\\": 2, \\\\\\\\\\\\\"details\\\\\\\\\\\\\": {\\\\\\\\\\\\\"selectedColumn\\\\\\\\\\\\\": \\\\\\\\\\\\\"thalach\\\\\\\\\\\\\"}}, \\\\\\\\\\\\\"typeProperty\\\\\\\\\\\\\": 2}, {\\\\\\\\\\\\\"column\\\\\\\\\\\\\": {\\\\\\\\\\\\\"type\\\\\\\\\\\\\": 2, \\\\\\\\\\\\\"details\\\\\\\\\\\\\": {\\\\\\\\\\\\\"selectedColumn\\\\\\\\\\\\\": \\\\\\\\\\\\\"exang\\\\\\\\\\\\\"}}, \\\\\\\\\\\\\"typeProperty\\\\\\\\\\\\\": 2}, {\\\\\\\\\\\\\"column\\\\\\\\\\\\\": {\\\\\\\\\\\\\"type\\\\\\\\\\\\\": 2, \\\\\\\\\\\\\"details\\\\\\\\\\\\\": {\\\\\\\\\\\\\"selectedColumn\\\\\\\\\\\\\": \\\\\\\\\\\\\"oldpeak\\\\\\\\\\\\\"}}, \\\\\\\\\\\\\"typeProperty\\\\\\\\\\\\\": 3}, {\\\\\\\\\\\\\"column\\\\\\\\\\\\\": {\\\\\\\\\\\\\"type\\\\\\\\\\\\\": 2, \\\\\\\\\\\\\"details\\\\\\\\\\\\\": {\\\\\\\\\\\\\"selectedColumn\\\\\\\\\\\\\": \\\\\\\\\\\\\"slope\\\\\\\\\\\\\"}}, \\\\\\\\\\\\\"typeProperty\\\\\\\\\\\\\": 2}, {\\\\\\\\\\\\\"column\\\\\\\\\\\\\": {\\\\\\\\\\\\\"type\\\\\\\\\\\\\": 2, \\\\\\\\\\\\\"details\\\\\\\\\\\\\": {\\\\\\\\\\\\\"selectedColumn\\\\\\\\\\\\\": \\\\\\\\\\\\\"ca\\\\\\\\\\\\\"}}, \\\\\\\\\\\\\"typeProperty\\\\\\\\\\\\\": 2}, {\\\\\\\\\\\\\"column\\\\\\\\\\\\\": {\\\\\\\\\\\\\"type\\\\\\\\\\\\\": 2, \\\\\\\\\\\\\"details\\\\\\\\\\\\\": {\\\\\\\\\\\\\"selectedColumn\\\\\\\\\\\\\": \\\\\\\\\\\\\"thal\\\\\\\\\\\\\"}}, \\\\\\\\\\\\\"typeProperty\\\\\\\\\\\\\": 2}, {\\\\\\\\\\\\\"column\\\\\\\\\\\\\": {\\\\\\\\\\\\\"type\\\\\\\\\\\\\": 2, \\\\\\\\\\\\\"details\\\\\\\\\\\\\": {\\\\\\\\\\\\\"selectedColumn\\\\\\\\\\\\\": \\\\\\\\\\\\\"target\\\\\\\\\\\\\"}}, \\\\\\\\\\\\\"typeProperty\\\\\\\\\\\\\": 2}]}, \\\\\\\\\\\\\"localData\\\\\\\\\\\\\": {}, \\\\\\\\\\\\\"isEnabled\\\\\\\\\\\\\": true, \\\\\\\\\\\\\"name\\\\\\\\\\\\\": null, \\\\\\\\\\\\\"annotation\\\\\\\\\\\\\": null}], \\\\\\\\\\\\\"inspectors\\\\\\\\\\\\\": [], \\\\\\\\\\\\\"meta\\\\\\\\\\\\\": {\\\\\\\\\\\\\"savedDatasetId\\\\\\\\\\\\\": \\\\\\\\\\\\\"b122cb0f-a7cf-469d-97dc-dc989201b5dd\\\\\\\\\\\\\", \\\\\\\\\\\\\"datasetType\\\\\\\\\\\\\": \\\\\\\\\\\\\"tabular\\\\\\\\\\\\\", \\\\\\\\\\\\\"subscriptionId\\\\\\\\\\\\\": \\\\\\\\\\\\\"976ee174-3882-4721-b90a-b5fef6b72f24\\\\\\\\\\\\\", \\\\\\\\\\\\\"workspaceId\\\\\\\\\\\\\": \\\\\\\\\\\\\"9f63e6f1-0aa6-413a-9594-63f9667e0f9b\\\\\\\\\\\\\", \\\\\\\\\\\\\"workspaceLocation\\\\\\\\\\\\\": \\\\\\\\\\\\\"southcentralus\\\\\\\\\\\\\"}}\\\\\", \\\\\"activities\\\\\": 0}',\n",
       "  'EnableSubsampling': None,\n",
       "  'runTemplate': 'AutoML',\n",
       "  'azureml.runsource': 'automl',\n",
       "  'display_task_type': 'classification',\n",
       "  'dependencies_versions': '{\"azureml-widgets\": \"1.20.0\", \"azureml-train\": \"1.20.0\", \"azureml-train-restclients-hyperdrive\": \"1.20.0\", \"azureml-train-core\": \"1.20.0\", \"azureml-train-automl\": \"1.20.0\", \"azureml-train-automl-runtime\": \"1.20.0\", \"azureml-train-automl-client\": \"1.20.0\", \"azureml-tensorboard\": \"1.20.0\", \"azureml-telemetry\": \"1.20.0\", \"azureml-sdk\": \"1.20.0\", \"azureml-samples\": \"0+unknown\", \"azureml-pipeline\": \"1.20.0\", \"azureml-pipeline-steps\": \"1.20.0\", \"azureml-pipeline-core\": \"1.20.0\", \"azureml-opendatasets\": \"1.20.0\", \"azureml-model-management-sdk\": \"1.0.1b6.post1\", \"azureml-mlflow\": \"1.20.0.post1\", \"azureml-interpret\": \"1.20.0\", \"azureml-explain-model\": \"1.20.0\", \"azureml-defaults\": \"1.20.0\", \"azureml-dataset-runtime\": \"1.20.0\", \"azureml-dataprep\": \"2.7.3\", \"azureml-dataprep-rslex\": \"1.5.0\", \"azureml-dataprep-native\": \"27.0.0\", \"azureml-datadrift\": \"1.20.0\", \"azureml-core\": \"1.20.0\", \"azureml-contrib-services\": \"1.20.0\", \"azureml-contrib-server\": \"1.20.0\", \"azureml-contrib-reinforcementlearning\": \"1.20.0\", \"azureml-contrib-pipeline-steps\": \"1.20.0\", \"azureml-contrib-notebook\": \"1.20.0\", \"azureml-contrib-interpret\": \"1.20.0\", \"azureml-contrib-gbdt\": \"1.20.0\", \"azureml-contrib-fairness\": \"1.20.0\", \"azureml-contrib-dataset\": \"1.20.0\", \"azureml-cli-common\": \"1.20.0\", \"azureml-automl-runtime\": \"1.20.0\", \"azureml-automl-core\": \"1.20.0\", \"azureml-accel-models\": \"1.20.0\"}',\n",
       "  '_aml_system_scenario_identification': 'Remote.Parent',\n",
       "  'ClientType': 'SDK',\n",
       "  'environment_cpu_name': 'AzureML-AutoML',\n",
       "  'environment_cpu_label': 'prod',\n",
       "  'environment_gpu_name': 'AzureML-AutoML-GPU',\n",
       "  'environment_gpu_label': 'prod',\n",
       "  'root_attribution': 'automl',\n",
       "  'attribution': 'AutoML',\n",
       "  'Orchestrator': 'AutoML',\n",
       "  'CancelUri': 'https://southcentralus.experiments.azureml.net/jasmine/v1.0/subscriptions/976ee174-3882-4721-b90a-b5fef6b72f24/resourceGroups/aml-quickstarts-136593/providers/Microsoft.MachineLearningServices/workspaces/quick-starts-ws-136593/experimentids/8ebf8b77-32d3-4334-93c3-94533e87711d/cancel/AutoML_4b3e9d87-95c4-4540-b56d-7cfc88ec52ac',\n",
       "  'ClientSdkVersion': '1.20.0.post1',\n",
       "  'snapshotId': '00000000-0000-0000-0000-000000000000',\n",
       "  'SetupRunId': 'AutoML_4b3e9d87-95c4-4540-b56d-7cfc88ec52ac_setup',\n",
       "  'SetupRunContainerId': 'dcid.AutoML_4b3e9d87-95c4-4540-b56d-7cfc88ec52ac_setup',\n",
       "  'FeaturizationRunJsonPath': 'featurizer_container.json',\n",
       "  'FeaturizationRunId': 'AutoML_4b3e9d87-95c4-4540-b56d-7cfc88ec52ac_featurize',\n",
       "  'ProblemInfoJsonString': '{\"dataset_num_categorical\": 0, \"is_sparse\": true, \"subsampling\": false, \"dataset_classes\": 2, \"dataset_features\": 27, \"dataset_samples\": 303, \"single_frequency_class_detected\": false}',\n",
       "  'ModelExplainRunId': 'AutoML_4b3e9d87-95c4-4540-b56d-7cfc88ec52ac_ModelExplain'},\n",
       " 'inputDatasets': [{'dataset': {'id': 'b122cb0f-a7cf-469d-97dc-dc989201b5dd'}, 'consumptionDetails': {'type': 'RunInput', 'inputName': 'training_data', 'mechanism': 'Direct'}}],\n",
       " 'outputDatasets': [],\n",
       " 'logFiles': {},\n",
       " 'submittedBy': 'ODL_User 136593'}"
      ]
     },
     "execution_count": 9,
     "metadata": {},
     "output_type": "execute_result"
    }
   ],
   "source": [
    "from azureml.widgets import RunDetails\n",
    "RunDetails(remote_run).show()\n",
    "remote_run.wait_for_completion()"
   ]
  },
  {
   "cell_type": "markdown",
   "metadata": {},
   "source": [
    "## Retreive and save best ONNX model"
   ]
  },
  {
   "cell_type": "code",
   "execution_count": 10,
   "metadata": {
    "gather": {
     "logged": 1611519259517
    }
   },
   "outputs": [],
   "source": [
    "from azureml.automl.runtime.onnx_convert import OnnxConverter\n",
    "\n",
    "\n",
    "best_run, onnx_model = remote_run.get_output(return_onnx_model=True)\n",
    "onnx_path = \"./best_model.onnx\"\n",
    "OnnxConverter.save_onnx_model(onnx_model, onnx_path)"
   ]
  },
  {
   "cell_type": "markdown",
   "metadata": {},
   "source": [
    "## Test prediction using ONNX model"
   ]
  },
  {
   "cell_type": "code",
   "execution_count": 11,
   "metadata": {
    "gather": {
     "logged": 1611519283546
    }
   },
   "outputs": [
    {
     "name": "stdout",
     "output_type": "stream",
     "text": [
      "[1 1]\n"
     ]
    }
   ],
   "source": [
    "from azureml.automl.core.onnx_convert import OnnxConvertConstants\n",
    "from azureml.train.automl import constants\n",
    "import onnxruntime\n",
    "from azureml.automl.runtime.onnx_convert import OnnxInferenceHelper\n",
    "import sys\n",
    "import json\n",
    "\n",
    "\n",
    "if sys.version_info < OnnxConvertConstants.OnnxIncompatiblePythonVersion:\n",
    "    python_version_compatible = True\n",
    "else:\n",
    "    python_version_compatible = False\n",
    "\n",
    "\n",
    "def get_onnx_res(run):\n",
    "    res_path = 'onnx_resource.json'\n",
    "    run.download_file(name=constants.MODEL_RESOURCE_PATH_ONNX, output_file_path=res_path)\n",
    "    with open(res_path) as f:\n",
    "        onnx_res = json.load(f)\n",
    "    return onnx_res\n",
    "\n",
    "if python_version_compatible:\n",
    "    test_df = dataset.to_pandas_dataframe()[:2]\n",
    "    mdl_bytes = onnx_model.SerializeToString()\n",
    "    onnx_res = get_onnx_res(best_run)\n",
    "\n",
    "    onnxrt_helper = OnnxInferenceHelper(mdl_bytes, onnx_res)\n",
    "    pred_onnx, pred_prob_onnx = onnxrt_helper.predict(test_df)\n",
    "\n",
    "    print(pred_onnx)\n",
    "else:\n",
    "    print('Please use Python version 3.6 or 3.7 to run the inference helper.')"
   ]
  },
  {
   "cell_type": "markdown",
   "metadata": {},
   "source": [
    "## Best Model\n",
    "\n",
    "Getting the best model from the automl experiments and display all the properties of the model.\n",
    "\n"
   ]
  },
  {
   "cell_type": "code",
   "execution_count": 12,
   "metadata": {
    "gather": {
     "logged": 1598431425670
    },
    "jupyter": {
     "outputs_hidden": false,
     "source_hidden": false
    },
    "nteract": {
     "transient": {
      "deleting": false
     }
    }
   },
   "outputs": [
    {
     "name": "stdout",
     "output_type": "stream",
     "text": [
      "- Best Run Id:  AutoML_4b3e9d87-95c4-4540-b56d-7cfc88ec52ac_38\n",
      "- Accuracy: 0.8644086021505377\n",
      "- AUC_weighted: 0.9169683691924403\n"
     ]
    },
    {
     "data": {
      "text/plain": [
       "['azureml_fitted_model.sav']"
      ]
     },
     "execution_count": 12,
     "metadata": {},
     "output_type": "execute_result"
    }
   ],
   "source": [
    "import joblib\n",
    "# Retrieve and save your best automl model.\n",
    "\n",
    "best_run, fitted_model = remote_run.get_output()\n",
    "best_run_metrics = best_run.get_metrics()\n",
    "\n",
    "print('- Best Run Id: ', best_run.id)\n",
    "print('- Accuracy:', best_run_metrics['accuracy'])\n",
    "print('- AUC_weighted:', best_run_metrics['AUC_weighted'])\n",
    "joblib.dump(fitted_model,'azureml_fitted_model.sav')"
   ]
  },
  {
   "cell_type": "markdown",
   "metadata": {},
   "source": [
    "### Register best model"
   ]
  },
  {
   "cell_type": "code",
   "execution_count": 13,
   "metadata": {},
   "outputs": [
    {
     "name": "stdout",
     "output_type": "stream",
     "text": [
      "AutoML4b3e9d87938\n"
     ]
    }
   ],
   "source": [
    "model_name = best_run.properties[\"model_name\"]\n",
    "description = \"AutoML model for predicting heart disease.\"\n",
    "tags = None\n",
    "model = remote_run.register_model(model_name=model_name, description=description, tags=tags)\n",
    "\n",
    "print(remote_run.model_id)"
   ]
  },
  {
   "cell_type": "markdown",
   "metadata": {},
   "source": [
    "## Model Deployment\n",
    "\n",
    "Remember you have to deploy only one of the two models you trained.. Perform the steps in the rest of this notebook only if you wish to deploy this model.\n",
    "\n",
    "TODO: In the cell below, register the model, create an inference config and deploy the model as a web service."
   ]
  },
  {
   "cell_type": "code",
   "execution_count": 14,
   "metadata": {
    "gather": {
     "logged": 1598431435189
    },
    "jupyter": {
     "outputs_hidden": false,
     "source_hidden": false
    },
    "nteract": {
     "transient": {
      "deleting": false
     }
    }
   },
   "outputs": [],
   "source": [
    "script_file_name = 'inference/score.py'\n",
    "\n",
    "best_run.download_file('outputs/scoring_file_v_1_0_0.py', 'inference/score.py')"
   ]
  },
  {
   "cell_type": "markdown",
   "metadata": {
    "gather": {
     "logged": 1598432707604
    },
    "jupyter": {
     "outputs_hidden": false,
     "source_hidden": false
    },
    "nteract": {
     "transient": {
      "deleting": false
     }
    }
   },
   "source": [
    "### Deploy the model as a webservice using ACI"
   ]
  },
  {
   "cell_type": "code",
   "execution_count": 15,
   "metadata": {},
   "outputs": [
    {
     "name": "stdout",
     "output_type": "stream",
     "text": [
      "automl-heart-disease-prediction\n",
      "Tips: You can try get_logs(): https://aka.ms/debugimage#dockerlog or local deployment: https://aka.ms/debugimage#debug-locally to debug if deployment takes longer than 10 minutes.\n",
      "Running.............................................\n",
      "Succeeded\n",
      "ACI service creation operation finished, operation \"Succeeded\"\n",
      "Healthy\n"
     ]
    }
   ],
   "source": [
    "from azureml.core.model import InferenceConfig\n",
    "from azureml.core.webservice import AciWebservice\n",
    "from azureml.core.webservice import Webservice\n",
    "from azureml.core.model import Model\n",
    "from azureml.core.environment import Environment\n",
    "\n",
    "inference_config = InferenceConfig(entry_script=script_file_name)\n",
    "\n",
    "aciconfig = AciWebservice.deploy_configuration(cpu_cores = 1, \n",
    "                                               memory_gb = 1, \n",
    "                                               tags = {'area': \"bmData\", 'type': \"automl_classification\"}, \n",
    "                                               description = 'Heart Disease prediction using Automl Classification')\n",
    "\n",
    "aci_service_name = 'automl-heart-disease-prediction'\n",
    "print(aci_service_name)\n",
    "aci_service = Model.deploy(ws, aci_service_name, [model], inference_config, aciconfig)\n",
    "aci_service.wait_for_deployment(True)\n",
    "print(aci_service.state)"
   ]
  },
  {
   "cell_type": "markdown",
   "metadata": {},
   "source": [
    "### Test the web service"
   ]
  },
  {
   "cell_type": "code",
   "execution_count": 23,
   "metadata": {},
   "outputs": [
    {
     "name": "stdout",
     "output_type": "stream",
     "text": [
      "[1, 0]\n"
     ]
    }
   ],
   "source": [
    "#Test 1\n",
    "import requests\n",
    "import json\n",
    "\n",
    "data = json.dumps({ \n",
    "  \"data\": [  \n",
    "    {\n",
    "      \"age\": 63,\n",
    "      \"sex\": 1,\n",
    "      \"cp\": 3,\n",
    "      \"trestbps\": 145,\n",
    "      \"chol\": 233,\n",
    "      \"fbs\": 1,\n",
    "      \"restecg\": 0,\n",
    "      \"thalach\": 150,\n",
    "      \"exang\": 0,\n",
    "      \"oldpeak\": 2.3,\n",
    "      \"slope\": 0,\n",
    "      \"ca\": 0,\n",
    "      \"thal\": 1\n",
    "    },\n",
    "    { \n",
    "      \"age\": 57,\n",
    "      \"sex\": 0,\n",
    "      \"cp\": 0,\n",
    "      \"trestbps\": 140,\n",
    "      \"chol\": 241,\n",
    "      \"fbs\": 0,\n",
    "      \"restecg\": 1,\n",
    "      \"thalach\": 123,\n",
    "      \"exang\": 1,\n",
    "      \"oldpeak\": 0.2,\n",
    "      \"slope\": 1,\n",
    "      \"ca\": 0,\n",
    "      \"thal\": 3\n",
    "    }\n",
    "  ]\n",
    "})\n",
    "\n",
    "headers = {'Content-Type': 'application/json'}\n",
    "\n",
    "resp = requests.post(aci_service.scoring_uri, data, headers=headers)\n",
    "\n",
    "pred = json.loads(json.loads(resp.text))['result']\n",
    "print(pred)"
   ]
  },
  {
   "cell_type": "markdown",
   "metadata": {
    "jupyter": {
     "outputs_hidden": false,
     "source_hidden": false
    },
    "nteract": {
     "transient": {
      "deleting": false
     }
    }
   },
   "source": [
    "### Get service logs"
   ]
  },
  {
   "cell_type": "code",
   "execution_count": 24,
   "metadata": {
    "scrolled": true
   },
   "outputs": [
    {
     "data": {
      "text/plain": [
       "'/usr/sbin/nginx: /azureml-envs/azureml_265db83b0c6014ce472c5de2f0b97e04/lib/libcrypto.so.1.0.0: no version information available (required by /usr/sbin/nginx)\\n/usr/sbin/nginx: /azureml-envs/azureml_265db83b0c6014ce472c5de2f0b97e04/lib/libcrypto.so.1.0.0: no version information available (required by /usr/sbin/nginx)\\n/usr/sbin/nginx: /azureml-envs/azureml_265db83b0c6014ce472c5de2f0b97e04/lib/libssl.so.1.0.0: no version information available (required by /usr/sbin/nginx)\\n/usr/sbin/nginx: /azureml-envs/azureml_265db83b0c6014ce472c5de2f0b97e04/lib/libssl.so.1.0.0: no version information available (required by /usr/sbin/nginx)\\n/usr/sbin/nginx: /azureml-envs/azureml_265db83b0c6014ce472c5de2f0b97e04/lib/libssl.so.1.0.0: no version information available (required by /usr/sbin/nginx)\\n2021-01-30T13:38:04,704384694+00:00 - rsyslog/run \\n2021-01-30T13:38:04,705875722+00:00 - iot-server/run \\n2021-01-30T13:38:04,705454014+00:00 - gunicorn/run \\n2021-01-30T13:38:04,707306149+00:00 - nginx/run \\nrsyslogd: /azureml-envs/azureml_265db83b0c6014ce472c5de2f0b97e04/lib/libuuid.so.1: no version information available (required by rsyslogd)\\nEdgeHubConnectionString and IOTEDGE_IOTHUBHOSTNAME are not set. Exiting...\\n2021-01-30T13:38:04,902606863+00:00 - iot-server/finish 1 0\\n2021-01-30T13:38:04,904354795+00:00 - Exit code 1 is normal. Not restarting iot-server.\\nStarting gunicorn 19.9.0\\nListening at: http://127.0.0.1:31311 (12)\\nUsing worker: sync\\nworker timeout is set to 300\\nBooting worker with pid: 42\\nSPARK_HOME not set. Skipping PySpark Initialization.\\nGenerating new fontManager, this may take some time...\\nInitializing logger\\n2021-01-30 13:38:06,225 | root | INFO | Starting up app insights client\\n2021-01-30 13:38:06,225 | root | INFO | Starting up request id generator\\n2021-01-30 13:38:06,225 | root | INFO | Starting up app insight hooks\\n2021-01-30 13:38:06,226 | root | INFO | Invoking user\\'s init function\\n2021-01-30 13:38:08,616 | azureml.core | WARNING | Failure while loading azureml_run_type_providers. Failed to load entrypoint automl = azureml.train.automl.run:AutoMLRun._from_run_dto with exception cannot import name \\'RunType\\'.\\nFailure while loading azureml_run_type_providers. Failed to load entrypoint automl = azureml.train.automl.run:AutoMLRun._from_run_dto with exception cannot import name \\'RunType\\'.\\n2021-01-30 13:38:08,886 | root | INFO | Users\\'s init has completed successfully\\n2021-01-30 13:38:08,889 | root | INFO | Skipping middleware: dbg_model_info as it\\'s not enabled.\\n2021-01-30 13:38:08,890 | root | INFO | Skipping middleware: dbg_resource_usage as it\\'s not enabled.\\n2021-01-30 13:38:08,891 | root | INFO | Scoring timeout is found from os.environ: 60000 ms\\n2021-01-30 13:38:16,546 | root | INFO | 200\\n127.0.0.1 - - [30/Jan/2021:13:38:16 +0000] \"GET /swagger.json HTTP/1.0\" 200 2783 \"-\" \"Go-http-client/1.1\"\\n2021-01-30 13:38:18,699 | root | INFO | 200\\n127.0.0.1 - - [30/Jan/2021:13:38:18 +0000] \"GET /swagger.json HTTP/1.0\" 200 2783 \"-\" \"Go-http-client/1.1\"\\n2021-01-30 13:40:36,226 | root | INFO | Validation Request Content-Type\\n2021-01-30 13:40:36,227 | root | INFO | Scoring Timer is set to 60.0 seconds\\n2021-01-30 13:40:36,290 | root | INFO | 200\\n127.0.0.1 - - [30/Jan/2021:13:40:36 +0000] \"POST /score HTTP/1.0\" 200 19 \"-\" \"python-requests/2.25.1\"\\n2021-01-30 13:40:38,985 | root | INFO | Validation Request Content-Type\\n2021-01-30 13:40:38,986 | root | INFO | Scoring Timer is set to 60.0 seconds\\n2021-01-30 13:40:39,036 | root | INFO | 200\\n127.0.0.1 - - [30/Jan/2021:13:40:39 +0000] \"POST /score HTTP/1.0\" 200 19 \"-\" \"python-requests/2.25.1\"\\n127.0.0.1 - - [30/Jan/2021:14:16:49 +0000] \"GET /config/getuser?index=0 HTTP/1.0\" 404 232 \"-\" \"Mozilla/5.0 (X11; Ubuntu; Linux x86_64; rv:76.0) Gecko/20100101 Firefox/76.0\"\\n2021-01-30 14:52:33,141 | root | INFO | Validation Request Content-Type\\n2021-01-30 14:52:33,142 | root | INFO | Scoring Timer is set to 60.0 seconds\\n2021-01-30 14:52:33,201 | root | INFO | 200\\n127.0.0.1 - - [30/Jan/2021:14:52:33 +0000] \"POST /score HTTP/1.0\" 200 19 \"-\" \"python-requests/2.25.1\"\\n2021-01-30 14:52:47,746 | root | INFO | Validation Request Content-Type\\n2021-01-30 14:52:47,747 | root | INFO | Scoring Timer is set to 60.0 seconds\\n2021-01-30 14:52:47,805 | root | INFO | 200\\n127.0.0.1 - - [30/Jan/2021:14:52:47 +0000] \"POST /score HTTP/1.0\" 200 19 \"-\" \"python-requests/2.25.1\"\\n2021-01-30 14:52:52,356 | root | INFO | Validation Request Content-Type\\n2021-01-30 14:52:52,357 | root | INFO | Scoring Timer is set to 60.0 seconds\\n2021-01-30 14:52:52,420 | root | INFO | 200\\n127.0.0.1 - - [30/Jan/2021:14:52:52 +0000] \"POST /score HTTP/1.0\" 200 19 \"-\" \"python-requests/2.25.1\"\\n127.0.0.1 - - [30/Jan/2021:15:54:19 +0000] \"GET /login HTTP/1.0\" 404 232 \"-\" \"Go-http-client/1.1\"\\n127.0.0.1 - - [30/Jan/2021:15:54:19 +0000] \"GET /jenkins/login HTTP/1.0\" 404 232 \"-\" \"Go-http-client/1.1\"\\n127.0.0.1 - E1O3sGxQ [30/Jan/2021:15:54:22 +0000] \"GET /manager/html HTTP/1.0\" 404 232 \"-\" \"Go-http-client/1.1\"\\n127.0.0.1 - - [30/Jan/2021:16:00:29 +0000] \"GET /english/ HTTP/1.0\" 404 232 \"-\" \"Mozilla/5.0 (Windows NT 10.0; WOW64) AppleWebKit/537.36 (KHTML, like Gecko) Chrome/45.0.2454.101 Safari/537.36\"\\n127.0.0.1 - - [30/Jan/2021:16:04:04 +0000] \"GET /w00tw00t.at.blackhats.romanian.anti-sec:%29 HTTP/1.0\" 404 232 \"-\" \"ZmEu\"\\n127.0.0.1 - - [30/Jan/2021:16:04:04 +0000] \"GET /phpMyAdmin/scripts/setup.php HTTP/1.0\" 404 232 \"-\" \"ZmEu\"\\n127.0.0.1 - - [30/Jan/2021:17:12:01 +0000] \"GET /login HTTP/1.0\" 404 232 \"-\" \"Go-http-client/1.1\"\\n127.0.0.1 - - [30/Jan/2021:17:12:01 +0000] \"GET /jenkins/login HTTP/1.0\" 404 232 \"-\" \"Go-http-client/1.1\"\\n127.0.0.1 - 3gdqJ2is [30/Jan/2021:17:12:01 +0000] \"GET /manager/html HTTP/1.0\" 404 232 \"-\" \"Go-http-client/1.1\"\\n2021-01-30 17:12:44,323 | root | INFO | Validation Request Content-Type\\n2021-01-30 17:12:44,323 | root | INFO | Scoring Timer is set to 60.0 seconds\\n2021-01-30 17:12:44,384 | root | INFO | 200\\n127.0.0.1 - - [30/Jan/2021:17:12:44 +0000] \"POST /score HTTP/1.0\" 200 22 \"-\" \"python-requests/2.25.1\"\\n'"
      ]
     },
     "execution_count": 24,
     "metadata": {},
     "output_type": "execute_result"
    }
   ],
   "source": [
    "aci_service.get_logs()"
   ]
  },
  {
   "cell_type": "markdown",
   "metadata": {},
   "source": [
    "### Delete the web service"
   ]
  },
  {
   "cell_type": "code",
   "execution_count": 19,
   "metadata": {},
   "outputs": [],
   "source": [
    "#aci_service.delete()"
   ]
  },
  {
   "cell_type": "markdown",
   "metadata": {},
   "source": [
    "End!"
   ]
  }
 ],
 "metadata": {
  "kernel_info": {
   "name": "python3-azureml"
  },
  "kernelspec": {
   "display_name": "Python 3.6 - AzureML",
   "language": "python",
   "name": "python3-azureml"
  },
  "language_info": {
   "codemirror_mode": {
    "name": "ipython",
    "version": 3
   },
   "file_extension": ".py",
   "mimetype": "text/x-python",
   "name": "python",
   "nbconvert_exporter": "python",
   "pygments_lexer": "ipython3",
   "version": "3.6.9"
  },
  "nteract": {
   "version": "nteract-front-end@1.0.0"
  }
 },
 "nbformat": 4,
 "nbformat_minor": 2
}
