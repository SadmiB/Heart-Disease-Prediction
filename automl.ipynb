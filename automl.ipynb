{
 "cells": [
  {
   "cell_type": "markdown",
   "metadata": {},
   "source": [
    "# Automated ML\n",
    "\n",
    "Import all the dependencies that will be needed for the project."
   ]
  },
  {
   "cell_type": "code",
   "execution_count": 1,
   "metadata": {
    "gather": {
     "logged": 1611519322441
    },
    "jupyter": {
     "outputs_hidden": false,
     "source_hidden": false
    },
    "nteract": {
     "transient": {
      "deleting": false
     }
    }
   },
   "outputs": [
    {
     "name": "stdout",
     "output_type": "stream",
     "text": [
      "SDK version: 1.20.0\n"
     ]
    }
   ],
   "source": [
    "import logging\n",
    "import os\n",
    "import csv\n",
    "\n",
    "from matplotlib import pyplot as plt\n",
    "import numpy as np\n",
    "import pandas as pd\n",
    "from sklearn import datasets\n",
    "import pkg_resources\n",
    "\n",
    "import azureml.core\n",
    "from azureml.core.experiment import Experiment\n",
    "from azureml.core.workspace import Workspace\n",
    "from azureml.train.automl import AutoMLConfig\n",
    "from azureml.core.dataset import Dataset\n",
    "\n",
    "\n",
    "print(\"SDK version:\", azureml.core.VERSION)"
   ]
  },
  {
   "cell_type": "markdown",
   "metadata": {},
   "source": [
    "# Workspace"
   ]
  },
  {
   "cell_type": "code",
   "execution_count": 2,
   "metadata": {
    "gather": {
     "logged": 1611516736885
    }
   },
   "outputs": [
    {
     "name": "stdout",
     "output_type": "stream",
     "text": [
      "quick-starts-ws-136757\n",
      "aml-quickstarts-136757\n",
      "southcentralus\n",
      "b968fb36-f06a-4c76-a15f-afab68ae7667\n"
     ]
    }
   ],
   "source": [
    "ws = Workspace.from_config()\n",
    "print(ws.name, ws.resource_group, ws.location, ws.subscription_id, sep = '\\n')"
   ]
  },
  {
   "cell_type": "markdown",
   "metadata": {},
   "source": [
    "## Dataset\n",
    "\n",
    "### Overview\n",
    "We will be using a dataset about hear disease from [kaggle](https://www.kaggle.com/ronitf/heart-disease-uci)\n",
    "\n",
    "* age: age in years \n",
    "* sex: (1 = male; 0 = female) \n",
    "* cp: chest pain type\n",
    "* trestbps: resting blood pressure (in mm Hg on admission to the hospital)\n",
    "* chol: serum cholestoral in mg/dl \n",
    "* fbs: (fasting blood sugar &gt; 120 mg/dl) (1 = true; 0 = false) \n",
    "* restecg: resting electrocardiographic results \n",
    "* thalach: maximum heart rate achieved \n",
    "* exang: exercise induced angina (1 = yes; 0 = no) \n",
    "* oldpeak: ST depression induced by exercise relative to rest \n",
    "* slope: the slope of the peak exercise ST segment\n",
    "* ca: number of major vessels (0-3) colored by flourosopy \n",
    "* thal: 3 = normal; 6 = fixed defect; 7 = reversable defect \n",
    "* target: 1 or 0 \n",
    "\n",
    "\n",
    "Accessing the dataset:"
   ]
  },
  {
   "cell_type": "code",
   "execution_count": 3,
   "metadata": {
    "gather": {
     "logged": 1611516748138
    }
   },
   "outputs": [
    {
     "name": "stdout",
     "output_type": "stream",
     "text": [
      "Creating heart-disease-dataset dataset..\n"
     ]
    },
    {
     "data": {
      "text/html": [
       "<div>\n",
       "<style scoped>\n",
       "    .dataframe tbody tr th:only-of-type {\n",
       "        vertical-align: middle;\n",
       "    }\n",
       "\n",
       "    .dataframe tbody tr th {\n",
       "        vertical-align: top;\n",
       "    }\n",
       "\n",
       "    .dataframe thead th {\n",
       "        text-align: right;\n",
       "    }\n",
       "</style>\n",
       "<table border=\"1\" class=\"dataframe\">\n",
       "  <thead>\n",
       "    <tr style=\"text-align: right;\">\n",
       "      <th></th>\n",
       "      <th>age</th>\n",
       "      <th>sex</th>\n",
       "      <th>cp</th>\n",
       "      <th>trestbps</th>\n",
       "      <th>chol</th>\n",
       "      <th>fbs</th>\n",
       "      <th>restecg</th>\n",
       "      <th>thalach</th>\n",
       "      <th>exang</th>\n",
       "      <th>oldpeak</th>\n",
       "      <th>slope</th>\n",
       "      <th>ca</th>\n",
       "      <th>thal</th>\n",
       "      <th>target</th>\n",
       "    </tr>\n",
       "  </thead>\n",
       "  <tbody>\n",
       "    <tr>\n",
       "      <th>count</th>\n",
       "      <td>303.000000</td>\n",
       "      <td>303.000000</td>\n",
       "      <td>303.000000</td>\n",
       "      <td>303.000000</td>\n",
       "      <td>303.000000</td>\n",
       "      <td>303.000000</td>\n",
       "      <td>303.000000</td>\n",
       "      <td>303.000000</td>\n",
       "      <td>303.000000</td>\n",
       "      <td>303.000000</td>\n",
       "      <td>303.000000</td>\n",
       "      <td>303.000000</td>\n",
       "      <td>303.000000</td>\n",
       "      <td>303.000000</td>\n",
       "    </tr>\n",
       "    <tr>\n",
       "      <th>mean</th>\n",
       "      <td>54.366337</td>\n",
       "      <td>0.683168</td>\n",
       "      <td>0.966997</td>\n",
       "      <td>131.623762</td>\n",
       "      <td>246.264026</td>\n",
       "      <td>0.148515</td>\n",
       "      <td>0.528053</td>\n",
       "      <td>149.646865</td>\n",
       "      <td>0.326733</td>\n",
       "      <td>1.039604</td>\n",
       "      <td>1.399340</td>\n",
       "      <td>0.729373</td>\n",
       "      <td>2.313531</td>\n",
       "      <td>0.544554</td>\n",
       "    </tr>\n",
       "    <tr>\n",
       "      <th>std</th>\n",
       "      <td>9.082101</td>\n",
       "      <td>0.466011</td>\n",
       "      <td>1.032052</td>\n",
       "      <td>17.538143</td>\n",
       "      <td>51.830751</td>\n",
       "      <td>0.356198</td>\n",
       "      <td>0.525860</td>\n",
       "      <td>22.905161</td>\n",
       "      <td>0.469794</td>\n",
       "      <td>1.161075</td>\n",
       "      <td>0.616226</td>\n",
       "      <td>1.022606</td>\n",
       "      <td>0.612277</td>\n",
       "      <td>0.498835</td>\n",
       "    </tr>\n",
       "    <tr>\n",
       "      <th>min</th>\n",
       "      <td>29.000000</td>\n",
       "      <td>0.000000</td>\n",
       "      <td>0.000000</td>\n",
       "      <td>94.000000</td>\n",
       "      <td>126.000000</td>\n",
       "      <td>0.000000</td>\n",
       "      <td>0.000000</td>\n",
       "      <td>71.000000</td>\n",
       "      <td>0.000000</td>\n",
       "      <td>0.000000</td>\n",
       "      <td>0.000000</td>\n",
       "      <td>0.000000</td>\n",
       "      <td>0.000000</td>\n",
       "      <td>0.000000</td>\n",
       "    </tr>\n",
       "    <tr>\n",
       "      <th>25%</th>\n",
       "      <td>47.500000</td>\n",
       "      <td>0.000000</td>\n",
       "      <td>0.000000</td>\n",
       "      <td>120.000000</td>\n",
       "      <td>211.000000</td>\n",
       "      <td>0.000000</td>\n",
       "      <td>0.000000</td>\n",
       "      <td>133.500000</td>\n",
       "      <td>0.000000</td>\n",
       "      <td>0.000000</td>\n",
       "      <td>1.000000</td>\n",
       "      <td>0.000000</td>\n",
       "      <td>2.000000</td>\n",
       "      <td>0.000000</td>\n",
       "    </tr>\n",
       "    <tr>\n",
       "      <th>50%</th>\n",
       "      <td>55.000000</td>\n",
       "      <td>1.000000</td>\n",
       "      <td>1.000000</td>\n",
       "      <td>130.000000</td>\n",
       "      <td>240.000000</td>\n",
       "      <td>0.000000</td>\n",
       "      <td>1.000000</td>\n",
       "      <td>153.000000</td>\n",
       "      <td>0.000000</td>\n",
       "      <td>0.800000</td>\n",
       "      <td>1.000000</td>\n",
       "      <td>0.000000</td>\n",
       "      <td>2.000000</td>\n",
       "      <td>1.000000</td>\n",
       "    </tr>\n",
       "    <tr>\n",
       "      <th>75%</th>\n",
       "      <td>61.000000</td>\n",
       "      <td>1.000000</td>\n",
       "      <td>2.000000</td>\n",
       "      <td>140.000000</td>\n",
       "      <td>274.500000</td>\n",
       "      <td>0.000000</td>\n",
       "      <td>1.000000</td>\n",
       "      <td>166.000000</td>\n",
       "      <td>1.000000</td>\n",
       "      <td>1.600000</td>\n",
       "      <td>2.000000</td>\n",
       "      <td>1.000000</td>\n",
       "      <td>3.000000</td>\n",
       "      <td>1.000000</td>\n",
       "    </tr>\n",
       "    <tr>\n",
       "      <th>max</th>\n",
       "      <td>77.000000</td>\n",
       "      <td>1.000000</td>\n",
       "      <td>3.000000</td>\n",
       "      <td>200.000000</td>\n",
       "      <td>564.000000</td>\n",
       "      <td>1.000000</td>\n",
       "      <td>2.000000</td>\n",
       "      <td>202.000000</td>\n",
       "      <td>1.000000</td>\n",
       "      <td>6.200000</td>\n",
       "      <td>2.000000</td>\n",
       "      <td>4.000000</td>\n",
       "      <td>3.000000</td>\n",
       "      <td>1.000000</td>\n",
       "    </tr>\n",
       "  </tbody>\n",
       "</table>\n",
       "</div>"
      ],
      "text/plain": [
       "              age         sex          cp    trestbps        chol         fbs  \\\n",
       "count  303.000000  303.000000  303.000000  303.000000  303.000000  303.000000   \n",
       "mean    54.366337    0.683168    0.966997  131.623762  246.264026    0.148515   \n",
       "std      9.082101    0.466011    1.032052   17.538143   51.830751    0.356198   \n",
       "min     29.000000    0.000000    0.000000   94.000000  126.000000    0.000000   \n",
       "25%     47.500000    0.000000    0.000000  120.000000  211.000000    0.000000   \n",
       "50%     55.000000    1.000000    1.000000  130.000000  240.000000    0.000000   \n",
       "75%     61.000000    1.000000    2.000000  140.000000  274.500000    0.000000   \n",
       "max     77.000000    1.000000    3.000000  200.000000  564.000000    1.000000   \n",
       "\n",
       "          restecg     thalach       exang     oldpeak       slope          ca  \\\n",
       "count  303.000000  303.000000  303.000000  303.000000  303.000000  303.000000   \n",
       "mean     0.528053  149.646865    0.326733    1.039604    1.399340    0.729373   \n",
       "std      0.525860   22.905161    0.469794    1.161075    0.616226    1.022606   \n",
       "min      0.000000   71.000000    0.000000    0.000000    0.000000    0.000000   \n",
       "25%      0.000000  133.500000    0.000000    0.000000    1.000000    0.000000   \n",
       "50%      1.000000  153.000000    0.000000    0.800000    1.000000    0.000000   \n",
       "75%      1.000000  166.000000    1.000000    1.600000    2.000000    1.000000   \n",
       "max      2.000000  202.000000    1.000000    6.200000    2.000000    4.000000   \n",
       "\n",
       "             thal      target  \n",
       "count  303.000000  303.000000  \n",
       "mean     2.313531    0.544554  \n",
       "std      0.612277    0.498835  \n",
       "min      0.000000    0.000000  \n",
       "25%      2.000000    0.000000  \n",
       "50%      2.000000    1.000000  \n",
       "75%      3.000000    1.000000  \n",
       "max      3.000000    1.000000  "
      ]
     },
     "execution_count": 3,
     "metadata": {},
     "output_type": "execute_result"
    }
   ],
   "source": [
    "found = False\n",
    "key = \"heart-disease-dataset\"\n",
    "description_text = \"Heart disease dataset\"\n",
    "\n",
    "if key in ws.datasets.keys():\n",
    "        print(\"Dataset {} already exists..!\".format(key))\n",
    "        found = True\n",
    "        dataset = Dataset.get_by_name(ws, name=key)\n",
    "\n",
    "if not found:\n",
    "        # Create AML Dataset and register it into Workspace\n",
    "        print(\"Creating {} dataset..\".format(key))\n",
    "        data = 'https://raw.githubusercontent.com/SadmiB/Heart-Disease-Prediction/master/heart.csv'\n",
    "        dataset = Dataset.Tabular.from_delimited_files(data)        \n",
    "        #Register Dataset in Workspace\n",
    "        dataset = dataset.register(workspace=ws,\n",
    "                                   name=key,\n",
    "                                   description=description_text)\n",
    "\n",
    "\n",
    "df = dataset.to_pandas_dataframe()\n",
    "df.describe()"
   ]
  },
  {
   "cell_type": "code",
   "execution_count": 4,
   "metadata": {
    "gather": {
     "logged": 1611516748690
    }
   },
   "outputs": [
    {
     "data": {
      "text/html": [
       "<div>\n",
       "<style scoped>\n",
       "    .dataframe tbody tr th:only-of-type {\n",
       "        vertical-align: middle;\n",
       "    }\n",
       "\n",
       "    .dataframe tbody tr th {\n",
       "        vertical-align: top;\n",
       "    }\n",
       "\n",
       "    .dataframe thead th {\n",
       "        text-align: right;\n",
       "    }\n",
       "</style>\n",
       "<table border=\"1\" class=\"dataframe\">\n",
       "  <thead>\n",
       "    <tr style=\"text-align: right;\">\n",
       "      <th></th>\n",
       "      <th>age</th>\n",
       "      <th>sex</th>\n",
       "      <th>cp</th>\n",
       "      <th>trestbps</th>\n",
       "      <th>chol</th>\n",
       "      <th>fbs</th>\n",
       "      <th>restecg</th>\n",
       "      <th>thalach</th>\n",
       "      <th>exang</th>\n",
       "      <th>oldpeak</th>\n",
       "      <th>slope</th>\n",
       "      <th>ca</th>\n",
       "      <th>thal</th>\n",
       "      <th>target</th>\n",
       "    </tr>\n",
       "  </thead>\n",
       "  <tbody>\n",
       "    <tr>\n",
       "      <th>0</th>\n",
       "      <td>63</td>\n",
       "      <td>1</td>\n",
       "      <td>3</td>\n",
       "      <td>145</td>\n",
       "      <td>233</td>\n",
       "      <td>1</td>\n",
       "      <td>0</td>\n",
       "      <td>150</td>\n",
       "      <td>0</td>\n",
       "      <td>2.3</td>\n",
       "      <td>0</td>\n",
       "      <td>0</td>\n",
       "      <td>1</td>\n",
       "      <td>1</td>\n",
       "    </tr>\n",
       "    <tr>\n",
       "      <th>1</th>\n",
       "      <td>37</td>\n",
       "      <td>1</td>\n",
       "      <td>2</td>\n",
       "      <td>130</td>\n",
       "      <td>250</td>\n",
       "      <td>0</td>\n",
       "      <td>1</td>\n",
       "      <td>187</td>\n",
       "      <td>0</td>\n",
       "      <td>3.5</td>\n",
       "      <td>0</td>\n",
       "      <td>0</td>\n",
       "      <td>2</td>\n",
       "      <td>1</td>\n",
       "    </tr>\n",
       "    <tr>\n",
       "      <th>2</th>\n",
       "      <td>41</td>\n",
       "      <td>0</td>\n",
       "      <td>1</td>\n",
       "      <td>130</td>\n",
       "      <td>204</td>\n",
       "      <td>0</td>\n",
       "      <td>0</td>\n",
       "      <td>172</td>\n",
       "      <td>0</td>\n",
       "      <td>1.4</td>\n",
       "      <td>2</td>\n",
       "      <td>0</td>\n",
       "      <td>2</td>\n",
       "      <td>1</td>\n",
       "    </tr>\n",
       "    <tr>\n",
       "      <th>3</th>\n",
       "      <td>56</td>\n",
       "      <td>1</td>\n",
       "      <td>1</td>\n",
       "      <td>120</td>\n",
       "      <td>236</td>\n",
       "      <td>0</td>\n",
       "      <td>1</td>\n",
       "      <td>178</td>\n",
       "      <td>0</td>\n",
       "      <td>0.8</td>\n",
       "      <td>2</td>\n",
       "      <td>0</td>\n",
       "      <td>2</td>\n",
       "      <td>1</td>\n",
       "    </tr>\n",
       "    <tr>\n",
       "      <th>4</th>\n",
       "      <td>57</td>\n",
       "      <td>0</td>\n",
       "      <td>0</td>\n",
       "      <td>120</td>\n",
       "      <td>354</td>\n",
       "      <td>0</td>\n",
       "      <td>1</td>\n",
       "      <td>163</td>\n",
       "      <td>1</td>\n",
       "      <td>0.6</td>\n",
       "      <td>2</td>\n",
       "      <td>0</td>\n",
       "      <td>2</td>\n",
       "      <td>1</td>\n",
       "    </tr>\n",
       "  </tbody>\n",
       "</table>\n",
       "</div>"
      ],
      "text/plain": [
       "   age  sex  cp  trestbps  chol  fbs  restecg  thalach  exang  oldpeak  slope  \\\n",
       "0   63    1   3       145   233    1        0      150      0      2.3      0   \n",
       "1   37    1   2       130   250    0        1      187      0      3.5      0   \n",
       "2   41    0   1       130   204    0        0      172      0      1.4      2   \n",
       "3   56    1   1       120   236    0        1      178      0      0.8      2   \n",
       "4   57    0   0       120   354    0        1      163      1      0.6      2   \n",
       "\n",
       "   ca  thal  target  \n",
       "0   0     1       1  \n",
       "1   0     2       1  \n",
       "2   0     2       1  \n",
       "3   0     2       1  \n",
       "4   0     2       1  "
      ]
     },
     "execution_count": 4,
     "metadata": {},
     "output_type": "execute_result"
    }
   ],
   "source": [
    "dataset.take(5).to_pandas_dataframe()"
   ]
  },
  {
   "cell_type": "markdown",
   "metadata": {},
   "source": [
    "# Experiment"
   ]
  },
  {
   "cell_type": "code",
   "execution_count": 5,
   "metadata": {
    "gather": {
     "logged": 1611516751386
    }
   },
   "outputs": [
    {
     "data": {
      "text/html": [
       "<table style=\"width:100%\"><tr><th>Name</th><th>Workspace</th><th>Report Page</th><th>Docs Page</th></tr><tr><td>heart-disease-experiment-ml1</td><td>quick-starts-ws-136757</td><td><a href=\"https://ml.azure.com/experiments/heart-disease-experiment-ml1?wsid=/subscriptions/b968fb36-f06a-4c76-a15f-afab68ae7667/resourcegroups/aml-quickstarts-136757/workspaces/quick-starts-ws-136757\" target=\"_blank\" rel=\"noopener\">Link to Azure Machine Learning studio</a></td><td><a href=\"https://docs.microsoft.com/en-us/python/api/azureml-core/azureml.core.experiment.Experiment?view=azure-ml-py\" target=\"_blank\" rel=\"noopener\">Link to Documentation</a></td></tr></table>"
      ],
      "text/plain": [
       "Experiment(Name: heart-disease-experiment-ml1,\n",
       "Workspace: quick-starts-ws-136757)"
      ]
     },
     "execution_count": 5,
     "metadata": {},
     "output_type": "execute_result"
    }
   ],
   "source": [
    "# choose a name for experiment\n",
    "experiment_name = 'heart-disease-experiment-ml1'\n",
    "project_folder = 'heart-disease-project'\n",
    "experiment=Experiment(ws, experiment_name)\n",
    "experiment"
   ]
  },
  {
   "cell_type": "markdown",
   "metadata": {},
   "source": [
    "# Create or Attach an AmlCompute cluster"
   ]
  },
  {
   "cell_type": "code",
   "execution_count": 6,
   "metadata": {
    "gather": {
     "logged": 1611516760278
    }
   },
   "outputs": [
    {
     "name": "stdout",
     "output_type": "stream",
     "text": [
      "Creating\n",
      "Succeeded................................................................................................................\n",
      "AmlCompute wait for completion finished\n",
      "\n",
      "Wait timeout has been reached\n",
      "Current provisioning state of AmlCompute is \"Succeeded\" and current node count is \"0\"\n"
     ]
    }
   ],
   "source": [
    "from azureml.core.compute import AmlCompute\n",
    "from azureml.core.compute import ComputeTarget\n",
    "from azureml.core.compute_target import ComputeTargetException\n",
    "\n",
    "# NOTE: update the cluster name to match the existing cluster\n",
    "# Choose a name for your CPU cluster\n",
    "amlcompute_cluster_name = \"auto-ml\"\n",
    "\n",
    "# Verify that cluster does not exist already\n",
    "try:\n",
    "    compute_target = ComputeTarget(workspace=ws, name=amlcompute_cluster_name)\n",
    "    print('Found existing cluster, use it.')\n",
    "except ComputeTargetException:\n",
    "    compute_config = AmlCompute.provisioning_configuration(vm_size='STANDARD_D2_V2',\n",
    "                                                           max_nodes=4)\n",
    "    compute_target = ComputeTarget.create(ws, amlcompute_cluster_name, compute_config)\n",
    "\n",
    "    compute_target.wait_for_completion(show_output=True, min_node_count = 1, timeout_in_minutes = 10)"
   ]
  },
  {
   "cell_type": "markdown",
   "metadata": {},
   "source": [
    "## AutoML Configuration\n",
    "\n",
    "Below the Automl settings and cofiguration we using AUC_weighted as a primary metric and the task to solve is classification. The target column is \"target\" which represents whether a patient has a heart disease or not."
   ]
  },
  {
   "cell_type": "code",
   "execution_count": 7,
   "metadata": {
    "gather": {
     "logged": 1611516768191
    },
    "jupyter": {
     "outputs_hidden": false,
     "source_hidden": false
    },
    "nteract": {
     "transient": {
      "deleting": false
     }
    }
   },
   "outputs": [],
   "source": [
    "# Automl settings\n",
    "automl_settings = { \n",
    "    \"experiment_timeout_minutes\": 30,\n",
    "    \"max_concurrent_iterations\": 4,\n",
    "    \"enable_onnx_compatible_models\": True,\n",
    "    \"primary_metric\" : 'accuracy',\n",
    "    \"enable_early_stopping\" : True,\n",
    "    \"featurization\" : \"auto\"\n",
    "}\n",
    "\n",
    "# automl config\n",
    "automl_config = AutoMLConfig(compute_target=compute_target,\n",
    "                             task = \"classification\",\n",
    "                             blocked_models = ['KNN','LinearSVM'],\n",
    "                             training_data=dataset,\n",
    "                             label_column_name=\"target\",   \n",
    "                             path = project_folder,\n",
    "                             debug_log = \"automl_errors.log\",\n",
    "                             **automl_settings)"
   ]
  },
  {
   "cell_type": "code",
   "execution_count": 8,
   "metadata": {
    "gather": {
     "logged": 1611516782078
    },
    "jupyter": {
     "outputs_hidden": false,
     "source_hidden": false
    },
    "nteract": {
     "transient": {
      "deleting": false
     }
    }
   },
   "outputs": [
    {
     "name": "stdout",
     "output_type": "stream",
     "text": [
      "Running on remote.\n"
     ]
    }
   ],
   "source": [
    "# Submit the ml experiment\n",
    "remote_run = experiment.submit(automl_config)"
   ]
  },
  {
   "cell_type": "markdown",
   "metadata": {},
   "source": [
    "## Run Details\n",
    "\n",
    "OPTIONAL: Write about the different models trained and their performance. Why do you think some models did better than others?\n",
    "\n",
    "TODO: In the cell below, use the `RunDetails` widget to show the different experiments."
   ]
  },
  {
   "cell_type": "code",
   "execution_count": 9,
   "metadata": {
    "gather": {
     "logged": 1611518305650
    },
    "scrolled": false
   },
   "outputs": [
    {
     "data": {
      "application/vnd.jupyter.widget-view+json": {
       "model_id": "62d715e04cd041079b082a473fae18b8",
       "version_major": 2,
       "version_minor": 0
      },
      "text/plain": [
       "_AutoMLWidget(widget_settings={'childWidgetDisplay': 'popup', 'send_telemetry': False, 'log_level': 'INFO', 's…"
      ]
     },
     "metadata": {},
     "output_type": "display_data"
    },
    {
     "data": {
      "application/aml.mini.widget.v1": "{\"status\": \"Completed\", \"workbench_run_details_uri\": \"https://ml.azure.com/experiments/heart-disease-experiment-ml1/runs/AutoML_e1060a80-2336-4d49-a0b0-de7471678476?wsid=/subscriptions/b968fb36-f06a-4c76-a15f-afab68ae7667/resourcegroups/aml-quickstarts-136757/workspaces/quick-starts-ws-136757\", \"run_id\": \"AutoML_e1060a80-2336-4d49-a0b0-de7471678476\", \"run_properties\": {\"run_id\": \"AutoML_e1060a80-2336-4d49-a0b0-de7471678476\", \"created_utc\": \"2021-01-31T17:40:51.294129Z\", \"properties\": {\"num_iterations\": \"1000\", \"training_type\": \"TrainFull\", \"acquisition_function\": \"EI\", \"primary_metric\": \"accuracy\", \"train_split\": \"0\", \"acquisition_parameter\": \"0\", \"num_cross_validation\": null, \"target\": \"auto-ml\", \"AMLSettingsJsonString\": \"{\\\"path\\\":null,\\\"name\\\":\\\"heart-disease-experiment-ml1\\\",\\\"subscription_id\\\":\\\"b968fb36-f06a-4c76-a15f-afab68ae7667\\\",\\\"resource_group\\\":\\\"aml-quickstarts-136757\\\",\\\"workspace_name\\\":\\\"quick-starts-ws-136757\\\",\\\"region\\\":\\\"southcentralus\\\",\\\"compute_target\\\":\\\"auto-ml\\\",\\\"spark_service\\\":null,\\\"azure_service\\\":\\\"remote\\\",\\\"many_models\\\":false,\\\"pipeline_fetch_max_batch_size\\\":1,\\\"iterations\\\":1000,\\\"primary_metric\\\":\\\"accuracy\\\",\\\"task_type\\\":\\\"classification\\\",\\\"data_script\\\":null,\\\"validation_size\\\":0.0,\\\"n_cross_validations\\\":null,\\\"y_min\\\":null,\\\"y_max\\\":null,\\\"num_classes\\\":null,\\\"featurization\\\":\\\"auto\\\",\\\"_ignore_package_version_incompatibilities\\\":false,\\\"is_timeseries\\\":false,\\\"max_cores_per_iteration\\\":1,\\\"max_concurrent_iterations\\\":4,\\\"iteration_timeout_minutes\\\":null,\\\"mem_in_mb\\\":null,\\\"enforce_time_on_windows\\\":false,\\\"experiment_timeout_minutes\\\":30,\\\"experiment_exit_score\\\":null,\\\"whitelist_models\\\":null,\\\"blacklist_algos\\\":[\\\"KNN\\\",\\\"LinearSVM\\\",\\\"TensorFlowLinearClassifier\\\",\\\"TensorFlowDNN\\\"],\\\"supported_models\\\":[\\\"SVM\\\",\\\"MultinomialNaiveBayes\\\",\\\"TensorFlowLinearClassifier\\\",\\\"LogisticRegression\\\",\\\"LinearSVM\\\",\\\"SGD\\\",\\\"RandomForest\\\",\\\"KNN\\\",\\\"ExtremeRandomTrees\\\",\\\"AveragedPerceptronClassifier\\\",\\\"XGBoostClassifier\\\",\\\"GradientBoosting\\\",\\\"LightGBM\\\",\\\"BernoulliNaiveBayes\\\",\\\"TensorFlowDNN\\\",\\\"DecisionTree\\\"],\\\"auto_blacklist\\\":true,\\\"blacklist_samples_reached\\\":false,\\\"exclude_nan_labels\\\":true,\\\"verbosity\\\":20,\\\"_debug_log\\\":\\\"azureml_automl.log\\\",\\\"show_warnings\\\":false,\\\"model_explainability\\\":true,\\\"service_url\\\":null,\\\"sdk_url\\\":null,\\\"sdk_packages\\\":null,\\\"enable_onnx_compatible_models\\\":true,\\\"enable_split_onnx_featurizer_estimator_models\\\":false,\\\"vm_type\\\":\\\"STANDARD_D2_V2\\\",\\\"telemetry_verbosity\\\":20,\\\"send_telemetry\\\":true,\\\"enable_dnn\\\":false,\\\"scenario\\\":\\\"SDK-1.13.0\\\",\\\"environment_label\\\":null,\\\"force_text_dnn\\\":false,\\\"enable_feature_sweeping\\\":false,\\\"enable_early_stopping\\\":true,\\\"early_stopping_n_iters\\\":10,\\\"metrics\\\":null,\\\"enable_ensembling\\\":true,\\\"enable_stack_ensembling\\\":false,\\\"ensemble_iterations\\\":15,\\\"enable_tf\\\":false,\\\"enable_subsampling\\\":null,\\\"subsample_seed\\\":null,\\\"enable_nimbusml\\\":false,\\\"enable_streaming\\\":false,\\\"force_streaming\\\":false,\\\"track_child_runs\\\":true,\\\"allowed_private_models\\\":[],\\\"label_column_name\\\":\\\"target\\\",\\\"weight_column_name\\\":null,\\\"cv_split_column_names\\\":null,\\\"enable_local_managed\\\":false,\\\"_local_managed_run_id\\\":null,\\\"cost_mode\\\":1,\\\"lag_length\\\":0,\\\"metric_operation\\\":\\\"maximize\\\",\\\"preprocess\\\":true}\", \"DataPrepJsonString\": \"{\\\\\\\"training_data\\\\\\\": \\\\\\\"{\\\\\\\\\\\\\\\"blocks\\\\\\\\\\\\\\\": [{\\\\\\\\\\\\\\\"id\\\\\\\\\\\\\\\": \\\\\\\\\\\\\\\"29ebf71b-7baf-4420-bd05-1cfa39dd5d7a\\\\\\\\\\\\\\\", \\\\\\\\\\\\\\\"type\\\\\\\\\\\\\\\": \\\\\\\\\\\\\\\"Microsoft.DPrep.GetFilesBlock\\\\\\\\\\\\\\\", \\\\\\\\\\\\\\\"arguments\\\\\\\\\\\\\\\": {\\\\\\\\\\\\\\\"isArchive\\\\\\\\\\\\\\\": false, \\\\\\\\\\\\\\\"path\\\\\\\\\\\\\\\": {\\\\\\\\\\\\\\\"target\\\\\\\\\\\\\\\": 4, \\\\\\\\\\\\\\\"resourceDetails\\\\\\\\\\\\\\\": [{\\\\\\\\\\\\\\\"path\\\\\\\\\\\\\\\": \\\\\\\\\\\\\\\"https://raw.githubusercontent.com/SadmiB/Heart-Disease-Prediction/master/heart.csv\\\\\\\\\\\\\\\"}]}}, \\\\\\\\\\\\\\\"localData\\\\\\\\\\\\\\\": {}, \\\\\\\\\\\\\\\"isEnabled\\\\\\\\\\\\\\\": true, \\\\\\\\\\\\\\\"name\\\\\\\\\\\\\\\": null, \\\\\\\\\\\\\\\"annotation\\\\\\\\\\\\\\\": null}, {\\\\\\\\\\\\\\\"id\\\\\\\\\\\\\\\": \\\\\\\\\\\\\\\"49e734ae-98c6-4312-b949-9a6254096b63\\\\\\\\\\\\\\\", \\\\\\\\\\\\\\\"type\\\\\\\\\\\\\\\": \\\\\\\\\\\\\\\"Microsoft.DPrep.ParseDelimitedBlock\\\\\\\\\\\\\\\", \\\\\\\\\\\\\\\"arguments\\\\\\\\\\\\\\\": {\\\\\\\\\\\\\\\"columnHeadersMode\\\\\\\\\\\\\\\": 3, \\\\\\\\\\\\\\\"fileEncoding\\\\\\\\\\\\\\\": 0, \\\\\\\\\\\\\\\"handleQuotedLineBreaks\\\\\\\\\\\\\\\": false, \\\\\\\\\\\\\\\"preview\\\\\\\\\\\\\\\": false, \\\\\\\\\\\\\\\"separator\\\\\\\\\\\\\\\": \\\\\\\\\\\\\\\",\\\\\\\\\\\\\\\", \\\\\\\\\\\\\\\"skipRows\\\\\\\\\\\\\\\": 0, \\\\\\\\\\\\\\\"skipRowsMode\\\\\\\\\\\\\\\": 0}, \\\\\\\\\\\\\\\"localData\\\\\\\\\\\\\\\": {}, \\\\\\\\\\\\\\\"isEnabled\\\\\\\\\\\\\\\": true, \\\\\\\\\\\\\\\"name\\\\\\\\\\\\\\\": null, \\\\\\\\\\\\\\\"annotation\\\\\\\\\\\\\\\": null}, {\\\\\\\\\\\\\\\"id\\\\\\\\\\\\\\\": \\\\\\\\\\\\\\\"f5bbd401-d232-4728-9da2-0c1ac88c8432\\\\\\\\\\\\\\\", \\\\\\\\\\\\\\\"type\\\\\\\\\\\\\\\": \\\\\\\\\\\\\\\"Microsoft.DPrep.DropColumnsBlock\\\\\\\\\\\\\\\", \\\\\\\\\\\\\\\"arguments\\\\\\\\\\\\\\\": {\\\\\\\\\\\\\\\"columns\\\\\\\\\\\\\\\": {\\\\\\\\\\\\\\\"type\\\\\\\\\\\\\\\": 0, \\\\\\\\\\\\\\\"details\\\\\\\\\\\\\\\": {\\\\\\\\\\\\\\\"selectedColumns\\\\\\\\\\\\\\\": [\\\\\\\\\\\\\\\"Path\\\\\\\\\\\\\\\"]}}}, \\\\\\\\\\\\\\\"localData\\\\\\\\\\\\\\\": {}, \\\\\\\\\\\\\\\"isEnabled\\\\\\\\\\\\\\\": true, \\\\\\\\\\\\\\\"name\\\\\\\\\\\\\\\": null, \\\\\\\\\\\\\\\"annotation\\\\\\\\\\\\\\\": null}, {\\\\\\\\\\\\\\\"id\\\\\\\\\\\\\\\": \\\\\\\\\\\\\\\"4f351b4b-28f4-4cdf-869e-fbb8b852a6a3\\\\\\\\\\\\\\\", \\\\\\\\\\\\\\\"type\\\\\\\\\\\\\\\": \\\\\\\\\\\\\\\"Microsoft.DPrep.SetColumnTypesBlock\\\\\\\\\\\\\\\", \\\\\\\\\\\\\\\"arguments\\\\\\\\\\\\\\\": {\\\\\\\\\\\\\\\"columnConversion\\\\\\\\\\\\\\\": [{\\\\\\\\\\\\\\\"column\\\\\\\\\\\\\\\": {\\\\\\\\\\\\\\\"type\\\\\\\\\\\\\\\": 2, \\\\\\\\\\\\\\\"details\\\\\\\\\\\\\\\": {\\\\\\\\\\\\\\\"selectedColumn\\\\\\\\\\\\\\\": \\\\\\\\\\\\\\\"age\\\\\\\\\\\\\\\"}}, \\\\\\\\\\\\\\\"typeProperty\\\\\\\\\\\\\\\": 2}, {\\\\\\\\\\\\\\\"column\\\\\\\\\\\\\\\": {\\\\\\\\\\\\\\\"type\\\\\\\\\\\\\\\": 2, \\\\\\\\\\\\\\\"details\\\\\\\\\\\\\\\": {\\\\\\\\\\\\\\\"selectedColumn\\\\\\\\\\\\\\\": \\\\\\\\\\\\\\\"sex\\\\\\\\\\\\\\\"}}, \\\\\\\\\\\\\\\"typeProperty\\\\\\\\\\\\\\\": 2}, {\\\\\\\\\\\\\\\"column\\\\\\\\\\\\\\\": {\\\\\\\\\\\\\\\"type\\\\\\\\\\\\\\\": 2, \\\\\\\\\\\\\\\"details\\\\\\\\\\\\\\\": {\\\\\\\\\\\\\\\"selectedColumn\\\\\\\\\\\\\\\": \\\\\\\\\\\\\\\"cp\\\\\\\\\\\\\\\"}}, \\\\\\\\\\\\\\\"typeProperty\\\\\\\\\\\\\\\": 2}, {\\\\\\\\\\\\\\\"column\\\\\\\\\\\\\\\": {\\\\\\\\\\\\\\\"type\\\\\\\\\\\\\\\": 2, \\\\\\\\\\\\\\\"details\\\\\\\\\\\\\\\": {\\\\\\\\\\\\\\\"selectedColumn\\\\\\\\\\\\\\\": \\\\\\\\\\\\\\\"trestbps\\\\\\\\\\\\\\\"}}, \\\\\\\\\\\\\\\"typeProperty\\\\\\\\\\\\\\\": 2}, {\\\\\\\\\\\\\\\"column\\\\\\\\\\\\\\\": {\\\\\\\\\\\\\\\"type\\\\\\\\\\\\\\\": 2, \\\\\\\\\\\\\\\"details\\\\\\\\\\\\\\\": {\\\\\\\\\\\\\\\"selectedColumn\\\\\\\\\\\\\\\": \\\\\\\\\\\\\\\"chol\\\\\\\\\\\\\\\"}}, \\\\\\\\\\\\\\\"typeProperty\\\\\\\\\\\\\\\": 2}, {\\\\\\\\\\\\\\\"column\\\\\\\\\\\\\\\": {\\\\\\\\\\\\\\\"type\\\\\\\\\\\\\\\": 2, \\\\\\\\\\\\\\\"details\\\\\\\\\\\\\\\": {\\\\\\\\\\\\\\\"selectedColumn\\\\\\\\\\\\\\\": \\\\\\\\\\\\\\\"fbs\\\\\\\\\\\\\\\"}}, \\\\\\\\\\\\\\\"typeProperty\\\\\\\\\\\\\\\": 2}, {\\\\\\\\\\\\\\\"column\\\\\\\\\\\\\\\": {\\\\\\\\\\\\\\\"type\\\\\\\\\\\\\\\": 2, \\\\\\\\\\\\\\\"details\\\\\\\\\\\\\\\": {\\\\\\\\\\\\\\\"selectedColumn\\\\\\\\\\\\\\\": \\\\\\\\\\\\\\\"restecg\\\\\\\\\\\\\\\"}}, \\\\\\\\\\\\\\\"typeProperty\\\\\\\\\\\\\\\": 2}, {\\\\\\\\\\\\\\\"column\\\\\\\\\\\\\\\": {\\\\\\\\\\\\\\\"type\\\\\\\\\\\\\\\": 2, \\\\\\\\\\\\\\\"details\\\\\\\\\\\\\\\": {\\\\\\\\\\\\\\\"selectedColumn\\\\\\\\\\\\\\\": \\\\\\\\\\\\\\\"thalach\\\\\\\\\\\\\\\"}}, \\\\\\\\\\\\\\\"typeProperty\\\\\\\\\\\\\\\": 2}, {\\\\\\\\\\\\\\\"column\\\\\\\\\\\\\\\": {\\\\\\\\\\\\\\\"type\\\\\\\\\\\\\\\": 2, \\\\\\\\\\\\\\\"details\\\\\\\\\\\\\\\": {\\\\\\\\\\\\\\\"selectedColumn\\\\\\\\\\\\\\\": \\\\\\\\\\\\\\\"exang\\\\\\\\\\\\\\\"}}, \\\\\\\\\\\\\\\"typeProperty\\\\\\\\\\\\\\\": 2}, {\\\\\\\\\\\\\\\"column\\\\\\\\\\\\\\\": {\\\\\\\\\\\\\\\"type\\\\\\\\\\\\\\\": 2, \\\\\\\\\\\\\\\"details\\\\\\\\\\\\\\\": {\\\\\\\\\\\\\\\"selectedColumn\\\\\\\\\\\\\\\": \\\\\\\\\\\\\\\"oldpeak\\\\\\\\\\\\\\\"}}, \\\\\\\\\\\\\\\"typeProperty\\\\\\\\\\\\\\\": 3}, {\\\\\\\\\\\\\\\"column\\\\\\\\\\\\\\\": {\\\\\\\\\\\\\\\"type\\\\\\\\\\\\\\\": 2, \\\\\\\\\\\\\\\"details\\\\\\\\\\\\\\\": {\\\\\\\\\\\\\\\"selectedColumn\\\\\\\\\\\\\\\": \\\\\\\\\\\\\\\"slope\\\\\\\\\\\\\\\"}}, \\\\\\\\\\\\\\\"typeProperty\\\\\\\\\\\\\\\": 2}, {\\\\\\\\\\\\\\\"column\\\\\\\\\\\\\\\": {\\\\\\\\\\\\\\\"type\\\\\\\\\\\\\\\": 2, \\\\\\\\\\\\\\\"details\\\\\\\\\\\\\\\": {\\\\\\\\\\\\\\\"selectedColumn\\\\\\\\\\\\\\\": \\\\\\\\\\\\\\\"ca\\\\\\\\\\\\\\\"}}, \\\\\\\\\\\\\\\"typeProperty\\\\\\\\\\\\\\\": 2}, {\\\\\\\\\\\\\\\"column\\\\\\\\\\\\\\\": {\\\\\\\\\\\\\\\"type\\\\\\\\\\\\\\\": 2, \\\\\\\\\\\\\\\"details\\\\\\\\\\\\\\\": {\\\\\\\\\\\\\\\"selectedColumn\\\\\\\\\\\\\\\": \\\\\\\\\\\\\\\"thal\\\\\\\\\\\\\\\"}}, \\\\\\\\\\\\\\\"typeProperty\\\\\\\\\\\\\\\": 2}, {\\\\\\\\\\\\\\\"column\\\\\\\\\\\\\\\": {\\\\\\\\\\\\\\\"type\\\\\\\\\\\\\\\": 2, \\\\\\\\\\\\\\\"details\\\\\\\\\\\\\\\": {\\\\\\\\\\\\\\\"selectedColumn\\\\\\\\\\\\\\\": \\\\\\\\\\\\\\\"target\\\\\\\\\\\\\\\"}}, \\\\\\\\\\\\\\\"typeProperty\\\\\\\\\\\\\\\": 2}]}, \\\\\\\\\\\\\\\"localData\\\\\\\\\\\\\\\": {}, \\\\\\\\\\\\\\\"isEnabled\\\\\\\\\\\\\\\": true, \\\\\\\\\\\\\\\"name\\\\\\\\\\\\\\\": null, \\\\\\\\\\\\\\\"annotation\\\\\\\\\\\\\\\": null}], \\\\\\\\\\\\\\\"inspectors\\\\\\\\\\\\\\\": [], \\\\\\\\\\\\\\\"meta\\\\\\\\\\\\\\\": {\\\\\\\\\\\\\\\"savedDatasetId\\\\\\\\\\\\\\\": \\\\\\\\\\\\\\\"d02d165d-93f4-44d0-9dc7-d8fc24b15406\\\\\\\\\\\\\\\", \\\\\\\\\\\\\\\"datasetType\\\\\\\\\\\\\\\": \\\\\\\\\\\\\\\"tabular\\\\\\\\\\\\\\\", \\\\\\\\\\\\\\\"subscriptionId\\\\\\\\\\\\\\\": \\\\\\\\\\\\\\\"b968fb36-f06a-4c76-a15f-afab68ae7667\\\\\\\\\\\\\\\", \\\\\\\\\\\\\\\"workspaceId\\\\\\\\\\\\\\\": \\\\\\\\\\\\\\\"8e7b37de-11bd-4f88-8d84-4f496e4543bb\\\\\\\\\\\\\\\", \\\\\\\\\\\\\\\"workspaceLocation\\\\\\\\\\\\\\\": \\\\\\\\\\\\\\\"southcentralus\\\\\\\\\\\\\\\"}}\\\\\\\", \\\\\\\"activities\\\\\\\": 0}\", \"EnableSubsampling\": null, \"runTemplate\": \"AutoML\", \"azureml.runsource\": \"automl\", \"display_task_type\": \"classification\", \"dependencies_versions\": \"{\\\"azureml-widgets\\\": \\\"1.20.0\\\", \\\"azureml-train\\\": \\\"1.20.0\\\", \\\"azureml-train-restclients-hyperdrive\\\": \\\"1.20.0\\\", \\\"azureml-train-core\\\": \\\"1.20.0\\\", \\\"azureml-train-automl\\\": \\\"1.20.0\\\", \\\"azureml-train-automl-runtime\\\": \\\"1.20.0\\\", \\\"azureml-train-automl-client\\\": \\\"1.20.0\\\", \\\"azureml-tensorboard\\\": \\\"1.20.0\\\", \\\"azureml-telemetry\\\": \\\"1.20.0\\\", \\\"azureml-sdk\\\": \\\"1.20.0\\\", \\\"azureml-samples\\\": \\\"0+unknown\\\", \\\"azureml-pipeline\\\": \\\"1.20.0\\\", \\\"azureml-pipeline-steps\\\": \\\"1.20.0\\\", \\\"azureml-pipeline-core\\\": \\\"1.20.0\\\", \\\"azureml-opendatasets\\\": \\\"1.20.0\\\", \\\"azureml-model-management-sdk\\\": \\\"1.0.1b6.post1\\\", \\\"azureml-mlflow\\\": \\\"1.20.0.post1\\\", \\\"azureml-interpret\\\": \\\"1.20.0\\\", \\\"azureml-explain-model\\\": \\\"1.20.0\\\", \\\"azureml-defaults\\\": \\\"1.20.0\\\", \\\"azureml-dataset-runtime\\\": \\\"1.20.0\\\", \\\"azureml-dataprep\\\": \\\"2.7.3\\\", \\\"azureml-dataprep-rslex\\\": \\\"1.5.0\\\", \\\"azureml-dataprep-native\\\": \\\"27.0.0\\\", \\\"azureml-datadrift\\\": \\\"1.20.0\\\", \\\"azureml-core\\\": \\\"1.20.0\\\", \\\"azureml-contrib-services\\\": \\\"1.20.0\\\", \\\"azureml-contrib-server\\\": \\\"1.20.0\\\", \\\"azureml-contrib-reinforcementlearning\\\": \\\"1.20.0\\\", \\\"azureml-contrib-pipeline-steps\\\": \\\"1.20.0\\\", \\\"azureml-contrib-notebook\\\": \\\"1.20.0\\\", \\\"azureml-contrib-interpret\\\": \\\"1.20.0\\\", \\\"azureml-contrib-gbdt\\\": \\\"1.20.0\\\", \\\"azureml-contrib-fairness\\\": \\\"1.20.0\\\", \\\"azureml-contrib-dataset\\\": \\\"1.20.0\\\", \\\"azureml-cli-common\\\": \\\"1.20.0\\\", \\\"azureml-automl-runtime\\\": \\\"1.20.0\\\", \\\"azureml-automl-core\\\": \\\"1.20.0\\\", \\\"azureml-accel-models\\\": \\\"1.20.0\\\"}\", \"_aml_system_scenario_identification\": \"Remote.Parent\", \"ClientType\": \"SDK\", \"environment_cpu_name\": \"AzureML-AutoML\", \"environment_cpu_label\": \"prod\", \"environment_gpu_name\": \"AzureML-AutoML-GPU\", \"environment_gpu_label\": \"prod\", \"root_attribution\": \"automl\", \"attribution\": \"AutoML\", \"Orchestrator\": \"AutoML\", \"CancelUri\": \"https://southcentralus.experiments.azureml.net/jasmine/v1.0/subscriptions/b968fb36-f06a-4c76-a15f-afab68ae7667/resourceGroups/aml-quickstarts-136757/providers/Microsoft.MachineLearningServices/workspaces/quick-starts-ws-136757/experimentids/17312912-30e6-4be5-bbfd-86efd9cd8888/cancel/AutoML_e1060a80-2336-4d49-a0b0-de7471678476\", \"ClientSdkVersion\": \"1.20.0.post1\", \"snapshotId\": \"00000000-0000-0000-0000-000000000000\", \"SetupRunId\": \"AutoML_e1060a80-2336-4d49-a0b0-de7471678476_setup\", \"SetupRunContainerId\": \"dcid.AutoML_e1060a80-2336-4d49-a0b0-de7471678476_setup\", \"FeaturizationRunJsonPath\": \"featurizer_container.json\", \"FeaturizationRunId\": \"AutoML_e1060a80-2336-4d49-a0b0-de7471678476_featurize\", \"ProblemInfoJsonString\": \"{\\\"dataset_num_categorical\\\": 0, \\\"is_sparse\\\": true, \\\"subsampling\\\": false, \\\"dataset_classes\\\": 2, \\\"dataset_features\\\": 27, \\\"dataset_samples\\\": 303, \\\"single_frequency_class_detected\\\": false}\", \"ModelExplainRunId\": \"AutoML_e1060a80-2336-4d49-a0b0-de7471678476_ModelExplain\"}, \"tags\": {\"model_explain_run\": \"best_run\", \"_aml_system_azureml.automlComponent\": \"AutoML\", \"pipeline_id\": \"\", \"score\": \"\", \"predicted_cost\": \"\", \"fit_time\": \"\", \"training_percent\": \"\", \"iteration\": \"\", \"run_preprocessor\": \"\", \"run_algorithm\": \"\", \"dynamic_whitelisting_iterations\": \"<25>;<29>;<35>;\", \"automl_best_child_run_id\": \"AutoML_e1060a80-2336-4d49-a0b0-de7471678476_36\", \"model_explain_best_run_child_id\": \"AutoML_e1060a80-2336-4d49-a0b0-de7471678476_36\"}, \"end_time_utc\": \"2021-01-31T18:08:50.376449Z\", \"status\": \"Completed\", \"log_files\": {}, \"log_groups\": [], \"run_duration\": \"0:27:59\"}, \"child_runs\": [{\"run_id\": \"AutoML_e1060a80-2336-4d49-a0b0-de7471678476_1\", \"run_number\": 5, \"metric\": null, \"status\": \"Completed\", \"run_type\": \"azureml.scriptrun\", \"training_percent\": \"100\", \"start_time\": \"2021-01-31T17:54:36.589782Z\", \"end_time\": \"2021-01-31T17:58:16.301Z\", \"created_time\": \"2021-01-31T17:52:01.688162Z\", \"created_time_dt\": \"2021-01-31T17:52:01.688162Z\", \"duration\": \"0:06:14\", \"iteration\": \"1\", \"goal\": \"accuracy_max\", \"run_name\": \"MaxAbsScaler, XGBoostClassifier\", \"run_properties\": \"copy=True\", \"primary_metric\": 0.81795699, \"best_metric\": 0.81795699}, {\"run_id\": \"AutoML_e1060a80-2336-4d49-a0b0-de7471678476_3\", \"run_number\": 6, \"metric\": null, \"status\": \"Completed\", \"run_type\": \"azureml.scriptrun\", \"training_percent\": \"100\", \"start_time\": \"2021-01-31T17:52:14.573399Z\", \"end_time\": \"2021-01-31T17:53:14.937305Z\", \"created_time\": \"2021-01-31T17:52:01.692843Z\", \"created_time_dt\": \"2021-01-31T17:52:01.692843Z\", \"duration\": \"0:01:13\", \"iteration\": \"3\", \"goal\": \"accuracy_max\", \"run_name\": \"MaxAbsScaler, RandomForest\", \"run_properties\": \"copy=True\", \"primary_metric\": 0.81483871, \"best_metric\": 0.81795699}, {\"run_id\": \"AutoML_e1060a80-2336-4d49-a0b0-de7471678476_0\", \"run_number\": 7, \"metric\": null, \"status\": \"Completed\", \"run_type\": \"azureml.scriptrun\", \"training_percent\": \"100\", \"start_time\": \"2021-01-31T17:53:20.602528Z\", \"end_time\": \"2021-01-31T17:54:15.184023Z\", \"created_time\": \"2021-01-31T17:52:01.705895Z\", \"created_time_dt\": \"2021-01-31T17:52:01.705895Z\", \"duration\": \"0:02:13\", \"iteration\": \"0\", \"goal\": \"accuracy_max\", \"run_name\": \"MaxAbsScaler, LightGBM\", \"run_properties\": \"copy=True\", \"primary_metric\": 0.81150538, \"best_metric\": 0.81150538}, {\"run_id\": \"AutoML_e1060a80-2336-4d49-a0b0-de7471678476_2\", \"run_number\": 8, \"metric\": null, \"status\": \"Completed\", \"run_type\": \"azureml.scriptrun\", \"training_percent\": \"100\", \"start_time\": \"2021-01-31T17:54:19.026678Z\", \"end_time\": \"2021-01-31T17:55:12.852569Z\", \"created_time\": \"2021-01-31T17:52:01.714583Z\", \"created_time_dt\": \"2021-01-31T17:52:01.714583Z\", \"duration\": \"0:03:11\", \"iteration\": \"2\", \"goal\": \"accuracy_max\", \"run_name\": \"MaxAbsScaler, RandomForest\", \"run_properties\": \"copy=True\", \"primary_metric\": 0.79795699, \"best_metric\": 0.81795699}, {\"run_id\": \"AutoML_e1060a80-2336-4d49-a0b0-de7471678476_4\", \"run_number\": 9, \"metric\": null, \"status\": \"Completed\", \"run_type\": \"azureml.scriptrun\", \"training_percent\": \"100\", \"start_time\": \"2021-01-31T17:54:36.449506Z\", \"end_time\": \"2021-01-31T17:57:58.928588Z\", \"created_time\": \"2021-01-31T17:53:18.793585Z\", \"created_time_dt\": \"2021-01-31T17:53:18.793585Z\", \"duration\": \"0:04:40\", \"iteration\": \"4\", \"goal\": \"accuracy_max\", \"run_name\": \"MaxAbsScaler, RandomForest\", \"run_properties\": \"copy=True\", \"primary_metric\": 0.84795699, \"best_metric\": 0.84795699}, {\"run_id\": \"AutoML_e1060a80-2336-4d49-a0b0-de7471678476_5\", \"run_number\": 10, \"metric\": null, \"status\": \"Completed\", \"run_type\": \"azureml.scriptrun\", \"training_percent\": \"100\", \"start_time\": \"2021-01-31T17:54:40.581835Z\", \"end_time\": \"2021-01-31T17:58:13.343944Z\", \"created_time\": \"2021-01-31T17:54:18.528643Z\", \"created_time_dt\": \"2021-01-31T17:54:18.528643Z\", \"duration\": \"0:03:54\", \"iteration\": \"5\", \"goal\": \"accuracy_max\", \"run_name\": \"MaxAbsScaler, RandomForest\", \"run_properties\": \"copy=True\", \"primary_metric\": 0.82494624, \"best_metric\": 0.84795699}, {\"run_id\": \"AutoML_e1060a80-2336-4d49-a0b0-de7471678476_6\", \"run_number\": 11, \"metric\": null, \"status\": \"Completed\", \"run_type\": \"azureml.scriptrun\", \"training_percent\": \"100\", \"start_time\": \"2021-01-31T17:55:28.881054Z\", \"end_time\": \"2021-01-31T17:56:17.667192Z\", \"created_time\": \"2021-01-31T17:55:16.410032Z\", \"created_time_dt\": \"2021-01-31T17:55:16.410032Z\", \"duration\": \"0:01:01\", \"iteration\": \"6\", \"goal\": \"accuracy_max\", \"run_name\": \"SparseNormalizer, XGBoostClassifier\", \"run_properties\": \"<azureml.automl.runtime.shared.model_wrappers.SparseNormalizer object at 0x7f6ec536f5f8\", \"primary_metric\": 0.81483871, \"best_metric\": 0.84795699}, {\"run_id\": \"AutoML_e1060a80-2336-4d49-a0b0-de7471678476_7\", \"run_number\": 12, \"metric\": null, \"status\": \"Completed\", \"run_type\": \"azureml.scriptrun\", \"training_percent\": \"100\", \"start_time\": \"2021-01-31T17:56:32.224914Z\", \"end_time\": \"2021-01-31T17:57:24.273793Z\", \"created_time\": \"2021-01-31T17:56:20.41821Z\", \"created_time_dt\": \"2021-01-31T17:56:20.41821Z\", \"duration\": \"0:01:03\", \"iteration\": \"7\", \"goal\": \"accuracy_max\", \"run_name\": \"MaxAbsScaler, LogisticRegression\", \"run_properties\": \"copy=True\", \"primary_metric\": 0.83451613, \"best_metric\": 0.84795699}, {\"run_id\": \"AutoML_e1060a80-2336-4d49-a0b0-de7471678476_8\", \"run_number\": 13, \"metric\": null, \"status\": \"Completed\", \"run_type\": \"azureml.scriptrun\", \"training_percent\": \"100\", \"start_time\": \"2021-01-31T17:57:43.665161Z\", \"end_time\": \"2021-01-31T17:58:32.573409Z\", \"created_time\": \"2021-01-31T17:57:27.944359Z\", \"created_time_dt\": \"2021-01-31T17:57:27.944359Z\", \"duration\": \"0:01:04\", \"iteration\": \"8\", \"goal\": \"accuracy_max\", \"run_name\": \"StandardScalerWrapper, RandomForest\", \"run_properties\": \"<azureml.automl.runtime.shared.model_wrappers.StandardScalerWrapper object at 0x7fb6adde32e8\", \"primary_metric\": 0.84129032, \"best_metric\": 0.84795699}, {\"run_id\": \"AutoML_e1060a80-2336-4d49-a0b0-de7471678476_9\", \"run_number\": 14, \"metric\": null, \"status\": \"Completed\", \"run_type\": \"azureml.scriptrun\", \"training_percent\": \"100\", \"start_time\": \"2021-01-31T17:58:14.560417Z\", \"end_time\": \"2021-01-31T17:59:14.28283Z\", \"created_time\": \"2021-01-31T17:58:01.64346Z\", \"created_time_dt\": \"2021-01-31T17:58:01.64346Z\", \"duration\": \"0:01:12\", \"iteration\": \"9\", \"goal\": \"accuracy_max\", \"run_name\": \"SparseNormalizer, XGBoostClassifier\", \"run_properties\": \"<azureml.automl.runtime.shared.model_wrappers.SparseNormalizer object at 0x7f5de04f8630\", \"primary_metric\": 0.81505376, \"best_metric\": 0.84795699}, {\"run_id\": \"AutoML_e1060a80-2336-4d49-a0b0-de7471678476_10\", \"run_number\": 15, \"metric\": null, \"status\": \"Completed\", \"run_type\": \"azureml.scriptrun\", \"training_percent\": \"100\", \"start_time\": \"2021-01-31T17:58:30.712264Z\", \"end_time\": \"2021-01-31T17:59:32.376733Z\", \"created_time\": \"2021-01-31T17:58:16.065453Z\", \"created_time_dt\": \"2021-01-31T17:58:16.065453Z\", \"duration\": \"0:01:16\", \"iteration\": \"10\", \"goal\": \"accuracy_max\", \"run_name\": \"MaxAbsScaler, RandomForest\", \"run_properties\": \"copy=True\", \"primary_metric\": 0.8083871, \"best_metric\": 0.84795699}, {\"run_id\": \"AutoML_e1060a80-2336-4d49-a0b0-de7471678476_11\", \"run_number\": 16, \"metric\": null, \"status\": \"Completed\", \"run_type\": \"azureml.scriptrun\", \"training_percent\": \"100\", \"start_time\": \"2021-01-31T17:58:33.41039Z\", \"end_time\": \"2021-01-31T17:59:37.340515Z\", \"created_time\": \"2021-01-31T17:58:22.297492Z\", \"created_time_dt\": \"2021-01-31T17:58:22.297492Z\", \"duration\": \"0:01:15\", \"iteration\": \"11\", \"goal\": \"accuracy_max\", \"run_name\": \"MaxAbsScaler, RandomForest\", \"run_properties\": \"copy=True\", \"primary_metric\": 0.84451613, \"best_metric\": 0.84795699}, {\"run_id\": \"AutoML_e1060a80-2336-4d49-a0b0-de7471678476_12\", \"run_number\": 17, \"metric\": null, \"status\": \"Completed\", \"run_type\": \"azureml.scriptrun\", \"training_percent\": \"100\", \"start_time\": \"2021-01-31T17:58:47.274702Z\", \"end_time\": \"2021-01-31T17:59:52.818763Z\", \"created_time\": \"2021-01-31T17:58:34.152876Z\", \"created_time_dt\": \"2021-01-31T17:58:34.152876Z\", \"duration\": \"0:01:18\", \"iteration\": \"12\", \"goal\": \"accuracy_max\", \"run_name\": \"MaxAbsScaler, ExtremeRandomTrees\", \"run_properties\": \"copy=True\", \"primary_metric\": 0.8216129, \"best_metric\": 0.84795699}, {\"run_id\": \"AutoML_e1060a80-2336-4d49-a0b0-de7471678476_13\", \"run_number\": 18, \"metric\": null, \"status\": \"Completed\", \"run_type\": \"azureml.scriptrun\", \"training_percent\": \"100\", \"start_time\": \"2021-01-31T17:59:26.76097Z\", \"end_time\": \"2021-01-31T18:00:26.126634Z\", \"created_time\": \"2021-01-31T17:59:15.970339Z\", \"created_time_dt\": \"2021-01-31T17:59:15.970339Z\", \"duration\": \"0:01:10\", \"iteration\": \"13\", \"goal\": \"accuracy_max\", \"run_name\": \"StandardScalerWrapper, LightGBM\", \"run_properties\": \"<azureml.automl.runtime.shared.model_wrappers.StandardScalerWrapper object at 0x7f1fe0175940\", \"primary_metric\": 0.8083871, \"best_metric\": 0.84795699}, {\"run_id\": \"AutoML_e1060a80-2336-4d49-a0b0-de7471678476_14\", \"run_number\": 19, \"metric\": null, \"status\": \"Completed\", \"run_type\": \"azureml.scriptrun\", \"training_percent\": \"100\", \"start_time\": \"2021-01-31T17:59:45.599202Z\", \"end_time\": \"2021-01-31T18:00:38.822752Z\", \"created_time\": \"2021-01-31T17:59:34.017143Z\", \"created_time_dt\": \"2021-01-31T17:59:34.017143Z\", \"duration\": \"0:01:04\", \"iteration\": \"14\", \"goal\": \"accuracy_max\", \"run_name\": \"MaxAbsScaler, LightGBM\", \"run_properties\": \"copy=True\", \"primary_metric\": 0.84139785, \"best_metric\": 0.84795699}, {\"run_id\": \"AutoML_e1060a80-2336-4d49-a0b0-de7471678476_15\", \"run_number\": 20, \"metric\": null, \"status\": \"Completed\", \"run_type\": \"azureml.scriptrun\", \"training_percent\": \"100\", \"start_time\": \"2021-01-31T17:59:53.691971Z\", \"end_time\": \"2021-01-31T18:00:55.348029Z\", \"created_time\": \"2021-01-31T17:59:40.055393Z\", \"created_time_dt\": \"2021-01-31T17:59:40.055393Z\", \"duration\": \"0:01:15\", \"iteration\": \"15\", \"goal\": \"accuracy_max\", \"run_name\": \"MaxAbsScaler, LightGBM\", \"run_properties\": \"copy=True\", \"primary_metric\": 0.84774194, \"best_metric\": 0.84795699}, {\"run_id\": \"AutoML_e1060a80-2336-4d49-a0b0-de7471678476_16\", \"run_number\": 21, \"metric\": null, \"status\": \"Completed\", \"run_type\": \"azureml.scriptrun\", \"training_percent\": \"100\", \"start_time\": \"2021-01-31T18:00:10.160937Z\", \"end_time\": \"2021-01-31T18:01:11.561264Z\", \"created_time\": \"2021-01-31T17:59:55.071944Z\", \"created_time_dt\": \"2021-01-31T17:59:55.071944Z\", \"duration\": \"0:01:16\", \"iteration\": \"16\", \"goal\": \"accuracy_max\", \"run_name\": \"TruncatedSVDWrapper, XGBoostClassifier\", \"run_properties\": \"n_components=0.6036842105263158, random_state=None\", \"primary_metric\": 0.79473118, \"best_metric\": 0.84795699}, {\"run_id\": \"AutoML_e1060a80-2336-4d49-a0b0-de7471678476_17\", \"run_number\": 22, \"metric\": null, \"status\": \"Completed\", \"run_type\": \"azureml.scriptrun\", \"training_percent\": \"100\", \"start_time\": \"2021-01-31T18:00:40.120705Z\", \"end_time\": \"2021-01-31T18:01:39.701886Z\", \"created_time\": \"2021-01-31T18:00:28.436483Z\", \"created_time_dt\": \"2021-01-31T18:00:28.436483Z\", \"duration\": \"0:01:11\", \"iteration\": \"17\", \"goal\": \"accuracy_max\", \"run_name\": \"MaxAbsScaler, RandomForest\", \"run_properties\": \"copy=True\", \"primary_metric\": 0.79827957, \"best_metric\": 0.84795699}, {\"run_id\": \"AutoML_e1060a80-2336-4d49-a0b0-de7471678476_18\", \"run_number\": 23, \"metric\": null, \"status\": \"Completed\", \"run_type\": \"azureml.scriptrun\", \"training_percent\": \"100\", \"start_time\": \"2021-01-31T18:00:52.757329Z\", \"end_time\": \"2021-01-31T18:01:48.34897Z\", \"created_time\": \"2021-01-31T18:00:40.443755Z\", \"created_time_dt\": \"2021-01-31T18:00:40.443755Z\", \"duration\": \"0:01:07\", \"iteration\": \"18\", \"goal\": \"accuracy_max\", \"run_name\": \"MaxAbsScaler, GradientBoosting\", \"run_properties\": \"copy=True\", \"primary_metric\": 0.84129032, \"best_metric\": 0.84795699}, {\"run_id\": \"AutoML_e1060a80-2336-4d49-a0b0-de7471678476_19\", \"run_number\": 24, \"metric\": null, \"status\": \"Completed\", \"run_type\": \"azureml.scriptrun\", \"training_percent\": \"100\", \"start_time\": \"2021-01-31T18:01:06.785368Z\", \"end_time\": \"2021-01-31T18:01:55.222914Z\", \"created_time\": \"2021-01-31T18:00:57.180725Z\", \"created_time_dt\": \"2021-01-31T18:00:57.180725Z\", \"duration\": \"0:00:58\", \"iteration\": \"19\", \"goal\": \"accuracy_max\", \"run_name\": \"StandardScalerWrapper, XGBoostClassifier\", \"run_properties\": \"<azureml.automl.runtime.shared.model_wrappers.StandardScalerWrapper object at 0x7f72e8e78a20\", \"primary_metric\": 0.82150538, \"best_metric\": 0.84795699}, {\"run_id\": \"AutoML_e1060a80-2336-4d49-a0b0-de7471678476_20\", \"run_number\": 25, \"metric\": null, \"status\": \"Completed\", \"run_type\": \"azureml.scriptrun\", \"training_percent\": \"100\", \"start_time\": \"2021-01-31T18:01:23.412554Z\", \"end_time\": \"2021-01-31T18:02:17.9051Z\", \"created_time\": \"2021-01-31T18:01:13.408559Z\", \"created_time_dt\": \"2021-01-31T18:01:13.408559Z\", \"duration\": \"0:01:04\", \"iteration\": \"20\", \"goal\": \"accuracy_max\", \"run_name\": \"SparseNormalizer, LightGBM\", \"run_properties\": \"<azureml.automl.runtime.shared.model_wrappers.SparseNormalizer object at 0x7feeb064dc18\", \"primary_metric\": 0.83139785, \"best_metric\": 0.84795699}, {\"run_id\": \"AutoML_e1060a80-2336-4d49-a0b0-de7471678476_21\", \"run_number\": 26, \"metric\": null, \"status\": \"Completed\", \"run_type\": \"azureml.scriptrun\", \"training_percent\": \"100\", \"start_time\": \"2021-01-31T18:01:52.886466Z\", \"end_time\": \"2021-01-31T18:02:55.399764Z\", \"created_time\": \"2021-01-31T18:01:41.218806Z\", \"created_time_dt\": \"2021-01-31T18:01:41.218806Z\", \"duration\": \"0:01:14\", \"iteration\": \"21\", \"goal\": \"accuracy_max\", \"run_name\": \"MaxAbsScaler, LightGBM\", \"run_properties\": \"copy=True\", \"primary_metric\": 0.82473118, \"best_metric\": 0.84795699}, {\"run_id\": \"AutoML_e1060a80-2336-4d49-a0b0-de7471678476_22\", \"run_number\": 27, \"metric\": null, \"status\": \"Completed\", \"run_type\": \"azureml.scriptrun\", \"training_percent\": \"100\", \"start_time\": \"2021-01-31T18:02:02.500531Z\", \"end_time\": \"2021-01-31T18:03:03.550444Z\", \"created_time\": \"2021-01-31T18:01:50.111383Z\", \"created_time_dt\": \"2021-01-31T18:01:50.111383Z\", \"duration\": \"0:01:13\", \"iteration\": \"22\", \"goal\": \"accuracy_max\", \"run_name\": \"MaxAbsScaler, ExtremeRandomTrees\", \"run_properties\": \"copy=True\", \"primary_metric\": 0.83129032, \"best_metric\": 0.84795699}, {\"run_id\": \"AutoML_e1060a80-2336-4d49-a0b0-de7471678476_23\", \"run_number\": 28, \"metric\": null, \"status\": \"Completed\", \"run_type\": \"azureml.scriptrun\", \"training_percent\": \"100\", \"start_time\": \"2021-01-31T18:02:08.631859Z\", \"end_time\": \"2021-01-31T18:02:57.726428Z\", \"created_time\": \"2021-01-31T18:01:56.857866Z\", \"created_time_dt\": \"2021-01-31T18:01:56.857866Z\", \"duration\": \"0:01:00\", \"iteration\": \"23\", \"goal\": \"accuracy_max\", \"run_name\": \"StandardScalerWrapper, LightGBM\", \"run_properties\": \"<azureml.automl.runtime.shared.model_wrappers.StandardScalerWrapper object at 0x7fbb7c16edd8\", \"primary_metric\": 0.82817204, \"best_metric\": 0.84795699}, {\"run_id\": \"AutoML_e1060a80-2336-4d49-a0b0-de7471678476_24\", \"run_number\": 29, \"metric\": null, \"status\": \"Completed\", \"run_type\": \"azureml.scriptrun\", \"training_percent\": \"100\", \"start_time\": \"2021-01-31T18:02:32.796516Z\", \"end_time\": \"2021-01-31T18:03:40.601464Z\", \"created_time\": \"2021-01-31T18:02:19.902368Z\", \"created_time_dt\": \"2021-01-31T18:02:19.902368Z\", \"duration\": \"0:01:20\", \"iteration\": \"24\", \"goal\": \"accuracy_max\", \"run_name\": \"MaxAbsScaler, RandomForest\", \"run_properties\": \"copy=True\", \"primary_metric\": 0.81806452, \"best_metric\": 0.84795699}, {\"run_id\": \"AutoML_e1060a80-2336-4d49-a0b0-de7471678476_25\", \"run_number\": 30, \"metric\": null, \"status\": \"Completed\", \"run_type\": \"azureml.scriptrun\", \"training_percent\": \"100\", \"start_time\": \"2021-01-31T18:03:12.904812Z\", \"end_time\": \"2021-01-31T18:04:04.649647Z\", \"created_time\": \"2021-01-31T18:02:59.199944Z\", \"created_time_dt\": \"2021-01-31T18:02:59.199944Z\", \"duration\": \"0:01:05\", \"iteration\": \"25\", \"goal\": \"accuracy_max\", \"run_name\": \"SparseNormalizer, RandomForest\", \"run_properties\": \"<azureml.automl.runtime.shared.model_wrappers.SparseNormalizer object at 0x7f0ea26fb320\", \"primary_metric\": 0.54462366, \"best_metric\": 0.84795699}, {\"run_id\": \"AutoML_e1060a80-2336-4d49-a0b0-de7471678476_27\", \"run_number\": 31, \"metric\": null, \"status\": \"Completed\", \"run_type\": \"azureml.scriptrun\", \"training_percent\": \"100\", \"start_time\": \"2021-01-31T18:03:16.857957Z\", \"end_time\": \"2021-01-31T18:04:04.931393Z\", \"created_time\": \"2021-01-31T18:03:06.2365Z\", \"created_time_dt\": \"2021-01-31T18:03:06.2365Z\", \"duration\": \"0:00:58\", \"iteration\": \"27\", \"goal\": \"accuracy_max\", \"run_name\": \"StandardScalerWrapper, LightGBM\", \"run_properties\": \"<azureml.automl.runtime.shared.model_wrappers.StandardScalerWrapper object at 0x7fc8a2e84e80\", \"primary_metric\": 0.82827957, \"best_metric\": 0.84795699}, {\"run_id\": \"AutoML_e1060a80-2336-4d49-a0b0-de7471678476_26\", \"run_number\": 32, \"metric\": null, \"status\": \"Completed\", \"run_type\": \"azureml.scriptrun\", \"training_percent\": \"100\", \"start_time\": \"2021-01-31T18:03:19.27311Z\", \"end_time\": \"2021-01-31T18:04:08.265952Z\", \"created_time\": \"2021-01-31T18:03:06.409637Z\", \"created_time_dt\": \"2021-01-31T18:03:06.409637Z\", \"duration\": \"0:01:01\", \"iteration\": \"26\", \"goal\": \"accuracy_max\", \"run_name\": \"MaxAbsScaler, LightGBM\", \"run_properties\": \"copy=True\", \"primary_metric\": 0.83462366, \"best_metric\": 0.84795699}, {\"run_id\": \"AutoML_e1060a80-2336-4d49-a0b0-de7471678476_28\", \"run_number\": 33, \"metric\": null, \"status\": \"Completed\", \"run_type\": \"azureml.scriptrun\", \"training_percent\": \"100\", \"start_time\": \"2021-01-31T18:03:53.963775Z\", \"end_time\": \"2021-01-31T18:04:47.475375Z\", \"created_time\": \"2021-01-31T18:03:42.862706Z\", \"created_time_dt\": \"2021-01-31T18:03:42.862706Z\", \"duration\": \"0:01:04\", \"iteration\": \"28\", \"goal\": \"accuracy_max\", \"run_name\": \"MaxAbsScaler, LightGBM\", \"run_properties\": \"copy=True\", \"primary_metric\": 0.83795699, \"best_metric\": 0.84795699}, {\"run_id\": \"AutoML_e1060a80-2336-4d49-a0b0-de7471678476_29\", \"run_number\": 34, \"metric\": null, \"status\": \"Completed\", \"run_type\": \"azureml.scriptrun\", \"training_percent\": \"100\", \"start_time\": \"2021-01-31T18:04:18.486215Z\", \"end_time\": \"2021-01-31T18:05:24.767935Z\", \"created_time\": \"2021-01-31T18:04:07.743747Z\", \"created_time_dt\": \"2021-01-31T18:04:07.743747Z\", \"duration\": \"0:01:17\", \"iteration\": \"29\", \"goal\": \"accuracy_max\", \"run_name\": \"StandardScalerWrapper, RandomForest\", \"run_properties\": \"<azureml.automl.runtime.shared.model_wrappers.StandardScalerWrapper object at 0x7ff9fe03a940\", \"primary_metric\": 0.82795699, \"best_metric\": 0.84795699}, {\"run_id\": \"AutoML_e1060a80-2336-4d49-a0b0-de7471678476_30\", \"run_number\": 35, \"metric\": null, \"status\": \"Completed\", \"run_type\": \"azureml.scriptrun\", \"training_percent\": \"100\", \"start_time\": \"2021-01-31T18:04:21.170744Z\", \"end_time\": \"2021-01-31T18:05:10.308476Z\", \"created_time\": \"2021-01-31T18:04:07.754992Z\", \"created_time_dt\": \"2021-01-31T18:04:07.754992Z\", \"duration\": \"0:01:02\", \"iteration\": \"30\", \"goal\": \"accuracy_max\", \"run_name\": \"StandardScalerWrapper, XGBoostClassifier\", \"run_properties\": \"<azureml.automl.runtime.shared.model_wrappers.StandardScalerWrapper object at 0x7f85981466d8\", \"primary_metric\": 0.79795699, \"best_metric\": 0.84795699}, {\"run_id\": \"AutoML_e1060a80-2336-4d49-a0b0-de7471678476_31\", \"run_number\": 36, \"metric\": null, \"status\": \"Completed\", \"run_type\": \"azureml.scriptrun\", \"training_percent\": \"100\", \"start_time\": \"2021-01-31T18:04:22.368448Z\", \"end_time\": \"2021-01-31T18:05:35.081002Z\", \"created_time\": \"2021-01-31T18:04:12.150841Z\", \"created_time_dt\": \"2021-01-31T18:04:12.150841Z\", \"duration\": \"0:01:22\", \"iteration\": \"31\", \"goal\": \"accuracy_max\", \"run_name\": \"MaxAbsScaler, ExtremeRandomTrees\", \"run_properties\": \"copy=True\", \"primary_metric\": 0.83451613, \"best_metric\": 0.84795699}, {\"run_id\": \"AutoML_e1060a80-2336-4d49-a0b0-de7471678476_32\", \"run_number\": 37, \"metric\": null, \"status\": \"Completed\", \"run_type\": \"azureml.scriptrun\", \"training_percent\": \"100\", \"start_time\": \"2021-01-31T18:04:59.129382Z\", \"end_time\": \"2021-01-31T18:06:02.795865Z\", \"created_time\": \"2021-01-31T18:04:49.421129Z\", \"created_time_dt\": \"2021-01-31T18:04:49.421129Z\", \"duration\": \"0:01:13\", \"iteration\": \"32\", \"goal\": \"accuracy_max\", \"run_name\": \"MaxAbsScaler, RandomForest\", \"run_properties\": \"copy=True\", \"primary_metric\": 0.82806452, \"best_metric\": 0.84795699}, {\"run_id\": \"AutoML_e1060a80-2336-4d49-a0b0-de7471678476_33\", \"run_number\": 38, \"metric\": null, \"status\": \"Canceled\", \"run_type\": \"azureml.scriptrun\", \"training_percent\": \"100\", \"start_time\": \"2021-01-31T18:05:25.375412Z\", \"end_time\": \"2021-01-31T18:06:10.431242Z\", \"created_time\": \"2021-01-31T18:05:12.279053Z\", \"created_time_dt\": \"2021-01-31T18:05:12.279053Z\", \"duration\": \"0:00:58\", \"iteration\": \"33\", \"goal\": \"accuracy_max\", \"run_name\": \"SparseNormalizer, ExtremeRandomTrees\", \"run_properties\": \"<azureml.automl.runtime.shared.model_wrappers.SparseNormalizer object at 0x7efc6a8bd358\", \"primary_metric\": 0.82451613, \"best_metric\": 0.84795699}, {\"run_id\": \"AutoML_e1060a80-2336-4d49-a0b0-de7471678476_34\", \"run_number\": 39, \"metric\": null, \"status\": \"Canceled\", \"run_type\": \"azureml.scriptrun\", \"training_percent\": \"100\", \"start_time\": \"2021-01-31T18:05:40.511804Z\", \"end_time\": \"2021-01-31T18:06:12.212138Z\", \"created_time\": \"2021-01-31T18:05:26.619107Z\", \"created_time_dt\": \"2021-01-31T18:05:26.619107Z\", \"duration\": \"0:00:45\", \"iteration\": \"34\", \"goal\": null, \"run_name\": \"StandardScalerWrapper, ExtremeRandomTrees\", \"run_properties\": null}, {\"run_id\": \"AutoML_e1060a80-2336-4d49-a0b0-de7471678476_35\", \"run_number\": 40, \"metric\": null, \"status\": \"Canceled\", \"run_type\": \"azureml.scriptrun\", \"training_percent\": \"100\", \"start_time\": \"2021-01-31T18:05:50.306932Z\", \"end_time\": \"2021-01-31T18:06:09.484183Z\", \"created_time\": \"2021-01-31T18:05:38.006193Z\", \"created_time_dt\": \"2021-01-31T18:05:38.006193Z\", \"duration\": \"0:00:31\", \"iteration\": \"35\", \"goal\": null, \"run_name\": \"Canceled\", \"run_properties\": null}, {\"run_id\": \"AutoML_e1060a80-2336-4d49-a0b0-de7471678476_36\", \"run_number\": 41, \"metric\": null, \"status\": \"Completed\", \"run_type\": \"azureml.scriptrun\", \"training_percent\": \"100\", \"start_time\": \"2021-01-31T18:06:29.121624Z\", \"end_time\": \"2021-01-31T18:08:37.058103Z\", \"created_time\": \"2021-01-31T18:06:13.656318Z\", \"created_time_dt\": \"2021-01-31T18:06:13.656318Z\", \"duration\": \"0:02:23\", \"iteration\": \"36\", \"goal\": \"accuracy_max\", \"run_name\": \"VotingEnsemble\", \"run_properties\": \"classification_labels=None,\\n                              estimators=[('4',\\n                                           Pipeline(memory=None,\\n                                                    steps=[('maxabsscaler',\\n                                                            MaxAbsScaler(copy=True\", \"primary_metric\": 0.85774194, \"best_metric\": 0.85774194}], \"children_metrics\": {\"categories\": [0], \"series\": {\"average_precision_score_micro\": [{\"categories\": [\"0\", \"1\", \"2\", \"3\", \"4\", \"5\", \"6\", \"7\", \"8\", \"9\", \"10\", \"11\", \"12\", \"13\", \"14\", \"15\", \"16\", \"17\", \"18\", \"19\", \"20\", \"21\", \"22\", \"23\", \"24\", \"25\", \"26\", \"27\", \"28\", \"29\", \"30\", \"31\", \"32\", \"33\", \"36\"], \"mode\": \"markers\", \"name\": \"average_precision_score_micro\", \"stepped\": false, \"type\": \"scatter\", \"data\": [0.8785300785590453, 0.895605229754536, 0.901228982145142, 0.8942671630264275, 0.9061383982582669, 0.8962384317859596, 0.8986726563403169, 0.9086209074912313, 0.9031178207983723, 0.8807646888034432, 0.8895726213798165, 0.9156840976352021, 0.8982127481583605, 0.8923943787965711, 0.9227157177766898, 0.9113041264801038, 0.8576587534527993, 0.889753669236147, 0.910208835093575, 0.8983330670282401, 0.9037677983115552, 0.9018486868514449, 0.9059601920935048, 0.9114361105770235, 0.8991963270619635, 0.5289013758816048, 0.9041956148489779, 0.9033654593366615, 0.9056650092303753, 0.9058134832432714, 0.8877410478068308, 0.9127219580583168, 0.9036961613542722, 0.9105079327211337, 0.9193727700088357]}, {\"categories\": [\"0\", \"1\", \"2\", \"3\", \"4\", \"5\", \"6\", \"7\", \"8\", \"9\", \"10\", \"11\", \"12\", \"13\", \"14\", \"15\", \"16\", \"17\", \"18\", \"19\", \"20\", \"21\", \"22\", \"23\", \"24\", \"25\", \"26\", \"27\", \"28\", \"29\", \"30\", \"31\", \"32\", \"33\", \"36\"], \"mode\": \"lines\", \"name\": \"average_precision_score_micro_max\", \"stepped\": true, \"type\": \"scatter\", \"data\": [0.8785300785590453, 0.895605229754536, 0.901228982145142, 0.901228982145142, 0.9061383982582669, 0.9061383982582669, 0.9061383982582669, 0.9086209074912313, 0.9086209074912313, 0.9086209074912313, 0.9086209074912313, 0.9156840976352021, 0.9156840976352021, 0.9156840976352021, 0.9227157177766898, 0.9227157177766898, 0.9227157177766898, 0.9227157177766898, 0.9227157177766898, 0.9227157177766898, 0.9227157177766898, 0.9227157177766898, 0.9227157177766898, 0.9227157177766898, 0.9227157177766898, 0.9227157177766898, 0.9227157177766898, 0.9227157177766898, 0.9227157177766898, 0.9227157177766898, 0.9227157177766898, 0.9227157177766898, 0.9227157177766898, 0.9227157177766898, 0.9227157177766898]}], \"recall_score_weighted\": [{\"categories\": [\"0\", \"1\", \"2\", \"3\", \"4\", \"5\", \"6\", \"7\", \"8\", \"9\", \"10\", \"11\", \"12\", \"13\", \"14\", \"15\", \"16\", \"17\", \"18\", \"19\", \"20\", \"21\", \"22\", \"23\", \"24\", \"25\", \"26\", \"27\", \"28\", \"29\", \"30\", \"31\", \"32\", \"33\", \"36\"], \"mode\": \"markers\", \"name\": \"recall_score_weighted\", \"stepped\": false, \"type\": \"scatter\", \"data\": [0.811505376344086, 0.8179569892473119, 0.7979569892473118, 0.8148387096774193, 0.8479569892473119, 0.8249462365591398, 0.8148387096774196, 0.8345161290322579, 0.8412903225806451, 0.8150537634408602, 0.8083870967741935, 0.8445161290322583, 0.8216129032258065, 0.8083870967741935, 0.8413978494623656, 0.8477419354838711, 0.7947311827956989, 0.7982795698924732, 0.8412903225806453, 0.8215053763440862, 0.8313978494623656, 0.8247311827956988, 0.8312903225806452, 0.8281720430107526, 0.8180645161290323, 0.5446236559139785, 0.8346236559139786, 0.8282795698924733, 0.8379569892473118, 0.8279569892473118, 0.7979569892473118, 0.8345161290322581, 0.8280645161290323, 0.824516129032258, 0.857741935483871]}, {\"categories\": [\"0\", \"1\", \"2\", \"3\", \"4\", \"5\", \"6\", \"7\", \"8\", \"9\", \"10\", \"11\", \"12\", \"13\", \"14\", \"15\", \"16\", \"17\", \"18\", \"19\", \"20\", \"21\", \"22\", \"23\", \"24\", \"25\", \"26\", \"27\", \"28\", \"29\", \"30\", \"31\", \"32\", \"33\", \"36\"], \"mode\": \"lines\", \"name\": \"recall_score_weighted_max\", \"stepped\": true, \"type\": \"scatter\", \"data\": [0.811505376344086, 0.8179569892473119, 0.8179569892473119, 0.8179569892473119, 0.8479569892473119, 0.8479569892473119, 0.8479569892473119, 0.8479569892473119, 0.8479569892473119, 0.8479569892473119, 0.8479569892473119, 0.8479569892473119, 0.8479569892473119, 0.8479569892473119, 0.8479569892473119, 0.8479569892473119, 0.8479569892473119, 0.8479569892473119, 0.8479569892473119, 0.8479569892473119, 0.8479569892473119, 0.8479569892473119, 0.8479569892473119, 0.8479569892473119, 0.8479569892473119, 0.8479569892473119, 0.8479569892473119, 0.8479569892473119, 0.8479569892473119, 0.8479569892473119, 0.8479569892473119, 0.8479569892473119, 0.8479569892473119, 0.8479569892473119, 0.857741935483871]}], \"precision_score_weighted\": [{\"categories\": [\"0\", \"1\", \"2\", \"3\", \"4\", \"5\", \"6\", \"7\", \"8\", \"9\", \"10\", \"11\", \"12\", \"13\", \"14\", \"15\", \"16\", \"17\", \"18\", \"19\", \"20\", \"21\", \"22\", \"23\", \"24\", \"25\", \"26\", \"27\", \"28\", \"29\", \"30\", \"31\", \"32\", \"33\", \"36\"], \"mode\": \"markers\", \"name\": \"precision_score_weighted\", \"stepped\": false, \"type\": \"scatter\", \"data\": [0.8262799266252276, 0.8259051766115084, 0.8013915132499096, 0.8183344900320705, 0.8544484296217858, 0.8321109685170407, 0.8226287109826009, 0.845358018053701, 0.8455620849387451, 0.8252494820969429, 0.8146378003655661, 0.8495621869696821, 0.8274478424219011, 0.818266735643028, 0.8474924573313732, 0.8521450172481956, 0.8029226038298619, 0.8053863795386567, 0.8457484107097484, 0.829617282045126, 0.8370694441899375, 0.8291672786712235, 0.8378492583212696, 0.8314552107092428, 0.8256679152103417, 0.301213203838594, 0.8430723079320555, 0.8330220681876279, 0.8428264440598406, 0.8368237082320491, 0.8018096514061634, 0.8397589188694502, 0.83195800838946, 0.8289057442662754, 0.8632324360929674]}, {\"categories\": [\"0\", \"1\", \"2\", \"3\", \"4\", \"5\", \"6\", \"7\", \"8\", \"9\", \"10\", \"11\", \"12\", \"13\", \"14\", \"15\", \"16\", \"17\", \"18\", \"19\", \"20\", \"21\", \"22\", \"23\", \"24\", \"25\", \"26\", \"27\", \"28\", \"29\", \"30\", \"31\", \"32\", \"33\", \"36\"], \"mode\": \"lines\", \"name\": \"precision_score_weighted_max\", \"stepped\": true, \"type\": \"scatter\", \"data\": [0.8262799266252276, 0.8262799266252276, 0.8262799266252276, 0.8262799266252276, 0.8544484296217858, 0.8544484296217858, 0.8544484296217858, 0.8544484296217858, 0.8544484296217858, 0.8544484296217858, 0.8544484296217858, 0.8544484296217858, 0.8544484296217858, 0.8544484296217858, 0.8544484296217858, 0.8544484296217858, 0.8544484296217858, 0.8544484296217858, 0.8544484296217858, 0.8544484296217858, 0.8544484296217858, 0.8544484296217858, 0.8544484296217858, 0.8544484296217858, 0.8544484296217858, 0.8544484296217858, 0.8544484296217858, 0.8544484296217858, 0.8544484296217858, 0.8544484296217858, 0.8544484296217858, 0.8544484296217858, 0.8544484296217858, 0.8544484296217858, 0.8632324360929674]}], \"precision_score_macro\": [{\"categories\": [\"0\", \"1\", \"2\", \"3\", \"4\", \"5\", \"6\", \"7\", \"8\", \"9\", \"10\", \"11\", \"12\", \"13\", \"14\", \"15\", \"16\", \"17\", \"18\", \"19\", \"20\", \"21\", \"22\", \"23\", \"24\", \"25\", \"26\", \"27\", \"28\", \"29\", \"30\", \"31\", \"32\", \"33\", \"36\"], \"mode\": \"markers\", \"name\": \"precision_score_macro\", \"stepped\": false, \"type\": \"scatter\", \"data\": [0.8214211740701678, 0.8219988224709587, 0.7958837445234505, 0.8163816526181076, 0.8507335675665028, 0.8266141823862412, 0.8155585631688572, 0.8395177412456825, 0.8410785211520505, 0.8198761148122603, 0.8104043695364027, 0.8477530353633295, 0.8235049981837907, 0.8153858356630433, 0.8438674291040021, 0.8492197630800572, 0.7956648049662756, 0.7998865064673889, 0.8412747342526755, 0.8271120395772099, 0.8323720968573909, 0.8257597429230558, 0.8325136486320697, 0.8289995320297179, 0.8209036404416838, 0.27231182795698927, 0.8406162699193391, 0.828920984201557, 0.8397304819363642, 0.8343974780547672, 0.796808677648461, 0.8339676255117432, 0.8262741506859154, 0.8234319112260288, 0.8607872438019497]}, {\"categories\": [\"0\", \"1\", \"2\", \"3\", \"4\", \"5\", \"6\", \"7\", \"8\", \"9\", \"10\", \"11\", \"12\", \"13\", \"14\", \"15\", \"16\", \"17\", \"18\", \"19\", \"20\", \"21\", \"22\", \"23\", \"24\", \"25\", \"26\", \"27\", \"28\", \"29\", \"30\", \"31\", \"32\", \"33\", \"36\"], \"mode\": \"lines\", \"name\": \"precision_score_macro_max\", \"stepped\": true, \"type\": \"scatter\", \"data\": [0.8214211740701678, 0.8219988224709587, 0.8219988224709587, 0.8219988224709587, 0.8507335675665028, 0.8507335675665028, 0.8507335675665028, 0.8507335675665028, 0.8507335675665028, 0.8507335675665028, 0.8507335675665028, 0.8507335675665028, 0.8507335675665028, 0.8507335675665028, 0.8507335675665028, 0.8507335675665028, 0.8507335675665028, 0.8507335675665028, 0.8507335675665028, 0.8507335675665028, 0.8507335675665028, 0.8507335675665028, 0.8507335675665028, 0.8507335675665028, 0.8507335675665028, 0.8507335675665028, 0.8507335675665028, 0.8507335675665028, 0.8507335675665028, 0.8507335675665028, 0.8507335675665028, 0.8507335675665028, 0.8507335675665028, 0.8507335675665028, 0.8607872438019497]}], \"recall_score_micro\": [{\"categories\": [\"0\", \"1\", \"2\", \"3\", \"4\", \"5\", \"6\", \"7\", \"8\", \"9\", \"10\", \"11\", \"12\", \"13\", \"14\", \"15\", \"16\", \"17\", \"18\", \"19\", \"20\", \"21\", \"22\", \"23\", \"24\", \"25\", \"26\", \"27\", \"28\", \"29\", \"30\", \"31\", \"32\", \"33\", \"36\"], \"mode\": \"markers\", \"name\": \"recall_score_micro\", \"stepped\": false, \"type\": \"scatter\", \"data\": [0.811505376344086, 0.8179569892473119, 0.7979569892473118, 0.8148387096774193, 0.8479569892473119, 0.8249462365591398, 0.8148387096774196, 0.8345161290322579, 0.8412903225806451, 0.8150537634408602, 0.8083870967741935, 0.8445161290322583, 0.8216129032258065, 0.8083870967741935, 0.8413978494623656, 0.8477419354838711, 0.7947311827956989, 0.7982795698924732, 0.8412903225806453, 0.8215053763440862, 0.8313978494623656, 0.8247311827956988, 0.8312903225806452, 0.8281720430107526, 0.8180645161290323, 0.5446236559139785, 0.8346236559139786, 0.8282795698924733, 0.8379569892473118, 0.8279569892473118, 0.7979569892473118, 0.8345161290322581, 0.8280645161290323, 0.824516129032258, 0.857741935483871]}, {\"categories\": [\"0\", \"1\", \"2\", \"3\", \"4\", \"5\", \"6\", \"7\", \"8\", \"9\", \"10\", \"11\", \"12\", \"13\", \"14\", \"15\", \"16\", \"17\", \"18\", \"19\", \"20\", \"21\", \"22\", \"23\", \"24\", \"25\", \"26\", \"27\", \"28\", \"29\", \"30\", \"31\", \"32\", \"33\", \"36\"], \"mode\": \"lines\", \"name\": \"recall_score_micro_max\", \"stepped\": true, \"type\": \"scatter\", \"data\": [0.811505376344086, 0.8179569892473119, 0.8179569892473119, 0.8179569892473119, 0.8479569892473119, 0.8479569892473119, 0.8479569892473119, 0.8479569892473119, 0.8479569892473119, 0.8479569892473119, 0.8479569892473119, 0.8479569892473119, 0.8479569892473119, 0.8479569892473119, 0.8479569892473119, 0.8479569892473119, 0.8479569892473119, 0.8479569892473119, 0.8479569892473119, 0.8479569892473119, 0.8479569892473119, 0.8479569892473119, 0.8479569892473119, 0.8479569892473119, 0.8479569892473119, 0.8479569892473119, 0.8479569892473119, 0.8479569892473119, 0.8479569892473119, 0.8479569892473119, 0.8479569892473119, 0.8479569892473119, 0.8479569892473119, 0.8479569892473119, 0.857741935483871]}], \"accuracy\": [{\"categories\": [\"0\", \"1\", \"2\", \"3\", \"4\", \"5\", \"6\", \"7\", \"8\", \"9\", \"10\", \"11\", \"12\", \"13\", \"14\", \"15\", \"16\", \"17\", \"18\", \"19\", \"20\", \"21\", \"22\", \"23\", \"24\", \"25\", \"26\", \"27\", \"28\", \"29\", \"30\", \"31\", \"32\", \"33\", \"36\"], \"mode\": \"markers\", \"name\": \"accuracy\", \"stepped\": false, \"type\": \"scatter\", \"data\": [0.811505376344086, 0.8179569892473119, 0.7979569892473118, 0.8148387096774193, 0.8479569892473119, 0.8249462365591398, 0.8148387096774196, 0.8345161290322579, 0.8412903225806451, 0.8150537634408602, 0.8083870967741935, 0.8445161290322583, 0.8216129032258065, 0.8083870967741935, 0.8413978494623656, 0.8477419354838711, 0.7947311827956989, 0.7982795698924732, 0.8412903225806453, 0.8215053763440862, 0.8313978494623656, 0.8247311827956988, 0.8312903225806452, 0.8281720430107526, 0.8180645161290323, 0.5446236559139785, 0.8346236559139786, 0.8282795698924733, 0.8379569892473118, 0.8279569892473118, 0.7979569892473118, 0.8345161290322581, 0.8280645161290323, 0.824516129032258, 0.857741935483871]}, {\"categories\": [\"0\", \"1\", \"2\", \"3\", \"4\", \"5\", \"6\", \"7\", \"8\", \"9\", \"10\", \"11\", \"12\", \"13\", \"14\", \"15\", \"16\", \"17\", \"18\", \"19\", \"20\", \"21\", \"22\", \"23\", \"24\", \"25\", \"26\", \"27\", \"28\", \"29\", \"30\", \"31\", \"32\", \"33\", \"36\"], \"mode\": \"lines\", \"name\": \"accuracy_max\", \"stepped\": true, \"type\": \"scatter\", \"data\": [0.811505376344086, 0.8179569892473119, 0.8179569892473119, 0.8179569892473119, 0.8479569892473119, 0.8479569892473119, 0.8479569892473119, 0.8479569892473119, 0.8479569892473119, 0.8479569892473119, 0.8479569892473119, 0.8479569892473119, 0.8479569892473119, 0.8479569892473119, 0.8479569892473119, 0.8479569892473119, 0.8479569892473119, 0.8479569892473119, 0.8479569892473119, 0.8479569892473119, 0.8479569892473119, 0.8479569892473119, 0.8479569892473119, 0.8479569892473119, 0.8479569892473119, 0.8479569892473119, 0.8479569892473119, 0.8479569892473119, 0.8479569892473119, 0.8479569892473119, 0.8479569892473119, 0.8479569892473119, 0.8479569892473119, 0.8479569892473119, 0.857741935483871]}], \"recall_score_macro\": [{\"categories\": [\"0\", \"1\", \"2\", \"3\", \"4\", \"5\", \"6\", \"7\", \"8\", \"9\", \"10\", \"11\", \"12\", \"13\", \"14\", \"15\", \"16\", \"17\", \"18\", \"19\", \"20\", \"21\", \"22\", \"23\", \"24\", \"25\", \"26\", \"27\", \"28\", \"29\", \"30\", \"31\", \"32\", \"33\", \"36\"], \"mode\": \"markers\", \"name\": \"recall_score_macro\", \"stepped\": false, \"type\": \"scatter\", \"data\": [0.8071990726421842, 0.8115750673045564, 0.7930513717878269, 0.8077278880819903, 0.8422637433086351, 0.8240201304113844, 0.8113458980390096, 0.8331761073034294, 0.8374128528849889, 0.8137091402319729, 0.800734819875687, 0.8385348792933932, 0.8148626109442674, 0.7996315715588161, 0.8344668201595447, 0.8431949670126915, 0.793755184014472, 0.7942972868205065, 0.8371747576468938, 0.8146184566637352, 0.8270676047378835, 0.8207957515910301, 0.8284758930869611, 0.8210791925652607, 0.8129956636071185, 0.5, 0.8282217049806058, 0.8217775190066213, 0.8324634507219646, 0.820470382515661, 0.7913023998705113, 0.8319226568065577, 0.8265217616920403, 0.8205765029604037, 0.8517696276461757]}, {\"categories\": [\"0\", \"1\", \"2\", \"3\", \"4\", \"5\", \"6\", \"7\", \"8\", \"9\", \"10\", \"11\", \"12\", \"13\", \"14\", \"15\", \"16\", \"17\", \"18\", \"19\", \"20\", \"21\", \"22\", \"23\", \"24\", \"25\", \"26\", \"27\", \"28\", \"29\", \"30\", \"31\", \"32\", \"33\", \"36\"], \"mode\": \"lines\", \"name\": \"recall_score_macro_max\", \"stepped\": true, \"type\": \"scatter\", \"data\": [0.8071990726421842, 0.8115750673045564, 0.8115750673045564, 0.8115750673045564, 0.8422637433086351, 0.8422637433086351, 0.8422637433086351, 0.8422637433086351, 0.8422637433086351, 0.8422637433086351, 0.8422637433086351, 0.8422637433086351, 0.8422637433086351, 0.8422637433086351, 0.8422637433086351, 0.8431949670126915, 0.8431949670126915, 0.8431949670126915, 0.8431949670126915, 0.8431949670126915, 0.8431949670126915, 0.8431949670126915, 0.8431949670126915, 0.8431949670126915, 0.8431949670126915, 0.8431949670126915, 0.8431949670126915, 0.8431949670126915, 0.8431949670126915, 0.8431949670126915, 0.8431949670126915, 0.8431949670126915, 0.8431949670126915, 0.8431949670126915, 0.8517696276461757]}], \"weighted_accuracy\": [{\"categories\": [\"0\", \"1\", \"2\", \"3\", \"4\", \"5\", \"6\", \"7\", \"8\", \"9\", \"10\", \"11\", \"12\", \"13\", \"14\", \"15\", \"16\", \"17\", \"18\", \"19\", \"20\", \"21\", \"22\", \"23\", \"24\", \"25\", \"26\", \"27\", \"28\", \"29\", \"30\", \"31\", \"32\", \"33\", \"36\"], \"mode\": \"markers\", \"name\": \"weighted_accuracy\", \"stepped\": false, \"type\": \"scatter\", \"data\": [0.815316867788248, 0.8236140706065846, 0.8022867698119507, 0.8211382178738162, 0.8529348720231524, 0.8255234621671244, 0.8178767856733324, 0.8356474081010722, 0.8447383029743218, 0.815917853504672, 0.8150201105300814, 0.8498231132476398, 0.8272483802490316, 0.8160348400178605, 0.8475458374921307, 0.8517717104244529, 0.7954863673212954, 0.8016937773208344, 0.8449784026156731, 0.8274192267659906, 0.8350550590730961, 0.8281141619330523, 0.8334735523563153, 0.8345366252122645, 0.8225038203151168, 0.5842748958320289, 0.8401612833397163, 0.8339921276253521, 0.8428829135015752, 0.834486346258702, 0.8039795590958235, 0.8367296293747781, 0.8293752422706546, 0.827993765529744, 0.8630772753108037]}, {\"categories\": [\"0\", \"1\", \"2\", \"3\", \"4\", \"5\", \"6\", \"7\", \"8\", \"9\", \"10\", \"11\", \"12\", \"13\", \"14\", \"15\", \"16\", \"17\", \"18\", \"19\", \"20\", \"21\", \"22\", \"23\", \"24\", \"25\", \"26\", \"27\", \"28\", \"29\", \"30\", \"31\", \"32\", \"33\", \"36\"], \"mode\": \"lines\", \"name\": \"weighted_accuracy_max\", \"stepped\": true, \"type\": \"scatter\", \"data\": [0.815316867788248, 0.8236140706065846, 0.8236140706065846, 0.8236140706065846, 0.8529348720231524, 0.8529348720231524, 0.8529348720231524, 0.8529348720231524, 0.8529348720231524, 0.8529348720231524, 0.8529348720231524, 0.8529348720231524, 0.8529348720231524, 0.8529348720231524, 0.8529348720231524, 0.8529348720231524, 0.8529348720231524, 0.8529348720231524, 0.8529348720231524, 0.8529348720231524, 0.8529348720231524, 0.8529348720231524, 0.8529348720231524, 0.8529348720231524, 0.8529348720231524, 0.8529348720231524, 0.8529348720231524, 0.8529348720231524, 0.8529348720231524, 0.8529348720231524, 0.8529348720231524, 0.8529348720231524, 0.8529348720231524, 0.8529348720231524, 0.8630772753108037]}], \"f1_score_micro\": [{\"categories\": [\"0\", \"1\", \"2\", \"3\", \"4\", \"5\", \"6\", \"7\", \"8\", \"9\", \"10\", \"11\", \"12\", \"13\", \"14\", \"15\", \"16\", \"17\", \"18\", \"19\", \"20\", \"21\", \"22\", \"23\", \"24\", \"25\", \"26\", \"27\", \"28\", \"29\", \"30\", \"31\", \"32\", \"33\", \"36\"], \"mode\": \"markers\", \"name\": \"f1_score_micro\", \"stepped\": false, \"type\": \"scatter\", \"data\": [0.811505376344086, 0.8179569892473119, 0.7979569892473118, 0.8148387096774193, 0.8479569892473119, 0.8249462365591398, 0.8148387096774196, 0.8345161290322579, 0.8412903225806451, 0.8150537634408602, 0.8083870967741935, 0.8445161290322583, 0.8216129032258065, 0.8083870967741935, 0.8413978494623656, 0.8477419354838711, 0.7947311827956989, 0.7982795698924732, 0.8412903225806453, 0.8215053763440862, 0.8313978494623658, 0.824731182795699, 0.8312903225806452, 0.8281720430107526, 0.8180645161290323, 0.5446236559139785, 0.8346236559139786, 0.8282795698924733, 0.8379569892473118, 0.8279569892473118, 0.7979569892473118, 0.8345161290322582, 0.8280645161290323, 0.824516129032258, 0.857741935483871]}, {\"categories\": [\"0\", \"1\", \"2\", \"3\", \"4\", \"5\", \"6\", \"7\", \"8\", \"9\", \"10\", \"11\", \"12\", \"13\", \"14\", \"15\", \"16\", \"17\", \"18\", \"19\", \"20\", \"21\", \"22\", \"23\", \"24\", \"25\", \"26\", \"27\", \"28\", \"29\", \"30\", \"31\", \"32\", \"33\", \"36\"], \"mode\": \"lines\", \"name\": \"f1_score_micro_max\", \"stepped\": true, \"type\": \"scatter\", \"data\": [0.811505376344086, 0.8179569892473119, 0.8179569892473119, 0.8179569892473119, 0.8479569892473119, 0.8479569892473119, 0.8479569892473119, 0.8479569892473119, 0.8479569892473119, 0.8479569892473119, 0.8479569892473119, 0.8479569892473119, 0.8479569892473119, 0.8479569892473119, 0.8479569892473119, 0.8479569892473119, 0.8479569892473119, 0.8479569892473119, 0.8479569892473119, 0.8479569892473119, 0.8479569892473119, 0.8479569892473119, 0.8479569892473119, 0.8479569892473119, 0.8479569892473119, 0.8479569892473119, 0.8479569892473119, 0.8479569892473119, 0.8479569892473119, 0.8479569892473119, 0.8479569892473119, 0.8479569892473119, 0.8479569892473119, 0.8479569892473119, 0.857741935483871]}], \"f1_score_weighted\": [{\"categories\": [\"0\", \"1\", \"2\", \"3\", \"4\", \"5\", \"6\", \"7\", \"8\", \"9\", \"10\", \"11\", \"12\", \"13\", \"14\", \"15\", \"16\", \"17\", \"18\", \"19\", \"20\", \"21\", \"22\", \"23\", \"24\", \"25\", \"26\", \"27\", \"28\", \"29\", \"30\", \"31\", \"32\", \"33\", \"36\"], \"mode\": \"markers\", \"name\": \"f1_score_weighted\", \"stepped\": false, \"type\": \"scatter\", \"data\": [0.8098393982665282, 0.8159674257271587, 0.796799600265675, 0.8138702977191177, 0.8455721596698564, 0.8252034057313071, 0.8138029575350736, 0.8335834205071604, 0.8408299727063264, 0.8145258695862699, 0.8058176572198501, 0.8435112597924783, 0.8200664382710758, 0.8049800476915523, 0.8389389470391434, 0.8473547193248393, 0.7947083593475495, 0.7969897819079508, 0.8407357094529978, 0.820062392250928, 0.8306361276889594, 0.824439619600661, 0.8308620689655173, 0.8266863943208811, 0.8156309254021465, 0.38657973886470265, 0.8335339046166194, 0.827110501562751, 0.8369394953924358, 0.8252830038259867, 0.7963125441497276, 0.8341689002964037, 0.8281995057818692, 0.8237128038113616, 0.8563173573379176]}, {\"categories\": [\"0\", \"1\", \"2\", \"3\", \"4\", \"5\", \"6\", \"7\", \"8\", \"9\", \"10\", \"11\", \"12\", \"13\", \"14\", \"15\", \"16\", \"17\", \"18\", \"19\", \"20\", \"21\", \"22\", \"23\", \"24\", \"25\", \"26\", \"27\", \"28\", \"29\", \"30\", \"31\", \"32\", \"33\", \"36\"], \"mode\": \"lines\", \"name\": \"f1_score_weighted_max\", \"stepped\": true, \"type\": \"scatter\", \"data\": [0.8098393982665282, 0.8159674257271587, 0.8159674257271587, 0.8159674257271587, 0.8455721596698564, 0.8455721596698564, 0.8455721596698564, 0.8455721596698564, 0.8455721596698564, 0.8455721596698564, 0.8455721596698564, 0.8455721596698564, 0.8455721596698564, 0.8455721596698564, 0.8455721596698564, 0.8473547193248393, 0.8473547193248393, 0.8473547193248393, 0.8473547193248393, 0.8473547193248393, 0.8473547193248393, 0.8473547193248393, 0.8473547193248393, 0.8473547193248393, 0.8473547193248393, 0.8473547193248393, 0.8473547193248393, 0.8473547193248393, 0.8473547193248393, 0.8473547193248393, 0.8473547193248393, 0.8473547193248393, 0.8473547193248393, 0.8473547193248393, 0.8563173573379176]}], \"AUC_weighted\": [{\"categories\": [\"0\", \"1\", \"2\", \"3\", \"4\", \"5\", \"6\", \"7\", \"8\", \"9\", \"10\", \"11\", \"12\", \"13\", \"14\", \"15\", \"16\", \"17\", \"18\", \"19\", \"20\", \"21\", \"22\", \"23\", \"24\", \"25\", \"26\", \"27\", \"28\", \"29\", \"30\", \"31\", \"32\", \"33\", \"36\"], \"mode\": \"markers\", \"name\": \"AUC_weighted\", \"stepped\": false, \"type\": \"scatter\", \"data\": [0.8828390759710418, 0.889146318736876, 0.8942185529039245, 0.8896672788282695, 0.9019349715615196, 0.8965128559520974, 0.8953810401987647, 0.9120127586122168, 0.8988387294966242, 0.8838963371366623, 0.886806599747002, 0.9173249167126878, 0.9030003530467926, 0.8920255018745731, 0.9227157329111664, 0.9153559271682337, 0.8523346754151708, 0.8869809199371893, 0.9128443453977508, 0.8999485883340371, 0.9046130336238697, 0.9083167454177516, 0.9090014531249052, 0.9118610163343135, 0.8950300570745618, 0.5, 0.909273446740165, 0.9043097421154697, 0.9056271376542273, 0.9091063336674793, 0.8891752158803243, 0.916545370880123, 0.9052629431112404, 0.9166898615230659, 0.9223172585784815]}, {\"categories\": [\"0\", \"1\", \"2\", \"3\", \"4\", \"5\", \"6\", \"7\", \"8\", \"9\", \"10\", \"11\", \"12\", \"13\", \"14\", \"15\", \"16\", \"17\", \"18\", \"19\", \"20\", \"21\", \"22\", \"23\", \"24\", \"25\", \"26\", \"27\", \"28\", \"29\", \"30\", \"31\", \"32\", \"33\", \"36\"], \"mode\": \"lines\", \"name\": \"AUC_weighted_max\", \"stepped\": true, \"type\": \"scatter\", \"data\": [0.8828390759710418, 0.889146318736876, 0.8942185529039245, 0.8942185529039245, 0.9019349715615196, 0.9019349715615196, 0.9019349715615196, 0.9120127586122168, 0.9120127586122168, 0.9120127586122168, 0.9120127586122168, 0.9173249167126878, 0.9173249167126878, 0.9173249167126878, 0.9227157329111664, 0.9227157329111664, 0.9227157329111664, 0.9227157329111664, 0.9227157329111664, 0.9227157329111664, 0.9227157329111664, 0.9227157329111664, 0.9227157329111664, 0.9227157329111664, 0.9227157329111664, 0.9227157329111664, 0.9227157329111664, 0.9227157329111664, 0.9227157329111664, 0.9227157329111664, 0.9227157329111664, 0.9227157329111664, 0.9227157329111664, 0.9227157329111664, 0.9227157329111664]}], \"AUC_micro\": [{\"categories\": [\"0\", \"1\", \"2\", \"3\", \"4\", \"5\", \"6\", \"7\", \"8\", \"9\", \"10\", \"11\", \"12\", \"13\", \"14\", \"15\", \"16\", \"17\", \"18\", \"19\", \"20\", \"21\", \"22\", \"23\", \"24\", \"25\", \"26\", \"27\", \"28\", \"29\", \"30\", \"31\", \"32\", \"33\", \"36\"], \"mode\": \"markers\", \"name\": \"AUC_micro\", \"stepped\": false, \"type\": \"scatter\", \"data\": [0.8751829113192275, 0.8874298762862759, 0.8962942536709446, 0.8939502832697424, 0.9036434269857786, 0.8944069834662967, 0.8931601341195513, 0.908052607237831, 0.8987297953520639, 0.8858125794889583, 0.8843628165105792, 0.9150102902069603, 0.8969343276679386, 0.8888425251474159, 0.9194423632789919, 0.9125006359116663, 0.8551459128222916, 0.8860083246618105, 0.9111848768643774, 0.9002729795352064, 0.9022941380506417, 0.9048162793386518, 0.9052395652676608, 0.9111460284425945, 0.8958779049601111, 0.5446236559139784, 0.9042959879754886, 0.9027208925887384, 0.903800323736848, 0.906077234362354, 0.8863365707018153, 0.9122995722048792, 0.9023453578448375, 0.9118816048098045, 0.9176699040351487]}, {\"categories\": [\"0\", \"1\", \"2\", \"3\", \"4\", \"5\", \"6\", \"7\", \"8\", \"9\", \"10\", \"11\", \"12\", \"13\", \"14\", \"15\", \"16\", \"17\", \"18\", \"19\", \"20\", \"21\", \"22\", \"23\", \"24\", \"25\", \"26\", \"27\", \"28\", \"29\", \"30\", \"31\", \"32\", \"33\", \"36\"], \"mode\": \"lines\", \"name\": \"AUC_micro_max\", \"stepped\": true, \"type\": \"scatter\", \"data\": [0.8751829113192275, 0.8874298762862759, 0.8962942536709446, 0.8962942536709446, 0.9036434269857786, 0.9036434269857786, 0.9036434269857786, 0.908052607237831, 0.908052607237831, 0.908052607237831, 0.908052607237831, 0.9150102902069603, 0.9150102902069603, 0.9150102902069603, 0.9194423632789919, 0.9194423632789919, 0.9194423632789919, 0.9194423632789919, 0.9194423632789919, 0.9194423632789919, 0.9194423632789919, 0.9194423632789919, 0.9194423632789919, 0.9194423632789919, 0.9194423632789919, 0.9194423632789919, 0.9194423632789919, 0.9194423632789919, 0.9194423632789919, 0.9194423632789919, 0.9194423632789919, 0.9194423632789919, 0.9194423632789919, 0.9194423632789919, 0.9194423632789919]}], \"norm_macro_recall\": [{\"categories\": [\"0\", \"1\", \"2\", \"3\", \"4\", \"5\", \"6\", \"7\", \"8\", \"9\", \"10\", \"11\", \"12\", \"13\", \"14\", \"15\", \"16\", \"17\", \"18\", \"19\", \"20\", \"21\", \"22\", \"23\", \"24\", \"25\", \"26\", \"27\", \"28\", \"29\", \"30\", \"31\", \"32\", \"33\", \"36\"], \"mode\": \"markers\", \"name\": \"norm_macro_recall\", \"stepped\": false, \"type\": \"scatter\", \"data\": [0.6143981452843683, 0.623150134609113, 0.5861027435756537, 0.6154557761639805, 0.6845274866172699, 0.6480402608227684, 0.622691796078019, 0.6663522146068586, 0.6748257057699782, 0.6274182804639461, 0.6014696397513736, 0.6770697585867864, 0.6297252218885345, 0.5992631431176323, 0.6689336403190892, 0.686389934025383, 0.5875103680289439, 0.5885945736410133, 0.6743495152937877, 0.6292369133274707, 0.6541352094757668, 0.6415915031820605, 0.6569517861739225, 0.6421583851305213, 0.6259913272142374, 0.0, 0.6564434099612118, 0.6435550380132423, 0.6649269014439294, 0.6409407650313222, 0.5826047997410226, 0.6638453136131155, 0.6530435233840806, 0.6411530059208077, 0.7035392552923513]}, {\"categories\": [\"0\", \"1\", \"2\", \"3\", \"4\", \"5\", \"6\", \"7\", \"8\", \"9\", \"10\", \"11\", \"12\", \"13\", \"14\", \"15\", \"16\", \"17\", \"18\", \"19\", \"20\", \"21\", \"22\", \"23\", \"24\", \"25\", \"26\", \"27\", \"28\", \"29\", \"30\", \"31\", \"32\", \"33\", \"36\"], \"mode\": \"lines\", \"name\": \"norm_macro_recall_max\", \"stepped\": true, \"type\": \"scatter\", \"data\": [0.6143981452843683, 0.623150134609113, 0.623150134609113, 0.623150134609113, 0.6845274866172699, 0.6845274866172699, 0.6845274866172699, 0.6845274866172699, 0.6845274866172699, 0.6845274866172699, 0.6845274866172699, 0.6845274866172699, 0.6845274866172699, 0.6845274866172699, 0.6845274866172699, 0.686389934025383, 0.686389934025383, 0.686389934025383, 0.686389934025383, 0.686389934025383, 0.686389934025383, 0.686389934025383, 0.686389934025383, 0.686389934025383, 0.686389934025383, 0.686389934025383, 0.686389934025383, 0.686389934025383, 0.686389934025383, 0.686389934025383, 0.686389934025383, 0.686389934025383, 0.686389934025383, 0.686389934025383, 0.7035392552923513]}], \"matthews_correlation\": [{\"categories\": [\"0\", \"1\", \"2\", \"3\", \"4\", \"5\", \"6\", \"7\", \"8\", \"9\", \"10\", \"11\", \"12\", \"13\", \"14\", \"15\", \"16\", \"17\", \"18\", \"19\", \"20\", \"21\", \"22\", \"23\", \"24\", \"25\", \"26\", \"27\", \"28\", \"29\", \"30\", \"31\", \"32\", \"33\", \"36\"], \"mode\": \"markers\", \"name\": \"matthews_correlation\", \"stepped\": false, \"type\": \"scatter\", \"data\": [0.6281999109043686, 0.6331746195926933, 0.5888519139547801, 0.6239372468061372, 0.692577124390111, 0.6504853430445589, 0.6267572091964622, 0.6724370393780802, 0.6783948252611799, 0.633418719450171, 0.6107105856305795, 0.6860293215535082, 0.6378249679252264, 0.6144475114899545, 0.6778030708210835, 0.692215087085344, 0.5892545836385084, 0.5939489475361791, 0.6783491663094897, 0.6410264732263975, 0.6592837488837582, 0.6464000111489102, 0.6608833313300072, 0.6498113885672157, 0.6334555625624615, 0.0, 0.6684367119230149, 0.6505456576028925, 0.6720308268089603, 0.6541316907816841, 0.5878770892535231, 0.6657949199374751, 0.6527375395550928, 0.6438672584877679, 0.7121645865432588]}, {\"categories\": [\"0\", \"1\", \"2\", \"3\", \"4\", \"5\", \"6\", \"7\", \"8\", \"9\", \"10\", \"11\", \"12\", \"13\", \"14\", \"15\", \"16\", \"17\", \"18\", \"19\", \"20\", \"21\", \"22\", \"23\", \"24\", \"25\", \"26\", \"27\", \"28\", \"29\", \"30\", \"31\", \"32\", \"33\", \"36\"], \"mode\": \"lines\", \"name\": \"matthews_correlation_max\", \"stepped\": true, \"type\": \"scatter\", \"data\": [0.6281999109043686, 0.6331746195926933, 0.6331746195926933, 0.6331746195926933, 0.692577124390111, 0.692577124390111, 0.692577124390111, 0.692577124390111, 0.692577124390111, 0.692577124390111, 0.692577124390111, 0.692577124390111, 0.692577124390111, 0.692577124390111, 0.692577124390111, 0.692577124390111, 0.692577124390111, 0.692577124390111, 0.692577124390111, 0.692577124390111, 0.692577124390111, 0.692577124390111, 0.692577124390111, 0.692577124390111, 0.692577124390111, 0.692577124390111, 0.692577124390111, 0.692577124390111, 0.692577124390111, 0.692577124390111, 0.692577124390111, 0.692577124390111, 0.692577124390111, 0.692577124390111, 0.7121645865432588]}], \"balanced_accuracy\": [{\"categories\": [\"0\", \"1\", \"2\", \"3\", \"4\", \"5\", \"6\", \"7\", \"8\", \"9\", \"10\", \"11\", \"12\", \"13\", \"14\", \"15\", \"16\", \"17\", \"18\", \"19\", \"20\", \"21\", \"22\", \"23\", \"24\", \"25\", \"26\", \"27\", \"28\", \"29\", \"30\", \"31\", \"32\", \"33\", \"36\"], \"mode\": \"markers\", \"name\": \"balanced_accuracy\", \"stepped\": false, \"type\": \"scatter\", \"data\": [0.8071990726421842, 0.8115750673045564, 0.7930513717878269, 0.8077278880819903, 0.8422637433086351, 0.8240201304113844, 0.8113458980390096, 0.8331761073034294, 0.8374128528849889, 0.8137091402319729, 0.800734819875687, 0.8385348792933932, 0.8148626109442674, 0.7996315715588161, 0.8344668201595447, 0.8431949670126915, 0.793755184014472, 0.7942972868205065, 0.8371747576468938, 0.8146184566637352, 0.8270676047378835, 0.8207957515910301, 0.8284758930869611, 0.8210791925652607, 0.8129956636071185, 0.5, 0.8282217049806058, 0.8217775190066213, 0.8324634507219646, 0.820470382515661, 0.7913023998705113, 0.8319226568065577, 0.8265217616920403, 0.8205765029604037, 0.8517696276461757]}, {\"categories\": [\"0\", \"1\", \"2\", \"3\", \"4\", \"5\", \"6\", \"7\", \"8\", \"9\", \"10\", \"11\", \"12\", \"13\", \"14\", \"15\", \"16\", \"17\", \"18\", \"19\", \"20\", \"21\", \"22\", \"23\", \"24\", \"25\", \"26\", \"27\", \"28\", \"29\", \"30\", \"31\", \"32\", \"33\", \"36\"], \"mode\": \"lines\", \"name\": \"balanced_accuracy_max\", \"stepped\": true, \"type\": \"scatter\", \"data\": [0.8071990726421842, 0.8115750673045564, 0.8115750673045564, 0.8115750673045564, 0.8422637433086351, 0.8422637433086351, 0.8422637433086351, 0.8422637433086351, 0.8422637433086351, 0.8422637433086351, 0.8422637433086351, 0.8422637433086351, 0.8422637433086351, 0.8422637433086351, 0.8422637433086351, 0.8431949670126915, 0.8431949670126915, 0.8431949670126915, 0.8431949670126915, 0.8431949670126915, 0.8431949670126915, 0.8431949670126915, 0.8431949670126915, 0.8431949670126915, 0.8431949670126915, 0.8431949670126915, 0.8431949670126915, 0.8431949670126915, 0.8431949670126915, 0.8431949670126915, 0.8431949670126915, 0.8431949670126915, 0.8431949670126915, 0.8431949670126915, 0.8517696276461757]}], \"average_precision_score_weighted\": [{\"categories\": [\"0\", \"1\", \"2\", \"3\", \"4\", \"5\", \"6\", \"7\", \"8\", \"9\", \"10\", \"11\", \"12\", \"13\", \"14\", \"15\", \"16\", \"17\", \"18\", \"19\", \"20\", \"21\", \"22\", \"23\", \"24\", \"25\", \"26\", \"27\", \"28\", \"29\", \"30\", \"31\", \"32\", \"33\", \"36\"], \"mode\": \"markers\", \"name\": \"average_precision_score_weighted\", \"stepped\": false, \"type\": \"scatter\", \"data\": [0.8919494524740141, 0.9010638342497428, 0.9061982024740619, 0.8984637956181787, 0.9093860379586316, 0.9031883508130891, 0.9042621410403593, 0.9163902672472609, 0.9092389409693903, 0.8816203617860608, 0.8977644951877679, 0.9228769872868059, 0.9096792438517213, 0.9018590087135252, 0.9307002051587819, 0.9195276965123359, 0.8644204099187311, 0.8956151324226773, 0.9189251600547029, 0.9032852315793564, 0.9112461019936591, 0.9126158065106367, 0.9154304250841279, 0.9174279710380923, 0.9041600516737247, 0.5131790958492312, 0.9155999229772901, 0.9105961215808728, 0.9121895892043798, 0.9155219566458704, 0.8980430851228217, 0.9232175887059986, 0.9120841090962051, 0.9214667526825681, 0.9284731752447455]}, {\"categories\": [\"0\", \"1\", \"2\", \"3\", \"4\", \"5\", \"6\", \"7\", \"8\", \"9\", \"10\", \"11\", \"12\", \"13\", \"14\", \"15\", \"16\", \"17\", \"18\", \"19\", \"20\", \"21\", \"22\", \"23\", \"24\", \"25\", \"26\", \"27\", \"28\", \"29\", \"30\", \"31\", \"32\", \"33\", \"36\"], \"mode\": \"lines\", \"name\": \"average_precision_score_weighted_max\", \"stepped\": true, \"type\": \"scatter\", \"data\": [0.8919494524740141, 0.9010638342497428, 0.9061982024740619, 0.9061982024740619, 0.9093860379586316, 0.9093860379586316, 0.9093860379586316, 0.9163902672472609, 0.9163902672472609, 0.9163902672472609, 0.9163902672472609, 0.9228769872868059, 0.9228769872868059, 0.9228769872868059, 0.9307002051587819, 0.9307002051587819, 0.9307002051587819, 0.9307002051587819, 0.9307002051587819, 0.9307002051587819, 0.9307002051587819, 0.9307002051587819, 0.9307002051587819, 0.9307002051587819, 0.9307002051587819, 0.9307002051587819, 0.9307002051587819, 0.9307002051587819, 0.9307002051587819, 0.9307002051587819, 0.9307002051587819, 0.9307002051587819, 0.9307002051587819, 0.9307002051587819, 0.9307002051587819]}], \"AUC_macro\": [{\"categories\": [\"0\", \"1\", \"2\", \"3\", \"4\", \"5\", \"6\", \"7\", \"8\", \"9\", \"10\", \"11\", \"12\", \"13\", \"14\", \"15\", \"16\", \"17\", \"18\", \"19\", \"20\", \"21\", \"22\", \"23\", \"24\", \"25\", \"26\", \"27\", \"28\", \"29\", \"30\", \"31\", \"32\", \"33\", \"36\"], \"mode\": \"markers\", \"name\": \"AUC_macro\", \"stepped\": false, \"type\": \"scatter\", \"data\": [0.8828390759710418, 0.889146318736876, 0.8942185529039243, 0.8896672788282695, 0.9019349715615196, 0.8965128559520974, 0.8953810401987647, 0.9120127586122168, 0.8988387294966242, 0.8838963371366623, 0.886806599747002, 0.9173249167126876, 0.9030003530467926, 0.8920255018745731, 0.9227157329111664, 0.9153559271682337, 0.8523346754151708, 0.8869809199371893, 0.9128443453977508, 0.8999485883340371, 0.9046130336238696, 0.9083167454177516, 0.9090014531249052, 0.9118610163343135, 0.8950300570745618, 0.5, 0.909273446740165, 0.9043097421154697, 0.9056271376542273, 0.9091063336674792, 0.8891752158803243, 0.916545370880123, 0.9052629431112404, 0.9166898615230659, 0.9223172585784815]}, {\"categories\": [\"0\", \"1\", \"2\", \"3\", \"4\", \"5\", \"6\", \"7\", \"8\", \"9\", \"10\", \"11\", \"12\", \"13\", \"14\", \"15\", \"16\", \"17\", \"18\", \"19\", \"20\", \"21\", \"22\", \"23\", \"24\", \"25\", \"26\", \"27\", \"28\", \"29\", \"30\", \"31\", \"32\", \"33\", \"36\"], \"mode\": \"lines\", \"name\": \"AUC_macro_max\", \"stepped\": true, \"type\": \"scatter\", \"data\": [0.8828390759710418, 0.889146318736876, 0.8942185529039243, 0.8942185529039243, 0.9019349715615196, 0.9019349715615196, 0.9019349715615196, 0.9120127586122168, 0.9120127586122168, 0.9120127586122168, 0.9120127586122168, 0.9173249167126876, 0.9173249167126876, 0.9173249167126876, 0.9227157329111664, 0.9227157329111664, 0.9227157329111664, 0.9227157329111664, 0.9227157329111664, 0.9227157329111664, 0.9227157329111664, 0.9227157329111664, 0.9227157329111664, 0.9227157329111664, 0.9227157329111664, 0.9227157329111664, 0.9227157329111664, 0.9227157329111664, 0.9227157329111664, 0.9227157329111664, 0.9227157329111664, 0.9227157329111664, 0.9227157329111664, 0.9227157329111664, 0.9227157329111664]}], \"f1_score_macro\": [{\"categories\": [\"0\", \"1\", \"2\", \"3\", \"4\", \"5\", \"6\", \"7\", \"8\", \"9\", \"10\", \"11\", \"12\", \"13\", \"14\", \"15\", \"16\", \"17\", \"18\", \"19\", \"20\", \"21\", \"22\", \"23\", \"24\", \"25\", \"26\", \"27\", \"28\", \"29\", \"30\", \"31\", \"32\", \"33\", \"36\"], \"mode\": \"markers\", \"name\": \"f1_score_macro\", \"stepped\": false, \"type\": \"scatter\", \"data\": [0.8051086915482137, 0.8105255180161939, 0.791491458291183, 0.8091905315355244, 0.8405606608795695, 0.8218472802740043, 0.8083819697147516, 0.8296881532685122, 0.8365444473827433, 0.811024262899358, 0.79952881325852, 0.8394031340112067, 0.814297646710229, 0.7988182043021104, 0.8332485226635941, 0.8434310132709413, 0.7903978979757378, 0.7920299751288841, 0.8363324769960692, 0.8148829574557401, 0.8259799606326602, 0.8206308206689084, 0.8266900866506852, 0.821703799531703, 0.8104139785557931, 0.35133378648162716, 0.8288192307023458, 0.8216818821800109, 0.8325107733684709, 0.8197970542073103, 0.7902689300260469, 0.8298682337230023, 0.8245111709781124, 0.8188597964663211, 0.8517820433299969]}, {\"categories\": [\"0\", \"1\", \"2\", \"3\", \"4\", \"5\", \"6\", \"7\", \"8\", \"9\", \"10\", \"11\", \"12\", \"13\", \"14\", \"15\", \"16\", \"17\", \"18\", \"19\", \"20\", \"21\", \"22\", \"23\", \"24\", \"25\", \"26\", \"27\", \"28\", \"29\", \"30\", \"31\", \"32\", \"33\", \"36\"], \"mode\": \"lines\", \"name\": \"f1_score_macro_max\", \"stepped\": true, \"type\": \"scatter\", \"data\": [0.8051086915482137, 0.8105255180161939, 0.8105255180161939, 0.8105255180161939, 0.8405606608795695, 0.8405606608795695, 0.8405606608795695, 0.8405606608795695, 0.8405606608795695, 0.8405606608795695, 0.8405606608795695, 0.8405606608795695, 0.8405606608795695, 0.8405606608795695, 0.8405606608795695, 0.8434310132709413, 0.8434310132709413, 0.8434310132709413, 0.8434310132709413, 0.8434310132709413, 0.8434310132709413, 0.8434310132709413, 0.8434310132709413, 0.8434310132709413, 0.8434310132709413, 0.8434310132709413, 0.8434310132709413, 0.8434310132709413, 0.8434310132709413, 0.8434310132709413, 0.8434310132709413, 0.8434310132709413, 0.8434310132709413, 0.8434310132709413, 0.8517820433299969]}], \"average_precision_score_macro\": [{\"categories\": [\"0\", \"1\", \"2\", \"3\", \"4\", \"5\", \"6\", \"7\", \"8\", \"9\", \"10\", \"11\", \"12\", \"13\", \"14\", \"15\", \"16\", \"17\", \"18\", \"19\", \"20\", \"21\", \"22\", \"23\", \"24\", \"25\", \"26\", \"27\", \"28\", \"29\", \"30\", \"31\", \"32\", \"33\", \"36\"], \"mode\": \"markers\", \"name\": \"average_precision_score_macro\", \"stepped\": false, \"type\": \"scatter\", \"data\": [0.8867812599152358, 0.8970532796237158, 0.9032270164529983, 0.8948909846770734, 0.9067135860325803, 0.8990061660683504, 0.8997647254760068, 0.912923830793356, 0.9056584968561499, 0.8776503622158591, 0.89328935266816, 0.9194602947754614, 0.905816316109379, 0.8980210637732426, 0.9276788002779345, 0.9158454135024598, 0.861139478812181, 0.8917683190652219, 0.9155969553808558, 0.9000807993835827, 0.9076758376366858, 0.9085775970843495, 0.912159513105412, 0.9146225303784916, 0.9005411959484526, 0.5, 0.9123908970649491, 0.9066941998703738, 0.908295350266591, 0.9125786179432342, 0.8942120388517975, 0.9198640921669293, 0.9092050482696188, 0.918590970904328, 0.9255430231726554]}, {\"categories\": [\"0\", \"1\", \"2\", \"3\", \"4\", \"5\", \"6\", \"7\", \"8\", \"9\", \"10\", \"11\", \"12\", \"13\", \"14\", \"15\", \"16\", \"17\", \"18\", \"19\", \"20\", \"21\", \"22\", \"23\", \"24\", \"25\", \"26\", \"27\", \"28\", \"29\", \"30\", \"31\", \"32\", \"33\", \"36\"], \"mode\": \"lines\", \"name\": \"average_precision_score_macro_max\", \"stepped\": true, \"type\": \"scatter\", \"data\": [0.8867812599152358, 0.8970532796237158, 0.9032270164529983, 0.9032270164529983, 0.9067135860325803, 0.9067135860325803, 0.9067135860325803, 0.912923830793356, 0.912923830793356, 0.912923830793356, 0.912923830793356, 0.9194602947754614, 0.9194602947754614, 0.9194602947754614, 0.9276788002779345, 0.9276788002779345, 0.9276788002779345, 0.9276788002779345, 0.9276788002779345, 0.9276788002779345, 0.9276788002779345, 0.9276788002779345, 0.9276788002779345, 0.9276788002779345, 0.9276788002779345, 0.9276788002779345, 0.9276788002779345, 0.9276788002779345, 0.9276788002779345, 0.9276788002779345, 0.9276788002779345, 0.9276788002779345, 0.9276788002779345, 0.9276788002779345, 0.9276788002779345]}], \"precision_score_micro\": [{\"categories\": [\"0\", \"1\", \"2\", \"3\", \"4\", \"5\", \"6\", \"7\", \"8\", \"9\", \"10\", \"11\", \"12\", \"13\", \"14\", \"15\", \"16\", \"17\", \"18\", \"19\", \"20\", \"21\", \"22\", \"23\", \"24\", \"25\", \"26\", \"27\", \"28\", \"29\", \"30\", \"31\", \"32\", \"33\", \"36\"], \"mode\": \"markers\", \"name\": \"precision_score_micro\", \"stepped\": false, \"type\": \"scatter\", \"data\": [0.811505376344086, 0.8179569892473119, 0.7979569892473118, 0.8148387096774193, 0.8479569892473119, 0.8249462365591398, 0.8148387096774196, 0.8345161290322579, 0.8412903225806451, 0.8150537634408602, 0.8083870967741935, 0.8445161290322583, 0.8216129032258065, 0.8083870967741935, 0.8413978494623656, 0.8477419354838711, 0.7947311827956989, 0.7982795698924732, 0.8412903225806453, 0.8215053763440862, 0.8313978494623656, 0.8247311827956988, 0.8312903225806452, 0.8281720430107526, 0.8180645161290323, 0.5446236559139785, 0.8346236559139786, 0.8282795698924733, 0.8379569892473118, 0.8279569892473118, 0.7979569892473118, 0.8345161290322581, 0.8280645161290323, 0.824516129032258, 0.857741935483871]}, {\"categories\": [\"0\", \"1\", \"2\", \"3\", \"4\", \"5\", \"6\", \"7\", \"8\", \"9\", \"10\", \"11\", \"12\", \"13\", \"14\", \"15\", \"16\", \"17\", \"18\", \"19\", \"20\", \"21\", \"22\", \"23\", \"24\", \"25\", \"26\", \"27\", \"28\", \"29\", \"30\", \"31\", \"32\", \"33\", \"36\"], \"mode\": \"lines\", \"name\": \"precision_score_micro_max\", \"stepped\": true, \"type\": \"scatter\", \"data\": [0.811505376344086, 0.8179569892473119, 0.8179569892473119, 0.8179569892473119, 0.8479569892473119, 0.8479569892473119, 0.8479569892473119, 0.8479569892473119, 0.8479569892473119, 0.8479569892473119, 0.8479569892473119, 0.8479569892473119, 0.8479569892473119, 0.8479569892473119, 0.8479569892473119, 0.8479569892473119, 0.8479569892473119, 0.8479569892473119, 0.8479569892473119, 0.8479569892473119, 0.8479569892473119, 0.8479569892473119, 0.8479569892473119, 0.8479569892473119, 0.8479569892473119, 0.8479569892473119, 0.8479569892473119, 0.8479569892473119, 0.8479569892473119, 0.8479569892473119, 0.8479569892473119, 0.8479569892473119, 0.8479569892473119, 0.8479569892473119, 0.857741935483871]}], \"log_loss\": [{\"categories\": [\"0\", \"1\", \"2\", \"3\", \"4\", \"5\", \"6\", \"7\", \"8\", \"9\", \"10\", \"11\", \"12\", \"13\", \"14\", \"15\", \"16\", \"17\", \"18\", \"19\", \"20\", \"21\", \"22\", \"23\", \"24\", \"25\", \"26\", \"27\", \"28\", \"29\", \"30\", \"31\", \"32\", \"33\", \"36\"], \"mode\": \"markers\", \"name\": \"log_loss\", \"stepped\": false, \"type\": \"scatter\", \"data\": [0.5268000663868162, 0.4398173368615275, 0.4055172653064937, 0.42521131367144893, 0.40139032613995695, 0.45711972315118776, 0.4299948254194906, 0.3895128951470419, 0.40834301154735353, 0.5019803165313736, 0.42664667749371016, 0.4585154433794508, 0.42321634572529765, 0.5045556498229888, 0.4298628744498106, 0.42996524898657984, 0.4672649267392889, 0.43442621050852137, 0.39037131891164056, 0.44718062687268495, 0.38693675127684807, 0.43683066423531314, 0.39492926685713575, 0.3937681899188072, 0.4103093994508006, 0.6915635424972513, 0.4754661744430441, 0.44935070700785634, 0.3911808750458784, 0.4987413448310095, 0.5016283115082598, 0.3959447234774346, 0.452724430260675, 0.41295027402891804, 0.4234761359483228]}, {\"categories\": [\"0\", \"1\", \"2\", \"3\", \"4\", \"5\", \"6\", \"7\", \"8\", \"9\", \"10\", \"11\", \"12\", \"13\", \"14\", \"15\", \"16\", \"17\", \"18\", \"19\", \"20\", \"21\", \"22\", \"23\", \"24\", \"25\", \"26\", \"27\", \"28\", \"29\", \"30\", \"31\", \"32\", \"33\", \"36\"], \"mode\": \"lines\", \"name\": \"log_loss_min\", \"stepped\": true, \"type\": \"scatter\", \"data\": [0.5268000663868162, 0.4398173368615275, 0.4055172653064937, 0.4055172653064937, 0.40139032613995695, 0.40139032613995695, 0.40139032613995695, 0.3895128951470419, 0.3895128951470419, 0.3895128951470419, 0.3895128951470419, 0.3895128951470419, 0.3895128951470419, 0.3895128951470419, 0.3895128951470419, 0.3895128951470419, 0.3895128951470419, 0.3895128951470419, 0.3895128951470419, 0.3895128951470419, 0.38693675127684807, 0.38693675127684807, 0.38693675127684807, 0.38693675127684807, 0.38693675127684807, 0.38693675127684807, 0.38693675127684807, 0.38693675127684807, 0.38693675127684807, 0.38693675127684807, 0.38693675127684807, 0.38693675127684807, 0.38693675127684807, 0.38693675127684807, 0.38693675127684807]}]}, \"metricName\": null, \"primaryMetricName\": \"accuracy\", \"showLegend\": false}, \"run_metrics\": [{\"name\": \"experiment_status\", \"run_id\": \"AutoML_e1060a80-2336-4d49-a0b0-de7471678476\", \"categories\": [0, 1, 2, 3, 4, 5, 6, 7, 8, 9, 10, 11, 12, 13], \"series\": [{\"data\": [\"DatasetEvaluation\", \"FeaturesGeneration\", \"DatasetFeaturization\", \"DatasetFeaturizationCompleted\", \"DatasetCrossValidationSplit\", \"ModelSelection\", \"BestRunExplainModel\", \"ModelExplanationDataSetSetup\", \"PickSurrogateModel\", \"EngineeredFeatureExplanations\", \"EngineeredFeatureExplanations\", \"RawFeaturesExplanations\", \"RawFeaturesExplanations\", \"BestRunExplainModel\"]}]}, {\"name\": \"experiment_status_description\", \"run_id\": \"AutoML_e1060a80-2336-4d49-a0b0-de7471678476\", \"categories\": [0, 1, 2, 3, 4, 5, 6, 7, 8, 9, 10, 11, 12, 13], \"series\": [{\"data\": [\"Gathering dataset statistics.\", \"Generating features for the dataset.\", \"Beginning to fit featurizers and featurize the dataset.\", \"Completed fit featurizers and featurizing the dataset.\", \"Generating individually featurized CV splits.\", \"Beginning model selection.\", \"Best run model explanations started\", \"Model explanations data setup completed\", \"Choosing LightGBM as the surrogate model for explanations\", \"Computation of engineered features started\", \"Computation of engineered features completed\", \"Computation of raw features started\", \"Computation of raw features completed\", \"Best run model explanations completed\"]}]}, {\"name\": \"balanced_accuracy\", \"run_id\": \"AutoML_e1060a80-2336-4d49-a0b0-de7471678476\", \"categories\": [0], \"series\": [{\"data\": [0.8517696276461757]}]}, {\"name\": \"precision_score_weighted\", \"run_id\": \"AutoML_e1060a80-2336-4d49-a0b0-de7471678476\", \"categories\": [0], \"series\": [{\"data\": [0.8632324360929674]}]}, {\"name\": \"precision_score_macro\", \"run_id\": \"AutoML_e1060a80-2336-4d49-a0b0-de7471678476\", \"categories\": [0], \"series\": [{\"data\": [0.8607872438019497]}]}, {\"name\": \"f1_score_macro\", \"run_id\": \"AutoML_e1060a80-2336-4d49-a0b0-de7471678476\", \"categories\": [0], \"series\": [{\"data\": [0.8517820433299969]}]}, {\"name\": \"precision_score_micro\", \"run_id\": \"AutoML_e1060a80-2336-4d49-a0b0-de7471678476\", \"categories\": [0], \"series\": [{\"data\": [0.857741935483871]}]}, {\"name\": \"log_loss\", \"run_id\": \"AutoML_e1060a80-2336-4d49-a0b0-de7471678476\", \"categories\": [0], \"series\": [{\"data\": [0.4234761359483228]}]}, {\"name\": \"f1_score_weighted\", \"run_id\": \"AutoML_e1060a80-2336-4d49-a0b0-de7471678476\", \"categories\": [0], \"series\": [{\"data\": [0.8563173573379176]}]}, {\"name\": \"f1_score_micro\", \"run_id\": \"AutoML_e1060a80-2336-4d49-a0b0-de7471678476\", \"categories\": [0], \"series\": [{\"data\": [0.857741935483871]}]}, {\"name\": \"average_precision_score_macro\", \"run_id\": \"AutoML_e1060a80-2336-4d49-a0b0-de7471678476\", \"categories\": [0], \"series\": [{\"data\": [0.9255430231726554]}]}, {\"name\": \"matthews_correlation\", \"run_id\": \"AutoML_e1060a80-2336-4d49-a0b0-de7471678476\", \"categories\": [0], \"series\": [{\"data\": [0.7121645865432588]}]}, {\"name\": \"norm_macro_recall\", \"run_id\": \"AutoML_e1060a80-2336-4d49-a0b0-de7471678476\", \"categories\": [0], \"series\": [{\"data\": [0.7035392552923513]}]}, {\"name\": \"accuracy\", \"run_id\": \"AutoML_e1060a80-2336-4d49-a0b0-de7471678476\", \"categories\": [0], \"series\": [{\"data\": [0.857741935483871]}]}, {\"name\": \"recall_score_weighted\", \"run_id\": \"AutoML_e1060a80-2336-4d49-a0b0-de7471678476\", \"categories\": [0], \"series\": [{\"data\": [0.857741935483871]}]}, {\"name\": \"AUC_weighted\", \"run_id\": \"AutoML_e1060a80-2336-4d49-a0b0-de7471678476\", \"categories\": [0], \"series\": [{\"data\": [0.9223172585784815]}]}, {\"name\": \"AUC_macro\", \"run_id\": \"AutoML_e1060a80-2336-4d49-a0b0-de7471678476\", \"categories\": [0], \"series\": [{\"data\": [0.9223172585784815]}]}, {\"name\": \"AUC_micro\", \"run_id\": \"AutoML_e1060a80-2336-4d49-a0b0-de7471678476\", \"categories\": [0], \"series\": [{\"data\": [0.9176699040351487]}]}, {\"name\": \"average_precision_score_weighted\", \"run_id\": \"AutoML_e1060a80-2336-4d49-a0b0-de7471678476\", \"categories\": [0], \"series\": [{\"data\": [0.9284731752447455]}]}, {\"name\": \"average_precision_score_micro\", \"run_id\": \"AutoML_e1060a80-2336-4d49-a0b0-de7471678476\", \"categories\": [0], \"series\": [{\"data\": [0.9193727700088357]}]}, {\"name\": \"recall_score_macro\", \"run_id\": \"AutoML_e1060a80-2336-4d49-a0b0-de7471678476\", \"categories\": [0], \"series\": [{\"data\": [0.8517696276461757]}]}, {\"name\": \"recall_score_micro\", \"run_id\": \"AutoML_e1060a80-2336-4d49-a0b0-de7471678476\", \"categories\": [0], \"series\": [{\"data\": [0.857741935483871]}]}, {\"name\": \"weighted_accuracy\", \"run_id\": \"AutoML_e1060a80-2336-4d49-a0b0-de7471678476\", \"categories\": [0], \"series\": [{\"data\": [0.8630772753108037]}]}], \"run_logs\": \"\\nRun is completed.\", \"graph\": {}, \"widget_settings\": {\"childWidgetDisplay\": \"popup\", \"send_telemetry\": false, \"log_level\": \"INFO\", \"sdk_version\": \"1.20.0\"}, \"loading\": false}"
     },
     "metadata": {},
     "output_type": "display_data"
    },
    {
     "data": {
      "text/plain": [
       "{'runId': 'AutoML_e1060a80-2336-4d49-a0b0-de7471678476',\n",
       " 'target': 'auto-ml',\n",
       " 'status': 'Completed',\n",
       " 'startTimeUtc': '2021-01-31T17:41:10.016388Z',\n",
       " 'endTimeUtc': '2021-01-31T18:08:50.376449Z',\n",
       " 'properties': {'num_iterations': '1000',\n",
       "  'training_type': 'TrainFull',\n",
       "  'acquisition_function': 'EI',\n",
       "  'primary_metric': 'accuracy',\n",
       "  'train_split': '0',\n",
       "  'acquisition_parameter': '0',\n",
       "  'num_cross_validation': None,\n",
       "  'target': 'auto-ml',\n",
       "  'AMLSettingsJsonString': '{\"path\":null,\"name\":\"heart-disease-experiment-ml1\",\"subscription_id\":\"b968fb36-f06a-4c76-a15f-afab68ae7667\",\"resource_group\":\"aml-quickstarts-136757\",\"workspace_name\":\"quick-starts-ws-136757\",\"region\":\"southcentralus\",\"compute_target\":\"auto-ml\",\"spark_service\":null,\"azure_service\":\"remote\",\"many_models\":false,\"pipeline_fetch_max_batch_size\":1,\"iterations\":1000,\"primary_metric\":\"accuracy\",\"task_type\":\"classification\",\"data_script\":null,\"validation_size\":0.0,\"n_cross_validations\":null,\"y_min\":null,\"y_max\":null,\"num_classes\":null,\"featurization\":\"auto\",\"_ignore_package_version_incompatibilities\":false,\"is_timeseries\":false,\"max_cores_per_iteration\":1,\"max_concurrent_iterations\":4,\"iteration_timeout_minutes\":null,\"mem_in_mb\":null,\"enforce_time_on_windows\":false,\"experiment_timeout_minutes\":30,\"experiment_exit_score\":null,\"whitelist_models\":null,\"blacklist_algos\":[\"KNN\",\"LinearSVM\",\"TensorFlowLinearClassifier\",\"TensorFlowDNN\"],\"supported_models\":[\"SVM\",\"MultinomialNaiveBayes\",\"TensorFlowLinearClassifier\",\"LogisticRegression\",\"LinearSVM\",\"SGD\",\"RandomForest\",\"KNN\",\"ExtremeRandomTrees\",\"AveragedPerceptronClassifier\",\"XGBoostClassifier\",\"GradientBoosting\",\"LightGBM\",\"BernoulliNaiveBayes\",\"TensorFlowDNN\",\"DecisionTree\"],\"auto_blacklist\":true,\"blacklist_samples_reached\":false,\"exclude_nan_labels\":true,\"verbosity\":20,\"_debug_log\":\"azureml_automl.log\",\"show_warnings\":false,\"model_explainability\":true,\"service_url\":null,\"sdk_url\":null,\"sdk_packages\":null,\"enable_onnx_compatible_models\":true,\"enable_split_onnx_featurizer_estimator_models\":false,\"vm_type\":\"STANDARD_D2_V2\",\"telemetry_verbosity\":20,\"send_telemetry\":true,\"enable_dnn\":false,\"scenario\":\"SDK-1.13.0\",\"environment_label\":null,\"force_text_dnn\":false,\"enable_feature_sweeping\":false,\"enable_early_stopping\":true,\"early_stopping_n_iters\":10,\"metrics\":null,\"enable_ensembling\":true,\"enable_stack_ensembling\":false,\"ensemble_iterations\":15,\"enable_tf\":false,\"enable_subsampling\":null,\"subsample_seed\":null,\"enable_nimbusml\":false,\"enable_streaming\":false,\"force_streaming\":false,\"track_child_runs\":true,\"allowed_private_models\":[],\"label_column_name\":\"target\",\"weight_column_name\":null,\"cv_split_column_names\":null,\"enable_local_managed\":false,\"_local_managed_run_id\":null,\"cost_mode\":1,\"lag_length\":0,\"metric_operation\":\"maximize\",\"preprocess\":true}',\n",
       "  'DataPrepJsonString': '{\\\\\"training_data\\\\\": \\\\\"{\\\\\\\\\\\\\"blocks\\\\\\\\\\\\\": [{\\\\\\\\\\\\\"id\\\\\\\\\\\\\": \\\\\\\\\\\\\"29ebf71b-7baf-4420-bd05-1cfa39dd5d7a\\\\\\\\\\\\\", \\\\\\\\\\\\\"type\\\\\\\\\\\\\": \\\\\\\\\\\\\"Microsoft.DPrep.GetFilesBlock\\\\\\\\\\\\\", \\\\\\\\\\\\\"arguments\\\\\\\\\\\\\": {\\\\\\\\\\\\\"isArchive\\\\\\\\\\\\\": false, \\\\\\\\\\\\\"path\\\\\\\\\\\\\": {\\\\\\\\\\\\\"target\\\\\\\\\\\\\": 4, \\\\\\\\\\\\\"resourceDetails\\\\\\\\\\\\\": [{\\\\\\\\\\\\\"path\\\\\\\\\\\\\": \\\\\\\\\\\\\"https://raw.githubusercontent.com/SadmiB/Heart-Disease-Prediction/master/heart.csv\\\\\\\\\\\\\"}]}}, \\\\\\\\\\\\\"localData\\\\\\\\\\\\\": {}, \\\\\\\\\\\\\"isEnabled\\\\\\\\\\\\\": true, \\\\\\\\\\\\\"name\\\\\\\\\\\\\": null, \\\\\\\\\\\\\"annotation\\\\\\\\\\\\\": null}, {\\\\\\\\\\\\\"id\\\\\\\\\\\\\": \\\\\\\\\\\\\"49e734ae-98c6-4312-b949-9a6254096b63\\\\\\\\\\\\\", \\\\\\\\\\\\\"type\\\\\\\\\\\\\": \\\\\\\\\\\\\"Microsoft.DPrep.ParseDelimitedBlock\\\\\\\\\\\\\", \\\\\\\\\\\\\"arguments\\\\\\\\\\\\\": {\\\\\\\\\\\\\"columnHeadersMode\\\\\\\\\\\\\": 3, \\\\\\\\\\\\\"fileEncoding\\\\\\\\\\\\\": 0, \\\\\\\\\\\\\"handleQuotedLineBreaks\\\\\\\\\\\\\": false, \\\\\\\\\\\\\"preview\\\\\\\\\\\\\": false, \\\\\\\\\\\\\"separator\\\\\\\\\\\\\": \\\\\\\\\\\\\",\\\\\\\\\\\\\", \\\\\\\\\\\\\"skipRows\\\\\\\\\\\\\": 0, \\\\\\\\\\\\\"skipRowsMode\\\\\\\\\\\\\": 0}, \\\\\\\\\\\\\"localData\\\\\\\\\\\\\": {}, \\\\\\\\\\\\\"isEnabled\\\\\\\\\\\\\": true, \\\\\\\\\\\\\"name\\\\\\\\\\\\\": null, \\\\\\\\\\\\\"annotation\\\\\\\\\\\\\": null}, {\\\\\\\\\\\\\"id\\\\\\\\\\\\\": \\\\\\\\\\\\\"f5bbd401-d232-4728-9da2-0c1ac88c8432\\\\\\\\\\\\\", \\\\\\\\\\\\\"type\\\\\\\\\\\\\": \\\\\\\\\\\\\"Microsoft.DPrep.DropColumnsBlock\\\\\\\\\\\\\", \\\\\\\\\\\\\"arguments\\\\\\\\\\\\\": {\\\\\\\\\\\\\"columns\\\\\\\\\\\\\": {\\\\\\\\\\\\\"type\\\\\\\\\\\\\": 0, \\\\\\\\\\\\\"details\\\\\\\\\\\\\": {\\\\\\\\\\\\\"selectedColumns\\\\\\\\\\\\\": [\\\\\\\\\\\\\"Path\\\\\\\\\\\\\"]}}}, \\\\\\\\\\\\\"localData\\\\\\\\\\\\\": {}, \\\\\\\\\\\\\"isEnabled\\\\\\\\\\\\\": true, \\\\\\\\\\\\\"name\\\\\\\\\\\\\": null, \\\\\\\\\\\\\"annotation\\\\\\\\\\\\\": null}, {\\\\\\\\\\\\\"id\\\\\\\\\\\\\": \\\\\\\\\\\\\"4f351b4b-28f4-4cdf-869e-fbb8b852a6a3\\\\\\\\\\\\\", \\\\\\\\\\\\\"type\\\\\\\\\\\\\": \\\\\\\\\\\\\"Microsoft.DPrep.SetColumnTypesBlock\\\\\\\\\\\\\", \\\\\\\\\\\\\"arguments\\\\\\\\\\\\\": {\\\\\\\\\\\\\"columnConversion\\\\\\\\\\\\\": [{\\\\\\\\\\\\\"column\\\\\\\\\\\\\": {\\\\\\\\\\\\\"type\\\\\\\\\\\\\": 2, \\\\\\\\\\\\\"details\\\\\\\\\\\\\": {\\\\\\\\\\\\\"selectedColumn\\\\\\\\\\\\\": \\\\\\\\\\\\\"age\\\\\\\\\\\\\"}}, \\\\\\\\\\\\\"typeProperty\\\\\\\\\\\\\": 2}, {\\\\\\\\\\\\\"column\\\\\\\\\\\\\": {\\\\\\\\\\\\\"type\\\\\\\\\\\\\": 2, \\\\\\\\\\\\\"details\\\\\\\\\\\\\": {\\\\\\\\\\\\\"selectedColumn\\\\\\\\\\\\\": \\\\\\\\\\\\\"sex\\\\\\\\\\\\\"}}, \\\\\\\\\\\\\"typeProperty\\\\\\\\\\\\\": 2}, {\\\\\\\\\\\\\"column\\\\\\\\\\\\\": {\\\\\\\\\\\\\"type\\\\\\\\\\\\\": 2, \\\\\\\\\\\\\"details\\\\\\\\\\\\\": {\\\\\\\\\\\\\"selectedColumn\\\\\\\\\\\\\": \\\\\\\\\\\\\"cp\\\\\\\\\\\\\"}}, \\\\\\\\\\\\\"typeProperty\\\\\\\\\\\\\": 2}, {\\\\\\\\\\\\\"column\\\\\\\\\\\\\": {\\\\\\\\\\\\\"type\\\\\\\\\\\\\": 2, \\\\\\\\\\\\\"details\\\\\\\\\\\\\": {\\\\\\\\\\\\\"selectedColumn\\\\\\\\\\\\\": \\\\\\\\\\\\\"trestbps\\\\\\\\\\\\\"}}, \\\\\\\\\\\\\"typeProperty\\\\\\\\\\\\\": 2}, {\\\\\\\\\\\\\"column\\\\\\\\\\\\\": {\\\\\\\\\\\\\"type\\\\\\\\\\\\\": 2, \\\\\\\\\\\\\"details\\\\\\\\\\\\\": {\\\\\\\\\\\\\"selectedColumn\\\\\\\\\\\\\": \\\\\\\\\\\\\"chol\\\\\\\\\\\\\"}}, \\\\\\\\\\\\\"typeProperty\\\\\\\\\\\\\": 2}, {\\\\\\\\\\\\\"column\\\\\\\\\\\\\": {\\\\\\\\\\\\\"type\\\\\\\\\\\\\": 2, \\\\\\\\\\\\\"details\\\\\\\\\\\\\": {\\\\\\\\\\\\\"selectedColumn\\\\\\\\\\\\\": \\\\\\\\\\\\\"fbs\\\\\\\\\\\\\"}}, \\\\\\\\\\\\\"typeProperty\\\\\\\\\\\\\": 2}, {\\\\\\\\\\\\\"column\\\\\\\\\\\\\": {\\\\\\\\\\\\\"type\\\\\\\\\\\\\": 2, \\\\\\\\\\\\\"details\\\\\\\\\\\\\": {\\\\\\\\\\\\\"selectedColumn\\\\\\\\\\\\\": \\\\\\\\\\\\\"restecg\\\\\\\\\\\\\"}}, \\\\\\\\\\\\\"typeProperty\\\\\\\\\\\\\": 2}, {\\\\\\\\\\\\\"column\\\\\\\\\\\\\": {\\\\\\\\\\\\\"type\\\\\\\\\\\\\": 2, \\\\\\\\\\\\\"details\\\\\\\\\\\\\": {\\\\\\\\\\\\\"selectedColumn\\\\\\\\\\\\\": \\\\\\\\\\\\\"thalach\\\\\\\\\\\\\"}}, \\\\\\\\\\\\\"typeProperty\\\\\\\\\\\\\": 2}, {\\\\\\\\\\\\\"column\\\\\\\\\\\\\": {\\\\\\\\\\\\\"type\\\\\\\\\\\\\": 2, \\\\\\\\\\\\\"details\\\\\\\\\\\\\": {\\\\\\\\\\\\\"selectedColumn\\\\\\\\\\\\\": \\\\\\\\\\\\\"exang\\\\\\\\\\\\\"}}, \\\\\\\\\\\\\"typeProperty\\\\\\\\\\\\\": 2}, {\\\\\\\\\\\\\"column\\\\\\\\\\\\\": {\\\\\\\\\\\\\"type\\\\\\\\\\\\\": 2, \\\\\\\\\\\\\"details\\\\\\\\\\\\\": {\\\\\\\\\\\\\"selectedColumn\\\\\\\\\\\\\": \\\\\\\\\\\\\"oldpeak\\\\\\\\\\\\\"}}, \\\\\\\\\\\\\"typeProperty\\\\\\\\\\\\\": 3}, {\\\\\\\\\\\\\"column\\\\\\\\\\\\\": {\\\\\\\\\\\\\"type\\\\\\\\\\\\\": 2, \\\\\\\\\\\\\"details\\\\\\\\\\\\\": {\\\\\\\\\\\\\"selectedColumn\\\\\\\\\\\\\": \\\\\\\\\\\\\"slope\\\\\\\\\\\\\"}}, \\\\\\\\\\\\\"typeProperty\\\\\\\\\\\\\": 2}, {\\\\\\\\\\\\\"column\\\\\\\\\\\\\": {\\\\\\\\\\\\\"type\\\\\\\\\\\\\": 2, \\\\\\\\\\\\\"details\\\\\\\\\\\\\": {\\\\\\\\\\\\\"selectedColumn\\\\\\\\\\\\\": \\\\\\\\\\\\\"ca\\\\\\\\\\\\\"}}, \\\\\\\\\\\\\"typeProperty\\\\\\\\\\\\\": 2}, {\\\\\\\\\\\\\"column\\\\\\\\\\\\\": {\\\\\\\\\\\\\"type\\\\\\\\\\\\\": 2, \\\\\\\\\\\\\"details\\\\\\\\\\\\\": {\\\\\\\\\\\\\"selectedColumn\\\\\\\\\\\\\": \\\\\\\\\\\\\"thal\\\\\\\\\\\\\"}}, \\\\\\\\\\\\\"typeProperty\\\\\\\\\\\\\": 2}, {\\\\\\\\\\\\\"column\\\\\\\\\\\\\": {\\\\\\\\\\\\\"type\\\\\\\\\\\\\": 2, \\\\\\\\\\\\\"details\\\\\\\\\\\\\": {\\\\\\\\\\\\\"selectedColumn\\\\\\\\\\\\\": \\\\\\\\\\\\\"target\\\\\\\\\\\\\"}}, \\\\\\\\\\\\\"typeProperty\\\\\\\\\\\\\": 2}]}, \\\\\\\\\\\\\"localData\\\\\\\\\\\\\": {}, \\\\\\\\\\\\\"isEnabled\\\\\\\\\\\\\": true, \\\\\\\\\\\\\"name\\\\\\\\\\\\\": null, \\\\\\\\\\\\\"annotation\\\\\\\\\\\\\": null}], \\\\\\\\\\\\\"inspectors\\\\\\\\\\\\\": [], \\\\\\\\\\\\\"meta\\\\\\\\\\\\\": {\\\\\\\\\\\\\"savedDatasetId\\\\\\\\\\\\\": \\\\\\\\\\\\\"d02d165d-93f4-44d0-9dc7-d8fc24b15406\\\\\\\\\\\\\", \\\\\\\\\\\\\"datasetType\\\\\\\\\\\\\": \\\\\\\\\\\\\"tabular\\\\\\\\\\\\\", \\\\\\\\\\\\\"subscriptionId\\\\\\\\\\\\\": \\\\\\\\\\\\\"b968fb36-f06a-4c76-a15f-afab68ae7667\\\\\\\\\\\\\", \\\\\\\\\\\\\"workspaceId\\\\\\\\\\\\\": \\\\\\\\\\\\\"8e7b37de-11bd-4f88-8d84-4f496e4543bb\\\\\\\\\\\\\", \\\\\\\\\\\\\"workspaceLocation\\\\\\\\\\\\\": \\\\\\\\\\\\\"southcentralus\\\\\\\\\\\\\"}}\\\\\", \\\\\"activities\\\\\": 0}',\n",
       "  'EnableSubsampling': None,\n",
       "  'runTemplate': 'AutoML',\n",
       "  'azureml.runsource': 'automl',\n",
       "  'display_task_type': 'classification',\n",
       "  'dependencies_versions': '{\"azureml-widgets\": \"1.20.0\", \"azureml-train\": \"1.20.0\", \"azureml-train-restclients-hyperdrive\": \"1.20.0\", \"azureml-train-core\": \"1.20.0\", \"azureml-train-automl\": \"1.20.0\", \"azureml-train-automl-runtime\": \"1.20.0\", \"azureml-train-automl-client\": \"1.20.0\", \"azureml-tensorboard\": \"1.20.0\", \"azureml-telemetry\": \"1.20.0\", \"azureml-sdk\": \"1.20.0\", \"azureml-samples\": \"0+unknown\", \"azureml-pipeline\": \"1.20.0\", \"azureml-pipeline-steps\": \"1.20.0\", \"azureml-pipeline-core\": \"1.20.0\", \"azureml-opendatasets\": \"1.20.0\", \"azureml-model-management-sdk\": \"1.0.1b6.post1\", \"azureml-mlflow\": \"1.20.0.post1\", \"azureml-interpret\": \"1.20.0\", \"azureml-explain-model\": \"1.20.0\", \"azureml-defaults\": \"1.20.0\", \"azureml-dataset-runtime\": \"1.20.0\", \"azureml-dataprep\": \"2.7.3\", \"azureml-dataprep-rslex\": \"1.5.0\", \"azureml-dataprep-native\": \"27.0.0\", \"azureml-datadrift\": \"1.20.0\", \"azureml-core\": \"1.20.0\", \"azureml-contrib-services\": \"1.20.0\", \"azureml-contrib-server\": \"1.20.0\", \"azureml-contrib-reinforcementlearning\": \"1.20.0\", \"azureml-contrib-pipeline-steps\": \"1.20.0\", \"azureml-contrib-notebook\": \"1.20.0\", \"azureml-contrib-interpret\": \"1.20.0\", \"azureml-contrib-gbdt\": \"1.20.0\", \"azureml-contrib-fairness\": \"1.20.0\", \"azureml-contrib-dataset\": \"1.20.0\", \"azureml-cli-common\": \"1.20.0\", \"azureml-automl-runtime\": \"1.20.0\", \"azureml-automl-core\": \"1.20.0\", \"azureml-accel-models\": \"1.20.0\"}',\n",
       "  '_aml_system_scenario_identification': 'Remote.Parent',\n",
       "  'ClientType': 'SDK',\n",
       "  'environment_cpu_name': 'AzureML-AutoML',\n",
       "  'environment_cpu_label': 'prod',\n",
       "  'environment_gpu_name': 'AzureML-AutoML-GPU',\n",
       "  'environment_gpu_label': 'prod',\n",
       "  'root_attribution': 'automl',\n",
       "  'attribution': 'AutoML',\n",
       "  'Orchestrator': 'AutoML',\n",
       "  'CancelUri': 'https://southcentralus.experiments.azureml.net/jasmine/v1.0/subscriptions/b968fb36-f06a-4c76-a15f-afab68ae7667/resourceGroups/aml-quickstarts-136757/providers/Microsoft.MachineLearningServices/workspaces/quick-starts-ws-136757/experimentids/17312912-30e6-4be5-bbfd-86efd9cd8888/cancel/AutoML_e1060a80-2336-4d49-a0b0-de7471678476',\n",
       "  'ClientSdkVersion': '1.20.0.post1',\n",
       "  'snapshotId': '00000000-0000-0000-0000-000000000000',\n",
       "  'SetupRunId': 'AutoML_e1060a80-2336-4d49-a0b0-de7471678476_setup',\n",
       "  'SetupRunContainerId': 'dcid.AutoML_e1060a80-2336-4d49-a0b0-de7471678476_setup',\n",
       "  'FeaturizationRunJsonPath': 'featurizer_container.json',\n",
       "  'FeaturizationRunId': 'AutoML_e1060a80-2336-4d49-a0b0-de7471678476_featurize',\n",
       "  'ProblemInfoJsonString': '{\"dataset_num_categorical\": 0, \"is_sparse\": true, \"subsampling\": false, \"dataset_classes\": 2, \"dataset_features\": 27, \"dataset_samples\": 303, \"single_frequency_class_detected\": false}',\n",
       "  'ModelExplainRunId': 'AutoML_e1060a80-2336-4d49-a0b0-de7471678476_ModelExplain'},\n",
       " 'inputDatasets': [{'dataset': {'id': 'd02d165d-93f4-44d0-9dc7-d8fc24b15406'}, 'consumptionDetails': {'type': 'RunInput', 'inputName': 'training_data', 'mechanism': 'Direct'}}],\n",
       " 'outputDatasets': [],\n",
       " 'logFiles': {},\n",
       " 'submittedBy': 'ODL_User 136757'}"
      ]
     },
     "execution_count": 9,
     "metadata": {},
     "output_type": "execute_result"
    }
   ],
   "source": [
    "from azureml.widgets import RunDetails\n",
    "RunDetails(remote_run).show()\n",
    "remote_run.wait_for_completion()"
   ]
  },
  {
   "cell_type": "markdown",
   "metadata": {},
   "source": [
    "## Retreive and save best ONNX model"
   ]
  },
  {
   "cell_type": "code",
   "execution_count": 10,
   "metadata": {
    "gather": {
     "logged": 1611519259517
    }
   },
   "outputs": [],
   "source": [
    "from azureml.automl.runtime.onnx_convert import OnnxConverter\n",
    "\n",
    "\n",
    "best_run, onnx_model = remote_run.get_output(return_onnx_model=True)\n",
    "onnx_path = \"./best_model.onnx\"\n",
    "OnnxConverter.save_onnx_model(onnx_model, onnx_path)"
   ]
  },
  {
   "cell_type": "markdown",
   "metadata": {},
   "source": [
    "## Test prediction using ONNX model"
   ]
  },
  {
   "cell_type": "code",
   "execution_count": 11,
   "metadata": {
    "gather": {
     "logged": 1611519283546
    }
   },
   "outputs": [
    {
     "name": "stdout",
     "output_type": "stream",
     "text": [
      "[1 1]\n"
     ]
    }
   ],
   "source": [
    "from azureml.automl.core.onnx_convert import OnnxConvertConstants\n",
    "from azureml.train.automl import constants\n",
    "import onnxruntime\n",
    "from azureml.automl.runtime.onnx_convert import OnnxInferenceHelper\n",
    "import sys\n",
    "import json\n",
    "\n",
    "\n",
    "if sys.version_info < OnnxConvertConstants.OnnxIncompatiblePythonVersion:\n",
    "    python_version_compatible = True\n",
    "else:\n",
    "    python_version_compatible = False\n",
    "\n",
    "\n",
    "def get_onnx_res(run):\n",
    "    res_path = 'onnx_resource.json'\n",
    "    run.download_file(name=constants.MODEL_RESOURCE_PATH_ONNX, output_file_path=res_path)\n",
    "    with open(res_path) as f:\n",
    "        onnx_res = json.load(f)\n",
    "    return onnx_res\n",
    "\n",
    "if python_version_compatible:\n",
    "    test_df = dataset.to_pandas_dataframe()[:2]\n",
    "    mdl_bytes = onnx_model.SerializeToString()\n",
    "    onnx_res = get_onnx_res(best_run)\n",
    "\n",
    "    onnxrt_helper = OnnxInferenceHelper(mdl_bytes, onnx_res)\n",
    "    pred_onnx, pred_prob_onnx = onnxrt_helper.predict(test_df)\n",
    "\n",
    "    print(pred_onnx)\n",
    "else:\n",
    "    print('Please use Python version 3.6 or 3.7 to run the inference helper.')"
   ]
  },
  {
   "cell_type": "markdown",
   "metadata": {},
   "source": [
    "## Best Model\n",
    "\n",
    "Getting the best model from the automl experiments and display all the properties of the model.\n",
    "\n"
   ]
  },
  {
   "cell_type": "code",
   "execution_count": 12,
   "metadata": {
    "gather": {
     "logged": 1598431425670
    },
    "jupyter": {
     "outputs_hidden": false,
     "source_hidden": false
    },
    "nteract": {
     "transient": {
      "deleting": false
     }
    }
   },
   "outputs": [
    {
     "name": "stdout",
     "output_type": "stream",
     "text": [
      "- Best Run Id:  AutoML_e1060a80-2336-4d49-a0b0-de7471678476_36\n",
      "- Accuracy: 0.857741935483871\n",
      "- AUC_weighted: 0.9223172585784815\n"
     ]
    },
    {
     "data": {
      "text/plain": [
       "['azureml_fitted_model.sav']"
      ]
     },
     "execution_count": 12,
     "metadata": {},
     "output_type": "execute_result"
    }
   ],
   "source": [
    "import joblib\n",
    "# Retrieve and save your best automl model.\n",
    "\n",
    "best_run, fitted_model = remote_run.get_output()\n",
    "best_run_metrics = best_run.get_metrics()\n",
    "\n",
    "print('- Best Run Id: ', best_run.id)\n",
    "print('- Accuracy:', best_run_metrics['accuracy'])\n",
    "print('- AUC_weighted:', best_run_metrics['AUC_weighted'])\n",
    "joblib.dump(fitted_model,'azureml_fitted_model.sav')"
   ]
  },
  {
   "cell_type": "code",
   "execution_count": 13,
   "metadata": {},
   "outputs": [
    {
     "name": "stdout",
     "output_type": "stream",
     "text": [
      "Pipeline(memory=None,\n",
      "         steps=[('datatransformer',\n",
      "                 DataTransformer(enable_dnn=None, enable_feature_sweeping=None,\n",
      "                                 feature_sweeping_config=None,\n",
      "                                 feature_sweeping_timeout=None,\n",
      "                                 featurization_config=None, force_text_dnn=None,\n",
      "                                 is_cross_validation=None,\n",
      "                                 is_onnx_compatible=None, logger=None,\n",
      "                                 observer=None, task=None, working_dir=None)),\n",
      "                ('prefittedsoftvotingclassifier',...\n",
      "                                                                                                    min_samples_split=0.2442105263157895,\n",
      "                                                                                                    min_weight_fraction_leaf=0.0,\n",
      "                                                                                                    n_estimators=10,\n",
      "                                                                                                    n_jobs=1,\n",
      "                                                                                                    oob_score=False,\n",
      "                                                                                                    random_state=None,\n",
      "                                                                                                    verbose=0,\n",
      "                                                                                                    warm_start=False))],\n",
      "                                                                     verbose=False))],\n",
      "                                               flatten_transform=None,\n",
      "                                               weights=[0.08333333333333333,\n",
      "                                                        0.16666666666666666,\n",
      "                                                        0.16666666666666666,\n",
      "                                                        0.16666666666666666,\n",
      "                                                        0.08333333333333333,\n",
      "                                                        0.08333333333333333,\n",
      "                                                        0.16666666666666666,\n",
      "                                                        0.08333333333333333]))],\n",
      "         verbose=False)\n"
     ]
    }
   ],
   "source": [
    "print(fitted_model)"
   ]
  },
  {
   "cell_type": "code",
   "execution_count": 14,
   "metadata": {},
   "outputs": [
    {
     "data": {
      "text/plain": [
       "[('4',\n",
       "  Pipeline(memory=None,\n",
       "           steps=[('maxabsscaler', MaxAbsScaler(copy=True)),\n",
       "                  ('randomforestclassifier',\n",
       "                   RandomForestClassifier(bootstrap=True, ccp_alpha=0.0,\n",
       "                                          class_weight='balanced',\n",
       "                                          criterion='gini', max_depth=None,\n",
       "                                          max_features='log2',\n",
       "                                          max_leaf_nodes=None, max_samples=None,\n",
       "                                          min_impurity_decrease=0.0,\n",
       "                                          min_impurity_split=None,\n",
       "                                          min_samples_leaf=0.01,\n",
       "                                          min_samples_split=0.01,\n",
       "                                          min_weight_fraction_leaf=0.0,\n",
       "                                          n_estimators=25, n_jobs=1,\n",
       "                                          oob_score=True, random_state=None,\n",
       "                                          verbose=0, warm_start=False))],\n",
       "           verbose=False)),\n",
       " ('15',\n",
       "  Pipeline(memory=None,\n",
       "           steps=[('maxabsscaler', MaxAbsScaler(copy=True)),\n",
       "                  ('lightgbmclassifier',\n",
       "                   LightGBMClassifier(boosting_type='gbdt', class_weight=None,\n",
       "                                      colsample_bytree=0.1988888888888889,\n",
       "                                      importance_type='split',\n",
       "                                      learning_rate=0.04737368421052632,\n",
       "                                      max_bin=280, max_depth=7,\n",
       "                                      min_child_samples=11, min_child_weight=3,\n",
       "                                      min_split_gain=0.7894736842105263,\n",
       "                                      n_estimators=50, n_jobs=1, num_leaves=89,\n",
       "                                      objective=None, random_state=None,\n",
       "                                      reg_alpha=0.5263157894736842,\n",
       "                                      reg_lambda=0.7894736842105263, silent=True,\n",
       "                                      subsample=0.5942105263157895,\n",
       "                                      subsample_for_bin=200000, subsample_freq=0,\n",
       "                                      verbose=-10))],\n",
       "           verbose=False)),\n",
       " ('11',\n",
       "  Pipeline(memory=None,\n",
       "           steps=[('maxabsscaler', MaxAbsScaler(copy=True)),\n",
       "                  ('randomforestclassifier',\n",
       "                   RandomForestClassifier(bootstrap=True, ccp_alpha=0.0,\n",
       "                                          class_weight=None, criterion='gini',\n",
       "                                          max_depth=None, max_features=0.1,\n",
       "                                          max_leaf_nodes=None, max_samples=None,\n",
       "                                          min_impurity_decrease=0.0,\n",
       "                                          min_impurity_split=None,\n",
       "                                          min_samples_leaf=0.035789473684210524,\n",
       "                                          min_samples_split=0.056842105263157895,\n",
       "                                          min_weight_fraction_leaf=0.0,\n",
       "                                          n_estimators=600, n_jobs=1,\n",
       "                                          oob_score=False, random_state=None,\n",
       "                                          verbose=0, warm_start=False))],\n",
       "           verbose=False)),\n",
       " ('14',\n",
       "  Pipeline(memory=None,\n",
       "           steps=[('maxabsscaler', MaxAbsScaler(copy=True)),\n",
       "                  ('lightgbmclassifier',\n",
       "                   LightGBMClassifier(boosting_type='goss', class_weight=None,\n",
       "                                      colsample_bytree=0.3966666666666666,\n",
       "                                      importance_type='split',\n",
       "                                      learning_rate=0.06316157894736842,\n",
       "                                      max_bin=380, max_depth=5,\n",
       "                                      min_child_samples=14, min_child_weight=5,\n",
       "                                      min_split_gain=0.5789473684210527,\n",
       "                                      n_estimators=25, n_jobs=1, num_leaves=20,\n",
       "                                      objective=None, random_state=None,\n",
       "                                      reg_alpha=0.3157894736842105,\n",
       "                                      reg_lambda=0.05263157894736842, silent=True,\n",
       "                                      subsample=1, subsample_for_bin=200000,\n",
       "                                      subsample_freq=0, verbose=-10))],\n",
       "           verbose=False)),\n",
       " ('18',\n",
       "  Pipeline(memory=None,\n",
       "           steps=[('maxabsscaler', MaxAbsScaler(copy=True)),\n",
       "                  ('gradientboostingclassifier',\n",
       "                   GradientBoostingClassifier(ccp_alpha=0.0,\n",
       "                                              criterion='friedman_mse', init=None,\n",
       "                                              learning_rate=0.046415888336127774,\n",
       "                                              loss='deviance', max_depth=4,\n",
       "                                              max_features=0.4,\n",
       "                                              max_leaf_nodes=None,\n",
       "                                              min_impurity_decrease=0.0,\n",
       "                                              min_impurity_split=None,\n",
       "                                              min_samples_leaf=0.08736842105263157,\n",
       "                                              min_samples_split=0.5252631578947369,\n",
       "                                              min_weight_fraction_leaf=0.0,\n",
       "                                              n_estimators=100,\n",
       "                                              n_iter_no_change=None,\n",
       "                                              presort='deprecated',\n",
       "                                              random_state=None, subsample=1,\n",
       "                                              tol=0.0001, validation_fraction=0.1,\n",
       "                                              verbose=0, warm_start=False))],\n",
       "           verbose=False)),\n",
       " ('25',\n",
       "  Pipeline(memory=None,\n",
       "           steps=[('sparsenormalizer',\n",
       "                   <azureml.automl.runtime.shared.model_wrappers.SparseNormalizer object at 0x7f1c6d9ec208>),\n",
       "                  ('randomforestclassifier',\n",
       "                   RandomForestClassifier(bootstrap=True, ccp_alpha=0.0,\n",
       "                                          class_weight=None, criterion='entropy',\n",
       "                                          max_depth=None, max_features=0.9,\n",
       "                                          max_leaf_nodes=None, max_samples=None,\n",
       "                                          min_impurity_decrease=0.0,\n",
       "                                          min_impurity_split=None,\n",
       "                                          min_samples_leaf=0.1131578947368421,\n",
       "                                          min_samples_split=0.7594736842105263,\n",
       "                                          min_weight_fraction_leaf=0.0,\n",
       "                                          n_estimators=10, n_jobs=1,\n",
       "                                          oob_score=False, random_state=None,\n",
       "                                          verbose=0, warm_start=False))],\n",
       "           verbose=False)),\n",
       " ('7',\n",
       "  Pipeline(memory=None,\n",
       "           steps=[('maxabsscaler', MaxAbsScaler(copy=True)),\n",
       "                  ('logisticregression',\n",
       "                   LogisticRegression(C=7.9060432109076855, class_weight=None,\n",
       "                                      dual=False, fit_intercept=True,\n",
       "                                      intercept_scaling=1, l1_ratio=None,\n",
       "                                      max_iter=100, multi_class='ovr', n_jobs=1,\n",
       "                                      penalty='l2', random_state=None,\n",
       "                                      solver='saga', tol=0.0001, verbose=0,\n",
       "                                      warm_start=False))],\n",
       "           verbose=False)),\n",
       " ('5',\n",
       "  Pipeline(memory=None,\n",
       "           steps=[('maxabsscaler', MaxAbsScaler(copy=True)),\n",
       "                  ('randomforestclassifier',\n",
       "                   RandomForestClassifier(bootstrap=True, ccp_alpha=0.0,\n",
       "                                          class_weight='balanced',\n",
       "                                          criterion='entropy', max_depth=None,\n",
       "                                          max_features='sqrt',\n",
       "                                          max_leaf_nodes=None, max_samples=None,\n",
       "                                          min_impurity_decrease=0.0,\n",
       "                                          min_impurity_split=None,\n",
       "                                          min_samples_leaf=0.01,\n",
       "                                          min_samples_split=0.2442105263157895,\n",
       "                                          min_weight_fraction_leaf=0.0,\n",
       "                                          n_estimators=10, n_jobs=1,\n",
       "                                          oob_score=False, random_state=None,\n",
       "                                          verbose=0, warm_start=False))],\n",
       "           verbose=False))]"
      ]
     },
     "execution_count": 14,
     "metadata": {},
     "output_type": "execute_result"
    }
   ],
   "source": [
    "fitted_model.steps[1][1].estimators"
   ]
  },
  {
   "cell_type": "markdown",
   "metadata": {},
   "source": [
    "### Register best model"
   ]
  },
  {
   "cell_type": "code",
   "execution_count": 15,
   "metadata": {},
   "outputs": [
    {
     "name": "stdout",
     "output_type": "stream",
     "text": [
      "AutoMLe1060a80236\n"
     ]
    }
   ],
   "source": [
    "model_name = best_run.properties[\"model_name\"]\n",
    "description = \"AutoML model for predicting heart disease.\"\n",
    "tags = None\n",
    "model = remote_run.register_model(model_name=model_name, description=description, tags=tags)\n",
    "\n",
    "print(remote_run.model_id)"
   ]
  },
  {
   "cell_type": "markdown",
   "metadata": {},
   "source": [
    "## Model Deployment\n",
    "\n",
    "Remember you have to deploy only one of the two models you trained.. Perform the steps in the rest of this notebook only if you wish to deploy this model.\n",
    "\n",
    "TODO: In the cell below, register the model, create an inference config and deploy the model as a web service."
   ]
  },
  {
   "cell_type": "code",
   "execution_count": 16,
   "metadata": {},
   "outputs": [
    {
     "data": {
      "text/plain": [
       "['accuracy_table',\n",
       " 'automl_driver.py',\n",
       " 'azureml-logs/55_azureml-execution-tvmps_837f349fe165c8912866f9e5ad2d85fb7e8d4dbf7346a03bb59c80752cad6635_d.txt',\n",
       " 'azureml-logs/65_job_prep-tvmps_837f349fe165c8912866f9e5ad2d85fb7e8d4dbf7346a03bb59c80752cad6635_d.txt',\n",
       " 'azureml-logs/70_driver_log.txt',\n",
       " 'azureml-logs/75_job_post-tvmps_837f349fe165c8912866f9e5ad2d85fb7e8d4dbf7346a03bb59c80752cad6635_d.txt',\n",
       " 'azureml-logs/process_info.json',\n",
       " 'azureml-logs/process_status.json',\n",
       " 'confusion_matrix',\n",
       " 'logs/azureml/104_azureml.log',\n",
       " 'logs/azureml/azureml_automl.log',\n",
       " 'logs/azureml/dataprep/python_span_b023df32-bd4e-4cd5-9bf6-d0d001a1bddc.jsonl',\n",
       " 'logs/azureml/dataprep/python_span_ee0a8455-9d87-43ed-9468-fdf6086979db.jsonl',\n",
       " 'logs/azureml/job_prep_azureml.log',\n",
       " 'logs/azureml/job_release_azureml.log',\n",
       " 'outputs/conda_env_v_1_0_0.yml',\n",
       " 'outputs/env_dependencies.json',\n",
       " 'outputs/internal_cross_validated_models.pkl',\n",
       " 'outputs/model.onnx',\n",
       " 'outputs/model.pkl',\n",
       " 'outputs/model_onnx.json',\n",
       " 'outputs/pipeline_graph.json',\n",
       " 'outputs/scoring_file_v_1_0_0.py']"
      ]
     },
     "execution_count": 16,
     "metadata": {},
     "output_type": "execute_result"
    }
   ],
   "source": [
    "best_run.get_file_names()"
   ]
  },
  {
   "cell_type": "code",
   "execution_count": 17,
   "metadata": {
    "gather": {
     "logged": 1598431435189
    },
    "jupyter": {
     "outputs_hidden": false,
     "source_hidden": false
    },
    "nteract": {
     "transient": {
      "deleting": false
     }
    }
   },
   "outputs": [],
   "source": [
    "script_file_name = 'inference/score.py'\n",
    "\n",
    "best_run.download_file('outputs/scoring_file_v_1_0_0.py', 'inference/score.py')"
   ]
  },
  {
   "cell_type": "code",
   "execution_count": 24,
   "metadata": {},
   "outputs": [],
   "source": [
    "best_run.download_file('outputs/conda_env_v_1_0_0.yml', 'conda_env.yml')"
   ]
  },
  {
   "cell_type": "markdown",
   "metadata": {
    "gather": {
     "logged": 1598432707604
    },
    "jupyter": {
     "outputs_hidden": false,
     "source_hidden": false
    },
    "nteract": {
     "transient": {
      "deleting": false
     }
    }
   },
   "source": [
    "### Deploy the model as a webservice using ACI"
   ]
  },
  {
   "cell_type": "code",
   "execution_count": 29,
   "metadata": {},
   "outputs": [
    {
     "name": "stdout",
     "output_type": "stream",
     "text": [
      "automl-heart-disease-prediction\n",
      "Tips: You can try get_logs(): https://aka.ms/debugimage#dockerlog or local deployment: https://aka.ms/debugimage#debug-locally to debug if deployment takes longer than 10 minutes.\n",
      "Running.........................................................................................................................................................................................\n",
      "Succeeded\n",
      "ACI service creation operation finished, operation \"Succeeded\"\n",
      "Endpoint: http://4594fbf1-84b1-4214-a76b-c6518f019f23.southcentralus.azurecontainer.io/score\n",
      "Status: Healthy\n"
     ]
    }
   ],
   "source": [
    "from azureml.core.model import InferenceConfig\n",
    "from azureml.core.webservice import AciWebservice\n",
    "from azureml.core.webservice import Webservice\n",
    "from azureml.core.model import Model\n",
    "from azureml.core.environment import Environment\n",
    "\n",
    "myenv = Environment.from_conda_specification(\"deployment-env\", \"conda_env.yml\")\n",
    "\n",
    "inference_config = InferenceConfig(entry_script=script_file_name, environment=myenv)\n",
    "\n",
    "aciconfig = AciWebservice.deploy_configuration(cpu_cores = 1, \n",
    "                                               memory_gb = 1, \n",
    "                                               tags = {'area': \"bmData\", 'type': \"automl_classification\"}, \n",
    "                                               description = 'Heart Disease prediction using Automl Classification')\n",
    "\n",
    "aci_service_name = 'automl-heart-disease-prediction'\n",
    "print(aci_service_name)\n",
    "aci_service = Model.deploy(ws, aci_service_name, [model], inference_config, aciconfig, overwrite=True)\n",
    "aci_service.wait_for_deployment(True)\n",
    "print(\"Endpoint: \" + aci_service.scoring_uri)\n",
    "print(\"Status: \" + aci_service.state)"
   ]
  },
  {
   "cell_type": "markdown",
   "metadata": {},
   "source": [
    "### Test the web service"
   ]
  },
  {
   "cell_type": "code",
   "execution_count": 30,
   "metadata": {},
   "outputs": [
    {
     "name": "stdout",
     "output_type": "stream",
     "text": [
      "[1, 0]\n"
     ]
    }
   ],
   "source": [
    "#Test 1\n",
    "import requests\n",
    "import json\n",
    "\n",
    "data = json.dumps({ \n",
    "  \"data\": [  \n",
    "    {\n",
    "      \"age\": 63,\n",
    "      \"sex\": 1,\n",
    "      \"cp\": 3,\n",
    "      \"trestbps\": 145,\n",
    "      \"chol\": 233,\n",
    "      \"fbs\": 1,\n",
    "      \"restecg\": 0,\n",
    "      \"thalach\": 150,\n",
    "      \"exang\": 0,\n",
    "      \"oldpeak\": 2.3,\n",
    "      \"slope\": 0,\n",
    "      \"ca\": 0,\n",
    "      \"thal\": 1\n",
    "    },\n",
    "    { \n",
    "      \"age\": 57,\n",
    "      \"sex\": 0,\n",
    "      \"cp\": 0,\n",
    "      \"trestbps\": 140,\n",
    "      \"chol\": 241,\n",
    "      \"fbs\": 0,\n",
    "      \"restecg\": 1,\n",
    "      \"thalach\": 123,\n",
    "      \"exang\": 1,\n",
    "      \"oldpeak\": 0.2,\n",
    "      \"slope\": 1,\n",
    "      \"ca\": 0,\n",
    "      \"thal\": 3\n",
    "    }\n",
    "  ]\n",
    "})\n",
    "\n",
    "headers = {'Content-Type': 'application/json'}\n",
    "\n",
    "resp = requests.post(aci_service.scoring_uri, data, headers=headers)\n",
    "\n",
    "pred = json.loads(json.loads(resp.text))['result']\n",
    "print(pred)"
   ]
  },
  {
   "cell_type": "markdown",
   "metadata": {
    "jupyter": {
     "outputs_hidden": false,
     "source_hidden": false
    },
    "nteract": {
     "transient": {
      "deleting": false
     }
    }
   },
   "source": [
    "### Get service logs"
   ]
  },
  {
   "cell_type": "code",
   "execution_count": 31,
   "metadata": {
    "scrolled": true
   },
   "outputs": [
    {
     "data": {
      "text/plain": [
       "'2021-01-31T18:56:32,918249770+00:00 - gunicorn/run \\n/usr/sbin/nginx: /azureml-envs/azureml_4f26b5b9300bb3a3b89415c34dafac63/lib/libcrypto.so.1.0.0: no version information available (required by /usr/sbin/nginx)\\n/usr/sbin/nginx: /azureml-envs/azureml_4f26b5b9300bb3a3b89415c34dafac63/lib/libcrypto.so.1.0.0: no version information available (required by /usr/sbin/nginx)\\n/usr/sbin/nginx: /azureml-envs/azureml_4f26b5b9300bb3a3b89415c34dafac63/lib/libssl.so.1.0.0: no version information available (required by /usr/sbin/nginx)\\n/usr/sbin/nginx: /azureml-envs/azureml_4f26b5b9300bb3a3b89415c34dafac63/lib/libssl.so.1.0.0: no version information available (required by /usr/sbin/nginx)\\n/usr/sbin/nginx: /azureml-envs/azureml_4f26b5b9300bb3a3b89415c34dafac63/lib/libssl.so.1.0.0: no version information available (required by /usr/sbin/nginx)\\n2021-01-31T18:56:32,918807210+00:00 - nginx/run \\n2021-01-31T18:56:32,918961421+00:00 - rsyslog/run \\n2021-01-31T18:56:32,920904858+00:00 - iot-server/run \\nrsyslogd: /azureml-envs/azureml_4f26b5b9300bb3a3b89415c34dafac63/lib/libuuid.so.1: no version information available (required by rsyslogd)\\nEdgeHubConnectionString and IOTEDGE_IOTHUBHOSTNAME are not set. Exiting...\\n2021-01-31T18:56:33,084432035+00:00 - iot-server/finish 1 0\\n2021-01-31T18:56:33,085799432+00:00 - Exit code 1 is normal. Not restarting iot-server.\\nStarting gunicorn 19.9.0\\nListening at: http://127.0.0.1:31311 (12)\\nUsing worker: sync\\nworker timeout is set to 300\\nBooting worker with pid: 42\\nSPARK_HOME not set. Skipping PySpark Initialization.\\nGenerating new fontManager, this may take some time...\\nInitializing logger\\n2021-01-31 18:56:34,365 | root | INFO | Starting up app insights client\\n2021-01-31 18:56:34,365 | root | INFO | Starting up request id generator\\n2021-01-31 18:56:34,365 | root | INFO | Starting up app insight hooks\\n2021-01-31 18:56:34,365 | root | INFO | Invoking user\\'s init function\\n2021-01-31 18:56:36,580 | azureml.core | WARNING | Failure while loading azureml_run_type_providers. Failed to load entrypoint automl = azureml.train.automl.run:AutoMLRun._from_run_dto with exception cannot import name \\'RunType\\'.\\nFailure while loading azureml_run_type_providers. Failed to load entrypoint automl = azureml.train.automl.run:AutoMLRun._from_run_dto with exception cannot import name \\'RunType\\'.\\n2021-01-31 18:56:37,095 | root | INFO | Users\\'s init has completed successfully\\n2021-01-31 18:56:37,173 | root | INFO | Skipping middleware: dbg_model_info as it\\'s not enabled.\\n2021-01-31 18:56:37,173 | root | INFO | Skipping middleware: dbg_resource_usage as it\\'s not enabled.\\n2021-01-31 18:56:37,175 | root | INFO | Scoring timeout is found from os.environ: 60000 ms\\n2021-01-31 18:56:43,620 | root | INFO | 200\\n127.0.0.1 - - [31/Jan/2021:18:56:43 +0000] \"GET /swagger.json HTTP/1.0\" 200 2783 \"-\" \"Go-http-client/1.1\"\\n2021-01-31 18:56:46,060 | root | INFO | 200\\n127.0.0.1 - - [31/Jan/2021:18:56:46 +0000] \"GET /swagger.json HTTP/1.0\" 200 2783 \"-\" \"Go-http-client/1.1\"\\n2021-01-31 18:56:50,541 | root | INFO | Validation Request Content-Type\\n2021-01-31 18:56:50,541 | root | INFO | Scoring Timer is set to 60.0 seconds\\n2021-01-31 18:56:50,805 | root | INFO | 200\\n127.0.0.1 - - [31/Jan/2021:18:56:50 +0000] \"POST /score HTTP/1.0\" 200 22 \"-\" \"python-requests/2.25.1\"\\n'"
      ]
     },
     "execution_count": 31,
     "metadata": {},
     "output_type": "execute_result"
    }
   ],
   "source": [
    "aci_service.get_logs()"
   ]
  },
  {
   "cell_type": "markdown",
   "metadata": {},
   "source": [
    "### Delete the web service"
   ]
  },
  {
   "cell_type": "code",
   "execution_count": 21,
   "metadata": {},
   "outputs": [],
   "source": [
    "#aci_service.delete()"
   ]
  },
  {
   "cell_type": "markdown",
   "metadata": {},
   "source": [
    "End!"
   ]
  }
 ],
 "metadata": {
  "kernel_info": {
   "name": "python3-azureml"
  },
  "kernelspec": {
   "display_name": "Python 3",
   "language": "python",
   "name": "python3"
  },
  "language_info": {
   "codemirror_mode": {
    "name": "ipython",
    "version": 3
   },
   "file_extension": ".py",
   "mimetype": "text/x-python",
   "name": "python",
   "nbconvert_exporter": "python",
   "pygments_lexer": "ipython3",
   "version": "3.6.9"
  },
  "nteract": {
   "version": "nteract-front-end@1.0.0"
  }
 },
 "nbformat": 4,
 "nbformat_minor": 2
}
