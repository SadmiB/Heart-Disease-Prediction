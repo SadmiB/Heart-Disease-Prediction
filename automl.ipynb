{
 "cells": [
  {
   "cell_type": "markdown",
   "metadata": {},
   "source": [
    "# Automated ML\n",
    "\n",
    "Import all the dependencies that will be needed for the project."
   ]
  },
  {
   "cell_type": "code",
   "execution_count": 42,
   "metadata": {
    "gather": {
     "logged": 1598423888013
    },
    "jupyter": {
     "outputs_hidden": false,
     "source_hidden": false
    },
    "nteract": {
     "transient": {
      "deleting": false
     }
    }
   },
   "outputs": [
    {
     "name": "stdout",
     "output_type": "stream",
     "text": [
      "SDK version: 1.19.0\n"
     ]
    }
   ],
   "source": [
    "import logging\n",
    "import os\n",
    "import csv\n",
    "\n",
    "from matplotlib import pyplot as plt\n",
    "import numpy as np\n",
    "import pandas as pd\n",
    "from sklearn import datasets\n",
    "import pkg_resources\n",
    "\n",
    "import azureml.core\n",
    "from azureml.core.experiment import Experiment\n",
    "from azureml.core.workspace import Workspace\n",
    "from azureml.train.automl import AutoMLConfig\n",
    "from azureml.core.dataset import Dataset\n",
    "\n",
    "\n",
    "print(\"SDK version:\", azureml.core.VERSION)"
   ]
  },
  {
   "cell_type": "markdown",
   "metadata": {},
   "source": [
    "# Workspace"
   ]
  },
  {
   "cell_type": "code",
   "execution_count": 43,
   "metadata": {},
   "outputs": [
    {
     "name": "stdout",
     "output_type": "stream",
     "text": [
      "quick-starts-ws-134454\n",
      "aml-quickstarts-134454\n",
      "southcentralus\n",
      "610d6e37-4747-4a20-80eb-3aad70a55f43\n"
     ]
    }
   ],
   "source": [
    "ws = Workspace.from_config()\n",
    "print(ws.name, ws.resource_group, ws.location, ws.subscription_id, sep = '\\n')"
   ]
  },
  {
   "cell_type": "markdown",
   "metadata": {},
   "source": [
    "## Dataset\n",
    "\n",
    "### Overview\n",
    "We will be using a dataset about hear disease from [kaggle](https://www.kaggle.com/ronitf/heart-disease-uci)\n",
    "\n",
    "* age: age in years \n",
    "* sex: (1 = male; 0 = female) \n",
    "* cp: chest pain type\n",
    "* trestbps: resting blood pressure (in mm Hg on admission to the hospital)\n",
    "* chol: serum cholestoral in mg/dl \n",
    "* fbs: (fasting blood sugar &gt; 120 mg/dl) (1 = true; 0 = false) \n",
    "* restecg: resting electrocardiographic results \n",
    "* thalach: maximum heart rate achieved \n",
    "* exang: exercise induced angina (1 = yes; 0 = no) \n",
    "* oldpeak: ST depression induced by exercise relative to rest \n",
    "* slope: the slope of the peak exercise ST segment\n",
    "* ca: number of major vessels (0-3) colored by flourosopy \n",
    "* thal: 3 = normal; 6 = fixed defect; 7 = reversable defect \n",
    "* target: 1 or 0 \n",
    "\n",
    "\n",
    "Accessing the dataset:"
   ]
  },
  {
   "cell_type": "code",
   "execution_count": 44,
   "metadata": {},
   "outputs": [
    {
     "name": "stdout",
     "output_type": "stream",
     "text": [
      "Dataset heart-disease-dataset already exists..!\n"
     ]
    },
    {
     "data": {
      "text/html": [
       "<div>\n",
       "<style scoped>\n",
       "    .dataframe tbody tr th:only-of-type {\n",
       "        vertical-align: middle;\n",
       "    }\n",
       "\n",
       "    .dataframe tbody tr th {\n",
       "        vertical-align: top;\n",
       "    }\n",
       "\n",
       "    .dataframe thead th {\n",
       "        text-align: right;\n",
       "    }\n",
       "</style>\n",
       "<table border=\"1\" class=\"dataframe\">\n",
       "  <thead>\n",
       "    <tr style=\"text-align: right;\">\n",
       "      <th></th>\n",
       "      <th>age</th>\n",
       "      <th>sex</th>\n",
       "      <th>cp</th>\n",
       "      <th>trestbps</th>\n",
       "      <th>chol</th>\n",
       "      <th>fbs</th>\n",
       "      <th>restecg</th>\n",
       "      <th>thalach</th>\n",
       "      <th>exang</th>\n",
       "      <th>oldpeak</th>\n",
       "      <th>slope</th>\n",
       "      <th>ca</th>\n",
       "      <th>thal</th>\n",
       "      <th>target</th>\n",
       "    </tr>\n",
       "  </thead>\n",
       "  <tbody>\n",
       "    <tr>\n",
       "      <th>count</th>\n",
       "      <td>303.00</td>\n",
       "      <td>303.00</td>\n",
       "      <td>303.00</td>\n",
       "      <td>303.00</td>\n",
       "      <td>303.00</td>\n",
       "      <td>303.00</td>\n",
       "      <td>303.00</td>\n",
       "      <td>303.00</td>\n",
       "      <td>303.00</td>\n",
       "      <td>303.00</td>\n",
       "      <td>303.00</td>\n",
       "      <td>303.00</td>\n",
       "      <td>303.00</td>\n",
       "      <td>303.00</td>\n",
       "    </tr>\n",
       "    <tr>\n",
       "      <th>mean</th>\n",
       "      <td>54.37</td>\n",
       "      <td>0.68</td>\n",
       "      <td>0.97</td>\n",
       "      <td>131.62</td>\n",
       "      <td>246.26</td>\n",
       "      <td>0.15</td>\n",
       "      <td>0.53</td>\n",
       "      <td>149.65</td>\n",
       "      <td>0.33</td>\n",
       "      <td>1.04</td>\n",
       "      <td>1.40</td>\n",
       "      <td>0.73</td>\n",
       "      <td>2.31</td>\n",
       "      <td>0.54</td>\n",
       "    </tr>\n",
       "    <tr>\n",
       "      <th>std</th>\n",
       "      <td>9.08</td>\n",
       "      <td>0.47</td>\n",
       "      <td>1.03</td>\n",
       "      <td>17.54</td>\n",
       "      <td>51.83</td>\n",
       "      <td>0.36</td>\n",
       "      <td>0.53</td>\n",
       "      <td>22.91</td>\n",
       "      <td>0.47</td>\n",
       "      <td>1.16</td>\n",
       "      <td>0.62</td>\n",
       "      <td>1.02</td>\n",
       "      <td>0.61</td>\n",
       "      <td>0.50</td>\n",
       "    </tr>\n",
       "    <tr>\n",
       "      <th>min</th>\n",
       "      <td>29.00</td>\n",
       "      <td>0.00</td>\n",
       "      <td>0.00</td>\n",
       "      <td>94.00</td>\n",
       "      <td>126.00</td>\n",
       "      <td>0.00</td>\n",
       "      <td>0.00</td>\n",
       "      <td>71.00</td>\n",
       "      <td>0.00</td>\n",
       "      <td>0.00</td>\n",
       "      <td>0.00</td>\n",
       "      <td>0.00</td>\n",
       "      <td>0.00</td>\n",
       "      <td>0.00</td>\n",
       "    </tr>\n",
       "    <tr>\n",
       "      <th>25%</th>\n",
       "      <td>47.50</td>\n",
       "      <td>0.00</td>\n",
       "      <td>0.00</td>\n",
       "      <td>120.00</td>\n",
       "      <td>211.00</td>\n",
       "      <td>0.00</td>\n",
       "      <td>0.00</td>\n",
       "      <td>133.50</td>\n",
       "      <td>0.00</td>\n",
       "      <td>0.00</td>\n",
       "      <td>1.00</td>\n",
       "      <td>0.00</td>\n",
       "      <td>2.00</td>\n",
       "      <td>0.00</td>\n",
       "    </tr>\n",
       "    <tr>\n",
       "      <th>50%</th>\n",
       "      <td>55.00</td>\n",
       "      <td>1.00</td>\n",
       "      <td>1.00</td>\n",
       "      <td>130.00</td>\n",
       "      <td>240.00</td>\n",
       "      <td>0.00</td>\n",
       "      <td>1.00</td>\n",
       "      <td>153.00</td>\n",
       "      <td>0.00</td>\n",
       "      <td>0.80</td>\n",
       "      <td>1.00</td>\n",
       "      <td>0.00</td>\n",
       "      <td>2.00</td>\n",
       "      <td>1.00</td>\n",
       "    </tr>\n",
       "    <tr>\n",
       "      <th>75%</th>\n",
       "      <td>61.00</td>\n",
       "      <td>1.00</td>\n",
       "      <td>2.00</td>\n",
       "      <td>140.00</td>\n",
       "      <td>274.50</td>\n",
       "      <td>0.00</td>\n",
       "      <td>1.00</td>\n",
       "      <td>166.00</td>\n",
       "      <td>1.00</td>\n",
       "      <td>1.60</td>\n",
       "      <td>2.00</td>\n",
       "      <td>1.00</td>\n",
       "      <td>3.00</td>\n",
       "      <td>1.00</td>\n",
       "    </tr>\n",
       "    <tr>\n",
       "      <th>max</th>\n",
       "      <td>77.00</td>\n",
       "      <td>1.00</td>\n",
       "      <td>3.00</td>\n",
       "      <td>200.00</td>\n",
       "      <td>564.00</td>\n",
       "      <td>1.00</td>\n",
       "      <td>2.00</td>\n",
       "      <td>202.00</td>\n",
       "      <td>1.00</td>\n",
       "      <td>6.20</td>\n",
       "      <td>2.00</td>\n",
       "      <td>4.00</td>\n",
       "      <td>3.00</td>\n",
       "      <td>1.00</td>\n",
       "    </tr>\n",
       "  </tbody>\n",
       "</table>\n",
       "</div>"
      ],
      "text/plain": [
       "         age    sex     cp  trestbps   chol    fbs  restecg  thalach  exang  \\\n",
       "count 303.00 303.00 303.00    303.00 303.00 303.00   303.00   303.00 303.00   \n",
       "mean   54.37   0.68   0.97    131.62 246.26   0.15     0.53   149.65   0.33   \n",
       "std     9.08   0.47   1.03     17.54  51.83   0.36     0.53    22.91   0.47   \n",
       "min    29.00   0.00   0.00     94.00 126.00   0.00     0.00    71.00   0.00   \n",
       "25%    47.50   0.00   0.00    120.00 211.00   0.00     0.00   133.50   0.00   \n",
       "50%    55.00   1.00   1.00    130.00 240.00   0.00     1.00   153.00   0.00   \n",
       "75%    61.00   1.00   2.00    140.00 274.50   0.00     1.00   166.00   1.00   \n",
       "max    77.00   1.00   3.00    200.00 564.00   1.00     2.00   202.00   1.00   \n",
       "\n",
       "       oldpeak  slope     ca   thal  target  \n",
       "count   303.00 303.00 303.00 303.00  303.00  \n",
       "mean      1.04   1.40   0.73   2.31    0.54  \n",
       "std       1.16   0.62   1.02   0.61    0.50  \n",
       "min       0.00   0.00   0.00   0.00    0.00  \n",
       "25%       0.00   1.00   0.00   2.00    0.00  \n",
       "50%       0.80   1.00   0.00   2.00    1.00  \n",
       "75%       1.60   2.00   1.00   3.00    1.00  \n",
       "max       6.20   2.00   4.00   3.00    1.00  "
      ]
     },
     "execution_count": 44,
     "metadata": {},
     "output_type": "execute_result"
    }
   ],
   "source": [
    "found = False\n",
    "key = \"heart-disease-dataset\"\n",
    "description_text = \"Heart disease dataset\"\n",
    "\n",
    "if key in ws.datasets.keys():\n",
    "        print(\"Dataset {} already exists..!\".format(key))\n",
    "        found = True\n",
    "        dataset = Dataset.get_by_name(ws, name=key)\n",
    "\n",
    "if not found:\n",
    "        # Create AML Dataset and register it into Workspace\n",
    "        print(\"Creating {} dataset..\".format(key))\n",
    "        data = 'https://raw.githubusercontent.com/SadmiB/Heart-Disease-Prediction/master/heart.csv'\n",
    "        dataset = Dataset.Tabular.from_delimited_files(data)        \n",
    "        #Register Dataset in Workspace\n",
    "        dataset = dataset.register(workspace=ws,\n",
    "                                   name=key,\n",
    "                                   description=description_text)\n",
    "\n",
    "\n",
    "df = dataset.to_pandas_dataframe()\n",
    "df.describe()"
   ]
  },
  {
   "cell_type": "code",
   "execution_count": 66,
   "metadata": {},
   "outputs": [
    {
     "data": {
      "text/html": [
       "<div>\n",
       "<style scoped>\n",
       "    .dataframe tbody tr th:only-of-type {\n",
       "        vertical-align: middle;\n",
       "    }\n",
       "\n",
       "    .dataframe tbody tr th {\n",
       "        vertical-align: top;\n",
       "    }\n",
       "\n",
       "    .dataframe thead th {\n",
       "        text-align: right;\n",
       "    }\n",
       "</style>\n",
       "<table border=\"1\" class=\"dataframe\">\n",
       "  <thead>\n",
       "    <tr style=\"text-align: right;\">\n",
       "      <th></th>\n",
       "      <th>age</th>\n",
       "      <th>sex</th>\n",
       "      <th>cp</th>\n",
       "      <th>trestbps</th>\n",
       "      <th>chol</th>\n",
       "      <th>fbs</th>\n",
       "      <th>restecg</th>\n",
       "      <th>thalach</th>\n",
       "      <th>exang</th>\n",
       "      <th>oldpeak</th>\n",
       "      <th>slope</th>\n",
       "      <th>ca</th>\n",
       "      <th>thal</th>\n",
       "      <th>target</th>\n",
       "    </tr>\n",
       "  </thead>\n",
       "  <tbody>\n",
       "    <tr>\n",
       "      <th>0</th>\n",
       "      <td>63</td>\n",
       "      <td>1</td>\n",
       "      <td>3</td>\n",
       "      <td>145</td>\n",
       "      <td>233</td>\n",
       "      <td>1</td>\n",
       "      <td>0</td>\n",
       "      <td>150</td>\n",
       "      <td>0</td>\n",
       "      <td>2.30</td>\n",
       "      <td>0</td>\n",
       "      <td>0</td>\n",
       "      <td>1</td>\n",
       "      <td>1</td>\n",
       "    </tr>\n",
       "    <tr>\n",
       "      <th>1</th>\n",
       "      <td>37</td>\n",
       "      <td>1</td>\n",
       "      <td>2</td>\n",
       "      <td>130</td>\n",
       "      <td>250</td>\n",
       "      <td>0</td>\n",
       "      <td>1</td>\n",
       "      <td>187</td>\n",
       "      <td>0</td>\n",
       "      <td>3.50</td>\n",
       "      <td>0</td>\n",
       "      <td>0</td>\n",
       "      <td>2</td>\n",
       "      <td>1</td>\n",
       "    </tr>\n",
       "    <tr>\n",
       "      <th>2</th>\n",
       "      <td>41</td>\n",
       "      <td>0</td>\n",
       "      <td>1</td>\n",
       "      <td>130</td>\n",
       "      <td>204</td>\n",
       "      <td>0</td>\n",
       "      <td>0</td>\n",
       "      <td>172</td>\n",
       "      <td>0</td>\n",
       "      <td>1.40</td>\n",
       "      <td>2</td>\n",
       "      <td>0</td>\n",
       "      <td>2</td>\n",
       "      <td>1</td>\n",
       "    </tr>\n",
       "    <tr>\n",
       "      <th>3</th>\n",
       "      <td>56</td>\n",
       "      <td>1</td>\n",
       "      <td>1</td>\n",
       "      <td>120</td>\n",
       "      <td>236</td>\n",
       "      <td>0</td>\n",
       "      <td>1</td>\n",
       "      <td>178</td>\n",
       "      <td>0</td>\n",
       "      <td>0.80</td>\n",
       "      <td>2</td>\n",
       "      <td>0</td>\n",
       "      <td>2</td>\n",
       "      <td>1</td>\n",
       "    </tr>\n",
       "    <tr>\n",
       "      <th>4</th>\n",
       "      <td>57</td>\n",
       "      <td>0</td>\n",
       "      <td>0</td>\n",
       "      <td>120</td>\n",
       "      <td>354</td>\n",
       "      <td>0</td>\n",
       "      <td>1</td>\n",
       "      <td>163</td>\n",
       "      <td>1</td>\n",
       "      <td>0.60</td>\n",
       "      <td>2</td>\n",
       "      <td>0</td>\n",
       "      <td>2</td>\n",
       "      <td>1</td>\n",
       "    </tr>\n",
       "    <tr>\n",
       "      <th>...</th>\n",
       "      <td>...</td>\n",
       "      <td>...</td>\n",
       "      <td>...</td>\n",
       "      <td>...</td>\n",
       "      <td>...</td>\n",
       "      <td>...</td>\n",
       "      <td>...</td>\n",
       "      <td>...</td>\n",
       "      <td>...</td>\n",
       "      <td>...</td>\n",
       "      <td>...</td>\n",
       "      <td>...</td>\n",
       "      <td>...</td>\n",
       "      <td>...</td>\n",
       "    </tr>\n",
       "    <tr>\n",
       "      <th>298</th>\n",
       "      <td>57</td>\n",
       "      <td>0</td>\n",
       "      <td>0</td>\n",
       "      <td>140</td>\n",
       "      <td>241</td>\n",
       "      <td>0</td>\n",
       "      <td>1</td>\n",
       "      <td>123</td>\n",
       "      <td>1</td>\n",
       "      <td>0.20</td>\n",
       "      <td>1</td>\n",
       "      <td>0</td>\n",
       "      <td>3</td>\n",
       "      <td>0</td>\n",
       "    </tr>\n",
       "    <tr>\n",
       "      <th>299</th>\n",
       "      <td>45</td>\n",
       "      <td>1</td>\n",
       "      <td>3</td>\n",
       "      <td>110</td>\n",
       "      <td>264</td>\n",
       "      <td>0</td>\n",
       "      <td>1</td>\n",
       "      <td>132</td>\n",
       "      <td>0</td>\n",
       "      <td>1.20</td>\n",
       "      <td>1</td>\n",
       "      <td>0</td>\n",
       "      <td>3</td>\n",
       "      <td>0</td>\n",
       "    </tr>\n",
       "    <tr>\n",
       "      <th>300</th>\n",
       "      <td>68</td>\n",
       "      <td>1</td>\n",
       "      <td>0</td>\n",
       "      <td>144</td>\n",
       "      <td>193</td>\n",
       "      <td>1</td>\n",
       "      <td>1</td>\n",
       "      <td>141</td>\n",
       "      <td>0</td>\n",
       "      <td>3.40</td>\n",
       "      <td>1</td>\n",
       "      <td>2</td>\n",
       "      <td>3</td>\n",
       "      <td>0</td>\n",
       "    </tr>\n",
       "    <tr>\n",
       "      <th>301</th>\n",
       "      <td>57</td>\n",
       "      <td>1</td>\n",
       "      <td>0</td>\n",
       "      <td>130</td>\n",
       "      <td>131</td>\n",
       "      <td>0</td>\n",
       "      <td>1</td>\n",
       "      <td>115</td>\n",
       "      <td>1</td>\n",
       "      <td>1.20</td>\n",
       "      <td>1</td>\n",
       "      <td>1</td>\n",
       "      <td>3</td>\n",
       "      <td>0</td>\n",
       "    </tr>\n",
       "    <tr>\n",
       "      <th>302</th>\n",
       "      <td>57</td>\n",
       "      <td>0</td>\n",
       "      <td>1</td>\n",
       "      <td>130</td>\n",
       "      <td>236</td>\n",
       "      <td>0</td>\n",
       "      <td>0</td>\n",
       "      <td>174</td>\n",
       "      <td>0</td>\n",
       "      <td>0.00</td>\n",
       "      <td>1</td>\n",
       "      <td>1</td>\n",
       "      <td>2</td>\n",
       "      <td>0</td>\n",
       "    </tr>\n",
       "  </tbody>\n",
       "</table>\n",
       "<p>303 rows × 14 columns</p>\n",
       "</div>"
      ],
      "text/plain": [
       "     age  sex  cp  trestbps  chol  fbs  restecg  thalach  exang  oldpeak  \\\n",
       "0     63    1   3       145   233    1        0      150      0     2.30   \n",
       "1     37    1   2       130   250    0        1      187      0     3.50   \n",
       "2     41    0   1       130   204    0        0      172      0     1.40   \n",
       "3     56    1   1       120   236    0        1      178      0     0.80   \n",
       "4     57    0   0       120   354    0        1      163      1     0.60   \n",
       "..   ...  ...  ..       ...   ...  ...      ...      ...    ...      ...   \n",
       "298   57    0   0       140   241    0        1      123      1     0.20   \n",
       "299   45    1   3       110   264    0        1      132      0     1.20   \n",
       "300   68    1   0       144   193    1        1      141      0     3.40   \n",
       "301   57    1   0       130   131    0        1      115      1     1.20   \n",
       "302   57    0   1       130   236    0        0      174      0     0.00   \n",
       "\n",
       "     slope  ca  thal  target  \n",
       "0        0   0     1       1  \n",
       "1        0   0     2       1  \n",
       "2        2   0     2       1  \n",
       "3        2   0     2       1  \n",
       "4        2   0     2       1  \n",
       "..     ...  ..   ...     ...  \n",
       "298      1   0     3       0  \n",
       "299      1   0     3       0  \n",
       "300      1   2     3       0  \n",
       "301      1   1     3       0  \n",
       "302      1   1     2       0  \n",
       "\n",
       "[303 rows x 14 columns]"
      ]
     },
     "execution_count": 66,
     "metadata": {},
     "output_type": "execute_result"
    }
   ],
   "source": [
    "dataset.take(-5).to_pandas_dataframe()"
   ]
  },
  {
   "cell_type": "markdown",
   "metadata": {},
   "source": [
    "# Experiment"
   ]
  },
  {
   "cell_type": "code",
   "execution_count": 46,
   "metadata": {},
   "outputs": [
    {
     "data": {
      "text/html": [
       "<table style=\"width:100%\"><tr><th>Name</th><th>Workspace</th><th>Report Page</th><th>Docs Page</th></tr><tr><td>heart-disease-experiment-ml1</td><td>quick-starts-ws-134454</td><td><a href=\"https://ml.azure.com/experiments/heart-disease-experiment-ml1?wsid=/subscriptions/610d6e37-4747-4a20-80eb-3aad70a55f43/resourcegroups/aml-quickstarts-134454/workspaces/quick-starts-ws-134454\" target=\"_blank\" rel=\"noopener\">Link to Azure Machine Learning studio</a></td><td><a href=\"https://docs.microsoft.com/en-us/python/api/azureml-core/azureml.core.experiment.Experiment?view=azure-ml-py\" target=\"_blank\" rel=\"noopener\">Link to Documentation</a></td></tr></table>"
      ],
      "text/plain": [
       "Experiment(Name: heart-disease-experiment-ml1,\n",
       "Workspace: quick-starts-ws-134454)"
      ]
     },
     "execution_count": 46,
     "metadata": {},
     "output_type": "execute_result"
    }
   ],
   "source": [
    "# choose a name for experiment\n",
    "experiment_name = 'heart-disease-experiment-ml1'\n",
    "project_folder = 'heart-disease-project'\n",
    "experiment=Experiment(ws, experiment_name)\n",
    "experiment"
   ]
  },
  {
   "cell_type": "markdown",
   "metadata": {},
   "source": [
    "# Create or Attach an AmlCompute cluster"
   ]
  },
  {
   "cell_type": "code",
   "execution_count": 47,
   "metadata": {},
   "outputs": [
    {
     "name": "stdout",
     "output_type": "stream",
     "text": [
      "Found existing cluster, use it.\n"
     ]
    }
   ],
   "source": [
    "from azureml.core.compute import AmlCompute\n",
    "from azureml.core.compute import ComputeTarget\n",
    "from azureml.core.compute_target import ComputeTargetException\n",
    "\n",
    "# NOTE: update the cluster name to match the existing cluster\n",
    "# Choose a name for your CPU cluster\n",
    "amlcompute_cluster_name = \"auto-ml\"\n",
    "\n",
    "# Verify that cluster does not exist already\n",
    "try:\n",
    "    compute_target = ComputeTarget(workspace=ws, name=amlcompute_cluster_name)\n",
    "    print('Found existing cluster, use it.')\n",
    "except ComputeTargetException:\n",
    "    compute_config = AmlCompute.provisioning_configuration(vm_size='STANDARD_D2_V2',\n",
    "                                                           max_nodes=4)\n",
    "    compute_target = ComputeTarget.create(ws, amlcompute_cluster_name, compute_config)\n",
    "\n",
    "    compute_target.wait_for_completion(show_output=True, min_node_count = 1, timeout_in_minutes = 10)"
   ]
  },
  {
   "cell_type": "markdown",
   "metadata": {},
   "source": [
    "## AutoML Configuration\n",
    "\n",
    "Below the Automl settings and cofiguration we using AUC_weighted as a primary metric and the task to solve is classification. The target column is \"target\" which represents whether a patient has a heart disease or not."
   ]
  },
  {
   "cell_type": "code",
   "execution_count": 48,
   "metadata": {
    "gather": {
     "logged": 1598429217746
    },
    "jupyter": {
     "outputs_hidden": false,
     "source_hidden": false
    },
    "nteract": {
     "transient": {
      "deleting": false
     }
    }
   },
   "outputs": [],
   "source": [
    "# Automl settings\n",
    "automl_settings = { \n",
    "    \"experiment_timeout_minutes\": 15,\n",
    "    \"max_concurrent_iterations\": 5,\n",
    "    \"primary_metric\" : 'AUC_weighted'\n",
    "}\n",
    "\n",
    "# automl config\n",
    "automl_config = AutoMLConfig(compute_target=compute_target,\n",
    "                             task = \"classification\",\n",
    "                             training_data=dataset,\n",
    "                             label_column_name=\"target\",   \n",
    "                             path = project_folder,\n",
    "                             enable_early_stopping= True,\n",
    "                             featurization= 'auto',\n",
    "                             debug_log = \"automl_errors.log\",\n",
    "                             **automl_settings)"
   ]
  },
  {
   "cell_type": "code",
   "execution_count": 49,
   "metadata": {
    "gather": {
     "logged": 1598431107951
    },
    "jupyter": {
     "outputs_hidden": false,
     "source_hidden": false
    },
    "nteract": {
     "transient": {
      "deleting": false
     }
    }
   },
   "outputs": [
    {
     "name": "stdout",
     "output_type": "stream",
     "text": [
      "Running on remote.\n"
     ]
    }
   ],
   "source": [
    "# Submit the ml experiment\n",
    "remote_run = experiment.submit(automl_config)"
   ]
  },
  {
   "cell_type": "markdown",
   "metadata": {},
   "source": [
    "## Run Details\n",
    "\n",
    "OPTIONAL: Write about the different models trained and their performance. Why do you think some models did better than others?\n",
    "\n",
    "TODO: In the cell below, use the `RunDetails` widget to show the different experiments."
   ]
  },
  {
   "cell_type": "code",
   "execution_count": 50,
   "metadata": {
    "gather": {
     "logged": 1598431121770
    },
    "jupyter": {
     "outputs_hidden": false,
     "source_hidden": false
    },
    "nteract": {
     "transient": {
      "deleting": false
     }
    }
   },
   "outputs": [
    {
     "data": {
      "application/vnd.jupyter.widget-view+json": {
       "model_id": "51c931334eef41459328abbf9840e280",
       "version_major": 2,
       "version_minor": 0
      },
      "text/plain": [
       "_AutoMLWidget(widget_settings={'childWidgetDisplay': 'popup', 'send_telemetry': False, 'log_level': 'INFO', 's…"
      ]
     },
     "metadata": {},
     "output_type": "display_data"
    },
    {
     "data": {
      "application/aml.mini.widget.v1": "{\"status\": \"Completed\", \"workbench_run_details_uri\": \"https://ml.azure.com/experiments/heart-disease-experiment-ml1/runs/AutoML_a44c0534-d182-4428-b34f-1a1e4ddb03c6?wsid=/subscriptions/610d6e37-4747-4a20-80eb-3aad70a55f43/resourcegroups/aml-quickstarts-134454/workspaces/quick-starts-ws-134454\", \"run_id\": \"AutoML_a44c0534-d182-4428-b34f-1a1e4ddb03c6\", \"run_properties\": {\"run_id\": \"AutoML_a44c0534-d182-4428-b34f-1a1e4ddb03c6\", \"created_utc\": \"2021-01-12T15:29:13.260738Z\", \"properties\": {\"num_iterations\": \"1000\", \"training_type\": \"TrainFull\", \"acquisition_function\": \"EI\", \"primary_metric\": \"accuracy\", \"train_split\": \"0\", \"acquisition_parameter\": \"0\", \"num_cross_validation\": null, \"target\": \"auto-ml\", \"AMLSettingsJsonString\": \"{\\\"path\\\":null,\\\"name\\\":\\\"heart-disease-experiment-ml1\\\",\\\"subscription_id\\\":\\\"610d6e37-4747-4a20-80eb-3aad70a55f43\\\",\\\"resource_group\\\":\\\"aml-quickstarts-134454\\\",\\\"workspace_name\\\":\\\"quick-starts-ws-134454\\\",\\\"region\\\":\\\"southcentralus\\\",\\\"compute_target\\\":\\\"auto-ml\\\",\\\"spark_service\\\":null,\\\"azure_service\\\":\\\"remote\\\",\\\"many_models\\\":false,\\\"pipeline_fetch_max_batch_size\\\":1,\\\"iterations\\\":1000,\\\"primary_metric\\\":\\\"accuracy\\\",\\\"task_type\\\":\\\"classification\\\",\\\"data_script\\\":null,\\\"validation_size\\\":0.0,\\\"n_cross_validations\\\":null,\\\"y_min\\\":null,\\\"y_max\\\":null,\\\"num_classes\\\":null,\\\"featurization\\\":\\\"auto\\\",\\\"_ignore_package_version_incompatibilities\\\":false,\\\"is_timeseries\\\":false,\\\"max_cores_per_iteration\\\":1,\\\"max_concurrent_iterations\\\":5,\\\"iteration_timeout_minutes\\\":null,\\\"mem_in_mb\\\":null,\\\"enforce_time_on_windows\\\":false,\\\"experiment_timeout_minutes\\\":15,\\\"experiment_exit_score\\\":null,\\\"whitelist_models\\\":null,\\\"blacklist_algos\\\":[\\\"TensorFlowLinearClassifier\\\",\\\"TensorFlowDNN\\\"],\\\"supported_models\\\":[\\\"XGBoostClassifier\\\",\\\"TensorFlowLinearClassifier\\\",\\\"GradientBoosting\\\",\\\"LogisticRegression\\\",\\\"LightGBM\\\",\\\"SVM\\\",\\\"ExtremeRandomTrees\\\",\\\"MultinomialNaiveBayes\\\",\\\"SGD\\\",\\\"DecisionTree\\\",\\\"TensorFlowDNN\\\",\\\"AveragedPerceptronClassifier\\\",\\\"KNN\\\",\\\"LinearSVM\\\",\\\"BernoulliNaiveBayes\\\",\\\"RandomForest\\\"],\\\"auto_blacklist\\\":true,\\\"blacklist_samples_reached\\\":false,\\\"exclude_nan_labels\\\":true,\\\"verbosity\\\":20,\\\"_debug_log\\\":\\\"azureml_automl.log\\\",\\\"show_warnings\\\":false,\\\"model_explainability\\\":true,\\\"service_url\\\":null,\\\"sdk_url\\\":null,\\\"sdk_packages\\\":null,\\\"enable_onnx_compatible_models\\\":false,\\\"enable_split_onnx_featurizer_estimator_models\\\":false,\\\"vm_type\\\":\\\"STANDARD_D2_V2\\\",\\\"telemetry_verbosity\\\":20,\\\"send_telemetry\\\":true,\\\"enable_dnn\\\":false,\\\"scenario\\\":\\\"SDK-1.13.0\\\",\\\"environment_label\\\":null,\\\"force_text_dnn\\\":false,\\\"enable_feature_sweeping\\\":true,\\\"enable_early_stopping\\\":true,\\\"early_stopping_n_iters\\\":10,\\\"metrics\\\":null,\\\"enable_ensembling\\\":true,\\\"enable_stack_ensembling\\\":true,\\\"ensemble_iterations\\\":15,\\\"enable_tf\\\":false,\\\"enable_subsampling\\\":null,\\\"subsample_seed\\\":null,\\\"enable_nimbusml\\\":false,\\\"enable_streaming\\\":false,\\\"force_streaming\\\":false,\\\"track_child_runs\\\":true,\\\"allowed_private_models\\\":[],\\\"label_column_name\\\":\\\"target\\\",\\\"weight_column_name\\\":null,\\\"cv_split_column_names\\\":null,\\\"enable_local_managed\\\":false,\\\"_local_managed_run_id\\\":null,\\\"cost_mode\\\":1,\\\"lag_length\\\":0,\\\"metric_operation\\\":\\\"maximize\\\",\\\"preprocess\\\":true}\", \"DataPrepJsonString\": \"{\\\\\\\"training_data\\\\\\\": \\\\\\\"{\\\\\\\\\\\\\\\"blocks\\\\\\\\\\\\\\\": [{\\\\\\\\\\\\\\\"id\\\\\\\\\\\\\\\": \\\\\\\\\\\\\\\"15b293ff-08af-4880-abb9-d2ecef7121eb\\\\\\\\\\\\\\\", \\\\\\\\\\\\\\\"type\\\\\\\\\\\\\\\": \\\\\\\\\\\\\\\"Microsoft.DPrep.GetFilesBlock\\\\\\\\\\\\\\\", \\\\\\\\\\\\\\\"arguments\\\\\\\\\\\\\\\": {\\\\\\\\\\\\\\\"isArchive\\\\\\\\\\\\\\\": false, \\\\\\\\\\\\\\\"path\\\\\\\\\\\\\\\": {\\\\\\\\\\\\\\\"target\\\\\\\\\\\\\\\": 4, \\\\\\\\\\\\\\\"resourceDetails\\\\\\\\\\\\\\\": [{\\\\\\\\\\\\\\\"path\\\\\\\\\\\\\\\": \\\\\\\\\\\\\\\"https://raw.githubusercontent.com/SadmiB/Heart-Disease-Prediction/master/heart.csv\\\\\\\\\\\\\\\"}]}}, \\\\\\\\\\\\\\\"localData\\\\\\\\\\\\\\\": {}, \\\\\\\\\\\\\\\"isEnabled\\\\\\\\\\\\\\\": true, \\\\\\\\\\\\\\\"name\\\\\\\\\\\\\\\": null, \\\\\\\\\\\\\\\"annotation\\\\\\\\\\\\\\\": null}, {\\\\\\\\\\\\\\\"id\\\\\\\\\\\\\\\": \\\\\\\\\\\\\\\"b4841e70-ef66-4b34-8ea7-9af46c4810e6\\\\\\\\\\\\\\\", \\\\\\\\\\\\\\\"type\\\\\\\\\\\\\\\": \\\\\\\\\\\\\\\"Microsoft.DPrep.ParseDelimitedBlock\\\\\\\\\\\\\\\", \\\\\\\\\\\\\\\"arguments\\\\\\\\\\\\\\\": {\\\\\\\\\\\\\\\"columnHeadersMode\\\\\\\\\\\\\\\": 3, \\\\\\\\\\\\\\\"fileEncoding\\\\\\\\\\\\\\\": 0, \\\\\\\\\\\\\\\"handleQuotedLineBreaks\\\\\\\\\\\\\\\": false, \\\\\\\\\\\\\\\"preview\\\\\\\\\\\\\\\": false, \\\\\\\\\\\\\\\"separator\\\\\\\\\\\\\\\": \\\\\\\\\\\\\\\",\\\\\\\\\\\\\\\", \\\\\\\\\\\\\\\"skipRows\\\\\\\\\\\\\\\": 0, \\\\\\\\\\\\\\\"skipRowsMode\\\\\\\\\\\\\\\": 0}, \\\\\\\\\\\\\\\"localData\\\\\\\\\\\\\\\": {}, \\\\\\\\\\\\\\\"isEnabled\\\\\\\\\\\\\\\": true, \\\\\\\\\\\\\\\"name\\\\\\\\\\\\\\\": null, \\\\\\\\\\\\\\\"annotation\\\\\\\\\\\\\\\": null}, {\\\\\\\\\\\\\\\"id\\\\\\\\\\\\\\\": \\\\\\\\\\\\\\\"a5ec90d6-0341-42ab-846d-abbb7ccb7abf\\\\\\\\\\\\\\\", \\\\\\\\\\\\\\\"type\\\\\\\\\\\\\\\": \\\\\\\\\\\\\\\"Microsoft.DPrep.DropColumnsBlock\\\\\\\\\\\\\\\", \\\\\\\\\\\\\\\"arguments\\\\\\\\\\\\\\\": {\\\\\\\\\\\\\\\"columns\\\\\\\\\\\\\\\": {\\\\\\\\\\\\\\\"type\\\\\\\\\\\\\\\": 0, \\\\\\\\\\\\\\\"details\\\\\\\\\\\\\\\": {\\\\\\\\\\\\\\\"selectedColumns\\\\\\\\\\\\\\\": [\\\\\\\\\\\\\\\"Path\\\\\\\\\\\\\\\"]}}}, \\\\\\\\\\\\\\\"localData\\\\\\\\\\\\\\\": {}, \\\\\\\\\\\\\\\"isEnabled\\\\\\\\\\\\\\\": true, \\\\\\\\\\\\\\\"name\\\\\\\\\\\\\\\": null, \\\\\\\\\\\\\\\"annotation\\\\\\\\\\\\\\\": null}, {\\\\\\\\\\\\\\\"id\\\\\\\\\\\\\\\": \\\\\\\\\\\\\\\"055ea0ac-0aa7-42ed-a4a0-53f283e3ddbe\\\\\\\\\\\\\\\", \\\\\\\\\\\\\\\"type\\\\\\\\\\\\\\\": \\\\\\\\\\\\\\\"Microsoft.DPrep.SetColumnTypesBlock\\\\\\\\\\\\\\\", \\\\\\\\\\\\\\\"arguments\\\\\\\\\\\\\\\": {\\\\\\\\\\\\\\\"columnConversion\\\\\\\\\\\\\\\": [{\\\\\\\\\\\\\\\"column\\\\\\\\\\\\\\\": {\\\\\\\\\\\\\\\"type\\\\\\\\\\\\\\\": 2, \\\\\\\\\\\\\\\"details\\\\\\\\\\\\\\\": {\\\\\\\\\\\\\\\"selectedColumn\\\\\\\\\\\\\\\": \\\\\\\\\\\\\\\"age\\\\\\\\\\\\\\\"}}, \\\\\\\\\\\\\\\"typeProperty\\\\\\\\\\\\\\\": 2}, {\\\\\\\\\\\\\\\"column\\\\\\\\\\\\\\\": {\\\\\\\\\\\\\\\"type\\\\\\\\\\\\\\\": 2, \\\\\\\\\\\\\\\"details\\\\\\\\\\\\\\\": {\\\\\\\\\\\\\\\"selectedColumn\\\\\\\\\\\\\\\": \\\\\\\\\\\\\\\"sex\\\\\\\\\\\\\\\"}}, \\\\\\\\\\\\\\\"typeProperty\\\\\\\\\\\\\\\": 2}, {\\\\\\\\\\\\\\\"column\\\\\\\\\\\\\\\": {\\\\\\\\\\\\\\\"type\\\\\\\\\\\\\\\": 2, \\\\\\\\\\\\\\\"details\\\\\\\\\\\\\\\": {\\\\\\\\\\\\\\\"selectedColumn\\\\\\\\\\\\\\\": \\\\\\\\\\\\\\\"cp\\\\\\\\\\\\\\\"}}, \\\\\\\\\\\\\\\"typeProperty\\\\\\\\\\\\\\\": 2}, {\\\\\\\\\\\\\\\"column\\\\\\\\\\\\\\\": {\\\\\\\\\\\\\\\"type\\\\\\\\\\\\\\\": 2, \\\\\\\\\\\\\\\"details\\\\\\\\\\\\\\\": {\\\\\\\\\\\\\\\"selectedColumn\\\\\\\\\\\\\\\": \\\\\\\\\\\\\\\"trestbps\\\\\\\\\\\\\\\"}}, \\\\\\\\\\\\\\\"typeProperty\\\\\\\\\\\\\\\": 2}, {\\\\\\\\\\\\\\\"column\\\\\\\\\\\\\\\": {\\\\\\\\\\\\\\\"type\\\\\\\\\\\\\\\": 2, \\\\\\\\\\\\\\\"details\\\\\\\\\\\\\\\": {\\\\\\\\\\\\\\\"selectedColumn\\\\\\\\\\\\\\\": \\\\\\\\\\\\\\\"chol\\\\\\\\\\\\\\\"}}, \\\\\\\\\\\\\\\"typeProperty\\\\\\\\\\\\\\\": 2}, {\\\\\\\\\\\\\\\"column\\\\\\\\\\\\\\\": {\\\\\\\\\\\\\\\"type\\\\\\\\\\\\\\\": 2, \\\\\\\\\\\\\\\"details\\\\\\\\\\\\\\\": {\\\\\\\\\\\\\\\"selectedColumn\\\\\\\\\\\\\\\": \\\\\\\\\\\\\\\"fbs\\\\\\\\\\\\\\\"}}, \\\\\\\\\\\\\\\"typeProperty\\\\\\\\\\\\\\\": 2}, {\\\\\\\\\\\\\\\"column\\\\\\\\\\\\\\\": {\\\\\\\\\\\\\\\"type\\\\\\\\\\\\\\\": 2, \\\\\\\\\\\\\\\"details\\\\\\\\\\\\\\\": {\\\\\\\\\\\\\\\"selectedColumn\\\\\\\\\\\\\\\": \\\\\\\\\\\\\\\"restecg\\\\\\\\\\\\\\\"}}, \\\\\\\\\\\\\\\"typeProperty\\\\\\\\\\\\\\\": 2}, {\\\\\\\\\\\\\\\"column\\\\\\\\\\\\\\\": {\\\\\\\\\\\\\\\"type\\\\\\\\\\\\\\\": 2, \\\\\\\\\\\\\\\"details\\\\\\\\\\\\\\\": {\\\\\\\\\\\\\\\"selectedColumn\\\\\\\\\\\\\\\": \\\\\\\\\\\\\\\"thalach\\\\\\\\\\\\\\\"}}, \\\\\\\\\\\\\\\"typeProperty\\\\\\\\\\\\\\\": 2}, {\\\\\\\\\\\\\\\"column\\\\\\\\\\\\\\\": {\\\\\\\\\\\\\\\"type\\\\\\\\\\\\\\\": 2, \\\\\\\\\\\\\\\"details\\\\\\\\\\\\\\\": {\\\\\\\\\\\\\\\"selectedColumn\\\\\\\\\\\\\\\": \\\\\\\\\\\\\\\"exang\\\\\\\\\\\\\\\"}}, \\\\\\\\\\\\\\\"typeProperty\\\\\\\\\\\\\\\": 2}, {\\\\\\\\\\\\\\\"column\\\\\\\\\\\\\\\": {\\\\\\\\\\\\\\\"type\\\\\\\\\\\\\\\": 2, \\\\\\\\\\\\\\\"details\\\\\\\\\\\\\\\": {\\\\\\\\\\\\\\\"selectedColumn\\\\\\\\\\\\\\\": \\\\\\\\\\\\\\\"oldpeak\\\\\\\\\\\\\\\"}}, \\\\\\\\\\\\\\\"typeProperty\\\\\\\\\\\\\\\": 3}, {\\\\\\\\\\\\\\\"column\\\\\\\\\\\\\\\": {\\\\\\\\\\\\\\\"type\\\\\\\\\\\\\\\": 2, \\\\\\\\\\\\\\\"details\\\\\\\\\\\\\\\": {\\\\\\\\\\\\\\\"selectedColumn\\\\\\\\\\\\\\\": \\\\\\\\\\\\\\\"slope\\\\\\\\\\\\\\\"}}, \\\\\\\\\\\\\\\"typeProperty\\\\\\\\\\\\\\\": 2}, {\\\\\\\\\\\\\\\"column\\\\\\\\\\\\\\\": {\\\\\\\\\\\\\\\"type\\\\\\\\\\\\\\\": 2, \\\\\\\\\\\\\\\"details\\\\\\\\\\\\\\\": {\\\\\\\\\\\\\\\"selectedColumn\\\\\\\\\\\\\\\": \\\\\\\\\\\\\\\"ca\\\\\\\\\\\\\\\"}}, \\\\\\\\\\\\\\\"typeProperty\\\\\\\\\\\\\\\": 2}, {\\\\\\\\\\\\\\\"column\\\\\\\\\\\\\\\": {\\\\\\\\\\\\\\\"type\\\\\\\\\\\\\\\": 2, \\\\\\\\\\\\\\\"details\\\\\\\\\\\\\\\": {\\\\\\\\\\\\\\\"selectedColumn\\\\\\\\\\\\\\\": \\\\\\\\\\\\\\\"thal\\\\\\\\\\\\\\\"}}, \\\\\\\\\\\\\\\"typeProperty\\\\\\\\\\\\\\\": 2}, {\\\\\\\\\\\\\\\"column\\\\\\\\\\\\\\\": {\\\\\\\\\\\\\\\"type\\\\\\\\\\\\\\\": 2, \\\\\\\\\\\\\\\"details\\\\\\\\\\\\\\\": {\\\\\\\\\\\\\\\"selectedColumn\\\\\\\\\\\\\\\": \\\\\\\\\\\\\\\"target\\\\\\\\\\\\\\\"}}, \\\\\\\\\\\\\\\"typeProperty\\\\\\\\\\\\\\\": 2}]}, \\\\\\\\\\\\\\\"localData\\\\\\\\\\\\\\\": {}, \\\\\\\\\\\\\\\"isEnabled\\\\\\\\\\\\\\\": true, \\\\\\\\\\\\\\\"name\\\\\\\\\\\\\\\": null, \\\\\\\\\\\\\\\"annotation\\\\\\\\\\\\\\\": null}], \\\\\\\\\\\\\\\"inspectors\\\\\\\\\\\\\\\": [], \\\\\\\\\\\\\\\"meta\\\\\\\\\\\\\\\": {\\\\\\\\\\\\\\\"savedDatasetId\\\\\\\\\\\\\\\": \\\\\\\\\\\\\\\"1539131c-8738-4ef5-918e-be239af65251\\\\\\\\\\\\\\\", \\\\\\\\\\\\\\\"datasetType\\\\\\\\\\\\\\\": \\\\\\\\\\\\\\\"tabular\\\\\\\\\\\\\\\", \\\\\\\\\\\\\\\"subscriptionId\\\\\\\\\\\\\\\": \\\\\\\\\\\\\\\"610d6e37-4747-4a20-80eb-3aad70a55f43\\\\\\\\\\\\\\\", \\\\\\\\\\\\\\\"workspaceId\\\\\\\\\\\\\\\": \\\\\\\\\\\\\\\"d6f26cc6-67ba-43a1-989c-886c482668a1\\\\\\\\\\\\\\\", \\\\\\\\\\\\\\\"workspaceLocation\\\\\\\\\\\\\\\": \\\\\\\\\\\\\\\"southcentralus\\\\\\\\\\\\\\\"}}\\\\\\\", \\\\\\\"activities\\\\\\\": 0}\", \"EnableSubsampling\": null, \"runTemplate\": \"AutoML\", \"azureml.runsource\": \"automl\", \"display_task_type\": \"classification\", \"dependencies_versions\": \"{\\\"azureml-widgets\\\": \\\"1.19.0\\\", \\\"azureml-train\\\": \\\"1.19.0\\\", \\\"azureml-train-restclients-hyperdrive\\\": \\\"1.19.0\\\", \\\"azureml-train-core\\\": \\\"1.19.0\\\", \\\"azureml-train-automl\\\": \\\"1.19.0\\\", \\\"azureml-train-automl-runtime\\\": \\\"1.19.0\\\", \\\"azureml-train-automl-client\\\": \\\"1.19.0\\\", \\\"azureml-tensorboard\\\": \\\"1.19.0\\\", \\\"azureml-telemetry\\\": \\\"1.19.0\\\", \\\"azureml-sdk\\\": \\\"1.19.0\\\", \\\"azureml-samples\\\": \\\"0+unknown\\\", \\\"azureml-pipeline\\\": \\\"1.19.0\\\", \\\"azureml-pipeline-steps\\\": \\\"1.19.0\\\", \\\"azureml-pipeline-core\\\": \\\"1.19.0\\\", \\\"azureml-opendatasets\\\": \\\"1.19.0\\\", \\\"azureml-model-management-sdk\\\": \\\"1.0.1b6.post1\\\", \\\"azureml-mlflow\\\": \\\"1.19.0\\\", \\\"azureml-interpret\\\": \\\"1.19.0\\\", \\\"azureml-explain-model\\\": \\\"1.19.0\\\", \\\"azureml-defaults\\\": \\\"1.19.0\\\", \\\"azureml-dataset-runtime\\\": \\\"1.19.0\\\", \\\"azureml-dataprep\\\": \\\"2.6.1\\\", \\\"azureml-dataprep-rslex\\\": \\\"1.4.0\\\", \\\"azureml-dataprep-native\\\": \\\"26.0.0\\\", \\\"azureml-datadrift\\\": \\\"1.19.0\\\", \\\"azureml-core\\\": \\\"1.19.0\\\", \\\"azureml-contrib-services\\\": \\\"1.19.0\\\", \\\"azureml-contrib-server\\\": \\\"1.19.0\\\", \\\"azureml-contrib-reinforcementlearning\\\": \\\"1.19.0\\\", \\\"azureml-contrib-pipeline-steps\\\": \\\"1.19.0\\\", \\\"azureml-contrib-notebook\\\": \\\"1.19.0\\\", \\\"azureml-contrib-interpret\\\": \\\"1.19.0\\\", \\\"azureml-contrib-gbdt\\\": \\\"1.19.0\\\", \\\"azureml-contrib-fairness\\\": \\\"1.19.0\\\", \\\"azureml-contrib-dataset\\\": \\\"1.19.0\\\", \\\"azureml-cli-common\\\": \\\"1.19.0\\\", \\\"azureml-automl-runtime\\\": \\\"1.19.0\\\", \\\"azureml-automl-core\\\": \\\"1.19.0\\\", \\\"azureml-accel-models\\\": \\\"1.19.0\\\"}\", \"_aml_system_scenario_identification\": \"Remote.Parent\", \"ClientType\": \"SDK\", \"environment_cpu_name\": \"AzureML-AutoML\", \"environment_cpu_label\": \"prod\", \"environment_gpu_name\": \"AzureML-AutoML-GPU\", \"environment_gpu_label\": \"prod\", \"root_attribution\": \"automl\", \"attribution\": \"AutoML\", \"Orchestrator\": \"AutoML\", \"CancelUri\": \"https://southcentralus.experiments.azureml.net/jasmine/v1.0/subscriptions/610d6e37-4747-4a20-80eb-3aad70a55f43/resourceGroups/aml-quickstarts-134454/providers/Microsoft.MachineLearningServices/workspaces/quick-starts-ws-134454/experimentids/cbab4fd9-d5d1-4847-9839-05ac8ca5b6f7/cancel/AutoML_a44c0534-d182-4428-b34f-1a1e4ddb03c6\", \"ClientSdkVersion\": \"1.19.0\", \"snapshotId\": \"00000000-0000-0000-0000-000000000000\", \"SetupRunId\": \"AutoML_a44c0534-d182-4428-b34f-1a1e4ddb03c6_setup\", \"SetupRunContainerId\": \"dcid.AutoML_a44c0534-d182-4428-b34f-1a1e4ddb03c6_setup\", \"FeaturizationRunJsonPath\": \"featurizer_container.json\", \"FeaturizationRunId\": \"AutoML_a44c0534-d182-4428-b34f-1a1e4ddb03c6_featurize\", \"ProblemInfoJsonString\": \"{\\\"dataset_num_categorical\\\": 0, \\\"is_sparse\\\": false, \\\"subsampling\\\": false, \\\"dataset_classes\\\": 2, \\\"dataset_features\\\": 13, \\\"dataset_samples\\\": 303, \\\"single_frequency_class_detected\\\": false}\", \"ModelExplainRunId\": \"AutoML_a44c0534-d182-4428-b34f-1a1e4ddb03c6_ModelExplain\"}, \"tags\": {\"model_explain_run\": \"best_run\", \"_aml_system_azureml.automlComponent\": \"AutoML\", \"pipeline_id\": \"\", \"score\": \"\", \"predicted_cost\": \"\", \"fit_time\": \"\", \"training_percent\": \"\", \"iteration\": \"\", \"run_preprocessor\": \"\", \"run_algorithm\": \"\", \"dynamic_whitelisting_iterations\": \"<25>;<30>;<35>;<40>;<45>;\", \"automl_best_child_run_id\": \"AutoML_a44c0534-d182-4428-b34f-1a1e4ddb03c6_46\", \"model_explain_best_run_child_id\": \"AutoML_a44c0534-d182-4428-b34f-1a1e4ddb03c6_46\"}, \"end_time_utc\": \"2021-01-12T15:56:34.629892Z\", \"status\": \"Completed\", \"log_files\": {}, \"log_groups\": [], \"run_duration\": \"0:27:21\"}, \"child_runs\": [{\"run_id\": \"AutoML_a44c0534-d182-4428-b34f-1a1e4ddb03c6_0\", \"run_number\": 61, \"metric\": null, \"status\": \"Completed\", \"run_type\": \"azureml.scriptrun\", \"training_percent\": \"100\", \"start_time\": \"2021-01-12T15:42:21.642259Z\", \"end_time\": \"2021-01-12T15:45:43.801748Z\", \"created_time\": \"2021-01-12T15:39:27.459Z\", \"created_time_dt\": \"2021-01-12T15:39:27.459Z\", \"duration\": \"0:06:16\", \"iteration\": \"0\", \"goal\": \"accuracy_max\", \"run_name\": \"MaxAbsScaler, LightGBM\", \"run_properties\": \"copy=True\", \"primary_metric\": 0.80827957, \"best_metric\": 0.80827957}, {\"run_id\": \"AutoML_a44c0534-d182-4428-b34f-1a1e4ddb03c6_3\", \"run_number\": 62, \"metric\": null, \"status\": \"Completed\", \"run_type\": \"azureml.scriptrun\", \"training_percent\": \"100\", \"start_time\": \"2021-01-12T15:40:31.078947Z\", \"end_time\": \"2021-01-12T15:41:20.946162Z\", \"created_time\": \"2021-01-12T15:39:27.565426Z\", \"created_time_dt\": \"2021-01-12T15:39:27.565426Z\", \"duration\": \"0:01:53\", \"iteration\": \"3\", \"goal\": \"accuracy_max\", \"run_name\": \"MinMaxScaler, RandomForest\", \"run_properties\": \"copy=True, feature_range=(0, 1\", \"primary_metric\": 0.8244086, \"best_metric\": 0.82483871}, {\"run_id\": \"AutoML_a44c0534-d182-4428-b34f-1a1e4ddb03c6_2\", \"run_number\": 63, \"metric\": null, \"status\": \"Completed\", \"run_type\": \"azureml.scriptrun\", \"training_percent\": \"100\", \"start_time\": \"2021-01-12T15:39:40.068378Z\", \"end_time\": \"2021-01-12T15:40:27.719138Z\", \"created_time\": \"2021-01-12T15:39:27.563517Z\", \"created_time_dt\": \"2021-01-12T15:39:27.563517Z\", \"duration\": \"0:01:00\", \"iteration\": \"2\", \"goal\": \"accuracy_max\", \"run_name\": \"MinMaxScaler, RandomForest\", \"run_properties\": \"copy=True, feature_range=(0, 1\", \"primary_metric\": 0.82483871, \"best_metric\": 0.82483871}, {\"run_id\": \"AutoML_a44c0534-d182-4428-b34f-1a1e4ddb03c6_4\", \"run_number\": 64, \"metric\": null, \"status\": \"Completed\", \"run_type\": \"azureml.scriptrun\", \"training_percent\": \"100\", \"start_time\": \"2021-01-12T15:41:24.09625Z\", \"end_time\": \"2021-01-12T15:42:09.567243Z\", \"created_time\": \"2021-01-12T15:39:27.60918Z\", \"created_time_dt\": \"2021-01-12T15:39:27.60918Z\", \"duration\": \"0:02:41\", \"iteration\": \"4\", \"goal\": \"accuracy_max\", \"run_name\": \"MinMaxScaler, RandomForest\", \"run_properties\": \"copy=True, feature_range=(0, 1\", \"primary_metric\": 0.82817204, \"best_metric\": 0.82817204}, {\"run_id\": \"AutoML_a44c0534-d182-4428-b34f-1a1e4ddb03c6_1\", \"run_number\": 65, \"metric\": null, \"status\": \"Completed\", \"run_type\": \"azureml.scriptrun\", \"training_percent\": \"100\", \"start_time\": \"2021-01-12T15:42:12.821857Z\", \"end_time\": \"2021-01-12T15:43:02.267498Z\", \"created_time\": \"2021-01-12T15:39:27.546911Z\", \"created_time_dt\": \"2021-01-12T15:39:27.546911Z\", \"duration\": \"0:03:34\", \"iteration\": \"1\", \"goal\": \"accuracy_max\", \"run_name\": \"MaxAbsScaler, XGBoostClassifier\", \"run_properties\": \"copy=True\", \"primary_metric\": 0.81129032, \"best_metric\": 0.81129032}, {\"run_id\": \"AutoML_a44c0534-d182-4428-b34f-1a1e4ddb03c6_5\", \"run_number\": 66, \"metric\": null, \"status\": \"Completed\", \"run_type\": \"azureml.scriptrun\", \"training_percent\": \"100\", \"start_time\": \"2021-01-12T15:42:22.87954Z\", \"end_time\": \"2021-01-12T15:45:47.419516Z\", \"created_time\": \"2021-01-12T15:40:31.215589Z\", \"created_time_dt\": \"2021-01-12T15:40:31.215589Z\", \"duration\": \"0:05:16\", \"iteration\": \"5\", \"goal\": \"accuracy_max\", \"run_name\": \"SparseNormalizer, XGBoostClassifier\", \"run_properties\": \"<azureml.automl.runtime.shared.model_wrappers.SparseNormalizer object at 0x7ff1a305da58\", \"primary_metric\": 0.81784946, \"best_metric\": 0.82817204}, {\"run_id\": \"AutoML_a44c0534-d182-4428-b34f-1a1e4ddb03c6_6\", \"run_number\": 67, \"metric\": null, \"status\": \"Completed\", \"run_type\": \"azureml.scriptrun\", \"training_percent\": \"100\", \"start_time\": \"2021-01-12T15:42:22.390865Z\", \"end_time\": \"2021-01-12T15:46:06.368501Z\", \"created_time\": \"2021-01-12T15:41:23.462589Z\", \"created_time_dt\": \"2021-01-12T15:41:23.462589Z\", \"duration\": \"0:04:42\", \"iteration\": \"6\", \"goal\": \"accuracy_max\", \"run_name\": \"MinMaxScaler, SVM\", \"run_properties\": \"copy=True, feature_range=(0, 1\", \"primary_metric\": 0.7883871, \"best_metric\": 0.82817204}, {\"run_id\": \"AutoML_a44c0534-d182-4428-b34f-1a1e4ddb03c6_7\", \"run_number\": 68, \"metric\": null, \"status\": \"Completed\", \"run_type\": \"azureml.scriptrun\", \"training_percent\": \"100\", \"start_time\": \"2021-01-12T15:43:07.150459Z\", \"end_time\": \"2021-01-12T15:43:55.514969Z\", \"created_time\": \"2021-01-12T15:42:12.798911Z\", \"created_time_dt\": \"2021-01-12T15:42:12.798911Z\", \"duration\": \"0:01:42\", \"iteration\": \"7\", \"goal\": \"accuracy_max\", \"run_name\": \"SparseNormalizer, XGBoostClassifier\", \"run_properties\": \"<azureml.automl.runtime.shared.model_wrappers.SparseNormalizer object at 0x7fcf46518780\", \"primary_metric\": 0.80784946, \"best_metric\": 0.82817204}, {\"run_id\": \"AutoML_a44c0534-d182-4428-b34f-1a1e4ddb03c6_8\", \"run_number\": 69, \"metric\": null, \"status\": \"Completed\", \"run_type\": \"azureml.scriptrun\", \"training_percent\": \"100\", \"start_time\": \"2021-01-12T15:43:55.830728Z\", \"end_time\": \"2021-01-12T15:44:50.031148Z\", \"created_time\": \"2021-01-12T15:43:04.58209Z\", \"created_time_dt\": \"2021-01-12T15:43:04.58209Z\", \"duration\": \"0:01:45\", \"iteration\": \"8\", \"goal\": \"accuracy_max\", \"run_name\": \"SparseNormalizer, XGBoostClassifier\", \"run_properties\": \"<azureml.automl.runtime.shared.model_wrappers.SparseNormalizer object at 0x7fc8cf422fd0\", \"primary_metric\": 0.82107527, \"best_metric\": 0.82817204}, {\"run_id\": \"AutoML_a44c0534-d182-4428-b34f-1a1e4ddb03c6_9\", \"run_number\": 70, \"metric\": null, \"status\": \"Completed\", \"run_type\": \"azureml.scriptrun\", \"training_percent\": \"100\", \"start_time\": \"2021-01-12T15:44:50.677586Z\", \"end_time\": \"2021-01-12T15:45:48.552069Z\", \"created_time\": \"2021-01-12T15:43:58.74795Z\", \"created_time_dt\": \"2021-01-12T15:43:58.74795Z\", \"duration\": \"0:01:49\", \"iteration\": \"9\", \"goal\": \"accuracy_max\", \"run_name\": \"MaxAbsScaler, GradientBoosting\", \"run_properties\": \"copy=True\", \"primary_metric\": 0.83462366, \"best_metric\": 0.83462366}, {\"run_id\": \"AutoML_a44c0534-d182-4428-b34f-1a1e4ddb03c6_10\", \"run_number\": 71, \"metric\": null, \"status\": \"Completed\", \"run_type\": \"azureml.scriptrun\", \"training_percent\": \"100\", \"start_time\": \"2021-01-12T15:45:46.313776Z\", \"end_time\": \"2021-01-12T15:46:44.453048Z\", \"created_time\": \"2021-01-12T15:44:52.728777Z\", \"created_time_dt\": \"2021-01-12T15:44:52.728777Z\", \"duration\": \"0:01:51\", \"iteration\": \"10\", \"goal\": \"accuracy_max\", \"run_name\": \"RobustScaler, SVM\", \"run_properties\": \"copy=True, quantile_range=[10, 90], with_centering=True,\\n             with_scaling=True\", \"primary_metric\": 0.78817204, \"best_metric\": 0.83462366}, {\"run_id\": \"AutoML_a44c0534-d182-4428-b34f-1a1e4ddb03c6_11\", \"run_number\": 72, \"metric\": null, \"status\": \"Completed\", \"run_type\": \"azureml.scriptrun\", \"training_percent\": \"100\", \"start_time\": \"2021-01-12T15:46:04.146944Z\", \"end_time\": \"2021-01-12T15:46:50.032663Z\", \"created_time\": \"2021-01-12T15:45:47.598205Z\", \"created_time_dt\": \"2021-01-12T15:45:47.598205Z\", \"duration\": \"0:01:02\", \"iteration\": \"11\", \"goal\": \"accuracy_max\", \"run_name\": \"StandardScalerWrapper, RandomForest\", \"run_properties\": \"<azureml.automl.runtime.shared.model_wrappers.StandardScalerWrapper object at 0x7fe8a864a780\", \"primary_metric\": 0.85086022, \"best_metric\": 0.85086022}, {\"run_id\": \"AutoML_a44c0534-d182-4428-b34f-1a1e4ddb03c6_12\", \"run_number\": 73, \"metric\": null, \"status\": \"Completed\", \"run_type\": \"azureml.scriptrun\", \"training_percent\": \"100\", \"start_time\": \"2021-01-12T15:46:08.934686Z\", \"end_time\": \"2021-01-12T15:47:05.498967Z\", \"created_time\": \"2021-01-12T15:45:55.366311Z\", \"created_time_dt\": \"2021-01-12T15:45:55.366311Z\", \"duration\": \"0:01:10\", \"iteration\": \"12\", \"goal\": \"accuracy_max\", \"run_name\": \"StandardScalerWrapper, LogisticRegression\", \"run_properties\": \"<azureml.automl.runtime.shared.model_wrappers.StandardScalerWrapper object at 0x7fcb787bc908\", \"primary_metric\": 0.8216129, \"best_metric\": 0.85086022}, {\"run_id\": \"AutoML_a44c0534-d182-4428-b34f-1a1e4ddb03c6_13\", \"run_number\": 74, \"metric\": null, \"status\": \"Completed\", \"run_type\": \"azureml.scriptrun\", \"training_percent\": \"100\", \"start_time\": \"2021-01-12T15:46:06.80559Z\", \"end_time\": \"2021-01-12T15:46:45.833125Z\", \"created_time\": \"2021-01-12T15:45:55.458272Z\", \"created_time_dt\": \"2021-01-12T15:45:55.458272Z\", \"duration\": \"0:00:50\", \"iteration\": \"13\", \"goal\": \"accuracy_max\", \"run_name\": \"MaxAbsScaler, LogisticRegression\", \"run_properties\": \"copy=True\", \"primary_metric\": 0.8316129, \"best_metric\": 0.85086022}, {\"run_id\": \"AutoML_a44c0534-d182-4428-b34f-1a1e4ddb03c6_14\", \"run_number\": 75, \"metric\": null, \"status\": \"Completed\", \"run_type\": \"azureml.scriptrun\", \"training_percent\": \"100\", \"start_time\": \"2021-01-12T15:46:48.662615Z\", \"end_time\": \"2021-01-12T15:47:39.48745Z\", \"created_time\": \"2021-01-12T15:46:08.740177Z\", \"created_time_dt\": \"2021-01-12T15:46:08.740177Z\", \"duration\": \"0:01:30\", \"iteration\": \"14\", \"goal\": \"accuracy_max\", \"run_name\": \"MaxAbsScaler, LightGBM\", \"run_properties\": \"copy=True\", \"primary_metric\": 0.81182796, \"best_metric\": 0.85086022}, {\"run_id\": \"AutoML_a44c0534-d182-4428-b34f-1a1e4ddb03c6_15\", \"run_number\": 76, \"metric\": null, \"status\": \"Completed\", \"run_type\": \"azureml.scriptrun\", \"training_percent\": \"100\", \"start_time\": \"2021-01-12T15:47:01.71815Z\", \"end_time\": \"2021-01-12T15:47:43.803862Z\", \"created_time\": \"2021-01-12T15:46:46.943398Z\", \"created_time_dt\": \"2021-01-12T15:46:46.943398Z\", \"duration\": \"0:00:56\", \"iteration\": \"15\", \"goal\": \"accuracy_max\", \"run_name\": \"MaxAbsScaler, LightGBM\", \"run_properties\": \"copy=True\", \"primary_metric\": 0.82827957, \"best_metric\": 0.85086022}, {\"run_id\": \"AutoML_a44c0534-d182-4428-b34f-1a1e4ddb03c6_16\", \"run_number\": 77, \"metric\": null, \"status\": \"Completed\", \"run_type\": \"azureml.scriptrun\", \"training_percent\": \"100\", \"start_time\": \"2021-01-12T15:47:06.04069Z\", \"end_time\": \"2021-01-12T15:47:49.280647Z\", \"created_time\": \"2021-01-12T15:46:52.554762Z\", \"created_time_dt\": \"2021-01-12T15:46:52.554762Z\", \"duration\": \"0:00:56\", \"iteration\": \"16\", \"goal\": \"accuracy_max\", \"run_name\": \"StandardScalerWrapper, LightGBM\", \"run_properties\": \"<azureml.automl.runtime.shared.model_wrappers.StandardScalerWrapper object at 0x7fe84f8f9860\", \"primary_metric\": 0.84129032, \"best_metric\": 0.85086022}, {\"run_id\": \"AutoML_a44c0534-d182-4428-b34f-1a1e4ddb03c6_17\", \"run_number\": 78, \"metric\": null, \"status\": \"Completed\", \"run_type\": \"azureml.scriptrun\", \"training_percent\": \"100\", \"start_time\": \"2021-01-12T15:47:06.962076Z\", \"end_time\": \"2021-01-12T15:48:05.085733Z\", \"created_time\": \"2021-01-12T15:46:52.574069Z\", \"created_time_dt\": \"2021-01-12T15:46:52.574069Z\", \"duration\": \"0:01:12\", \"iteration\": \"17\", \"goal\": \"accuracy_max\", \"run_name\": \"SparseNormalizer, XGBoostClassifier\", \"run_properties\": \"<azureml.automl.runtime.shared.model_wrappers.SparseNormalizer object at 0x7fd8d8086e10\", \"primary_metric\": 0.83129032, \"best_metric\": 0.85086022}, {\"run_id\": \"AutoML_a44c0534-d182-4428-b34f-1a1e4ddb03c6_18\", \"run_number\": 79, \"metric\": null, \"status\": \"Completed\", \"run_type\": \"azureml.scriptrun\", \"training_percent\": \"100\", \"start_time\": \"2021-01-12T15:47:40.393941Z\", \"end_time\": \"2021-01-12T15:48:25.691275Z\", \"created_time\": \"2021-01-12T15:47:07.705611Z\", \"created_time_dt\": \"2021-01-12T15:47:07.705611Z\", \"duration\": \"0:01:17\", \"iteration\": \"18\", \"goal\": \"accuracy_max\", \"run_name\": \"SparseNormalizer, XGBoostClassifier\", \"run_properties\": \"<azureml.automl.runtime.shared.model_wrappers.SparseNormalizer object at 0x7fac02170160\", \"primary_metric\": 0.81784946, \"best_metric\": 0.85086022}, {\"run_id\": \"AutoML_a44c0534-d182-4428-b34f-1a1e4ddb03c6_19\", \"run_number\": 80, \"metric\": null, \"status\": \"Completed\", \"run_type\": \"azureml.scriptrun\", \"training_percent\": \"100\", \"start_time\": \"2021-01-12T15:47:54.920328Z\", \"end_time\": \"2021-01-12T15:48:32.989461Z\", \"created_time\": \"2021-01-12T15:47:41.753634Z\", \"created_time_dt\": \"2021-01-12T15:47:41.753634Z\", \"duration\": \"0:00:51\", \"iteration\": \"19\", \"goal\": \"accuracy_max\", \"run_name\": \"StandardScalerWrapper, LightGBM\", \"run_properties\": \"<azureml.automl.runtime.shared.model_wrappers.StandardScalerWrapper object at 0x7fb9c00dcc88\", \"primary_metric\": 0.82139785, \"best_metric\": 0.85086022}, {\"run_id\": \"AutoML_a44c0534-d182-4428-b34f-1a1e4ddb03c6_20\", \"run_number\": 81, \"metric\": null, \"status\": \"Completed\", \"run_type\": \"azureml.scriptrun\", \"training_percent\": \"100\", \"start_time\": \"2021-01-12T15:47:59.134938Z\", \"end_time\": \"2021-01-12T15:48:41.989468Z\", \"created_time\": \"2021-01-12T15:47:46.679782Z\", \"created_time_dt\": \"2021-01-12T15:47:46.679782Z\", \"duration\": \"0:00:55\", \"iteration\": \"20\", \"goal\": \"accuracy_max\", \"run_name\": \"SparseNormalizer, GradientBoosting\", \"run_properties\": \"<azureml.automl.runtime.shared.model_wrappers.SparseNormalizer object at 0x7f1f62acbb38\", \"primary_metric\": 0.84150538, \"best_metric\": 0.85086022}, {\"run_id\": \"AutoML_a44c0534-d182-4428-b34f-1a1e4ddb03c6_21\", \"run_number\": 82, \"metric\": null, \"status\": \"Completed\", \"run_type\": \"azureml.scriptrun\", \"training_percent\": \"100\", \"start_time\": \"2021-01-12T15:48:07.685113Z\", \"end_time\": \"2021-01-12T15:48:49.829381Z\", \"created_time\": \"2021-01-12T15:47:51.387033Z\", \"created_time_dt\": \"2021-01-12T15:47:51.387033Z\", \"duration\": \"0:00:58\", \"iteration\": \"21\", \"goal\": \"accuracy_max\", \"run_name\": \"StandardScalerWrapper, LightGBM\", \"run_properties\": \"<azureml.automl.runtime.shared.model_wrappers.StandardScalerWrapper object at 0x7f5ba8aeaac8\", \"primary_metric\": 0.80494624, \"best_metric\": 0.85086022}, {\"run_id\": \"AutoML_a44c0534-d182-4428-b34f-1a1e4ddb03c6_22\", \"run_number\": 83, \"metric\": null, \"status\": \"Completed\", \"run_type\": \"azureml.scriptrun\", \"training_percent\": \"100\", \"start_time\": \"2021-01-12T15:48:28.0707Z\", \"end_time\": \"2021-01-12T15:49:12.849453Z\", \"created_time\": \"2021-01-12T15:48:07.447549Z\", \"created_time_dt\": \"2021-01-12T15:48:07.447549Z\", \"duration\": \"0:01:05\", \"iteration\": \"22\", \"goal\": \"accuracy_max\", \"run_name\": \"MinMaxScaler, LightGBM\", \"run_properties\": \"copy=True, feature_range=(0, 1\", \"primary_metric\": 0.82795699, \"best_metric\": 0.85086022}, {\"run_id\": \"AutoML_a44c0534-d182-4428-b34f-1a1e4ddb03c6_23\", \"run_number\": 84, \"metric\": null, \"status\": \"Completed\", \"run_type\": \"azureml.scriptrun\", \"training_percent\": \"100\", \"start_time\": \"2021-01-12T15:48:41.885206Z\", \"end_time\": \"2021-01-12T15:49:30.66672Z\", \"created_time\": \"2021-01-12T15:48:29.131763Z\", \"created_time_dt\": \"2021-01-12T15:48:29.131763Z\", \"duration\": \"0:01:01\", \"iteration\": \"23\", \"goal\": \"accuracy_max\", \"run_name\": \"MaxAbsScaler, ExtremeRandomTrees\", \"run_properties\": \"copy=True\", \"primary_metric\": 0.82139785, \"best_metric\": 0.85086022}, {\"run_id\": \"AutoML_a44c0534-d182-4428-b34f-1a1e4ddb03c6_24\", \"run_number\": 85, \"metric\": null, \"status\": \"Completed\", \"run_type\": \"azureml.scriptrun\", \"training_percent\": \"100\", \"start_time\": \"2021-01-12T15:48:48.364181Z\", \"end_time\": \"2021-01-12T15:49:35.439988Z\", \"created_time\": \"2021-01-12T15:48:36.162448Z\", \"created_time_dt\": \"2021-01-12T15:48:36.162448Z\", \"duration\": \"0:00:59\", \"iteration\": \"24\", \"goal\": \"accuracy_max\", \"run_name\": \"SparseNormalizer, XGBoostClassifier\", \"run_properties\": \"<azureml.automl.runtime.shared.model_wrappers.SparseNormalizer object at 0x7ff67000dcf8\", \"primary_metric\": 0.80817204, \"best_metric\": 0.85086022}, {\"run_id\": \"AutoML_a44c0534-d182-4428-b34f-1a1e4ddb03c6_25\", \"run_number\": 86, \"metric\": null, \"status\": \"Completed\", \"run_type\": \"azureml.scriptrun\", \"training_percent\": \"100\", \"start_time\": \"2021-01-12T15:49:01.947714Z\", \"end_time\": \"2021-01-12T15:49:50.920708Z\", \"created_time\": \"2021-01-12T15:48:50.414095Z\", \"created_time_dt\": \"2021-01-12T15:48:50.414095Z\", \"duration\": \"0:01:00\", \"iteration\": \"25\", \"goal\": \"accuracy_max\", \"run_name\": \"MinMaxScaler, RandomForest\", \"run_properties\": \"copy=True, feature_range=(0, 1\", \"primary_metric\": 0.82462366, \"best_metric\": 0.85086022}, {\"run_id\": \"AutoML_a44c0534-d182-4428-b34f-1a1e4ddb03c6_26\", \"run_number\": 87, \"metric\": null, \"status\": \"Completed\", \"run_type\": \"azureml.scriptrun\", \"training_percent\": \"100\", \"start_time\": \"2021-01-12T15:49:18.769174Z\", \"end_time\": \"2021-01-12T15:50:04.734946Z\", \"created_time\": \"2021-01-12T15:48:59.987913Z\", \"created_time_dt\": \"2021-01-12T15:48:59.987913Z\", \"duration\": \"0:01:04\", \"iteration\": \"26\", \"goal\": \"accuracy_max\", \"run_name\": \"StandardScalerWrapper, LightGBM\", \"run_properties\": \"<azureml.automl.runtime.shared.model_wrappers.StandardScalerWrapper object at 0x7f847a2e20b8\", \"primary_metric\": 0.83150538, \"best_metric\": 0.85086022}, {\"run_id\": \"AutoML_a44c0534-d182-4428-b34f-1a1e4ddb03c6_27\", \"run_number\": 88, \"metric\": null, \"status\": \"Completed\", \"run_type\": \"azureml.scriptrun\", \"training_percent\": \"100\", \"start_time\": \"2021-01-12T15:49:33.763654Z\", \"end_time\": \"2021-01-12T15:50:34.07162Z\", \"created_time\": \"2021-01-12T15:49:14.932473Z\", \"created_time_dt\": \"2021-01-12T15:49:14.932473Z\", \"duration\": \"0:01:19\", \"iteration\": \"27\", \"goal\": \"accuracy_max\", \"run_name\": \"RobustScaler, LightGBM\", \"run_properties\": \"copy=True, quantile_range=[25, 75], with_centering=False,\\n             with_scaling=False\", \"primary_metric\": 0.81806452, \"best_metric\": 0.85086022}, {\"run_id\": \"AutoML_a44c0534-d182-4428-b34f-1a1e4ddb03c6_28\", \"run_number\": 89, \"metric\": null, \"status\": \"Completed\", \"run_type\": \"azureml.scriptrun\", \"training_percent\": \"100\", \"start_time\": \"2021-01-12T15:49:46.282291Z\", \"end_time\": \"2021-01-12T15:50:41.49251Z\", \"created_time\": \"2021-01-12T15:49:34.008065Z\", \"created_time_dt\": \"2021-01-12T15:49:34.008065Z\", \"duration\": \"0:01:07\", \"iteration\": \"28\", \"goal\": \"accuracy_max\", \"run_name\": \"StandardScalerWrapper, RandomForest\", \"run_properties\": \"<azureml.automl.runtime.shared.model_wrappers.StandardScalerWrapper object at 0x7f18fdcb9e48\", \"primary_metric\": 0.82150538, \"best_metric\": 0.85086022}, {\"run_id\": \"AutoML_a44c0534-d182-4428-b34f-1a1e4ddb03c6_29\", \"run_number\": 90, \"metric\": null, \"status\": \"Completed\", \"run_type\": \"azureml.scriptrun\", \"training_percent\": \"100\", \"start_time\": \"2021-01-12T15:49:53.965444Z\", \"end_time\": \"2021-01-12T15:50:40.775854Z\", \"created_time\": \"2021-01-12T15:49:38.321589Z\", \"created_time_dt\": \"2021-01-12T15:49:38.321589Z\", \"duration\": \"0:01:02\", \"iteration\": \"29\", \"goal\": \"accuracy_max\", \"run_name\": \"SparseNormalizer, RandomForest\", \"run_properties\": \"<azureml.automl.runtime.shared.model_wrappers.SparseNormalizer object at 0x7eff184594a8\", \"primary_metric\": 0.85430108, \"best_metric\": 0.85430108}, {\"run_id\": \"AutoML_a44c0534-d182-4428-b34f-1a1e4ddb03c6_30\", \"run_number\": 91, \"metric\": null, \"status\": \"Completed\", \"run_type\": \"azureml.scriptrun\", \"training_percent\": \"100\", \"start_time\": \"2021-01-12T15:50:08.610019Z\", \"end_time\": \"2021-01-12T15:50:57.932364Z\", \"created_time\": \"2021-01-12T15:49:54.431082Z\", \"created_time_dt\": \"2021-01-12T15:49:54.431082Z\", \"duration\": \"0:01:03\", \"iteration\": \"30\", \"goal\": \"accuracy_max\", \"run_name\": \"MaxAbsScaler, RandomForest\", \"run_properties\": \"copy=True\", \"primary_metric\": 0.78827957, \"best_metric\": 0.85430108}, {\"run_id\": \"AutoML_a44c0534-d182-4428-b34f-1a1e4ddb03c6_31\", \"run_number\": 92, \"metric\": null, \"status\": \"Completed\", \"run_type\": \"azureml.scriptrun\", \"training_percent\": \"100\", \"start_time\": \"2021-01-12T15:50:37.449757Z\", \"end_time\": \"2021-01-12T15:51:36.03019Z\", \"created_time\": \"2021-01-12T15:50:07.147757Z\", \"created_time_dt\": \"2021-01-12T15:50:07.147757Z\", \"duration\": \"0:01:28\", \"iteration\": \"31\", \"goal\": \"accuracy_max\", \"run_name\": \"MinMaxScaler, LightGBM\", \"run_properties\": \"copy=True, feature_range=(0, 1\", \"primary_metric\": 0.8216129, \"best_metric\": 0.85430108}, {\"run_id\": \"AutoML_a44c0534-d182-4428-b34f-1a1e4ddb03c6_32\", \"run_number\": 93, \"metric\": null, \"status\": \"Completed\", \"run_type\": \"azureml.scriptrun\", \"training_percent\": \"100\", \"start_time\": \"2021-01-12T15:50:53.420264Z\", \"end_time\": \"2021-01-12T15:51:37.797777Z\", \"created_time\": \"2021-01-12T15:50:39.265456Z\", \"created_time_dt\": \"2021-01-12T15:50:39.265456Z\", \"duration\": \"0:00:58\", \"iteration\": \"32\", \"goal\": \"accuracy_max\", \"run_name\": \"MaxAbsScaler, LightGBM\", \"run_properties\": \"copy=True\", \"primary_metric\": 0.82795699, \"best_metric\": 0.85430108}, {\"run_id\": \"AutoML_a44c0534-d182-4428-b34f-1a1e4ddb03c6_33\", \"run_number\": 94, \"metric\": null, \"status\": \"Completed\", \"run_type\": \"azureml.scriptrun\", \"training_percent\": \"100\", \"start_time\": \"2021-01-12T15:50:56.159323Z\", \"end_time\": \"2021-01-12T15:51:45.04105Z\", \"created_time\": \"2021-01-12T15:50:45.03567Z\", \"created_time_dt\": \"2021-01-12T15:50:45.03567Z\", \"duration\": \"0:01:00\", \"iteration\": \"33\", \"goal\": \"accuracy_max\", \"run_name\": \"MaxAbsScaler, LightGBM\", \"run_properties\": \"copy=True\", \"primary_metric\": 0.81817204, \"best_metric\": 0.85430108}, {\"run_id\": \"AutoML_a44c0534-d182-4428-b34f-1a1e4ddb03c6_34\", \"run_number\": 95, \"metric\": null, \"status\": \"Completed\", \"run_type\": \"azureml.scriptrun\", \"training_percent\": \"100\", \"start_time\": \"2021-01-12T15:51:02.445548Z\", \"end_time\": \"2021-01-12T15:51:43.434072Z\", \"created_time\": \"2021-01-12T15:50:45.189366Z\", \"created_time_dt\": \"2021-01-12T15:50:45.189366Z\", \"duration\": \"0:00:58\", \"iteration\": \"34\", \"goal\": \"accuracy_max\", \"run_name\": \"StandardScalerWrapper, LogisticRegression\", \"run_properties\": \"<azureml.automl.runtime.shared.model_wrappers.StandardScalerWrapper object at 0x7f466aa57e10\", \"primary_metric\": 0.82817204, \"best_metric\": 0.85430108}, {\"run_id\": \"AutoML_a44c0534-d182-4428-b34f-1a1e4ddb03c6_35\", \"run_number\": 96, \"metric\": null, \"status\": \"Completed\", \"run_type\": \"azureml.scriptrun\", \"training_percent\": \"100\", \"start_time\": \"2021-01-12T15:51:40.159776Z\", \"end_time\": \"2021-01-12T15:52:31.548791Z\", \"created_time\": \"2021-01-12T15:51:06.167634Z\", \"created_time_dt\": \"2021-01-12T15:51:06.167634Z\", \"duration\": \"0:01:25\", \"iteration\": \"35\", \"goal\": \"accuracy_max\", \"run_name\": \"SparseNormalizer, RandomForest\", \"run_properties\": \"<azureml.automl.runtime.shared.model_wrappers.SparseNormalizer object at 0x7f75e829cc18\", \"primary_metric\": 0.82795699, \"best_metric\": 0.85430108}, {\"run_id\": \"AutoML_a44c0534-d182-4428-b34f-1a1e4ddb03c6_36\", \"run_number\": 97, \"metric\": null, \"status\": \"Completed\", \"run_type\": \"azureml.scriptrun\", \"training_percent\": \"100\", \"start_time\": \"2021-01-12T15:51:51.886174Z\", \"end_time\": \"2021-01-12T15:52:34.286265Z\", \"created_time\": \"2021-01-12T15:51:38.777638Z\", \"created_time_dt\": \"2021-01-12T15:51:38.777638Z\", \"duration\": \"0:00:55\", \"iteration\": \"36\", \"goal\": \"accuracy_max\", \"run_name\": \"StandardScalerWrapper, LightGBM\", \"run_properties\": \"<azureml.automl.runtime.shared.model_wrappers.StandardScalerWrapper object at 0x7f596f761da0\", \"primary_metric\": 0.81505376, \"best_metric\": 0.85430108}, {\"run_id\": \"AutoML_a44c0534-d182-4428-b34f-1a1e4ddb03c6_37\", \"run_number\": 98, \"metric\": null, \"status\": \"Completed\", \"run_type\": \"azureml.scriptrun\", \"training_percent\": \"100\", \"start_time\": \"2021-01-12T15:51:55.740211Z\", \"end_time\": \"2021-01-12T15:52:41.36331Z\", \"created_time\": \"2021-01-12T15:51:43.762989Z\", \"created_time_dt\": \"2021-01-12T15:51:43.762989Z\", \"duration\": \"0:00:57\", \"iteration\": \"37\", \"goal\": \"accuracy_max\", \"run_name\": \"SparseNormalizer, LightGBM\", \"run_properties\": \"<azureml.automl.runtime.shared.model_wrappers.SparseNormalizer object at 0x7faee85837f0\", \"primary_metric\": 0.82473118, \"best_metric\": 0.85430108}, {\"run_id\": \"AutoML_a44c0534-d182-4428-b34f-1a1e4ddb03c6_39\", \"run_number\": 99, \"metric\": null, \"status\": \"Completed\", \"run_type\": \"azureml.scriptrun\", \"training_percent\": \"100\", \"start_time\": \"2021-01-12T15:52:35.961523Z\", \"end_time\": \"2021-01-12T15:53:17.692168Z\", \"created_time\": \"2021-01-12T15:51:50.155828Z\", \"created_time_dt\": \"2021-01-12T15:51:50.155828Z\", \"duration\": \"0:01:27\", \"iteration\": \"39\", \"goal\": \"accuracy_max\", \"run_name\": \"SparseNormalizer, LightGBM\", \"run_properties\": \"<azureml.automl.runtime.shared.model_wrappers.SparseNormalizer object at 0x7f4ae89e8198\", \"primary_metric\": 0.82129032, \"best_metric\": 0.85430108}, {\"run_id\": \"AutoML_a44c0534-d182-4428-b34f-1a1e4ddb03c6_38\", \"run_number\": 100, \"metric\": null, \"status\": \"Completed\", \"run_type\": \"azureml.scriptrun\", \"training_percent\": \"100\", \"start_time\": \"2021-01-12T15:52:01.617667Z\", \"end_time\": \"2021-01-12T15:52:52.143856Z\", \"created_time\": \"2021-01-12T15:51:50.168262Z\", \"created_time_dt\": \"2021-01-12T15:51:50.168262Z\", \"duration\": \"0:01:01\", \"iteration\": \"38\", \"goal\": \"accuracy_max\", \"run_name\": \"SparseNormalizer, RandomForest\", \"run_properties\": \"<azureml.automl.runtime.shared.model_wrappers.SparseNormalizer object at 0x7f285accf240\", \"primary_metric\": 0.79817204, \"best_metric\": 0.85430108}, {\"run_id\": \"AutoML_a44c0534-d182-4428-b34f-1a1e4ddb03c6_40\", \"run_number\": 101, \"metric\": null, \"status\": \"Completed\", \"run_type\": \"azureml.scriptrun\", \"training_percent\": \"100\", \"start_time\": \"2021-01-12T15:52:46.596322Z\", \"end_time\": \"2021-01-12T15:53:32.359383Z\", \"created_time\": \"2021-01-12T15:52:34.575249Z\", \"created_time_dt\": \"2021-01-12T15:52:34.575249Z\", \"duration\": \"0:00:57\", \"iteration\": \"40\", \"goal\": \"accuracy_max\", \"run_name\": \"StandardScalerWrapper, RandomForest\", \"run_properties\": \"<azureml.automl.runtime.shared.model_wrappers.StandardScalerWrapper object at 0x7f0d3c06b0f0\", \"primary_metric\": 0.62913978, \"best_metric\": 0.85430108}, {\"run_id\": \"AutoML_a44c0534-d182-4428-b34f-1a1e4ddb03c6_41\", \"run_number\": 102, \"metric\": null, \"status\": \"Completed\", \"run_type\": \"azureml.scriptrun\", \"training_percent\": \"100\", \"start_time\": \"2021-01-12T15:52:49.776364Z\", \"end_time\": \"2021-01-12T15:53:31.643947Z\", \"created_time\": \"2021-01-12T15:52:38.774233Z\", \"created_time_dt\": \"2021-01-12T15:52:38.774233Z\", \"duration\": \"0:00:52\", \"iteration\": \"41\", \"goal\": \"accuracy_max\", \"run_name\": \"MaxAbsScaler, LightGBM\", \"run_properties\": \"copy=True\", \"primary_metric\": 0.82150538, \"best_metric\": 0.85430108}, {\"run_id\": \"AutoML_a44c0534-d182-4428-b34f-1a1e4ddb03c6_42\", \"run_number\": 103, \"metric\": null, \"status\": \"Completed\", \"run_type\": \"azureml.scriptrun\", \"training_percent\": \"100\", \"start_time\": \"2021-01-12T15:52:56.292994Z\", \"end_time\": \"2021-01-12T15:53:37.039137Z\", \"created_time\": \"2021-01-12T15:52:43.542479Z\", \"created_time_dt\": \"2021-01-12T15:52:43.542479Z\", \"duration\": \"0:00:53\", \"iteration\": \"42\", \"goal\": \"accuracy_max\", \"run_name\": \"MinMaxScaler, GradientBoosting\", \"run_properties\": \"copy=True, feature_range=(0, 1\", \"primary_metric\": 0.81139785, \"best_metric\": 0.85430108}, {\"run_id\": \"AutoML_a44c0534-d182-4428-b34f-1a1e4ddb03c6_43\", \"run_number\": 104, \"metric\": null, \"status\": \"Canceled\", \"run_type\": \"azureml.scriptrun\", \"training_percent\": \"100\", \"start_time\": \"2021-01-12T15:53:19.928301Z\", \"end_time\": \"2021-01-12T15:53:47.100629Z\", \"created_time\": \"2021-01-12T15:52:54.365601Z\", \"created_time_dt\": \"2021-01-12T15:52:54.365601Z\", \"duration\": \"0:00:52\", \"iteration\": \"43\", \"goal\": null, \"run_name\": \"SparseNormalizer, XGBoostClassifier\", \"run_properties\": null}, {\"run_id\": \"AutoML_a44c0534-d182-4428-b34f-1a1e4ddb03c6_44\", \"run_number\": 105, \"metric\": null, \"status\": \"Canceled\", \"run_type\": \"azureml.scriptrun\", \"training_percent\": \"100\", \"start_time\": \"2021-01-12T15:53:36.836445Z\", \"end_time\": \"2021-01-12T15:53:46.911725Z\", \"created_time\": \"2021-01-12T15:53:19.912958Z\", \"created_time_dt\": \"2021-01-12T15:53:19.912958Z\", \"duration\": \"0:00:26\", \"iteration\": \"44\", \"goal\": null, \"run_name\": \"Canceled\", \"run_properties\": null}, {\"run_id\": \"AutoML_a44c0534-d182-4428-b34f-1a1e4ddb03c6_45\", \"run_number\": 106, \"metric\": null, \"status\": \"Canceled\", \"run_type\": \"azureml.scriptrun\", \"training_percent\": \"100\", \"start_time\": \"2021-01-12T15:53:35.842327Z\", \"end_time\": \"2021-01-12T15:53:53.25573Z\", \"created_time\": \"2021-01-12T15:53:35.842327Z\", \"created_time_dt\": \"2021-01-12T15:53:35.842327Z\", \"duration\": \"0:00:17\", \"iteration\": \"45\", \"goal\": null, \"run_name\": \"Canceled\", \"run_properties\": null}, {\"run_id\": \"AutoML_a44c0534-d182-4428-b34f-1a1e4ddb03c6_46\", \"run_number\": 107, \"metric\": null, \"status\": \"Completed\", \"run_type\": \"azureml.scriptrun\", \"training_percent\": \"100\", \"start_time\": \"2021-01-12T15:54:08.333628Z\", \"end_time\": \"2021-01-12T15:56:19.795368Z\", \"created_time\": \"2021-01-12T15:53:54.481788Z\", \"created_time_dt\": \"2021-01-12T15:53:54.481788Z\", \"duration\": \"0:02:25\", \"iteration\": \"46\", \"goal\": \"accuracy_max\", \"run_name\": \"VotingEnsemble\", \"run_properties\": \"classification_labels=None,\\n                              estimators=[('29',\\n                                           Pipeline(memory=None,\\n                                                    steps=[('sparsenormalizer',\\n                                                            <azureml.automl.runtime.shared.model_wrappers.SparseNormalizer object at 0x7f0217f94f28>\", \"primary_metric\": 0.8611828, \"best_metric\": 0.8611828}, {\"run_id\": \"AutoML_a44c0534-d182-4428-b34f-1a1e4ddb03c6_47\", \"run_number\": 108, \"metric\": null, \"status\": \"Completed\", \"run_type\": \"azureml.scriptrun\", \"training_percent\": \"100\", \"start_time\": \"2021-01-12T15:54:07.229171Z\", \"end_time\": \"2021-01-12T15:56:22.73627Z\", \"created_time\": \"2021-01-12T15:53:54.709776Z\", \"created_time_dt\": \"2021-01-12T15:53:54.709776Z\", \"duration\": \"0:02:28\", \"iteration\": \"47\", \"goal\": \"accuracy_max\", \"run_name\": \"StackEnsemble\", \"run_properties\": \"base_learners=[('29',\\n                                        Pipeline(memory=None,\\n                                                 steps=[('sparsenormalizer',\\n                                                         <azureml.automl.runtime.shared.model_wrappers.SparseNormalizer object at 0x7fd6232b9198>\", \"primary_metric\": 0.84784946, \"best_metric\": 0.8611828}], \"children_metrics\": {\"categories\": [0], \"series\": {\"weighted_accuracy\": [{\"categories\": [\"0\", \"1\", \"2\", \"3\", \"4\", \"5\", \"6\", \"7\", \"8\", \"9\", \"10\", \"11\", \"12\", \"13\", \"14\", \"15\", \"16\", \"17\", \"18\", \"19\", \"20\", \"21\", \"22\", \"23\", \"24\", \"25\", \"26\", \"27\", \"28\", \"29\", \"30\", \"31\", \"32\", \"33\", \"34\", \"35\", \"36\", \"37\", \"38\", \"39\", \"40\", \"41\", \"42\", \"46\", \"47\"], \"mode\": \"markers\", \"name\": \"weighted_accuracy\", \"stepped\": false, \"type\": \"scatter\", \"data\": [0.8118648739105845, 0.8150704154047188, 0.8299360078682699, 0.8291930827091105, 0.8362944775846456, 0.8205390549756499, 0.794152720224061, 0.8109087442817348, 0.8235798918917849, 0.836167034359385, 0.7952863896973403, 0.8558187773686224, 0.8254154068182062, 0.8355054481676671, 0.8203029931187087, 0.8331770287459015, 0.8444694764422568, 0.8341473982680154, 0.8216484525376707, 0.8275624008311343, 0.844896224749708, 0.8090203713069769, 0.8309333389196114, 0.8272997262031998, 0.8143713734145424, 0.8286287568712956, 0.8377305641536953, 0.8274768995351721, 0.8250669208587343, 0.8563239734091074, 0.7907875547257742, 0.8244828264320458, 0.8331969957640227, 0.8265634333284672, 0.8308358887263235, 0.8341872958336918, 0.8238095129487275, 0.8304063361342229, 0.7978782628053506, 0.8212223218628344, 0.6319152456938465, 0.8267855577568742, 0.8153786875379957, 0.8648091546216305, 0.8523152380671875]}, {\"categories\": [\"0\", \"1\", \"2\", \"3\", \"4\", \"5\", \"6\", \"7\", \"8\", \"9\", \"10\", \"11\", \"12\", \"13\", \"14\", \"15\", \"16\", \"17\", \"18\", \"19\", \"20\", \"21\", \"22\", \"23\", \"24\", \"25\", \"26\", \"27\", \"28\", \"29\", \"30\", \"31\", \"32\", \"33\", \"34\", \"35\", \"36\", \"37\", \"38\", \"39\", \"40\", \"41\", \"42\", \"46\", \"47\"], \"mode\": \"lines\", \"name\": \"weighted_accuracy_max\", \"stepped\": true, \"type\": \"scatter\", \"data\": [0.8118648739105845, 0.8150704154047188, 0.8299360078682699, 0.8299360078682699, 0.8362944775846456, 0.8362944775846456, 0.8362944775846456, 0.8362944775846456, 0.8362944775846456, 0.8362944775846456, 0.8362944775846456, 0.8558187773686224, 0.8558187773686224, 0.8558187773686224, 0.8558187773686224, 0.8558187773686224, 0.8558187773686224, 0.8558187773686224, 0.8558187773686224, 0.8558187773686224, 0.8558187773686224, 0.8558187773686224, 0.8558187773686224, 0.8558187773686224, 0.8558187773686224, 0.8558187773686224, 0.8558187773686224, 0.8558187773686224, 0.8558187773686224, 0.8563239734091074, 0.8563239734091074, 0.8563239734091074, 0.8563239734091074, 0.8563239734091074, 0.8563239734091074, 0.8563239734091074, 0.8563239734091074, 0.8563239734091074, 0.8563239734091074, 0.8563239734091074, 0.8563239734091074, 0.8563239734091074, 0.8563239734091074, 0.8648091546216305, 0.8648091546216305]}], \"f1_score_micro\": [{\"categories\": [\"0\", \"1\", \"2\", \"3\", \"4\", \"5\", \"6\", \"7\", \"8\", \"9\", \"10\", \"11\", \"12\", \"13\", \"14\", \"15\", \"16\", \"17\", \"18\", \"19\", \"20\", \"21\", \"22\", \"23\", \"24\", \"25\", \"26\", \"27\", \"28\", \"29\", \"30\", \"31\", \"32\", \"33\", \"34\", \"35\", \"36\", \"37\", \"38\", \"39\", \"40\", \"41\", \"42\", \"46\", \"47\"], \"mode\": \"markers\", \"name\": \"f1_score_micro\", \"stepped\": false, \"type\": \"scatter\", \"data\": [0.8082795698924731, 0.811290322580645, 0.8248387096774195, 0.8244086021505377, 0.8281720430107529, 0.8178494623655915, 0.7883870967741935, 0.8078494623655915, 0.8210752688172045, 0.8346236559139785, 0.7881720430107527, 0.8508602150537634, 0.8216129032258065, 0.8316129032258065, 0.8118279569892473, 0.8282795698924732, 0.8412903225806453, 0.8312903225806452, 0.8178494623655913, 0.8213978494623655, 0.841505376344086, 0.8049462365591398, 0.8279569892473118, 0.8213978494623657, 0.8081720430107527, 0.8246236559139785, 0.8315053763440862, 0.8180645161290323, 0.821505376344086, 0.8543010752688174, 0.7882795698924732, 0.8216129032258064, 0.8279569892473118, 0.8181720430107526, 0.8281720430107529, 0.8279569892473118, 0.8150537634408602, 0.824731182795699, 0.7981720430107526, 0.8212903225806454, 0.6291397849462366, 0.821505376344086, 0.8113978494623655, 0.8611827956989249, 0.8478494623655916]}, {\"categories\": [\"0\", \"1\", \"2\", \"3\", \"4\", \"5\", \"6\", \"7\", \"8\", \"9\", \"10\", \"11\", \"12\", \"13\", \"14\", \"15\", \"16\", \"17\", \"18\", \"19\", \"20\", \"21\", \"22\", \"23\", \"24\", \"25\", \"26\", \"27\", \"28\", \"29\", \"30\", \"31\", \"32\", \"33\", \"34\", \"35\", \"36\", \"37\", \"38\", \"39\", \"40\", \"41\", \"42\", \"46\", \"47\"], \"mode\": \"lines\", \"name\": \"f1_score_micro_max\", \"stepped\": true, \"type\": \"scatter\", \"data\": [0.8082795698924731, 0.811290322580645, 0.8248387096774195, 0.8248387096774195, 0.8281720430107529, 0.8281720430107529, 0.8281720430107529, 0.8281720430107529, 0.8281720430107529, 0.8346236559139785, 0.8346236559139785, 0.8508602150537634, 0.8508602150537634, 0.8508602150537634, 0.8508602150537634, 0.8508602150537634, 0.8508602150537634, 0.8508602150537634, 0.8508602150537634, 0.8508602150537634, 0.8508602150537634, 0.8508602150537634, 0.8508602150537634, 0.8508602150537634, 0.8508602150537634, 0.8508602150537634, 0.8508602150537634, 0.8508602150537634, 0.8508602150537634, 0.8543010752688174, 0.8543010752688174, 0.8543010752688174, 0.8543010752688174, 0.8543010752688174, 0.8543010752688174, 0.8543010752688174, 0.8543010752688174, 0.8543010752688174, 0.8543010752688174, 0.8543010752688174, 0.8543010752688174, 0.8543010752688174, 0.8543010752688174, 0.8611827956989249, 0.8611827956989249]}], \"recall_score_macro\": [{\"categories\": [\"0\", \"1\", \"2\", \"3\", \"4\", \"5\", \"6\", \"7\", \"8\", \"9\", \"10\", \"11\", \"12\", \"13\", \"14\", \"15\", \"16\", \"17\", \"18\", \"19\", \"20\", \"21\", \"22\", \"23\", \"24\", \"25\", \"26\", \"27\", \"28\", \"29\", \"30\", \"31\", \"32\", \"33\", \"34\", \"35\", \"36\", \"37\", \"38\", \"39\", \"40\", \"41\", \"42\", \"46\", \"47\"], \"mode\": \"markers\", \"name\": \"recall_score_macro\", \"stepped\": false, \"type\": \"scatter\", \"data\": [0.8041295114843875, 0.806959361373061, 0.8188263402833836, 0.818926257780747, 0.8188047768794672, 0.8148402816224024, 0.7817194909493671, 0.8043939948080816, 0.8182267796702781, 0.832755990139891, 0.7801838656269771, 0.8452282553617694, 0.817263041610952, 0.8271753719276941, 0.801978570964639, 0.8227072246209245, 0.8375371373552486, 0.828046188202922, 0.8133911270617926, 0.8143249532974763, 0.8376183061864177, 0.8005275956843294, 0.824483018271718, 0.814399603879093, 0.8008448508835506, 0.8200861651248648, 0.8245002181341192, 0.8074040525607863, 0.8172241200491974, 0.8519956333656025, 0.7849526301441936, 0.8184796874522104, 0.822117507965031, 0.808862588864524, 0.8250993485358812, 0.8208891070230081, 0.8050706455137571, 0.8182630342653564, 0.7983370737879251, 0.8211990647381515, 0.6246774793833617, 0.8154439272028281, 0.8068070575365466, 0.8570993959171205, 0.8426738266463498]}, {\"categories\": [\"0\", \"1\", \"2\", \"3\", \"4\", \"5\", \"6\", \"7\", \"8\", \"9\", \"10\", \"11\", \"12\", \"13\", \"14\", \"15\", \"16\", \"17\", \"18\", \"19\", \"20\", \"21\", \"22\", \"23\", \"24\", \"25\", \"26\", \"27\", \"28\", \"29\", \"30\", \"31\", \"32\", \"33\", \"34\", \"35\", \"36\", \"37\", \"38\", \"39\", \"40\", \"41\", \"42\", \"46\", \"47\"], \"mode\": \"lines\", \"name\": \"recall_score_macro_max\", \"stepped\": true, \"type\": \"scatter\", \"data\": [0.8041295114843875, 0.806959361373061, 0.8188263402833836, 0.818926257780747, 0.818926257780747, 0.818926257780747, 0.818926257780747, 0.818926257780747, 0.818926257780747, 0.832755990139891, 0.832755990139891, 0.8452282553617694, 0.8452282553617694, 0.8452282553617694, 0.8452282553617694, 0.8452282553617694, 0.8452282553617694, 0.8452282553617694, 0.8452282553617694, 0.8452282553617694, 0.8452282553617694, 0.8452282553617694, 0.8452282553617694, 0.8452282553617694, 0.8452282553617694, 0.8452282553617694, 0.8452282553617694, 0.8452282553617694, 0.8452282553617694, 0.8519956333656025, 0.8519956333656025, 0.8519956333656025, 0.8519956333656025, 0.8519956333656025, 0.8519956333656025, 0.8519956333656025, 0.8519956333656025, 0.8519956333656025, 0.8519956333656025, 0.8519956333656025, 0.8519956333656025, 0.8519956333656025, 0.8519956333656025, 0.8570993959171205, 0.8570993959171205]}], \"f1_score_weighted\": [{\"categories\": [\"0\", \"1\", \"2\", \"3\", \"4\", \"5\", \"6\", \"7\", \"8\", \"9\", \"10\", \"11\", \"12\", \"13\", \"14\", \"15\", \"16\", \"17\", \"18\", \"19\", \"20\", \"21\", \"22\", \"23\", \"24\", \"25\", \"26\", \"27\", \"28\", \"29\", \"30\", \"31\", \"32\", \"33\", \"34\", \"35\", \"36\", \"37\", \"38\", \"39\", \"40\", \"41\", \"42\", \"46\", \"47\"], \"mode\": \"markers\", \"name\": \"f1_score_weighted\", \"stepped\": false, \"type\": \"scatter\", \"data\": [0.8071549171088572, 0.8099801097590287, 0.8217370994238069, 0.8228018334687874, 0.8262944209007712, 0.8173010382876347, 0.787383930646516, 0.8074789028146562, 0.8203041912701856, 0.8343300206626099, 0.7867265700367024, 0.8494610785343616, 0.8189476916601068, 0.829008393920809, 0.8087378562470666, 0.8257475976375048, 0.8397931791585395, 0.8301204651158457, 0.816618773089105, 0.8197770247077909, 0.8400459990283684, 0.8037864639095991, 0.82708408767703, 0.8194687689335053, 0.8067390593613721, 0.8232963079781846, 0.828957212310106, 0.8154349689136969, 0.8201068481807852, 0.8543157697550183, 0.7866697466302826, 0.8216806293016552, 0.8269439680145562, 0.8159908278614566, 0.8260456986309712, 0.8253165835393552, 0.8119622406310718, 0.8233471460840154, 0.7982248327016633, 0.8211101623152027, 0.5800201147286627, 0.8201427319558057, 0.8101117591046844, 0.8596698874191743, 0.8459025745391904]}, {\"categories\": [\"0\", \"1\", \"2\", \"3\", \"4\", \"5\", \"6\", \"7\", \"8\", \"9\", \"10\", \"11\", \"12\", \"13\", \"14\", \"15\", \"16\", \"17\", \"18\", \"19\", \"20\", \"21\", \"22\", \"23\", \"24\", \"25\", \"26\", \"27\", \"28\", \"29\", \"30\", \"31\", \"32\", \"33\", \"34\", \"35\", \"36\", \"37\", \"38\", \"39\", \"40\", \"41\", \"42\", \"46\", \"47\"], \"mode\": \"lines\", \"name\": \"f1_score_weighted_max\", \"stepped\": true, \"type\": \"scatter\", \"data\": [0.8071549171088572, 0.8099801097590287, 0.8217370994238069, 0.8228018334687874, 0.8262944209007712, 0.8262944209007712, 0.8262944209007712, 0.8262944209007712, 0.8262944209007712, 0.8343300206626099, 0.8343300206626099, 0.8494610785343616, 0.8494610785343616, 0.8494610785343616, 0.8494610785343616, 0.8494610785343616, 0.8494610785343616, 0.8494610785343616, 0.8494610785343616, 0.8494610785343616, 0.8494610785343616, 0.8494610785343616, 0.8494610785343616, 0.8494610785343616, 0.8494610785343616, 0.8494610785343616, 0.8494610785343616, 0.8494610785343616, 0.8494610785343616, 0.8543157697550183, 0.8543157697550183, 0.8543157697550183, 0.8543157697550183, 0.8543157697550183, 0.8543157697550183, 0.8543157697550183, 0.8543157697550183, 0.8543157697550183, 0.8543157697550183, 0.8543157697550183, 0.8543157697550183, 0.8543157697550183, 0.8543157697550183, 0.8596698874191743, 0.8596698874191743]}], \"precision_score_macro\": [{\"categories\": [\"0\", \"1\", \"2\", \"3\", \"4\", \"5\", \"6\", \"7\", \"8\", \"9\", \"10\", \"11\", \"12\", \"13\", \"14\", \"15\", \"16\", \"17\", \"18\", \"19\", \"20\", \"21\", \"22\", \"23\", \"24\", \"25\", \"26\", \"27\", \"28\", \"29\", \"30\", \"31\", \"32\", \"33\", \"34\", \"35\", \"36\", \"37\", \"38\", \"39\", \"40\", \"41\", \"42\", \"46\", \"47\"], \"mode\": \"markers\", \"name\": \"precision_score_macro\", \"stepped\": false, \"type\": \"scatter\", \"data\": [0.8106718975468974, 0.8150050179868291, 0.8348843522916413, 0.8275985860544683, 0.8320502487278804, 0.822434844781981, 0.7892485509416624, 0.8090622979961216, 0.8267584582600062, 0.8361734101381935, 0.7911927899223464, 0.8540007094728457, 0.8314070293909438, 0.8412698757379233, 0.8210064544158971, 0.8341299443665171, 0.8459344781035958, 0.8401755507228147, 0.8225169769171317, 0.8269168372477195, 0.8477755090197041, 0.8050950275214982, 0.8312846510214932, 0.8284825468648999, 0.810661794644834, 0.8305457399591031, 0.8353941744175121, 0.8235383545837511, 0.8266386539587005, 0.8569915625739929, 0.7986002341293263, 0.8203262864156826, 0.8307735434070572, 0.8224853277938315, 0.8366477193350763, 0.8351522705544108, 0.8201687970238583, 0.830270639242826, 0.8004942754613807, 0.8228310170221935, 0.5559987832925813, 0.8263466981075339, 0.8147796795997261, 0.8671726761800291, 0.857532950375106]}, {\"categories\": [\"0\", \"1\", \"2\", \"3\", \"4\", \"5\", \"6\", \"7\", \"8\", \"9\", \"10\", \"11\", \"12\", \"13\", \"14\", \"15\", \"16\", \"17\", \"18\", \"19\", \"20\", \"21\", \"22\", \"23\", \"24\", \"25\", \"26\", \"27\", \"28\", \"29\", \"30\", \"31\", \"32\", \"33\", \"34\", \"35\", \"36\", \"37\", \"38\", \"39\", \"40\", \"41\", \"42\", \"46\", \"47\"], \"mode\": \"lines\", \"name\": \"precision_score_macro_max\", \"stepped\": true, \"type\": \"scatter\", \"data\": [0.8106718975468974, 0.8150050179868291, 0.8348843522916413, 0.8348843522916413, 0.8348843522916413, 0.8348843522916413, 0.8348843522916413, 0.8348843522916413, 0.8348843522916413, 0.8361734101381935, 0.8361734101381935, 0.8540007094728457, 0.8540007094728457, 0.8540007094728457, 0.8540007094728457, 0.8540007094728457, 0.8540007094728457, 0.8540007094728457, 0.8540007094728457, 0.8540007094728457, 0.8540007094728457, 0.8540007094728457, 0.8540007094728457, 0.8540007094728457, 0.8540007094728457, 0.8540007094728457, 0.8540007094728457, 0.8540007094728457, 0.8540007094728457, 0.8569915625739929, 0.8569915625739929, 0.8569915625739929, 0.8569915625739929, 0.8569915625739929, 0.8569915625739929, 0.8569915625739929, 0.8569915625739929, 0.8569915625739929, 0.8569915625739929, 0.8569915625739929, 0.8569915625739929, 0.8569915625739929, 0.8569915625739929, 0.8671726761800291, 0.8671726761800291]}], \"precision_score_micro\": [{\"categories\": [\"0\", \"1\", \"2\", \"3\", \"4\", \"5\", \"6\", \"7\", \"8\", \"9\", \"10\", \"11\", \"12\", \"13\", \"14\", \"15\", \"16\", \"17\", \"18\", \"19\", \"20\", \"21\", \"22\", \"23\", \"24\", \"25\", \"26\", \"27\", \"28\", \"29\", \"30\", \"31\", \"32\", \"33\", \"34\", \"35\", \"36\", \"37\", \"38\", \"39\", \"40\", \"41\", \"42\", \"46\", \"47\"], \"mode\": \"markers\", \"name\": \"precision_score_micro\", \"stepped\": false, \"type\": \"scatter\", \"data\": [0.8082795698924731, 0.811290322580645, 0.8248387096774195, 0.8244086021505377, 0.8281720430107529, 0.8178494623655915, 0.7883870967741935, 0.8078494623655915, 0.8210752688172043, 0.8346236559139785, 0.7881720430107527, 0.8508602150537634, 0.8216129032258065, 0.8316129032258065, 0.8118279569892473, 0.8282795698924732, 0.8412903225806453, 0.8312903225806452, 0.8178494623655913, 0.8213978494623655, 0.841505376344086, 0.8049462365591398, 0.8279569892473118, 0.8213978494623657, 0.8081720430107527, 0.8246236559139785, 0.8315053763440862, 0.8180645161290323, 0.821505376344086, 0.8543010752688174, 0.7882795698924732, 0.8216129032258064, 0.8279569892473118, 0.8181720430107526, 0.8281720430107529, 0.8279569892473118, 0.8150537634408602, 0.824731182795699, 0.7981720430107526, 0.8212903225806454, 0.6291397849462366, 0.821505376344086, 0.8113978494623655, 0.8611827956989249, 0.8478494623655916]}, {\"categories\": [\"0\", \"1\", \"2\", \"3\", \"4\", \"5\", \"6\", \"7\", \"8\", \"9\", \"10\", \"11\", \"12\", \"13\", \"14\", \"15\", \"16\", \"17\", \"18\", \"19\", \"20\", \"21\", \"22\", \"23\", \"24\", \"25\", \"26\", \"27\", \"28\", \"29\", \"30\", \"31\", \"32\", \"33\", \"34\", \"35\", \"36\", \"37\", \"38\", \"39\", \"40\", \"41\", \"42\", \"46\", \"47\"], \"mode\": \"lines\", \"name\": \"precision_score_micro_max\", \"stepped\": true, \"type\": \"scatter\", \"data\": [0.8082795698924731, 0.811290322580645, 0.8248387096774195, 0.8248387096774195, 0.8281720430107529, 0.8281720430107529, 0.8281720430107529, 0.8281720430107529, 0.8281720430107529, 0.8346236559139785, 0.8346236559139785, 0.8508602150537634, 0.8508602150537634, 0.8508602150537634, 0.8508602150537634, 0.8508602150537634, 0.8508602150537634, 0.8508602150537634, 0.8508602150537634, 0.8508602150537634, 0.8508602150537634, 0.8508602150537634, 0.8508602150537634, 0.8508602150537634, 0.8508602150537634, 0.8508602150537634, 0.8508602150537634, 0.8508602150537634, 0.8508602150537634, 0.8543010752688174, 0.8543010752688174, 0.8543010752688174, 0.8543010752688174, 0.8543010752688174, 0.8543010752688174, 0.8543010752688174, 0.8543010752688174, 0.8543010752688174, 0.8543010752688174, 0.8543010752688174, 0.8543010752688174, 0.8543010752688174, 0.8543010752688174, 0.8611827956989249, 0.8611827956989249]}], \"average_precision_score_weighted\": [{\"categories\": [\"0\", \"1\", \"2\", \"3\", \"4\", \"5\", \"6\", \"7\", \"8\", \"9\", \"10\", \"11\", \"12\", \"13\", \"14\", \"15\", \"16\", \"17\", \"18\", \"19\", \"20\", \"21\", \"22\", \"23\", \"24\", \"25\", \"26\", \"27\", \"28\", \"29\", \"30\", \"31\", \"32\", \"33\", \"34\", \"35\", \"36\", \"37\", \"38\", \"39\", \"40\", \"41\", \"42\", \"46\", \"47\"], \"mode\": \"markers\", \"name\": \"average_precision_score_weighted\", \"stepped\": false, \"type\": \"scatter\", \"data\": [0.8915745488665513, 0.8971724973051718, 0.9097913770025796, 0.9135644967170865, 0.9123529904351969, 0.901927908841244, 0.8761683470116862, 0.8971557124682379, 0.9069863483788965, 0.9196343885675408, 0.8700714038162799, 0.9222445755778643, 0.9131281346508201, 0.9144473738914453, 0.8981864811919882, 0.9173534013945259, 0.9227049306470189, 0.9114119779089472, 0.8960248942748029, 0.9225901614377621, 0.9281219317781334, 0.8948642378153495, 0.9222705667660434, 0.9154188389798694, 0.8967638576798755, 0.9004482471131455, 0.9150297628042899, 0.9171257433732205, 0.9189703763771828, 0.9141816581542255, 0.8744965930792571, 0.9023103728417692, 0.9131082625936789, 0.9122137479552203, 0.9179187251372258, 0.9124485419110971, 0.9147305078677486, 0.9043835125428614, 0.8880561542158849, 0.9161248181337035, 0.6129415477987465, 0.9141756859821516, 0.9100031410216287, 0.9264349772543661, 0.9260918098933246]}, {\"categories\": [\"0\", \"1\", \"2\", \"3\", \"4\", \"5\", \"6\", \"7\", \"8\", \"9\", \"10\", \"11\", \"12\", \"13\", \"14\", \"15\", \"16\", \"17\", \"18\", \"19\", \"20\", \"21\", \"22\", \"23\", \"24\", \"25\", \"26\", \"27\", \"28\", \"29\", \"30\", \"31\", \"32\", \"33\", \"34\", \"35\", \"36\", \"37\", \"38\", \"39\", \"40\", \"41\", \"42\", \"46\", \"47\"], \"mode\": \"lines\", \"name\": \"average_precision_score_weighted_max\", \"stepped\": true, \"type\": \"scatter\", \"data\": [0.8915745488665513, 0.8971724973051718, 0.9097913770025796, 0.9135644967170865, 0.9135644967170865, 0.9135644967170865, 0.9135644967170865, 0.9135644967170865, 0.9135644967170865, 0.9196343885675408, 0.9196343885675408, 0.9222445755778643, 0.9222445755778643, 0.9222445755778643, 0.9222445755778643, 0.9222445755778643, 0.9227049306470189, 0.9227049306470189, 0.9227049306470189, 0.9227049306470189, 0.9281219317781334, 0.9281219317781334, 0.9281219317781334, 0.9281219317781334, 0.9281219317781334, 0.9281219317781334, 0.9281219317781334, 0.9281219317781334, 0.9281219317781334, 0.9281219317781334, 0.9281219317781334, 0.9281219317781334, 0.9281219317781334, 0.9281219317781334, 0.9281219317781334, 0.9281219317781334, 0.9281219317781334, 0.9281219317781334, 0.9281219317781334, 0.9281219317781334, 0.9281219317781334, 0.9281219317781334, 0.9281219317781334, 0.9281219317781334, 0.9281219317781334]}], \"AUC_micro\": [{\"categories\": [\"0\", \"1\", \"2\", \"3\", \"4\", \"5\", \"6\", \"7\", \"8\", \"9\", \"10\", \"11\", \"12\", \"13\", \"14\", \"15\", \"16\", \"17\", \"18\", \"19\", \"20\", \"21\", \"22\", \"23\", \"24\", \"25\", \"26\", \"27\", \"28\", \"29\", \"30\", \"31\", \"32\", \"33\", \"34\", \"35\", \"36\", \"37\", \"38\", \"39\", \"40\", \"41\", \"42\", \"46\", \"47\"], \"mode\": \"markers\", \"name\": \"AUC_micro\", \"stepped\": false, \"type\": \"scatter\", \"data\": [0.8790788530465949, 0.8849572204879177, 0.899091340039311, 0.9034865302347093, 0.9053788877326857, 0.8931654526534858, 0.8633178980228928, 0.8837244768181293, 0.892602844259452, 0.9085464215516245, 0.8585930743438548, 0.9106258526997341, 0.9000137588160481, 0.9005693143716037, 0.886440397733842, 0.9034317262111227, 0.9108215978725864, 0.9016874783211932, 0.888015493120592, 0.9136329055382125, 0.915114348479593, 0.883969476240028, 0.9083806220372297, 0.8984935830731878, 0.8856468955948665, 0.889526997340733, 0.9055922071915828, 0.9068162793386518, 0.9068003237368483, 0.9038303850156089, 0.859542606081628, 0.8909236906000693, 0.8999220719158284, 0.8993981963232743, 0.9037139553705631, 0.9018057578910856, 0.8999643889466992, 0.8918744363510231, 0.8781926812348247, 0.9070861371256791, 0.632522488148919, 0.9027297953520638, 0.8963329864724245, 0.9159115504682621, 0.9118551277604346]}, {\"categories\": [\"0\", \"1\", \"2\", \"3\", \"4\", \"5\", \"6\", \"7\", \"8\", \"9\", \"10\", \"11\", \"12\", \"13\", \"14\", \"15\", \"16\", \"17\", \"18\", \"19\", \"20\", \"21\", \"22\", \"23\", \"24\", \"25\", \"26\", \"27\", \"28\", \"29\", \"30\", \"31\", \"32\", \"33\", \"34\", \"35\", \"36\", \"37\", \"38\", \"39\", \"40\", \"41\", \"42\", \"46\", \"47\"], \"mode\": \"lines\", \"name\": \"AUC_micro_max\", \"stepped\": true, \"type\": \"scatter\", \"data\": [0.8790788530465949, 0.8849572204879177, 0.899091340039311, 0.9034865302347093, 0.9053788877326857, 0.9053788877326857, 0.9053788877326857, 0.9053788877326857, 0.9053788877326857, 0.9085464215516245, 0.9085464215516245, 0.9106258526997341, 0.9106258526997341, 0.9106258526997341, 0.9106258526997341, 0.9106258526997341, 0.9108215978725864, 0.9108215978725864, 0.9108215978725864, 0.9136329055382125, 0.915114348479593, 0.915114348479593, 0.915114348479593, 0.915114348479593, 0.915114348479593, 0.915114348479593, 0.915114348479593, 0.915114348479593, 0.915114348479593, 0.915114348479593, 0.915114348479593, 0.915114348479593, 0.915114348479593, 0.915114348479593, 0.915114348479593, 0.915114348479593, 0.915114348479593, 0.915114348479593, 0.915114348479593, 0.915114348479593, 0.915114348479593, 0.915114348479593, 0.915114348479593, 0.9159115504682621, 0.9159115504682621]}], \"log_loss\": [{\"categories\": [\"0\", \"1\", \"2\", \"3\", \"4\", \"5\", \"6\", \"7\", \"8\", \"9\", \"10\", \"11\", \"12\", \"13\", \"14\", \"15\", \"16\", \"17\", \"18\", \"19\", \"20\", \"21\", \"22\", \"23\", \"24\", \"25\", \"26\", \"27\", \"28\", \"29\", \"30\", \"31\", \"32\", \"33\", \"34\", \"35\", \"36\", \"37\", \"38\", \"39\", \"40\", \"41\", \"42\", \"46\", \"47\"], \"mode\": \"markers\", \"name\": \"log_loss\", \"stepped\": false, \"type\": \"scatter\", \"data\": [0.5120134554194041, 0.44335576716506486, 0.4089238551486242, 0.4179889889515109, 0.39533567788467316, 0.4962787001799371, 0.4591838111888496, 0.4218954230341566, 0.4236060348368659, 0.3916701780227857, 0.47083067814357155, 0.4040500517581719, 0.406148228435398, 0.40036985279875664, 0.4942159432285577, 0.4502957788626082, 0.41723350856895947, 0.4017182539555543, 0.4858236379334441, 0.4027336901461208, 0.3995708930266679, 0.47754190382164363, 0.3887190135819831, 0.4255595637453614, 0.5086409969276584, 0.45957463268856735, 0.44601719545753643, 0.4325587718993483, 0.39514870178171096, 0.4022876988177108, 0.5267283635787431, 0.449891134826673, 0.395478598469755, 0.3997794589181377, 0.39390726591244213, 0.47090040447467335, 0.45888185685074345, 0.4269260531652167, 0.4339480973256684, 0.38036990953359745, 0.6780015531672368, 0.42817105708569203, 0.4044940386933179, 0.44979704841740986, 0.45974569512844915]}, {\"categories\": [\"0\", \"1\", \"2\", \"3\", \"4\", \"5\", \"6\", \"7\", \"8\", \"9\", \"10\", \"11\", \"12\", \"13\", \"14\", \"15\", \"16\", \"17\", \"18\", \"19\", \"20\", \"21\", \"22\", \"23\", \"24\", \"25\", \"26\", \"27\", \"28\", \"29\", \"30\", \"31\", \"32\", \"33\", \"34\", \"35\", \"36\", \"37\", \"38\", \"39\", \"40\", \"41\", \"42\", \"46\", \"47\"], \"mode\": \"lines\", \"name\": \"log_loss_min\", \"stepped\": true, \"type\": \"scatter\", \"data\": [0.5120134554194041, 0.44335576716506486, 0.4089238551486242, 0.4089238551486242, 0.39533567788467316, 0.39533567788467316, 0.39533567788467316, 0.39533567788467316, 0.39533567788467316, 0.3916701780227857, 0.3916701780227857, 0.3916701780227857, 0.3916701780227857, 0.3916701780227857, 0.3916701780227857, 0.3916701780227857, 0.3916701780227857, 0.3916701780227857, 0.3916701780227857, 0.3916701780227857, 0.3916701780227857, 0.3916701780227857, 0.3887190135819831, 0.3887190135819831, 0.3887190135819831, 0.3887190135819831, 0.3887190135819831, 0.3887190135819831, 0.3887190135819831, 0.3887190135819831, 0.3887190135819831, 0.3887190135819831, 0.3887190135819831, 0.3887190135819831, 0.3887190135819831, 0.3887190135819831, 0.3887190135819831, 0.3887190135819831, 0.3887190135819831, 0.38036990953359745, 0.38036990953359745, 0.38036990953359745, 0.38036990953359745, 0.38036990953359745, 0.38036990953359745]}], \"AUC_weighted\": [{\"categories\": [\"0\", \"1\", \"2\", \"3\", \"4\", \"5\", \"6\", \"7\", \"8\", \"9\", \"10\", \"11\", \"12\", \"13\", \"14\", \"15\", \"16\", \"17\", \"18\", \"19\", \"20\", \"21\", \"22\", \"23\", \"24\", \"25\", \"26\", \"27\", \"28\", \"29\", \"30\", \"31\", \"32\", \"33\", \"34\", \"35\", \"36\", \"37\", \"38\", \"39\", \"40\", \"41\", \"42\", \"46\", \"47\"], \"mode\": \"markers\", \"name\": \"AUC_weighted\", \"stepped\": false, \"type\": \"scatter\", \"data\": [0.8850880703833489, 0.8878279618558256, 0.9017387623842732, 0.9058268156708561, 0.9057602383426688, 0.8960638485611396, 0.8619855076124425, 0.8857478843825595, 0.8974393017256794, 0.9118067321395495, 0.8581014123761801, 0.9140200810827747, 0.907060908647596, 0.9075347041875679, 0.8912074968948034, 0.9094593317472575, 0.9143872994337391, 0.902275343020699, 0.8850154371485642, 0.9153151251483294, 0.9224661350861041, 0.8871768840751038, 0.9148789317407736, 0.9059374232435378, 0.8865098263020089, 0.893904352599012, 0.9099020041276233, 0.9075727858026619, 0.9100724636703739, 0.9043285285119651, 0.8666584855919222, 0.8953134393269842, 0.9049551370255704, 0.9050312665777062, 0.9105064551461611, 0.9066078115783999, 0.9054266155241388, 0.8957394999508003, 0.8800630715317247, 0.9090393086875285, 0.6337323950559244, 0.9070417417263392, 0.9002739502785942, 0.9190213390124381, 0.9183966931045106]}, {\"categories\": [\"0\", \"1\", \"2\", \"3\", \"4\", \"5\", \"6\", \"7\", \"8\", \"9\", \"10\", \"11\", \"12\", \"13\", \"14\", \"15\", \"16\", \"17\", \"18\", \"19\", \"20\", \"21\", \"22\", \"23\", \"24\", \"25\", \"26\", \"27\", \"28\", \"29\", \"30\", \"31\", \"32\", \"33\", \"34\", \"35\", \"36\", \"37\", \"38\", \"39\", \"40\", \"41\", \"42\", \"46\", \"47\"], \"mode\": \"lines\", \"name\": \"AUC_weighted_max\", \"stepped\": true, \"type\": \"scatter\", \"data\": [0.8850880703833489, 0.8878279618558256, 0.9017387623842732, 0.9058268156708561, 0.9058268156708561, 0.9058268156708561, 0.9058268156708561, 0.9058268156708561, 0.9058268156708561, 0.9118067321395495, 0.9118067321395495, 0.9140200810827747, 0.9140200810827747, 0.9140200810827747, 0.9140200810827747, 0.9140200810827747, 0.9143872994337391, 0.9143872994337391, 0.9143872994337391, 0.9153151251483294, 0.9224661350861041, 0.9224661350861041, 0.9224661350861041, 0.9224661350861041, 0.9224661350861041, 0.9224661350861041, 0.9224661350861041, 0.9224661350861041, 0.9224661350861041, 0.9224661350861041, 0.9224661350861041, 0.9224661350861041, 0.9224661350861041, 0.9224661350861041, 0.9224661350861041, 0.9224661350861041, 0.9224661350861041, 0.9224661350861041, 0.9224661350861041, 0.9224661350861041, 0.9224661350861041, 0.9224661350861041, 0.9224661350861041, 0.9224661350861041, 0.9224661350861041]}], \"norm_macro_recall\": [{\"categories\": [\"0\", \"1\", \"2\", \"3\", \"4\", \"5\", \"6\", \"7\", \"8\", \"9\", \"10\", \"11\", \"12\", \"13\", \"14\", \"15\", \"16\", \"17\", \"18\", \"19\", \"20\", \"21\", \"22\", \"23\", \"24\", \"25\", \"26\", \"27\", \"28\", \"29\", \"30\", \"31\", \"32\", \"33\", \"34\", \"35\", \"36\", \"37\", \"38\", \"39\", \"40\", \"41\", \"42\", \"46\", \"47\"], \"mode\": \"markers\", \"name\": \"norm_macro_recall\", \"stepped\": false, \"type\": \"scatter\", \"data\": [0.6082590229687753, 0.6139187227461221, 0.6376526805667673, 0.6378525155614939, 0.6376095537589346, 0.6296805632448047, 0.5634389818987342, 0.608787989616163, 0.6364535593405563, 0.6655119802797821, 0.560367731253954, 0.6904565107235386, 0.6345260832219036, 0.6543507438553877, 0.6039571419292781, 0.6454144492418485, 0.6750742747104976, 0.6560923764058441, 0.6267822541235855, 0.628649906594953, 0.6752366123728353, 0.6010551913686588, 0.648966036543436, 0.6287992077581861, 0.6016897017671011, 0.6401723302497297, 0.6490004362682381, 0.6148081051215726, 0.6344482400983948, 0.7039912667312048, 0.5699052602883873, 0.6369593749044213, 0.6442350159300625, 0.6177251777290477, 0.650198697071762, 0.641778214046016, 0.610141291027514, 0.6365260685307126, 0.5966741475758504, 0.6423981294763028, 0.24935495876672356, 0.6308878544056562, 0.6136141150730934, 0.7141987918342407, 0.6853476532926998]}, {\"categories\": [\"0\", \"1\", \"2\", \"3\", \"4\", \"5\", \"6\", \"7\", \"8\", \"9\", \"10\", \"11\", \"12\", \"13\", \"14\", \"15\", \"16\", \"17\", \"18\", \"19\", \"20\", \"21\", \"22\", \"23\", \"24\", \"25\", \"26\", \"27\", \"28\", \"29\", \"30\", \"31\", \"32\", \"33\", \"34\", \"35\", \"36\", \"37\", \"38\", \"39\", \"40\", \"41\", \"42\", \"46\", \"47\"], \"mode\": \"lines\", \"name\": \"norm_macro_recall_max\", \"stepped\": true, \"type\": \"scatter\", \"data\": [0.6082590229687753, 0.6139187227461221, 0.6376526805667673, 0.6378525155614939, 0.6378525155614939, 0.6378525155614939, 0.6378525155614939, 0.6378525155614939, 0.6378525155614939, 0.6655119802797821, 0.6655119802797821, 0.6904565107235386, 0.6904565107235386, 0.6904565107235386, 0.6904565107235386, 0.6904565107235386, 0.6904565107235386, 0.6904565107235386, 0.6904565107235386, 0.6904565107235386, 0.6904565107235386, 0.6904565107235386, 0.6904565107235386, 0.6904565107235386, 0.6904565107235386, 0.6904565107235386, 0.6904565107235386, 0.6904565107235386, 0.6904565107235386, 0.7039912667312048, 0.7039912667312048, 0.7039912667312048, 0.7039912667312048, 0.7039912667312048, 0.7039912667312048, 0.7039912667312048, 0.7039912667312048, 0.7039912667312048, 0.7039912667312048, 0.7039912667312048, 0.7039912667312048, 0.7039912667312048, 0.7039912667312048, 0.7141987918342407, 0.7141987918342407]}], \"AUC_macro\": [{\"categories\": [\"0\", \"1\", \"2\", \"3\", \"4\", \"5\", \"6\", \"7\", \"8\", \"9\", \"10\", \"11\", \"12\", \"13\", \"14\", \"15\", \"16\", \"17\", \"18\", \"19\", \"20\", \"21\", \"22\", \"23\", \"24\", \"25\", \"26\", \"27\", \"28\", \"29\", \"30\", \"31\", \"32\", \"33\", \"34\", \"35\", \"36\", \"37\", \"38\", \"39\", \"40\", \"41\", \"42\", \"46\", \"47\"], \"mode\": \"markers\", \"name\": \"AUC_macro\", \"stepped\": false, \"type\": \"scatter\", \"data\": [0.8850880703833489, 0.8878279618558256, 0.9017387623842732, 0.9058268156708559, 0.9057602383426687, 0.8960638485611396, 0.8619855076124427, 0.8857478843825595, 0.8974393017256792, 0.9118067321395495, 0.8581014123761801, 0.9140200810827747, 0.907060908647596, 0.9075347041875679, 0.8912074968948034, 0.9094593317472575, 0.9143872994337391, 0.902275343020699, 0.885015437148564, 0.9153151251483294, 0.9224661350861041, 0.8871768840751038, 0.9148789317407738, 0.9059374232435378, 0.8865098263020089, 0.893904352599012, 0.9099020041276233, 0.9075727858026619, 0.9100724636703739, 0.904328528511965, 0.8666584855919222, 0.8953134393269842, 0.9049551370255704, 0.9050312665777062, 0.9105064551461611, 0.9066078115783999, 0.9054266155241388, 0.8957394999508003, 0.8800862196798729, 0.9090393086875285, 0.6337323950559244, 0.9070417417263392, 0.9002739502785942, 0.9190213390124381, 0.9183966931045106]}, {\"categories\": [\"0\", \"1\", \"2\", \"3\", \"4\", \"5\", \"6\", \"7\", \"8\", \"9\", \"10\", \"11\", \"12\", \"13\", \"14\", \"15\", \"16\", \"17\", \"18\", \"19\", \"20\", \"21\", \"22\", \"23\", \"24\", \"25\", \"26\", \"27\", \"28\", \"29\", \"30\", \"31\", \"32\", \"33\", \"34\", \"35\", \"36\", \"37\", \"38\", \"39\", \"40\", \"41\", \"42\", \"46\", \"47\"], \"mode\": \"lines\", \"name\": \"AUC_macro_max\", \"stepped\": true, \"type\": \"scatter\", \"data\": [0.8850880703833489, 0.8878279618558256, 0.9017387623842732, 0.9058268156708559, 0.9058268156708559, 0.9058268156708559, 0.9058268156708559, 0.9058268156708559, 0.9058268156708559, 0.9118067321395495, 0.9118067321395495, 0.9140200810827747, 0.9140200810827747, 0.9140200810827747, 0.9140200810827747, 0.9140200810827747, 0.9143872994337391, 0.9143872994337391, 0.9143872994337391, 0.9153151251483294, 0.9224661350861041, 0.9224661350861041, 0.9224661350861041, 0.9224661350861041, 0.9224661350861041, 0.9224661350861041, 0.9224661350861041, 0.9224661350861041, 0.9224661350861041, 0.9224661350861041, 0.9224661350861041, 0.9224661350861041, 0.9224661350861041, 0.9224661350861041, 0.9224661350861041, 0.9224661350861041, 0.9224661350861041, 0.9224661350861041, 0.9224661350861041, 0.9224661350861041, 0.9224661350861041, 0.9224661350861041, 0.9224661350861041, 0.9224661350861041, 0.9224661350861041]}], \"accuracy\": [{\"categories\": [\"0\", \"1\", \"2\", \"3\", \"4\", \"5\", \"6\", \"7\", \"8\", \"9\", \"10\", \"11\", \"12\", \"13\", \"14\", \"15\", \"16\", \"17\", \"18\", \"19\", \"20\", \"21\", \"22\", \"23\", \"24\", \"25\", \"26\", \"27\", \"28\", \"29\", \"30\", \"31\", \"32\", \"33\", \"34\", \"35\", \"36\", \"37\", \"38\", \"39\", \"40\", \"41\", \"42\", \"46\", \"47\"], \"mode\": \"markers\", \"name\": \"accuracy\", \"stepped\": false, \"type\": \"scatter\", \"data\": [0.8082795698924731, 0.811290322580645, 0.8248387096774195, 0.8244086021505377, 0.8281720430107529, 0.8178494623655915, 0.7883870967741935, 0.8078494623655915, 0.8210752688172043, 0.8346236559139785, 0.7881720430107527, 0.8508602150537634, 0.8216129032258065, 0.8316129032258065, 0.8118279569892473, 0.8282795698924732, 0.8412903225806453, 0.8312903225806452, 0.8178494623655913, 0.8213978494623655, 0.841505376344086, 0.8049462365591398, 0.8279569892473118, 0.8213978494623657, 0.8081720430107527, 0.8246236559139785, 0.8315053763440862, 0.8180645161290323, 0.821505376344086, 0.8543010752688174, 0.7882795698924732, 0.8216129032258064, 0.8279569892473118, 0.8181720430107526, 0.8281720430107529, 0.8279569892473118, 0.8150537634408602, 0.824731182795699, 0.7981720430107526, 0.8212903225806454, 0.6291397849462366, 0.821505376344086, 0.8113978494623655, 0.8611827956989249, 0.8478494623655916]}, {\"categories\": [\"0\", \"1\", \"2\", \"3\", \"4\", \"5\", \"6\", \"7\", \"8\", \"9\", \"10\", \"11\", \"12\", \"13\", \"14\", \"15\", \"16\", \"17\", \"18\", \"19\", \"20\", \"21\", \"22\", \"23\", \"24\", \"25\", \"26\", \"27\", \"28\", \"29\", \"30\", \"31\", \"32\", \"33\", \"34\", \"35\", \"36\", \"37\", \"38\", \"39\", \"40\", \"41\", \"42\", \"46\", \"47\"], \"mode\": \"lines\", \"name\": \"accuracy_max\", \"stepped\": true, \"type\": \"scatter\", \"data\": [0.8082795698924731, 0.811290322580645, 0.8248387096774195, 0.8248387096774195, 0.8281720430107529, 0.8281720430107529, 0.8281720430107529, 0.8281720430107529, 0.8281720430107529, 0.8346236559139785, 0.8346236559139785, 0.8508602150537634, 0.8508602150537634, 0.8508602150537634, 0.8508602150537634, 0.8508602150537634, 0.8508602150537634, 0.8508602150537634, 0.8508602150537634, 0.8508602150537634, 0.8508602150537634, 0.8508602150537634, 0.8508602150537634, 0.8508602150537634, 0.8508602150537634, 0.8508602150537634, 0.8508602150537634, 0.8508602150537634, 0.8508602150537634, 0.8543010752688174, 0.8543010752688174, 0.8543010752688174, 0.8543010752688174, 0.8543010752688174, 0.8543010752688174, 0.8543010752688174, 0.8543010752688174, 0.8543010752688174, 0.8543010752688174, 0.8543010752688174, 0.8543010752688174, 0.8543010752688174, 0.8543010752688174, 0.8611827956989249, 0.8611827956989249]}], \"recall_score_weighted\": [{\"categories\": [\"0\", \"1\", \"2\", \"3\", \"4\", \"5\", \"6\", \"7\", \"8\", \"9\", \"10\", \"11\", \"12\", \"13\", \"14\", \"15\", \"16\", \"17\", \"18\", \"19\", \"20\", \"21\", \"22\", \"23\", \"24\", \"25\", \"26\", \"27\", \"28\", \"29\", \"30\", \"31\", \"32\", \"33\", \"34\", \"35\", \"36\", \"37\", \"38\", \"39\", \"40\", \"41\", \"42\", \"46\", \"47\"], \"mode\": \"markers\", \"name\": \"recall_score_weighted\", \"stepped\": false, \"type\": \"scatter\", \"data\": [0.8082795698924731, 0.811290322580645, 0.8248387096774195, 0.8244086021505377, 0.8281720430107529, 0.8178494623655915, 0.7883870967741935, 0.8078494623655915, 0.8210752688172043, 0.8346236559139785, 0.7881720430107527, 0.8508602150537634, 0.8216129032258065, 0.8316129032258065, 0.8118279569892473, 0.8282795698924732, 0.8412903225806453, 0.8312903225806452, 0.8178494623655913, 0.8213978494623655, 0.841505376344086, 0.8049462365591398, 0.8279569892473118, 0.8213978494623657, 0.8081720430107527, 0.8246236559139785, 0.8315053763440862, 0.8180645161290323, 0.821505376344086, 0.8543010752688174, 0.7882795698924732, 0.8216129032258064, 0.8279569892473118, 0.8181720430107526, 0.8281720430107529, 0.8279569892473118, 0.8150537634408602, 0.824731182795699, 0.7981720430107526, 0.8212903225806454, 0.6291397849462366, 0.821505376344086, 0.8113978494623655, 0.8611827956989249, 0.8478494623655916]}, {\"categories\": [\"0\", \"1\", \"2\", \"3\", \"4\", \"5\", \"6\", \"7\", \"8\", \"9\", \"10\", \"11\", \"12\", \"13\", \"14\", \"15\", \"16\", \"17\", \"18\", \"19\", \"20\", \"21\", \"22\", \"23\", \"24\", \"25\", \"26\", \"27\", \"28\", \"29\", \"30\", \"31\", \"32\", \"33\", \"34\", \"35\", \"36\", \"37\", \"38\", \"39\", \"40\", \"41\", \"42\", \"46\", \"47\"], \"mode\": \"lines\", \"name\": \"recall_score_weighted_max\", \"stepped\": true, \"type\": \"scatter\", \"data\": [0.8082795698924731, 0.811290322580645, 0.8248387096774195, 0.8248387096774195, 0.8281720430107529, 0.8281720430107529, 0.8281720430107529, 0.8281720430107529, 0.8281720430107529, 0.8346236559139785, 0.8346236559139785, 0.8508602150537634, 0.8508602150537634, 0.8508602150537634, 0.8508602150537634, 0.8508602150537634, 0.8508602150537634, 0.8508602150537634, 0.8508602150537634, 0.8508602150537634, 0.8508602150537634, 0.8508602150537634, 0.8508602150537634, 0.8508602150537634, 0.8508602150537634, 0.8508602150537634, 0.8508602150537634, 0.8508602150537634, 0.8508602150537634, 0.8543010752688174, 0.8543010752688174, 0.8543010752688174, 0.8543010752688174, 0.8543010752688174, 0.8543010752688174, 0.8543010752688174, 0.8543010752688174, 0.8543010752688174, 0.8543010752688174, 0.8543010752688174, 0.8543010752688174, 0.8543010752688174, 0.8543010752688174, 0.8611827956989249, 0.8611827956989249]}], \"average_precision_score_micro\": [{\"categories\": [\"0\", \"1\", \"2\", \"3\", \"4\", \"5\", \"6\", \"7\", \"8\", \"9\", \"10\", \"11\", \"12\", \"13\", \"14\", \"15\", \"16\", \"17\", \"18\", \"19\", \"20\", \"21\", \"22\", \"23\", \"24\", \"25\", \"26\", \"27\", \"28\", \"29\", \"30\", \"31\", \"32\", \"33\", \"34\", \"35\", \"36\", \"37\", \"38\", \"39\", \"40\", \"41\", \"42\", \"46\", \"47\"], \"mode\": \"markers\", \"name\": \"average_precision_score_micro\", \"stepped\": false, \"type\": \"scatter\", \"data\": [0.8807942906200612, 0.8907041408152917, 0.901421141286243, 0.9070055018941161, 0.9056920235843815, 0.891912081099392, 0.8686377505928438, 0.8881661233486978, 0.896398561891407, 0.9101873212308762, 0.8618549300147524, 0.9145738835155732, 0.9032721877940603, 0.9043931754670702, 0.8848145176783889, 0.9060688286372238, 0.9143476866240752, 0.9045263242778294, 0.891346139329554, 0.9164486163856316, 0.9162888289775001, 0.8879048761299971, 0.9115771908748871, 0.9032712715157196, 0.8875412133818328, 0.8900750899561999, 0.9042242895881701, 0.9105876441678401, 0.9129915378797981, 0.908727651621307, 0.8583680076829718, 0.8942319815646791, 0.9050532794671542, 0.9035134087317145, 0.9071963019583285, 0.9028041214037895, 0.902576105105784, 0.8937309491890275, 0.8792178419754808, 0.9090369037532604, 0.6117775464602546, 0.9055229027229069, 0.8999523184270892, 0.9185517188245512, 0.9149272888943312]}, {\"categories\": [\"0\", \"1\", \"2\", \"3\", \"4\", \"5\", \"6\", \"7\", \"8\", \"9\", \"10\", \"11\", \"12\", \"13\", \"14\", \"15\", \"16\", \"17\", \"18\", \"19\", \"20\", \"21\", \"22\", \"23\", \"24\", \"25\", \"26\", \"27\", \"28\", \"29\", \"30\", \"31\", \"32\", \"33\", \"34\", \"35\", \"36\", \"37\", \"38\", \"39\", \"40\", \"41\", \"42\", \"46\", \"47\"], \"mode\": \"lines\", \"name\": \"average_precision_score_micro_max\", \"stepped\": true, \"type\": \"scatter\", \"data\": [0.8807942906200612, 0.8907041408152917, 0.901421141286243, 0.9070055018941161, 0.9070055018941161, 0.9070055018941161, 0.9070055018941161, 0.9070055018941161, 0.9070055018941161, 0.9101873212308762, 0.9101873212308762, 0.9145738835155732, 0.9145738835155732, 0.9145738835155732, 0.9145738835155732, 0.9145738835155732, 0.9145738835155732, 0.9145738835155732, 0.9145738835155732, 0.9164486163856316, 0.9164486163856316, 0.9164486163856316, 0.9164486163856316, 0.9164486163856316, 0.9164486163856316, 0.9164486163856316, 0.9164486163856316, 0.9164486163856316, 0.9164486163856316, 0.9164486163856316, 0.9164486163856316, 0.9164486163856316, 0.9164486163856316, 0.9164486163856316, 0.9164486163856316, 0.9164486163856316, 0.9164486163856316, 0.9164486163856316, 0.9164486163856316, 0.9164486163856316, 0.9164486163856316, 0.9164486163856316, 0.9164486163856316, 0.9185517188245512, 0.9185517188245512]}], \"precision_score_weighted\": [{\"categories\": [\"0\", \"1\", \"2\", \"3\", \"4\", \"5\", \"6\", \"7\", \"8\", \"9\", \"10\", \"11\", \"12\", \"13\", \"14\", \"15\", \"16\", \"17\", \"18\", \"19\", \"20\", \"21\", \"22\", \"23\", \"24\", \"25\", \"26\", \"27\", \"28\", \"29\", \"30\", \"31\", \"32\", \"33\", \"34\", \"35\", \"36\", \"37\", \"38\", \"39\", \"40\", \"41\", \"42\", \"46\", \"47\"], \"mode\": \"markers\", \"name\": \"precision_score_weighted\", \"stepped\": false, \"type\": \"scatter\", \"data\": [0.8163141398625269, 0.8204478325316984, 0.8381610663900902, 0.8319080696519027, 0.8337317374978663, 0.8280424669624461, 0.79548220645061, 0.8147342460143692, 0.8316515462078231, 0.8416702246060954, 0.7954735674661265, 0.8568457004825352, 0.8357908070803399, 0.8453047181635235, 0.8231987714432037, 0.8387419920225587, 0.8513846784233406, 0.8442577960340272, 0.8260991503789364, 0.8298257013034052, 0.8519037621060616, 0.8116359234271947, 0.8367030284451762, 0.8321238200270458, 0.8161520747123083, 0.8347680746100329, 0.83900809267291, 0.8254575400208392, 0.832211826663577, 0.8612610648485012, 0.8038757906766115, 0.8263873357432354, 0.834498121625481, 0.8249216503005071, 0.8420936350293214, 0.8382090699239058, 0.823626967212849, 0.8334183936844506, 0.807974431741622, 0.8303470881321925, 0.5611233776352991, 0.8299656707999361, 0.820340701759245, 0.870487842460091, 0.8608685897330062]}, {\"categories\": [\"0\", \"1\", \"2\", \"3\", \"4\", \"5\", \"6\", \"7\", \"8\", \"9\", \"10\", \"11\", \"12\", \"13\", \"14\", \"15\", \"16\", \"17\", \"18\", \"19\", \"20\", \"21\", \"22\", \"23\", \"24\", \"25\", \"26\", \"27\", \"28\", \"29\", \"30\", \"31\", \"32\", \"33\", \"34\", \"35\", \"36\", \"37\", \"38\", \"39\", \"40\", \"41\", \"42\", \"46\", \"47\"], \"mode\": \"lines\", \"name\": \"precision_score_weighted_max\", \"stepped\": true, \"type\": \"scatter\", \"data\": [0.8163141398625269, 0.8204478325316984, 0.8381610663900902, 0.8381610663900902, 0.8381610663900902, 0.8381610663900902, 0.8381610663900902, 0.8381610663900902, 0.8381610663900902, 0.8416702246060954, 0.8416702246060954, 0.8568457004825352, 0.8568457004825352, 0.8568457004825352, 0.8568457004825352, 0.8568457004825352, 0.8568457004825352, 0.8568457004825352, 0.8568457004825352, 0.8568457004825352, 0.8568457004825352, 0.8568457004825352, 0.8568457004825352, 0.8568457004825352, 0.8568457004825352, 0.8568457004825352, 0.8568457004825352, 0.8568457004825352, 0.8568457004825352, 0.8612610648485012, 0.8612610648485012, 0.8612610648485012, 0.8612610648485012, 0.8612610648485012, 0.8612610648485012, 0.8612610648485012, 0.8612610648485012, 0.8612610648485012, 0.8612610648485012, 0.8612610648485012, 0.8612610648485012, 0.8612610648485012, 0.8612610648485012, 0.870487842460091, 0.870487842460091]}], \"recall_score_micro\": [{\"categories\": [\"0\", \"1\", \"2\", \"3\", \"4\", \"5\", \"6\", \"7\", \"8\", \"9\", \"10\", \"11\", \"12\", \"13\", \"14\", \"15\", \"16\", \"17\", \"18\", \"19\", \"20\", \"21\", \"22\", \"23\", \"24\", \"25\", \"26\", \"27\", \"28\", \"29\", \"30\", \"31\", \"32\", \"33\", \"34\", \"35\", \"36\", \"37\", \"38\", \"39\", \"40\", \"41\", \"42\", \"46\", \"47\"], \"mode\": \"markers\", \"name\": \"recall_score_micro\", \"stepped\": false, \"type\": \"scatter\", \"data\": [0.8082795698924731, 0.811290322580645, 0.8248387096774195, 0.8244086021505377, 0.8281720430107529, 0.8178494623655915, 0.7883870967741935, 0.8078494623655915, 0.8210752688172043, 0.8346236559139785, 0.7881720430107527, 0.8508602150537634, 0.8216129032258065, 0.8316129032258065, 0.8118279569892473, 0.8282795698924732, 0.8412903225806453, 0.8312903225806452, 0.8178494623655913, 0.8213978494623655, 0.841505376344086, 0.8049462365591398, 0.8279569892473118, 0.8213978494623657, 0.8081720430107527, 0.8246236559139785, 0.8315053763440862, 0.8180645161290323, 0.821505376344086, 0.8543010752688174, 0.7882795698924732, 0.8216129032258064, 0.8279569892473118, 0.8181720430107526, 0.8281720430107529, 0.8279569892473118, 0.8150537634408602, 0.824731182795699, 0.7981720430107526, 0.8212903225806454, 0.6291397849462366, 0.821505376344086, 0.8113978494623655, 0.8611827956989249, 0.8478494623655916]}, {\"categories\": [\"0\", \"1\", \"2\", \"3\", \"4\", \"5\", \"6\", \"7\", \"8\", \"9\", \"10\", \"11\", \"12\", \"13\", \"14\", \"15\", \"16\", \"17\", \"18\", \"19\", \"20\", \"21\", \"22\", \"23\", \"24\", \"25\", \"26\", \"27\", \"28\", \"29\", \"30\", \"31\", \"32\", \"33\", \"34\", \"35\", \"36\", \"37\", \"38\", \"39\", \"40\", \"41\", \"42\", \"46\", \"47\"], \"mode\": \"lines\", \"name\": \"recall_score_micro_max\", \"stepped\": true, \"type\": \"scatter\", \"data\": [0.8082795698924731, 0.811290322580645, 0.8248387096774195, 0.8248387096774195, 0.8281720430107529, 0.8281720430107529, 0.8281720430107529, 0.8281720430107529, 0.8281720430107529, 0.8346236559139785, 0.8346236559139785, 0.8508602150537634, 0.8508602150537634, 0.8508602150537634, 0.8508602150537634, 0.8508602150537634, 0.8508602150537634, 0.8508602150537634, 0.8508602150537634, 0.8508602150537634, 0.8508602150537634, 0.8508602150537634, 0.8508602150537634, 0.8508602150537634, 0.8508602150537634, 0.8508602150537634, 0.8508602150537634, 0.8508602150537634, 0.8508602150537634, 0.8543010752688174, 0.8543010752688174, 0.8543010752688174, 0.8543010752688174, 0.8543010752688174, 0.8543010752688174, 0.8543010752688174, 0.8543010752688174, 0.8543010752688174, 0.8543010752688174, 0.8543010752688174, 0.8543010752688174, 0.8543010752688174, 0.8543010752688174, 0.8611827956989249, 0.8611827956989249]}], \"f1_score_macro\": [{\"categories\": [\"0\", \"1\", \"2\", \"3\", \"4\", \"5\", \"6\", \"7\", \"8\", \"9\", \"10\", \"11\", \"12\", \"13\", \"14\", \"15\", \"16\", \"17\", \"18\", \"19\", \"20\", \"21\", \"22\", \"23\", \"24\", \"25\", \"26\", \"27\", \"28\", \"29\", \"30\", \"31\", \"32\", \"33\", \"34\", \"35\", \"36\", \"37\", \"38\", \"39\", \"40\", \"41\", \"42\", \"46\", \"47\"], \"mode\": \"markers\", \"name\": \"f1_score_macro\", \"stepped\": false, \"type\": \"scatter\", \"data\": [0.8020389630641217, 0.8049385458595983, 0.8166518932513874, 0.8176204709774607, 0.820195129475645, 0.8127492821410225, 0.7807802315168753, 0.8028016290056745, 0.8162134609880903, 0.8305879684922779, 0.7802218009505635, 0.8450115377406027, 0.8139336227110974, 0.824142324140387, 0.8022849110661079, 0.820238952958881, 0.8348836997081452, 0.8260637601005014, 0.8124854712636775, 0.8141615852594553, 0.8357057287500099, 0.7980395535646059, 0.8224484702081154, 0.8135988723643663, 0.8000999034488723, 0.8184678529197755, 0.8232557681123758, 0.8083448828258689, 0.8150846066756687, 0.8508194416995728, 0.782196634423508, 0.8169928930819903, 0.8218960443151619, 0.809607644204777, 0.8212989337290347, 0.8198357732753783, 0.804729339154575, 0.8180578533701764, 0.7944626935709633, 0.817180576861263, 0.573955257931934, 0.815185195901258, 0.8049181155703156, 0.8556373084155915, 0.8412115499462951]}, {\"categories\": [\"0\", \"1\", \"2\", \"3\", \"4\", \"5\", \"6\", \"7\", \"8\", \"9\", \"10\", \"11\", \"12\", \"13\", \"14\", \"15\", \"16\", \"17\", \"18\", \"19\", \"20\", \"21\", \"22\", \"23\", \"24\", \"25\", \"26\", \"27\", \"28\", \"29\", \"30\", \"31\", \"32\", \"33\", \"34\", \"35\", \"36\", \"37\", \"38\", \"39\", \"40\", \"41\", \"42\", \"46\", \"47\"], \"mode\": \"lines\", \"name\": \"f1_score_macro_max\", \"stepped\": true, \"type\": \"scatter\", \"data\": [0.8020389630641217, 0.8049385458595983, 0.8166518932513874, 0.8176204709774607, 0.820195129475645, 0.820195129475645, 0.820195129475645, 0.820195129475645, 0.820195129475645, 0.8305879684922779, 0.8305879684922779, 0.8450115377406027, 0.8450115377406027, 0.8450115377406027, 0.8450115377406027, 0.8450115377406027, 0.8450115377406027, 0.8450115377406027, 0.8450115377406027, 0.8450115377406027, 0.8450115377406027, 0.8450115377406027, 0.8450115377406027, 0.8450115377406027, 0.8450115377406027, 0.8450115377406027, 0.8450115377406027, 0.8450115377406027, 0.8450115377406027, 0.8508194416995728, 0.8508194416995728, 0.8508194416995728, 0.8508194416995728, 0.8508194416995728, 0.8508194416995728, 0.8508194416995728, 0.8508194416995728, 0.8508194416995728, 0.8508194416995728, 0.8508194416995728, 0.8508194416995728, 0.8508194416995728, 0.8508194416995728, 0.8556373084155915, 0.8556373084155915]}], \"average_precision_score_macro\": [{\"categories\": [\"0\", \"1\", \"2\", \"3\", \"4\", \"5\", \"6\", \"7\", \"8\", \"9\", \"10\", \"11\", \"12\", \"13\", \"14\", \"15\", \"16\", \"17\", \"18\", \"19\", \"20\", \"21\", \"22\", \"23\", \"24\", \"25\", \"26\", \"27\", \"28\", \"29\", \"30\", \"31\", \"32\", \"33\", \"34\", \"35\", \"36\", \"37\", \"38\", \"39\", \"40\", \"41\", \"42\", \"46\", \"47\"], \"mode\": \"markers\", \"name\": \"average_precision_score_macro\", \"stepped\": false, \"type\": \"scatter\", \"data\": [0.8861054259900077, 0.8925372994430087, 0.9066561443408452, 0.9098753074378756, 0.9091418244819254, 0.8986475622418393, 0.8717274269414247, 0.8933634422007192, 0.9034003428310186, 0.9162363526697511, 0.8661227496923681, 0.9193480345659347, 0.9091736006866459, 0.9105929841370985, 0.8943356862873963, 0.9134860642449274, 0.919334447198581, 0.9078673716472492, 0.892465080855622, 0.9188868730576898, 0.9252265249312128, 0.8892881377647722, 0.918866633984603, 0.9117671124001145, 0.8923522379996098, 0.896330986784544, 0.9116402562876663, 0.9140180443602504, 0.9152387840161076, 0.9101833547976479, 0.8683458385683587, 0.8973606025155958, 0.9095514804493785, 0.9078780718612307, 0.9142786429164191, 0.9083768878660354, 0.9109148251224355, 0.9006744492208568, 0.8845158362256347, 0.9126298408959421, 0.6030923644719647, 0.9098305163607444, 0.9063161915755085, 0.9232534985452012, 0.9228896816806273]}, {\"categories\": [\"0\", \"1\", \"2\", \"3\", \"4\", \"5\", \"6\", \"7\", \"8\", \"9\", \"10\", \"11\", \"12\", \"13\", \"14\", \"15\", \"16\", \"17\", \"18\", \"19\", \"20\", \"21\", \"22\", \"23\", \"24\", \"25\", \"26\", \"27\", \"28\", \"29\", \"30\", \"31\", \"32\", \"33\", \"34\", \"35\", \"36\", \"37\", \"38\", \"39\", \"40\", \"41\", \"42\", \"46\", \"47\"], \"mode\": \"lines\", \"name\": \"average_precision_score_macro_max\", \"stepped\": true, \"type\": \"scatter\", \"data\": [0.8861054259900077, 0.8925372994430087, 0.9066561443408452, 0.9098753074378756, 0.9098753074378756, 0.9098753074378756, 0.9098753074378756, 0.9098753074378756, 0.9098753074378756, 0.9162363526697511, 0.9162363526697511, 0.9193480345659347, 0.9193480345659347, 0.9193480345659347, 0.9193480345659347, 0.9193480345659347, 0.9193480345659347, 0.9193480345659347, 0.9193480345659347, 0.9193480345659347, 0.9252265249312128, 0.9252265249312128, 0.9252265249312128, 0.9252265249312128, 0.9252265249312128, 0.9252265249312128, 0.9252265249312128, 0.9252265249312128, 0.9252265249312128, 0.9252265249312128, 0.9252265249312128, 0.9252265249312128, 0.9252265249312128, 0.9252265249312128, 0.9252265249312128, 0.9252265249312128, 0.9252265249312128, 0.9252265249312128, 0.9252265249312128, 0.9252265249312128, 0.9252265249312128, 0.9252265249312128, 0.9252265249312128, 0.9252265249312128, 0.9252265249312128]}], \"balanced_accuracy\": [{\"categories\": [\"0\", \"1\", \"2\", \"3\", \"4\", \"5\", \"6\", \"7\", \"8\", \"9\", \"10\", \"11\", \"12\", \"13\", \"14\", \"15\", \"16\", \"17\", \"18\", \"19\", \"20\", \"21\", \"22\", \"23\", \"24\", \"25\", \"26\", \"27\", \"28\", \"29\", \"30\", \"31\", \"32\", \"33\", \"34\", \"35\", \"36\", \"37\", \"38\", \"39\", \"40\", \"41\", \"42\", \"46\", \"47\"], \"mode\": \"markers\", \"name\": \"balanced_accuracy\", \"stepped\": false, \"type\": \"scatter\", \"data\": [0.8041295114843875, 0.806959361373061, 0.8188263402833836, 0.818926257780747, 0.8188047768794672, 0.8148402816224024, 0.7817194909493671, 0.8043939948080816, 0.8182267796702781, 0.832755990139891, 0.7801838656269771, 0.8452282553617694, 0.817263041610952, 0.8271753719276941, 0.801978570964639, 0.8227072246209245, 0.8375371373552486, 0.828046188202922, 0.8133911270617926, 0.8143249532974763, 0.8376183061864177, 0.8005275956843294, 0.824483018271718, 0.814399603879093, 0.8008448508835506, 0.8200861651248648, 0.8245002181341192, 0.8074040525607863, 0.8172241200491974, 0.8519956333656025, 0.7849526301441936, 0.8184796874522104, 0.822117507965031, 0.808862588864524, 0.8250993485358812, 0.8208891070230081, 0.8050706455137571, 0.8182630342653564, 0.7983370737879251, 0.8211990647381515, 0.6246774793833617, 0.8154439272028281, 0.8068070575365466, 0.8570993959171205, 0.8426738266463498]}, {\"categories\": [\"0\", \"1\", \"2\", \"3\", \"4\", \"5\", \"6\", \"7\", \"8\", \"9\", \"10\", \"11\", \"12\", \"13\", \"14\", \"15\", \"16\", \"17\", \"18\", \"19\", \"20\", \"21\", \"22\", \"23\", \"24\", \"25\", \"26\", \"27\", \"28\", \"29\", \"30\", \"31\", \"32\", \"33\", \"34\", \"35\", \"36\", \"37\", \"38\", \"39\", \"40\", \"41\", \"42\", \"46\", \"47\"], \"mode\": \"lines\", \"name\": \"balanced_accuracy_max\", \"stepped\": true, \"type\": \"scatter\", \"data\": [0.8041295114843875, 0.806959361373061, 0.8188263402833836, 0.818926257780747, 0.818926257780747, 0.818926257780747, 0.818926257780747, 0.818926257780747, 0.818926257780747, 0.832755990139891, 0.832755990139891, 0.8452282553617694, 0.8452282553617694, 0.8452282553617694, 0.8452282553617694, 0.8452282553617694, 0.8452282553617694, 0.8452282553617694, 0.8452282553617694, 0.8452282553617694, 0.8452282553617694, 0.8452282553617694, 0.8452282553617694, 0.8452282553617694, 0.8452282553617694, 0.8452282553617694, 0.8452282553617694, 0.8452282553617694, 0.8452282553617694, 0.8519956333656025, 0.8519956333656025, 0.8519956333656025, 0.8519956333656025, 0.8519956333656025, 0.8519956333656025, 0.8519956333656025, 0.8519956333656025, 0.8519956333656025, 0.8519956333656025, 0.8519956333656025, 0.8519956333656025, 0.8519956333656025, 0.8519956333656025, 0.8570993959171205, 0.8570993959171205]}], \"matthews_correlation\": [{\"categories\": [\"0\", \"1\", \"2\", \"3\", \"4\", \"5\", \"6\", \"7\", \"8\", \"9\", \"10\", \"11\", \"12\", \"13\", \"14\", \"15\", \"16\", \"17\", \"18\", \"19\", \"20\", \"21\", \"22\", \"23\", \"24\", \"25\", \"26\", \"27\", \"28\", \"29\", \"30\", \"31\", \"32\", \"33\", \"34\", \"35\", \"36\", \"37\", \"38\", \"39\", \"40\", \"41\", \"42\", \"46\", \"47\"], \"mode\": \"markers\", \"name\": \"matthews_correlation\", \"stepped\": false, \"type\": \"scatter\", \"data\": [0.6145675674321259, 0.6217536108959869, 0.6529039398740857, 0.6461618465773841, 0.6500901011854907, 0.6370470571331472, 0.5707811942521668, 0.6133617581082447, 0.6447607214079698, 0.668853977861768, 0.5708771736538976, 0.6989703012955063, 0.6478626501979137, 0.6676610764595386, 0.6223121297376494, 0.6562877948753802, 0.6830947655026385, 0.6677792264576284, 0.635715113790342, 0.6404485601365703, 0.6849653850826143, 0.6053442300783012, 0.6555523167690505, 0.6421087804912078, 0.6111900037370325, 0.6501352370999236, 0.6593647444367241, 0.6298603707981645, 0.6436439250142509, 0.7088067356903494, 0.5830869868064305, 0.6387420140249133, 0.6526065699062229, 0.6307318113105678, 0.6612102316854056, 0.6554621827839129, 0.6245496632642394, 0.6479499991074879, 0.5987385824603823, 0.643933003310678, 0.2554175441998035, 0.6415783675988321, 0.6213699781027069, 0.7238601548021106, 0.6995727561651699]}, {\"categories\": [\"0\", \"1\", \"2\", \"3\", \"4\", \"5\", \"6\", \"7\", \"8\", \"9\", \"10\", \"11\", \"12\", \"13\", \"14\", \"15\", \"16\", \"17\", \"18\", \"19\", \"20\", \"21\", \"22\", \"23\", \"24\", \"25\", \"26\", \"27\", \"28\", \"29\", \"30\", \"31\", \"32\", \"33\", \"34\", \"35\", \"36\", \"37\", \"38\", \"39\", \"40\", \"41\", \"42\", \"46\", \"47\"], \"mode\": \"lines\", \"name\": \"matthews_correlation_max\", \"stepped\": true, \"type\": \"scatter\", \"data\": [0.6145675674321259, 0.6217536108959869, 0.6529039398740857, 0.6529039398740857, 0.6529039398740857, 0.6529039398740857, 0.6529039398740857, 0.6529039398740857, 0.6529039398740857, 0.668853977861768, 0.668853977861768, 0.6989703012955063, 0.6989703012955063, 0.6989703012955063, 0.6989703012955063, 0.6989703012955063, 0.6989703012955063, 0.6989703012955063, 0.6989703012955063, 0.6989703012955063, 0.6989703012955063, 0.6989703012955063, 0.6989703012955063, 0.6989703012955063, 0.6989703012955063, 0.6989703012955063, 0.6989703012955063, 0.6989703012955063, 0.6989703012955063, 0.7088067356903494, 0.7088067356903494, 0.7088067356903494, 0.7088067356903494, 0.7088067356903494, 0.7088067356903494, 0.7088067356903494, 0.7088067356903494, 0.7088067356903494, 0.7088067356903494, 0.7088067356903494, 0.7088067356903494, 0.7088067356903494, 0.7088067356903494, 0.7238601548021106, 0.7238601548021106]}]}, \"metricName\": null, \"primaryMetricName\": \"accuracy\", \"showLegend\": false}, \"run_metrics\": [{\"name\": \"experiment_status\", \"run_id\": \"AutoML_a44c0534-d182-4428-b34f-1a1e4ddb03c6\", \"categories\": [0, 1, 2, 3, 4, 5, 6, 7, 8, 9, 10, 11, 12, 13], \"series\": [{\"data\": [\"DatasetEvaluation\", \"FeaturesGeneration\", \"DatasetFeaturization\", \"DatasetFeaturizationCompleted\", \"DatasetCrossValidationSplit\", \"ModelSelection\", \"BestRunExplainModel\", \"ModelExplanationDataSetSetup\", \"PickSurrogateModel\", \"EngineeredFeatureExplanations\", \"EngineeredFeatureExplanations\", \"RawFeaturesExplanations\", \"RawFeaturesExplanations\", \"BestRunExplainModel\"]}]}, {\"name\": \"experiment_status_description\", \"run_id\": \"AutoML_a44c0534-d182-4428-b34f-1a1e4ddb03c6\", \"categories\": [0, 1, 2, 3, 4, 5, 6, 7, 8, 9, 10, 11, 12, 13], \"series\": [{\"data\": [\"Gathering dataset statistics.\", \"Generating features for the dataset.\", \"Beginning to fit featurizers and featurize the dataset.\", \"Completed fit featurizers and featurizing the dataset.\", \"Generating individually featurized CV splits.\", \"Beginning model selection.\", \"Best run model explanations started\", \"Model explanations data setup completed\", \"Choosing LightGBM as the surrogate model for explanations\", \"Computation of engineered features started\", \"Computation of engineered features completed\", \"Computation of raw features started\", \"Computation of raw features completed\", \"Best run model explanations completed\"]}]}, {\"name\": \"precision_score_micro\", \"run_id\": \"AutoML_a44c0534-d182-4428-b34f-1a1e4ddb03c6\", \"categories\": [0], \"series\": [{\"data\": [0.8611827956989249]}]}, {\"name\": \"recall_score_weighted\", \"run_id\": \"AutoML_a44c0534-d182-4428-b34f-1a1e4ddb03c6\", \"categories\": [0], \"series\": [{\"data\": [0.8611827956989249]}]}, {\"name\": \"average_precision_score_weighted\", \"run_id\": \"AutoML_a44c0534-d182-4428-b34f-1a1e4ddb03c6\", \"categories\": [0], \"series\": [{\"data\": [0.9264349772543661]}]}, {\"name\": \"precision_score_weighted\", \"run_id\": \"AutoML_a44c0534-d182-4428-b34f-1a1e4ddb03c6\", \"categories\": [0], \"series\": [{\"data\": [0.870487842460091]}]}, {\"name\": \"weighted_accuracy\", \"run_id\": \"AutoML_a44c0534-d182-4428-b34f-1a1e4ddb03c6\", \"categories\": [0], \"series\": [{\"data\": [0.8648091546216305]}]}, {\"name\": \"AUC_weighted\", \"run_id\": \"AutoML_a44c0534-d182-4428-b34f-1a1e4ddb03c6\", \"categories\": [0], \"series\": [{\"data\": [0.9190213390124381]}]}, {\"name\": \"f1_score_micro\", \"run_id\": \"AutoML_a44c0534-d182-4428-b34f-1a1e4ddb03c6\", \"categories\": [0], \"series\": [{\"data\": [0.8611827956989249]}]}, {\"name\": \"balanced_accuracy\", \"run_id\": \"AutoML_a44c0534-d182-4428-b34f-1a1e4ddb03c6\", \"categories\": [0], \"series\": [{\"data\": [0.8570993959171205]}]}, {\"name\": \"precision_score_macro\", \"run_id\": \"AutoML_a44c0534-d182-4428-b34f-1a1e4ddb03c6\", \"categories\": [0], \"series\": [{\"data\": [0.8671726761800291]}]}, {\"name\": \"matthews_correlation\", \"run_id\": \"AutoML_a44c0534-d182-4428-b34f-1a1e4ddb03c6\", \"categories\": [0], \"series\": [{\"data\": [0.7238601548021106]}]}, {\"name\": \"average_precision_score_macro\", \"run_id\": \"AutoML_a44c0534-d182-4428-b34f-1a1e4ddb03c6\", \"categories\": [0], \"series\": [{\"data\": [0.9232534985452012]}]}, {\"name\": \"AUC_macro\", \"run_id\": \"AutoML_a44c0534-d182-4428-b34f-1a1e4ddb03c6\", \"categories\": [0], \"series\": [{\"data\": [0.9190213390124381]}]}, {\"name\": \"average_precision_score_micro\", \"run_id\": \"AutoML_a44c0534-d182-4428-b34f-1a1e4ddb03c6\", \"categories\": [0], \"series\": [{\"data\": [0.9185517188245512]}]}, {\"name\": \"f1_score_macro\", \"run_id\": \"AutoML_a44c0534-d182-4428-b34f-1a1e4ddb03c6\", \"categories\": [0], \"series\": [{\"data\": [0.8556373084155915]}]}, {\"name\": \"log_loss\", \"run_id\": \"AutoML_a44c0534-d182-4428-b34f-1a1e4ddb03c6\", \"categories\": [0], \"series\": [{\"data\": [0.44979704841740986]}]}, {\"name\": \"norm_macro_recall\", \"run_id\": \"AutoML_a44c0534-d182-4428-b34f-1a1e4ddb03c6\", \"categories\": [0], \"series\": [{\"data\": [0.7141987918342407]}]}, {\"name\": \"f1_score_weighted\", \"run_id\": \"AutoML_a44c0534-d182-4428-b34f-1a1e4ddb03c6\", \"categories\": [0], \"series\": [{\"data\": [0.8596698874191743]}]}, {\"name\": \"recall_score_macro\", \"run_id\": \"AutoML_a44c0534-d182-4428-b34f-1a1e4ddb03c6\", \"categories\": [0], \"series\": [{\"data\": [0.8570993959171205]}]}, {\"name\": \"AUC_micro\", \"run_id\": \"AutoML_a44c0534-d182-4428-b34f-1a1e4ddb03c6\", \"categories\": [0], \"series\": [{\"data\": [0.9159115504682621]}]}, {\"name\": \"recall_score_micro\", \"run_id\": \"AutoML_a44c0534-d182-4428-b34f-1a1e4ddb03c6\", \"categories\": [0], \"series\": [{\"data\": [0.8611827956989249]}]}, {\"name\": \"accuracy\", \"run_id\": \"AutoML_a44c0534-d182-4428-b34f-1a1e4ddb03c6\", \"categories\": [0], \"series\": [{\"data\": [0.8611827956989249]}]}], \"run_logs\": \"\\nRun is completed.\", \"graph\": {}, \"widget_settings\": {\"childWidgetDisplay\": \"popup\", \"send_telemetry\": false, \"log_level\": \"INFO\", \"sdk_version\": \"1.19.0\"}, \"loading\": false}"
     },
     "metadata": {},
     "output_type": "display_data"
    }
   ],
   "source": [
    "from azureml.widgets import RunDetails\n",
    "RunDetails(remote_run).show()"
   ]
  },
  {
   "cell_type": "code",
   "execution_count": 51,
   "metadata": {},
   "outputs": [
    {
     "data": {
      "text/plain": [
       "{'runId': 'AutoML_a44c0534-d182-4428-b34f-1a1e4ddb03c6',\n",
       " 'target': 'auto-ml',\n",
       " 'status': 'Completed',\n",
       " 'startTimeUtc': '2021-01-12T15:29:28.629048Z',\n",
       " 'endTimeUtc': '2021-01-12T15:56:34.629892Z',\n",
       " 'properties': {'num_iterations': '1000',\n",
       "  'training_type': 'TrainFull',\n",
       "  'acquisition_function': 'EI',\n",
       "  'primary_metric': 'accuracy',\n",
       "  'train_split': '0',\n",
       "  'acquisition_parameter': '0',\n",
       "  'num_cross_validation': None,\n",
       "  'target': 'auto-ml',\n",
       "  'AMLSettingsJsonString': '{\"path\":null,\"name\":\"heart-disease-experiment-ml1\",\"subscription_id\":\"610d6e37-4747-4a20-80eb-3aad70a55f43\",\"resource_group\":\"aml-quickstarts-134454\",\"workspace_name\":\"quick-starts-ws-134454\",\"region\":\"southcentralus\",\"compute_target\":\"auto-ml\",\"spark_service\":null,\"azure_service\":\"remote\",\"many_models\":false,\"pipeline_fetch_max_batch_size\":1,\"iterations\":1000,\"primary_metric\":\"accuracy\",\"task_type\":\"classification\",\"data_script\":null,\"validation_size\":0.0,\"n_cross_validations\":null,\"y_min\":null,\"y_max\":null,\"num_classes\":null,\"featurization\":\"auto\",\"_ignore_package_version_incompatibilities\":false,\"is_timeseries\":false,\"max_cores_per_iteration\":1,\"max_concurrent_iterations\":5,\"iteration_timeout_minutes\":null,\"mem_in_mb\":null,\"enforce_time_on_windows\":false,\"experiment_timeout_minutes\":15,\"experiment_exit_score\":null,\"whitelist_models\":null,\"blacklist_algos\":[\"TensorFlowLinearClassifier\",\"TensorFlowDNN\"],\"supported_models\":[\"XGBoostClassifier\",\"TensorFlowLinearClassifier\",\"GradientBoosting\",\"LogisticRegression\",\"LightGBM\",\"SVM\",\"ExtremeRandomTrees\",\"MultinomialNaiveBayes\",\"SGD\",\"DecisionTree\",\"TensorFlowDNN\",\"AveragedPerceptronClassifier\",\"KNN\",\"LinearSVM\",\"BernoulliNaiveBayes\",\"RandomForest\"],\"auto_blacklist\":true,\"blacklist_samples_reached\":false,\"exclude_nan_labels\":true,\"verbosity\":20,\"_debug_log\":\"azureml_automl.log\",\"show_warnings\":false,\"model_explainability\":true,\"service_url\":null,\"sdk_url\":null,\"sdk_packages\":null,\"enable_onnx_compatible_models\":false,\"enable_split_onnx_featurizer_estimator_models\":false,\"vm_type\":\"STANDARD_D2_V2\",\"telemetry_verbosity\":20,\"send_telemetry\":true,\"enable_dnn\":false,\"scenario\":\"SDK-1.13.0\",\"environment_label\":null,\"force_text_dnn\":false,\"enable_feature_sweeping\":true,\"enable_early_stopping\":true,\"early_stopping_n_iters\":10,\"metrics\":null,\"enable_ensembling\":true,\"enable_stack_ensembling\":true,\"ensemble_iterations\":15,\"enable_tf\":false,\"enable_subsampling\":null,\"subsample_seed\":null,\"enable_nimbusml\":false,\"enable_streaming\":false,\"force_streaming\":false,\"track_child_runs\":true,\"allowed_private_models\":[],\"label_column_name\":\"target\",\"weight_column_name\":null,\"cv_split_column_names\":null,\"enable_local_managed\":false,\"_local_managed_run_id\":null,\"cost_mode\":1,\"lag_length\":0,\"metric_operation\":\"maximize\",\"preprocess\":true}',\n",
       "  'DataPrepJsonString': '{\\\\\"training_data\\\\\": \\\\\"{\\\\\\\\\\\\\"blocks\\\\\\\\\\\\\": [{\\\\\\\\\\\\\"id\\\\\\\\\\\\\": \\\\\\\\\\\\\"15b293ff-08af-4880-abb9-d2ecef7121eb\\\\\\\\\\\\\", \\\\\\\\\\\\\"type\\\\\\\\\\\\\": \\\\\\\\\\\\\"Microsoft.DPrep.GetFilesBlock\\\\\\\\\\\\\", \\\\\\\\\\\\\"arguments\\\\\\\\\\\\\": {\\\\\\\\\\\\\"isArchive\\\\\\\\\\\\\": false, \\\\\\\\\\\\\"path\\\\\\\\\\\\\": {\\\\\\\\\\\\\"target\\\\\\\\\\\\\": 4, \\\\\\\\\\\\\"resourceDetails\\\\\\\\\\\\\": [{\\\\\\\\\\\\\"path\\\\\\\\\\\\\": \\\\\\\\\\\\\"https://raw.githubusercontent.com/SadmiB/Heart-Disease-Prediction/master/heart.csv\\\\\\\\\\\\\"}]}}, \\\\\\\\\\\\\"localData\\\\\\\\\\\\\": {}, \\\\\\\\\\\\\"isEnabled\\\\\\\\\\\\\": true, \\\\\\\\\\\\\"name\\\\\\\\\\\\\": null, \\\\\\\\\\\\\"annotation\\\\\\\\\\\\\": null}, {\\\\\\\\\\\\\"id\\\\\\\\\\\\\": \\\\\\\\\\\\\"b4841e70-ef66-4b34-8ea7-9af46c4810e6\\\\\\\\\\\\\", \\\\\\\\\\\\\"type\\\\\\\\\\\\\": \\\\\\\\\\\\\"Microsoft.DPrep.ParseDelimitedBlock\\\\\\\\\\\\\", \\\\\\\\\\\\\"arguments\\\\\\\\\\\\\": {\\\\\\\\\\\\\"columnHeadersMode\\\\\\\\\\\\\": 3, \\\\\\\\\\\\\"fileEncoding\\\\\\\\\\\\\": 0, \\\\\\\\\\\\\"handleQuotedLineBreaks\\\\\\\\\\\\\": false, \\\\\\\\\\\\\"preview\\\\\\\\\\\\\": false, \\\\\\\\\\\\\"separator\\\\\\\\\\\\\": \\\\\\\\\\\\\",\\\\\\\\\\\\\", \\\\\\\\\\\\\"skipRows\\\\\\\\\\\\\": 0, \\\\\\\\\\\\\"skipRowsMode\\\\\\\\\\\\\": 0}, \\\\\\\\\\\\\"localData\\\\\\\\\\\\\": {}, \\\\\\\\\\\\\"isEnabled\\\\\\\\\\\\\": true, \\\\\\\\\\\\\"name\\\\\\\\\\\\\": null, \\\\\\\\\\\\\"annotation\\\\\\\\\\\\\": null}, {\\\\\\\\\\\\\"id\\\\\\\\\\\\\": \\\\\\\\\\\\\"a5ec90d6-0341-42ab-846d-abbb7ccb7abf\\\\\\\\\\\\\", \\\\\\\\\\\\\"type\\\\\\\\\\\\\": \\\\\\\\\\\\\"Microsoft.DPrep.DropColumnsBlock\\\\\\\\\\\\\", \\\\\\\\\\\\\"arguments\\\\\\\\\\\\\": {\\\\\\\\\\\\\"columns\\\\\\\\\\\\\": {\\\\\\\\\\\\\"type\\\\\\\\\\\\\": 0, \\\\\\\\\\\\\"details\\\\\\\\\\\\\": {\\\\\\\\\\\\\"selectedColumns\\\\\\\\\\\\\": [\\\\\\\\\\\\\"Path\\\\\\\\\\\\\"]}}}, \\\\\\\\\\\\\"localData\\\\\\\\\\\\\": {}, \\\\\\\\\\\\\"isEnabled\\\\\\\\\\\\\": true, \\\\\\\\\\\\\"name\\\\\\\\\\\\\": null, \\\\\\\\\\\\\"annotation\\\\\\\\\\\\\": null}, {\\\\\\\\\\\\\"id\\\\\\\\\\\\\": \\\\\\\\\\\\\"055ea0ac-0aa7-42ed-a4a0-53f283e3ddbe\\\\\\\\\\\\\", \\\\\\\\\\\\\"type\\\\\\\\\\\\\": \\\\\\\\\\\\\"Microsoft.DPrep.SetColumnTypesBlock\\\\\\\\\\\\\", \\\\\\\\\\\\\"arguments\\\\\\\\\\\\\": {\\\\\\\\\\\\\"columnConversion\\\\\\\\\\\\\": [{\\\\\\\\\\\\\"column\\\\\\\\\\\\\": {\\\\\\\\\\\\\"type\\\\\\\\\\\\\": 2, \\\\\\\\\\\\\"details\\\\\\\\\\\\\": {\\\\\\\\\\\\\"selectedColumn\\\\\\\\\\\\\": \\\\\\\\\\\\\"age\\\\\\\\\\\\\"}}, \\\\\\\\\\\\\"typeProperty\\\\\\\\\\\\\": 2}, {\\\\\\\\\\\\\"column\\\\\\\\\\\\\": {\\\\\\\\\\\\\"type\\\\\\\\\\\\\": 2, \\\\\\\\\\\\\"details\\\\\\\\\\\\\": {\\\\\\\\\\\\\"selectedColumn\\\\\\\\\\\\\": \\\\\\\\\\\\\"sex\\\\\\\\\\\\\"}}, \\\\\\\\\\\\\"typeProperty\\\\\\\\\\\\\": 2}, {\\\\\\\\\\\\\"column\\\\\\\\\\\\\": {\\\\\\\\\\\\\"type\\\\\\\\\\\\\": 2, \\\\\\\\\\\\\"details\\\\\\\\\\\\\": {\\\\\\\\\\\\\"selectedColumn\\\\\\\\\\\\\": \\\\\\\\\\\\\"cp\\\\\\\\\\\\\"}}, \\\\\\\\\\\\\"typeProperty\\\\\\\\\\\\\": 2}, {\\\\\\\\\\\\\"column\\\\\\\\\\\\\": {\\\\\\\\\\\\\"type\\\\\\\\\\\\\": 2, \\\\\\\\\\\\\"details\\\\\\\\\\\\\": {\\\\\\\\\\\\\"selectedColumn\\\\\\\\\\\\\": \\\\\\\\\\\\\"trestbps\\\\\\\\\\\\\"}}, \\\\\\\\\\\\\"typeProperty\\\\\\\\\\\\\": 2}, {\\\\\\\\\\\\\"column\\\\\\\\\\\\\": {\\\\\\\\\\\\\"type\\\\\\\\\\\\\": 2, \\\\\\\\\\\\\"details\\\\\\\\\\\\\": {\\\\\\\\\\\\\"selectedColumn\\\\\\\\\\\\\": \\\\\\\\\\\\\"chol\\\\\\\\\\\\\"}}, \\\\\\\\\\\\\"typeProperty\\\\\\\\\\\\\": 2}, {\\\\\\\\\\\\\"column\\\\\\\\\\\\\": {\\\\\\\\\\\\\"type\\\\\\\\\\\\\": 2, \\\\\\\\\\\\\"details\\\\\\\\\\\\\": {\\\\\\\\\\\\\"selectedColumn\\\\\\\\\\\\\": \\\\\\\\\\\\\"fbs\\\\\\\\\\\\\"}}, \\\\\\\\\\\\\"typeProperty\\\\\\\\\\\\\": 2}, {\\\\\\\\\\\\\"column\\\\\\\\\\\\\": {\\\\\\\\\\\\\"type\\\\\\\\\\\\\": 2, \\\\\\\\\\\\\"details\\\\\\\\\\\\\": {\\\\\\\\\\\\\"selectedColumn\\\\\\\\\\\\\": \\\\\\\\\\\\\"restecg\\\\\\\\\\\\\"}}, \\\\\\\\\\\\\"typeProperty\\\\\\\\\\\\\": 2}, {\\\\\\\\\\\\\"column\\\\\\\\\\\\\": {\\\\\\\\\\\\\"type\\\\\\\\\\\\\": 2, \\\\\\\\\\\\\"details\\\\\\\\\\\\\": {\\\\\\\\\\\\\"selectedColumn\\\\\\\\\\\\\": \\\\\\\\\\\\\"thalach\\\\\\\\\\\\\"}}, \\\\\\\\\\\\\"typeProperty\\\\\\\\\\\\\": 2}, {\\\\\\\\\\\\\"column\\\\\\\\\\\\\": {\\\\\\\\\\\\\"type\\\\\\\\\\\\\": 2, \\\\\\\\\\\\\"details\\\\\\\\\\\\\": {\\\\\\\\\\\\\"selectedColumn\\\\\\\\\\\\\": \\\\\\\\\\\\\"exang\\\\\\\\\\\\\"}}, \\\\\\\\\\\\\"typeProperty\\\\\\\\\\\\\": 2}, {\\\\\\\\\\\\\"column\\\\\\\\\\\\\": {\\\\\\\\\\\\\"type\\\\\\\\\\\\\": 2, \\\\\\\\\\\\\"details\\\\\\\\\\\\\": {\\\\\\\\\\\\\"selectedColumn\\\\\\\\\\\\\": \\\\\\\\\\\\\"oldpeak\\\\\\\\\\\\\"}}, \\\\\\\\\\\\\"typeProperty\\\\\\\\\\\\\": 3}, {\\\\\\\\\\\\\"column\\\\\\\\\\\\\": {\\\\\\\\\\\\\"type\\\\\\\\\\\\\": 2, \\\\\\\\\\\\\"details\\\\\\\\\\\\\": {\\\\\\\\\\\\\"selectedColumn\\\\\\\\\\\\\": \\\\\\\\\\\\\"slope\\\\\\\\\\\\\"}}, \\\\\\\\\\\\\"typeProperty\\\\\\\\\\\\\": 2}, {\\\\\\\\\\\\\"column\\\\\\\\\\\\\": {\\\\\\\\\\\\\"type\\\\\\\\\\\\\": 2, \\\\\\\\\\\\\"details\\\\\\\\\\\\\": {\\\\\\\\\\\\\"selectedColumn\\\\\\\\\\\\\": \\\\\\\\\\\\\"ca\\\\\\\\\\\\\"}}, \\\\\\\\\\\\\"typeProperty\\\\\\\\\\\\\": 2}, {\\\\\\\\\\\\\"column\\\\\\\\\\\\\": {\\\\\\\\\\\\\"type\\\\\\\\\\\\\": 2, \\\\\\\\\\\\\"details\\\\\\\\\\\\\": {\\\\\\\\\\\\\"selectedColumn\\\\\\\\\\\\\": \\\\\\\\\\\\\"thal\\\\\\\\\\\\\"}}, \\\\\\\\\\\\\"typeProperty\\\\\\\\\\\\\": 2}, {\\\\\\\\\\\\\"column\\\\\\\\\\\\\": {\\\\\\\\\\\\\"type\\\\\\\\\\\\\": 2, \\\\\\\\\\\\\"details\\\\\\\\\\\\\": {\\\\\\\\\\\\\"selectedColumn\\\\\\\\\\\\\": \\\\\\\\\\\\\"target\\\\\\\\\\\\\"}}, \\\\\\\\\\\\\"typeProperty\\\\\\\\\\\\\": 2}]}, \\\\\\\\\\\\\"localData\\\\\\\\\\\\\": {}, \\\\\\\\\\\\\"isEnabled\\\\\\\\\\\\\": true, \\\\\\\\\\\\\"name\\\\\\\\\\\\\": null, \\\\\\\\\\\\\"annotation\\\\\\\\\\\\\": null}], \\\\\\\\\\\\\"inspectors\\\\\\\\\\\\\": [], \\\\\\\\\\\\\"meta\\\\\\\\\\\\\": {\\\\\\\\\\\\\"savedDatasetId\\\\\\\\\\\\\": \\\\\\\\\\\\\"1539131c-8738-4ef5-918e-be239af65251\\\\\\\\\\\\\", \\\\\\\\\\\\\"datasetType\\\\\\\\\\\\\": \\\\\\\\\\\\\"tabular\\\\\\\\\\\\\", \\\\\\\\\\\\\"subscriptionId\\\\\\\\\\\\\": \\\\\\\\\\\\\"610d6e37-4747-4a20-80eb-3aad70a55f43\\\\\\\\\\\\\", \\\\\\\\\\\\\"workspaceId\\\\\\\\\\\\\": \\\\\\\\\\\\\"d6f26cc6-67ba-43a1-989c-886c482668a1\\\\\\\\\\\\\", \\\\\\\\\\\\\"workspaceLocation\\\\\\\\\\\\\": \\\\\\\\\\\\\"southcentralus\\\\\\\\\\\\\"}}\\\\\", \\\\\"activities\\\\\": 0}',\n",
       "  'EnableSubsampling': None,\n",
       "  'runTemplate': 'AutoML',\n",
       "  'azureml.runsource': 'automl',\n",
       "  'display_task_type': 'classification',\n",
       "  'dependencies_versions': '{\"azureml-widgets\": \"1.19.0\", \"azureml-train\": \"1.19.0\", \"azureml-train-restclients-hyperdrive\": \"1.19.0\", \"azureml-train-core\": \"1.19.0\", \"azureml-train-automl\": \"1.19.0\", \"azureml-train-automl-runtime\": \"1.19.0\", \"azureml-train-automl-client\": \"1.19.0\", \"azureml-tensorboard\": \"1.19.0\", \"azureml-telemetry\": \"1.19.0\", \"azureml-sdk\": \"1.19.0\", \"azureml-samples\": \"0+unknown\", \"azureml-pipeline\": \"1.19.0\", \"azureml-pipeline-steps\": \"1.19.0\", \"azureml-pipeline-core\": \"1.19.0\", \"azureml-opendatasets\": \"1.19.0\", \"azureml-model-management-sdk\": \"1.0.1b6.post1\", \"azureml-mlflow\": \"1.19.0\", \"azureml-interpret\": \"1.19.0\", \"azureml-explain-model\": \"1.19.0\", \"azureml-defaults\": \"1.19.0\", \"azureml-dataset-runtime\": \"1.19.0\", \"azureml-dataprep\": \"2.6.1\", \"azureml-dataprep-rslex\": \"1.4.0\", \"azureml-dataprep-native\": \"26.0.0\", \"azureml-datadrift\": \"1.19.0\", \"azureml-core\": \"1.19.0\", \"azureml-contrib-services\": \"1.19.0\", \"azureml-contrib-server\": \"1.19.0\", \"azureml-contrib-reinforcementlearning\": \"1.19.0\", \"azureml-contrib-pipeline-steps\": \"1.19.0\", \"azureml-contrib-notebook\": \"1.19.0\", \"azureml-contrib-interpret\": \"1.19.0\", \"azureml-contrib-gbdt\": \"1.19.0\", \"azureml-contrib-fairness\": \"1.19.0\", \"azureml-contrib-dataset\": \"1.19.0\", \"azureml-cli-common\": \"1.19.0\", \"azureml-automl-runtime\": \"1.19.0\", \"azureml-automl-core\": \"1.19.0\", \"azureml-accel-models\": \"1.19.0\"}',\n",
       "  '_aml_system_scenario_identification': 'Remote.Parent',\n",
       "  'ClientType': 'SDK',\n",
       "  'environment_cpu_name': 'AzureML-AutoML',\n",
       "  'environment_cpu_label': 'prod',\n",
       "  'environment_gpu_name': 'AzureML-AutoML-GPU',\n",
       "  'environment_gpu_label': 'prod',\n",
       "  'root_attribution': 'automl',\n",
       "  'attribution': 'AutoML',\n",
       "  'Orchestrator': 'AutoML',\n",
       "  'CancelUri': 'https://southcentralus.experiments.azureml.net/jasmine/v1.0/subscriptions/610d6e37-4747-4a20-80eb-3aad70a55f43/resourceGroups/aml-quickstarts-134454/providers/Microsoft.MachineLearningServices/workspaces/quick-starts-ws-134454/experimentids/cbab4fd9-d5d1-4847-9839-05ac8ca5b6f7/cancel/AutoML_a44c0534-d182-4428-b34f-1a1e4ddb03c6',\n",
       "  'ClientSdkVersion': '1.19.0',\n",
       "  'snapshotId': '00000000-0000-0000-0000-000000000000',\n",
       "  'SetupRunId': 'AutoML_a44c0534-d182-4428-b34f-1a1e4ddb03c6_setup',\n",
       "  'SetupRunContainerId': 'dcid.AutoML_a44c0534-d182-4428-b34f-1a1e4ddb03c6_setup',\n",
       "  'FeaturizationRunJsonPath': 'featurizer_container.json',\n",
       "  'FeaturizationRunId': 'AutoML_a44c0534-d182-4428-b34f-1a1e4ddb03c6_featurize',\n",
       "  'ProblemInfoJsonString': '{\"dataset_num_categorical\": 0, \"is_sparse\": false, \"subsampling\": false, \"dataset_classes\": 2, \"dataset_features\": 13, \"dataset_samples\": 303, \"single_frequency_class_detected\": false}',\n",
       "  'ModelExplainRunId': 'AutoML_a44c0534-d182-4428-b34f-1a1e4ddb03c6_ModelExplain'},\n",
       " 'inputDatasets': [{'dataset': {'id': '1539131c-8738-4ef5-918e-be239af65251'}, 'consumptionDetails': {'type': 'RunInput', 'inputName': 'training_data', 'mechanism': 'Direct'}}],\n",
       " 'outputDatasets': [],\n",
       " 'logFiles': {}}"
      ]
     },
     "execution_count": 51,
     "metadata": {},
     "output_type": "execute_result"
    }
   ],
   "source": [
    "remote_run.wait_for_completion()"
   ]
  },
  {
   "cell_type": "markdown",
   "metadata": {},
   "source": [
    "## Best Model\n",
    "\n",
    "Getting the best model from the automl experiments and display all the properties of the model.\n",
    "\n"
   ]
  },
  {
   "cell_type": "code",
   "execution_count": 52,
   "metadata": {
    "gather": {
     "logged": 1598431425670
    },
    "jupyter": {
     "outputs_hidden": false,
     "source_hidden": false
    },
    "nteract": {
     "transient": {
      "deleting": false
     }
    }
   },
   "outputs": [
    {
     "name": "stdout",
     "output_type": "stream",
     "text": [
      "Best Run Id:  AutoML_a44c0534-d182-4428-b34f-1a1e4ddb03c6_46\n",
      "- Accuracy: 0.8611827956989249\n",
      "- AUC_weighted: 0.9190213390124381\n"
     ]
    },
    {
     "data": {
      "text/plain": [
       "['azureml_fitted_model.sav']"
      ]
     },
     "execution_count": 52,
     "metadata": {},
     "output_type": "execute_result"
    }
   ],
   "source": [
    "import joblib\n",
    "# Retrieve and save your best automl model.\n",
    "\n",
    "best_run, fitted_model = remote_run.get_output()\n",
    "best_run_metrics = best_run.get_metrics()\n",
    "\n",
    "print('Best Run Id: ', best_run.id)\n",
    "print('- Accuracy:', best_run_metrics['accuracy'])\n",
    "print('- AUC_weighted:', best_run_metrics['AUC_weighted'])\n",
    "joblib.dump(fitted_model,'azureml_fitted_model.sav')"
   ]
  },
  {
   "cell_type": "markdown",
   "metadata": {},
   "source": [
    "### Register best model"
   ]
  },
  {
   "cell_type": "code",
   "execution_count": 53,
   "metadata": {},
   "outputs": [
    {
     "name": "stdout",
     "output_type": "stream",
     "text": [
      "AutoMLa44c0534d46\n"
     ]
    }
   ],
   "source": [
    "model_name = best_run.properties[\"model_name\"]\n",
    "description = \"AutoML model for predetcting heart disease.\"\n",
    "tags = None\n",
    "model = remote_run.register_model(model_name=model_name, description=description, tags=tags)\n",
    "\n",
    "print(remote_run.model_id)"
   ]
  },
  {
   "cell_type": "markdown",
   "metadata": {},
   "source": [
    "## Model Deployment\n",
    "\n",
    "Remember you have to deploy only one of the two models you trained.. Perform the steps in the rest of this notebook only if you wish to deploy this model.\n",
    "\n",
    "TODO: In the cell below, register the model, create an inference config and deploy the model as a web service."
   ]
  },
  {
   "cell_type": "code",
   "execution_count": 54,
   "metadata": {
    "gather": {
     "logged": 1598431435189
    },
    "jupyter": {
     "outputs_hidden": false,
     "source_hidden": false
    },
    "nteract": {
     "transient": {
      "deleting": false
     }
    }
   },
   "outputs": [],
   "source": [
    "script_file_name = 'inference/score.py'\n",
    "\n",
    "best_run.download_file('outputs/scoring_file_v_1_0_0.py', 'inference/score.py')"
   ]
  },
  {
   "cell_type": "markdown",
   "metadata": {
    "gather": {
     "logged": 1598432707604
    },
    "jupyter": {
     "outputs_hidden": false,
     "source_hidden": false
    },
    "nteract": {
     "transient": {
      "deleting": false
     }
    }
   },
   "source": [
    "### Deploy the model as a webservice using ACI"
   ]
  },
  {
   "cell_type": "code",
   "execution_count": 69,
   "metadata": {},
   "outputs": [
    {
     "name": "stdout",
     "output_type": "stream",
     "text": [
      "automl-heart-disease-prediction\n",
      "Tips: You can try get_logs(): https://aka.ms/debugimage#dockerlog or local deployment: https://aka.ms/debugimage#debug-locally to debug if deployment takes longer than 10 minutes.\n",
      "Running...................................\n",
      "Succeeded\n",
      "ACI service creation operation finished, operation \"Succeeded\"\n",
      "Healthy\n"
     ]
    }
   ],
   "source": [
    "from azureml.core.model import InferenceConfig\n",
    "from azureml.core.webservice import AciWebservice\n",
    "from azureml.core.webservice import Webservice\n",
    "from azureml.core.model import Model\n",
    "from azureml.core.environment import Environment\n",
    "\n",
    "inference_config = InferenceConfig(entry_script=script_file_name)\n",
    "\n",
    "aciconfig = AciWebservice.deploy_configuration(cpu_cores = 1, \n",
    "                                               memory_gb = 1, \n",
    "                                               tags = {'area': \"bmData\", 'type': \"automl_classification\"}, \n",
    "                                               description = 'Heart Disease prediction using Automl Classification')\n",
    "\n",
    "aci_service_name = 'automl-heart-disease-prediction'\n",
    "print(aci_service_name)\n",
    "aci_service = Model.deploy(ws, aci_service_name, [model], inference_config, aciconfig)\n",
    "aci_service.wait_for_deployment(True)\n",
    "print(aci_service.state)"
   ]
  },
  {
   "cell_type": "markdown",
   "metadata": {},
   "source": [
    "### Test the web service"
   ]
  },
  {
   "cell_type": "code",
   "execution_count": 73,
   "metadata": {},
   "outputs": [
    {
     "name": "stdout",
     "output_type": "stream",
     "text": [
      "[1]\n"
     ]
    }
   ],
   "source": [
    "#Test 1\n",
    "import requests\n",
    "import json\n",
    "\n",
    "data = '''{ \n",
    "  \"data\": [  \n",
    "    { \n",
    "      \"age\": 63,\n",
    "      \"sex\": 1,\n",
    "      \"cp\": 3,\n",
    "      \"trestbps\": 145,\n",
    "      \"chol\": 233,\n",
    "      \"fbs\": 1,\n",
    "      \"restecg\": 0,\n",
    "      \"thalach\": 150,\n",
    "      \"exang\": 0,\n",
    "      \"oldpeak\": 2.3,\n",
    "      \"slope\": 0,\n",
    "      \"ca\": 0,\n",
    "      \"thal\": 1\n",
    "    }\n",
    "  ]\n",
    "}'''\n",
    "\n",
    "headers = {'Content-Type': 'application/json'}\n",
    "\n",
    "resp = requests.post(aci_service.scoring_uri, data, headers=headers)\n",
    "\n",
    "pred = json.loads(json.loads(resp.text))['result']\n",
    "print(pred)"
   ]
  },
  {
   "cell_type": "code",
   "execution_count": 74,
   "metadata": {},
   "outputs": [
    {
     "name": "stdout",
     "output_type": "stream",
     "text": [
      "[0]\n"
     ]
    }
   ],
   "source": [
    "# Test 2\n",
    "import requests\n",
    "import json\n",
    "\n",
    "data = '''{ \n",
    "  \"data\": [  \n",
    "    { \n",
    "      \"age\": 57,\n",
    "      \"sex\": 0,\n",
    "      \"cp\": 0,\n",
    "      \"trestbps\": 140,\n",
    "      \"chol\": 241,\n",
    "      \"fbs\": 0,\n",
    "      \"restecg\": 1,\n",
    "      \"thalach\": 123,\n",
    "      \"exang\": 1,\n",
    "      \"oldpeak\": 0.2,\n",
    "      \"slope\": 1,\n",
    "      \"ca\": 0,\n",
    "      \"thal\": 3\n",
    "    }\n",
    "  ]\n",
    "}'''\n",
    "\n",
    "headers = {'Content-Type': 'application/json'}\n",
    "\n",
    "resp = requests.post(aci_service.scoring_uri, data, headers=headers)\n",
    "\n",
    "pred = json.loads(json.loads(resp.text))['result']\n",
    "print(pred)"
   ]
  },
  {
   "cell_type": "markdown",
   "metadata": {
    "jupyter": {
     "outputs_hidden": false,
     "source_hidden": false
    },
    "nteract": {
     "transient": {
      "deleting": false
     }
    }
   },
   "source": [
    "### Get service logs"
   ]
  },
  {
   "cell_type": "code",
   "execution_count": 57,
   "metadata": {},
   "outputs": [
    {
     "data": {
      "text/plain": [
       "'2021-01-12T15:59:34,981429300+00:00 - gunicorn/run \\n2021-01-12T15:59:34,988160700+00:00 - iot-server/run \\n2021-01-12T15:59:34,987325400+00:00 - rsyslog/run \\n2021-01-12T15:59:35,019080300+00:00 - nginx/run \\n/usr/sbin/nginx: /azureml-envs/azureml_8eff28b157f42edcd2424a5aae6c8074/lib/libcrypto.so.1.0.0: no version information available (required by /usr/sbin/nginx)\\n/usr/sbin/nginx: /azureml-envs/azureml_8eff28b157f42edcd2424a5aae6c8074/lib/libcrypto.so.1.0.0: no version information available (required by /usr/sbin/nginx)\\n/usr/sbin/nginx: /azureml-envs/azureml_8eff28b157f42edcd2424a5aae6c8074/lib/libssl.so.1.0.0: no version information available (required by /usr/sbin/nginx)\\n/usr/sbin/nginx: /azureml-envs/azureml_8eff28b157f42edcd2424a5aae6c8074/lib/libssl.so.1.0.0: no version information available (required by /usr/sbin/nginx)\\n/usr/sbin/nginx: /azureml-envs/azureml_8eff28b157f42edcd2424a5aae6c8074/lib/libssl.so.1.0.0: no version information available (required by /usr/sbin/nginx)\\nrsyslogd: /azureml-envs/azureml_8eff28b157f42edcd2424a5aae6c8074/lib/libuuid.so.1: no version information available (required by rsyslogd)\\nEdgeHubConnectionString and IOTEDGE_IOTHUBHOSTNAME are not set. Exiting...\\n2021-01-12T15:59:36,148648600+00:00 - iot-server/finish 1 0\\n2021-01-12T15:59:36,204221600+00:00 - Exit code 1 is normal. Not restarting iot-server.\\nStarting gunicorn 19.9.0\\nListening at: http://127.0.0.1:31311 (53)\\nUsing worker: sync\\nworker timeout is set to 300\\nBooting worker with pid: 94\\nSPARK_HOME not set. Skipping PySpark Initialization.\\nGenerating new fontManager, this may take some time...\\nInitializing logger\\n2021-01-12 15:59:41,081 | root | INFO | Starting up app insights client\\nStarting up app insights client\\n2021-01-12 15:59:41,084 | root | INFO | Starting up request id generator\\nStarting up request id generator\\n2021-01-12 15:59:41,085 | root | INFO | Starting up app insight hooks\\nStarting up app insight hooks\\n2021-01-12 15:59:41,085 | root | INFO | Invoking user\\'s init function\\nInvoking user\\'s init function\\n2021-01-12 15:59:48,558 | root | INFO | Users\\'s init has completed successfully\\nUsers\\'s init has completed successfully\\n2021-01-12 15:59:48,586 | root | INFO | Skipping middleware: dbg_model_info as it\\'s not enabled.\\nSkipping middleware: dbg_model_info as it\\'s not enabled.\\n2021-01-12 15:59:48,586 | root | INFO | Skipping middleware: dbg_resource_usage as it\\'s not enabled.\\nSkipping middleware: dbg_resource_usage as it\\'s not enabled.\\n2021-01-12 15:59:48,589 | root | INFO | Scoring timeout is found from os.environ: 60000 ms\\nScoring timeout is found from os.environ: 60000 ms\\n2021-01-12 15:59:50,752 | root | INFO | 200\\n200\\n127.0.0.1 - - [12/Jan/2021:15:59:50 +0000] \"GET /swagger.json HTTP/1.0\" 200 2807 \"-\" \"Go-http-client/1.1\"\\n2021-01-12 15:59:56,669 | root | INFO | 200\\n200\\n127.0.0.1 - - [12/Jan/2021:15:59:56 +0000] \"GET /swagger.json HTTP/1.0\" 200 2807 \"-\" \"Go-http-client/1.1\"\\n2021-01-12 15:59:56,993 | root | INFO | Validation Request Content-Type\\nValidation Request Content-Type\\n2021-01-12 15:59:56,994 | root | INFO | \\tHost: localhost:5001\\n\\tHost: localhost:5001\\n2021-01-12 15:59:56,994 | root | INFO | \\tX-Real-Ip: 127.0.0.1\\n\\tX-Real-Ip: 127.0.0.1\\n2021-01-12 15:59:56,994 | root | INFO | \\tX-Forwarded-For: 127.0.0.1\\n\\tX-Forwarded-For: 127.0.0.1\\n2021-01-12 15:59:56,994 | root | INFO | \\tX-Forwarded-Proto: http\\n\\tX-Forwarded-Proto: http\\n2021-01-12 15:59:56,994 | root | INFO | \\tConnection: close\\n\\tConnection: close\\n2021-01-12 15:59:56,994 | root | INFO | \\tContent-Length: 271\\n\\tContent-Length: 271\\n2021-01-12 15:59:56,994 | root | INFO | \\tUser-Agent: python-requests/2.25.0\\n\\tUser-Agent: python-requests/2.25.0\\n2021-01-12 15:59:56,994 | root | INFO | \\tAccept: */*\\n\\tAccept: */*\\n2021-01-12 15:59:56,995 | root | INFO | \\tAccept-Encoding: gzip, deflate\\n\\tAccept-Encoding: gzip, deflate\\n2021-01-12 15:59:56,995 | root | INFO | \\tContent-Type: application/json\\n\\tContent-Type: application/json\\n2021-01-12 15:59:56,995 | root | INFO | \\tX-Ms-Request-Id: 7f35a32e-ffb0-4d72-b848-5796da5144a2\\n\\tX-Ms-Request-Id: 7f35a32e-ffb0-4d72-b848-5796da5144a2\\n2021-01-12 15:59:56,995 | root | INFO | Scoring Timer is set to 60.0 seconds\\nScoring Timer is set to 60.0 seconds\\n2021-01-12 15:59:57,152 | root | INFO | 200\\n200\\n127.0.0.1 - - [12/Jan/2021:15:59:57 +0000] \"POST /score HTTP/1.0\" 200 19 \"-\" \"python-requests/2.25.0\"\\n'"
      ]
     },
     "execution_count": 57,
     "metadata": {},
     "output_type": "execute_result"
    }
   ],
   "source": [
    "aci_service.get_logs()"
   ]
  },
  {
   "cell_type": "markdown",
   "metadata": {},
   "source": [
    "### Delete the web service"
   ]
  },
  {
   "cell_type": "code",
   "execution_count": 65,
   "metadata": {},
   "outputs": [],
   "source": [
    "aci_service.delete()"
   ]
  },
  {
   "cell_type": "markdown",
   "metadata": {},
   "source": [
    "End!"
   ]
  }
 ],
 "metadata": {
  "kernel_info": {
   "name": "python3-azureml"
  },
  "kernelspec": {
   "display_name": "Python 3",
   "language": "python",
   "name": "python3"
  },
  "language_info": {
   "codemirror_mode": {
    "name": "ipython",
    "version": 3
   },
   "file_extension": ".py",
   "mimetype": "text/x-python",
   "name": "python",
   "nbconvert_exporter": "python",
   "pygments_lexer": "ipython3",
   "version": "3.6.9"
  },
  "nteract": {
   "version": "nteract-front-end@1.0.0"
  }
 },
 "nbformat": 4,
 "nbformat_minor": 2
}
