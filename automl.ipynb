{
 "cells": [
  {
   "cell_type": "markdown",
   "metadata": {},
   "source": [
    "# Automated ML\n",
    "\n",
    "Import all the dependencies that will be needed for the project."
   ]
  },
  {
   "cell_type": "code",
   "execution_count": 1,
   "metadata": {
    "gather": {
     "logged": 1611519322441
    },
    "jupyter": {
     "outputs_hidden": false,
     "source_hidden": false
    },
    "nteract": {
     "transient": {
      "deleting": false
     }
    }
   },
   "outputs": [
    {
     "name": "stdout",
     "output_type": "stream",
     "text": [
      "SDK version: 1.20.0\n"
     ]
    }
   ],
   "source": [
    "import logging\n",
    "import os\n",
    "import csv\n",
    "\n",
    "from matplotlib import pyplot as plt\n",
    "import numpy as np\n",
    "import pandas as pd\n",
    "from sklearn import datasets\n",
    "import pkg_resources\n",
    "\n",
    "import azureml.core\n",
    "from azureml.core.experiment import Experiment\n",
    "from azureml.core.workspace import Workspace\n",
    "from azureml.train.automl import AutoMLConfig\n",
    "from azureml.core.dataset import Dataset\n",
    "\n",
    "\n",
    "print(\"SDK version:\", azureml.core.VERSION)"
   ]
  },
  {
   "cell_type": "markdown",
   "metadata": {},
   "source": [
    "# Workspace"
   ]
  },
  {
   "cell_type": "code",
   "execution_count": 2,
   "metadata": {
    "gather": {
     "logged": 1611516736885
    }
   },
   "outputs": [
    {
     "name": "stdout",
     "output_type": "stream",
     "text": [
      "quick-starts-ws-136706\n",
      "aml-quickstarts-136706\n",
      "southcentralus\n",
      "3e42d11f-d64d-4173-af9b-12ecaa1030b3\n"
     ]
    }
   ],
   "source": [
    "ws = Workspace.from_config()\n",
    "print(ws.name, ws.resource_group, ws.location, ws.subscription_id, sep = '\\n')"
   ]
  },
  {
   "cell_type": "markdown",
   "metadata": {},
   "source": [
    "## Dataset\n",
    "\n",
    "### Overview\n",
    "We will be using a dataset about hear disease from [kaggle](https://www.kaggle.com/ronitf/heart-disease-uci)\n",
    "\n",
    "* age: age in years \n",
    "* sex: (1 = male; 0 = female) \n",
    "* cp: chest pain type\n",
    "* trestbps: resting blood pressure (in mm Hg on admission to the hospital)\n",
    "* chol: serum cholestoral in mg/dl \n",
    "* fbs: (fasting blood sugar &gt; 120 mg/dl) (1 = true; 0 = false) \n",
    "* restecg: resting electrocardiographic results \n",
    "* thalach: maximum heart rate achieved \n",
    "* exang: exercise induced angina (1 = yes; 0 = no) \n",
    "* oldpeak: ST depression induced by exercise relative to rest \n",
    "* slope: the slope of the peak exercise ST segment\n",
    "* ca: number of major vessels (0-3) colored by flourosopy \n",
    "* thal: 3 = normal; 6 = fixed defect; 7 = reversable defect \n",
    "* target: 1 or 0 \n",
    "\n",
    "\n",
    "Accessing the dataset:"
   ]
  },
  {
   "cell_type": "code",
   "execution_count": 3,
   "metadata": {
    "gather": {
     "logged": 1611516748138
    }
   },
   "outputs": [
    {
     "name": "stdout",
     "output_type": "stream",
     "text": [
      "Dataset heart-disease-dataset already exists..!\n"
     ]
    },
    {
     "data": {
      "text/html": [
       "<div>\n",
       "<style scoped>\n",
       "    .dataframe tbody tr th:only-of-type {\n",
       "        vertical-align: middle;\n",
       "    }\n",
       "\n",
       "    .dataframe tbody tr th {\n",
       "        vertical-align: top;\n",
       "    }\n",
       "\n",
       "    .dataframe thead th {\n",
       "        text-align: right;\n",
       "    }\n",
       "</style>\n",
       "<table border=\"1\" class=\"dataframe\">\n",
       "  <thead>\n",
       "    <tr style=\"text-align: right;\">\n",
       "      <th></th>\n",
       "      <th>age</th>\n",
       "      <th>sex</th>\n",
       "      <th>cp</th>\n",
       "      <th>trestbps</th>\n",
       "      <th>chol</th>\n",
       "      <th>fbs</th>\n",
       "      <th>restecg</th>\n",
       "      <th>thalach</th>\n",
       "      <th>exang</th>\n",
       "      <th>oldpeak</th>\n",
       "      <th>slope</th>\n",
       "      <th>ca</th>\n",
       "      <th>thal</th>\n",
       "      <th>target</th>\n",
       "    </tr>\n",
       "  </thead>\n",
       "  <tbody>\n",
       "    <tr>\n",
       "      <th>count</th>\n",
       "      <td>303.000000</td>\n",
       "      <td>303.000000</td>\n",
       "      <td>303.000000</td>\n",
       "      <td>303.000000</td>\n",
       "      <td>303.000000</td>\n",
       "      <td>303.000000</td>\n",
       "      <td>303.000000</td>\n",
       "      <td>303.000000</td>\n",
       "      <td>303.000000</td>\n",
       "      <td>303.000000</td>\n",
       "      <td>303.000000</td>\n",
       "      <td>303.000000</td>\n",
       "      <td>303.000000</td>\n",
       "      <td>303.000000</td>\n",
       "    </tr>\n",
       "    <tr>\n",
       "      <th>mean</th>\n",
       "      <td>54.366337</td>\n",
       "      <td>0.683168</td>\n",
       "      <td>0.966997</td>\n",
       "      <td>131.623762</td>\n",
       "      <td>246.264026</td>\n",
       "      <td>0.148515</td>\n",
       "      <td>0.528053</td>\n",
       "      <td>149.646865</td>\n",
       "      <td>0.326733</td>\n",
       "      <td>1.039604</td>\n",
       "      <td>1.399340</td>\n",
       "      <td>0.729373</td>\n",
       "      <td>2.313531</td>\n",
       "      <td>0.544554</td>\n",
       "    </tr>\n",
       "    <tr>\n",
       "      <th>std</th>\n",
       "      <td>9.082101</td>\n",
       "      <td>0.466011</td>\n",
       "      <td>1.032052</td>\n",
       "      <td>17.538143</td>\n",
       "      <td>51.830751</td>\n",
       "      <td>0.356198</td>\n",
       "      <td>0.525860</td>\n",
       "      <td>22.905161</td>\n",
       "      <td>0.469794</td>\n",
       "      <td>1.161075</td>\n",
       "      <td>0.616226</td>\n",
       "      <td>1.022606</td>\n",
       "      <td>0.612277</td>\n",
       "      <td>0.498835</td>\n",
       "    </tr>\n",
       "    <tr>\n",
       "      <th>min</th>\n",
       "      <td>29.000000</td>\n",
       "      <td>0.000000</td>\n",
       "      <td>0.000000</td>\n",
       "      <td>94.000000</td>\n",
       "      <td>126.000000</td>\n",
       "      <td>0.000000</td>\n",
       "      <td>0.000000</td>\n",
       "      <td>71.000000</td>\n",
       "      <td>0.000000</td>\n",
       "      <td>0.000000</td>\n",
       "      <td>0.000000</td>\n",
       "      <td>0.000000</td>\n",
       "      <td>0.000000</td>\n",
       "      <td>0.000000</td>\n",
       "    </tr>\n",
       "    <tr>\n",
       "      <th>25%</th>\n",
       "      <td>47.500000</td>\n",
       "      <td>0.000000</td>\n",
       "      <td>0.000000</td>\n",
       "      <td>120.000000</td>\n",
       "      <td>211.000000</td>\n",
       "      <td>0.000000</td>\n",
       "      <td>0.000000</td>\n",
       "      <td>133.500000</td>\n",
       "      <td>0.000000</td>\n",
       "      <td>0.000000</td>\n",
       "      <td>1.000000</td>\n",
       "      <td>0.000000</td>\n",
       "      <td>2.000000</td>\n",
       "      <td>0.000000</td>\n",
       "    </tr>\n",
       "    <tr>\n",
       "      <th>50%</th>\n",
       "      <td>55.000000</td>\n",
       "      <td>1.000000</td>\n",
       "      <td>1.000000</td>\n",
       "      <td>130.000000</td>\n",
       "      <td>240.000000</td>\n",
       "      <td>0.000000</td>\n",
       "      <td>1.000000</td>\n",
       "      <td>153.000000</td>\n",
       "      <td>0.000000</td>\n",
       "      <td>0.800000</td>\n",
       "      <td>1.000000</td>\n",
       "      <td>0.000000</td>\n",
       "      <td>2.000000</td>\n",
       "      <td>1.000000</td>\n",
       "    </tr>\n",
       "    <tr>\n",
       "      <th>75%</th>\n",
       "      <td>61.000000</td>\n",
       "      <td>1.000000</td>\n",
       "      <td>2.000000</td>\n",
       "      <td>140.000000</td>\n",
       "      <td>274.500000</td>\n",
       "      <td>0.000000</td>\n",
       "      <td>1.000000</td>\n",
       "      <td>166.000000</td>\n",
       "      <td>1.000000</td>\n",
       "      <td>1.600000</td>\n",
       "      <td>2.000000</td>\n",
       "      <td>1.000000</td>\n",
       "      <td>3.000000</td>\n",
       "      <td>1.000000</td>\n",
       "    </tr>\n",
       "    <tr>\n",
       "      <th>max</th>\n",
       "      <td>77.000000</td>\n",
       "      <td>1.000000</td>\n",
       "      <td>3.000000</td>\n",
       "      <td>200.000000</td>\n",
       "      <td>564.000000</td>\n",
       "      <td>1.000000</td>\n",
       "      <td>2.000000</td>\n",
       "      <td>202.000000</td>\n",
       "      <td>1.000000</td>\n",
       "      <td>6.200000</td>\n",
       "      <td>2.000000</td>\n",
       "      <td>4.000000</td>\n",
       "      <td>3.000000</td>\n",
       "      <td>1.000000</td>\n",
       "    </tr>\n",
       "  </tbody>\n",
       "</table>\n",
       "</div>"
      ],
      "text/plain": [
       "              age         sex          cp    trestbps        chol         fbs  \\\n",
       "count  303.000000  303.000000  303.000000  303.000000  303.000000  303.000000   \n",
       "mean    54.366337    0.683168    0.966997  131.623762  246.264026    0.148515   \n",
       "std      9.082101    0.466011    1.032052   17.538143   51.830751    0.356198   \n",
       "min     29.000000    0.000000    0.000000   94.000000  126.000000    0.000000   \n",
       "25%     47.500000    0.000000    0.000000  120.000000  211.000000    0.000000   \n",
       "50%     55.000000    1.000000    1.000000  130.000000  240.000000    0.000000   \n",
       "75%     61.000000    1.000000    2.000000  140.000000  274.500000    0.000000   \n",
       "max     77.000000    1.000000    3.000000  200.000000  564.000000    1.000000   \n",
       "\n",
       "          restecg     thalach       exang     oldpeak       slope          ca  \\\n",
       "count  303.000000  303.000000  303.000000  303.000000  303.000000  303.000000   \n",
       "mean     0.528053  149.646865    0.326733    1.039604    1.399340    0.729373   \n",
       "std      0.525860   22.905161    0.469794    1.161075    0.616226    1.022606   \n",
       "min      0.000000   71.000000    0.000000    0.000000    0.000000    0.000000   \n",
       "25%      0.000000  133.500000    0.000000    0.000000    1.000000    0.000000   \n",
       "50%      1.000000  153.000000    0.000000    0.800000    1.000000    0.000000   \n",
       "75%      1.000000  166.000000    1.000000    1.600000    2.000000    1.000000   \n",
       "max      2.000000  202.000000    1.000000    6.200000    2.000000    4.000000   \n",
       "\n",
       "             thal      target  \n",
       "count  303.000000  303.000000  \n",
       "mean     2.313531    0.544554  \n",
       "std      0.612277    0.498835  \n",
       "min      0.000000    0.000000  \n",
       "25%      2.000000    0.000000  \n",
       "50%      2.000000    1.000000  \n",
       "75%      3.000000    1.000000  \n",
       "max      3.000000    1.000000  "
      ]
     },
     "execution_count": 3,
     "metadata": {},
     "output_type": "execute_result"
    }
   ],
   "source": [
    "found = False\n",
    "key = \"heart-disease-dataset\"\n",
    "description_text = \"Heart disease dataset\"\n",
    "\n",
    "if key in ws.datasets.keys():\n",
    "        print(\"Dataset {} already exists..!\".format(key))\n",
    "        found = True\n",
    "        dataset = Dataset.get_by_name(ws, name=key)\n",
    "\n",
    "if not found:\n",
    "        # Create AML Dataset and register it into Workspace\n",
    "        print(\"Creating {} dataset..\".format(key))\n",
    "        data = 'https://raw.githubusercontent.com/SadmiB/Heart-Disease-Prediction/master/heart.csv'\n",
    "        dataset = Dataset.Tabular.from_delimited_files(data)        \n",
    "        #Register Dataset in Workspace\n",
    "        dataset = dataset.register(workspace=ws,\n",
    "                                   name=key,\n",
    "                                   description=description_text)\n",
    "\n",
    "\n",
    "df = dataset.to_pandas_dataframe()\n",
    "df.describe()"
   ]
  },
  {
   "cell_type": "code",
   "execution_count": 4,
   "metadata": {
    "gather": {
     "logged": 1611516748690
    }
   },
   "outputs": [
    {
     "data": {
      "text/html": [
       "<div>\n",
       "<style scoped>\n",
       "    .dataframe tbody tr th:only-of-type {\n",
       "        vertical-align: middle;\n",
       "    }\n",
       "\n",
       "    .dataframe tbody tr th {\n",
       "        vertical-align: top;\n",
       "    }\n",
       "\n",
       "    .dataframe thead th {\n",
       "        text-align: right;\n",
       "    }\n",
       "</style>\n",
       "<table border=\"1\" class=\"dataframe\">\n",
       "  <thead>\n",
       "    <tr style=\"text-align: right;\">\n",
       "      <th></th>\n",
       "      <th>age</th>\n",
       "      <th>sex</th>\n",
       "      <th>cp</th>\n",
       "      <th>trestbps</th>\n",
       "      <th>chol</th>\n",
       "      <th>fbs</th>\n",
       "      <th>restecg</th>\n",
       "      <th>thalach</th>\n",
       "      <th>exang</th>\n",
       "      <th>oldpeak</th>\n",
       "      <th>slope</th>\n",
       "      <th>ca</th>\n",
       "      <th>thal</th>\n",
       "      <th>target</th>\n",
       "    </tr>\n",
       "  </thead>\n",
       "  <tbody>\n",
       "    <tr>\n",
       "      <th>0</th>\n",
       "      <td>63</td>\n",
       "      <td>1</td>\n",
       "      <td>3</td>\n",
       "      <td>145</td>\n",
       "      <td>233</td>\n",
       "      <td>1</td>\n",
       "      <td>0</td>\n",
       "      <td>150</td>\n",
       "      <td>0</td>\n",
       "      <td>2.3</td>\n",
       "      <td>0</td>\n",
       "      <td>0</td>\n",
       "      <td>1</td>\n",
       "      <td>1</td>\n",
       "    </tr>\n",
       "    <tr>\n",
       "      <th>1</th>\n",
       "      <td>37</td>\n",
       "      <td>1</td>\n",
       "      <td>2</td>\n",
       "      <td>130</td>\n",
       "      <td>250</td>\n",
       "      <td>0</td>\n",
       "      <td>1</td>\n",
       "      <td>187</td>\n",
       "      <td>0</td>\n",
       "      <td>3.5</td>\n",
       "      <td>0</td>\n",
       "      <td>0</td>\n",
       "      <td>2</td>\n",
       "      <td>1</td>\n",
       "    </tr>\n",
       "    <tr>\n",
       "      <th>2</th>\n",
       "      <td>41</td>\n",
       "      <td>0</td>\n",
       "      <td>1</td>\n",
       "      <td>130</td>\n",
       "      <td>204</td>\n",
       "      <td>0</td>\n",
       "      <td>0</td>\n",
       "      <td>172</td>\n",
       "      <td>0</td>\n",
       "      <td>1.4</td>\n",
       "      <td>2</td>\n",
       "      <td>0</td>\n",
       "      <td>2</td>\n",
       "      <td>1</td>\n",
       "    </tr>\n",
       "    <tr>\n",
       "      <th>3</th>\n",
       "      <td>56</td>\n",
       "      <td>1</td>\n",
       "      <td>1</td>\n",
       "      <td>120</td>\n",
       "      <td>236</td>\n",
       "      <td>0</td>\n",
       "      <td>1</td>\n",
       "      <td>178</td>\n",
       "      <td>0</td>\n",
       "      <td>0.8</td>\n",
       "      <td>2</td>\n",
       "      <td>0</td>\n",
       "      <td>2</td>\n",
       "      <td>1</td>\n",
       "    </tr>\n",
       "    <tr>\n",
       "      <th>4</th>\n",
       "      <td>57</td>\n",
       "      <td>0</td>\n",
       "      <td>0</td>\n",
       "      <td>120</td>\n",
       "      <td>354</td>\n",
       "      <td>0</td>\n",
       "      <td>1</td>\n",
       "      <td>163</td>\n",
       "      <td>1</td>\n",
       "      <td>0.6</td>\n",
       "      <td>2</td>\n",
       "      <td>0</td>\n",
       "      <td>2</td>\n",
       "      <td>1</td>\n",
       "    </tr>\n",
       "  </tbody>\n",
       "</table>\n",
       "</div>"
      ],
      "text/plain": [
       "   age  sex  cp  trestbps  chol  fbs  restecg  thalach  exang  oldpeak  slope  \\\n",
       "0   63    1   3       145   233    1        0      150      0      2.3      0   \n",
       "1   37    1   2       130   250    0        1      187      0      3.5      0   \n",
       "2   41    0   1       130   204    0        0      172      0      1.4      2   \n",
       "3   56    1   1       120   236    0        1      178      0      0.8      2   \n",
       "4   57    0   0       120   354    0        1      163      1      0.6      2   \n",
       "\n",
       "   ca  thal  target  \n",
       "0   0     1       1  \n",
       "1   0     2       1  \n",
       "2   0     2       1  \n",
       "3   0     2       1  \n",
       "4   0     2       1  "
      ]
     },
     "execution_count": 4,
     "metadata": {},
     "output_type": "execute_result"
    }
   ],
   "source": [
    "dataset.take(5).to_pandas_dataframe()"
   ]
  },
  {
   "cell_type": "markdown",
   "metadata": {},
   "source": [
    "# Experiment"
   ]
  },
  {
   "cell_type": "code",
   "execution_count": 5,
   "metadata": {
    "gather": {
     "logged": 1611516751386
    }
   },
   "outputs": [
    {
     "data": {
      "text/html": [
       "<table style=\"width:100%\"><tr><th>Name</th><th>Workspace</th><th>Report Page</th><th>Docs Page</th></tr><tr><td>heart-disease-experiment-ml1</td><td>quick-starts-ws-136706</td><td><a href=\"https://ml.azure.com/experiments/heart-disease-experiment-ml1?wsid=/subscriptions/3e42d11f-d64d-4173-af9b-12ecaa1030b3/resourcegroups/aml-quickstarts-136706/workspaces/quick-starts-ws-136706\" target=\"_blank\" rel=\"noopener\">Link to Azure Machine Learning studio</a></td><td><a href=\"https://docs.microsoft.com/en-us/python/api/azureml-core/azureml.core.experiment.Experiment?view=azure-ml-py\" target=\"_blank\" rel=\"noopener\">Link to Documentation</a></td></tr></table>"
      ],
      "text/plain": [
       "Experiment(Name: heart-disease-experiment-ml1,\n",
       "Workspace: quick-starts-ws-136706)"
      ]
     },
     "execution_count": 5,
     "metadata": {},
     "output_type": "execute_result"
    }
   ],
   "source": [
    "# choose a name for experiment\n",
    "experiment_name = 'heart-disease-experiment-ml1'\n",
    "project_folder = 'heart-disease-project'\n",
    "experiment=Experiment(ws, experiment_name)\n",
    "experiment"
   ]
  },
  {
   "cell_type": "markdown",
   "metadata": {},
   "source": [
    "# Create or Attach an AmlCompute cluster"
   ]
  },
  {
   "cell_type": "code",
   "execution_count": 6,
   "metadata": {
    "gather": {
     "logged": 1611516760278
    }
   },
   "outputs": [
    {
     "name": "stdout",
     "output_type": "stream",
     "text": [
      "Found existing cluster, use it.\n"
     ]
    }
   ],
   "source": [
    "from azureml.core.compute import AmlCompute\n",
    "from azureml.core.compute import ComputeTarget\n",
    "from azureml.core.compute_target import ComputeTargetException\n",
    "\n",
    "# NOTE: update the cluster name to match the existing cluster\n",
    "# Choose a name for your CPU cluster\n",
    "amlcompute_cluster_name = \"auto-ml\"\n",
    "\n",
    "# Verify that cluster does not exist already\n",
    "try:\n",
    "    compute_target = ComputeTarget(workspace=ws, name=amlcompute_cluster_name)\n",
    "    print('Found existing cluster, use it.')\n",
    "except ComputeTargetException:\n",
    "    compute_config = AmlCompute.provisioning_configuration(vm_size='STANDARD_D2_V2',\n",
    "                                                           max_nodes=4)\n",
    "    compute_target = ComputeTarget.create(ws, amlcompute_cluster_name, compute_config)\n",
    "\n",
    "    compute_target.wait_for_completion(show_output=True, min_node_count = 1, timeout_in_minutes = 10)"
   ]
  },
  {
   "cell_type": "markdown",
   "metadata": {},
   "source": [
    "## AutoML Configuration\n",
    "\n",
    "Below the Automl settings and cofiguration we using AUC_weighted as a primary metric and the task to solve is classification. The target column is \"target\" which represents whether a patient has a heart disease or not."
   ]
  },
  {
   "cell_type": "code",
   "execution_count": 7,
   "metadata": {
    "gather": {
     "logged": 1611516768191
    },
    "jupyter": {
     "outputs_hidden": false,
     "source_hidden": false
    },
    "nteract": {
     "transient": {
      "deleting": false
     }
    }
   },
   "outputs": [],
   "source": [
    "# Automl settings\n",
    "automl_settings = { \n",
    "    \"experiment_timeout_minutes\": 30,\n",
    "    \"max_concurrent_iterations\": 4,\n",
    "    \"enable_onnx_compatible_models\": True,\n",
    "    \"primary_metric\" : 'accuracy',\n",
    "    \"enable_early_stopping\" : True,\n",
    "    \"featurization\" : \"auto\"\n",
    "}\n",
    "\n",
    "# automl config\n",
    "automl_config = AutoMLConfig(compute_target=compute_target,\n",
    "                             task = \"classification\",\n",
    "                             blocked_models = ['KNN','LinearSVM'],\n",
    "                             training_data=dataset,\n",
    "                             label_column_name=\"target\",   \n",
    "                             path = project_folder,\n",
    "                             debug_log = \"automl_errors.log\",\n",
    "                             **automl_settings)"
   ]
  },
  {
   "cell_type": "code",
   "execution_count": 8,
   "metadata": {
    "gather": {
     "logged": 1611516782078
    },
    "jupyter": {
     "outputs_hidden": false,
     "source_hidden": false
    },
    "nteract": {
     "transient": {
      "deleting": false
     }
    }
   },
   "outputs": [
    {
     "name": "stdout",
     "output_type": "stream",
     "text": [
      "Running on remote.\n"
     ]
    }
   ],
   "source": [
    "# Submit the ml experiment\n",
    "remote_run = experiment.submit(automl_config)"
   ]
  },
  {
   "cell_type": "markdown",
   "metadata": {},
   "source": [
    "## Run Details\n",
    "\n",
    "OPTIONAL: Write about the different models trained and their performance. Why do you think some models did better than others?\n",
    "\n",
    "TODO: In the cell below, use the `RunDetails` widget to show the different experiments."
   ]
  },
  {
   "cell_type": "code",
   "execution_count": 9,
   "metadata": {
    "gather": {
     "logged": 1611518305650
    },
    "scrolled": false
   },
   "outputs": [
    {
     "data": {
      "application/vnd.jupyter.widget-view+json": {
       "model_id": "83a9b9c9b20f4a23803da91f0dba144e",
       "version_major": 2,
       "version_minor": 0
      },
      "text/plain": [
       "_AutoMLWidget(widget_settings={'childWidgetDisplay': 'popup', 'send_telemetry': False, 'log_level': 'INFO', 's…"
      ]
     },
     "metadata": {},
     "output_type": "display_data"
    },
    {
     "data": {
      "application/aml.mini.widget.v1": "{\"status\": \"Completed\", \"workbench_run_details_uri\": \"https://ml.azure.com/experiments/heart-disease-experiment-ml1/runs/AutoML_a960d399-7f51-4f20-bd64-8ade24df5f8b?wsid=/subscriptions/3e42d11f-d64d-4173-af9b-12ecaa1030b3/resourcegroups/aml-quickstarts-136706/workspaces/quick-starts-ws-136706\", \"run_id\": \"AutoML_a960d399-7f51-4f20-bd64-8ade24df5f8b\", \"run_properties\": {\"run_id\": \"AutoML_a960d399-7f51-4f20-bd64-8ade24df5f8b\", \"created_utc\": \"2021-01-31T10:26:36.497675Z\", \"properties\": {\"num_iterations\": \"1000\", \"training_type\": \"TrainFull\", \"acquisition_function\": \"EI\", \"primary_metric\": \"accuracy\", \"train_split\": \"0\", \"acquisition_parameter\": \"0\", \"num_cross_validation\": null, \"target\": \"auto-ml\", \"AMLSettingsJsonString\": \"{\\\"path\\\":null,\\\"name\\\":\\\"heart-disease-experiment-ml1\\\",\\\"subscription_id\\\":\\\"3e42d11f-d64d-4173-af9b-12ecaa1030b3\\\",\\\"resource_group\\\":\\\"aml-quickstarts-136706\\\",\\\"workspace_name\\\":\\\"quick-starts-ws-136706\\\",\\\"region\\\":\\\"southcentralus\\\",\\\"compute_target\\\":\\\"auto-ml\\\",\\\"spark_service\\\":null,\\\"azure_service\\\":\\\"remote\\\",\\\"many_models\\\":false,\\\"pipeline_fetch_max_batch_size\\\":1,\\\"iterations\\\":1000,\\\"primary_metric\\\":\\\"accuracy\\\",\\\"task_type\\\":\\\"classification\\\",\\\"data_script\\\":null,\\\"validation_size\\\":0.0,\\\"n_cross_validations\\\":null,\\\"y_min\\\":null,\\\"y_max\\\":null,\\\"num_classes\\\":null,\\\"featurization\\\":\\\"auto\\\",\\\"_ignore_package_version_incompatibilities\\\":false,\\\"is_timeseries\\\":false,\\\"max_cores_per_iteration\\\":1,\\\"max_concurrent_iterations\\\":4,\\\"iteration_timeout_minutes\\\":null,\\\"mem_in_mb\\\":null,\\\"enforce_time_on_windows\\\":false,\\\"experiment_timeout_minutes\\\":30,\\\"experiment_exit_score\\\":null,\\\"whitelist_models\\\":null,\\\"blacklist_algos\\\":[\\\"KNN\\\",\\\"LinearSVM\\\",\\\"TensorFlowLinearClassifier\\\",\\\"TensorFlowDNN\\\"],\\\"supported_models\\\":[\\\"LinearSVM\\\",\\\"LogisticRegression\\\",\\\"SVM\\\",\\\"RandomForest\\\",\\\"BernoulliNaiveBayes\\\",\\\"ExtremeRandomTrees\\\",\\\"XGBoostClassifier\\\",\\\"AveragedPerceptronClassifier\\\",\\\"TensorFlowLinearClassifier\\\",\\\"KNN\\\",\\\"DecisionTree\\\",\\\"TensorFlowDNN\\\",\\\"LightGBM\\\",\\\"GradientBoosting\\\",\\\"SGD\\\",\\\"MultinomialNaiveBayes\\\"],\\\"auto_blacklist\\\":true,\\\"blacklist_samples_reached\\\":false,\\\"exclude_nan_labels\\\":true,\\\"verbosity\\\":20,\\\"_debug_log\\\":\\\"azureml_automl.log\\\",\\\"show_warnings\\\":false,\\\"model_explainability\\\":true,\\\"service_url\\\":null,\\\"sdk_url\\\":null,\\\"sdk_packages\\\":null,\\\"enable_onnx_compatible_models\\\":true,\\\"enable_split_onnx_featurizer_estimator_models\\\":false,\\\"vm_type\\\":\\\"STANDARD_D2_V2\\\",\\\"telemetry_verbosity\\\":20,\\\"send_telemetry\\\":true,\\\"enable_dnn\\\":false,\\\"scenario\\\":\\\"SDK-1.13.0\\\",\\\"environment_label\\\":null,\\\"force_text_dnn\\\":false,\\\"enable_feature_sweeping\\\":false,\\\"enable_early_stopping\\\":true,\\\"early_stopping_n_iters\\\":10,\\\"metrics\\\":null,\\\"enable_ensembling\\\":true,\\\"enable_stack_ensembling\\\":false,\\\"ensemble_iterations\\\":15,\\\"enable_tf\\\":false,\\\"enable_subsampling\\\":null,\\\"subsample_seed\\\":null,\\\"enable_nimbusml\\\":false,\\\"enable_streaming\\\":false,\\\"force_streaming\\\":false,\\\"track_child_runs\\\":true,\\\"allowed_private_models\\\":[],\\\"label_column_name\\\":\\\"target\\\",\\\"weight_column_name\\\":null,\\\"cv_split_column_names\\\":null,\\\"enable_local_managed\\\":false,\\\"_local_managed_run_id\\\":null,\\\"cost_mode\\\":1,\\\"lag_length\\\":0,\\\"metric_operation\\\":\\\"maximize\\\",\\\"preprocess\\\":true}\", \"DataPrepJsonString\": \"{\\\\\\\"training_data\\\\\\\": \\\\\\\"{\\\\\\\\\\\\\\\"blocks\\\\\\\\\\\\\\\": [{\\\\\\\\\\\\\\\"id\\\\\\\\\\\\\\\": \\\\\\\\\\\\\\\"3b08120c-4dc6-4c4a-81f0-4b2464faac85\\\\\\\\\\\\\\\", \\\\\\\\\\\\\\\"type\\\\\\\\\\\\\\\": \\\\\\\\\\\\\\\"Microsoft.DPrep.GetFilesBlock\\\\\\\\\\\\\\\", \\\\\\\\\\\\\\\"arguments\\\\\\\\\\\\\\\": {\\\\\\\\\\\\\\\"isArchive\\\\\\\\\\\\\\\": false, \\\\\\\\\\\\\\\"path\\\\\\\\\\\\\\\": {\\\\\\\\\\\\\\\"target\\\\\\\\\\\\\\\": 4, \\\\\\\\\\\\\\\"resourceDetails\\\\\\\\\\\\\\\": [{\\\\\\\\\\\\\\\"path\\\\\\\\\\\\\\\": \\\\\\\\\\\\\\\"https://raw.githubusercontent.com/SadmiB/Heart-Disease-Prediction/master/heart.csv\\\\\\\\\\\\\\\"}]}}, \\\\\\\\\\\\\\\"localData\\\\\\\\\\\\\\\": {}, \\\\\\\\\\\\\\\"isEnabled\\\\\\\\\\\\\\\": true, \\\\\\\\\\\\\\\"name\\\\\\\\\\\\\\\": null, \\\\\\\\\\\\\\\"annotation\\\\\\\\\\\\\\\": null}, {\\\\\\\\\\\\\\\"id\\\\\\\\\\\\\\\": \\\\\\\\\\\\\\\"bf542cfe-77bb-4b09-a84b-fffd972e1695\\\\\\\\\\\\\\\", \\\\\\\\\\\\\\\"type\\\\\\\\\\\\\\\": \\\\\\\\\\\\\\\"Microsoft.DPrep.ParseDelimitedBlock\\\\\\\\\\\\\\\", \\\\\\\\\\\\\\\"arguments\\\\\\\\\\\\\\\": {\\\\\\\\\\\\\\\"columnHeadersMode\\\\\\\\\\\\\\\": 3, \\\\\\\\\\\\\\\"fileEncoding\\\\\\\\\\\\\\\": 0, \\\\\\\\\\\\\\\"handleQuotedLineBreaks\\\\\\\\\\\\\\\": false, \\\\\\\\\\\\\\\"preview\\\\\\\\\\\\\\\": false, \\\\\\\\\\\\\\\"separator\\\\\\\\\\\\\\\": \\\\\\\\\\\\\\\",\\\\\\\\\\\\\\\", \\\\\\\\\\\\\\\"skipRows\\\\\\\\\\\\\\\": 0, \\\\\\\\\\\\\\\"skipRowsMode\\\\\\\\\\\\\\\": 0}, \\\\\\\\\\\\\\\"localData\\\\\\\\\\\\\\\": {}, \\\\\\\\\\\\\\\"isEnabled\\\\\\\\\\\\\\\": true, \\\\\\\\\\\\\\\"name\\\\\\\\\\\\\\\": null, \\\\\\\\\\\\\\\"annotation\\\\\\\\\\\\\\\": null}, {\\\\\\\\\\\\\\\"id\\\\\\\\\\\\\\\": \\\\\\\\\\\\\\\"ceafaa3c-c229-42b6-8066-1aa18e4c4aaf\\\\\\\\\\\\\\\", \\\\\\\\\\\\\\\"type\\\\\\\\\\\\\\\": \\\\\\\\\\\\\\\"Microsoft.DPrep.DropColumnsBlock\\\\\\\\\\\\\\\", \\\\\\\\\\\\\\\"arguments\\\\\\\\\\\\\\\": {\\\\\\\\\\\\\\\"columns\\\\\\\\\\\\\\\": {\\\\\\\\\\\\\\\"type\\\\\\\\\\\\\\\": 0, \\\\\\\\\\\\\\\"details\\\\\\\\\\\\\\\": {\\\\\\\\\\\\\\\"selectedColumns\\\\\\\\\\\\\\\": [\\\\\\\\\\\\\\\"Path\\\\\\\\\\\\\\\"]}}}, \\\\\\\\\\\\\\\"localData\\\\\\\\\\\\\\\": {}, \\\\\\\\\\\\\\\"isEnabled\\\\\\\\\\\\\\\": true, \\\\\\\\\\\\\\\"name\\\\\\\\\\\\\\\": null, \\\\\\\\\\\\\\\"annotation\\\\\\\\\\\\\\\": null}, {\\\\\\\\\\\\\\\"id\\\\\\\\\\\\\\\": \\\\\\\\\\\\\\\"02703f85-4160-49be-89a2-d972e40ae7fe\\\\\\\\\\\\\\\", \\\\\\\\\\\\\\\"type\\\\\\\\\\\\\\\": \\\\\\\\\\\\\\\"Microsoft.DPrep.SetColumnTypesBlock\\\\\\\\\\\\\\\", \\\\\\\\\\\\\\\"arguments\\\\\\\\\\\\\\\": {\\\\\\\\\\\\\\\"columnConversion\\\\\\\\\\\\\\\": [{\\\\\\\\\\\\\\\"column\\\\\\\\\\\\\\\": {\\\\\\\\\\\\\\\"type\\\\\\\\\\\\\\\": 2, \\\\\\\\\\\\\\\"details\\\\\\\\\\\\\\\": {\\\\\\\\\\\\\\\"selectedColumn\\\\\\\\\\\\\\\": \\\\\\\\\\\\\\\"age\\\\\\\\\\\\\\\"}}, \\\\\\\\\\\\\\\"typeProperty\\\\\\\\\\\\\\\": 2}, {\\\\\\\\\\\\\\\"column\\\\\\\\\\\\\\\": {\\\\\\\\\\\\\\\"type\\\\\\\\\\\\\\\": 2, \\\\\\\\\\\\\\\"details\\\\\\\\\\\\\\\": {\\\\\\\\\\\\\\\"selectedColumn\\\\\\\\\\\\\\\": \\\\\\\\\\\\\\\"sex\\\\\\\\\\\\\\\"}}, \\\\\\\\\\\\\\\"typeProperty\\\\\\\\\\\\\\\": 2}, {\\\\\\\\\\\\\\\"column\\\\\\\\\\\\\\\": {\\\\\\\\\\\\\\\"type\\\\\\\\\\\\\\\": 2, \\\\\\\\\\\\\\\"details\\\\\\\\\\\\\\\": {\\\\\\\\\\\\\\\"selectedColumn\\\\\\\\\\\\\\\": \\\\\\\\\\\\\\\"cp\\\\\\\\\\\\\\\"}}, \\\\\\\\\\\\\\\"typeProperty\\\\\\\\\\\\\\\": 2}, {\\\\\\\\\\\\\\\"column\\\\\\\\\\\\\\\": {\\\\\\\\\\\\\\\"type\\\\\\\\\\\\\\\": 2, \\\\\\\\\\\\\\\"details\\\\\\\\\\\\\\\": {\\\\\\\\\\\\\\\"selectedColumn\\\\\\\\\\\\\\\": \\\\\\\\\\\\\\\"trestbps\\\\\\\\\\\\\\\"}}, \\\\\\\\\\\\\\\"typeProperty\\\\\\\\\\\\\\\": 2}, {\\\\\\\\\\\\\\\"column\\\\\\\\\\\\\\\": {\\\\\\\\\\\\\\\"type\\\\\\\\\\\\\\\": 2, \\\\\\\\\\\\\\\"details\\\\\\\\\\\\\\\": {\\\\\\\\\\\\\\\"selectedColumn\\\\\\\\\\\\\\\": \\\\\\\\\\\\\\\"chol\\\\\\\\\\\\\\\"}}, \\\\\\\\\\\\\\\"typeProperty\\\\\\\\\\\\\\\": 2}, {\\\\\\\\\\\\\\\"column\\\\\\\\\\\\\\\": {\\\\\\\\\\\\\\\"type\\\\\\\\\\\\\\\": 2, \\\\\\\\\\\\\\\"details\\\\\\\\\\\\\\\": {\\\\\\\\\\\\\\\"selectedColumn\\\\\\\\\\\\\\\": \\\\\\\\\\\\\\\"fbs\\\\\\\\\\\\\\\"}}, \\\\\\\\\\\\\\\"typeProperty\\\\\\\\\\\\\\\": 2}, {\\\\\\\\\\\\\\\"column\\\\\\\\\\\\\\\": {\\\\\\\\\\\\\\\"type\\\\\\\\\\\\\\\": 2, \\\\\\\\\\\\\\\"details\\\\\\\\\\\\\\\": {\\\\\\\\\\\\\\\"selectedColumn\\\\\\\\\\\\\\\": \\\\\\\\\\\\\\\"restecg\\\\\\\\\\\\\\\"}}, \\\\\\\\\\\\\\\"typeProperty\\\\\\\\\\\\\\\": 2}, {\\\\\\\\\\\\\\\"column\\\\\\\\\\\\\\\": {\\\\\\\\\\\\\\\"type\\\\\\\\\\\\\\\": 2, \\\\\\\\\\\\\\\"details\\\\\\\\\\\\\\\": {\\\\\\\\\\\\\\\"selectedColumn\\\\\\\\\\\\\\\": \\\\\\\\\\\\\\\"thalach\\\\\\\\\\\\\\\"}}, \\\\\\\\\\\\\\\"typeProperty\\\\\\\\\\\\\\\": 2}, {\\\\\\\\\\\\\\\"column\\\\\\\\\\\\\\\": {\\\\\\\\\\\\\\\"type\\\\\\\\\\\\\\\": 2, \\\\\\\\\\\\\\\"details\\\\\\\\\\\\\\\": {\\\\\\\\\\\\\\\"selectedColumn\\\\\\\\\\\\\\\": \\\\\\\\\\\\\\\"exang\\\\\\\\\\\\\\\"}}, \\\\\\\\\\\\\\\"typeProperty\\\\\\\\\\\\\\\": 2}, {\\\\\\\\\\\\\\\"column\\\\\\\\\\\\\\\": {\\\\\\\\\\\\\\\"type\\\\\\\\\\\\\\\": 2, \\\\\\\\\\\\\\\"details\\\\\\\\\\\\\\\": {\\\\\\\\\\\\\\\"selectedColumn\\\\\\\\\\\\\\\": \\\\\\\\\\\\\\\"oldpeak\\\\\\\\\\\\\\\"}}, \\\\\\\\\\\\\\\"typeProperty\\\\\\\\\\\\\\\": 3}, {\\\\\\\\\\\\\\\"column\\\\\\\\\\\\\\\": {\\\\\\\\\\\\\\\"type\\\\\\\\\\\\\\\": 2, \\\\\\\\\\\\\\\"details\\\\\\\\\\\\\\\": {\\\\\\\\\\\\\\\"selectedColumn\\\\\\\\\\\\\\\": \\\\\\\\\\\\\\\"slope\\\\\\\\\\\\\\\"}}, \\\\\\\\\\\\\\\"typeProperty\\\\\\\\\\\\\\\": 2}, {\\\\\\\\\\\\\\\"column\\\\\\\\\\\\\\\": {\\\\\\\\\\\\\\\"type\\\\\\\\\\\\\\\": 2, \\\\\\\\\\\\\\\"details\\\\\\\\\\\\\\\": {\\\\\\\\\\\\\\\"selectedColumn\\\\\\\\\\\\\\\": \\\\\\\\\\\\\\\"ca\\\\\\\\\\\\\\\"}}, \\\\\\\\\\\\\\\"typeProperty\\\\\\\\\\\\\\\": 2}, {\\\\\\\\\\\\\\\"column\\\\\\\\\\\\\\\": {\\\\\\\\\\\\\\\"type\\\\\\\\\\\\\\\": 2, \\\\\\\\\\\\\\\"details\\\\\\\\\\\\\\\": {\\\\\\\\\\\\\\\"selectedColumn\\\\\\\\\\\\\\\": \\\\\\\\\\\\\\\"thal\\\\\\\\\\\\\\\"}}, \\\\\\\\\\\\\\\"typeProperty\\\\\\\\\\\\\\\": 2}, {\\\\\\\\\\\\\\\"column\\\\\\\\\\\\\\\": {\\\\\\\\\\\\\\\"type\\\\\\\\\\\\\\\": 2, \\\\\\\\\\\\\\\"details\\\\\\\\\\\\\\\": {\\\\\\\\\\\\\\\"selectedColumn\\\\\\\\\\\\\\\": \\\\\\\\\\\\\\\"target\\\\\\\\\\\\\\\"}}, \\\\\\\\\\\\\\\"typeProperty\\\\\\\\\\\\\\\": 2}]}, \\\\\\\\\\\\\\\"localData\\\\\\\\\\\\\\\": {}, \\\\\\\\\\\\\\\"isEnabled\\\\\\\\\\\\\\\": true, \\\\\\\\\\\\\\\"name\\\\\\\\\\\\\\\": null, \\\\\\\\\\\\\\\"annotation\\\\\\\\\\\\\\\": null}], \\\\\\\\\\\\\\\"inspectors\\\\\\\\\\\\\\\": [], \\\\\\\\\\\\\\\"meta\\\\\\\\\\\\\\\": {\\\\\\\\\\\\\\\"savedDatasetId\\\\\\\\\\\\\\\": \\\\\\\\\\\\\\\"7e97f15f-6ce9-4f34-bd62-9bedadad79c7\\\\\\\\\\\\\\\", \\\\\\\\\\\\\\\"datasetType\\\\\\\\\\\\\\\": \\\\\\\\\\\\\\\"tabular\\\\\\\\\\\\\\\", \\\\\\\\\\\\\\\"subscriptionId\\\\\\\\\\\\\\\": \\\\\\\\\\\\\\\"3e42d11f-d64d-4173-af9b-12ecaa1030b3\\\\\\\\\\\\\\\", \\\\\\\\\\\\\\\"workspaceId\\\\\\\\\\\\\\\": \\\\\\\\\\\\\\\"fb1ab2b2-f109-4700-aaae-fe1dde40d040\\\\\\\\\\\\\\\", \\\\\\\\\\\\\\\"workspaceLocation\\\\\\\\\\\\\\\": \\\\\\\\\\\\\\\"southcentralus\\\\\\\\\\\\\\\"}}\\\\\\\", \\\\\\\"activities\\\\\\\": 0}\", \"EnableSubsampling\": null, \"runTemplate\": \"AutoML\", \"azureml.runsource\": \"automl\", \"display_task_type\": \"classification\", \"dependencies_versions\": \"{\\\"azureml-widgets\\\": \\\"1.20.0\\\", \\\"azureml-train\\\": \\\"1.20.0\\\", \\\"azureml-train-restclients-hyperdrive\\\": \\\"1.20.0\\\", \\\"azureml-train-core\\\": \\\"1.20.0\\\", \\\"azureml-train-automl\\\": \\\"1.20.0\\\", \\\"azureml-train-automl-runtime\\\": \\\"1.20.0\\\", \\\"azureml-train-automl-client\\\": \\\"1.20.0\\\", \\\"azureml-tensorboard\\\": \\\"1.20.0\\\", \\\"azureml-telemetry\\\": \\\"1.20.0\\\", \\\"azureml-sdk\\\": \\\"1.20.0\\\", \\\"azureml-samples\\\": \\\"0+unknown\\\", \\\"azureml-pipeline\\\": \\\"1.20.0\\\", \\\"azureml-pipeline-steps\\\": \\\"1.20.0\\\", \\\"azureml-pipeline-core\\\": \\\"1.20.0\\\", \\\"azureml-opendatasets\\\": \\\"1.20.0\\\", \\\"azureml-model-management-sdk\\\": \\\"1.0.1b6.post1\\\", \\\"azureml-mlflow\\\": \\\"1.20.0.post1\\\", \\\"azureml-interpret\\\": \\\"1.20.0\\\", \\\"azureml-explain-model\\\": \\\"1.20.0\\\", \\\"azureml-defaults\\\": \\\"1.20.0\\\", \\\"azureml-dataset-runtime\\\": \\\"1.20.0\\\", \\\"azureml-dataprep\\\": \\\"2.7.3\\\", \\\"azureml-dataprep-rslex\\\": \\\"1.5.0\\\", \\\"azureml-dataprep-native\\\": \\\"27.0.0\\\", \\\"azureml-datadrift\\\": \\\"1.20.0\\\", \\\"azureml-core\\\": \\\"1.20.0\\\", \\\"azureml-contrib-services\\\": \\\"1.20.0\\\", \\\"azureml-contrib-server\\\": \\\"1.20.0\\\", \\\"azureml-contrib-reinforcementlearning\\\": \\\"1.20.0\\\", \\\"azureml-contrib-pipeline-steps\\\": \\\"1.20.0\\\", \\\"azureml-contrib-notebook\\\": \\\"1.20.0\\\", \\\"azureml-contrib-interpret\\\": \\\"1.20.0\\\", \\\"azureml-contrib-gbdt\\\": \\\"1.20.0\\\", \\\"azureml-contrib-fairness\\\": \\\"1.20.0\\\", \\\"azureml-contrib-dataset\\\": \\\"1.20.0\\\", \\\"azureml-cli-common\\\": \\\"1.20.0\\\", \\\"azureml-automl-runtime\\\": \\\"1.20.0\\\", \\\"azureml-automl-core\\\": \\\"1.20.0\\\", \\\"azureml-accel-models\\\": \\\"1.20.0\\\"}\", \"_aml_system_scenario_identification\": \"Remote.Parent\", \"ClientType\": \"SDK\", \"environment_cpu_name\": \"AzureML-AutoML\", \"environment_cpu_label\": \"prod\", \"environment_gpu_name\": \"AzureML-AutoML-GPU\", \"environment_gpu_label\": \"prod\", \"root_attribution\": \"automl\", \"attribution\": \"AutoML\", \"Orchestrator\": \"AutoML\", \"CancelUri\": \"https://southcentralus.experiments.azureml.net/jasmine/v1.0/subscriptions/3e42d11f-d64d-4173-af9b-12ecaa1030b3/resourceGroups/aml-quickstarts-136706/providers/Microsoft.MachineLearningServices/workspaces/quick-starts-ws-136706/experimentids/5ac16c3a-e2a9-470a-8ea9-8b6f2455a775/cancel/AutoML_a960d399-7f51-4f20-bd64-8ade24df5f8b\", \"ClientSdkVersion\": \"1.20.0.post1\", \"snapshotId\": \"00000000-0000-0000-0000-000000000000\", \"SetupRunId\": \"AutoML_a960d399-7f51-4f20-bd64-8ade24df5f8b_setup\", \"SetupRunContainerId\": \"dcid.AutoML_a960d399-7f51-4f20-bd64-8ade24df5f8b_setup\", \"FeaturizationRunJsonPath\": \"featurizer_container.json\", \"FeaturizationRunId\": \"AutoML_a960d399-7f51-4f20-bd64-8ade24df5f8b_featurize\", \"ProblemInfoJsonString\": \"{\\\"dataset_num_categorical\\\": 0, \\\"is_sparse\\\": true, \\\"subsampling\\\": false, \\\"dataset_classes\\\": 2, \\\"dataset_features\\\": 27, \\\"dataset_samples\\\": 303, \\\"single_frequency_class_detected\\\": false}\", \"ModelExplainRunId\": \"AutoML_a960d399-7f51-4f20-bd64-8ade24df5f8b_ModelExplain\"}, \"tags\": {\"model_explain_run\": \"best_run\", \"_aml_system_azureml.automlComponent\": \"AutoML\", \"pipeline_id\": \"\", \"score\": \"\", \"predicted_cost\": \"\", \"fit_time\": \"\", \"training_percent\": \"\", \"iteration\": \"\", \"run_preprocessor\": \"\", \"run_algorithm\": \"\", \"dynamic_whitelisting_iterations\": \"<25>;<30>;<35>;\", \"automl_best_child_run_id\": \"AutoML_a960d399-7f51-4f20-bd64-8ade24df5f8b_36\", \"model_explain_best_run_child_id\": \"AutoML_a960d399-7f51-4f20-bd64-8ade24df5f8b_36\"}, \"end_time_utc\": \"2021-01-31T10:52:49.57648Z\", \"status\": \"Completed\", \"log_files\": {}, \"log_groups\": [], \"run_duration\": \"0:26:13\"}, \"child_runs\": [{\"run_id\": \"AutoML_a960d399-7f51-4f20-bd64-8ade24df5f8b_0\", \"run_number\": 5, \"metric\": null, \"status\": \"Completed\", \"run_type\": \"azureml.scriptrun\", \"training_percent\": \"100\", \"start_time\": \"2021-01-31T10:38:57.422686Z\", \"end_time\": \"2021-01-31T10:42:26.619651Z\", \"created_time\": \"2021-01-31T10:36:45.098757Z\", \"created_time_dt\": \"2021-01-31T10:36:45.098757Z\", \"duration\": \"0:05:41\", \"iteration\": \"0\", \"goal\": \"accuracy_max\", \"run_name\": \"MaxAbsScaler, LightGBM\", \"run_properties\": \"copy=True\", \"primary_metric\": 0.81150538, \"best_metric\": 0.81150538}, {\"run_id\": \"AutoML_a960d399-7f51-4f20-bd64-8ade24df5f8b_1\", \"run_number\": 6, \"metric\": null, \"status\": \"Completed\", \"run_type\": \"azureml.scriptrun\", \"training_percent\": \"100\", \"start_time\": \"2021-01-31T10:36:57.156004Z\", \"end_time\": \"2021-01-31T10:37:56.941528Z\", \"created_time\": \"2021-01-31T10:36:45.250305Z\", \"created_time_dt\": \"2021-01-31T10:36:45.250305Z\", \"duration\": \"0:01:11\", \"iteration\": \"1\", \"goal\": \"accuracy_max\", \"run_name\": \"MaxAbsScaler, XGBoostClassifier\", \"run_properties\": \"copy=True\", \"primary_metric\": 0.81795699, \"best_metric\": 0.81795699}, {\"run_id\": \"AutoML_a960d399-7f51-4f20-bd64-8ade24df5f8b_3\", \"run_number\": 7, \"metric\": null, \"status\": \"Completed\", \"run_type\": \"azureml.scriptrun\", \"training_percent\": \"100\", \"start_time\": \"2021-01-31T10:37:59.780469Z\", \"end_time\": \"2021-01-31T10:39:05.190522Z\", \"created_time\": \"2021-01-31T10:36:45.264247Z\", \"created_time_dt\": \"2021-01-31T10:36:45.264247Z\", \"duration\": \"0:02:19\", \"iteration\": \"3\", \"goal\": \"accuracy_max\", \"run_name\": \"MaxAbsScaler, RandomForest\", \"run_properties\": \"copy=True\", \"primary_metric\": 0.8211828, \"best_metric\": 0.8211828}, {\"run_id\": \"AutoML_a960d399-7f51-4f20-bd64-8ade24df5f8b_2\", \"run_number\": 8, \"metric\": null, \"status\": \"Completed\", \"run_type\": \"azureml.scriptrun\", \"training_percent\": \"100\", \"start_time\": \"2021-01-31T10:38:52.857644Z\", \"end_time\": \"2021-01-31T10:42:33.58918Z\", \"created_time\": \"2021-01-31T10:36:45.288293Z\", \"created_time_dt\": \"2021-01-31T10:36:45.288293Z\", \"duration\": \"0:05:48\", \"iteration\": \"2\", \"goal\": \"accuracy_max\", \"run_name\": \"MaxAbsScaler, RandomForest\", \"run_properties\": \"copy=True\", \"primary_metric\": 0.81150538, \"best_metric\": 0.81795699}, {\"run_id\": \"AutoML_a960d399-7f51-4f20-bd64-8ade24df5f8b_4\", \"run_number\": 9, \"metric\": null, \"status\": \"Completed\", \"run_type\": \"azureml.scriptrun\", \"training_percent\": \"100\", \"start_time\": \"2021-01-31T10:38:55.98807Z\", \"end_time\": \"2021-01-31T10:42:20.808431Z\", \"created_time\": \"2021-01-31T10:37:59.363603Z\", \"created_time_dt\": \"2021-01-31T10:37:59.363603Z\", \"duration\": \"0:04:21\", \"iteration\": \"4\", \"goal\": \"accuracy_max\", \"run_name\": \"MaxAbsScaler, RandomForest\", \"run_properties\": \"copy=True\", \"primary_metric\": 0.81817204, \"best_metric\": 0.8211828}, {\"run_id\": \"AutoML_a960d399-7f51-4f20-bd64-8ade24df5f8b_5\", \"run_number\": 10, \"metric\": null, \"status\": \"Completed\", \"run_type\": \"azureml.scriptrun\", \"training_percent\": \"100\", \"start_time\": \"2021-01-31T10:39:26.33218Z\", \"end_time\": \"2021-01-31T10:40:22.990525Z\", \"created_time\": \"2021-01-31T10:39:09.834931Z\", \"created_time_dt\": \"2021-01-31T10:39:09.834931Z\", \"duration\": \"0:01:13\", \"iteration\": \"5\", \"goal\": \"accuracy_max\", \"run_name\": \"MaxAbsScaler, RandomForest\", \"run_properties\": \"copy=True\", \"primary_metric\": 0.81494624, \"best_metric\": 0.8211828}, {\"run_id\": \"AutoML_a960d399-7f51-4f20-bd64-8ade24df5f8b_6\", \"run_number\": 11, \"metric\": null, \"status\": \"Completed\", \"run_type\": \"azureml.scriptrun\", \"training_percent\": \"100\", \"start_time\": \"2021-01-31T10:40:37.893863Z\", \"end_time\": \"2021-01-31T10:41:35.361204Z\", \"created_time\": \"2021-01-31T10:40:25.344949Z\", \"created_time_dt\": \"2021-01-31T10:40:25.344949Z\", \"duration\": \"0:01:10\", \"iteration\": \"6\", \"goal\": \"accuracy_max\", \"run_name\": \"SparseNormalizer, XGBoostClassifier\", \"run_properties\": \"<azureml.automl.runtime.shared.model_wrappers.SparseNormalizer object at 0x7f27fa799b70\", \"primary_metric\": 0.82494624, \"best_metric\": 0.82494624}, {\"run_id\": \"AutoML_a960d399-7f51-4f20-bd64-8ade24df5f8b_7\", \"run_number\": 12, \"metric\": null, \"status\": \"Completed\", \"run_type\": \"azureml.scriptrun\", \"training_percent\": \"100\", \"start_time\": \"2021-01-31T10:41:49.648908Z\", \"end_time\": \"2021-01-31T10:42:44.458345Z\", \"created_time\": \"2021-01-31T10:41:37.679191Z\", \"created_time_dt\": \"2021-01-31T10:41:37.679191Z\", \"duration\": \"0:01:06\", \"iteration\": \"7\", \"goal\": \"accuracy_max\", \"run_name\": \"MaxAbsScaler, LightGBM\", \"run_properties\": \"copy=True\", \"primary_metric\": 0.82473118, \"best_metric\": 0.82494624}, {\"run_id\": \"AutoML_a960d399-7f51-4f20-bd64-8ade24df5f8b_8\", \"run_number\": 13, \"metric\": null, \"status\": \"Completed\", \"run_type\": \"azureml.scriptrun\", \"training_percent\": \"100\", \"start_time\": \"2021-01-31T10:42:33.760346Z\", \"end_time\": \"2021-01-31T10:43:24.576661Z\", \"created_time\": \"2021-01-31T10:42:23.105139Z\", \"created_time_dt\": \"2021-01-31T10:42:23.105139Z\", \"duration\": \"0:01:01\", \"iteration\": \"8\", \"goal\": \"accuracy_max\", \"run_name\": \"StandardScalerWrapper, GradientBoosting\", \"run_properties\": \"<azureml.automl.runtime.shared.model_wrappers.StandardScalerWrapper object at 0x7f269fe1db00\", \"primary_metric\": 0.83806452, \"best_metric\": 0.83806452}, {\"run_id\": \"AutoML_a960d399-7f51-4f20-bd64-8ade24df5f8b_9\", \"run_number\": 14, \"metric\": null, \"status\": \"Completed\", \"run_type\": \"azureml.scriptrun\", \"training_percent\": \"100\", \"start_time\": \"2021-01-31T10:42:41.859296Z\", \"end_time\": \"2021-01-31T10:43:52.519654Z\", \"created_time\": \"2021-01-31T10:42:28.825364Z\", \"created_time_dt\": \"2021-01-31T10:42:28.825364Z\", \"duration\": \"0:01:23\", \"iteration\": \"9\", \"goal\": \"accuracy_max\", \"run_name\": \"MaxAbsScaler, RandomForest\", \"run_properties\": \"copy=True\", \"primary_metric\": 0.8411828, \"best_metric\": 0.8411828}, {\"run_id\": \"AutoML_a960d399-7f51-4f20-bd64-8ade24df5f8b_10\", \"run_number\": 15, \"metric\": null, \"status\": \"Completed\", \"run_type\": \"azureml.scriptrun\", \"training_percent\": \"100\", \"start_time\": \"2021-01-31T10:42:47.186111Z\", \"end_time\": \"2021-01-31T10:43:45.366406Z\", \"created_time\": \"2021-01-31T10:42:35.179473Z\", \"created_time_dt\": \"2021-01-31T10:42:35.179473Z\", \"duration\": \"0:01:10\", \"iteration\": \"10\", \"goal\": \"accuracy_max\", \"run_name\": \"SparseNormalizer, XGBoostClassifier\", \"run_properties\": \"<azureml.automl.runtime.shared.model_wrappers.SparseNormalizer object at 0x7f4ec4d00630\", \"primary_metric\": 0.81505376, \"best_metric\": 0.8411828}, {\"run_id\": \"AutoML_a960d399-7f51-4f20-bd64-8ade24df5f8b_11\", \"run_number\": 16, \"metric\": null, \"status\": \"Completed\", \"run_type\": \"azureml.scriptrun\", \"training_percent\": \"100\", \"start_time\": \"2021-01-31T10:42:58.307336Z\", \"end_time\": \"2021-01-31T10:43:50.271579Z\", \"created_time\": \"2021-01-31T10:42:46.109674Z\", \"created_time_dt\": \"2021-01-31T10:42:46.109674Z\", \"duration\": \"0:01:04\", \"iteration\": \"11\", \"goal\": \"accuracy_max\", \"run_name\": \"SparseNormalizer, LightGBM\", \"run_properties\": \"<azureml.automl.runtime.shared.model_wrappers.SparseNormalizer object at 0x7f0a31bfde48\", \"primary_metric\": 0.84784946, \"best_metric\": 0.84784946}, {\"run_id\": \"AutoML_a960d399-7f51-4f20-bd64-8ade24df5f8b_12\", \"run_number\": 17, \"metric\": null, \"status\": \"Completed\", \"run_type\": \"azureml.scriptrun\", \"training_percent\": \"100\", \"start_time\": \"2021-01-31T10:43:37.273971Z\", \"end_time\": \"2021-01-31T10:44:35.786116Z\", \"created_time\": \"2021-01-31T10:43:26.090081Z\", \"created_time_dt\": \"2021-01-31T10:43:26.090081Z\", \"duration\": \"0:01:09\", \"iteration\": \"12\", \"goal\": \"accuracy_max\", \"run_name\": \"SparseNormalizer, XGBoostClassifier\", \"run_properties\": \"<azureml.automl.runtime.shared.model_wrappers.SparseNormalizer object at 0x7f9d40f4cf28\", \"primary_metric\": 0.8344086, \"best_metric\": 0.84784946}, {\"run_id\": \"AutoML_a960d399-7f51-4f20-bd64-8ade24df5f8b_13\", \"run_number\": 18, \"metric\": null, \"status\": \"Completed\", \"run_type\": \"azureml.scriptrun\", \"training_percent\": \"100\", \"start_time\": \"2021-01-31T10:43:56.670408Z\", \"end_time\": \"2021-01-31T10:44:51.081325Z\", \"created_time\": \"2021-01-31T10:43:46.874612Z\", \"created_time_dt\": \"2021-01-31T10:43:46.874612Z\", \"duration\": \"0:01:04\", \"iteration\": \"13\", \"goal\": \"accuracy_max\", \"run_name\": \"MaxAbsScaler, LightGBM\", \"run_properties\": \"copy=True\", \"primary_metric\": 0.84139785, \"best_metric\": 0.84784946}, {\"run_id\": \"AutoML_a960d399-7f51-4f20-bd64-8ade24df5f8b_14\", \"run_number\": 19, \"metric\": null, \"status\": \"Completed\", \"run_type\": \"azureml.scriptrun\", \"training_percent\": \"100\", \"start_time\": \"2021-01-31T10:44:02.309223Z\", \"end_time\": \"2021-01-31T10:44:53.215749Z\", \"created_time\": \"2021-01-31T10:43:51.704773Z\", \"created_time_dt\": \"2021-01-31T10:43:51.704773Z\", \"duration\": \"0:01:01\", \"iteration\": \"14\", \"goal\": \"accuracy_max\", \"run_name\": \"SparseNormalizer, XGBoostClassifier\", \"run_properties\": \"<azureml.automl.runtime.shared.model_wrappers.SparseNormalizer object at 0x7f5e0dbe3320\", \"primary_metric\": 0.83462366, \"best_metric\": 0.84784946}, {\"run_id\": \"AutoML_a960d399-7f51-4f20-bd64-8ade24df5f8b_15\", \"run_number\": 20, \"metric\": null, \"status\": \"Completed\", \"run_type\": \"azureml.scriptrun\", \"training_percent\": \"100\", \"start_time\": \"2021-01-31T10:44:07.369403Z\", \"end_time\": \"2021-01-31T10:45:02.81191Z\", \"created_time\": \"2021-01-31T10:43:54.509919Z\", \"created_time_dt\": \"2021-01-31T10:43:54.509919Z\", \"duration\": \"0:01:08\", \"iteration\": \"15\", \"goal\": \"accuracy_max\", \"run_name\": \"MaxAbsScaler, LogisticRegression\", \"run_properties\": \"copy=True\", \"primary_metric\": 0.83473118, \"best_metric\": 0.84784946}, {\"run_id\": \"AutoML_a960d399-7f51-4f20-bd64-8ade24df5f8b_16\", \"run_number\": 21, \"metric\": null, \"status\": \"Completed\", \"run_type\": \"azureml.scriptrun\", \"training_percent\": \"100\", \"start_time\": \"2021-01-31T10:44:48.188563Z\", \"end_time\": \"2021-01-31T10:45:45.339797Z\", \"created_time\": \"2021-01-31T10:44:37.356807Z\", \"created_time_dt\": \"2021-01-31T10:44:37.356807Z\", \"duration\": \"0:01:07\", \"iteration\": \"16\", \"goal\": \"accuracy_max\", \"run_name\": \"StandardScalerWrapper, LogisticRegression\", \"run_properties\": \"<azureml.automl.runtime.shared.model_wrappers.StandardScalerWrapper object at 0x7fb754493828\", \"primary_metric\": 0.82806452, \"best_metric\": 0.84784946}, {\"run_id\": \"AutoML_a960d399-7f51-4f20-bd64-8ade24df5f8b_17\", \"run_number\": 22, \"metric\": null, \"status\": \"Completed\", \"run_type\": \"azureml.scriptrun\", \"training_percent\": \"100\", \"start_time\": \"2021-01-31T10:45:04.368111Z\", \"end_time\": \"2021-01-31T10:46:04.681285Z\", \"created_time\": \"2021-01-31T10:44:52.583541Z\", \"created_time_dt\": \"2021-01-31T10:44:52.583541Z\", \"duration\": \"0:01:12\", \"iteration\": \"17\", \"goal\": \"accuracy_max\", \"run_name\": \"MaxAbsScaler, LogisticRegression\", \"run_properties\": \"copy=True\", \"primary_metric\": 0.83763441, \"best_metric\": 0.84784946}, {\"run_id\": \"AutoML_a960d399-7f51-4f20-bd64-8ade24df5f8b_18\", \"run_number\": 23, \"metric\": null, \"status\": \"Completed\", \"run_type\": \"azureml.scriptrun\", \"training_percent\": \"100\", \"start_time\": \"2021-01-31T10:45:07.250534Z\", \"end_time\": \"2021-01-31T10:45:58.938107Z\", \"created_time\": \"2021-01-31T10:44:55.769996Z\", \"created_time_dt\": \"2021-01-31T10:44:55.769996Z\", \"duration\": \"0:01:03\", \"iteration\": \"18\", \"goal\": \"accuracy_max\", \"run_name\": \"StandardScalerWrapper, ExtremeRandomTrees\", \"run_properties\": \"<azureml.automl.runtime.shared.model_wrappers.StandardScalerWrapper object at 0x7faf9ba5c940\", \"primary_metric\": 0.83784946, \"best_metric\": 0.84784946}, {\"run_id\": \"AutoML_a960d399-7f51-4f20-bd64-8ade24df5f8b_19\", \"run_number\": 24, \"metric\": null, \"status\": \"Completed\", \"run_type\": \"azureml.scriptrun\", \"training_percent\": \"100\", \"start_time\": \"2021-01-31T10:45:18.805226Z\", \"end_time\": \"2021-01-31T10:46:13.518292Z\", \"created_time\": \"2021-01-31T10:45:06.054347Z\", \"created_time_dt\": \"2021-01-31T10:45:06.054347Z\", \"duration\": \"0:01:07\", \"iteration\": \"19\", \"goal\": \"accuracy_max\", \"run_name\": \"SparseNormalizer, XGBoostClassifier\", \"run_properties\": \"<azureml.automl.runtime.shared.model_wrappers.SparseNormalizer object at 0x7f2f4fa04710\", \"primary_metric\": 0.79494624, \"best_metric\": 0.84784946}, {\"run_id\": \"AutoML_a960d399-7f51-4f20-bd64-8ade24df5f8b_20\", \"run_number\": 25, \"metric\": null, \"status\": \"Completed\", \"run_type\": \"azureml.scriptrun\", \"training_percent\": \"100\", \"start_time\": \"2021-01-31T10:45:59.425999Z\", \"end_time\": \"2021-01-31T10:46:51.303251Z\", \"created_time\": \"2021-01-31T10:45:47.264835Z\", \"created_time_dt\": \"2021-01-31T10:45:47.264835Z\", \"duration\": \"0:01:04\", \"iteration\": \"20\", \"goal\": \"accuracy_max\", \"run_name\": \"SparseNormalizer, XGBoostClassifier\", \"run_properties\": \"<azureml.automl.runtime.shared.model_wrappers.SparseNormalizer object at 0x7fe6bd4e2c18\", \"primary_metric\": 0.8111828, \"best_metric\": 0.84784946}, {\"run_id\": \"AutoML_a960d399-7f51-4f20-bd64-8ade24df5f8b_21\", \"run_number\": 26, \"metric\": null, \"status\": \"Completed\", \"run_type\": \"azureml.scriptrun\", \"training_percent\": \"100\", \"start_time\": \"2021-01-31T10:46:11.080403Z\", \"end_time\": \"2021-01-31T10:47:02.712088Z\", \"created_time\": \"2021-01-31T10:46:00.576115Z\", \"created_time_dt\": \"2021-01-31T10:46:00.576115Z\", \"duration\": \"0:01:02\", \"iteration\": \"21\", \"goal\": \"accuracy_max\", \"run_name\": \"SparseNormalizer, XGBoostClassifier\", \"run_properties\": \"<azureml.automl.runtime.shared.model_wrappers.SparseNormalizer object at 0x7fefcd3383c8\", \"primary_metric\": 0.80806452, \"best_metric\": 0.84784946}, {\"run_id\": \"AutoML_a960d399-7f51-4f20-bd64-8ade24df5f8b_22\", \"run_number\": 27, \"metric\": null, \"status\": \"Completed\", \"run_type\": \"azureml.scriptrun\", \"training_percent\": \"100\", \"start_time\": \"2021-01-31T10:46:19.457178Z\", \"end_time\": \"2021-01-31T10:47:08.12786Z\", \"created_time\": \"2021-01-31T10:46:06.302208Z\", \"created_time_dt\": \"2021-01-31T10:46:06.302208Z\", \"duration\": \"0:01:01\", \"iteration\": \"22\", \"goal\": \"accuracy_max\", \"run_name\": \"MaxAbsScaler, LightGBM\", \"run_properties\": \"copy=True\", \"primary_metric\": 0.82462366, \"best_metric\": 0.84784946}, {\"run_id\": \"AutoML_a960d399-7f51-4f20-bd64-8ade24df5f8b_23\", \"run_number\": 28, \"metric\": null, \"status\": \"Completed\", \"run_type\": \"azureml.scriptrun\", \"training_percent\": \"100\", \"start_time\": \"2021-01-31T10:46:26.774866Z\", \"end_time\": \"2021-01-31T10:47:14.780322Z\", \"created_time\": \"2021-01-31T10:46:15.102136Z\", \"created_time_dt\": \"2021-01-31T10:46:15.102136Z\", \"duration\": \"0:00:59\", \"iteration\": \"23\", \"goal\": \"accuracy_max\", \"run_name\": \"MaxAbsScaler, LightGBM\", \"run_properties\": \"copy=True\", \"primary_metric\": 0.83139785, \"best_metric\": 0.84784946}, {\"run_id\": \"AutoML_a960d399-7f51-4f20-bd64-8ade24df5f8b_24\", \"run_number\": 29, \"metric\": null, \"status\": \"Completed\", \"run_type\": \"azureml.scriptrun\", \"training_percent\": \"100\", \"start_time\": \"2021-01-31T10:47:03.288891Z\", \"end_time\": \"2021-01-31T10:47:55.271597Z\", \"created_time\": \"2021-01-31T10:46:53.323266Z\", \"created_time_dt\": \"2021-01-31T10:46:53.323266Z\", \"duration\": \"0:01:01\", \"iteration\": \"24\", \"goal\": \"accuracy_max\", \"run_name\": \"StandardScalerWrapper, XGBoostClassifier\", \"run_properties\": \"<azureml.automl.runtime.shared.model_wrappers.StandardScalerWrapper object at 0x7fedbda7d940\", \"primary_metric\": 0.80494624, \"best_metric\": 0.84784946}, {\"run_id\": \"AutoML_a960d399-7f51-4f20-bd64-8ade24df5f8b_25\", \"run_number\": 30, \"metric\": null, \"status\": \"Completed\", \"run_type\": \"azureml.scriptrun\", \"training_percent\": \"100\", \"start_time\": \"2021-01-31T10:47:18.533784Z\", \"end_time\": \"2021-01-31T10:48:07.785762Z\", \"created_time\": \"2021-01-31T10:47:06.75868Z\", \"created_time_dt\": \"2021-01-31T10:47:06.75868Z\", \"duration\": \"0:01:01\", \"iteration\": \"25\", \"goal\": \"accuracy_max\", \"run_name\": \"StandardScalerWrapper, LightGBM\", \"run_properties\": \"<azureml.automl.runtime.shared.model_wrappers.StandardScalerWrapper object at 0x7f1d656dca90\", \"primary_metric\": 0.54462366, \"best_metric\": 0.84784946}, {\"run_id\": \"AutoML_a960d399-7f51-4f20-bd64-8ade24df5f8b_26\", \"run_number\": 31, \"metric\": null, \"status\": \"Completed\", \"run_type\": \"azureml.scriptrun\", \"training_percent\": \"100\", \"start_time\": \"2021-01-31T10:47:20.796709Z\", \"end_time\": \"2021-01-31T10:48:22.53009Z\", \"created_time\": \"2021-01-31T10:47:10.310198Z\", \"created_time_dt\": \"2021-01-31T10:47:10.310198Z\", \"duration\": \"0:01:12\", \"iteration\": \"26\", \"goal\": \"accuracy_max\", \"run_name\": \"StandardScalerWrapper, ExtremeRandomTrees\", \"run_properties\": \"<azureml.automl.runtime.shared.model_wrappers.StandardScalerWrapper object at 0x7f965e3e7cf8\", \"primary_metric\": 0.84107527, \"best_metric\": 0.84784946}, {\"run_id\": \"AutoML_a960d399-7f51-4f20-bd64-8ade24df5f8b_27\", \"run_number\": 32, \"metric\": null, \"status\": \"Completed\", \"run_type\": \"azureml.scriptrun\", \"training_percent\": \"100\", \"start_time\": \"2021-01-31T10:47:28.465441Z\", \"end_time\": \"2021-01-31T10:48:30.389779Z\", \"created_time\": \"2021-01-31T10:47:17.192765Z\", \"created_time_dt\": \"2021-01-31T10:47:17.192765Z\", \"duration\": \"0:01:13\", \"iteration\": \"27\", \"goal\": \"accuracy_max\", \"run_name\": \"MaxAbsScaler, ExtremeRandomTrees\", \"run_properties\": \"copy=True\", \"primary_metric\": 0.84462366, \"best_metric\": 0.84784946}, {\"run_id\": \"AutoML_a960d399-7f51-4f20-bd64-8ade24df5f8b_28\", \"run_number\": 33, \"metric\": null, \"status\": \"Completed\", \"run_type\": \"azureml.scriptrun\", \"training_percent\": \"100\", \"start_time\": \"2021-01-31T10:48:10.330205Z\", \"end_time\": \"2021-01-31T10:49:02.54515Z\", \"created_time\": \"2021-01-31T10:47:56.927385Z\", \"created_time_dt\": \"2021-01-31T10:47:56.927385Z\", \"duration\": \"0:01:05\", \"iteration\": \"28\", \"goal\": \"accuracy_max\", \"run_name\": \"MaxAbsScaler, LightGBM\", \"run_properties\": \"copy=True\", \"primary_metric\": 0.83795699, \"best_metric\": 0.84784946}, {\"run_id\": \"AutoML_a960d399-7f51-4f20-bd64-8ade24df5f8b_29\", \"run_number\": 34, \"metric\": null, \"status\": \"Completed\", \"run_type\": \"azureml.scriptrun\", \"training_percent\": \"100\", \"start_time\": \"2021-01-31T10:48:20.707437Z\", \"end_time\": \"2021-01-31T10:49:13.0102Z\", \"created_time\": \"2021-01-31T10:48:09.555609Z\", \"created_time_dt\": \"2021-01-31T10:48:09.555609Z\", \"duration\": \"0:01:03\", \"iteration\": \"29\", \"goal\": \"accuracy_max\", \"run_name\": \"MaxAbsScaler, LightGBM\", \"run_properties\": \"copy=True\", \"primary_metric\": 0.82172043, \"best_metric\": 0.84784946}, {\"run_id\": \"AutoML_a960d399-7f51-4f20-bd64-8ade24df5f8b_30\", \"run_number\": 35, \"metric\": null, \"status\": \"Completed\", \"run_type\": \"azureml.scriptrun\", \"training_percent\": \"100\", \"start_time\": \"2021-01-31T10:48:36.761431Z\", \"end_time\": \"2021-01-31T10:49:29.121577Z\", \"created_time\": \"2021-01-31T10:48:25.230062Z\", \"created_time_dt\": \"2021-01-31T10:48:25.230062Z\", \"duration\": \"0:01:03\", \"iteration\": \"30\", \"goal\": \"accuracy_max\", \"run_name\": \"MaxAbsScaler, LightGBM\", \"run_properties\": \"copy=True\", \"primary_metric\": 0.82494624, \"best_metric\": 0.84784946}, {\"run_id\": \"AutoML_a960d399-7f51-4f20-bd64-8ade24df5f8b_31\", \"run_number\": 36, \"metric\": null, \"status\": \"Completed\", \"run_type\": \"azureml.scriptrun\", \"training_percent\": \"100\", \"start_time\": \"2021-01-31T10:48:44.371061Z\", \"end_time\": \"2021-01-31T10:49:43.335398Z\", \"created_time\": \"2021-01-31T10:48:32.212659Z\", \"created_time_dt\": \"2021-01-31T10:48:32.212659Z\", \"duration\": \"0:01:11\", \"iteration\": \"31\", \"goal\": \"accuracy_max\", \"run_name\": \"MaxAbsScaler, RandomForest\", \"run_properties\": \"copy=True\", \"primary_metric\": 0.7983871, \"best_metric\": 0.84784946}, {\"run_id\": \"AutoML_a960d399-7f51-4f20-bd64-8ade24df5f8b_32\", \"run_number\": 37, \"metric\": null, \"status\": \"Completed\", \"run_type\": \"azureml.scriptrun\", \"training_percent\": \"100\", \"start_time\": \"2021-01-31T10:49:18.724695Z\", \"end_time\": \"2021-01-31T10:50:16.929441Z\", \"created_time\": \"2021-01-31T10:49:04.567989Z\", \"created_time_dt\": \"2021-01-31T10:49:04.567989Z\", \"duration\": \"0:01:12\", \"iteration\": \"32\", \"goal\": \"accuracy_max\", \"run_name\": \"StandardScalerWrapper, LightGBM\", \"run_properties\": \"<azureml.automl.runtime.shared.model_wrappers.StandardScalerWrapper object at 0x7f00f04fdcf8\", \"primary_metric\": 0.82806452, \"best_metric\": 0.84784946}, {\"run_id\": \"AutoML_a960d399-7f51-4f20-bd64-8ade24df5f8b_33\", \"run_number\": 38, \"metric\": null, \"status\": \"Canceled\", \"run_type\": \"azureml.scriptrun\", \"training_percent\": \"100\", \"start_time\": \"2021-01-31T10:49:26.597623Z\", \"end_time\": \"2021-01-31T10:50:20.853505Z\", \"created_time\": \"2021-01-31T10:49:15.512034Z\", \"created_time_dt\": \"2021-01-31T10:49:15.512034Z\", \"duration\": \"0:01:05\", \"iteration\": \"33\", \"goal\": \"accuracy_max\", \"run_name\": \"MaxAbsScaler, LightGBM\", \"run_properties\": \"copy=True\", \"primary_metric\": 0.82139785, \"best_metric\": 0.84784946}, {\"run_id\": \"AutoML_a960d399-7f51-4f20-bd64-8ade24df5f8b_34\", \"run_number\": 39, \"metric\": null, \"status\": \"Canceled\", \"run_type\": \"azureml.scriptrun\", \"training_percent\": \"100\", \"start_time\": \"2021-01-31T10:49:44.481746Z\", \"end_time\": \"2021-01-31T10:50:24.92571Z\", \"created_time\": \"2021-01-31T10:49:32.12873Z\", \"created_time_dt\": \"2021-01-31T10:49:32.12873Z\", \"duration\": \"0:00:52\", \"iteration\": \"34\", \"goal\": \"accuracy_max\", \"run_name\": \"StandardScalerWrapper, ExtremeRandomTrees\", \"run_properties\": \"<azureml.automl.runtime.shared.model_wrappers.StandardScalerWrapper object at 0x7f56a85ef320\", \"primary_metric\": 0.81150538, \"best_metric\": 0.84784946}, {\"run_id\": \"AutoML_a960d399-7f51-4f20-bd64-8ade24df5f8b_35\", \"run_number\": 40, \"metric\": null, \"status\": \"Canceled\", \"run_type\": \"azureml.scriptrun\", \"training_percent\": \"100\", \"start_time\": \"2021-01-31T10:49:58.358977Z\", \"end_time\": \"2021-01-31T10:50:25.604314Z\", \"created_time\": \"2021-01-31T10:49:46.226226Z\", \"created_time_dt\": \"2021-01-31T10:49:46.226226Z\", \"duration\": \"0:00:39\", \"iteration\": \"35\", \"goal\": null, \"run_name\": \"MaxAbsScaler, LightGBM\", \"run_properties\": null}, {\"run_id\": \"AutoML_a960d399-7f51-4f20-bd64-8ade24df5f8b_36\", \"run_number\": 41, \"metric\": null, \"status\": \"Completed\", \"run_type\": \"azureml.scriptrun\", \"training_percent\": \"100\", \"start_time\": \"2021-01-31T10:50:39.130793Z\", \"end_time\": \"2021-01-31T10:52:39.29823Z\", \"created_time\": \"2021-01-31T10:50:26.763724Z\", \"created_time_dt\": \"2021-01-31T10:50:26.763724Z\", \"duration\": \"0:02:12\", \"iteration\": \"36\", \"goal\": \"accuracy_max\", \"run_name\": \"VotingEnsemble\", \"run_properties\": \"classification_labels=None,\\n                              estimators=[('11',\\n                                           Pipeline(memory=None,\\n                                                    steps=[('sparsenormalizer',\\n                                                            <azureml.automl.runtime.shared.model_wrappers.SparseNormalizer object at 0x7f06d80386a0>\", \"primary_metric\": 0.8611828, \"best_metric\": 0.8611828}], \"children_metrics\": {\"categories\": [0], \"series\": {\"recall_score_micro\": [{\"categories\": [\"0\", \"1\", \"2\", \"3\", \"4\", \"5\", \"6\", \"7\", \"8\", \"9\", \"10\", \"11\", \"12\", \"13\", \"14\", \"15\", \"16\", \"17\", \"18\", \"19\", \"20\", \"21\", \"22\", \"23\", \"24\", \"25\", \"26\", \"27\", \"28\", \"29\", \"30\", \"31\", \"32\", \"33\", \"34\", \"36\"], \"mode\": \"markers\", \"name\": \"recall_score_micro\", \"stepped\": false, \"type\": \"scatter\", \"data\": [0.811505376344086, 0.8179569892473119, 0.811505376344086, 0.8211827956989246, 0.8181720430107526, 0.8149462365591397, 0.82494623655914, 0.824731182795699, 0.8380645161290324, 0.841182795698925, 0.8150537634408602, 0.8478494623655916, 0.8344086021505376, 0.8413978494623656, 0.8346236559139785, 0.8347311827956988, 0.8280645161290321, 0.8376344086021505, 0.8378494623655917, 0.7949462365591398, 0.8111827956989247, 0.8080645161290322, 0.8246236559139785, 0.8313978494623656, 0.8049462365591399, 0.5446236559139785, 0.8410752688172044, 0.8446236559139786, 0.8379569892473118, 0.821720430107527, 0.8249462365591397, 0.7983870967741935, 0.8280645161290323, 0.8213978494623655, 0.811505376344086, 0.8611827956989249]}, {\"categories\": [\"0\", \"1\", \"2\", \"3\", \"4\", \"5\", \"6\", \"7\", \"8\", \"9\", \"10\", \"11\", \"12\", \"13\", \"14\", \"15\", \"16\", \"17\", \"18\", \"19\", \"20\", \"21\", \"22\", \"23\", \"24\", \"25\", \"26\", \"27\", \"28\", \"29\", \"30\", \"31\", \"32\", \"33\", \"34\", \"36\"], \"mode\": \"lines\", \"name\": \"recall_score_micro_max\", \"stepped\": true, \"type\": \"scatter\", \"data\": [0.811505376344086, 0.8179569892473119, 0.8179569892473119, 0.8211827956989246, 0.8211827956989246, 0.8211827956989246, 0.82494623655914, 0.82494623655914, 0.8380645161290324, 0.841182795698925, 0.841182795698925, 0.8478494623655916, 0.8478494623655916, 0.8478494623655916, 0.8478494623655916, 0.8478494623655916, 0.8478494623655916, 0.8478494623655916, 0.8478494623655916, 0.8478494623655916, 0.8478494623655916, 0.8478494623655916, 0.8478494623655916, 0.8478494623655916, 0.8478494623655916, 0.8478494623655916, 0.8478494623655916, 0.8478494623655916, 0.8478494623655916, 0.8478494623655916, 0.8478494623655916, 0.8478494623655916, 0.8478494623655916, 0.8478494623655916, 0.8478494623655916, 0.8611827956989249]}], \"balanced_accuracy\": [{\"categories\": [\"0\", \"1\", \"2\", \"3\", \"4\", \"5\", \"6\", \"7\", \"8\", \"9\", \"10\", \"11\", \"12\", \"13\", \"14\", \"15\", \"16\", \"17\", \"18\", \"19\", \"20\", \"21\", \"22\", \"23\", \"24\", \"25\", \"26\", \"27\", \"28\", \"29\", \"30\", \"31\", \"32\", \"33\", \"34\", \"36\"], \"mode\": \"markers\", \"name\": \"balanced_accuracy\", \"stepped\": false, \"type\": \"scatter\", \"data\": [0.8071990726421842, 0.8115750673045564, 0.8069064056428606, 0.8137859783835015, 0.8127295348270579, 0.8114240122192907, 0.820165895336174, 0.8162648402509085, 0.8337472159763181, 0.8355937028228049, 0.8137091402319729, 0.8415533630026666, 0.8295814307811213, 0.8344668201595447, 0.8314206098339225, 0.8312937973619089, 0.8236014896696012, 0.8358559274832494, 0.8347004345843356, 0.7888695609516044, 0.8036448061312612, 0.8017709131254023, 0.8186517120650247, 0.8276816894405903, 0.8027031396536038, 0.5, 0.8359300097477341, 0.8406531806686605, 0.8337612961084322, 0.8154407623680069, 0.821738324240259, 0.7926930087456403, 0.8230309695034925, 0.8126934116794796, 0.8110694444014876, 0.8567999424036575]}, {\"categories\": [\"0\", \"1\", \"2\", \"3\", \"4\", \"5\", \"6\", \"7\", \"8\", \"9\", \"10\", \"11\", \"12\", \"13\", \"14\", \"15\", \"16\", \"17\", \"18\", \"19\", \"20\", \"21\", \"22\", \"23\", \"24\", \"25\", \"26\", \"27\", \"28\", \"29\", \"30\", \"31\", \"32\", \"33\", \"34\", \"36\"], \"mode\": \"lines\", \"name\": \"balanced_accuracy_max\", \"stepped\": true, \"type\": \"scatter\", \"data\": [0.8071990726421842, 0.8115750673045564, 0.8115750673045564, 0.8137859783835015, 0.8137859783835015, 0.8137859783835015, 0.820165895336174, 0.820165895336174, 0.8337472159763181, 0.8355937028228049, 0.8355937028228049, 0.8415533630026666, 0.8415533630026666, 0.8415533630026666, 0.8415533630026666, 0.8415533630026666, 0.8415533630026666, 0.8415533630026666, 0.8415533630026666, 0.8415533630026666, 0.8415533630026666, 0.8415533630026666, 0.8415533630026666, 0.8415533630026666, 0.8415533630026666, 0.8415533630026666, 0.8415533630026666, 0.8415533630026666, 0.8415533630026666, 0.8415533630026666, 0.8415533630026666, 0.8415533630026666, 0.8415533630026666, 0.8415533630026666, 0.8415533630026666, 0.8567999424036575]}], \"precision_score_weighted\": [{\"categories\": [\"0\", \"1\", \"2\", \"3\", \"4\", \"5\", \"6\", \"7\", \"8\", \"9\", \"10\", \"11\", \"12\", \"13\", \"14\", \"15\", \"16\", \"17\", \"18\", \"19\", \"20\", \"21\", \"22\", \"23\", \"24\", \"25\", \"26\", \"27\", \"28\", \"29\", \"30\", \"31\", \"32\", \"33\", \"34\", \"36\"], \"mode\": \"markers\", \"name\": \"precision_score_weighted\", \"stepped\": false, \"type\": \"scatter\", \"data\": [0.8262799266252276, 0.8259051766115084, 0.8199672682745938, 0.8311470443582074, 0.824237636518987, 0.822200933995588, 0.8296684143742967, 0.831932302555374, 0.8436133873242507, 0.846526472683968, 0.8252494820969429, 0.8506826775375161, 0.8377214092098744, 0.8474924573313732, 0.8397800825843745, 0.8451596691956912, 0.8369156215766436, 0.8467521528650561, 0.8441835220440532, 0.801375557716527, 0.8164162798903701, 0.8107163086491834, 0.8310563303886358, 0.8399681342211427, 0.8153103849555462, 0.301213203838594, 0.8458970013751796, 0.8518465651939635, 0.8422635358527198, 0.8318179418327791, 0.8299343464801119, 0.8052428309997713, 0.835201120110719, 0.8309487833725141, 0.820250011426482, 0.8653762098029174]}, {\"categories\": [\"0\", \"1\", \"2\", \"3\", \"4\", \"5\", \"6\", \"7\", \"8\", \"9\", \"10\", \"11\", \"12\", \"13\", \"14\", \"15\", \"16\", \"17\", \"18\", \"19\", \"20\", \"21\", \"22\", \"23\", \"24\", \"25\", \"26\", \"27\", \"28\", \"29\", \"30\", \"31\", \"32\", \"33\", \"34\", \"36\"], \"mode\": \"lines\", \"name\": \"precision_score_weighted_max\", \"stepped\": true, \"type\": \"scatter\", \"data\": [0.8262799266252276, 0.8262799266252276, 0.8262799266252276, 0.8311470443582074, 0.8311470443582074, 0.8311470443582074, 0.8311470443582074, 0.831932302555374, 0.8436133873242507, 0.846526472683968, 0.846526472683968, 0.8506826775375161, 0.8506826775375161, 0.8506826775375161, 0.8506826775375161, 0.8506826775375161, 0.8506826775375161, 0.8506826775375161, 0.8506826775375161, 0.8506826775375161, 0.8506826775375161, 0.8506826775375161, 0.8506826775375161, 0.8506826775375161, 0.8506826775375161, 0.8506826775375161, 0.8506826775375161, 0.8518465651939635, 0.8518465651939635, 0.8518465651939635, 0.8518465651939635, 0.8518465651939635, 0.8518465651939635, 0.8518465651939635, 0.8518465651939635, 0.8653762098029174]}], \"AUC_macro\": [{\"categories\": [\"0\", \"1\", \"2\", \"3\", \"4\", \"5\", \"6\", \"7\", \"8\", \"9\", \"10\", \"11\", \"12\", \"13\", \"14\", \"15\", \"16\", \"17\", \"18\", \"19\", \"20\", \"21\", \"22\", \"23\", \"24\", \"25\", \"26\", \"27\", \"28\", \"29\", \"30\", \"31\", \"32\", \"33\", \"34\", \"36\"], \"mode\": \"markers\", \"name\": \"AUC_macro\", \"stepped\": false, \"type\": \"scatter\", \"data\": [0.8828390759710418, 0.889146318736876, 0.8971987471019979, 0.8873461454266408, 0.910149642855138, 0.9041147407660566, 0.8926452342663642, 0.9106071066732833, 0.9162804350935158, 0.9209917111612157, 0.8838963371366623, 0.9164491391391545, 0.8897368510545757, 0.9227157329111664, 0.9025943348876785, 0.9055959318459319, 0.9036335844095132, 0.9152027757674043, 0.9134960481984477, 0.883240909703758, 0.8907456608865276, 0.8835939898451507, 0.9171699214528163, 0.9124280713123593, 0.8980916498791887, 0.882934757780346, 0.9188829651743738, 0.9117957064005825, 0.9021883175590606, 0.905463259951263, 0.9045884272532879, 0.8886184887237519, 0.9121332686348168, 0.9016025879864887, 0.8942851368188055, 0.9142475473156587]}, {\"categories\": [\"0\", \"1\", \"2\", \"3\", \"4\", \"5\", \"6\", \"7\", \"8\", \"9\", \"10\", \"11\", \"12\", \"13\", \"14\", \"15\", \"16\", \"17\", \"18\", \"19\", \"20\", \"21\", \"22\", \"23\", \"24\", \"25\", \"26\", \"27\", \"28\", \"29\", \"30\", \"31\", \"32\", \"33\", \"34\", \"36\"], \"mode\": \"lines\", \"name\": \"AUC_macro_max\", \"stepped\": true, \"type\": \"scatter\", \"data\": [0.8828390759710418, 0.889146318736876, 0.8971987471019979, 0.8971987471019979, 0.910149642855138, 0.910149642855138, 0.910149642855138, 0.9106071066732833, 0.9162804350935158, 0.9209917111612157, 0.9209917111612157, 0.9209917111612157, 0.9209917111612157, 0.9227157329111664, 0.9227157329111664, 0.9227157329111664, 0.9227157329111664, 0.9227157329111664, 0.9227157329111664, 0.9227157329111664, 0.9227157329111664, 0.9227157329111664, 0.9227157329111664, 0.9227157329111664, 0.9227157329111664, 0.9227157329111664, 0.9227157329111664, 0.9227157329111664, 0.9227157329111664, 0.9227157329111664, 0.9227157329111664, 0.9227157329111664, 0.9227157329111664, 0.9227157329111664, 0.9227157329111664, 0.9227157329111664]}], \"AUC_weighted\": [{\"categories\": [\"0\", \"1\", \"2\", \"3\", \"4\", \"5\", \"6\", \"7\", \"8\", \"9\", \"10\", \"11\", \"12\", \"13\", \"14\", \"15\", \"16\", \"17\", \"18\", \"19\", \"20\", \"21\", \"22\", \"23\", \"24\", \"25\", \"26\", \"27\", \"28\", \"29\", \"30\", \"31\", \"32\", \"33\", \"34\", \"36\"], \"mode\": \"markers\", \"name\": \"AUC_weighted\", \"stepped\": false, \"type\": \"scatter\", \"data\": [0.8828390759710418, 0.889146318736876, 0.8971987471019979, 0.8873461454266408, 0.9101496428551382, 0.9041147407660567, 0.8926452342663642, 0.9106071066732833, 0.9162804350935158, 0.9209917111612158, 0.8838963371366623, 0.9164491391391545, 0.8897368510545757, 0.9227157329111664, 0.9025943348876785, 0.9055959318459319, 0.9036335844095132, 0.9152027757674043, 0.9134960481984477, 0.8832409097037578, 0.8907456608865278, 0.8835939898451508, 0.9171699214528163, 0.9124280713123593, 0.8980916498791887, 0.882934757780346, 0.9188829651743738, 0.9117957064005825, 0.9021883175590606, 0.9054632599512631, 0.9045884272532879, 0.8886184887237519, 0.9121332686348168, 0.901602587986489, 0.8942851368188057, 0.9142475473156587]}, {\"categories\": [\"0\", \"1\", \"2\", \"3\", \"4\", \"5\", \"6\", \"7\", \"8\", \"9\", \"10\", \"11\", \"12\", \"13\", \"14\", \"15\", \"16\", \"17\", \"18\", \"19\", \"20\", \"21\", \"22\", \"23\", \"24\", \"25\", \"26\", \"27\", \"28\", \"29\", \"30\", \"31\", \"32\", \"33\", \"34\", \"36\"], \"mode\": \"lines\", \"name\": \"AUC_weighted_max\", \"stepped\": true, \"type\": \"scatter\", \"data\": [0.8828390759710418, 0.889146318736876, 0.8971987471019979, 0.8971987471019979, 0.9101496428551382, 0.9101496428551382, 0.9101496428551382, 0.9106071066732833, 0.9162804350935158, 0.9209917111612158, 0.9209917111612158, 0.9209917111612158, 0.9209917111612158, 0.9227157329111664, 0.9227157329111664, 0.9227157329111664, 0.9227157329111664, 0.9227157329111664, 0.9227157329111664, 0.9227157329111664, 0.9227157329111664, 0.9227157329111664, 0.9227157329111664, 0.9227157329111664, 0.9227157329111664, 0.9227157329111664, 0.9227157329111664, 0.9227157329111664, 0.9227157329111664, 0.9227157329111664, 0.9227157329111664, 0.9227157329111664, 0.9227157329111664, 0.9227157329111664, 0.9227157329111664, 0.9227157329111664]}], \"weighted_accuracy\": [{\"categories\": [\"0\", \"1\", \"2\", \"3\", \"4\", \"5\", \"6\", \"7\", \"8\", \"9\", \"10\", \"11\", \"12\", \"13\", \"14\", \"15\", \"16\", \"17\", \"18\", \"19\", \"20\", \"21\", \"22\", \"23\", \"24\", \"25\", \"26\", \"27\", \"28\", \"29\", \"30\", \"31\", \"32\", \"33\", \"34\", \"36\"], \"mode\": \"markers\", \"name\": \"weighted_accuracy\", \"stepped\": false, \"type\": \"scatter\", \"data\": [0.815316867788248, 0.8236140706065846, 0.8153500416457771, 0.8279164473728657, 0.8230554330126294, 0.8177896443658609, 0.8291055102600584, 0.8321076199560483, 0.8419424363832366, 0.8461113228546268, 0.815917853504672, 0.8534845588750049, 0.8386377083490876, 0.8475458374921307, 0.8374969650076294, 0.837751600524251, 0.8320747446290545, 0.8391042205588679, 0.840575783220932, 0.8001801579814092, 0.817856565602046, 0.8136703686750584, 0.8298685569300531, 0.8345379355745814, 0.8067137466917492, 0.5842748958320289, 0.8456357793976921, 0.8479046529376651, 0.8417910296479914, 0.8270993931831414, 0.8278647391979537, 0.803294243337648, 0.8325455971386144, 0.8290020803623126, 0.8116115927294351, 0.8649975023390579]}, {\"categories\": [\"0\", \"1\", \"2\", \"3\", \"4\", \"5\", \"6\", \"7\", \"8\", \"9\", \"10\", \"11\", \"12\", \"13\", \"14\", \"15\", \"16\", \"17\", \"18\", \"19\", \"20\", \"21\", \"22\", \"23\", \"24\", \"25\", \"26\", \"27\", \"28\", \"29\", \"30\", \"31\", \"32\", \"33\", \"34\", \"36\"], \"mode\": \"lines\", \"name\": \"weighted_accuracy_max\", \"stepped\": true, \"type\": \"scatter\", \"data\": [0.815316867788248, 0.8236140706065846, 0.8236140706065846, 0.8279164473728657, 0.8279164473728657, 0.8279164473728657, 0.8291055102600584, 0.8321076199560483, 0.8419424363832366, 0.8461113228546268, 0.8461113228546268, 0.8534845588750049, 0.8534845588750049, 0.8534845588750049, 0.8534845588750049, 0.8534845588750049, 0.8534845588750049, 0.8534845588750049, 0.8534845588750049, 0.8534845588750049, 0.8534845588750049, 0.8534845588750049, 0.8534845588750049, 0.8534845588750049, 0.8534845588750049, 0.8534845588750049, 0.8534845588750049, 0.8534845588750049, 0.8534845588750049, 0.8534845588750049, 0.8534845588750049, 0.8534845588750049, 0.8534845588750049, 0.8534845588750049, 0.8534845588750049, 0.8649975023390579]}], \"average_precision_score_micro\": [{\"categories\": [\"0\", \"1\", \"2\", \"3\", \"4\", \"5\", \"6\", \"7\", \"8\", \"9\", \"10\", \"11\", \"12\", \"13\", \"14\", \"15\", \"16\", \"17\", \"18\", \"19\", \"20\", \"21\", \"22\", \"23\", \"24\", \"25\", \"26\", \"27\", \"28\", \"29\", \"30\", \"31\", \"32\", \"33\", \"34\", \"36\"], \"mode\": \"markers\", \"name\": \"average_precision_score_micro\", \"stepped\": false, \"type\": \"scatter\", \"data\": [0.8785300785590453, 0.895605229754536, 0.9020284891762189, 0.8926167532957946, 0.9103235084563263, 0.8952098103080482, 0.8986853991576556, 0.9127826390517247, 0.9138554909899623, 0.9163560848883272, 0.8807646888034432, 0.9126936229673458, 0.8902466341616636, 0.9227157177766898, 0.8989511482458225, 0.9036732680339785, 0.9011479023704076, 0.9120491401070107, 0.9090528315413465, 0.8804700506371436, 0.888966792837059, 0.882299995099469, 0.9156899826145828, 0.9105786572806911, 0.8963988780102564, 0.7618672722636778, 0.9144065255051773, 0.907258062885073, 0.9039381233602798, 0.9029062493483687, 0.9021691453587118, 0.892088777144379, 0.9077377872164922, 0.9012396933919853, 0.8859047908353872, 0.9141297531179667]}, {\"categories\": [\"0\", \"1\", \"2\", \"3\", \"4\", \"5\", \"6\", \"7\", \"8\", \"9\", \"10\", \"11\", \"12\", \"13\", \"14\", \"15\", \"16\", \"17\", \"18\", \"19\", \"20\", \"21\", \"22\", \"23\", \"24\", \"25\", \"26\", \"27\", \"28\", \"29\", \"30\", \"31\", \"32\", \"33\", \"34\", \"36\"], \"mode\": \"lines\", \"name\": \"average_precision_score_micro_max\", \"stepped\": true, \"type\": \"scatter\", \"data\": [0.8785300785590453, 0.895605229754536, 0.9020284891762189, 0.9020284891762189, 0.9103235084563263, 0.9103235084563263, 0.9103235084563263, 0.9127826390517247, 0.9138554909899623, 0.9163560848883272, 0.9163560848883272, 0.9163560848883272, 0.9163560848883272, 0.9227157177766898, 0.9227157177766898, 0.9227157177766898, 0.9227157177766898, 0.9227157177766898, 0.9227157177766898, 0.9227157177766898, 0.9227157177766898, 0.9227157177766898, 0.9227157177766898, 0.9227157177766898, 0.9227157177766898, 0.9227157177766898, 0.9227157177766898, 0.9227157177766898, 0.9227157177766898, 0.9227157177766898, 0.9227157177766898, 0.9227157177766898, 0.9227157177766898, 0.9227157177766898, 0.9227157177766898, 0.9227157177766898]}], \"matthews_correlation\": [{\"categories\": [\"0\", \"1\", \"2\", \"3\", \"4\", \"5\", \"6\", \"7\", \"8\", \"9\", \"10\", \"11\", \"12\", \"13\", \"14\", \"15\", \"16\", \"17\", \"18\", \"19\", \"20\", \"21\", \"22\", \"23\", \"24\", \"25\", \"26\", \"27\", \"28\", \"29\", \"30\", \"31\", \"32\", \"33\", \"34\", \"36\"], \"mode\": \"markers\", \"name\": \"matthews_correlation\", \"stepped\": false, \"type\": \"scatter\", \"data\": [0.6281999109043686, 0.6331746195926933, 0.6206254857766769, 0.6419295421696973, 0.6315972916964357, 0.6278471285370303, 0.6447015214265523, 0.6449597632879939, 0.6729695988551334, 0.6796970083604138, 0.633418719450171, 0.6897273979689612, 0.6635489783103536, 0.6778030708210835, 0.6665880866403768, 0.6712570647179581, 0.6559758185804049, 0.676937093888862, 0.6736307938328344, 0.5855273233560142, 0.615853043734796, 0.6076047644832842, 0.64465059659412, 0.6622281990043609, 0.6106302376551946, 0.0, 0.678008134336219, 0.6880778068340486, 0.6721024683696087, 0.6427137000581832, 0.645974610800683, 0.592622399710676, 0.6518318804865545, 0.640305959724168, 0.6245731725605869, 0.7190319272713865]}, {\"categories\": [\"0\", \"1\", \"2\", \"3\", \"4\", \"5\", \"6\", \"7\", \"8\", \"9\", \"10\", \"11\", \"12\", \"13\", \"14\", \"15\", \"16\", \"17\", \"18\", \"19\", \"20\", \"21\", \"22\", \"23\", \"24\", \"25\", \"26\", \"27\", \"28\", \"29\", \"30\", \"31\", \"32\", \"33\", \"34\", \"36\"], \"mode\": \"lines\", \"name\": \"matthews_correlation_max\", \"stepped\": true, \"type\": \"scatter\", \"data\": [0.6281999109043686, 0.6331746195926933, 0.6331746195926933, 0.6419295421696973, 0.6419295421696973, 0.6419295421696973, 0.6447015214265523, 0.6449597632879939, 0.6729695988551334, 0.6796970083604138, 0.6796970083604138, 0.6897273979689612, 0.6897273979689612, 0.6897273979689612, 0.6897273979689612, 0.6897273979689612, 0.6897273979689612, 0.6897273979689612, 0.6897273979689612, 0.6897273979689612, 0.6897273979689612, 0.6897273979689612, 0.6897273979689612, 0.6897273979689612, 0.6897273979689612, 0.6897273979689612, 0.6897273979689612, 0.6897273979689612, 0.6897273979689612, 0.6897273979689612, 0.6897273979689612, 0.6897273979689612, 0.6897273979689612, 0.6897273979689612, 0.6897273979689612, 0.7190319272713865]}], \"AUC_micro\": [{\"categories\": [\"0\", \"1\", \"2\", \"3\", \"4\", \"5\", \"6\", \"7\", \"8\", \"9\", \"10\", \"11\", \"12\", \"13\", \"14\", \"15\", \"16\", \"17\", \"18\", \"19\", \"20\", \"21\", \"22\", \"23\", \"24\", \"25\", \"26\", \"27\", \"28\", \"29\", \"30\", \"31\", \"32\", \"33\", \"34\", \"36\"], \"mode\": \"markers\", \"name\": \"AUC_micro\", \"stepped\": false, \"type\": \"scatter\", \"data\": [0.8751829113192275, 0.8874298762862759, 0.8990242802636143, 0.8888744363510233, 0.9069361775927852, 0.9021884610937679, 0.8966433113654757, 0.9101953983119436, 0.9131372412995724, 0.9148991790958494, 0.8858125794889583, 0.9122924037460978, 0.8888567464446758, 0.9194423632789919, 0.8982853509076195, 0.9023735691987513, 0.8991953983119435, 0.9111901953983119, 0.909800439357151, 0.8784334605156665, 0.8898373222337843, 0.8829484333448953, 0.912865649208001, 0.9085975257255174, 0.895826685165915, 0.7312296219216095, 0.9145711642964505, 0.9066857440166494, 0.9024140363047751, 0.8983469765290785, 0.9008831078737426, 0.8886221528500403, 0.9063206151000115, 0.8995322002543645, 0.8868268007862181, 0.9123594635217944]}, {\"categories\": [\"0\", \"1\", \"2\", \"3\", \"4\", \"5\", \"6\", \"7\", \"8\", \"9\", \"10\", \"11\", \"12\", \"13\", \"14\", \"15\", \"16\", \"17\", \"18\", \"19\", \"20\", \"21\", \"22\", \"23\", \"24\", \"25\", \"26\", \"27\", \"28\", \"29\", \"30\", \"31\", \"32\", \"33\", \"34\", \"36\"], \"mode\": \"lines\", \"name\": \"AUC_micro_max\", \"stepped\": true, \"type\": \"scatter\", \"data\": [0.8751829113192275, 0.8874298762862759, 0.8990242802636143, 0.8990242802636143, 0.9069361775927852, 0.9069361775927852, 0.9069361775927852, 0.9101953983119436, 0.9131372412995724, 0.9148991790958494, 0.9148991790958494, 0.9148991790958494, 0.9148991790958494, 0.9194423632789919, 0.9194423632789919, 0.9194423632789919, 0.9194423632789919, 0.9194423632789919, 0.9194423632789919, 0.9194423632789919, 0.9194423632789919, 0.9194423632789919, 0.9194423632789919, 0.9194423632789919, 0.9194423632789919, 0.9194423632789919, 0.9194423632789919, 0.9194423632789919, 0.9194423632789919, 0.9194423632789919, 0.9194423632789919, 0.9194423632789919, 0.9194423632789919, 0.9194423632789919, 0.9194423632789919, 0.9194423632789919]}], \"accuracy\": [{\"categories\": [\"0\", \"1\", \"2\", \"3\", \"4\", \"5\", \"6\", \"7\", \"8\", \"9\", \"10\", \"11\", \"12\", \"13\", \"14\", \"15\", \"16\", \"17\", \"18\", \"19\", \"20\", \"21\", \"22\", \"23\", \"24\", \"25\", \"26\", \"27\", \"28\", \"29\", \"30\", \"31\", \"32\", \"33\", \"34\", \"36\"], \"mode\": \"markers\", \"name\": \"accuracy\", \"stepped\": false, \"type\": \"scatter\", \"data\": [0.811505376344086, 0.8179569892473119, 0.811505376344086, 0.8211827956989246, 0.8181720430107526, 0.8149462365591397, 0.82494623655914, 0.824731182795699, 0.8380645161290324, 0.841182795698925, 0.8150537634408602, 0.8478494623655916, 0.8344086021505376, 0.8413978494623656, 0.8346236559139785, 0.8347311827956988, 0.8280645161290321, 0.8376344086021505, 0.8378494623655917, 0.7949462365591398, 0.8111827956989247, 0.8080645161290322, 0.8246236559139785, 0.8313978494623656, 0.8049462365591399, 0.5446236559139785, 0.8410752688172044, 0.8446236559139786, 0.8379569892473118, 0.821720430107527, 0.8249462365591397, 0.7983870967741935, 0.8280645161290323, 0.8213978494623655, 0.811505376344086, 0.8611827956989249]}, {\"categories\": [\"0\", \"1\", \"2\", \"3\", \"4\", \"5\", \"6\", \"7\", \"8\", \"9\", \"10\", \"11\", \"12\", \"13\", \"14\", \"15\", \"16\", \"17\", \"18\", \"19\", \"20\", \"21\", \"22\", \"23\", \"24\", \"25\", \"26\", \"27\", \"28\", \"29\", \"30\", \"31\", \"32\", \"33\", \"34\", \"36\"], \"mode\": \"lines\", \"name\": \"accuracy_max\", \"stepped\": true, \"type\": \"scatter\", \"data\": [0.811505376344086, 0.8179569892473119, 0.8179569892473119, 0.8211827956989246, 0.8211827956989246, 0.8211827956989246, 0.82494623655914, 0.82494623655914, 0.8380645161290324, 0.841182795698925, 0.841182795698925, 0.8478494623655916, 0.8478494623655916, 0.8478494623655916, 0.8478494623655916, 0.8478494623655916, 0.8478494623655916, 0.8478494623655916, 0.8478494623655916, 0.8478494623655916, 0.8478494623655916, 0.8478494623655916, 0.8478494623655916, 0.8478494623655916, 0.8478494623655916, 0.8478494623655916, 0.8478494623655916, 0.8478494623655916, 0.8478494623655916, 0.8478494623655916, 0.8478494623655916, 0.8478494623655916, 0.8478494623655916, 0.8478494623655916, 0.8478494623655916, 0.8611827956989249]}], \"average_precision_score_weighted\": [{\"categories\": [\"0\", \"1\", \"2\", \"3\", \"4\", \"5\", \"6\", \"7\", \"8\", \"9\", \"10\", \"11\", \"12\", \"13\", \"14\", \"15\", \"16\", \"17\", \"18\", \"19\", \"20\", \"21\", \"22\", \"23\", \"24\", \"25\", \"26\", \"27\", \"28\", \"29\", \"30\", \"31\", \"32\", \"33\", \"34\", \"36\"], \"mode\": \"markers\", \"name\": \"average_precision_score_weighted\", \"stepped\": false, \"type\": \"scatter\", \"data\": [0.8919494524740141, 0.9010638342497428, 0.9074542720024652, 0.8997087959226974, 0.9177047615251978, 0.9031761159238687, 0.9021693034862018, 0.918641902908323, 0.9214607997606118, 0.9269490920486178, 0.8816203617860608, 0.9209799374099056, 0.8979424572688831, 0.9307002051587819, 0.9078626236024838, 0.9111233191583319, 0.9096001354736067, 0.9198555479871316, 0.9187893139351824, 0.888784962573709, 0.8976104637319366, 0.8907890746242423, 0.9237537081592608, 0.9188648230292096, 0.9027851348834807, 0.8919563227488838, 0.9235070043232294, 0.9172607090894935, 0.9081733201424879, 0.9133118557919062, 0.9104075265365111, 0.8972346218080511, 0.9175689000037224, 0.9094019799562962, 0.9004630223768031, 0.921319634576155]}, {\"categories\": [\"0\", \"1\", \"2\", \"3\", \"4\", \"5\", \"6\", \"7\", \"8\", \"9\", \"10\", \"11\", \"12\", \"13\", \"14\", \"15\", \"16\", \"17\", \"18\", \"19\", \"20\", \"21\", \"22\", \"23\", \"24\", \"25\", \"26\", \"27\", \"28\", \"29\", \"30\", \"31\", \"32\", \"33\", \"34\", \"36\"], \"mode\": \"lines\", \"name\": \"average_precision_score_weighted_max\", \"stepped\": true, \"type\": \"scatter\", \"data\": [0.8919494524740141, 0.9010638342497428, 0.9074542720024652, 0.9074542720024652, 0.9177047615251978, 0.9177047615251978, 0.9177047615251978, 0.918641902908323, 0.9214607997606118, 0.9269490920486178, 0.9269490920486178, 0.9269490920486178, 0.9269490920486178, 0.9307002051587819, 0.9307002051587819, 0.9307002051587819, 0.9307002051587819, 0.9307002051587819, 0.9307002051587819, 0.9307002051587819, 0.9307002051587819, 0.9307002051587819, 0.9307002051587819, 0.9307002051587819, 0.9307002051587819, 0.9307002051587819, 0.9307002051587819, 0.9307002051587819, 0.9307002051587819, 0.9307002051587819, 0.9307002051587819, 0.9307002051587819, 0.9307002051587819, 0.9307002051587819, 0.9307002051587819, 0.9307002051587819]}], \"log_loss\": [{\"categories\": [\"0\", \"1\", \"2\", \"3\", \"4\", \"5\", \"6\", \"7\", \"8\", \"9\", \"10\", \"11\", \"12\", \"13\", \"14\", \"15\", \"16\", \"17\", \"18\", \"19\", \"20\", \"21\", \"22\", \"23\", \"24\", \"25\", \"26\", \"27\", \"28\", \"29\", \"30\", \"31\", \"32\", \"33\", \"34\", \"36\"], \"mode\": \"markers\", \"name\": \"log_loss\", \"stepped\": false, \"type\": \"scatter\", \"data\": [0.5268000663868162, 0.4398173368615275, 0.4134347526348998, 0.4278493104915495, 0.39521603468257654, 0.45207052044141555, 0.40531750932743915, 0.4342989552980711, 0.38429484067290004, 0.45850180333113955, 0.5019803165313736, 0.3729928874129473, 0.4123723164345251, 0.4298628744498106, 0.42848476645723704, 0.41025450403178815, 0.42193251029424383, 0.3783363345648449, 0.40046557615692235, 0.5029404966281341, 0.421138803465342, 0.5033608282258466, 0.3861750140798642, 0.41088526936415803, 0.4391837218712687, 0.6702128434506451, 0.4485767988335739, 0.39512131755683877, 0.4082213864707481, 0.47938655049070106, 0.4081203754027042, 0.4325006638246891, 0.386623475561347, 0.4668847509302988, 0.46479425699085797, 0.4000280564879726]}, {\"categories\": [\"0\", \"1\", \"2\", \"3\", \"4\", \"5\", \"6\", \"7\", \"8\", \"9\", \"10\", \"11\", \"12\", \"13\", \"14\", \"15\", \"16\", \"17\", \"18\", \"19\", \"20\", \"21\", \"22\", \"23\", \"24\", \"25\", \"26\", \"27\", \"28\", \"29\", \"30\", \"31\", \"32\", \"33\", \"34\", \"36\"], \"mode\": \"lines\", \"name\": \"log_loss_min\", \"stepped\": true, \"type\": \"scatter\", \"data\": [0.5268000663868162, 0.4398173368615275, 0.4134347526348998, 0.4134347526348998, 0.39521603468257654, 0.39521603468257654, 0.39521603468257654, 0.39521603468257654, 0.38429484067290004, 0.38429484067290004, 0.38429484067290004, 0.3729928874129473, 0.3729928874129473, 0.3729928874129473, 0.3729928874129473, 0.3729928874129473, 0.3729928874129473, 0.3729928874129473, 0.3729928874129473, 0.3729928874129473, 0.3729928874129473, 0.3729928874129473, 0.3729928874129473, 0.3729928874129473, 0.3729928874129473, 0.3729928874129473, 0.3729928874129473, 0.3729928874129473, 0.3729928874129473, 0.3729928874129473, 0.3729928874129473, 0.3729928874129473, 0.3729928874129473, 0.3729928874129473, 0.3729928874129473, 0.3729928874129473]}], \"f1_score_macro\": [{\"categories\": [\"0\", \"1\", \"2\", \"3\", \"4\", \"5\", \"6\", \"7\", \"8\", \"9\", \"10\", \"11\", \"12\", \"13\", \"14\", \"15\", \"16\", \"17\", \"18\", \"19\", \"20\", \"21\", \"22\", \"23\", \"24\", \"25\", \"26\", \"27\", \"28\", \"29\", \"30\", \"31\", \"32\", \"33\", \"34\", \"36\"], \"mode\": \"markers\", \"name\": \"f1_score_macro\", \"stepped\": false, \"type\": \"scatter\", \"data\": [0.8051086915482137, 0.8105255180161939, 0.8039354581412945, 0.8130989727427436, 0.8112598948149217, 0.8095624713763646, 0.8190612238155885, 0.8158448573993893, 0.8320735762202928, 0.8361427778096739, 0.811024262899358, 0.8423555021056067, 0.8297091118189763, 0.8332485226635941, 0.8304881090381985, 0.8280498547401585, 0.8212259613756643, 0.8333710985962284, 0.8329033496134535, 0.7884893289923409, 0.8027895053410468, 0.8019341125364449, 0.8169755453692998, 0.8258661766347124, 0.7990860567978328, 0.35133378648162716, 0.8353727454462749, 0.8395284167844119, 0.8334533921998469, 0.8132737202769013, 0.8203012275031124, 0.7910367223822654, 0.82014418488929, 0.8120115544794786, 0.8076624612897432, 0.856747918426497]}, {\"categories\": [\"0\", \"1\", \"2\", \"3\", \"4\", \"5\", \"6\", \"7\", \"8\", \"9\", \"10\", \"11\", \"12\", \"13\", \"14\", \"15\", \"16\", \"17\", \"18\", \"19\", \"20\", \"21\", \"22\", \"23\", \"24\", \"25\", \"26\", \"27\", \"28\", \"29\", \"30\", \"31\", \"32\", \"33\", \"34\", \"36\"], \"mode\": \"lines\", \"name\": \"f1_score_macro_max\", \"stepped\": true, \"type\": \"scatter\", \"data\": [0.8051086915482137, 0.8105255180161939, 0.8105255180161939, 0.8130989727427436, 0.8130989727427436, 0.8130989727427436, 0.8190612238155885, 0.8190612238155885, 0.8320735762202928, 0.8361427778096739, 0.8361427778096739, 0.8423555021056067, 0.8423555021056067, 0.8423555021056067, 0.8423555021056067, 0.8423555021056067, 0.8423555021056067, 0.8423555021056067, 0.8423555021056067, 0.8423555021056067, 0.8423555021056067, 0.8423555021056067, 0.8423555021056067, 0.8423555021056067, 0.8423555021056067, 0.8423555021056067, 0.8423555021056067, 0.8423555021056067, 0.8423555021056067, 0.8423555021056067, 0.8423555021056067, 0.8423555021056067, 0.8423555021056067, 0.8423555021056067, 0.8423555021056067, 0.856747918426497]}], \"precision_score_macro\": [{\"categories\": [\"0\", \"1\", \"2\", \"3\", \"4\", \"5\", \"6\", \"7\", \"8\", \"9\", \"10\", \"11\", \"12\", \"13\", \"14\", \"15\", \"16\", \"17\", \"18\", \"19\", \"20\", \"21\", \"22\", \"23\", \"24\", \"25\", \"26\", \"27\", \"28\", \"29\", \"30\", \"31\", \"32\", \"33\", \"34\", \"36\"], \"mode\": \"markers\", \"name\": \"precision_score_macro\", \"stepped\": false, \"type\": \"scatter\", \"data\": [0.8214211740701678, 0.8219988224709587, 0.8140018828350872, 0.8292737525632263, 0.8194815702200613, 0.8167139219121318, 0.8246887793578971, 0.8292150104442303, 0.8395289922495806, 0.8443634102825278, 0.8198761148122603, 0.8483241453249193, 0.8340430551131016, 0.8438674291040021, 0.8352643192291025, 0.8405328429385335, 0.8329435572242477, 0.8412945673607439, 0.8391032823385765, 0.7968185480240434, 0.8127444305854926, 0.8059183096315451, 0.8262899559590735, 0.8347464079178476, 0.8081091416753182, 0.27231182795698927, 0.8423297699032993, 0.8475563308380647, 0.8384849709114416, 0.8278077335106377, 0.8243370836250093, 0.8003205440481655, 0.8292509344875073, 0.8281861032059578, 0.8136426563632446, 0.8623190189153812]}, {\"categories\": [\"0\", \"1\", \"2\", \"3\", \"4\", \"5\", \"6\", \"7\", \"8\", \"9\", \"10\", \"11\", \"12\", \"13\", \"14\", \"15\", \"16\", \"17\", \"18\", \"19\", \"20\", \"21\", \"22\", \"23\", \"24\", \"25\", \"26\", \"27\", \"28\", \"29\", \"30\", \"31\", \"32\", \"33\", \"34\", \"36\"], \"mode\": \"lines\", \"name\": \"precision_score_macro_max\", \"stepped\": true, \"type\": \"scatter\", \"data\": [0.8214211740701678, 0.8219988224709587, 0.8219988224709587, 0.8292737525632263, 0.8292737525632263, 0.8292737525632263, 0.8292737525632263, 0.8292737525632263, 0.8395289922495806, 0.8443634102825278, 0.8443634102825278, 0.8483241453249193, 0.8483241453249193, 0.8483241453249193, 0.8483241453249193, 0.8483241453249193, 0.8483241453249193, 0.8483241453249193, 0.8483241453249193, 0.8483241453249193, 0.8483241453249193, 0.8483241453249193, 0.8483241453249193, 0.8483241453249193, 0.8483241453249193, 0.8483241453249193, 0.8483241453249193, 0.8483241453249193, 0.8483241453249193, 0.8483241453249193, 0.8483241453249193, 0.8483241453249193, 0.8483241453249193, 0.8483241453249193, 0.8483241453249193, 0.8623190189153812]}], \"precision_score_micro\": [{\"categories\": [\"0\", \"1\", \"2\", \"3\", \"4\", \"5\", \"6\", \"7\", \"8\", \"9\", \"10\", \"11\", \"12\", \"13\", \"14\", \"15\", \"16\", \"17\", \"18\", \"19\", \"20\", \"21\", \"22\", \"23\", \"24\", \"25\", \"26\", \"27\", \"28\", \"29\", \"30\", \"31\", \"32\", \"33\", \"34\", \"36\"], \"mode\": \"markers\", \"name\": \"precision_score_micro\", \"stepped\": false, \"type\": \"scatter\", \"data\": [0.811505376344086, 0.8179569892473119, 0.811505376344086, 0.8211827956989246, 0.8181720430107526, 0.8149462365591397, 0.82494623655914, 0.824731182795699, 0.8380645161290324, 0.841182795698925, 0.8150537634408602, 0.8478494623655916, 0.8344086021505376, 0.8413978494623656, 0.8346236559139785, 0.8347311827956988, 0.8280645161290321, 0.8376344086021505, 0.8378494623655917, 0.7949462365591398, 0.8111827956989247, 0.8080645161290322, 0.8246236559139785, 0.8313978494623656, 0.8049462365591399, 0.5446236559139785, 0.8410752688172044, 0.8446236559139786, 0.8379569892473118, 0.821720430107527, 0.8249462365591397, 0.7983870967741935, 0.8280645161290323, 0.8213978494623655, 0.811505376344086, 0.8611827956989249]}, {\"categories\": [\"0\", \"1\", \"2\", \"3\", \"4\", \"5\", \"6\", \"7\", \"8\", \"9\", \"10\", \"11\", \"12\", \"13\", \"14\", \"15\", \"16\", \"17\", \"18\", \"19\", \"20\", \"21\", \"22\", \"23\", \"24\", \"25\", \"26\", \"27\", \"28\", \"29\", \"30\", \"31\", \"32\", \"33\", \"34\", \"36\"], \"mode\": \"lines\", \"name\": \"precision_score_micro_max\", \"stepped\": true, \"type\": \"scatter\", \"data\": [0.811505376344086, 0.8179569892473119, 0.8179569892473119, 0.8211827956989246, 0.8211827956989246, 0.8211827956989246, 0.82494623655914, 0.82494623655914, 0.8380645161290324, 0.841182795698925, 0.841182795698925, 0.8478494623655916, 0.8478494623655916, 0.8478494623655916, 0.8478494623655916, 0.8478494623655916, 0.8478494623655916, 0.8478494623655916, 0.8478494623655916, 0.8478494623655916, 0.8478494623655916, 0.8478494623655916, 0.8478494623655916, 0.8478494623655916, 0.8478494623655916, 0.8478494623655916, 0.8478494623655916, 0.8478494623655916, 0.8478494623655916, 0.8478494623655916, 0.8478494623655916, 0.8478494623655916, 0.8478494623655916, 0.8478494623655916, 0.8478494623655916, 0.8611827956989249]}], \"recall_score_weighted\": [{\"categories\": [\"0\", \"1\", \"2\", \"3\", \"4\", \"5\", \"6\", \"7\", \"8\", \"9\", \"10\", \"11\", \"12\", \"13\", \"14\", \"15\", \"16\", \"17\", \"18\", \"19\", \"20\", \"21\", \"22\", \"23\", \"24\", \"25\", \"26\", \"27\", \"28\", \"29\", \"30\", \"31\", \"32\", \"33\", \"34\", \"36\"], \"mode\": \"markers\", \"name\": \"recall_score_weighted\", \"stepped\": false, \"type\": \"scatter\", \"data\": [0.811505376344086, 0.8179569892473119, 0.811505376344086, 0.8211827956989246, 0.8181720430107526, 0.8149462365591397, 0.82494623655914, 0.824731182795699, 0.8380645161290324, 0.841182795698925, 0.8150537634408602, 0.8478494623655916, 0.8344086021505376, 0.8413978494623656, 0.8346236559139785, 0.8347311827956988, 0.8280645161290321, 0.8376344086021505, 0.8378494623655917, 0.7949462365591398, 0.8111827956989247, 0.8080645161290322, 0.8246236559139785, 0.8313978494623656, 0.8049462365591399, 0.5446236559139785, 0.8410752688172044, 0.8446236559139786, 0.8379569892473118, 0.821720430107527, 0.8249462365591397, 0.7983870967741935, 0.8280645161290323, 0.8213978494623655, 0.811505376344086, 0.8611827956989249]}, {\"categories\": [\"0\", \"1\", \"2\", \"3\", \"4\", \"5\", \"6\", \"7\", \"8\", \"9\", \"10\", \"11\", \"12\", \"13\", \"14\", \"15\", \"16\", \"17\", \"18\", \"19\", \"20\", \"21\", \"22\", \"23\", \"24\", \"25\", \"26\", \"27\", \"28\", \"29\", \"30\", \"31\", \"32\", \"33\", \"34\", \"36\"], \"mode\": \"lines\", \"name\": \"recall_score_weighted_max\", \"stepped\": true, \"type\": \"scatter\", \"data\": [0.811505376344086, 0.8179569892473119, 0.8179569892473119, 0.8211827956989246, 0.8211827956989246, 0.8211827956989246, 0.82494623655914, 0.82494623655914, 0.8380645161290324, 0.841182795698925, 0.841182795698925, 0.8478494623655916, 0.8478494623655916, 0.8478494623655916, 0.8478494623655916, 0.8478494623655916, 0.8478494623655916, 0.8478494623655916, 0.8478494623655916, 0.8478494623655916, 0.8478494623655916, 0.8478494623655916, 0.8478494623655916, 0.8478494623655916, 0.8478494623655916, 0.8478494623655916, 0.8478494623655916, 0.8478494623655916, 0.8478494623655916, 0.8478494623655916, 0.8478494623655916, 0.8478494623655916, 0.8478494623655916, 0.8478494623655916, 0.8478494623655916, 0.8611827956989249]}], \"average_precision_score_macro\": [{\"categories\": [\"0\", \"1\", \"2\", \"3\", \"4\", \"5\", \"6\", \"7\", \"8\", \"9\", \"10\", \"11\", \"12\", \"13\", \"14\", \"15\", \"16\", \"17\", \"18\", \"19\", \"20\", \"21\", \"22\", \"23\", \"24\", \"25\", \"26\", \"27\", \"28\", \"29\", \"30\", \"31\", \"32\", \"33\", \"34\", \"36\"], \"mode\": \"markers\", \"name\": \"average_precision_score_macro\", \"stepped\": false, \"type\": \"scatter\", \"data\": [0.8867812599152358, 0.8970532796237158, 0.9043325580579232, 0.8958740961147471, 0.9144729916298384, 0.898273793566281, 0.8981509376860469, 0.9148488358333952, 0.9186306181829339, 0.9237187250978746, 0.8776503622158591, 0.9179206275353442, 0.894415364335913, 0.9276788002779345, 0.9039378819797911, 0.9072558906394269, 0.9057397960772843, 0.9164464117017911, 0.9151549394401547, 0.8848046770045837, 0.8944828750646499, 0.8863053933992638, 0.9200742821179675, 0.9157059913116893, 0.8990962635037114, 0.8871084151279284, 0.9204108148462614, 0.9134084411735319, 0.9041373107043137, 0.9097987368797267, 0.9062910339949475, 0.8936317587112652, 0.9139558370442987, 0.905996565490925, 0.8965170408250469, 0.918149646096077]}, {\"categories\": [\"0\", \"1\", \"2\", \"3\", \"4\", \"5\", \"6\", \"7\", \"8\", \"9\", \"10\", \"11\", \"12\", \"13\", \"14\", \"15\", \"16\", \"17\", \"18\", \"19\", \"20\", \"21\", \"22\", \"23\", \"24\", \"25\", \"26\", \"27\", \"28\", \"29\", \"30\", \"31\", \"32\", \"33\", \"34\", \"36\"], \"mode\": \"lines\", \"name\": \"average_precision_score_macro_max\", \"stepped\": true, \"type\": \"scatter\", \"data\": [0.8867812599152358, 0.8970532796237158, 0.9043325580579232, 0.9043325580579232, 0.9144729916298384, 0.9144729916298384, 0.9144729916298384, 0.9148488358333952, 0.9186306181829339, 0.9237187250978746, 0.9237187250978746, 0.9237187250978746, 0.9237187250978746, 0.9276788002779345, 0.9276788002779345, 0.9276788002779345, 0.9276788002779345, 0.9276788002779345, 0.9276788002779345, 0.9276788002779345, 0.9276788002779345, 0.9276788002779345, 0.9276788002779345, 0.9276788002779345, 0.9276788002779345, 0.9276788002779345, 0.9276788002779345, 0.9276788002779345, 0.9276788002779345, 0.9276788002779345, 0.9276788002779345, 0.9276788002779345, 0.9276788002779345, 0.9276788002779345, 0.9276788002779345, 0.9276788002779345]}], \"norm_macro_recall\": [{\"categories\": [\"0\", \"1\", \"2\", \"3\", \"4\", \"5\", \"6\", \"7\", \"8\", \"9\", \"10\", \"11\", \"12\", \"13\", \"14\", \"15\", \"16\", \"17\", \"18\", \"19\", \"20\", \"21\", \"22\", \"23\", \"24\", \"25\", \"26\", \"27\", \"28\", \"29\", \"30\", \"31\", \"32\", \"33\", \"34\", \"36\"], \"mode\": \"markers\", \"name\": \"norm_macro_recall\", \"stepped\": false, \"type\": \"scatter\", \"data\": [0.6143981452843683, 0.623150134609113, 0.6138128112857214, 0.6275719567670033, 0.6254590696541162, 0.6228480244385817, 0.6403317906723479, 0.6325296805018167, 0.6674944319526362, 0.67118740564561, 0.6274182804639461, 0.6831067260053328, 0.6591628615622424, 0.6689336403190892, 0.662841219667845, 0.6625875947238176, 0.6472029793392022, 0.6717118549664989, 0.669400869168671, 0.5777391219032086, 0.6072896122625224, 0.6035418262508045, 0.6373034241300495, 0.6553633788811807, 0.6054062793072081, 0.0, 0.6718600194954685, 0.681306361337321, 0.6675225922168646, 0.630881524736014, 0.6434766484805186, 0.5853860174912806, 0.6460619390069854, 0.6253868233589596, 0.6221388888029755, 0.7135998848073151]}, {\"categories\": [\"0\", \"1\", \"2\", \"3\", \"4\", \"5\", \"6\", \"7\", \"8\", \"9\", \"10\", \"11\", \"12\", \"13\", \"14\", \"15\", \"16\", \"17\", \"18\", \"19\", \"20\", \"21\", \"22\", \"23\", \"24\", \"25\", \"26\", \"27\", \"28\", \"29\", \"30\", \"31\", \"32\", \"33\", \"34\", \"36\"], \"mode\": \"lines\", \"name\": \"norm_macro_recall_max\", \"stepped\": true, \"type\": \"scatter\", \"data\": [0.6143981452843683, 0.623150134609113, 0.623150134609113, 0.6275719567670033, 0.6275719567670033, 0.6275719567670033, 0.6403317906723479, 0.6403317906723479, 0.6674944319526362, 0.67118740564561, 0.67118740564561, 0.6831067260053328, 0.6831067260053328, 0.6831067260053328, 0.6831067260053328, 0.6831067260053328, 0.6831067260053328, 0.6831067260053328, 0.6831067260053328, 0.6831067260053328, 0.6831067260053328, 0.6831067260053328, 0.6831067260053328, 0.6831067260053328, 0.6831067260053328, 0.6831067260053328, 0.6831067260053328, 0.6831067260053328, 0.6831067260053328, 0.6831067260053328, 0.6831067260053328, 0.6831067260053328, 0.6831067260053328, 0.6831067260053328, 0.6831067260053328, 0.7135998848073151]}], \"f1_score_micro\": [{\"categories\": [\"0\", \"1\", \"2\", \"3\", \"4\", \"5\", \"6\", \"7\", \"8\", \"9\", \"10\", \"11\", \"12\", \"13\", \"14\", \"15\", \"16\", \"17\", \"18\", \"19\", \"20\", \"21\", \"22\", \"23\", \"24\", \"25\", \"26\", \"27\", \"28\", \"29\", \"30\", \"31\", \"32\", \"33\", \"34\", \"36\"], \"mode\": \"markers\", \"name\": \"f1_score_micro\", \"stepped\": false, \"type\": \"scatter\", \"data\": [0.811505376344086, 0.8179569892473119, 0.811505376344086, 0.8211827956989246, 0.8181720430107526, 0.8149462365591399, 0.82494623655914, 0.824731182795699, 0.8380645161290324, 0.841182795698925, 0.8150537634408602, 0.8478494623655916, 0.8344086021505376, 0.8413978494623656, 0.8346236559139785, 0.8347311827956988, 0.8280645161290321, 0.8376344086021505, 0.8378494623655917, 0.7949462365591398, 0.8111827956989247, 0.8080645161290322, 0.8246236559139785, 0.8313978494623656, 0.8049462365591399, 0.5446236559139785, 0.8410752688172044, 0.8446236559139786, 0.8379569892473118, 0.821720430107527, 0.8249462365591398, 0.7983870967741935, 0.8280645161290323, 0.8213978494623655, 0.811505376344086, 0.8611827956989249]}, {\"categories\": [\"0\", \"1\", \"2\", \"3\", \"4\", \"5\", \"6\", \"7\", \"8\", \"9\", \"10\", \"11\", \"12\", \"13\", \"14\", \"15\", \"16\", \"17\", \"18\", \"19\", \"20\", \"21\", \"22\", \"23\", \"24\", \"25\", \"26\", \"27\", \"28\", \"29\", \"30\", \"31\", \"32\", \"33\", \"34\", \"36\"], \"mode\": \"lines\", \"name\": \"f1_score_micro_max\", \"stepped\": true, \"type\": \"scatter\", \"data\": [0.811505376344086, 0.8179569892473119, 0.8179569892473119, 0.8211827956989246, 0.8211827956989246, 0.8211827956989246, 0.82494623655914, 0.82494623655914, 0.8380645161290324, 0.841182795698925, 0.841182795698925, 0.8478494623655916, 0.8478494623655916, 0.8478494623655916, 0.8478494623655916, 0.8478494623655916, 0.8478494623655916, 0.8478494623655916, 0.8478494623655916, 0.8478494623655916, 0.8478494623655916, 0.8478494623655916, 0.8478494623655916, 0.8478494623655916, 0.8478494623655916, 0.8478494623655916, 0.8478494623655916, 0.8478494623655916, 0.8478494623655916, 0.8478494623655916, 0.8478494623655916, 0.8478494623655916, 0.8478494623655916, 0.8478494623655916, 0.8478494623655916, 0.8611827956989249]}], \"f1_score_weighted\": [{\"categories\": [\"0\", \"1\", \"2\", \"3\", \"4\", \"5\", \"6\", \"7\", \"8\", \"9\", \"10\", \"11\", \"12\", \"13\", \"14\", \"15\", \"16\", \"17\", \"18\", \"19\", \"20\", \"21\", \"22\", \"23\", \"24\", \"25\", \"26\", \"27\", \"28\", \"29\", \"30\", \"31\", \"32\", \"33\", \"34\", \"36\"], \"mode\": \"markers\", \"name\": \"f1_score_weighted\", \"stepped\": false, \"type\": \"scatter\", \"data\": [0.8098393982665282, 0.8159674257271587, 0.8094032126379158, 0.8184667683262233, 0.8167962880521611, 0.8143133992978949, 0.8240699761376205, 0.8218140731139915, 0.8365245499827667, 0.8402340431819283, 0.8145258695862699, 0.8468085620609946, 0.8340159491608379, 0.8389389470391434, 0.834435631075985, 0.8325752611778195, 0.825931340822368, 0.8372233945589661, 0.8371833465069694, 0.7938986552195432, 0.8087976921791521, 0.8075544301538077, 0.822596033380081, 0.8304490326557502, 0.8039801486229077, 0.38657973886470265, 0.839957758525121, 0.8437661649706364, 0.8375606631868504, 0.8187400237124391, 0.8248229554017066, 0.7966840622189972, 0.8260037212973141, 0.8180918381066057, 0.8113165597390293, 0.8605498743708597]}, {\"categories\": [\"0\", \"1\", \"2\", \"3\", \"4\", \"5\", \"6\", \"7\", \"8\", \"9\", \"10\", \"11\", \"12\", \"13\", \"14\", \"15\", \"16\", \"17\", \"18\", \"19\", \"20\", \"21\", \"22\", \"23\", \"24\", \"25\", \"26\", \"27\", \"28\", \"29\", \"30\", \"31\", \"32\", \"33\", \"34\", \"36\"], \"mode\": \"lines\", \"name\": \"f1_score_weighted_max\", \"stepped\": true, \"type\": \"scatter\", \"data\": [0.8098393982665282, 0.8159674257271587, 0.8159674257271587, 0.8184667683262233, 0.8184667683262233, 0.8184667683262233, 0.8240699761376205, 0.8240699761376205, 0.8365245499827667, 0.8402340431819283, 0.8402340431819283, 0.8468085620609946, 0.8468085620609946, 0.8468085620609946, 0.8468085620609946, 0.8468085620609946, 0.8468085620609946, 0.8468085620609946, 0.8468085620609946, 0.8468085620609946, 0.8468085620609946, 0.8468085620609946, 0.8468085620609946, 0.8468085620609946, 0.8468085620609946, 0.8468085620609946, 0.8468085620609946, 0.8468085620609946, 0.8468085620609946, 0.8468085620609946, 0.8468085620609946, 0.8468085620609946, 0.8468085620609946, 0.8468085620609946, 0.8468085620609946, 0.8605498743708597]}], \"recall_score_macro\": [{\"categories\": [\"0\", \"1\", \"2\", \"3\", \"4\", \"5\", \"6\", \"7\", \"8\", \"9\", \"10\", \"11\", \"12\", \"13\", \"14\", \"15\", \"16\", \"17\", \"18\", \"19\", \"20\", \"21\", \"22\", \"23\", \"24\", \"25\", \"26\", \"27\", \"28\", \"29\", \"30\", \"31\", \"32\", \"33\", \"34\", \"36\"], \"mode\": \"markers\", \"name\": \"recall_score_macro\", \"stepped\": false, \"type\": \"scatter\", \"data\": [0.8071990726421842, 0.8115750673045564, 0.8069064056428606, 0.8137859783835015, 0.8127295348270579, 0.8114240122192907, 0.820165895336174, 0.8162648402509085, 0.8337472159763181, 0.8355937028228049, 0.8137091402319729, 0.8415533630026666, 0.8295814307811213, 0.8344668201595447, 0.8314206098339225, 0.8312937973619089, 0.8236014896696012, 0.8358559274832494, 0.8347004345843356, 0.7888695609516044, 0.8036448061312612, 0.8017709131254023, 0.8186517120650247, 0.8276816894405903, 0.8027031396536038, 0.5, 0.8359300097477341, 0.8406531806686605, 0.8337612961084322, 0.8154407623680069, 0.821738324240259, 0.7926930087456403, 0.8230309695034925, 0.8126934116794796, 0.8110694444014876, 0.8567999424036575]}, {\"categories\": [\"0\", \"1\", \"2\", \"3\", \"4\", \"5\", \"6\", \"7\", \"8\", \"9\", \"10\", \"11\", \"12\", \"13\", \"14\", \"15\", \"16\", \"17\", \"18\", \"19\", \"20\", \"21\", \"22\", \"23\", \"24\", \"25\", \"26\", \"27\", \"28\", \"29\", \"30\", \"31\", \"32\", \"33\", \"34\", \"36\"], \"mode\": \"lines\", \"name\": \"recall_score_macro_max\", \"stepped\": true, \"type\": \"scatter\", \"data\": [0.8071990726421842, 0.8115750673045564, 0.8115750673045564, 0.8137859783835015, 0.8137859783835015, 0.8137859783835015, 0.820165895336174, 0.820165895336174, 0.8337472159763181, 0.8355937028228049, 0.8355937028228049, 0.8415533630026666, 0.8415533630026666, 0.8415533630026666, 0.8415533630026666, 0.8415533630026666, 0.8415533630026666, 0.8415533630026666, 0.8415533630026666, 0.8415533630026666, 0.8415533630026666, 0.8415533630026666, 0.8415533630026666, 0.8415533630026666, 0.8415533630026666, 0.8415533630026666, 0.8415533630026666, 0.8415533630026666, 0.8415533630026666, 0.8415533630026666, 0.8415533630026666, 0.8415533630026666, 0.8415533630026666, 0.8415533630026666, 0.8415533630026666, 0.8567999424036575]}]}, \"metricName\": null, \"primaryMetricName\": \"accuracy\", \"showLegend\": false}, \"run_metrics\": [{\"name\": \"experiment_status\", \"run_id\": \"AutoML_a960d399-7f51-4f20-bd64-8ade24df5f8b\", \"categories\": [0, 1, 2, 3, 4, 5, 6, 7, 8, 9, 10, 11, 12, 13], \"series\": [{\"data\": [\"DatasetEvaluation\", \"FeaturesGeneration\", \"DatasetFeaturization\", \"DatasetFeaturizationCompleted\", \"DatasetCrossValidationSplit\", \"ModelSelection\", \"BestRunExplainModel\", \"ModelExplanationDataSetSetup\", \"PickSurrogateModel\", \"EngineeredFeatureExplanations\", \"EngineeredFeatureExplanations\", \"RawFeaturesExplanations\", \"RawFeaturesExplanations\", \"BestRunExplainModel\"]}]}, {\"name\": \"experiment_status_description\", \"run_id\": \"AutoML_a960d399-7f51-4f20-bd64-8ade24df5f8b\", \"categories\": [0, 1, 2, 3, 4, 5, 6, 7, 8, 9, 10, 11, 12, 13], \"series\": [{\"data\": [\"Gathering dataset statistics.\", \"Generating features for the dataset.\", \"Beginning to fit featurizers and featurize the dataset.\", \"Completed fit featurizers and featurizing the dataset.\", \"Generating individually featurized CV splits.\", \"Beginning model selection.\", \"Best run model explanations started\", \"Model explanations data setup completed\", \"Choosing LightGBM as the surrogate model for explanations\", \"Computation of engineered features started\", \"Computation of engineered features completed\", \"Computation of raw features started\", \"Computation of raw features completed\", \"Best run model explanations completed\"]}]}, {\"name\": \"f1_score_micro\", \"run_id\": \"AutoML_a960d399-7f51-4f20-bd64-8ade24df5f8b\", \"categories\": [0], \"series\": [{\"data\": [0.8611827956989249]}]}, {\"name\": \"f1_score_weighted\", \"run_id\": \"AutoML_a960d399-7f51-4f20-bd64-8ade24df5f8b\", \"categories\": [0], \"series\": [{\"data\": [0.8605498743708597]}]}, {\"name\": \"AUC_weighted\", \"run_id\": \"AutoML_a960d399-7f51-4f20-bd64-8ade24df5f8b\", \"categories\": [0], \"series\": [{\"data\": [0.9142475473156587]}]}, {\"name\": \"precision_score_micro\", \"run_id\": \"AutoML_a960d399-7f51-4f20-bd64-8ade24df5f8b\", \"categories\": [0], \"series\": [{\"data\": [0.8611827956989249]}]}, {\"name\": \"matthews_correlation\", \"run_id\": \"AutoML_a960d399-7f51-4f20-bd64-8ade24df5f8b\", \"categories\": [0], \"series\": [{\"data\": [0.7190319272713865]}]}, {\"name\": \"precision_score_macro\", \"run_id\": \"AutoML_a960d399-7f51-4f20-bd64-8ade24df5f8b\", \"categories\": [0], \"series\": [{\"data\": [0.8623190189153812]}]}, {\"name\": \"weighted_accuracy\", \"run_id\": \"AutoML_a960d399-7f51-4f20-bd64-8ade24df5f8b\", \"categories\": [0], \"series\": [{\"data\": [0.8649975023390579]}]}, {\"name\": \"average_precision_score_macro\", \"run_id\": \"AutoML_a960d399-7f51-4f20-bd64-8ade24df5f8b\", \"categories\": [0], \"series\": [{\"data\": [0.918149646096077]}]}, {\"name\": \"average_precision_score_weighted\", \"run_id\": \"AutoML_a960d399-7f51-4f20-bd64-8ade24df5f8b\", \"categories\": [0], \"series\": [{\"data\": [0.921319634576155]}]}, {\"name\": \"norm_macro_recall\", \"run_id\": \"AutoML_a960d399-7f51-4f20-bd64-8ade24df5f8b\", \"categories\": [0], \"series\": [{\"data\": [0.7135998848073151]}]}, {\"name\": \"recall_score_weighted\", \"run_id\": \"AutoML_a960d399-7f51-4f20-bd64-8ade24df5f8b\", \"categories\": [0], \"series\": [{\"data\": [0.8611827956989249]}]}, {\"name\": \"recall_score_micro\", \"run_id\": \"AutoML_a960d399-7f51-4f20-bd64-8ade24df5f8b\", \"categories\": [0], \"series\": [{\"data\": [0.8611827956989249]}]}, {\"name\": \"average_precision_score_micro\", \"run_id\": \"AutoML_a960d399-7f51-4f20-bd64-8ade24df5f8b\", \"categories\": [0], \"series\": [{\"data\": [0.9141297531179667]}]}, {\"name\": \"AUC_micro\", \"run_id\": \"AutoML_a960d399-7f51-4f20-bd64-8ade24df5f8b\", \"categories\": [0], \"series\": [{\"data\": [0.9123594635217944]}]}, {\"name\": \"balanced_accuracy\", \"run_id\": \"AutoML_a960d399-7f51-4f20-bd64-8ade24df5f8b\", \"categories\": [0], \"series\": [{\"data\": [0.8567999424036575]}]}, {\"name\": \"recall_score_macro\", \"run_id\": \"AutoML_a960d399-7f51-4f20-bd64-8ade24df5f8b\", \"categories\": [0], \"series\": [{\"data\": [0.8567999424036575]}]}, {\"name\": \"precision_score_weighted\", \"run_id\": \"AutoML_a960d399-7f51-4f20-bd64-8ade24df5f8b\", \"categories\": [0], \"series\": [{\"data\": [0.8653762098029174]}]}, {\"name\": \"log_loss\", \"run_id\": \"AutoML_a960d399-7f51-4f20-bd64-8ade24df5f8b\", \"categories\": [0], \"series\": [{\"data\": [0.4000280564879726]}]}, {\"name\": \"f1_score_macro\", \"run_id\": \"AutoML_a960d399-7f51-4f20-bd64-8ade24df5f8b\", \"categories\": [0], \"series\": [{\"data\": [0.856747918426497]}]}, {\"name\": \"accuracy\", \"run_id\": \"AutoML_a960d399-7f51-4f20-bd64-8ade24df5f8b\", \"categories\": [0], \"series\": [{\"data\": [0.8611827956989249]}]}, {\"name\": \"AUC_macro\", \"run_id\": \"AutoML_a960d399-7f51-4f20-bd64-8ade24df5f8b\", \"categories\": [0], \"series\": [{\"data\": [0.9142475473156587]}]}], \"run_logs\": \"\\nRun is completed.\", \"graph\": {}, \"widget_settings\": {\"childWidgetDisplay\": \"popup\", \"send_telemetry\": false, \"log_level\": \"INFO\", \"sdk_version\": \"1.20.0\"}, \"loading\": false}"
     },
     "metadata": {},
     "output_type": "display_data"
    },
    {
     "data": {
      "text/plain": [
       "{'runId': 'AutoML_a960d399-7f51-4f20-bd64-8ade24df5f8b',\n",
       " 'target': 'auto-ml',\n",
       " 'status': 'Completed',\n",
       " 'startTimeUtc': '2021-01-31T10:26:51.307363Z',\n",
       " 'endTimeUtc': '2021-01-31T10:52:49.57648Z',\n",
       " 'properties': {'num_iterations': '1000',\n",
       "  'training_type': 'TrainFull',\n",
       "  'acquisition_function': 'EI',\n",
       "  'primary_metric': 'accuracy',\n",
       "  'train_split': '0',\n",
       "  'acquisition_parameter': '0',\n",
       "  'num_cross_validation': None,\n",
       "  'target': 'auto-ml',\n",
       "  'AMLSettingsJsonString': '{\"path\":null,\"name\":\"heart-disease-experiment-ml1\",\"subscription_id\":\"3e42d11f-d64d-4173-af9b-12ecaa1030b3\",\"resource_group\":\"aml-quickstarts-136706\",\"workspace_name\":\"quick-starts-ws-136706\",\"region\":\"southcentralus\",\"compute_target\":\"auto-ml\",\"spark_service\":null,\"azure_service\":\"remote\",\"many_models\":false,\"pipeline_fetch_max_batch_size\":1,\"iterations\":1000,\"primary_metric\":\"accuracy\",\"task_type\":\"classification\",\"data_script\":null,\"validation_size\":0.0,\"n_cross_validations\":null,\"y_min\":null,\"y_max\":null,\"num_classes\":null,\"featurization\":\"auto\",\"_ignore_package_version_incompatibilities\":false,\"is_timeseries\":false,\"max_cores_per_iteration\":1,\"max_concurrent_iterations\":4,\"iteration_timeout_minutes\":null,\"mem_in_mb\":null,\"enforce_time_on_windows\":false,\"experiment_timeout_minutes\":30,\"experiment_exit_score\":null,\"whitelist_models\":null,\"blacklist_algos\":[\"KNN\",\"LinearSVM\",\"TensorFlowLinearClassifier\",\"TensorFlowDNN\"],\"supported_models\":[\"LinearSVM\",\"LogisticRegression\",\"SVM\",\"RandomForest\",\"BernoulliNaiveBayes\",\"ExtremeRandomTrees\",\"XGBoostClassifier\",\"AveragedPerceptronClassifier\",\"TensorFlowLinearClassifier\",\"KNN\",\"DecisionTree\",\"TensorFlowDNN\",\"LightGBM\",\"GradientBoosting\",\"SGD\",\"MultinomialNaiveBayes\"],\"auto_blacklist\":true,\"blacklist_samples_reached\":false,\"exclude_nan_labels\":true,\"verbosity\":20,\"_debug_log\":\"azureml_automl.log\",\"show_warnings\":false,\"model_explainability\":true,\"service_url\":null,\"sdk_url\":null,\"sdk_packages\":null,\"enable_onnx_compatible_models\":true,\"enable_split_onnx_featurizer_estimator_models\":false,\"vm_type\":\"STANDARD_D2_V2\",\"telemetry_verbosity\":20,\"send_telemetry\":true,\"enable_dnn\":false,\"scenario\":\"SDK-1.13.0\",\"environment_label\":null,\"force_text_dnn\":false,\"enable_feature_sweeping\":false,\"enable_early_stopping\":true,\"early_stopping_n_iters\":10,\"metrics\":null,\"enable_ensembling\":true,\"enable_stack_ensembling\":false,\"ensemble_iterations\":15,\"enable_tf\":false,\"enable_subsampling\":null,\"subsample_seed\":null,\"enable_nimbusml\":false,\"enable_streaming\":false,\"force_streaming\":false,\"track_child_runs\":true,\"allowed_private_models\":[],\"label_column_name\":\"target\",\"weight_column_name\":null,\"cv_split_column_names\":null,\"enable_local_managed\":false,\"_local_managed_run_id\":null,\"cost_mode\":1,\"lag_length\":0,\"metric_operation\":\"maximize\",\"preprocess\":true}',\n",
       "  'DataPrepJsonString': '{\\\\\"training_data\\\\\": \\\\\"{\\\\\\\\\\\\\"blocks\\\\\\\\\\\\\": [{\\\\\\\\\\\\\"id\\\\\\\\\\\\\": \\\\\\\\\\\\\"3b08120c-4dc6-4c4a-81f0-4b2464faac85\\\\\\\\\\\\\", \\\\\\\\\\\\\"type\\\\\\\\\\\\\": \\\\\\\\\\\\\"Microsoft.DPrep.GetFilesBlock\\\\\\\\\\\\\", \\\\\\\\\\\\\"arguments\\\\\\\\\\\\\": {\\\\\\\\\\\\\"isArchive\\\\\\\\\\\\\": false, \\\\\\\\\\\\\"path\\\\\\\\\\\\\": {\\\\\\\\\\\\\"target\\\\\\\\\\\\\": 4, \\\\\\\\\\\\\"resourceDetails\\\\\\\\\\\\\": [{\\\\\\\\\\\\\"path\\\\\\\\\\\\\": \\\\\\\\\\\\\"https://raw.githubusercontent.com/SadmiB/Heart-Disease-Prediction/master/heart.csv\\\\\\\\\\\\\"}]}}, \\\\\\\\\\\\\"localData\\\\\\\\\\\\\": {}, \\\\\\\\\\\\\"isEnabled\\\\\\\\\\\\\": true, \\\\\\\\\\\\\"name\\\\\\\\\\\\\": null, \\\\\\\\\\\\\"annotation\\\\\\\\\\\\\": null}, {\\\\\\\\\\\\\"id\\\\\\\\\\\\\": \\\\\\\\\\\\\"bf542cfe-77bb-4b09-a84b-fffd972e1695\\\\\\\\\\\\\", \\\\\\\\\\\\\"type\\\\\\\\\\\\\": \\\\\\\\\\\\\"Microsoft.DPrep.ParseDelimitedBlock\\\\\\\\\\\\\", \\\\\\\\\\\\\"arguments\\\\\\\\\\\\\": {\\\\\\\\\\\\\"columnHeadersMode\\\\\\\\\\\\\": 3, \\\\\\\\\\\\\"fileEncoding\\\\\\\\\\\\\": 0, \\\\\\\\\\\\\"handleQuotedLineBreaks\\\\\\\\\\\\\": false, \\\\\\\\\\\\\"preview\\\\\\\\\\\\\": false, \\\\\\\\\\\\\"separator\\\\\\\\\\\\\": \\\\\\\\\\\\\",\\\\\\\\\\\\\", \\\\\\\\\\\\\"skipRows\\\\\\\\\\\\\": 0, \\\\\\\\\\\\\"skipRowsMode\\\\\\\\\\\\\": 0}, \\\\\\\\\\\\\"localData\\\\\\\\\\\\\": {}, \\\\\\\\\\\\\"isEnabled\\\\\\\\\\\\\": true, \\\\\\\\\\\\\"name\\\\\\\\\\\\\": null, \\\\\\\\\\\\\"annotation\\\\\\\\\\\\\": null}, {\\\\\\\\\\\\\"id\\\\\\\\\\\\\": \\\\\\\\\\\\\"ceafaa3c-c229-42b6-8066-1aa18e4c4aaf\\\\\\\\\\\\\", \\\\\\\\\\\\\"type\\\\\\\\\\\\\": \\\\\\\\\\\\\"Microsoft.DPrep.DropColumnsBlock\\\\\\\\\\\\\", \\\\\\\\\\\\\"arguments\\\\\\\\\\\\\": {\\\\\\\\\\\\\"columns\\\\\\\\\\\\\": {\\\\\\\\\\\\\"type\\\\\\\\\\\\\": 0, \\\\\\\\\\\\\"details\\\\\\\\\\\\\": {\\\\\\\\\\\\\"selectedColumns\\\\\\\\\\\\\": [\\\\\\\\\\\\\"Path\\\\\\\\\\\\\"]}}}, \\\\\\\\\\\\\"localData\\\\\\\\\\\\\": {}, \\\\\\\\\\\\\"isEnabled\\\\\\\\\\\\\": true, \\\\\\\\\\\\\"name\\\\\\\\\\\\\": null, \\\\\\\\\\\\\"annotation\\\\\\\\\\\\\": null}, {\\\\\\\\\\\\\"id\\\\\\\\\\\\\": \\\\\\\\\\\\\"02703f85-4160-49be-89a2-d972e40ae7fe\\\\\\\\\\\\\", \\\\\\\\\\\\\"type\\\\\\\\\\\\\": \\\\\\\\\\\\\"Microsoft.DPrep.SetColumnTypesBlock\\\\\\\\\\\\\", \\\\\\\\\\\\\"arguments\\\\\\\\\\\\\": {\\\\\\\\\\\\\"columnConversion\\\\\\\\\\\\\": [{\\\\\\\\\\\\\"column\\\\\\\\\\\\\": {\\\\\\\\\\\\\"type\\\\\\\\\\\\\": 2, \\\\\\\\\\\\\"details\\\\\\\\\\\\\": {\\\\\\\\\\\\\"selectedColumn\\\\\\\\\\\\\": \\\\\\\\\\\\\"age\\\\\\\\\\\\\"}}, \\\\\\\\\\\\\"typeProperty\\\\\\\\\\\\\": 2}, {\\\\\\\\\\\\\"column\\\\\\\\\\\\\": {\\\\\\\\\\\\\"type\\\\\\\\\\\\\": 2, \\\\\\\\\\\\\"details\\\\\\\\\\\\\": {\\\\\\\\\\\\\"selectedColumn\\\\\\\\\\\\\": \\\\\\\\\\\\\"sex\\\\\\\\\\\\\"}}, \\\\\\\\\\\\\"typeProperty\\\\\\\\\\\\\": 2}, {\\\\\\\\\\\\\"column\\\\\\\\\\\\\": {\\\\\\\\\\\\\"type\\\\\\\\\\\\\": 2, \\\\\\\\\\\\\"details\\\\\\\\\\\\\": {\\\\\\\\\\\\\"selectedColumn\\\\\\\\\\\\\": \\\\\\\\\\\\\"cp\\\\\\\\\\\\\"}}, \\\\\\\\\\\\\"typeProperty\\\\\\\\\\\\\": 2}, {\\\\\\\\\\\\\"column\\\\\\\\\\\\\": {\\\\\\\\\\\\\"type\\\\\\\\\\\\\": 2, \\\\\\\\\\\\\"details\\\\\\\\\\\\\": {\\\\\\\\\\\\\"selectedColumn\\\\\\\\\\\\\": \\\\\\\\\\\\\"trestbps\\\\\\\\\\\\\"}}, \\\\\\\\\\\\\"typeProperty\\\\\\\\\\\\\": 2}, {\\\\\\\\\\\\\"column\\\\\\\\\\\\\": {\\\\\\\\\\\\\"type\\\\\\\\\\\\\": 2, \\\\\\\\\\\\\"details\\\\\\\\\\\\\": {\\\\\\\\\\\\\"selectedColumn\\\\\\\\\\\\\": \\\\\\\\\\\\\"chol\\\\\\\\\\\\\"}}, \\\\\\\\\\\\\"typeProperty\\\\\\\\\\\\\": 2}, {\\\\\\\\\\\\\"column\\\\\\\\\\\\\": {\\\\\\\\\\\\\"type\\\\\\\\\\\\\": 2, \\\\\\\\\\\\\"details\\\\\\\\\\\\\": {\\\\\\\\\\\\\"selectedColumn\\\\\\\\\\\\\": \\\\\\\\\\\\\"fbs\\\\\\\\\\\\\"}}, \\\\\\\\\\\\\"typeProperty\\\\\\\\\\\\\": 2}, {\\\\\\\\\\\\\"column\\\\\\\\\\\\\": {\\\\\\\\\\\\\"type\\\\\\\\\\\\\": 2, \\\\\\\\\\\\\"details\\\\\\\\\\\\\": {\\\\\\\\\\\\\"selectedColumn\\\\\\\\\\\\\": \\\\\\\\\\\\\"restecg\\\\\\\\\\\\\"}}, \\\\\\\\\\\\\"typeProperty\\\\\\\\\\\\\": 2}, {\\\\\\\\\\\\\"column\\\\\\\\\\\\\": {\\\\\\\\\\\\\"type\\\\\\\\\\\\\": 2, \\\\\\\\\\\\\"details\\\\\\\\\\\\\": {\\\\\\\\\\\\\"selectedColumn\\\\\\\\\\\\\": \\\\\\\\\\\\\"thalach\\\\\\\\\\\\\"}}, \\\\\\\\\\\\\"typeProperty\\\\\\\\\\\\\": 2}, {\\\\\\\\\\\\\"column\\\\\\\\\\\\\": {\\\\\\\\\\\\\"type\\\\\\\\\\\\\": 2, \\\\\\\\\\\\\"details\\\\\\\\\\\\\": {\\\\\\\\\\\\\"selectedColumn\\\\\\\\\\\\\": \\\\\\\\\\\\\"exang\\\\\\\\\\\\\"}}, \\\\\\\\\\\\\"typeProperty\\\\\\\\\\\\\": 2}, {\\\\\\\\\\\\\"column\\\\\\\\\\\\\": {\\\\\\\\\\\\\"type\\\\\\\\\\\\\": 2, \\\\\\\\\\\\\"details\\\\\\\\\\\\\": {\\\\\\\\\\\\\"selectedColumn\\\\\\\\\\\\\": \\\\\\\\\\\\\"oldpeak\\\\\\\\\\\\\"}}, \\\\\\\\\\\\\"typeProperty\\\\\\\\\\\\\": 3}, {\\\\\\\\\\\\\"column\\\\\\\\\\\\\": {\\\\\\\\\\\\\"type\\\\\\\\\\\\\": 2, \\\\\\\\\\\\\"details\\\\\\\\\\\\\": {\\\\\\\\\\\\\"selectedColumn\\\\\\\\\\\\\": \\\\\\\\\\\\\"slope\\\\\\\\\\\\\"}}, \\\\\\\\\\\\\"typeProperty\\\\\\\\\\\\\": 2}, {\\\\\\\\\\\\\"column\\\\\\\\\\\\\": {\\\\\\\\\\\\\"type\\\\\\\\\\\\\": 2, \\\\\\\\\\\\\"details\\\\\\\\\\\\\": {\\\\\\\\\\\\\"selectedColumn\\\\\\\\\\\\\": \\\\\\\\\\\\\"ca\\\\\\\\\\\\\"}}, \\\\\\\\\\\\\"typeProperty\\\\\\\\\\\\\": 2}, {\\\\\\\\\\\\\"column\\\\\\\\\\\\\": {\\\\\\\\\\\\\"type\\\\\\\\\\\\\": 2, \\\\\\\\\\\\\"details\\\\\\\\\\\\\": {\\\\\\\\\\\\\"selectedColumn\\\\\\\\\\\\\": \\\\\\\\\\\\\"thal\\\\\\\\\\\\\"}}, \\\\\\\\\\\\\"typeProperty\\\\\\\\\\\\\": 2}, {\\\\\\\\\\\\\"column\\\\\\\\\\\\\": {\\\\\\\\\\\\\"type\\\\\\\\\\\\\": 2, \\\\\\\\\\\\\"details\\\\\\\\\\\\\": {\\\\\\\\\\\\\"selectedColumn\\\\\\\\\\\\\": \\\\\\\\\\\\\"target\\\\\\\\\\\\\"}}, \\\\\\\\\\\\\"typeProperty\\\\\\\\\\\\\": 2}]}, \\\\\\\\\\\\\"localData\\\\\\\\\\\\\": {}, \\\\\\\\\\\\\"isEnabled\\\\\\\\\\\\\": true, \\\\\\\\\\\\\"name\\\\\\\\\\\\\": null, \\\\\\\\\\\\\"annotation\\\\\\\\\\\\\": null}], \\\\\\\\\\\\\"inspectors\\\\\\\\\\\\\": [], \\\\\\\\\\\\\"meta\\\\\\\\\\\\\": {\\\\\\\\\\\\\"savedDatasetId\\\\\\\\\\\\\": \\\\\\\\\\\\\"7e97f15f-6ce9-4f34-bd62-9bedadad79c7\\\\\\\\\\\\\", \\\\\\\\\\\\\"datasetType\\\\\\\\\\\\\": \\\\\\\\\\\\\"tabular\\\\\\\\\\\\\", \\\\\\\\\\\\\"subscriptionId\\\\\\\\\\\\\": \\\\\\\\\\\\\"3e42d11f-d64d-4173-af9b-12ecaa1030b3\\\\\\\\\\\\\", \\\\\\\\\\\\\"workspaceId\\\\\\\\\\\\\": \\\\\\\\\\\\\"fb1ab2b2-f109-4700-aaae-fe1dde40d040\\\\\\\\\\\\\", \\\\\\\\\\\\\"workspaceLocation\\\\\\\\\\\\\": \\\\\\\\\\\\\"southcentralus\\\\\\\\\\\\\"}}\\\\\", \\\\\"activities\\\\\": 0}',\n",
       "  'EnableSubsampling': None,\n",
       "  'runTemplate': 'AutoML',\n",
       "  'azureml.runsource': 'automl',\n",
       "  'display_task_type': 'classification',\n",
       "  'dependencies_versions': '{\"azureml-widgets\": \"1.20.0\", \"azureml-train\": \"1.20.0\", \"azureml-train-restclients-hyperdrive\": \"1.20.0\", \"azureml-train-core\": \"1.20.0\", \"azureml-train-automl\": \"1.20.0\", \"azureml-train-automl-runtime\": \"1.20.0\", \"azureml-train-automl-client\": \"1.20.0\", \"azureml-tensorboard\": \"1.20.0\", \"azureml-telemetry\": \"1.20.0\", \"azureml-sdk\": \"1.20.0\", \"azureml-samples\": \"0+unknown\", \"azureml-pipeline\": \"1.20.0\", \"azureml-pipeline-steps\": \"1.20.0\", \"azureml-pipeline-core\": \"1.20.0\", \"azureml-opendatasets\": \"1.20.0\", \"azureml-model-management-sdk\": \"1.0.1b6.post1\", \"azureml-mlflow\": \"1.20.0.post1\", \"azureml-interpret\": \"1.20.0\", \"azureml-explain-model\": \"1.20.0\", \"azureml-defaults\": \"1.20.0\", \"azureml-dataset-runtime\": \"1.20.0\", \"azureml-dataprep\": \"2.7.3\", \"azureml-dataprep-rslex\": \"1.5.0\", \"azureml-dataprep-native\": \"27.0.0\", \"azureml-datadrift\": \"1.20.0\", \"azureml-core\": \"1.20.0\", \"azureml-contrib-services\": \"1.20.0\", \"azureml-contrib-server\": \"1.20.0\", \"azureml-contrib-reinforcementlearning\": \"1.20.0\", \"azureml-contrib-pipeline-steps\": \"1.20.0\", \"azureml-contrib-notebook\": \"1.20.0\", \"azureml-contrib-interpret\": \"1.20.0\", \"azureml-contrib-gbdt\": \"1.20.0\", \"azureml-contrib-fairness\": \"1.20.0\", \"azureml-contrib-dataset\": \"1.20.0\", \"azureml-cli-common\": \"1.20.0\", \"azureml-automl-runtime\": \"1.20.0\", \"azureml-automl-core\": \"1.20.0\", \"azureml-accel-models\": \"1.20.0\"}',\n",
       "  '_aml_system_scenario_identification': 'Remote.Parent',\n",
       "  'ClientType': 'SDK',\n",
       "  'environment_cpu_name': 'AzureML-AutoML',\n",
       "  'environment_cpu_label': 'prod',\n",
       "  'environment_gpu_name': 'AzureML-AutoML-GPU',\n",
       "  'environment_gpu_label': 'prod',\n",
       "  'root_attribution': 'automl',\n",
       "  'attribution': 'AutoML',\n",
       "  'Orchestrator': 'AutoML',\n",
       "  'CancelUri': 'https://southcentralus.experiments.azureml.net/jasmine/v1.0/subscriptions/3e42d11f-d64d-4173-af9b-12ecaa1030b3/resourceGroups/aml-quickstarts-136706/providers/Microsoft.MachineLearningServices/workspaces/quick-starts-ws-136706/experimentids/5ac16c3a-e2a9-470a-8ea9-8b6f2455a775/cancel/AutoML_a960d399-7f51-4f20-bd64-8ade24df5f8b',\n",
       "  'ClientSdkVersion': '1.20.0.post1',\n",
       "  'snapshotId': '00000000-0000-0000-0000-000000000000',\n",
       "  'SetupRunId': 'AutoML_a960d399-7f51-4f20-bd64-8ade24df5f8b_setup',\n",
       "  'SetupRunContainerId': 'dcid.AutoML_a960d399-7f51-4f20-bd64-8ade24df5f8b_setup',\n",
       "  'FeaturizationRunJsonPath': 'featurizer_container.json',\n",
       "  'FeaturizationRunId': 'AutoML_a960d399-7f51-4f20-bd64-8ade24df5f8b_featurize',\n",
       "  'ProblemInfoJsonString': '{\"dataset_num_categorical\": 0, \"is_sparse\": true, \"subsampling\": false, \"dataset_classes\": 2, \"dataset_features\": 27, \"dataset_samples\": 303, \"single_frequency_class_detected\": false}',\n",
       "  'ModelExplainRunId': 'AutoML_a960d399-7f51-4f20-bd64-8ade24df5f8b_ModelExplain'},\n",
       " 'inputDatasets': [{'dataset': {'id': '7e97f15f-6ce9-4f34-bd62-9bedadad79c7'}, 'consumptionDetails': {'type': 'RunInput', 'inputName': 'training_data', 'mechanism': 'Direct'}}],\n",
       " 'outputDatasets': [],\n",
       " 'logFiles': {},\n",
       " 'submittedBy': 'ODL_User 136706'}"
      ]
     },
     "execution_count": 9,
     "metadata": {},
     "output_type": "execute_result"
    }
   ],
   "source": [
    "from azureml.widgets import RunDetails\n",
    "RunDetails(remote_run).show()\n",
    "remote_run.wait_for_completion()"
   ]
  },
  {
   "cell_type": "markdown",
   "metadata": {},
   "source": [
    "## Retreive and save best ONNX model"
   ]
  },
  {
   "cell_type": "code",
   "execution_count": 10,
   "metadata": {
    "gather": {
     "logged": 1611519259517
    }
   },
   "outputs": [],
   "source": [
    "from azureml.automl.runtime.onnx_convert import OnnxConverter\n",
    "\n",
    "\n",
    "best_run, onnx_model = remote_run.get_output(return_onnx_model=True)\n",
    "onnx_path = \"./best_model.onnx\"\n",
    "OnnxConverter.save_onnx_model(onnx_model, onnx_path)"
   ]
  },
  {
   "cell_type": "markdown",
   "metadata": {},
   "source": [
    "## Test prediction using ONNX model"
   ]
  },
  {
   "cell_type": "code",
   "execution_count": 40,
   "metadata": {
    "gather": {
     "logged": 1611519283546
    }
   },
   "outputs": [
    {
     "name": "stdout",
     "output_type": "stream",
     "text": [
      "[1 1]\n"
     ]
    }
   ],
   "source": [
    "from azureml.automl.core.onnx_convert import OnnxConvertConstants\n",
    "from azureml.train.automl import constants\n",
    "import onnxruntime\n",
    "from azureml.automl.runtime.onnx_convert import OnnxInferenceHelper\n",
    "import sys\n",
    "import json\n",
    "\n",
    "\n",
    "if sys.version_info < OnnxConvertConstants.OnnxIncompatiblePythonVersion:\n",
    "    python_version_compatible = True\n",
    "else:\n",
    "    python_version_compatible = False\n",
    "\n",
    "\n",
    "def get_onnx_res(run):\n",
    "    res_path = 'onnx_resource.json'\n",
    "    run.download_file(name=constants.MODEL_RESOURCE_PATH_ONNX, output_file_path=res_path)\n",
    "    with open(res_path) as f:\n",
    "        onnx_res = json.load(f)\n",
    "    return onnx_res\n",
    "\n",
    "if python_version_compatible:\n",
    "    test_df = dataset.to_pandas_dataframe()[:2]\n",
    "    mdl_bytes = onnx_model.SerializeToString()\n",
    "    onnx_res = get_onnx_res(best_run)\n",
    "\n",
    "    onnxrt_helper = OnnxInferenceHelper(mdl_bytes, onnx_res)\n",
    "    pred_onnx, pred_prob_onnx = onnxrt_helper.predict(test_df)\n",
    "\n",
    "    print(pred_onnx)\n",
    "else:\n",
    "    print('Please use Python version 3.6 or 3.7 to run the inference helper.')"
   ]
  },
  {
   "cell_type": "markdown",
   "metadata": {},
   "source": [
    "## Best Model\n",
    "\n",
    "Getting the best model from the automl experiments and display all the properties of the model.\n",
    "\n"
   ]
  },
  {
   "cell_type": "code",
   "execution_count": 12,
   "metadata": {
    "gather": {
     "logged": 1598431425670
    },
    "jupyter": {
     "outputs_hidden": false,
     "source_hidden": false
    },
    "nteract": {
     "transient": {
      "deleting": false
     }
    }
   },
   "outputs": [
    {
     "name": "stdout",
     "output_type": "stream",
     "text": [
      "- Best Run Id:  AutoML_a960d399-7f51-4f20-bd64-8ade24df5f8b_36\n",
      "- Accuracy: 0.8611827956989249\n",
      "- AUC_weighted: 0.9142475473156587\n"
     ]
    },
    {
     "data": {
      "text/plain": [
       "['azureml_fitted_model.sav']"
      ]
     },
     "execution_count": 12,
     "metadata": {},
     "output_type": "execute_result"
    }
   ],
   "source": [
    "import joblib\n",
    "# Retrieve and save your best automl model.\n",
    "\n",
    "best_run, fitted_model = remote_run.get_output()\n",
    "best_run_metrics = best_run.get_metrics()\n",
    "\n",
    "print('- Best Run Id: ', best_run.id)\n",
    "print('- Accuracy:', best_run_metrics['accuracy'])\n",
    "print('- AUC_weighted:', best_run_metrics['AUC_weighted'])\n",
    "joblib.dump(fitted_model,'azureml_fitted_model.sav')"
   ]
  },
  {
   "cell_type": "markdown",
   "metadata": {},
   "source": [
    "### Register best model"
   ]
  },
  {
   "cell_type": "code",
   "execution_count": 13,
   "metadata": {},
   "outputs": [
    {
     "name": "stdout",
     "output_type": "stream",
     "text": [
      "AutoMLa960d399736\n"
     ]
    }
   ],
   "source": [
    "model_name = best_run.properties[\"model_name\"]\n",
    "description = \"AutoML model for predicting heart disease.\"\n",
    "tags = None\n",
    "model = remote_run.register_model(model_name=model_name, description=description, tags=tags)\n",
    "\n",
    "print(remote_run.model_id)"
   ]
  },
  {
   "cell_type": "markdown",
   "metadata": {},
   "source": [
    "## Model Deployment\n",
    "\n",
    "Remember you have to deploy only one of the two models you trained.. Perform the steps in the rest of this notebook only if you wish to deploy this model.\n",
    "\n",
    "TODO: In the cell below, register the model, create an inference config and deploy the model as a web service."
   ]
  },
  {
   "cell_type": "code",
   "execution_count": 27,
   "metadata": {},
   "outputs": [
    {
     "data": {
      "text/plain": [
       "['accuracy_table',\n",
       " 'automl_driver.py',\n",
       " 'azureml-logs/55_azureml-execution-tvmps_8355e9822f90915cf61833763b305cc1a68d73decc2357f6e4076a22f5ce592c_d.txt',\n",
       " 'azureml-logs/65_job_prep-tvmps_8355e9822f90915cf61833763b305cc1a68d73decc2357f6e4076a22f5ce592c_d.txt',\n",
       " 'azureml-logs/70_driver_log.txt',\n",
       " 'azureml-logs/75_job_post-tvmps_8355e9822f90915cf61833763b305cc1a68d73decc2357f6e4076a22f5ce592c_d.txt',\n",
       " 'azureml-logs/process_info.json',\n",
       " 'azureml-logs/process_status.json',\n",
       " 'confusion_matrix',\n",
       " 'explanation/02095570/classes.interpret.json',\n",
       " 'explanation/02095570/eval_data_viz.interpret.json',\n",
       " 'explanation/02095570/expected_values.interpret.json',\n",
       " 'explanation/02095570/features.interpret.json',\n",
       " 'explanation/02095570/global_names/0.interpret.json',\n",
       " 'explanation/02095570/global_rank/0.interpret.json',\n",
       " 'explanation/02095570/global_values/0.interpret.json',\n",
       " 'explanation/02095570/local_importance_values.interpret.json',\n",
       " 'explanation/02095570/per_class_names/0.interpret.json',\n",
       " 'explanation/02095570/per_class_rank/0.interpret.json',\n",
       " 'explanation/02095570/per_class_values/0.interpret.json',\n",
       " 'explanation/02095570/rich_metadata.interpret.json',\n",
       " 'explanation/02095570/visualization_dict.interpret.json',\n",
       " 'explanation/05543d2b/classes.interpret.json',\n",
       " 'explanation/05543d2b/expected_values.interpret.json',\n",
       " 'explanation/05543d2b/features.interpret.json',\n",
       " 'explanation/05543d2b/global_names/0.interpret.json',\n",
       " 'explanation/05543d2b/global_rank/0.interpret.json',\n",
       " 'explanation/05543d2b/global_values/0.interpret.json',\n",
       " 'explanation/05543d2b/local_importance_values.interpret.json',\n",
       " 'explanation/05543d2b/per_class_names/0.interpret.json',\n",
       " 'explanation/05543d2b/per_class_rank/0.interpret.json',\n",
       " 'explanation/05543d2b/per_class_values/0.interpret.json',\n",
       " 'explanation/05543d2b/rich_metadata.interpret.json',\n",
       " 'explanation/05543d2b/visualization_dict.interpret.json',\n",
       " 'explanation/05543d2b/ys_pred_proba_viz.interpret.json',\n",
       " 'explanation/05543d2b/ys_pred_viz.interpret.json',\n",
       " 'logs/azureml/103_azureml.log',\n",
       " 'logs/azureml/azureml_automl.log',\n",
       " 'logs/azureml/dataprep/python_span_bb86f91e-7dca-4d82-9cbf-3f02a038c938.jsonl',\n",
       " 'logs/azureml/dataprep/python_span_e13d0d7a-8822-46c4-92ca-8e3c8bad51e7.jsonl',\n",
       " 'logs/azureml/job_prep_azureml.log',\n",
       " 'logs/azureml/job_release_azureml.log',\n",
       " 'outputs/conda_env_v_1_0_0.yml',\n",
       " 'outputs/env_dependencies.json',\n",
       " 'outputs/internal_cross_validated_models.pkl',\n",
       " 'outputs/model.onnx',\n",
       " 'outputs/model.pkl',\n",
       " 'outputs/model_onnx.json',\n",
       " 'outputs/pipeline_graph.json',\n",
       " 'outputs/scoring_file_v_1_0_0.py']"
      ]
     },
     "execution_count": 27,
     "metadata": {},
     "output_type": "execute_result"
    }
   ],
   "source": [
    "best_run.get_file_names()"
   ]
  },
  {
   "cell_type": "code",
   "execution_count": 14,
   "metadata": {
    "gather": {
     "logged": 1598431435189
    },
    "jupyter": {
     "outputs_hidden": false,
     "source_hidden": false
    },
    "nteract": {
     "transient": {
      "deleting": false
     }
    }
   },
   "outputs": [],
   "source": [
    "script_file_name = 'inference/score.py'\n",
    "\n",
    "best_run.download_file('outputs/scoring_file_v_1_0_0.py', 'inference/score.py')"
   ]
  },
  {
   "cell_type": "markdown",
   "metadata": {
    "gather": {
     "logged": 1598432707604
    },
    "jupyter": {
     "outputs_hidden": false,
     "source_hidden": false
    },
    "nteract": {
     "transient": {
      "deleting": false
     }
    }
   },
   "source": [
    "### Deploy the model as a webservice using ACI"
   ]
  },
  {
   "cell_type": "code",
   "execution_count": 34,
   "metadata": {},
   "outputs": [
    {
     "name": "stdout",
     "output_type": "stream",
     "text": [
      "automl-heart-disease-prediction\n",
      "Tips: You can try get_logs(): https://aka.ms/debugimage#dockerlog or local deployment: https://aka.ms/debugimage#debug-locally to debug if deployment takes longer than 10 minutes.\n",
      "Running....\n",
      "Succeeded\n",
      "ACI service creation operation finished, operation \"Succeeded\"\n",
      "Endpoint: http://d1f0373b-de7e-4cca-aaf6-9f1128a9641e.southcentralus.azurecontainer.io/score\n",
      "Status: Healthy\n"
     ]
    }
   ],
   "source": [
    "from azureml.core.model import InferenceConfig\n",
    "from azureml.core.webservice import AciWebservice\n",
    "from azureml.core.webservice import Webservice\n",
    "from azureml.core.model import Model\n",
    "from azureml.core.environment import Environment\n",
    "\n",
    "inference_config = InferenceConfig(entry_script=script_file_name)\n",
    "\n",
    "aciconfig = AciWebservice.deploy_configuration(cpu_cores = 1, \n",
    "                                               memory_gb = 1, \n",
    "                                               tags = {'area': \"bmData\", 'type': \"automl_classification\"}, \n",
    "                                               description = 'Heart Disease prediction using Automl Classification')\n",
    "\n",
    "aci_service_name = 'automl-heart-disease-prediction'\n",
    "print(aci_service_name)\n",
    "aci_service = Model.deploy(ws, aci_service_name, [model], inference_config, aciconfig, overwrite=True)\n",
    "aci_service.wait_for_deployment(True)\n",
    "print(\"Endpoint: \" + aci_service.scoring_uri)\n",
    "print(\"Status: \" + aci_service.state)"
   ]
  },
  {
   "cell_type": "markdown",
   "metadata": {},
   "source": [
    "### Test the web service"
   ]
  },
  {
   "cell_type": "code",
   "execution_count": 41,
   "metadata": {},
   "outputs": [
    {
     "name": "stdout",
     "output_type": "stream",
     "text": [
      "[1, 0]\n"
     ]
    }
   ],
   "source": [
    "#Test 1\n",
    "import requests\n",
    "import json\n",
    "\n",
    "data = json.dumps({ \n",
    "  \"data\": [  \n",
    "    {\n",
    "      \"age\": 63,\n",
    "      \"sex\": 1,\n",
    "      \"cp\": 3,\n",
    "      \"trestbps\": 145,\n",
    "      \"chol\": 233,\n",
    "      \"fbs\": 1,\n",
    "      \"restecg\": 0,\n",
    "      \"thalach\": 150,\n",
    "      \"exang\": 0,\n",
    "      \"oldpeak\": 2.3,\n",
    "      \"slope\": 0,\n",
    "      \"ca\": 0,\n",
    "      \"thal\": 1\n",
    "    },\n",
    "    { \n",
    "      \"age\": 57,\n",
    "      \"sex\": 0,\n",
    "      \"cp\": 0,\n",
    "      \"trestbps\": 140,\n",
    "      \"chol\": 241,\n",
    "      \"fbs\": 0,\n",
    "      \"restecg\": 1,\n",
    "      \"thalach\": 123,\n",
    "      \"exang\": 1,\n",
    "      \"oldpeak\": 0.2,\n",
    "      \"slope\": 1,\n",
    "      \"ca\": 0,\n",
    "      \"thal\": 3\n",
    "    }\n",
    "  ]\n",
    "})\n",
    "\n",
    "headers = {'Content-Type': 'application/json'}\n",
    "\n",
    "resp = requests.post(aci_service.scoring_uri, data, headers=headers)\n",
    "\n",
    "pred = json.loads(json.loads(resp.text))['result']\n",
    "print(pred)"
   ]
  },
  {
   "cell_type": "markdown",
   "metadata": {
    "jupyter": {
     "outputs_hidden": false,
     "source_hidden": false
    },
    "nteract": {
     "transient": {
      "deleting": false
     }
    }
   },
   "source": [
    "### Get service logs"
   ]
  },
  {
   "cell_type": "code",
   "execution_count": 37,
   "metadata": {
    "scrolled": true
   },
   "outputs": [
    {
     "data": {
      "text/plain": [
       "'2021-01-31T12:56:43,589474934+00:00 - iot-server/run \\n2021-01-31T12:56:43,592503759+00:00 - gunicorn/run \\n2021-01-31T12:56:43,592955077+00:00 - rsyslog/run \\n2021-01-31T12:56:43,598377601+00:00 - nginx/run \\n/usr/sbin/nginx: /azureml-envs/azureml_265db83b0c6014ce472c5de2f0b97e04/lib/libcrypto.so.1.0.0: no version information available (required by /usr/sbin/nginx)\\n/usr/sbin/nginx: /azureml-envs/azureml_265db83b0c6014ce472c5de2f0b97e04/lib/libcrypto.so.1.0.0: no version information available (required by /usr/sbin/nginx)\\n/usr/sbin/nginx: /azureml-envs/azureml_265db83b0c6014ce472c5de2f0b97e04/lib/libssl.so.1.0.0: no version information available (required by /usr/sbin/nginx)\\n/usr/sbin/nginx: /azureml-envs/azureml_265db83b0c6014ce472c5de2f0b97e04/lib/libssl.so.1.0.0: no version information available (required by /usr/sbin/nginx)\\n/usr/sbin/nginx: /azureml-envs/azureml_265db83b0c6014ce472c5de2f0b97e04/lib/libssl.so.1.0.0: no version information available (required by /usr/sbin/nginx)\\nrsyslogd: /azureml-envs/azureml_265db83b0c6014ce472c5de2f0b97e04/lib/libuuid.so.1: no version information available (required by rsyslogd)\\nEdgeHubConnectionString and IOTEDGE_IOTHUBHOSTNAME are not set. Exiting...\\n2021-01-31T12:56:43,753110892+00:00 - iot-server/finish 1 0\\n2021-01-31T12:56:43,754891465+00:00 - Exit code 1 is normal. Not restarting iot-server.\\nStarting gunicorn 19.9.0\\nListening at: http://127.0.0.1:31311 (12)\\nUsing worker: sync\\nworker timeout is set to 300\\nBooting worker with pid: 41\\nSPARK_HOME not set. Skipping PySpark Initialization.\\nGenerating new fontManager, this may take some time...\\nInitializing logger\\n2021-01-31 12:56:45,136 | root | INFO | Starting up app insights client\\n2021-01-31 12:56:45,136 | root | INFO | Starting up request id generator\\n2021-01-31 12:56:45,136 | root | INFO | Starting up app insight hooks\\n2021-01-31 12:56:45,136 | root | INFO | Invoking user\\'s init function\\n2021-01-31 12:56:47,551 | azureml.core | WARNING | Failure while loading azureml_run_type_providers. Failed to load entrypoint automl = azureml.train.automl.run:AutoMLRun._from_run_dto with exception cannot import name \\'RunType\\'.\\nFailure while loading azureml_run_type_providers. Failed to load entrypoint automl = azureml.train.automl.run:AutoMLRun._from_run_dto with exception cannot import name \\'RunType\\'.\\n2021-01-31 12:56:48,315 | root | INFO | Users\\'s init has completed successfully\\n2021-01-31 12:56:48,318 | root | INFO | Skipping middleware: dbg_model_info as it\\'s not enabled.\\n2021-01-31 12:56:48,319 | root | INFO | Skipping middleware: dbg_resource_usage as it\\'s not enabled.\\n2021-01-31 12:56:48,320 | root | INFO | Scoring timeout is found from os.environ: 60000 ms\\n2021-01-31 12:56:52,385 | root | INFO | 200\\n127.0.0.1 - - [31/Jan/2021:12:56:52 +0000] \"GET /swagger.json HTTP/1.0\" 200 2783 \"-\" \"Go-http-client/1.1\"\\n2021-01-31 12:56:54,857 | root | INFO | 200\\n127.0.0.1 - - [31/Jan/2021:12:56:54 +0000] \"GET /swagger.json HTTP/1.0\" 200 2783 \"-\" \"Go-http-client/1.1\"\\n2021-01-31 13:05:51,590 | root | INFO | Validation Request Content-Type\\n2021-01-31 13:05:51,591 | root | INFO | Scoring Timer is set to 60.0 seconds\\n2021-01-31 13:05:52,186 | root | INFO | 200\\n127.0.0.1 - - [31/Jan/2021:13:05:52 +0000] \"POST /score HTTP/1.0\" 200 22 \"-\" \"python-requests/2.25.1\"\\n'"
      ]
     },
     "execution_count": 37,
     "metadata": {},
     "output_type": "execute_result"
    }
   ],
   "source": [
    "aci_service.get_logs()"
   ]
  },
  {
   "cell_type": "markdown",
   "metadata": {},
   "source": [
    "### Delete the web service"
   ]
  },
  {
   "cell_type": "code",
   "execution_count": null,
   "metadata": {},
   "outputs": [],
   "source": [
    "#aci_service.delete()"
   ]
  },
  {
   "cell_type": "markdown",
   "metadata": {},
   "source": [
    "End!"
   ]
  }
 ],
 "metadata": {
  "kernel_info": {
   "name": "python3-azureml"
  },
  "kernelspec": {
   "display_name": "Python 3.6 - AzureML",
   "language": "python",
   "name": "python3-azureml"
  },
  "language_info": {
   "codemirror_mode": {
    "name": "ipython",
    "version": 3
   },
   "file_extension": ".py",
   "mimetype": "text/x-python",
   "name": "python",
   "nbconvert_exporter": "python",
   "pygments_lexer": "ipython3",
   "version": "3.6.9"
  },
  "nteract": {
   "version": "nteract-front-end@1.0.0"
  }
 },
 "nbformat": 4,
 "nbformat_minor": 2
}
