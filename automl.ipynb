{
 "cells": [
  {
   "cell_type": "markdown",
   "metadata": {},
   "source": [
    "# Automated ML\n",
    "\n",
    "Import all the dependencies that will be needed for the project."
   ]
  },
  {
   "cell_type": "code",
   "execution_count": 21,
   "metadata": {
    "gather": {
     "logged": 1611519322441
    },
    "jupyter": {
     "outputs_hidden": false,
     "source_hidden": false
    },
    "nteract": {
     "transient": {
      "deleting": false
     }
    }
   },
   "outputs": [
    {
     "name": "stdout",
     "output_type": "stream",
     "text": [
      "SDK version: 1.20.0\n"
     ]
    }
   ],
   "source": [
    "import logging\n",
    "import os\n",
    "import csv\n",
    "\n",
    "from matplotlib import pyplot as plt\n",
    "import numpy as np\n",
    "import pandas as pd\n",
    "from sklearn import datasets\n",
    "import pkg_resources\n",
    "\n",
    "import azureml.core\n",
    "from azureml.core.experiment import Experiment\n",
    "from azureml.core.workspace import Workspace\n",
    "from azureml.train.automl import AutoMLConfig\n",
    "from azureml.core.dataset import Dataset\n",
    "\n",
    "\n",
    "print(\"SDK version:\", azureml.core.VERSION)"
   ]
  },
  {
   "cell_type": "markdown",
   "metadata": {},
   "source": [
    "# Workspace"
   ]
  },
  {
   "cell_type": "code",
   "execution_count": 2,
   "metadata": {
    "gather": {
     "logged": 1611516736885
    }
   },
   "outputs": [
    {
     "name": "stdout",
     "output_type": "stream",
     "text": [
      "quick-starts-ws-135918\n",
      "aml-quickstarts-135918\n",
      "southcentralus\n",
      "2c48c51c-bd47-40d4-abbe-fb8eabd19c8c\n"
     ]
    }
   ],
   "source": [
    "ws = Workspace.from_config()\n",
    "print(ws.name, ws.resource_group, ws.location, ws.subscription_id, sep = '\\n')"
   ]
  },
  {
   "cell_type": "markdown",
   "metadata": {},
   "source": [
    "## Dataset\n",
    "\n",
    "### Overview\n",
    "We will be using a dataset about hear disease from [kaggle](https://www.kaggle.com/ronitf/heart-disease-uci)\n",
    "\n",
    "* age: age in years \n",
    "* sex: (1 = male; 0 = female) \n",
    "* cp: chest pain type\n",
    "* trestbps: resting blood pressure (in mm Hg on admission to the hospital)\n",
    "* chol: serum cholestoral in mg/dl \n",
    "* fbs: (fasting blood sugar &gt; 120 mg/dl) (1 = true; 0 = false) \n",
    "* restecg: resting electrocardiographic results \n",
    "* thalach: maximum heart rate achieved \n",
    "* exang: exercise induced angina (1 = yes; 0 = no) \n",
    "* oldpeak: ST depression induced by exercise relative to rest \n",
    "* slope: the slope of the peak exercise ST segment\n",
    "* ca: number of major vessels (0-3) colored by flourosopy \n",
    "* thal: 3 = normal; 6 = fixed defect; 7 = reversable defect \n",
    "* target: 1 or 0 \n",
    "\n",
    "\n",
    "Accessing the dataset:"
   ]
  },
  {
   "cell_type": "code",
   "execution_count": 3,
   "metadata": {
    "gather": {
     "logged": 1611516748138
    }
   },
   "outputs": [
    {
     "name": "stdout",
     "output_type": "stream",
     "text": [
      "Dataset heart-disease-dataset already exists..!\n"
     ]
    },
    {
     "data": {
      "text/html": [
       "<div>\n",
       "<style scoped>\n",
       "    .dataframe tbody tr th:only-of-type {\n",
       "        vertical-align: middle;\n",
       "    }\n",
       "\n",
       "    .dataframe tbody tr th {\n",
       "        vertical-align: top;\n",
       "    }\n",
       "\n",
       "    .dataframe thead th {\n",
       "        text-align: right;\n",
       "    }\n",
       "</style>\n",
       "<table border=\"1\" class=\"dataframe\">\n",
       "  <thead>\n",
       "    <tr style=\"text-align: right;\">\n",
       "      <th></th>\n",
       "      <th>age</th>\n",
       "      <th>sex</th>\n",
       "      <th>cp</th>\n",
       "      <th>trestbps</th>\n",
       "      <th>chol</th>\n",
       "      <th>fbs</th>\n",
       "      <th>restecg</th>\n",
       "      <th>thalach</th>\n",
       "      <th>exang</th>\n",
       "      <th>oldpeak</th>\n",
       "      <th>slope</th>\n",
       "      <th>ca</th>\n",
       "      <th>thal</th>\n",
       "      <th>target</th>\n",
       "    </tr>\n",
       "  </thead>\n",
       "  <tbody>\n",
       "    <tr>\n",
       "      <th>count</th>\n",
       "      <td>303.000000</td>\n",
       "      <td>303.000000</td>\n",
       "      <td>303.000000</td>\n",
       "      <td>303.000000</td>\n",
       "      <td>303.000000</td>\n",
       "      <td>303.000000</td>\n",
       "      <td>303.000000</td>\n",
       "      <td>303.000000</td>\n",
       "      <td>303.000000</td>\n",
       "      <td>303.000000</td>\n",
       "      <td>303.000000</td>\n",
       "      <td>303.000000</td>\n",
       "      <td>303.000000</td>\n",
       "      <td>303.000000</td>\n",
       "    </tr>\n",
       "    <tr>\n",
       "      <th>mean</th>\n",
       "      <td>54.366337</td>\n",
       "      <td>0.683168</td>\n",
       "      <td>0.966997</td>\n",
       "      <td>131.623762</td>\n",
       "      <td>246.264026</td>\n",
       "      <td>0.148515</td>\n",
       "      <td>0.528053</td>\n",
       "      <td>149.646865</td>\n",
       "      <td>0.326733</td>\n",
       "      <td>1.039604</td>\n",
       "      <td>1.399340</td>\n",
       "      <td>0.729373</td>\n",
       "      <td>2.313531</td>\n",
       "      <td>0.544554</td>\n",
       "    </tr>\n",
       "    <tr>\n",
       "      <th>std</th>\n",
       "      <td>9.082101</td>\n",
       "      <td>0.466011</td>\n",
       "      <td>1.032052</td>\n",
       "      <td>17.538143</td>\n",
       "      <td>51.830751</td>\n",
       "      <td>0.356198</td>\n",
       "      <td>0.525860</td>\n",
       "      <td>22.905161</td>\n",
       "      <td>0.469794</td>\n",
       "      <td>1.161075</td>\n",
       "      <td>0.616226</td>\n",
       "      <td>1.022606</td>\n",
       "      <td>0.612277</td>\n",
       "      <td>0.498835</td>\n",
       "    </tr>\n",
       "    <tr>\n",
       "      <th>min</th>\n",
       "      <td>29.000000</td>\n",
       "      <td>0.000000</td>\n",
       "      <td>0.000000</td>\n",
       "      <td>94.000000</td>\n",
       "      <td>126.000000</td>\n",
       "      <td>0.000000</td>\n",
       "      <td>0.000000</td>\n",
       "      <td>71.000000</td>\n",
       "      <td>0.000000</td>\n",
       "      <td>0.000000</td>\n",
       "      <td>0.000000</td>\n",
       "      <td>0.000000</td>\n",
       "      <td>0.000000</td>\n",
       "      <td>0.000000</td>\n",
       "    </tr>\n",
       "    <tr>\n",
       "      <th>25%</th>\n",
       "      <td>47.500000</td>\n",
       "      <td>0.000000</td>\n",
       "      <td>0.000000</td>\n",
       "      <td>120.000000</td>\n",
       "      <td>211.000000</td>\n",
       "      <td>0.000000</td>\n",
       "      <td>0.000000</td>\n",
       "      <td>133.500000</td>\n",
       "      <td>0.000000</td>\n",
       "      <td>0.000000</td>\n",
       "      <td>1.000000</td>\n",
       "      <td>0.000000</td>\n",
       "      <td>2.000000</td>\n",
       "      <td>0.000000</td>\n",
       "    </tr>\n",
       "    <tr>\n",
       "      <th>50%</th>\n",
       "      <td>55.000000</td>\n",
       "      <td>1.000000</td>\n",
       "      <td>1.000000</td>\n",
       "      <td>130.000000</td>\n",
       "      <td>240.000000</td>\n",
       "      <td>0.000000</td>\n",
       "      <td>1.000000</td>\n",
       "      <td>153.000000</td>\n",
       "      <td>0.000000</td>\n",
       "      <td>0.800000</td>\n",
       "      <td>1.000000</td>\n",
       "      <td>0.000000</td>\n",
       "      <td>2.000000</td>\n",
       "      <td>1.000000</td>\n",
       "    </tr>\n",
       "    <tr>\n",
       "      <th>75%</th>\n",
       "      <td>61.000000</td>\n",
       "      <td>1.000000</td>\n",
       "      <td>2.000000</td>\n",
       "      <td>140.000000</td>\n",
       "      <td>274.500000</td>\n",
       "      <td>0.000000</td>\n",
       "      <td>1.000000</td>\n",
       "      <td>166.000000</td>\n",
       "      <td>1.000000</td>\n",
       "      <td>1.600000</td>\n",
       "      <td>2.000000</td>\n",
       "      <td>1.000000</td>\n",
       "      <td>3.000000</td>\n",
       "      <td>1.000000</td>\n",
       "    </tr>\n",
       "    <tr>\n",
       "      <th>max</th>\n",
       "      <td>77.000000</td>\n",
       "      <td>1.000000</td>\n",
       "      <td>3.000000</td>\n",
       "      <td>200.000000</td>\n",
       "      <td>564.000000</td>\n",
       "      <td>1.000000</td>\n",
       "      <td>2.000000</td>\n",
       "      <td>202.000000</td>\n",
       "      <td>1.000000</td>\n",
       "      <td>6.200000</td>\n",
       "      <td>2.000000</td>\n",
       "      <td>4.000000</td>\n",
       "      <td>3.000000</td>\n",
       "      <td>1.000000</td>\n",
       "    </tr>\n",
       "  </tbody>\n",
       "</table>\n",
       "</div>"
      ],
      "text/plain": [
       "              age         sex          cp    trestbps        chol         fbs  \\\n",
       "count  303.000000  303.000000  303.000000  303.000000  303.000000  303.000000   \n",
       "mean    54.366337    0.683168    0.966997  131.623762  246.264026    0.148515   \n",
       "std      9.082101    0.466011    1.032052   17.538143   51.830751    0.356198   \n",
       "min     29.000000    0.000000    0.000000   94.000000  126.000000    0.000000   \n",
       "25%     47.500000    0.000000    0.000000  120.000000  211.000000    0.000000   \n",
       "50%     55.000000    1.000000    1.000000  130.000000  240.000000    0.000000   \n",
       "75%     61.000000    1.000000    2.000000  140.000000  274.500000    0.000000   \n",
       "max     77.000000    1.000000    3.000000  200.000000  564.000000    1.000000   \n",
       "\n",
       "          restecg     thalach       exang     oldpeak       slope          ca  \\\n",
       "count  303.000000  303.000000  303.000000  303.000000  303.000000  303.000000   \n",
       "mean     0.528053  149.646865    0.326733    1.039604    1.399340    0.729373   \n",
       "std      0.525860   22.905161    0.469794    1.161075    0.616226    1.022606   \n",
       "min      0.000000   71.000000    0.000000    0.000000    0.000000    0.000000   \n",
       "25%      0.000000  133.500000    0.000000    0.000000    1.000000    0.000000   \n",
       "50%      1.000000  153.000000    0.000000    0.800000    1.000000    0.000000   \n",
       "75%      1.000000  166.000000    1.000000    1.600000    2.000000    1.000000   \n",
       "max      2.000000  202.000000    1.000000    6.200000    2.000000    4.000000   \n",
       "\n",
       "             thal      target  \n",
       "count  303.000000  303.000000  \n",
       "mean     2.313531    0.544554  \n",
       "std      0.612277    0.498835  \n",
       "min      0.000000    0.000000  \n",
       "25%      2.000000    0.000000  \n",
       "50%      2.000000    1.000000  \n",
       "75%      3.000000    1.000000  \n",
       "max      3.000000    1.000000  "
      ]
     },
     "execution_count": 3,
     "metadata": {},
     "output_type": "execute_result"
    }
   ],
   "source": [
    "found = False\n",
    "key = \"heart-disease-dataset\"\n",
    "description_text = \"Heart disease dataset\"\n",
    "\n",
    "if key in ws.datasets.keys():\n",
    "        print(\"Dataset {} already exists..!\".format(key))\n",
    "        found = True\n",
    "        dataset = Dataset.get_by_name(ws, name=key)\n",
    "\n",
    "if not found:\n",
    "        # Create AML Dataset and register it into Workspace\n",
    "        print(\"Creating {} dataset..\".format(key))\n",
    "        data = 'https://raw.githubusercontent.com/SadmiB/Heart-Disease-Prediction/master/heart.csv'\n",
    "        dataset = Dataset.Tabular.from_delimited_files(data)        \n",
    "        #Register Dataset in Workspace\n",
    "        dataset = dataset.register(workspace=ws,\n",
    "                                   name=key,\n",
    "                                   description=description_text)\n",
    "\n",
    "\n",
    "df = dataset.to_pandas_dataframe()\n",
    "df.describe()"
   ]
  },
  {
   "cell_type": "code",
   "execution_count": 4,
   "metadata": {
    "gather": {
     "logged": 1611516748690
    }
   },
   "outputs": [
    {
     "data": {
      "text/html": [
       "<div>\n",
       "<style scoped>\n",
       "    .dataframe tbody tr th:only-of-type {\n",
       "        vertical-align: middle;\n",
       "    }\n",
       "\n",
       "    .dataframe tbody tr th {\n",
       "        vertical-align: top;\n",
       "    }\n",
       "\n",
       "    .dataframe thead th {\n",
       "        text-align: right;\n",
       "    }\n",
       "</style>\n",
       "<table border=\"1\" class=\"dataframe\">\n",
       "  <thead>\n",
       "    <tr style=\"text-align: right;\">\n",
       "      <th></th>\n",
       "      <th>age</th>\n",
       "      <th>sex</th>\n",
       "      <th>cp</th>\n",
       "      <th>trestbps</th>\n",
       "      <th>chol</th>\n",
       "      <th>fbs</th>\n",
       "      <th>restecg</th>\n",
       "      <th>thalach</th>\n",
       "      <th>exang</th>\n",
       "      <th>oldpeak</th>\n",
       "      <th>slope</th>\n",
       "      <th>ca</th>\n",
       "      <th>thal</th>\n",
       "      <th>target</th>\n",
       "    </tr>\n",
       "  </thead>\n",
       "  <tbody>\n",
       "    <tr>\n",
       "      <th>0</th>\n",
       "      <td>63</td>\n",
       "      <td>1</td>\n",
       "      <td>3</td>\n",
       "      <td>145</td>\n",
       "      <td>233</td>\n",
       "      <td>1</td>\n",
       "      <td>0</td>\n",
       "      <td>150</td>\n",
       "      <td>0</td>\n",
       "      <td>2.3</td>\n",
       "      <td>0</td>\n",
       "      <td>0</td>\n",
       "      <td>1</td>\n",
       "      <td>1</td>\n",
       "    </tr>\n",
       "    <tr>\n",
       "      <th>1</th>\n",
       "      <td>37</td>\n",
       "      <td>1</td>\n",
       "      <td>2</td>\n",
       "      <td>130</td>\n",
       "      <td>250</td>\n",
       "      <td>0</td>\n",
       "      <td>1</td>\n",
       "      <td>187</td>\n",
       "      <td>0</td>\n",
       "      <td>3.5</td>\n",
       "      <td>0</td>\n",
       "      <td>0</td>\n",
       "      <td>2</td>\n",
       "      <td>1</td>\n",
       "    </tr>\n",
       "    <tr>\n",
       "      <th>2</th>\n",
       "      <td>41</td>\n",
       "      <td>0</td>\n",
       "      <td>1</td>\n",
       "      <td>130</td>\n",
       "      <td>204</td>\n",
       "      <td>0</td>\n",
       "      <td>0</td>\n",
       "      <td>172</td>\n",
       "      <td>0</td>\n",
       "      <td>1.4</td>\n",
       "      <td>2</td>\n",
       "      <td>0</td>\n",
       "      <td>2</td>\n",
       "      <td>1</td>\n",
       "    </tr>\n",
       "    <tr>\n",
       "      <th>3</th>\n",
       "      <td>56</td>\n",
       "      <td>1</td>\n",
       "      <td>1</td>\n",
       "      <td>120</td>\n",
       "      <td>236</td>\n",
       "      <td>0</td>\n",
       "      <td>1</td>\n",
       "      <td>178</td>\n",
       "      <td>0</td>\n",
       "      <td>0.8</td>\n",
       "      <td>2</td>\n",
       "      <td>0</td>\n",
       "      <td>2</td>\n",
       "      <td>1</td>\n",
       "    </tr>\n",
       "    <tr>\n",
       "      <th>4</th>\n",
       "      <td>57</td>\n",
       "      <td>0</td>\n",
       "      <td>0</td>\n",
       "      <td>120</td>\n",
       "      <td>354</td>\n",
       "      <td>0</td>\n",
       "      <td>1</td>\n",
       "      <td>163</td>\n",
       "      <td>1</td>\n",
       "      <td>0.6</td>\n",
       "      <td>2</td>\n",
       "      <td>0</td>\n",
       "      <td>2</td>\n",
       "      <td>1</td>\n",
       "    </tr>\n",
       "  </tbody>\n",
       "</table>\n",
       "</div>"
      ],
      "text/plain": [
       "   age  sex  cp  trestbps  chol  fbs  restecg  thalach  exang  oldpeak  slope  \\\n",
       "0   63    1   3       145   233    1        0      150      0      2.3      0   \n",
       "1   37    1   2       130   250    0        1      187      0      3.5      0   \n",
       "2   41    0   1       130   204    0        0      172      0      1.4      2   \n",
       "3   56    1   1       120   236    0        1      178      0      0.8      2   \n",
       "4   57    0   0       120   354    0        1      163      1      0.6      2   \n",
       "\n",
       "   ca  thal  target  \n",
       "0   0     1       1  \n",
       "1   0     2       1  \n",
       "2   0     2       1  \n",
       "3   0     2       1  \n",
       "4   0     2       1  "
      ]
     },
     "execution_count": 4,
     "metadata": {},
     "output_type": "execute_result"
    }
   ],
   "source": [
    "dataset.take(5).to_pandas_dataframe()"
   ]
  },
  {
   "cell_type": "markdown",
   "metadata": {},
   "source": [
    "# Experiment"
   ]
  },
  {
   "cell_type": "code",
   "execution_count": 5,
   "metadata": {
    "gather": {
     "logged": 1611516751386
    }
   },
   "outputs": [
    {
     "data": {
      "text/html": [
       "<table style=\"width:100%\"><tr><th>Name</th><th>Workspace</th><th>Report Page</th><th>Docs Page</th></tr><tr><td>heart-disease-experiment-ml1</td><td>quick-starts-ws-135918</td><td><a href=\"https://ml.azure.com/experiments/heart-disease-experiment-ml1?wsid=/subscriptions/2c48c51c-bd47-40d4-abbe-fb8eabd19c8c/resourcegroups/aml-quickstarts-135918/workspaces/quick-starts-ws-135918\" target=\"_blank\" rel=\"noopener\">Link to Azure Machine Learning studio</a></td><td><a href=\"https://docs.microsoft.com/en-us/python/api/azureml-core/azureml.core.experiment.Experiment?view=azure-ml-py\" target=\"_blank\" rel=\"noopener\">Link to Documentation</a></td></tr></table>"
      ],
      "text/plain": [
       "Experiment(Name: heart-disease-experiment-ml1,\n",
       "Workspace: quick-starts-ws-135918)"
      ]
     },
     "execution_count": 5,
     "metadata": {},
     "output_type": "execute_result"
    }
   ],
   "source": [
    "# choose a name for experiment\n",
    "experiment_name = 'heart-disease-experiment-ml1'\n",
    "project_folder = 'heart-disease-project'\n",
    "experiment=Experiment(ws, experiment_name)\n",
    "experiment"
   ]
  },
  {
   "cell_type": "markdown",
   "metadata": {},
   "source": [
    "# Create or Attach an AmlCompute cluster"
   ]
  },
  {
   "cell_type": "code",
   "execution_count": 6,
   "metadata": {
    "gather": {
     "logged": 1611516760278
    }
   },
   "outputs": [
    {
     "name": "stdout",
     "output_type": "stream",
     "text": [
      "Found existing cluster, use it.\n"
     ]
    }
   ],
   "source": [
    "from azureml.core.compute import AmlCompute\n",
    "from azureml.core.compute import ComputeTarget\n",
    "from azureml.core.compute_target import ComputeTargetException\n",
    "\n",
    "# NOTE: update the cluster name to match the existing cluster\n",
    "# Choose a name for your CPU cluster\n",
    "amlcompute_cluster_name = \"auto-ml\"\n",
    "\n",
    "# Verify that cluster does not exist already\n",
    "try:\n",
    "    compute_target = ComputeTarget(workspace=ws, name=amlcompute_cluster_name)\n",
    "    print('Found existing cluster, use it.')\n",
    "except ComputeTargetException:\n",
    "    compute_config = AmlCompute.provisioning_configuration(vm_size='STANDARD_D2_V2',\n",
    "                                                           max_nodes=4)\n",
    "    compute_target = ComputeTarget.create(ws, amlcompute_cluster_name, compute_config)\n",
    "\n",
    "    compute_target.wait_for_completion(show_output=True, min_node_count = 1, timeout_in_minutes = 10)"
   ]
  },
  {
   "cell_type": "markdown",
   "metadata": {},
   "source": [
    "## AutoML Configuration\n",
    "\n",
    "Below the Automl settings and cofiguration we using AUC_weighted as a primary metric and the task to solve is classification. The target column is \"target\" which represents whether a patient has a heart disease or not."
   ]
  },
  {
   "cell_type": "code",
   "execution_count": 7,
   "metadata": {
    "gather": {
     "logged": 1611516768191
    },
    "jupyter": {
     "outputs_hidden": false,
     "source_hidden": false
    },
    "nteract": {
     "transient": {
      "deleting": false
     }
    }
   },
   "outputs": [],
   "source": [
    "# Automl settings\n",
    "automl_settings = { \n",
    "    \"experiment_timeout_minutes\": 20,\n",
    "    \"max_concurrent_iterations\": 5,\n",
    "    \"enable_onnx_compatible_models\": True,\n",
    "    \"primary_metric\" : 'accuracy',\n",
    "    \"experiment_exit_score\" : 0.9984,\n",
    "    \"enable_early_stopping\" : True,\n",
    "    \"featurization\" : \"auto\"\n",
    "}\n",
    "\n",
    "# automl config\n",
    "automl_config = AutoMLConfig(compute_target=compute_target,\n",
    "                             task = \"classification\",\n",
    "                             blocked_models = ['KNN','LinearSVM'],\n",
    "                             training_data=dataset,\n",
    "                             label_column_name=\"target\",   \n",
    "                             path = project_folder,\n",
    "                             debug_log = \"automl_errors.log\",\n",
    "                             **automl_settings)"
   ]
  },
  {
   "cell_type": "code",
   "execution_count": 8,
   "metadata": {
    "gather": {
     "logged": 1611516782078
    },
    "jupyter": {
     "outputs_hidden": false,
     "source_hidden": false
    },
    "nteract": {
     "transient": {
      "deleting": false
     }
    }
   },
   "outputs": [
    {
     "name": "stdout",
     "output_type": "stream",
     "text": [
      "Running on remote.\n"
     ]
    }
   ],
   "source": [
    "# Submit the ml experiment\n",
    "remote_run = experiment.submit(automl_config)"
   ]
  },
  {
   "cell_type": "markdown",
   "metadata": {},
   "source": [
    "## Run Details\n",
    "\n",
    "OPTIONAL: Write about the different models trained and their performance. Why do you think some models did better than others?\n",
    "\n",
    "TODO: In the cell below, use the `RunDetails` widget to show the different experiments."
   ]
  },
  {
   "cell_type": "code",
   "execution_count": 9,
   "metadata": {
    "gather": {
     "logged": 1611518305650
    },
    "scrolled": false
   },
   "outputs": [
    {
     "data": {
      "application/vnd.jupyter.widget-view+json": {
       "model_id": "f69f346479d7462db4b5b75dc722dd42",
       "version_major": 2,
       "version_minor": 0
      },
      "text/plain": [
       "_AutoMLWidget(widget_settings={'childWidgetDisplay': 'popup', 'send_telemetry': False, 'log_level': 'INFO', 's…"
      ]
     },
     "metadata": {},
     "output_type": "display_data"
    },
    {
     "data": {
      "application/aml.mini.widget.v1": "{\"status\": \"Completed\", \"workbench_run_details_uri\": \"https://ml.azure.com/experiments/heart-disease-experiment-ml1/runs/AutoML_26ea7617-8eef-4b0f-a17c-c79d471681b5?wsid=/subscriptions/2c48c51c-bd47-40d4-abbe-fb8eabd19c8c/resourcegroups/aml-quickstarts-135918/workspaces/quick-starts-ws-135918\", \"run_id\": \"AutoML_26ea7617-8eef-4b0f-a17c-c79d471681b5\", \"run_properties\": {\"run_id\": \"AutoML_26ea7617-8eef-4b0f-a17c-c79d471681b5\", \"created_utc\": \"2021-01-24T20:22:15.149391Z\", \"properties\": {\"num_iterations\": \"1000\", \"training_type\": \"TrainFull\", \"acquisition_function\": \"EI\", \"primary_metric\": \"accuracy\", \"train_split\": \"0\", \"acquisition_parameter\": \"0\", \"num_cross_validation\": null, \"target\": \"auto-ml\", \"AMLSettingsJsonString\": \"{\\\"path\\\":null,\\\"name\\\":\\\"heart-disease-experiment-ml1\\\",\\\"subscription_id\\\":\\\"2c48c51c-bd47-40d4-abbe-fb8eabd19c8c\\\",\\\"resource_group\\\":\\\"aml-quickstarts-135918\\\",\\\"workspace_name\\\":\\\"quick-starts-ws-135918\\\",\\\"region\\\":\\\"southcentralus\\\",\\\"compute_target\\\":\\\"auto-ml\\\",\\\"spark_service\\\":null,\\\"azure_service\\\":\\\"remote\\\",\\\"many_models\\\":false,\\\"pipeline_fetch_max_batch_size\\\":1,\\\"iterations\\\":1000,\\\"primary_metric\\\":\\\"accuracy\\\",\\\"task_type\\\":\\\"classification\\\",\\\"data_script\\\":null,\\\"validation_size\\\":0.0,\\\"n_cross_validations\\\":null,\\\"y_min\\\":null,\\\"y_max\\\":null,\\\"num_classes\\\":null,\\\"featurization\\\":\\\"auto\\\",\\\"_ignore_package_version_incompatibilities\\\":false,\\\"is_timeseries\\\":false,\\\"max_cores_per_iteration\\\":1,\\\"max_concurrent_iterations\\\":5,\\\"iteration_timeout_minutes\\\":null,\\\"mem_in_mb\\\":null,\\\"enforce_time_on_windows\\\":false,\\\"experiment_timeout_minutes\\\":20,\\\"experiment_exit_score\\\":0.9984,\\\"whitelist_models\\\":null,\\\"blacklist_algos\\\":[\\\"KNN\\\",\\\"LinearSVM\\\",\\\"TensorFlowLinearClassifier\\\",\\\"TensorFlowDNN\\\"],\\\"supported_models\\\":[\\\"SGD\\\",\\\"DecisionTree\\\",\\\"TensorFlowLinearClassifier\\\",\\\"BernoulliNaiveBayes\\\",\\\"SVM\\\",\\\"MultinomialNaiveBayes\\\",\\\"LogisticRegression\\\",\\\"LinearSVM\\\",\\\"GradientBoosting\\\",\\\"KNN\\\",\\\"RandomForest\\\",\\\"TensorFlowDNN\\\",\\\"ExtremeRandomTrees\\\",\\\"AveragedPerceptronClassifier\\\",\\\"LightGBM\\\",\\\"XGBoostClassifier\\\"],\\\"auto_blacklist\\\":true,\\\"blacklist_samples_reached\\\":false,\\\"exclude_nan_labels\\\":true,\\\"verbosity\\\":20,\\\"_debug_log\\\":\\\"azureml_automl.log\\\",\\\"show_warnings\\\":false,\\\"model_explainability\\\":true,\\\"service_url\\\":null,\\\"sdk_url\\\":null,\\\"sdk_packages\\\":null,\\\"enable_onnx_compatible_models\\\":true,\\\"enable_split_onnx_featurizer_estimator_models\\\":false,\\\"vm_type\\\":\\\"STANDARD_D2_V2\\\",\\\"telemetry_verbosity\\\":20,\\\"send_telemetry\\\":true,\\\"enable_dnn\\\":false,\\\"scenario\\\":\\\"SDK-1.13.0\\\",\\\"environment_label\\\":null,\\\"force_text_dnn\\\":false,\\\"enable_feature_sweeping\\\":false,\\\"enable_early_stopping\\\":true,\\\"early_stopping_n_iters\\\":10,\\\"metrics\\\":null,\\\"enable_ensembling\\\":true,\\\"enable_stack_ensembling\\\":false,\\\"ensemble_iterations\\\":15,\\\"enable_tf\\\":false,\\\"enable_subsampling\\\":null,\\\"subsample_seed\\\":null,\\\"enable_nimbusml\\\":false,\\\"enable_streaming\\\":false,\\\"force_streaming\\\":false,\\\"track_child_runs\\\":true,\\\"allowed_private_models\\\":[],\\\"label_column_name\\\":\\\"target\\\",\\\"weight_column_name\\\":null,\\\"cv_split_column_names\\\":null,\\\"enable_local_managed\\\":false,\\\"_local_managed_run_id\\\":null,\\\"cost_mode\\\":1,\\\"lag_length\\\":0,\\\"metric_operation\\\":\\\"maximize\\\",\\\"preprocess\\\":true}\", \"DataPrepJsonString\": \"{\\\\\\\"training_data\\\\\\\": \\\\\\\"{\\\\\\\\\\\\\\\"blocks\\\\\\\\\\\\\\\": [{\\\\\\\\\\\\\\\"id\\\\\\\\\\\\\\\": \\\\\\\\\\\\\\\"73ac3525-c998-4a12-8884-88333bda7d6b\\\\\\\\\\\\\\\", \\\\\\\\\\\\\\\"type\\\\\\\\\\\\\\\": \\\\\\\\\\\\\\\"Microsoft.DPrep.GetFilesBlock\\\\\\\\\\\\\\\", \\\\\\\\\\\\\\\"arguments\\\\\\\\\\\\\\\": {\\\\\\\\\\\\\\\"isArchive\\\\\\\\\\\\\\\": false, \\\\\\\\\\\\\\\"path\\\\\\\\\\\\\\\": {\\\\\\\\\\\\\\\"target\\\\\\\\\\\\\\\": 4, \\\\\\\\\\\\\\\"resourceDetails\\\\\\\\\\\\\\\": [{\\\\\\\\\\\\\\\"path\\\\\\\\\\\\\\\": \\\\\\\\\\\\\\\"https://raw.githubusercontent.com/SadmiB/Heart-Disease-Prediction/master/heart.csv\\\\\\\\\\\\\\\"}]}}, \\\\\\\\\\\\\\\"localData\\\\\\\\\\\\\\\": {}, \\\\\\\\\\\\\\\"isEnabled\\\\\\\\\\\\\\\": true, \\\\\\\\\\\\\\\"name\\\\\\\\\\\\\\\": null, \\\\\\\\\\\\\\\"annotation\\\\\\\\\\\\\\\": null}, {\\\\\\\\\\\\\\\"id\\\\\\\\\\\\\\\": \\\\\\\\\\\\\\\"361a147a-6aa7-4140-8815-90d32b753f1b\\\\\\\\\\\\\\\", \\\\\\\\\\\\\\\"type\\\\\\\\\\\\\\\": \\\\\\\\\\\\\\\"Microsoft.DPrep.ParseDelimitedBlock\\\\\\\\\\\\\\\", \\\\\\\\\\\\\\\"arguments\\\\\\\\\\\\\\\": {\\\\\\\\\\\\\\\"columnHeadersMode\\\\\\\\\\\\\\\": 3, \\\\\\\\\\\\\\\"fileEncoding\\\\\\\\\\\\\\\": 0, \\\\\\\\\\\\\\\"handleQuotedLineBreaks\\\\\\\\\\\\\\\": false, \\\\\\\\\\\\\\\"preview\\\\\\\\\\\\\\\": false, \\\\\\\\\\\\\\\"separator\\\\\\\\\\\\\\\": \\\\\\\\\\\\\\\",\\\\\\\\\\\\\\\", \\\\\\\\\\\\\\\"skipRows\\\\\\\\\\\\\\\": 0, \\\\\\\\\\\\\\\"skipRowsMode\\\\\\\\\\\\\\\": 0}, \\\\\\\\\\\\\\\"localData\\\\\\\\\\\\\\\": {}, \\\\\\\\\\\\\\\"isEnabled\\\\\\\\\\\\\\\": true, \\\\\\\\\\\\\\\"name\\\\\\\\\\\\\\\": null, \\\\\\\\\\\\\\\"annotation\\\\\\\\\\\\\\\": null}, {\\\\\\\\\\\\\\\"id\\\\\\\\\\\\\\\": \\\\\\\\\\\\\\\"92e64813-09e8-4398-9d34-dcb187c25601\\\\\\\\\\\\\\\", \\\\\\\\\\\\\\\"type\\\\\\\\\\\\\\\": \\\\\\\\\\\\\\\"Microsoft.DPrep.DropColumnsBlock\\\\\\\\\\\\\\\", \\\\\\\\\\\\\\\"arguments\\\\\\\\\\\\\\\": {\\\\\\\\\\\\\\\"columns\\\\\\\\\\\\\\\": {\\\\\\\\\\\\\\\"type\\\\\\\\\\\\\\\": 0, \\\\\\\\\\\\\\\"details\\\\\\\\\\\\\\\": {\\\\\\\\\\\\\\\"selectedColumns\\\\\\\\\\\\\\\": [\\\\\\\\\\\\\\\"Path\\\\\\\\\\\\\\\"]}}}, \\\\\\\\\\\\\\\"localData\\\\\\\\\\\\\\\": {}, \\\\\\\\\\\\\\\"isEnabled\\\\\\\\\\\\\\\": true, \\\\\\\\\\\\\\\"name\\\\\\\\\\\\\\\": null, \\\\\\\\\\\\\\\"annotation\\\\\\\\\\\\\\\": null}, {\\\\\\\\\\\\\\\"id\\\\\\\\\\\\\\\": \\\\\\\\\\\\\\\"c1e6342c-74ba-414d-9c46-c66d39209e65\\\\\\\\\\\\\\\", \\\\\\\\\\\\\\\"type\\\\\\\\\\\\\\\": \\\\\\\\\\\\\\\"Microsoft.DPrep.SetColumnTypesBlock\\\\\\\\\\\\\\\", \\\\\\\\\\\\\\\"arguments\\\\\\\\\\\\\\\": {\\\\\\\\\\\\\\\"columnConversion\\\\\\\\\\\\\\\": [{\\\\\\\\\\\\\\\"column\\\\\\\\\\\\\\\": {\\\\\\\\\\\\\\\"type\\\\\\\\\\\\\\\": 2, \\\\\\\\\\\\\\\"details\\\\\\\\\\\\\\\": {\\\\\\\\\\\\\\\"selectedColumn\\\\\\\\\\\\\\\": \\\\\\\\\\\\\\\"age\\\\\\\\\\\\\\\"}}, \\\\\\\\\\\\\\\"typeProperty\\\\\\\\\\\\\\\": 2}, {\\\\\\\\\\\\\\\"column\\\\\\\\\\\\\\\": {\\\\\\\\\\\\\\\"type\\\\\\\\\\\\\\\": 2, \\\\\\\\\\\\\\\"details\\\\\\\\\\\\\\\": {\\\\\\\\\\\\\\\"selectedColumn\\\\\\\\\\\\\\\": \\\\\\\\\\\\\\\"sex\\\\\\\\\\\\\\\"}}, \\\\\\\\\\\\\\\"typeProperty\\\\\\\\\\\\\\\": 2}, {\\\\\\\\\\\\\\\"column\\\\\\\\\\\\\\\": {\\\\\\\\\\\\\\\"type\\\\\\\\\\\\\\\": 2, \\\\\\\\\\\\\\\"details\\\\\\\\\\\\\\\": {\\\\\\\\\\\\\\\"selectedColumn\\\\\\\\\\\\\\\": \\\\\\\\\\\\\\\"cp\\\\\\\\\\\\\\\"}}, \\\\\\\\\\\\\\\"typeProperty\\\\\\\\\\\\\\\": 2}, {\\\\\\\\\\\\\\\"column\\\\\\\\\\\\\\\": {\\\\\\\\\\\\\\\"type\\\\\\\\\\\\\\\": 2, \\\\\\\\\\\\\\\"details\\\\\\\\\\\\\\\": {\\\\\\\\\\\\\\\"selectedColumn\\\\\\\\\\\\\\\": \\\\\\\\\\\\\\\"trestbps\\\\\\\\\\\\\\\"}}, \\\\\\\\\\\\\\\"typeProperty\\\\\\\\\\\\\\\": 2}, {\\\\\\\\\\\\\\\"column\\\\\\\\\\\\\\\": {\\\\\\\\\\\\\\\"type\\\\\\\\\\\\\\\": 2, \\\\\\\\\\\\\\\"details\\\\\\\\\\\\\\\": {\\\\\\\\\\\\\\\"selectedColumn\\\\\\\\\\\\\\\": \\\\\\\\\\\\\\\"chol\\\\\\\\\\\\\\\"}}, \\\\\\\\\\\\\\\"typeProperty\\\\\\\\\\\\\\\": 2}, {\\\\\\\\\\\\\\\"column\\\\\\\\\\\\\\\": {\\\\\\\\\\\\\\\"type\\\\\\\\\\\\\\\": 2, \\\\\\\\\\\\\\\"details\\\\\\\\\\\\\\\": {\\\\\\\\\\\\\\\"selectedColumn\\\\\\\\\\\\\\\": \\\\\\\\\\\\\\\"fbs\\\\\\\\\\\\\\\"}}, \\\\\\\\\\\\\\\"typeProperty\\\\\\\\\\\\\\\": 2}, {\\\\\\\\\\\\\\\"column\\\\\\\\\\\\\\\": {\\\\\\\\\\\\\\\"type\\\\\\\\\\\\\\\": 2, \\\\\\\\\\\\\\\"details\\\\\\\\\\\\\\\": {\\\\\\\\\\\\\\\"selectedColumn\\\\\\\\\\\\\\\": \\\\\\\\\\\\\\\"restecg\\\\\\\\\\\\\\\"}}, \\\\\\\\\\\\\\\"typeProperty\\\\\\\\\\\\\\\": 2}, {\\\\\\\\\\\\\\\"column\\\\\\\\\\\\\\\": {\\\\\\\\\\\\\\\"type\\\\\\\\\\\\\\\": 2, \\\\\\\\\\\\\\\"details\\\\\\\\\\\\\\\": {\\\\\\\\\\\\\\\"selectedColumn\\\\\\\\\\\\\\\": \\\\\\\\\\\\\\\"thalach\\\\\\\\\\\\\\\"}}, \\\\\\\\\\\\\\\"typeProperty\\\\\\\\\\\\\\\": 2}, {\\\\\\\\\\\\\\\"column\\\\\\\\\\\\\\\": {\\\\\\\\\\\\\\\"type\\\\\\\\\\\\\\\": 2, \\\\\\\\\\\\\\\"details\\\\\\\\\\\\\\\": {\\\\\\\\\\\\\\\"selectedColumn\\\\\\\\\\\\\\\": \\\\\\\\\\\\\\\"exang\\\\\\\\\\\\\\\"}}, \\\\\\\\\\\\\\\"typeProperty\\\\\\\\\\\\\\\": 2}, {\\\\\\\\\\\\\\\"column\\\\\\\\\\\\\\\": {\\\\\\\\\\\\\\\"type\\\\\\\\\\\\\\\": 2, \\\\\\\\\\\\\\\"details\\\\\\\\\\\\\\\": {\\\\\\\\\\\\\\\"selectedColumn\\\\\\\\\\\\\\\": \\\\\\\\\\\\\\\"oldpeak\\\\\\\\\\\\\\\"}}, \\\\\\\\\\\\\\\"typeProperty\\\\\\\\\\\\\\\": 3}, {\\\\\\\\\\\\\\\"column\\\\\\\\\\\\\\\": {\\\\\\\\\\\\\\\"type\\\\\\\\\\\\\\\": 2, \\\\\\\\\\\\\\\"details\\\\\\\\\\\\\\\": {\\\\\\\\\\\\\\\"selectedColumn\\\\\\\\\\\\\\\": \\\\\\\\\\\\\\\"slope\\\\\\\\\\\\\\\"}}, \\\\\\\\\\\\\\\"typeProperty\\\\\\\\\\\\\\\": 2}, {\\\\\\\\\\\\\\\"column\\\\\\\\\\\\\\\": {\\\\\\\\\\\\\\\"type\\\\\\\\\\\\\\\": 2, \\\\\\\\\\\\\\\"details\\\\\\\\\\\\\\\": {\\\\\\\\\\\\\\\"selectedColumn\\\\\\\\\\\\\\\": \\\\\\\\\\\\\\\"ca\\\\\\\\\\\\\\\"}}, \\\\\\\\\\\\\\\"typeProperty\\\\\\\\\\\\\\\": 2}, {\\\\\\\\\\\\\\\"column\\\\\\\\\\\\\\\": {\\\\\\\\\\\\\\\"type\\\\\\\\\\\\\\\": 2, \\\\\\\\\\\\\\\"details\\\\\\\\\\\\\\\": {\\\\\\\\\\\\\\\"selectedColumn\\\\\\\\\\\\\\\": \\\\\\\\\\\\\\\"thal\\\\\\\\\\\\\\\"}}, \\\\\\\\\\\\\\\"typeProperty\\\\\\\\\\\\\\\": 2}, {\\\\\\\\\\\\\\\"column\\\\\\\\\\\\\\\": {\\\\\\\\\\\\\\\"type\\\\\\\\\\\\\\\": 2, \\\\\\\\\\\\\\\"details\\\\\\\\\\\\\\\": {\\\\\\\\\\\\\\\"selectedColumn\\\\\\\\\\\\\\\": \\\\\\\\\\\\\\\"target\\\\\\\\\\\\\\\"}}, \\\\\\\\\\\\\\\"typeProperty\\\\\\\\\\\\\\\": 2}]}, \\\\\\\\\\\\\\\"localData\\\\\\\\\\\\\\\": {}, \\\\\\\\\\\\\\\"isEnabled\\\\\\\\\\\\\\\": true, \\\\\\\\\\\\\\\"name\\\\\\\\\\\\\\\": null, \\\\\\\\\\\\\\\"annotation\\\\\\\\\\\\\\\": null}], \\\\\\\\\\\\\\\"inspectors\\\\\\\\\\\\\\\": [], \\\\\\\\\\\\\\\"meta\\\\\\\\\\\\\\\": {\\\\\\\\\\\\\\\"savedDatasetId\\\\\\\\\\\\\\\": \\\\\\\\\\\\\\\"8cf53863-8640-4eaf-a4d6-c8d88b392808\\\\\\\\\\\\\\\", \\\\\\\\\\\\\\\"datasetType\\\\\\\\\\\\\\\": \\\\\\\\\\\\\\\"tabular\\\\\\\\\\\\\\\", \\\\\\\\\\\\\\\"subscriptionId\\\\\\\\\\\\\\\": \\\\\\\\\\\\\\\"2c48c51c-bd47-40d4-abbe-fb8eabd19c8c\\\\\\\\\\\\\\\", \\\\\\\\\\\\\\\"workspaceId\\\\\\\\\\\\\\\": \\\\\\\\\\\\\\\"892f8e39-366b-4a28-a643-2b4ecceb9a20\\\\\\\\\\\\\\\", \\\\\\\\\\\\\\\"workspaceLocation\\\\\\\\\\\\\\\": \\\\\\\\\\\\\\\"southcentralus\\\\\\\\\\\\\\\"}}\\\\\\\", \\\\\\\"activities\\\\\\\": 0}\", \"EnableSubsampling\": null, \"runTemplate\": \"AutoML\", \"azureml.runsource\": \"automl\", \"display_task_type\": \"classification\", \"dependencies_versions\": \"{\\\"azureml-widgets\\\": \\\"1.19.0\\\", \\\"azureml-train\\\": \\\"1.19.0\\\", \\\"azureml-train-restclients-hyperdrive\\\": \\\"1.19.0\\\", \\\"azureml-train-core\\\": \\\"1.19.0\\\", \\\"azureml-train-automl\\\": \\\"1.19.0\\\", \\\"azureml-train-automl-runtime\\\": \\\"1.19.0\\\", \\\"azureml-train-automl-client\\\": \\\"1.19.0\\\", \\\"azureml-tensorboard\\\": \\\"1.19.0\\\", \\\"azureml-telemetry\\\": \\\"1.19.0\\\", \\\"azureml-sdk\\\": \\\"1.19.0\\\", \\\"azureml-samples\\\": \\\"0+unknown\\\", \\\"azureml-pipeline\\\": \\\"1.19.0\\\", \\\"azureml-pipeline-steps\\\": \\\"1.19.0\\\", \\\"azureml-pipeline-core\\\": \\\"1.19.0\\\", \\\"azureml-opendatasets\\\": \\\"1.19.0\\\", \\\"azureml-model-management-sdk\\\": \\\"1.0.1b6.post1\\\", \\\"azureml-mlflow\\\": \\\"1.19.0\\\", \\\"azureml-interpret\\\": \\\"1.19.0\\\", \\\"azureml-explain-model\\\": \\\"1.19.0\\\", \\\"azureml-defaults\\\": \\\"1.19.0\\\", \\\"azureml-dataset-runtime\\\": \\\"1.19.0.post1\\\", \\\"azureml-dataprep\\\": \\\"2.6.1\\\", \\\"azureml-dataprep-rslex\\\": \\\"1.4.0\\\", \\\"azureml-dataprep-native\\\": \\\"26.0.0\\\", \\\"azureml-datadrift\\\": \\\"1.19.0\\\", \\\"azureml-core\\\": \\\"1.20.0\\\", \\\"azureml-contrib-services\\\": \\\"1.19.0\\\", \\\"azureml-contrib-server\\\": \\\"1.19.0\\\", \\\"azureml-contrib-reinforcementlearning\\\": \\\"1.19.0\\\", \\\"azureml-contrib-pipeline-steps\\\": \\\"1.19.0\\\", \\\"azureml-contrib-notebook\\\": \\\"1.19.0\\\", \\\"azureml-contrib-interpret\\\": \\\"1.19.0\\\", \\\"azureml-contrib-gbdt\\\": \\\"1.19.0\\\", \\\"azureml-contrib-fairness\\\": \\\"1.19.0\\\", \\\"azureml-contrib-dataset\\\": \\\"1.19.0\\\", \\\"azureml-cli-common\\\": \\\"1.19.0\\\", \\\"azureml-automl-runtime\\\": \\\"1.19.0\\\", \\\"azureml-automl-core\\\": \\\"1.19.0\\\", \\\"azureml-accel-models\\\": \\\"1.19.0\\\"}\", \"_aml_system_scenario_identification\": \"Remote.Parent\", \"ClientType\": \"SDK\", \"environment_cpu_name\": \"AzureML-AutoML\", \"environment_cpu_label\": \"prod\", \"environment_gpu_name\": \"AzureML-AutoML-GPU\", \"environment_gpu_label\": \"prod\", \"root_attribution\": \"automl\", \"attribution\": \"AutoML\", \"Orchestrator\": \"AutoML\", \"CancelUri\": \"https://southcentralus.experiments.azureml.net/jasmine/v1.0/subscriptions/2c48c51c-bd47-40d4-abbe-fb8eabd19c8c/resourceGroups/aml-quickstarts-135918/providers/Microsoft.MachineLearningServices/workspaces/quick-starts-ws-135918/experimentids/e9ff75a5-a5b2-451b-b78f-88308e960b86/cancel/AutoML_26ea7617-8eef-4b0f-a17c-c79d471681b5\", \"ClientSdkVersion\": \"1.20.0\", \"snapshotId\": \"00000000-0000-0000-0000-000000000000\", \"SetupRunId\": \"AutoML_26ea7617-8eef-4b0f-a17c-c79d471681b5_setup\", \"SetupRunContainerId\": \"dcid.AutoML_26ea7617-8eef-4b0f-a17c-c79d471681b5_setup\", \"FeaturizationRunJsonPath\": \"featurizer_container.json\", \"FeaturizationRunId\": \"AutoML_26ea7617-8eef-4b0f-a17c-c79d471681b5_featurize\", \"ProblemInfoJsonString\": \"{\\\"dataset_num_categorical\\\": 0, \\\"is_sparse\\\": true, \\\"subsampling\\\": false, \\\"dataset_classes\\\": 2, \\\"dataset_features\\\": 27, \\\"dataset_samples\\\": 303, \\\"single_frequency_class_detected\\\": false}\", \"ModelExplainRunId\": \"AutoML_26ea7617-8eef-4b0f-a17c-c79d471681b5_ModelExplain\"}, \"tags\": {\"model_explain_run\": \"best_run\", \"_aml_system_azureml.automlComponent\": \"AutoML\", \"pipeline_id\": \"\", \"score\": \"\", \"predicted_cost\": \"\", \"fit_time\": \"\", \"training_percent\": \"\", \"iteration\": \"\", \"run_preprocessor\": \"\", \"run_algorithm\": \"\", \"dynamic_whitelisting_iterations\": \"<25>;<30>;<35>;\", \"automl_best_child_run_id\": \"AutoML_26ea7617-8eef-4b0f-a17c-c79d471681b5_38\", \"model_explain_best_run_child_id\": \"AutoML_26ea7617-8eef-4b0f-a17c-c79d471681b5_38\"}, \"end_time_utc\": \"2021-01-24T20:42:57.160752Z\", \"status\": \"Completed\", \"log_files\": {}, \"log_groups\": [], \"run_duration\": \"0:20:42\"}, \"child_runs\": [{\"run_id\": \"AutoML_26ea7617-8eef-4b0f-a17c-c79d471681b5_0\", \"run_number\": 93, \"metric\": null, \"status\": \"Completed\", \"run_type\": \"azureml.scriptrun\", \"training_percent\": \"100\", \"start_time\": \"2021-01-24T20:30:28.979878Z\", \"end_time\": \"2021-01-24T20:34:00.769021Z\", \"created_time\": \"2021-01-24T20:27:53.837629Z\", \"created_time_dt\": \"2021-01-24T20:27:53.837629Z\", \"duration\": \"0:06:06\", \"iteration\": \"0\", \"goal\": \"accuracy_max\", \"run_name\": \"MaxAbsScaler, LightGBM\", \"run_properties\": \"copy=True\", \"primary_metric\": 0.81150538, \"best_metric\": 0.81150538}, {\"run_id\": \"AutoML_26ea7617-8eef-4b0f-a17c-c79d471681b5_1\", \"run_number\": 94, \"metric\": null, \"status\": \"Completed\", \"run_type\": \"azureml.scriptrun\", \"training_percent\": \"100\", \"start_time\": \"2021-01-24T20:28:05.029824Z\", \"end_time\": \"2021-01-24T20:28:49.633765Z\", \"created_time\": \"2021-01-24T20:27:53.974802Z\", \"created_time_dt\": \"2021-01-24T20:27:53.974802Z\", \"duration\": \"0:00:55\", \"iteration\": \"1\", \"goal\": \"accuracy_max\", \"run_name\": \"MaxAbsScaler, XGBoostClassifier\", \"run_properties\": \"copy=True\", \"primary_metric\": 0.81795699, \"best_metric\": 0.81795699}, {\"run_id\": \"AutoML_26ea7617-8eef-4b0f-a17c-c79d471681b5_2\", \"run_number\": 95, \"metric\": null, \"status\": \"Completed\", \"run_type\": \"azureml.scriptrun\", \"training_percent\": \"100\", \"start_time\": \"2021-01-24T20:28:53.137528Z\", \"end_time\": \"2021-01-24T20:29:42.556938Z\", \"created_time\": \"2021-01-24T20:27:53.99362Z\", \"created_time_dt\": \"2021-01-24T20:27:53.99362Z\", \"duration\": \"0:01:48\", \"iteration\": \"2\", \"goal\": \"accuracy_max\", \"run_name\": \"MaxAbsScaler, RandomForest\", \"run_properties\": \"copy=True\", \"primary_metric\": 0.81784946, \"best_metric\": 0.81795699}, {\"run_id\": \"AutoML_26ea7617-8eef-4b0f-a17c-c79d471681b5_4\", \"run_number\": 96, \"metric\": null, \"status\": \"Completed\", \"run_type\": \"azureml.scriptrun\", \"training_percent\": \"100\", \"start_time\": \"2021-01-24T20:30:32.084366Z\", \"end_time\": \"2021-01-24T20:33:58.515787Z\", \"created_time\": \"2021-01-24T20:27:54.007769Z\", \"created_time_dt\": \"2021-01-24T20:27:54.007769Z\", \"duration\": \"0:06:04\", \"iteration\": \"4\", \"goal\": \"accuracy_max\", \"run_name\": \"MaxAbsScaler, RandomForest\", \"run_properties\": \"copy=True\", \"primary_metric\": 0.80483871, \"best_metric\": 0.81795699}, {\"run_id\": \"AutoML_26ea7617-8eef-4b0f-a17c-c79d471681b5_3\", \"run_number\": 97, \"metric\": null, \"status\": \"Completed\", \"run_type\": \"azureml.scriptrun\", \"training_percent\": \"100\", \"start_time\": \"2021-01-24T20:29:46.517408Z\", \"end_time\": \"2021-01-24T20:30:35.821737Z\", \"created_time\": \"2021-01-24T20:27:54.067945Z\", \"created_time_dt\": \"2021-01-24T20:27:54.067945Z\", \"duration\": \"0:02:41\", \"iteration\": \"3\", \"goal\": \"accuracy_max\", \"run_name\": \"MaxAbsScaler, RandomForest\", \"run_properties\": \"copy=True\", \"primary_metric\": 0.80516129, \"best_metric\": 0.81795699}, {\"run_id\": \"AutoML_26ea7617-8eef-4b0f-a17c-c79d471681b5_5\", \"run_number\": 98, \"metric\": null, \"status\": \"Completed\", \"run_type\": \"azureml.scriptrun\", \"training_percent\": \"100\", \"start_time\": \"2021-01-24T20:30:29.838036Z\", \"end_time\": \"2021-01-24T20:34:03.166328Z\", \"created_time\": \"2021-01-24T20:28:51.590269Z\", \"created_time_dt\": \"2021-01-24T20:28:51.590269Z\", \"duration\": \"0:05:11\", \"iteration\": \"5\", \"goal\": \"accuracy_max\", \"run_name\": \"MaxAbsScaler, RandomForest\", \"run_properties\": \"copy=True\", \"primary_metric\": 0.80483871, \"best_metric\": 0.81795699}, {\"run_id\": \"AutoML_26ea7617-8eef-4b0f-a17c-c79d471681b5_6\", \"run_number\": 99, \"metric\": null, \"status\": \"Completed\", \"run_type\": \"azureml.scriptrun\", \"training_percent\": \"100\", \"start_time\": \"2021-01-24T20:30:40.295252Z\", \"end_time\": \"2021-01-24T20:31:27.544949Z\", \"created_time\": \"2021-01-24T20:29:46.648133Z\", \"created_time_dt\": \"2021-01-24T20:29:46.648133Z\", \"duration\": \"0:01:40\", \"iteration\": \"6\", \"goal\": \"accuracy_max\", \"run_name\": \"StandardScalerWrapper, XGBoostClassifier\", \"run_properties\": \"<azureml.automl.runtime.shared.model_wrappers.StandardScalerWrapper object at 0x7fa526799908\", \"primary_metric\": 0.83451613, \"best_metric\": 0.83451613}, {\"run_id\": \"AutoML_26ea7617-8eef-4b0f-a17c-c79d471681b5_7\", \"run_number\": 100, \"metric\": null, \"status\": \"Completed\", \"run_type\": \"azureml.scriptrun\", \"training_percent\": \"100\", \"start_time\": \"2021-01-24T20:31:30.493999Z\", \"end_time\": \"2021-01-24T20:32:20.40672Z\", \"created_time\": \"2021-01-24T20:30:38.823575Z\", \"created_time_dt\": \"2021-01-24T20:30:38.823575Z\", \"duration\": \"0:01:41\", \"iteration\": \"7\", \"goal\": \"accuracy_max\", \"run_name\": \"SparseNormalizer, XGBoostClassifier\", \"run_properties\": \"<azureml.automl.runtime.shared.model_wrappers.SparseNormalizer object at 0x7fd226017a90\", \"primary_metric\": 0.81483871, \"best_metric\": 0.83451613}, {\"run_id\": \"AutoML_26ea7617-8eef-4b0f-a17c-c79d471681b5_8\", \"run_number\": 101, \"metric\": null, \"status\": \"Completed\", \"run_type\": \"azureml.scriptrun\", \"training_percent\": \"100\", \"start_time\": \"2021-01-24T20:32:26.356546Z\", \"end_time\": \"2021-01-24T20:33:21.460039Z\", \"created_time\": \"2021-01-24T20:31:30.750648Z\", \"created_time_dt\": \"2021-01-24T20:31:30.750648Z\", \"duration\": \"0:01:50\", \"iteration\": \"8\", \"goal\": \"accuracy_max\", \"run_name\": \"SparseNormalizer, XGBoostClassifier\", \"run_properties\": \"<azureml.automl.runtime.shared.model_wrappers.SparseNormalizer object at 0x7f58b9161e48\", \"primary_metric\": 0.82494624, \"best_metric\": 0.83451613}, {\"run_id\": \"AutoML_26ea7617-8eef-4b0f-a17c-c79d471681b5_9\", \"run_number\": 102, \"metric\": null, \"status\": \"Completed\", \"run_type\": \"azureml.scriptrun\", \"training_percent\": \"100\", \"start_time\": \"2021-01-24T20:33:26.960447Z\", \"end_time\": \"2021-01-24T20:34:20.888821Z\", \"created_time\": \"2021-01-24T20:32:23.089285Z\", \"created_time_dt\": \"2021-01-24T20:32:23.089285Z\", \"duration\": \"0:01:57\", \"iteration\": \"9\", \"goal\": \"accuracy_max\", \"run_name\": \"MaxAbsScaler, LogisticRegression\", \"run_properties\": \"copy=True\", \"primary_metric\": 0.82451613, \"best_metric\": 0.83451613}, {\"run_id\": \"AutoML_26ea7617-8eef-4b0f-a17c-c79d471681b5_10\", \"run_number\": 103, \"metric\": null, \"status\": \"Completed\", \"run_type\": \"azureml.scriptrun\", \"training_percent\": \"100\", \"start_time\": \"2021-01-24T20:33:58.765619Z\", \"end_time\": \"2021-01-24T20:34:48.506794Z\", \"created_time\": \"2021-01-24T20:33:24.061907Z\", \"created_time_dt\": \"2021-01-24T20:33:24.061907Z\", \"duration\": \"0:01:24\", \"iteration\": \"10\", \"goal\": \"accuracy_max\", \"run_name\": \"MaxAbsScaler, LogisticRegression\", \"run_properties\": \"copy=True\", \"primary_metric\": 0.83774194, \"best_metric\": 0.83774194}, {\"run_id\": \"AutoML_26ea7617-8eef-4b0f-a17c-c79d471681b5_11\", \"run_number\": 104, \"metric\": null, \"status\": \"Completed\", \"run_type\": \"azureml.scriptrun\", \"training_percent\": \"100\", \"start_time\": \"2021-01-24T20:34:11.724403Z\", \"end_time\": \"2021-01-24T20:35:02.627716Z\", \"created_time\": \"2021-01-24T20:34:01.004968Z\", \"created_time_dt\": \"2021-01-24T20:34:01.004968Z\", \"duration\": \"0:01:01\", \"iteration\": \"11\", \"goal\": \"accuracy_max\", \"run_name\": \"MaxAbsScaler, RandomForest\", \"run_properties\": \"copy=True\", \"primary_metric\": 0.80182796, \"best_metric\": 0.83774194}, {\"run_id\": \"AutoML_26ea7617-8eef-4b0f-a17c-c79d471681b5_12\", \"run_number\": 105, \"metric\": null, \"status\": \"Completed\", \"run_type\": \"azureml.scriptrun\", \"training_percent\": \"100\", \"start_time\": \"2021-01-24T20:34:17.613405Z\", \"end_time\": \"2021-01-24T20:35:03.776823Z\", \"created_time\": \"2021-01-24T20:34:05.288968Z\", \"created_time_dt\": \"2021-01-24T20:34:05.288968Z\", \"duration\": \"0:00:58\", \"iteration\": \"12\", \"goal\": \"accuracy_max\", \"run_name\": \"MaxAbsScaler, LightGBM\", \"run_properties\": \"copy=True\", \"primary_metric\": 0.83784946, \"best_metric\": 0.83784946}, {\"run_id\": \"AutoML_26ea7617-8eef-4b0f-a17c-c79d471681b5_13\", \"run_number\": 106, \"metric\": null, \"status\": \"Completed\", \"run_type\": \"azureml.scriptrun\", \"training_percent\": \"100\", \"start_time\": \"2021-01-24T20:34:22.976981Z\", \"end_time\": \"2021-01-24T20:35:11.762889Z\", \"created_time\": \"2021-01-24T20:34:05.485156Z\", \"created_time_dt\": \"2021-01-24T20:34:05.485156Z\", \"duration\": \"0:01:06\", \"iteration\": \"13\", \"goal\": \"accuracy_max\", \"run_name\": \"SparseNormalizer, XGBoostClassifier\", \"run_properties\": \"<azureml.automl.runtime.shared.model_wrappers.SparseNormalizer object at 0x7fba1c7b6d68\", \"primary_metric\": 0.81505376, \"best_metric\": 0.83784946}, {\"run_id\": \"AutoML_26ea7617-8eef-4b0f-a17c-c79d471681b5_14\", \"run_number\": 107, \"metric\": null, \"status\": \"Completed\", \"run_type\": \"azureml.scriptrun\", \"training_percent\": \"100\", \"start_time\": \"2021-01-24T20:34:53.451151Z\", \"end_time\": \"2021-01-24T20:35:41.81903Z\", \"created_time\": \"2021-01-24T20:34:23.640553Z\", \"created_time_dt\": \"2021-01-24T20:34:23.640553Z\", \"duration\": \"0:01:18\", \"iteration\": \"14\", \"goal\": \"accuracy_max\", \"run_name\": \"StandardScalerWrapper, RandomForest\", \"run_properties\": \"<azureml.automl.runtime.shared.model_wrappers.StandardScalerWrapper object at 0x7f51f2c108d0\", \"primary_metric\": 0.81150538, \"best_metric\": 0.83784946}, {\"run_id\": \"AutoML_26ea7617-8eef-4b0f-a17c-c79d471681b5_15\", \"run_number\": 108, \"metric\": null, \"status\": \"Completed\", \"run_type\": \"azureml.scriptrun\", \"training_percent\": \"100\", \"start_time\": \"2021-01-24T20:35:04.345335Z\", \"end_time\": \"2021-01-24T20:36:01.959767Z\", \"created_time\": \"2021-01-24T20:34:51.265881Z\", \"created_time_dt\": \"2021-01-24T20:34:51.265881Z\", \"duration\": \"0:01:10\", \"iteration\": \"15\", \"goal\": \"accuracy_max\", \"run_name\": \"MaxAbsScaler, RandomForest\", \"run_properties\": \"copy=True\", \"primary_metric\": 0.80150538, \"best_metric\": 0.83784946}, {\"run_id\": \"AutoML_26ea7617-8eef-4b0f-a17c-c79d471681b5_16\", \"run_number\": 109, \"metric\": null, \"status\": \"Completed\", \"run_type\": \"azureml.scriptrun\", \"training_percent\": \"100\", \"start_time\": \"2021-01-24T20:35:20.351395Z\", \"end_time\": \"2021-01-24T20:36:10.684221Z\", \"created_time\": \"2021-01-24T20:35:05.916551Z\", \"created_time_dt\": \"2021-01-24T20:35:05.916551Z\", \"duration\": \"0:01:04\", \"iteration\": \"16\", \"goal\": \"accuracy_max\", \"run_name\": \"SparseNormalizer, LightGBM\", \"run_properties\": \"<azureml.automl.runtime.shared.model_wrappers.SparseNormalizer object at 0x7f5dc1c06eb8\", \"primary_metric\": 0.84784946, \"best_metric\": 0.84784946}, {\"run_id\": \"AutoML_26ea7617-8eef-4b0f-a17c-c79d471681b5_17\", \"run_number\": 110, \"metric\": null, \"status\": \"Completed\", \"run_type\": \"azureml.scriptrun\", \"training_percent\": \"100\", \"start_time\": \"2021-01-24T20:35:25.026817Z\", \"end_time\": \"2021-01-24T20:36:28.130929Z\", \"created_time\": \"2021-01-24T20:35:12.297181Z\", \"created_time_dt\": \"2021-01-24T20:35:12.297181Z\", \"duration\": \"0:01:15\", \"iteration\": \"17\", \"goal\": \"accuracy_max\", \"run_name\": \"MaxAbsScaler, ExtremeRandomTrees\", \"run_properties\": \"copy=True\", \"primary_metric\": 0.81827957, \"best_metric\": 0.84784946}, {\"run_id\": \"AutoML_26ea7617-8eef-4b0f-a17c-c79d471681b5_18\", \"run_number\": 111, \"metric\": null, \"status\": \"Completed\", \"run_type\": \"azureml.scriptrun\", \"training_percent\": \"100\", \"start_time\": \"2021-01-24T20:35:46.331007Z\", \"end_time\": \"2021-01-24T20:36:48.835836Z\", \"created_time\": \"2021-01-24T20:35:19.103135Z\", \"created_time_dt\": \"2021-01-24T20:35:19.103135Z\", \"duration\": \"0:01:29\", \"iteration\": \"18\", \"goal\": \"accuracy_max\", \"run_name\": \"MaxAbsScaler, ExtremeRandomTrees\", \"run_properties\": \"copy=True\", \"primary_metric\": 0.84462366, \"best_metric\": 0.84784946}, {\"run_id\": \"AutoML_26ea7617-8eef-4b0f-a17c-c79d471681b5_19\", \"run_number\": 112, \"metric\": null, \"status\": \"Completed\", \"run_type\": \"azureml.scriptrun\", \"training_percent\": \"100\", \"start_time\": \"2021-01-24T20:36:04.372135Z\", \"end_time\": \"2021-01-24T20:36:52.184136Z\", \"created_time\": \"2021-01-24T20:35:44.703053Z\", \"created_time_dt\": \"2021-01-24T20:35:44.703053Z\", \"duration\": \"0:01:07\", \"iteration\": \"19\", \"goal\": \"accuracy_max\", \"run_name\": \"MaxAbsScaler, LightGBM\", \"run_properties\": \"copy=True\", \"primary_metric\": 0.84774194, \"best_metric\": 0.84784946}, {\"run_id\": \"AutoML_26ea7617-8eef-4b0f-a17c-c79d471681b5_20\", \"run_number\": 113, \"metric\": null, \"status\": \"Completed\", \"run_type\": \"azureml.scriptrun\", \"training_percent\": \"100\", \"start_time\": \"2021-01-24T20:36:16.766702Z\", \"end_time\": \"2021-01-24T20:37:01.349824Z\", \"created_time\": \"2021-01-24T20:36:04.612866Z\", \"created_time_dt\": \"2021-01-24T20:36:04.612866Z\", \"duration\": \"0:00:56\", \"iteration\": \"20\", \"goal\": \"accuracy_max\", \"run_name\": \"MaxAbsScaler, LightGBM\", \"run_properties\": \"copy=True\", \"primary_metric\": 0.83139785, \"best_metric\": 0.84784946}, {\"run_id\": \"AutoML_26ea7617-8eef-4b0f-a17c-c79d471681b5_21\", \"run_number\": 114, \"metric\": null, \"status\": \"Completed\", \"run_type\": \"azureml.scriptrun\", \"training_percent\": \"100\", \"start_time\": \"2021-01-24T20:36:34.497247Z\", \"end_time\": \"2021-01-24T20:37:29.165855Z\", \"created_time\": \"2021-01-24T20:36:13.291573Z\", \"created_time_dt\": \"2021-01-24T20:36:13.291573Z\", \"duration\": \"0:01:15\", \"iteration\": \"21\", \"goal\": \"accuracy_max\", \"run_name\": \"MaxAbsScaler, ExtremeRandomTrees\", \"run_properties\": \"copy=True\", \"primary_metric\": 0.83784946, \"best_metric\": 0.84784946}, {\"run_id\": \"AutoML_26ea7617-8eef-4b0f-a17c-c79d471681b5_22\", \"run_number\": 115, \"metric\": null, \"status\": \"Completed\", \"run_type\": \"azureml.scriptrun\", \"training_percent\": \"100\", \"start_time\": \"2021-01-24T20:36:54.012501Z\", \"end_time\": \"2021-01-24T20:37:53.738675Z\", \"created_time\": \"2021-01-24T20:36:30.970383Z\", \"created_time_dt\": \"2021-01-24T20:36:30.970383Z\", \"duration\": \"0:01:22\", \"iteration\": \"22\", \"goal\": \"accuracy_max\", \"run_name\": \"StandardScalerWrapper, XGBoostClassifier\", \"run_properties\": \"<azureml.automl.runtime.shared.model_wrappers.StandardScalerWrapper object at 0x7f555e71b278\", \"primary_metric\": 0.82150538, \"best_metric\": 0.84784946}, {\"run_id\": \"AutoML_26ea7617-8eef-4b0f-a17c-c79d471681b5_23\", \"run_number\": 116, \"metric\": null, \"status\": \"Completed\", \"run_type\": \"azureml.scriptrun\", \"training_percent\": \"100\", \"start_time\": \"2021-01-24T20:37:03.33312Z\", \"end_time\": \"2021-01-24T20:37:47.91505Z\", \"created_time\": \"2021-01-24T20:36:51.898839Z\", \"created_time_dt\": \"2021-01-24T20:36:51.898839Z\", \"duration\": \"0:00:56\", \"iteration\": \"23\", \"goal\": \"accuracy_max\", \"run_name\": \"SparseNormalizer, XGBoostClassifier\", \"run_properties\": \"<azureml.automl.runtime.shared.model_wrappers.SparseNormalizer object at 0x7f30ab91ca90\", \"primary_metric\": 0.82483871, \"best_metric\": 0.84784946}, {\"run_id\": \"AutoML_26ea7617-8eef-4b0f-a17c-c79d471681b5_24\", \"run_number\": 117, \"metric\": null, \"status\": \"Completed\", \"run_type\": \"azureml.scriptrun\", \"training_percent\": \"100\", \"start_time\": \"2021-01-24T20:37:15.305279Z\", \"end_time\": \"2021-01-24T20:38:11.822172Z\", \"created_time\": \"2021-01-24T20:36:59.040173Z\", \"created_time_dt\": \"2021-01-24T20:36:59.040173Z\", \"duration\": \"0:01:12\", \"iteration\": \"24\", \"goal\": \"accuracy_max\", \"run_name\": \"SparseNormalizer, XGBoostClassifier\", \"run_properties\": \"<azureml.automl.runtime.shared.model_wrappers.SparseNormalizer object at 0x7f6fc43d5780\", \"primary_metric\": 0.8311828, \"best_metric\": 0.84784946}, {\"run_id\": \"AutoML_26ea7617-8eef-4b0f-a17c-c79d471681b5_25\", \"run_number\": 118, \"metric\": null, \"status\": \"Completed\", \"run_type\": \"azureml.scriptrun\", \"training_percent\": \"100\", \"start_time\": \"2021-01-24T20:37:35.528781Z\", \"end_time\": \"2021-01-24T20:38:24.655016Z\", \"created_time\": \"2021-01-24T20:37:10.528969Z\", \"created_time_dt\": \"2021-01-24T20:37:10.528969Z\", \"duration\": \"0:01:14\", \"iteration\": \"25\", \"goal\": \"accuracy_max\", \"run_name\": \"SparseNormalizer, LightGBM\", \"run_properties\": \"<azureml.automl.runtime.shared.model_wrappers.SparseNormalizer object at 0x7efe4fec34e0\", \"primary_metric\": 0.79150538, \"best_metric\": 0.84784946}, {\"run_id\": \"AutoML_26ea7617-8eef-4b0f-a17c-c79d471681b5_26\", \"run_number\": 119, \"metric\": null, \"status\": \"Completed\", \"run_type\": \"azureml.scriptrun\", \"training_percent\": \"100\", \"start_time\": \"2021-01-24T20:37:50.267493Z\", \"end_time\": \"2021-01-24T20:38:41.597662Z\", \"created_time\": \"2021-01-24T20:37:31.908939Z\", \"created_time_dt\": \"2021-01-24T20:37:31.908939Z\", \"duration\": \"0:01:09\", \"iteration\": \"26\", \"goal\": \"accuracy_max\", \"run_name\": \"SparseNormalizer, LightGBM\", \"run_properties\": \"<azureml.automl.runtime.shared.model_wrappers.SparseNormalizer object at 0x7ff302daa4a8\", \"primary_metric\": 0.84129032, \"best_metric\": 0.84784946}, {\"run_id\": \"AutoML_26ea7617-8eef-4b0f-a17c-c79d471681b5_27\", \"run_number\": 120, \"metric\": null, \"status\": \"Completed\", \"run_type\": \"azureml.scriptrun\", \"training_percent\": \"100\", \"start_time\": \"2021-01-24T20:38:02.064002Z\", \"end_time\": \"2021-01-24T20:38:51.788516Z\", \"created_time\": \"2021-01-24T20:37:50.620873Z\", \"created_time_dt\": \"2021-01-24T20:37:50.620873Z\", \"duration\": \"0:01:01\", \"iteration\": \"27\", \"goal\": \"accuracy_max\", \"run_name\": \"StandardScalerWrapper, LightGBM\", \"run_properties\": \"<azureml.automl.runtime.shared.model_wrappers.StandardScalerWrapper object at 0x7fda9488c208\", \"primary_metric\": 0.81150538, \"best_metric\": 0.84784946}, {\"run_id\": \"AutoML_26ea7617-8eef-4b0f-a17c-c79d471681b5_28\", \"run_number\": 121, \"metric\": null, \"status\": \"Completed\", \"run_type\": \"azureml.scriptrun\", \"training_percent\": \"100\", \"start_time\": \"2021-01-24T20:38:25.636151Z\", \"end_time\": \"2021-01-24T20:39:09.848396Z\", \"created_time\": \"2021-01-24T20:37:56.675481Z\", \"created_time_dt\": \"2021-01-24T20:37:56.675481Z\", \"duration\": \"0:01:13\", \"iteration\": \"28\", \"goal\": \"accuracy_max\", \"run_name\": \"StandardScalerWrapper, ExtremeRandomTrees\", \"run_properties\": \"<azureml.automl.runtime.shared.model_wrappers.StandardScalerWrapper object at 0x7f2fbb6c1630\", \"primary_metric\": 0.83817204, \"best_metric\": 0.84784946}, {\"run_id\": \"AutoML_26ea7617-8eef-4b0f-a17c-c79d471681b5_29\", \"run_number\": 122, \"metric\": null, \"status\": \"Completed\", \"run_type\": \"azureml.scriptrun\", \"training_percent\": \"100\", \"start_time\": \"2021-01-24T20:38:29.29737Z\", \"end_time\": \"2021-01-24T20:39:20.394789Z\", \"created_time\": \"2021-01-24T20:38:14.409033Z\", \"created_time_dt\": \"2021-01-24T20:38:14.409033Z\", \"duration\": \"0:01:05\", \"iteration\": \"29\", \"goal\": \"accuracy_max\", \"run_name\": \"SparseNormalizer, XGBoostClassifier\", \"run_properties\": \"<azureml.automl.runtime.shared.model_wrappers.SparseNormalizer object at 0x7f425a8c60b8\", \"primary_metric\": 0.82150538, \"best_metric\": 0.84784946}, {\"run_id\": \"AutoML_26ea7617-8eef-4b0f-a17c-c79d471681b5_30\", \"run_number\": 123, \"metric\": null, \"status\": \"Completed\", \"run_type\": \"azureml.scriptrun\", \"training_percent\": \"100\", \"start_time\": \"2021-01-24T20:38:44.315362Z\", \"end_time\": \"2021-01-24T20:39:33.337225Z\", \"created_time\": \"2021-01-24T20:38:28.252889Z\", \"created_time_dt\": \"2021-01-24T20:38:28.252889Z\", \"duration\": \"0:01:05\", \"iteration\": \"30\", \"goal\": \"accuracy_max\", \"run_name\": \"StandardScalerWrapper, LightGBM\", \"run_properties\": \"<azureml.automl.runtime.shared.model_wrappers.StandardScalerWrapper object at 0x7fa90e62bac8\", \"primary_metric\": 0.82505376, \"best_metric\": 0.84784946}, {\"run_id\": \"AutoML_26ea7617-8eef-4b0f-a17c-c79d471681b5_31\", \"run_number\": 124, \"metric\": null, \"status\": \"Completed\", \"run_type\": \"azureml.scriptrun\", \"training_percent\": \"100\", \"start_time\": \"2021-01-24T20:38:57.658735Z\", \"end_time\": \"2021-01-24T20:39:46.179064Z\", \"created_time\": \"2021-01-24T20:38:44.251762Z\", \"created_time_dt\": \"2021-01-24T20:38:44.251762Z\", \"duration\": \"0:01:01\", \"iteration\": \"31\", \"goal\": \"accuracy_max\", \"run_name\": \"StandardScalerWrapper, LightGBM\", \"run_properties\": \"<azureml.automl.runtime.shared.model_wrappers.StandardScalerWrapper object at 0x7fe93f320128\", \"primary_metric\": 0.83806452, \"best_metric\": 0.84784946}, {\"run_id\": \"AutoML_26ea7617-8eef-4b0f-a17c-c79d471681b5_32\", \"run_number\": 125, \"metric\": null, \"status\": \"Completed\", \"run_type\": \"azureml.scriptrun\", \"training_percent\": \"100\", \"start_time\": \"2021-01-24T20:39:26.167872Z\", \"end_time\": \"2021-01-24T20:40:14.498366Z\", \"created_time\": \"2021-01-24T20:38:54.59017Z\", \"created_time_dt\": \"2021-01-24T20:38:54.59017Z\", \"duration\": \"0:01:19\", \"iteration\": \"32\", \"goal\": \"accuracy_max\", \"run_name\": \"StandardScalerWrapper, LogisticRegression\", \"run_properties\": \"<azureml.automl.runtime.shared.model_wrappers.StandardScalerWrapper object at 0x7f51344b3be0\", \"primary_metric\": 0.84139785, \"best_metric\": 0.84784946}, {\"run_id\": \"AutoML_26ea7617-8eef-4b0f-a17c-c79d471681b5_33\", \"run_number\": 126, \"metric\": null, \"status\": \"Completed\", \"run_type\": \"azureml.scriptrun\", \"training_percent\": \"100\", \"start_time\": \"2021-01-24T20:39:40.228859Z\", \"end_time\": \"2021-01-24T20:40:24.331089Z\", \"created_time\": \"2021-01-24T20:39:12.495278Z\", \"created_time_dt\": \"2021-01-24T20:39:12.495278Z\", \"duration\": \"0:01:11\", \"iteration\": \"33\", \"goal\": \"accuracy_max\", \"run_name\": \"StandardScalerWrapper, RandomForest\", \"run_properties\": \"<azureml.automl.runtime.shared.model_wrappers.StandardScalerWrapper object at 0x7f673e9ff9b0\", \"primary_metric\": 0.83473118, \"best_metric\": 0.84784946}, {\"run_id\": \"AutoML_26ea7617-8eef-4b0f-a17c-c79d471681b5_34\", \"run_number\": 127, \"metric\": null, \"status\": \"Canceled\", \"run_type\": \"azureml.scriptrun\", \"training_percent\": \"100\", \"start_time\": \"2021-01-24T20:39:38.488461Z\", \"end_time\": \"2021-01-24T20:40:28.104067Z\", \"created_time\": \"2021-01-24T20:39:22.801343Z\", \"created_time_dt\": \"2021-01-24T20:39:22.801343Z\", \"duration\": \"0:01:05\", \"iteration\": \"34\", \"goal\": \"accuracy_max\", \"run_name\": \"StandardScalerWrapper, LogisticRegression\", \"run_properties\": \"<azureml.automl.runtime.shared.model_wrappers.StandardScalerWrapper object at 0x7f049950c0f0\", \"primary_metric\": 0.82806452, \"best_metric\": 0.84784946}, {\"run_id\": \"AutoML_26ea7617-8eef-4b0f-a17c-c79d471681b5_35\", \"run_number\": 128, \"metric\": null, \"status\": \"Canceled\", \"run_type\": \"azureml.scriptrun\", \"training_percent\": \"100\", \"start_time\": \"2021-01-24T20:39:50.19206Z\", \"end_time\": \"2021-01-24T20:40:32.498602Z\", \"created_time\": \"2021-01-24T20:39:37.119995Z\", \"created_time_dt\": \"2021-01-24T20:39:37.119995Z\", \"duration\": \"0:00:55\", \"iteration\": \"35\", \"goal\": \"accuracy_max\", \"run_name\": \"StandardScalerWrapper, LightGBM\", \"run_properties\": \"<azureml.automl.runtime.shared.model_wrappers.StandardScalerWrapper object at 0x7f08267e4b00\", \"primary_metric\": 0.54462366, \"best_metric\": 0.84784946}, {\"run_id\": \"AutoML_26ea7617-8eef-4b0f-a17c-c79d471681b5_36\", \"run_number\": 129, \"metric\": null, \"status\": \"Canceled\", \"run_type\": \"azureml.scriptrun\", \"training_percent\": \"100\", \"start_time\": \"2021-01-24T20:40:21.843893Z\", \"end_time\": \"2021-01-24T20:40:31.967344Z\", \"created_time\": \"2021-01-24T20:39:48.804833Z\", \"created_time_dt\": \"2021-01-24T20:39:48.804833Z\", \"duration\": \"0:00:43\", \"iteration\": \"36\", \"goal\": null, \"run_name\": \"Canceled\", \"run_properties\": null}, {\"run_id\": \"AutoML_26ea7617-8eef-4b0f-a17c-c79d471681b5_37\", \"run_number\": 130, \"metric\": null, \"status\": \"Canceled\", \"run_type\": \"azureml.scriptrun\", \"training_percent\": \"100\", \"start_time\": \"2021-01-24T20:40:17.215334Z\", \"end_time\": \"2021-01-24T20:40:34.409142Z\", \"created_time\": \"2021-01-24T20:40:17.215334Z\", \"created_time_dt\": \"2021-01-24T20:40:17.215334Z\", \"duration\": \"0:00:17\", \"iteration\": \"37\", \"goal\": null, \"run_name\": \"Canceled\", \"run_properties\": null}, {\"run_id\": \"AutoML_26ea7617-8eef-4b0f-a17c-c79d471681b5_38\", \"run_number\": 131, \"metric\": null, \"status\": \"Completed\", \"run_type\": \"azureml.scriptrun\", \"training_percent\": \"100\", \"start_time\": \"2021-01-24T20:40:49.172239Z\", \"end_time\": \"2021-01-24T20:42:47.000567Z\", \"created_time\": \"2021-01-24T20:40:36.171824Z\", \"created_time_dt\": \"2021-01-24T20:40:36.171824Z\", \"duration\": \"0:02:10\", \"iteration\": \"38\", \"goal\": \"accuracy_max\", \"run_name\": \"VotingEnsemble\", \"run_properties\": \"classification_labels=None,\\n                              estimators=[('16',\\n                                           Pipeline(memory=None,\\n                                                    steps=[('sparsenormalizer',\\n                                                            <azureml.automl.runtime.shared.model_wrappers.SparseNormalizer object at 0x7f1e544e9780>\", \"primary_metric\": 0.8644086, \"best_metric\": 0.8644086}], \"children_metrics\": {\"categories\": [0], \"series\": {\"f1_score_macro\": [{\"categories\": [\"0\", \"1\", \"2\", \"3\", \"4\", \"5\", \"6\", \"7\", \"8\", \"9\", \"10\", \"11\", \"12\", \"13\", \"14\", \"15\", \"16\", \"17\", \"18\", \"19\", \"20\", \"21\", \"22\", \"23\", \"24\", \"25\", \"26\", \"27\", \"28\", \"29\", \"30\", \"31\", \"32\", \"33\", \"34\", \"35\", \"38\"], \"mode\": \"markers\", \"name\": \"f1_score_macro\", \"stepped\": false, \"type\": \"scatter\", \"data\": [0.8051086915482137, 0.8105255180161939, 0.8105992066405374, 0.7980138983220079, 0.7968833906028949, 0.8014320047739464, 0.829365524713854, 0.8083819697147516, 0.8190612238155885, 0.8197400879889594, 0.8316260876459627, 0.7945921783203115, 0.8329792776932573, 0.811024262899358, 0.8042725422601349, 0.7953713430240045, 0.8423555021056067, 0.8109159130378947, 0.8395284167844119, 0.8434310132709413, 0.8242340629051201, 0.8323204531669411, 0.8148829574557401, 0.8204677814684265, 0.8253165859948167, 0.7754167193051396, 0.8355606962882144, 0.8044994199854953, 0.8326651537738305, 0.8153155498409557, 0.8164942129880209, 0.8316508998895873, 0.8361892429395559, 0.8301241559433385, 0.8212259613756643, 0.35133378648162716, 0.8591690876176153]}, {\"categories\": [\"0\", \"1\", \"2\", \"3\", \"4\", \"5\", \"6\", \"7\", \"8\", \"9\", \"10\", \"11\", \"12\", \"13\", \"14\", \"15\", \"16\", \"17\", \"18\", \"19\", \"20\", \"21\", \"22\", \"23\", \"24\", \"25\", \"26\", \"27\", \"28\", \"29\", \"30\", \"31\", \"32\", \"33\", \"34\", \"35\", \"38\"], \"mode\": \"lines\", \"name\": \"f1_score_macro_max\", \"stepped\": true, \"type\": \"scatter\", \"data\": [0.8051086915482137, 0.8105255180161939, 0.8105992066405374, 0.8105992066405374, 0.8105992066405374, 0.8105992066405374, 0.829365524713854, 0.829365524713854, 0.829365524713854, 0.829365524713854, 0.8316260876459627, 0.8316260876459627, 0.8329792776932573, 0.8329792776932573, 0.8329792776932573, 0.8329792776932573, 0.8423555021056067, 0.8423555021056067, 0.8423555021056067, 0.8434310132709413, 0.8434310132709413, 0.8434310132709413, 0.8434310132709413, 0.8434310132709413, 0.8434310132709413, 0.8434310132709413, 0.8434310132709413, 0.8434310132709413, 0.8434310132709413, 0.8434310132709413, 0.8434310132709413, 0.8434310132709413, 0.8434310132709413, 0.8434310132709413, 0.8434310132709413, 0.8434310132709413, 0.8591690876176153]}], \"AUC_macro\": [{\"categories\": [\"0\", \"1\", \"2\", \"3\", \"4\", \"5\", \"6\", \"7\", \"8\", \"9\", \"10\", \"11\", \"12\", \"13\", \"14\", \"15\", \"16\", \"17\", \"18\", \"19\", \"20\", \"21\", \"22\", \"23\", \"24\", \"25\", \"26\", \"27\", \"28\", \"29\", \"30\", \"31\", \"32\", \"33\", \"34\", \"35\", \"38\"], \"mode\": \"markers\", \"name\": \"AUC_macro\", \"stepped\": false, \"type\": \"scatter\", \"data\": [0.8828390759710418, 0.889146318736876, 0.8968664392596282, 0.8803402305898436, 0.9056652597774887, 0.8867846866612347, 0.9027415881618668, 0.8953810401987647, 0.8926452342663642, 0.9092835189692774, 0.9089021774006294, 0.8906142207322549, 0.9160682309892836, 0.8838963371366623, 0.9029263043458091, 0.8892092240977689, 0.9164491391391545, 0.901966242964695, 0.9117709841185073, 0.9153559271682337, 0.9122891803615488, 0.9153925289536744, 0.8999485883340371, 0.8900034838026324, 0.8961122565228603, 0.8956555742445834, 0.905463499377586, 0.8916575826993783, 0.9019317107041565, 0.8935396902933668, 0.8863034665855872, 0.9037719502003558, 0.9088222496314602, 0.9113435304948462, 0.9018360301835535, 0.882934757780346, 0.9189946385743599]}, {\"categories\": [\"0\", \"1\", \"2\", \"3\", \"4\", \"5\", \"6\", \"7\", \"8\", \"9\", \"10\", \"11\", \"12\", \"13\", \"14\", \"15\", \"16\", \"17\", \"18\", \"19\", \"20\", \"21\", \"22\", \"23\", \"24\", \"25\", \"26\", \"27\", \"28\", \"29\", \"30\", \"31\", \"32\", \"33\", \"34\", \"35\", \"38\"], \"mode\": \"lines\", \"name\": \"AUC_macro_max\", \"stepped\": true, \"type\": \"scatter\", \"data\": [0.8828390759710418, 0.889146318736876, 0.8968664392596282, 0.8968664392596282, 0.9056652597774887, 0.9056652597774887, 0.9056652597774887, 0.9056652597774887, 0.9056652597774887, 0.9092835189692774, 0.9092835189692774, 0.9092835189692774, 0.9160682309892836, 0.9160682309892836, 0.9160682309892836, 0.9160682309892836, 0.9164491391391545, 0.9164491391391545, 0.9164491391391545, 0.9164491391391545, 0.9164491391391545, 0.9164491391391545, 0.9164491391391545, 0.9164491391391545, 0.9164491391391545, 0.9164491391391545, 0.9164491391391545, 0.9164491391391545, 0.9164491391391545, 0.9164491391391545, 0.9164491391391545, 0.9164491391391545, 0.9164491391391545, 0.9164491391391545, 0.9164491391391545, 0.9164491391391545, 0.9189946385743599]}], \"f1_score_micro\": [{\"categories\": [\"0\", \"1\", \"2\", \"3\", \"4\", \"5\", \"6\", \"7\", \"8\", \"9\", \"10\", \"11\", \"12\", \"13\", \"14\", \"15\", \"16\", \"17\", \"18\", \"19\", \"20\", \"21\", \"22\", \"23\", \"24\", \"25\", \"26\", \"27\", \"28\", \"29\", \"30\", \"31\", \"32\", \"33\", \"34\", \"35\", \"38\"], \"mode\": \"markers\", \"name\": \"f1_score_micro\", \"stepped\": false, \"type\": \"scatter\", \"data\": [0.811505376344086, 0.8179569892473119, 0.8178494623655913, 0.8051612903225808, 0.8048387096774194, 0.8048387096774194, 0.8345161290322581, 0.8148387096774196, 0.82494623655914, 0.824516129032258, 0.8377419354838709, 0.8018279569892475, 0.8378494623655917, 0.8150537634408602, 0.811505376344086, 0.8015053763440859, 0.8478494623655916, 0.8182795698924732, 0.8446236559139786, 0.8477419354838711, 0.8313978494623656, 0.8378494623655917, 0.8215053763440862, 0.8248387096774193, 0.8311827956989248, 0.791505376344086, 0.8412903225806451, 0.811505376344086, 0.8381720430107528, 0.8215053763440862, 0.8250537634408601, 0.8380645161290323, 0.8413978494623657, 0.8347311827956991, 0.8280645161290321, 0.5446236559139785, 0.8644086021505377]}, {\"categories\": [\"0\", \"1\", \"2\", \"3\", \"4\", \"5\", \"6\", \"7\", \"8\", \"9\", \"10\", \"11\", \"12\", \"13\", \"14\", \"15\", \"16\", \"17\", \"18\", \"19\", \"20\", \"21\", \"22\", \"23\", \"24\", \"25\", \"26\", \"27\", \"28\", \"29\", \"30\", \"31\", \"32\", \"33\", \"34\", \"35\", \"38\"], \"mode\": \"lines\", \"name\": \"f1_score_micro_max\", \"stepped\": true, \"type\": \"scatter\", \"data\": [0.811505376344086, 0.8179569892473119, 0.8179569892473119, 0.8179569892473119, 0.8179569892473119, 0.8179569892473119, 0.8345161290322581, 0.8345161290322581, 0.8345161290322581, 0.8345161290322581, 0.8377419354838709, 0.8377419354838709, 0.8378494623655917, 0.8378494623655917, 0.8378494623655917, 0.8378494623655917, 0.8478494623655916, 0.8478494623655916, 0.8478494623655916, 0.8478494623655916, 0.8478494623655916, 0.8478494623655916, 0.8478494623655916, 0.8478494623655916, 0.8478494623655916, 0.8478494623655916, 0.8478494623655916, 0.8478494623655916, 0.8478494623655916, 0.8478494623655916, 0.8478494623655916, 0.8478494623655916, 0.8478494623655916, 0.8478494623655916, 0.8478494623655916, 0.8478494623655916, 0.8644086021505377]}], \"recall_score_macro\": [{\"categories\": [\"0\", \"1\", \"2\", \"3\", \"4\", \"5\", \"6\", \"7\", \"8\", \"9\", \"10\", \"11\", \"12\", \"13\", \"14\", \"15\", \"16\", \"17\", \"18\", \"19\", \"20\", \"21\", \"22\", \"23\", \"24\", \"25\", \"26\", \"27\", \"28\", \"29\", \"30\", \"31\", \"32\", \"33\", \"34\", \"35\", \"38\"], \"mode\": \"markers\", \"name\": \"recall_score_macro\", \"stepped\": false, \"type\": \"scatter\", \"data\": [0.8071990726421842, 0.8115750673045564, 0.8114310680719351, 0.7974225765634434, 0.7986587964838738, 0.8038865088729639, 0.8309206726795735, 0.8113458980390096, 0.820165895336174, 0.8235733745099069, 0.834891793577939, 0.7997447633206147, 0.8330336261605609, 0.8137091402319729, 0.8066012238535457, 0.7974765585291901, 0.8415533630026666, 0.8110164570981133, 0.8406531806686605, 0.8431949670126915, 0.8240298478611173, 0.8341161117863904, 0.8146184566637352, 0.8221625843626617, 0.8252157678492816, 0.7768909094431541, 0.8341586283943094, 0.8052361467222149, 0.834770827727484, 0.8151588394835297, 0.8162541105265564, 0.8313547932975178, 0.8381971666104793, 0.8312146178554848, 0.8236014896696012, 0.5, 0.8586994522075792]}, {\"categories\": [\"0\", \"1\", \"2\", \"3\", \"4\", \"5\", \"6\", \"7\", \"8\", \"9\", \"10\", \"11\", \"12\", \"13\", \"14\", \"15\", \"16\", \"17\", \"18\", \"19\", \"20\", \"21\", \"22\", \"23\", \"24\", \"25\", \"26\", \"27\", \"28\", \"29\", \"30\", \"31\", \"32\", \"33\", \"34\", \"35\", \"38\"], \"mode\": \"lines\", \"name\": \"recall_score_macro_max\", \"stepped\": true, \"type\": \"scatter\", \"data\": [0.8071990726421842, 0.8115750673045564, 0.8115750673045564, 0.8115750673045564, 0.8115750673045564, 0.8115750673045564, 0.8309206726795735, 0.8309206726795735, 0.8309206726795735, 0.8309206726795735, 0.834891793577939, 0.834891793577939, 0.834891793577939, 0.834891793577939, 0.834891793577939, 0.834891793577939, 0.8415533630026666, 0.8415533630026666, 0.8415533630026666, 0.8431949670126915, 0.8431949670126915, 0.8431949670126915, 0.8431949670126915, 0.8431949670126915, 0.8431949670126915, 0.8431949670126915, 0.8431949670126915, 0.8431949670126915, 0.8431949670126915, 0.8431949670126915, 0.8431949670126915, 0.8431949670126915, 0.8431949670126915, 0.8431949670126915, 0.8431949670126915, 0.8431949670126915, 0.8586994522075792]}], \"log_loss\": [{\"categories\": [\"0\", \"1\", \"2\", \"3\", \"4\", \"5\", \"6\", \"7\", \"8\", \"9\", \"10\", \"11\", \"12\", \"13\", \"14\", \"15\", \"16\", \"17\", \"18\", \"19\", \"20\", \"21\", \"22\", \"23\", \"24\", \"25\", \"26\", \"27\", \"28\", \"29\", \"30\", \"31\", \"32\", \"33\", \"34\", \"35\", \"38\"], \"mode\": \"markers\", \"name\": \"log_loss\", \"stepped\": false, \"type\": \"scatter\", \"data\": [0.5268000663868162, 0.4398173368615275, 0.4134463897029554, 0.43624399758535526, 0.4030891496305119, 0.46136196761137355, 0.38891753986772565, 0.4299948254194906, 0.40531750932743915, 0.39797671269340607, 0.39627574270422505, 0.42685279941145715, 0.403728882258272, 0.5019803165313736, 0.407649139780053, 0.43213569273671953, 0.3729928874129473, 0.42271751342564434, 0.3930523391335642, 0.42996524898657984, 0.43463115219407616, 0.4026778519691573, 0.44718062687268495, 0.42365303131743764, 0.4062723456979434, 0.5785769377786419, 0.4200735339843578, 0.4805073883899199, 0.4282345998551847, 0.4455806932892772, 0.5524463296608528, 0.3963888495167728, 0.4002589117550116, 0.4198714872493533, 0.42858431097810923, 0.6702128434506451, 0.37948539548112664]}, {\"categories\": [\"0\", \"1\", \"2\", \"3\", \"4\", \"5\", \"6\", \"7\", \"8\", \"9\", \"10\", \"11\", \"12\", \"13\", \"14\", \"15\", \"16\", \"17\", \"18\", \"19\", \"20\", \"21\", \"22\", \"23\", \"24\", \"25\", \"26\", \"27\", \"28\", \"29\", \"30\", \"31\", \"32\", \"33\", \"34\", \"35\", \"38\"], \"mode\": \"lines\", \"name\": \"log_loss_min\", \"stepped\": true, \"type\": \"scatter\", \"data\": [0.5268000663868162, 0.4398173368615275, 0.4134463897029554, 0.4134463897029554, 0.4030891496305119, 0.4030891496305119, 0.38891753986772565, 0.38891753986772565, 0.38891753986772565, 0.38891753986772565, 0.38891753986772565, 0.38891753986772565, 0.38891753986772565, 0.38891753986772565, 0.38891753986772565, 0.38891753986772565, 0.3729928874129473, 0.3729928874129473, 0.3729928874129473, 0.3729928874129473, 0.3729928874129473, 0.3729928874129473, 0.3729928874129473, 0.3729928874129473, 0.3729928874129473, 0.3729928874129473, 0.3729928874129473, 0.3729928874129473, 0.3729928874129473, 0.3729928874129473, 0.3729928874129473, 0.3729928874129473, 0.3729928874129473, 0.3729928874129473, 0.3729928874129473, 0.3729928874129473, 0.3729928874129473]}], \"recall_score_micro\": [{\"categories\": [\"0\", \"1\", \"2\", \"3\", \"4\", \"5\", \"6\", \"7\", \"8\", \"9\", \"10\", \"11\", \"12\", \"13\", \"14\", \"15\", \"16\", \"17\", \"18\", \"19\", \"20\", \"21\", \"22\", \"23\", \"24\", \"25\", \"26\", \"27\", \"28\", \"29\", \"30\", \"31\", \"32\", \"33\", \"34\", \"35\", \"38\"], \"mode\": \"markers\", \"name\": \"recall_score_micro\", \"stepped\": false, \"type\": \"scatter\", \"data\": [0.811505376344086, 0.8179569892473119, 0.8178494623655913, 0.8051612903225808, 0.8048387096774192, 0.8048387096774194, 0.8345161290322581, 0.8148387096774196, 0.82494623655914, 0.824516129032258, 0.8377419354838709, 0.8018279569892475, 0.8378494623655917, 0.8150537634408602, 0.811505376344086, 0.8015053763440859, 0.8478494623655916, 0.8182795698924732, 0.8446236559139786, 0.8477419354838711, 0.8313978494623656, 0.8378494623655917, 0.8215053763440862, 0.8248387096774193, 0.8311827956989246, 0.791505376344086, 0.8412903225806451, 0.811505376344086, 0.8381720430107528, 0.821505376344086, 0.8250537634408601, 0.8380645161290323, 0.8413978494623657, 0.8347311827956989, 0.8280645161290321, 0.5446236559139785, 0.8644086021505377]}, {\"categories\": [\"0\", \"1\", \"2\", \"3\", \"4\", \"5\", \"6\", \"7\", \"8\", \"9\", \"10\", \"11\", \"12\", \"13\", \"14\", \"15\", \"16\", \"17\", \"18\", \"19\", \"20\", \"21\", \"22\", \"23\", \"24\", \"25\", \"26\", \"27\", \"28\", \"29\", \"30\", \"31\", \"32\", \"33\", \"34\", \"35\", \"38\"], \"mode\": \"lines\", \"name\": \"recall_score_micro_max\", \"stepped\": true, \"type\": \"scatter\", \"data\": [0.811505376344086, 0.8179569892473119, 0.8179569892473119, 0.8179569892473119, 0.8179569892473119, 0.8179569892473119, 0.8345161290322581, 0.8345161290322581, 0.8345161290322581, 0.8345161290322581, 0.8377419354838709, 0.8377419354838709, 0.8378494623655917, 0.8378494623655917, 0.8378494623655917, 0.8378494623655917, 0.8478494623655916, 0.8478494623655916, 0.8478494623655916, 0.8478494623655916, 0.8478494623655916, 0.8478494623655916, 0.8478494623655916, 0.8478494623655916, 0.8478494623655916, 0.8478494623655916, 0.8478494623655916, 0.8478494623655916, 0.8478494623655916, 0.8478494623655916, 0.8478494623655916, 0.8478494623655916, 0.8478494623655916, 0.8478494623655916, 0.8478494623655916, 0.8478494623655916, 0.8644086021505377]}], \"AUC_micro\": [{\"categories\": [\"0\", \"1\", \"2\", \"3\", \"4\", \"5\", \"6\", \"7\", \"8\", \"9\", \"10\", \"11\", \"12\", \"13\", \"14\", \"15\", \"16\", \"17\", \"18\", \"19\", \"20\", \"21\", \"22\", \"23\", \"24\", \"25\", \"26\", \"27\", \"28\", \"29\", \"30\", \"31\", \"32\", \"33\", \"34\", \"35\", \"38\"], \"mode\": \"markers\", \"name\": \"AUC_micro\", \"stepped\": false, \"type\": \"scatter\", \"data\": [0.8751829113192275, 0.8874298762862759, 0.8994882645392531, 0.8807207769684358, 0.9030772343623539, 0.8818865764828304, 0.9031953983119434, 0.8931601341195513, 0.8966433113654757, 0.9039979188345473, 0.9048938605619146, 0.8845673488264539, 0.9138709677419354, 0.8858125794889583, 0.9000190773499828, 0.8883452422245346, 0.9122924037460978, 0.8965727829806914, 0.9068938605619147, 0.9125006359116663, 0.910890276332524, 0.9082307781246388, 0.9002729795352064, 0.8921071800208116, 0.8933488264539253, 0.8698461093768067, 0.9048461093768065, 0.8942023355301192, 0.8951653370331829, 0.8929907503757659, 0.8757577754653717, 0.9022236096658574, 0.9061372412995723, 0.9083735691987513, 0.8974458318880794, 0.7312296219216095, 0.9164353104405134]}, {\"categories\": [\"0\", \"1\", \"2\", \"3\", \"4\", \"5\", \"6\", \"7\", \"8\", \"9\", \"10\", \"11\", \"12\", \"13\", \"14\", \"15\", \"16\", \"17\", \"18\", \"19\", \"20\", \"21\", \"22\", \"23\", \"24\", \"25\", \"26\", \"27\", \"28\", \"29\", \"30\", \"31\", \"32\", \"33\", \"34\", \"35\", \"38\"], \"mode\": \"lines\", \"name\": \"AUC_micro_max\", \"stepped\": true, \"type\": \"scatter\", \"data\": [0.8751829113192275, 0.8874298762862759, 0.8994882645392531, 0.8994882645392531, 0.9030772343623539, 0.9030772343623539, 0.9031953983119434, 0.9031953983119434, 0.9031953983119434, 0.9039979188345473, 0.9048938605619146, 0.9048938605619146, 0.9138709677419354, 0.9138709677419354, 0.9138709677419354, 0.9138709677419354, 0.9138709677419354, 0.9138709677419354, 0.9138709677419354, 0.9138709677419354, 0.9138709677419354, 0.9138709677419354, 0.9138709677419354, 0.9138709677419354, 0.9138709677419354, 0.9138709677419354, 0.9138709677419354, 0.9138709677419354, 0.9138709677419354, 0.9138709677419354, 0.9138709677419354, 0.9138709677419354, 0.9138709677419354, 0.9138709677419354, 0.9138709677419354, 0.9138709677419354, 0.9164353104405134]}], \"recall_score_weighted\": [{\"categories\": [\"0\", \"1\", \"2\", \"3\", \"4\", \"5\", \"6\", \"7\", \"8\", \"9\", \"10\", \"11\", \"12\", \"13\", \"14\", \"15\", \"16\", \"17\", \"18\", \"19\", \"20\", \"21\", \"22\", \"23\", \"24\", \"25\", \"26\", \"27\", \"28\", \"29\", \"30\", \"31\", \"32\", \"33\", \"34\", \"35\", \"38\"], \"mode\": \"markers\", \"name\": \"recall_score_weighted\", \"stepped\": false, \"type\": \"scatter\", \"data\": [0.811505376344086, 0.8179569892473119, 0.8178494623655913, 0.8051612903225808, 0.8048387096774192, 0.8048387096774194, 0.8345161290322581, 0.8148387096774196, 0.82494623655914, 0.824516129032258, 0.8377419354838709, 0.8018279569892475, 0.8378494623655917, 0.8150537634408602, 0.811505376344086, 0.8015053763440859, 0.8478494623655916, 0.8182795698924732, 0.8446236559139786, 0.8477419354838711, 0.8313978494623656, 0.8378494623655917, 0.8215053763440862, 0.8248387096774193, 0.8311827956989246, 0.791505376344086, 0.8412903225806451, 0.811505376344086, 0.8381720430107528, 0.821505376344086, 0.8250537634408601, 0.8380645161290323, 0.8413978494623657, 0.8347311827956989, 0.8280645161290321, 0.5446236559139785, 0.8644086021505377]}, {\"categories\": [\"0\", \"1\", \"2\", \"3\", \"4\", \"5\", \"6\", \"7\", \"8\", \"9\", \"10\", \"11\", \"12\", \"13\", \"14\", \"15\", \"16\", \"17\", \"18\", \"19\", \"20\", \"21\", \"22\", \"23\", \"24\", \"25\", \"26\", \"27\", \"28\", \"29\", \"30\", \"31\", \"32\", \"33\", \"34\", \"35\", \"38\"], \"mode\": \"lines\", \"name\": \"recall_score_weighted_max\", \"stepped\": true, \"type\": \"scatter\", \"data\": [0.811505376344086, 0.8179569892473119, 0.8179569892473119, 0.8179569892473119, 0.8179569892473119, 0.8179569892473119, 0.8345161290322581, 0.8345161290322581, 0.8345161290322581, 0.8345161290322581, 0.8377419354838709, 0.8377419354838709, 0.8378494623655917, 0.8378494623655917, 0.8378494623655917, 0.8378494623655917, 0.8478494623655916, 0.8478494623655916, 0.8478494623655916, 0.8478494623655916, 0.8478494623655916, 0.8478494623655916, 0.8478494623655916, 0.8478494623655916, 0.8478494623655916, 0.8478494623655916, 0.8478494623655916, 0.8478494623655916, 0.8478494623655916, 0.8478494623655916, 0.8478494623655916, 0.8478494623655916, 0.8478494623655916, 0.8478494623655916, 0.8478494623655916, 0.8478494623655916, 0.8644086021505377]}], \"precision_score_weighted\": [{\"categories\": [\"0\", \"1\", \"2\", \"3\", \"4\", \"5\", \"6\", \"7\", \"8\", \"9\", \"10\", \"11\", \"12\", \"13\", \"14\", \"15\", \"16\", \"17\", \"18\", \"19\", \"20\", \"21\", \"22\", \"23\", \"24\", \"25\", \"26\", \"27\", \"28\", \"29\", \"30\", \"31\", \"32\", \"33\", \"34\", \"35\", \"38\"], \"mode\": \"markers\", \"name\": \"precision_score_weighted\", \"stepped\": false, \"type\": \"scatter\", \"data\": [0.8262799266252276, 0.8259051766115084, 0.8249628709506771, 0.8099679088789739, 0.810727916886897, 0.809562270665961, 0.841859698773361, 0.8226287109826009, 0.8296684143742967, 0.8358953888194873, 0.8468948611389312, 0.8184713697261005, 0.8443666597651417, 0.8252494820969429, 0.8173353232788717, 0.8076038252017852, 0.8506826775375161, 0.8231283979774566, 0.8518465651939635, 0.8521450172481956, 0.8343750773174398, 0.8448624906613521, 0.829617282045126, 0.8306984274685887, 0.8333542413381123, 0.8169692477832647, 0.8445847729296494, 0.8196468839020022, 0.8466153097085005, 0.825280536457007, 0.8367558966993703, 0.8436795127660155, 0.8476503654473294, 0.841840585393242, 0.8369156215766436, 0.301213203838594, 0.8676501962792285]}, {\"categories\": [\"0\", \"1\", \"2\", \"3\", \"4\", \"5\", \"6\", \"7\", \"8\", \"9\", \"10\", \"11\", \"12\", \"13\", \"14\", \"15\", \"16\", \"17\", \"18\", \"19\", \"20\", \"21\", \"22\", \"23\", \"24\", \"25\", \"26\", \"27\", \"28\", \"29\", \"30\", \"31\", \"32\", \"33\", \"34\", \"35\", \"38\"], \"mode\": \"lines\", \"name\": \"precision_score_weighted_max\", \"stepped\": true, \"type\": \"scatter\", \"data\": [0.8262799266252276, 0.8262799266252276, 0.8262799266252276, 0.8262799266252276, 0.8262799266252276, 0.8262799266252276, 0.841859698773361, 0.841859698773361, 0.841859698773361, 0.841859698773361, 0.8468948611389312, 0.8468948611389312, 0.8468948611389312, 0.8468948611389312, 0.8468948611389312, 0.8468948611389312, 0.8506826775375161, 0.8506826775375161, 0.8518465651939635, 0.8521450172481956, 0.8521450172481956, 0.8521450172481956, 0.8521450172481956, 0.8521450172481956, 0.8521450172481956, 0.8521450172481956, 0.8521450172481956, 0.8521450172481956, 0.8521450172481956, 0.8521450172481956, 0.8521450172481956, 0.8521450172481956, 0.8521450172481956, 0.8521450172481956, 0.8521450172481956, 0.8521450172481956, 0.8676501962792285]}], \"AUC_weighted\": [{\"categories\": [\"0\", \"1\", \"2\", \"3\", \"4\", \"5\", \"6\", \"7\", \"8\", \"9\", \"10\", \"11\", \"12\", \"13\", \"14\", \"15\", \"16\", \"17\", \"18\", \"19\", \"20\", \"21\", \"22\", \"23\", \"24\", \"25\", \"26\", \"27\", \"28\", \"29\", \"30\", \"31\", \"32\", \"33\", \"34\", \"35\", \"38\"], \"mode\": \"markers\", \"name\": \"AUC_weighted\", \"stepped\": false, \"type\": \"scatter\", \"data\": [0.8828390759710418, 0.889146318736876, 0.8968664392596282, 0.8803402305898436, 0.9056652597774889, 0.8867846866612347, 0.9027415881618668, 0.8953810401987647, 0.8926452342663642, 0.9092835189692774, 0.9089021774006296, 0.8906142207322549, 0.9160682309892836, 0.8838963371366623, 0.9029263043458091, 0.8892092240977689, 0.9164491391391545, 0.901966242964695, 0.9117709841185073, 0.9153559271682337, 0.9122891803615488, 0.9153925289536744, 0.8999485883340371, 0.8900034838026325, 0.8961122565228603, 0.8956555742445834, 0.905463499377586, 0.8916575826993783, 0.9019317107041565, 0.8935396902933668, 0.8863034665855872, 0.9037719502003558, 0.9088222496314602, 0.9113435304948462, 0.9018360301835535, 0.882934757780346, 0.9189946385743599]}, {\"categories\": [\"0\", \"1\", \"2\", \"3\", \"4\", \"5\", \"6\", \"7\", \"8\", \"9\", \"10\", \"11\", \"12\", \"13\", \"14\", \"15\", \"16\", \"17\", \"18\", \"19\", \"20\", \"21\", \"22\", \"23\", \"24\", \"25\", \"26\", \"27\", \"28\", \"29\", \"30\", \"31\", \"32\", \"33\", \"34\", \"35\", \"38\"], \"mode\": \"lines\", \"name\": \"AUC_weighted_max\", \"stepped\": true, \"type\": \"scatter\", \"data\": [0.8828390759710418, 0.889146318736876, 0.8968664392596282, 0.8968664392596282, 0.9056652597774889, 0.9056652597774889, 0.9056652597774889, 0.9056652597774889, 0.9056652597774889, 0.9092835189692774, 0.9092835189692774, 0.9092835189692774, 0.9160682309892836, 0.9160682309892836, 0.9160682309892836, 0.9160682309892836, 0.9164491391391545, 0.9164491391391545, 0.9164491391391545, 0.9164491391391545, 0.9164491391391545, 0.9164491391391545, 0.9164491391391545, 0.9164491391391545, 0.9164491391391545, 0.9164491391391545, 0.9164491391391545, 0.9164491391391545, 0.9164491391391545, 0.9164491391391545, 0.9164491391391545, 0.9164491391391545, 0.9164491391391545, 0.9164491391391545, 0.9164491391391545, 0.9164491391391545, 0.9189946385743599]}], \"balanced_accuracy\": [{\"categories\": [\"0\", \"1\", \"2\", \"3\", \"4\", \"5\", \"6\", \"7\", \"8\", \"9\", \"10\", \"11\", \"12\", \"13\", \"14\", \"15\", \"16\", \"17\", \"18\", \"19\", \"20\", \"21\", \"22\", \"23\", \"24\", \"25\", \"26\", \"27\", \"28\", \"29\", \"30\", \"31\", \"32\", \"33\", \"34\", \"35\", \"38\"], \"mode\": \"markers\", \"name\": \"balanced_accuracy\", \"stepped\": false, \"type\": \"scatter\", \"data\": [0.8071990726421842, 0.8115750673045564, 0.8114310680719351, 0.7974225765634434, 0.7986587964838738, 0.8038865088729639, 0.8309206726795735, 0.8113458980390096, 0.820165895336174, 0.8235733745099069, 0.834891793577939, 0.7997447633206147, 0.8330336261605609, 0.8137091402319729, 0.8066012238535457, 0.7974765585291901, 0.8415533630026666, 0.8110164570981133, 0.8406531806686605, 0.8431949670126915, 0.8240298478611173, 0.8341161117863904, 0.8146184566637352, 0.8221625843626617, 0.8252157678492816, 0.7768909094431541, 0.8341586283943094, 0.8052361467222149, 0.834770827727484, 0.8151588394835297, 0.8162541105265564, 0.8313547932975178, 0.8381971666104793, 0.8312146178554848, 0.8236014896696012, 0.5, 0.8586994522075792]}, {\"categories\": [\"0\", \"1\", \"2\", \"3\", \"4\", \"5\", \"6\", \"7\", \"8\", \"9\", \"10\", \"11\", \"12\", \"13\", \"14\", \"15\", \"16\", \"17\", \"18\", \"19\", \"20\", \"21\", \"22\", \"23\", \"24\", \"25\", \"26\", \"27\", \"28\", \"29\", \"30\", \"31\", \"32\", \"33\", \"34\", \"35\", \"38\"], \"mode\": \"lines\", \"name\": \"balanced_accuracy_max\", \"stepped\": true, \"type\": \"scatter\", \"data\": [0.8071990726421842, 0.8115750673045564, 0.8115750673045564, 0.8115750673045564, 0.8115750673045564, 0.8115750673045564, 0.8309206726795735, 0.8309206726795735, 0.8309206726795735, 0.8309206726795735, 0.834891793577939, 0.834891793577939, 0.834891793577939, 0.834891793577939, 0.834891793577939, 0.834891793577939, 0.8415533630026666, 0.8415533630026666, 0.8415533630026666, 0.8431949670126915, 0.8431949670126915, 0.8431949670126915, 0.8431949670126915, 0.8431949670126915, 0.8431949670126915, 0.8431949670126915, 0.8431949670126915, 0.8431949670126915, 0.8431949670126915, 0.8431949670126915, 0.8431949670126915, 0.8431949670126915, 0.8431949670126915, 0.8431949670126915, 0.8431949670126915, 0.8431949670126915, 0.8586994522075792]}], \"average_precision_score_weighted\": [{\"categories\": [\"0\", \"1\", \"2\", \"3\", \"4\", \"5\", \"6\", \"7\", \"8\", \"9\", \"10\", \"11\", \"12\", \"13\", \"14\", \"15\", \"16\", \"17\", \"18\", \"19\", \"20\", \"21\", \"22\", \"23\", \"24\", \"25\", \"26\", \"27\", \"28\", \"29\", \"30\", \"31\", \"32\", \"33\", \"34\", \"35\", \"38\"], \"mode\": \"markers\", \"name\": \"average_precision_score_weighted\", \"stepped\": false, \"type\": \"scatter\", \"data\": [0.8919494524740141, 0.9010638342497428, 0.9064040848966979, 0.8898706048022037, 0.9154838405580057, 0.8938695235485415, 0.9113627350993196, 0.9042621410403593, 0.9021693034862018, 0.9139515084634338, 0.9131642736836844, 0.8993494697387001, 0.9200873684402622, 0.8816203617860608, 0.9105169961075836, 0.8978931607896758, 0.9209799374099056, 0.908826951683628, 0.9175483558050619, 0.9195276965123359, 0.9181225945504007, 0.9206802627427203, 0.9032852315793564, 0.8946035661275615, 0.9001541523234792, 0.9044964519134217, 0.9128033174185957, 0.9002373853932003, 0.9085420235288147, 0.8973637803006562, 0.8853448258704854, 0.9117447835325805, 0.9128125074762661, 0.9170973342760878, 0.907996186642019, 0.8919563227488838, 0.9245399372671029]}, {\"categories\": [\"0\", \"1\", \"2\", \"3\", \"4\", \"5\", \"6\", \"7\", \"8\", \"9\", \"10\", \"11\", \"12\", \"13\", \"14\", \"15\", \"16\", \"17\", \"18\", \"19\", \"20\", \"21\", \"22\", \"23\", \"24\", \"25\", \"26\", \"27\", \"28\", \"29\", \"30\", \"31\", \"32\", \"33\", \"34\", \"35\", \"38\"], \"mode\": \"lines\", \"name\": \"average_precision_score_weighted_max\", \"stepped\": true, \"type\": \"scatter\", \"data\": [0.8919494524740141, 0.9010638342497428, 0.9064040848966979, 0.9064040848966979, 0.9154838405580057, 0.9154838405580057, 0.9154838405580057, 0.9154838405580057, 0.9154838405580057, 0.9154838405580057, 0.9154838405580057, 0.9154838405580057, 0.9200873684402622, 0.9200873684402622, 0.9200873684402622, 0.9200873684402622, 0.9209799374099056, 0.9209799374099056, 0.9209799374099056, 0.9209799374099056, 0.9209799374099056, 0.9209799374099056, 0.9209799374099056, 0.9209799374099056, 0.9209799374099056, 0.9209799374099056, 0.9209799374099056, 0.9209799374099056, 0.9209799374099056, 0.9209799374099056, 0.9209799374099056, 0.9209799374099056, 0.9209799374099056, 0.9209799374099056, 0.9209799374099056, 0.9209799374099056, 0.9245399372671029]}], \"norm_macro_recall\": [{\"categories\": [\"0\", \"1\", \"2\", \"3\", \"4\", \"5\", \"6\", \"7\", \"8\", \"9\", \"10\", \"11\", \"12\", \"13\", \"14\", \"15\", \"16\", \"17\", \"18\", \"19\", \"20\", \"21\", \"22\", \"23\", \"24\", \"25\", \"26\", \"27\", \"28\", \"29\", \"30\", \"31\", \"32\", \"33\", \"34\", \"35\", \"38\"], \"mode\": \"markers\", \"name\": \"norm_macro_recall\", \"stepped\": false, \"type\": \"scatter\", \"data\": [0.6143981452843683, 0.623150134609113, 0.62286213614387, 0.5948451531268868, 0.5973175929677478, 0.607773017745928, 0.6618413453591472, 0.622691796078019, 0.6403317906723479, 0.6471467490198141, 0.6697835871558782, 0.5994895266412293, 0.6660672523211223, 0.6274182804639461, 0.6132024477070916, 0.5949531170583803, 0.6831067260053328, 0.6220329141962269, 0.681306361337321, 0.686389934025383, 0.6480596957222344, 0.6682322235727809, 0.6292369133274707, 0.6443251687253235, 0.6504315356985636, 0.553781818886308, 0.668317256788619, 0.6104722934444297, 0.6695416554549681, 0.6303176789670598, 0.6325082210531127, 0.6627095865950355, 0.6763943332209585, 0.6624292357109695, 0.6472029793392022, 0.0, 0.7173989044151583]}, {\"categories\": [\"0\", \"1\", \"2\", \"3\", \"4\", \"5\", \"6\", \"7\", \"8\", \"9\", \"10\", \"11\", \"12\", \"13\", \"14\", \"15\", \"16\", \"17\", \"18\", \"19\", \"20\", \"21\", \"22\", \"23\", \"24\", \"25\", \"26\", \"27\", \"28\", \"29\", \"30\", \"31\", \"32\", \"33\", \"34\", \"35\", \"38\"], \"mode\": \"lines\", \"name\": \"norm_macro_recall_max\", \"stepped\": true, \"type\": \"scatter\", \"data\": [0.6143981452843683, 0.623150134609113, 0.623150134609113, 0.623150134609113, 0.623150134609113, 0.623150134609113, 0.6618413453591472, 0.6618413453591472, 0.6618413453591472, 0.6618413453591472, 0.6697835871558782, 0.6697835871558782, 0.6697835871558782, 0.6697835871558782, 0.6697835871558782, 0.6697835871558782, 0.6831067260053328, 0.6831067260053328, 0.6831067260053328, 0.686389934025383, 0.686389934025383, 0.686389934025383, 0.686389934025383, 0.686389934025383, 0.686389934025383, 0.686389934025383, 0.686389934025383, 0.686389934025383, 0.686389934025383, 0.686389934025383, 0.686389934025383, 0.686389934025383, 0.686389934025383, 0.686389934025383, 0.686389934025383, 0.686389934025383, 0.7173989044151583]}], \"weighted_accuracy\": [{\"categories\": [\"0\", \"1\", \"2\", \"3\", \"4\", \"5\", \"6\", \"7\", \"8\", \"9\", \"10\", \"11\", \"12\", \"13\", \"14\", \"15\", \"16\", \"17\", \"18\", \"19\", \"20\", \"21\", \"22\", \"23\", \"24\", \"25\", \"26\", \"27\", \"28\", \"29\", \"30\", \"31\", \"32\", \"33\", \"34\", \"35\", \"38\"], \"mode\": \"markers\", \"name\": \"weighted_accuracy\", \"stepped\": false, \"type\": \"scatter\", \"data\": [0.815316867788248, 0.8236140706065846, 0.8233986057979681, 0.8118602167637338, 0.8101439153348998, 0.8055867445165168, 0.8376822552758576, 0.8178767856733324, 0.8291055102600584, 0.82533403235954, 0.840300250569158, 0.8034180339383246, 0.8421712010006128, 0.815917853504672, 0.815855987130724, 0.8049588323186585, 0.8534845588750049, 0.8244099523014332, 0.8479046529376651, 0.8517717104244529, 0.8379357722605333, 0.8410249048323069, 0.8274192267659906, 0.8270941012484403, 0.8365452094473158, 0.8045724015172425, 0.84751709933198, 0.8169402654370087, 0.8408585412056258, 0.8269947216434181, 0.832588211306079, 0.8439699259626192, 0.8441522221551112, 0.8377540722465916, 0.8320747446290545, 0.5842748958320289, 0.8694715934943718]}, {\"categories\": [\"0\", \"1\", \"2\", \"3\", \"4\", \"5\", \"6\", \"7\", \"8\", \"9\", \"10\", \"11\", \"12\", \"13\", \"14\", \"15\", \"16\", \"17\", \"18\", \"19\", \"20\", \"21\", \"22\", \"23\", \"24\", \"25\", \"26\", \"27\", \"28\", \"29\", \"30\", \"31\", \"32\", \"33\", \"34\", \"35\", \"38\"], \"mode\": \"lines\", \"name\": \"weighted_accuracy_max\", \"stepped\": true, \"type\": \"scatter\", \"data\": [0.815316867788248, 0.8236140706065846, 0.8236140706065846, 0.8236140706065846, 0.8236140706065846, 0.8236140706065846, 0.8376822552758576, 0.8376822552758576, 0.8376822552758576, 0.8376822552758576, 0.840300250569158, 0.840300250569158, 0.8421712010006128, 0.8421712010006128, 0.8421712010006128, 0.8421712010006128, 0.8534845588750049, 0.8534845588750049, 0.8534845588750049, 0.8534845588750049, 0.8534845588750049, 0.8534845588750049, 0.8534845588750049, 0.8534845588750049, 0.8534845588750049, 0.8534845588750049, 0.8534845588750049, 0.8534845588750049, 0.8534845588750049, 0.8534845588750049, 0.8534845588750049, 0.8534845588750049, 0.8534845588750049, 0.8534845588750049, 0.8534845588750049, 0.8534845588750049, 0.8694715934943718]}], \"f1_score_weighted\": [{\"categories\": [\"0\", \"1\", \"2\", \"3\", \"4\", \"5\", \"6\", \"7\", \"8\", \"9\", \"10\", \"11\", \"12\", \"13\", \"14\", \"15\", \"16\", \"17\", \"18\", \"19\", \"20\", \"21\", \"22\", \"23\", \"24\", \"25\", \"26\", \"27\", \"28\", \"29\", \"30\", \"31\", \"32\", \"33\", \"34\", \"35\", \"38\"], \"mode\": \"markers\", \"name\": \"f1_score_weighted\", \"stepped\": false, \"type\": \"scatter\", \"data\": [0.8098393982665282, 0.8159674257271587, 0.8160948630937211, 0.8040517382428505, 0.8031724400848314, 0.8049763831448145, 0.833595951046993, 0.8138029575350736, 0.8240699761376205, 0.8235975457452753, 0.8361288626438149, 0.7996979281320566, 0.8371238810813436, 0.8145258695862699, 0.8100193212450705, 0.8003254542554883, 0.8468085620609946, 0.816759258335698, 0.8437661649706364, 0.8473547193248393, 0.829350080624843, 0.8367654838286287, 0.820062392250928, 0.824709202212437, 0.8305155517050278, 0.7829639648154108, 0.8401805117038311, 0.8098718322290276, 0.8371138700823162, 0.8206150299612915, 0.8221494258037128, 0.8367456467905493, 0.8407216188296527, 0.8339730677392174, 0.825931340822368, 0.38657973886470265, 0.8633902531174356]}, {\"categories\": [\"0\", \"1\", \"2\", \"3\", \"4\", \"5\", \"6\", \"7\", \"8\", \"9\", \"10\", \"11\", \"12\", \"13\", \"14\", \"15\", \"16\", \"17\", \"18\", \"19\", \"20\", \"21\", \"22\", \"23\", \"24\", \"25\", \"26\", \"27\", \"28\", \"29\", \"30\", \"31\", \"32\", \"33\", \"34\", \"35\", \"38\"], \"mode\": \"lines\", \"name\": \"f1_score_weighted_max\", \"stepped\": true, \"type\": \"scatter\", \"data\": [0.8098393982665282, 0.8159674257271587, 0.8160948630937211, 0.8160948630937211, 0.8160948630937211, 0.8160948630937211, 0.833595951046993, 0.833595951046993, 0.833595951046993, 0.833595951046993, 0.8361288626438149, 0.8361288626438149, 0.8371238810813436, 0.8371238810813436, 0.8371238810813436, 0.8371238810813436, 0.8468085620609946, 0.8468085620609946, 0.8468085620609946, 0.8473547193248393, 0.8473547193248393, 0.8473547193248393, 0.8473547193248393, 0.8473547193248393, 0.8473547193248393, 0.8473547193248393, 0.8473547193248393, 0.8473547193248393, 0.8473547193248393, 0.8473547193248393, 0.8473547193248393, 0.8473547193248393, 0.8473547193248393, 0.8473547193248393, 0.8473547193248393, 0.8473547193248393, 0.8633902531174356]}], \"precision_score_macro\": [{\"categories\": [\"0\", \"1\", \"2\", \"3\", \"4\", \"5\", \"6\", \"7\", \"8\", \"9\", \"10\", \"11\", \"12\", \"13\", \"14\", \"15\", \"16\", \"17\", \"18\", \"19\", \"20\", \"21\", \"22\", \"23\", \"24\", \"25\", \"26\", \"27\", \"28\", \"29\", \"30\", \"31\", \"32\", \"33\", \"34\", \"35\", \"38\"], \"mode\": \"markers\", \"name\": \"precision_score_macro\", \"stepped\": false, \"type\": \"scatter\", \"data\": [0.8214211740701678, 0.8219988224709587, 0.8210685425349243, 0.80608889785638, 0.804960169128967, 0.803595236677667, 0.8372907239819003, 0.8155585631688572, 0.8246887793578971, 0.8296990509490509, 0.8414657931937345, 0.8112301678351115, 0.841438708350473, 0.8198761148122603, 0.8113865587027351, 0.8021581523052111, 0.8483241453249193, 0.8195466648504575, 0.8475563308380647, 0.8492197630800572, 0.8318822435734201, 0.8401861904435434, 0.8271120395772099, 0.8251283397974574, 0.8290307682083997, 0.8186057118499575, 0.84279064889359, 0.8152350534742177, 0.8416129569156559, 0.8213020141193516, 0.8351258283340327, 0.8409357053858333, 0.8421996304349246, 0.8379625888817067, 0.8329435572242477, 0.27231182795698927, 0.8651802467398442]}, {\"categories\": [\"0\", \"1\", \"2\", \"3\", \"4\", \"5\", \"6\", \"7\", \"8\", \"9\", \"10\", \"11\", \"12\", \"13\", \"14\", \"15\", \"16\", \"17\", \"18\", \"19\", \"20\", \"21\", \"22\", \"23\", \"24\", \"25\", \"26\", \"27\", \"28\", \"29\", \"30\", \"31\", \"32\", \"33\", \"34\", \"35\", \"38\"], \"mode\": \"lines\", \"name\": \"precision_score_macro_max\", \"stepped\": true, \"type\": \"scatter\", \"data\": [0.8214211740701678, 0.8219988224709587, 0.8219988224709587, 0.8219988224709587, 0.8219988224709587, 0.8219988224709587, 0.8372907239819003, 0.8372907239819003, 0.8372907239819003, 0.8372907239819003, 0.8414657931937345, 0.8414657931937345, 0.8414657931937345, 0.8414657931937345, 0.8414657931937345, 0.8414657931937345, 0.8483241453249193, 0.8483241453249193, 0.8483241453249193, 0.8492197630800572, 0.8492197630800572, 0.8492197630800572, 0.8492197630800572, 0.8492197630800572, 0.8492197630800572, 0.8492197630800572, 0.8492197630800572, 0.8492197630800572, 0.8492197630800572, 0.8492197630800572, 0.8492197630800572, 0.8492197630800572, 0.8492197630800572, 0.8492197630800572, 0.8492197630800572, 0.8492197630800572, 0.8651802467398442]}], \"average_precision_score_macro\": [{\"categories\": [\"0\", \"1\", \"2\", \"3\", \"4\", \"5\", \"6\", \"7\", \"8\", \"9\", \"10\", \"11\", \"12\", \"13\", \"14\", \"15\", \"16\", \"17\", \"18\", \"19\", \"20\", \"21\", \"22\", \"23\", \"24\", \"25\", \"26\", \"27\", \"28\", \"29\", \"30\", \"31\", \"32\", \"33\", \"34\", \"35\", \"38\"], \"mode\": \"markers\", \"name\": \"average_precision_score_macro\", \"stepped\": false, \"type\": \"scatter\", \"data\": [0.8867812599152358, 0.8970532796237158, 0.9028753117555046, 0.8850520721907355, 0.9121572431551546, 0.8900520492067792, 0.9073821866680405, 0.8997647254760068, 0.8981509376860469, 0.9102203333238318, 0.9095378771886125, 0.8957377565367557, 0.9164122994080826, 0.8776503622158591, 0.9067805055443341, 0.8941673945323231, 0.9179206275353442, 0.9049855494133039, 0.9138086474595528, 0.9158454135024598, 0.9148929513350842, 0.9173547778576863, 0.9000807993835827, 0.8910604058340305, 0.8953874397795921, 0.9009112532104002, 0.9100739310403931, 0.8959099283328749, 0.9043956712768594, 0.8934220831979566, 0.8812962704718743, 0.9088499995711773, 0.9089330251338141, 0.9141074685763646, 0.9040799101079469, 0.8871084151279284, 0.9213318644465931]}, {\"categories\": [\"0\", \"1\", \"2\", \"3\", \"4\", \"5\", \"6\", \"7\", \"8\", \"9\", \"10\", \"11\", \"12\", \"13\", \"14\", \"15\", \"16\", \"17\", \"18\", \"19\", \"20\", \"21\", \"22\", \"23\", \"24\", \"25\", \"26\", \"27\", \"28\", \"29\", \"30\", \"31\", \"32\", \"33\", \"34\", \"35\", \"38\"], \"mode\": \"lines\", \"name\": \"average_precision_score_macro_max\", \"stepped\": true, \"type\": \"scatter\", \"data\": [0.8867812599152358, 0.8970532796237158, 0.9028753117555046, 0.9028753117555046, 0.9121572431551546, 0.9121572431551546, 0.9121572431551546, 0.9121572431551546, 0.9121572431551546, 0.9121572431551546, 0.9121572431551546, 0.9121572431551546, 0.9164122994080826, 0.9164122994080826, 0.9164122994080826, 0.9164122994080826, 0.9179206275353442, 0.9179206275353442, 0.9179206275353442, 0.9179206275353442, 0.9179206275353442, 0.9179206275353442, 0.9179206275353442, 0.9179206275353442, 0.9179206275353442, 0.9179206275353442, 0.9179206275353442, 0.9179206275353442, 0.9179206275353442, 0.9179206275353442, 0.9179206275353442, 0.9179206275353442, 0.9179206275353442, 0.9179206275353442, 0.9179206275353442, 0.9179206275353442, 0.9213318644465931]}], \"average_precision_score_micro\": [{\"categories\": [\"0\", \"1\", \"2\", \"3\", \"4\", \"5\", \"6\", \"7\", \"8\", \"9\", \"10\", \"11\", \"12\", \"13\", \"14\", \"15\", \"16\", \"17\", \"18\", \"19\", \"20\", \"21\", \"22\", \"23\", \"24\", \"25\", \"26\", \"27\", \"28\", \"29\", \"30\", \"31\", \"32\", \"33\", \"34\", \"35\", \"38\"], \"mode\": \"markers\", \"name\": \"average_precision_score_micro\", \"stepped\": false, \"type\": \"scatter\", \"data\": [0.8785300785590453, 0.895605229754536, 0.9025174179362232, 0.8831534533941842, 0.9080205998157316, 0.8824755076254979, 0.9067738116828494, 0.8986726563403169, 0.8986853991576556, 0.9051759787574593, 0.9054532051598223, 0.8891743079862662, 0.9136045956391801, 0.8807646888034432, 0.9026355687919855, 0.8922684889776047, 0.9126936229673458, 0.8982159211631222, 0.9083415285561017, 0.9113041264801038, 0.9109943905261281, 0.9078325485560393, 0.8983330670282401, 0.8903708807497848, 0.8933931954359986, 0.8723436501591735, 0.9057795032072298, 0.8962081414820264, 0.8958978387724482, 0.8908027909210091, 0.8729277667644861, 0.9030999167488435, 0.9059010111426102, 0.9083216643925696, 0.8995533979608155, 0.7618672722636778, 0.917211989861574]}, {\"categories\": [\"0\", \"1\", \"2\", \"3\", \"4\", \"5\", \"6\", \"7\", \"8\", \"9\", \"10\", \"11\", \"12\", \"13\", \"14\", \"15\", \"16\", \"17\", \"18\", \"19\", \"20\", \"21\", \"22\", \"23\", \"24\", \"25\", \"26\", \"27\", \"28\", \"29\", \"30\", \"31\", \"32\", \"33\", \"34\", \"35\", \"38\"], \"mode\": \"lines\", \"name\": \"average_precision_score_micro_max\", \"stepped\": true, \"type\": \"scatter\", \"data\": [0.8785300785590453, 0.895605229754536, 0.9025174179362232, 0.9025174179362232, 0.9080205998157316, 0.9080205998157316, 0.9080205998157316, 0.9080205998157316, 0.9080205998157316, 0.9080205998157316, 0.9080205998157316, 0.9080205998157316, 0.9136045956391801, 0.9136045956391801, 0.9136045956391801, 0.9136045956391801, 0.9136045956391801, 0.9136045956391801, 0.9136045956391801, 0.9136045956391801, 0.9136045956391801, 0.9136045956391801, 0.9136045956391801, 0.9136045956391801, 0.9136045956391801, 0.9136045956391801, 0.9136045956391801, 0.9136045956391801, 0.9136045956391801, 0.9136045956391801, 0.9136045956391801, 0.9136045956391801, 0.9136045956391801, 0.9136045956391801, 0.9136045956391801, 0.9136045956391801, 0.917211989861574]}], \"matthews_correlation\": [{\"categories\": [\"0\", \"1\", \"2\", \"3\", \"4\", \"5\", \"6\", \"7\", \"8\", \"9\", \"10\", \"11\", \"12\", \"13\", \"14\", \"15\", \"16\", \"17\", \"18\", \"19\", \"20\", \"21\", \"22\", \"23\", \"24\", \"25\", \"26\", \"27\", \"28\", \"29\", \"30\", \"31\", \"32\", \"33\", \"34\", \"35\", \"38\"], \"mode\": \"markers\", \"name\": \"matthews_correlation\", \"stepped\": false, \"type\": \"scatter\", \"data\": [0.6281999109043686, 0.6331746195926933, 0.6320792689323458, 0.603231029759318, 0.60327765225673, 0.6074129529607035, 0.6680279826242291, 0.6267572091964622, 0.6447015214265523, 0.6530329380638245, 0.6760334325911457, 0.6104049857152587, 0.6741842157793023, 0.633418719450171, 0.617692122429477, 0.5994094055679375, 0.6897273979689612, 0.6300193635873302, 0.6880778068340486, 0.692215087085344, 0.6557048220655171, 0.6740318181181388, 0.6410264732263975, 0.6471800128348112, 0.6541896781894074, 0.5930470114559815, 0.6767762341148506, 0.620332103402545, 0.6760822518396266, 0.6363128668883465, 0.6506606813871854, 0.6718535816864922, 0.6802058929215393, 0.6689749163930688, 0.6559758185804049, 0.0, 0.7237246703046771]}, {\"categories\": [\"0\", \"1\", \"2\", \"3\", \"4\", \"5\", \"6\", \"7\", \"8\", \"9\", \"10\", \"11\", \"12\", \"13\", \"14\", \"15\", \"16\", \"17\", \"18\", \"19\", \"20\", \"21\", \"22\", \"23\", \"24\", \"25\", \"26\", \"27\", \"28\", \"29\", \"30\", \"31\", \"32\", \"33\", \"34\", \"35\", \"38\"], \"mode\": \"lines\", \"name\": \"matthews_correlation_max\", \"stepped\": true, \"type\": \"scatter\", \"data\": [0.6281999109043686, 0.6331746195926933, 0.6331746195926933, 0.6331746195926933, 0.6331746195926933, 0.6331746195926933, 0.6680279826242291, 0.6680279826242291, 0.6680279826242291, 0.6680279826242291, 0.6760334325911457, 0.6760334325911457, 0.6760334325911457, 0.6760334325911457, 0.6760334325911457, 0.6760334325911457, 0.6897273979689612, 0.6897273979689612, 0.6897273979689612, 0.692215087085344, 0.692215087085344, 0.692215087085344, 0.692215087085344, 0.692215087085344, 0.692215087085344, 0.692215087085344, 0.692215087085344, 0.692215087085344, 0.692215087085344, 0.692215087085344, 0.692215087085344, 0.692215087085344, 0.692215087085344, 0.692215087085344, 0.692215087085344, 0.692215087085344, 0.7237246703046771]}], \"precision_score_micro\": [{\"categories\": [\"0\", \"1\", \"2\", \"3\", \"4\", \"5\", \"6\", \"7\", \"8\", \"9\", \"10\", \"11\", \"12\", \"13\", \"14\", \"15\", \"16\", \"17\", \"18\", \"19\", \"20\", \"21\", \"22\", \"23\", \"24\", \"25\", \"26\", \"27\", \"28\", \"29\", \"30\", \"31\", \"32\", \"33\", \"34\", \"35\", \"38\"], \"mode\": \"markers\", \"name\": \"precision_score_micro\", \"stepped\": false, \"type\": \"scatter\", \"data\": [0.811505376344086, 0.8179569892473119, 0.8178494623655913, 0.8051612903225808, 0.8048387096774192, 0.8048387096774194, 0.8345161290322581, 0.8148387096774196, 0.82494623655914, 0.824516129032258, 0.8377419354838709, 0.8018279569892475, 0.8378494623655917, 0.8150537634408602, 0.811505376344086, 0.8015053763440859, 0.8478494623655916, 0.8182795698924732, 0.8446236559139786, 0.8477419354838711, 0.8313978494623656, 0.8378494623655917, 0.8215053763440862, 0.8248387096774193, 0.8311827956989246, 0.791505376344086, 0.8412903225806451, 0.811505376344086, 0.8381720430107528, 0.821505376344086, 0.8250537634408601, 0.8380645161290323, 0.8413978494623657, 0.8347311827956989, 0.8280645161290321, 0.5446236559139785, 0.8644086021505377]}, {\"categories\": [\"0\", \"1\", \"2\", \"3\", \"4\", \"5\", \"6\", \"7\", \"8\", \"9\", \"10\", \"11\", \"12\", \"13\", \"14\", \"15\", \"16\", \"17\", \"18\", \"19\", \"20\", \"21\", \"22\", \"23\", \"24\", \"25\", \"26\", \"27\", \"28\", \"29\", \"30\", \"31\", \"32\", \"33\", \"34\", \"35\", \"38\"], \"mode\": \"lines\", \"name\": \"precision_score_micro_max\", \"stepped\": true, \"type\": \"scatter\", \"data\": [0.811505376344086, 0.8179569892473119, 0.8179569892473119, 0.8179569892473119, 0.8179569892473119, 0.8179569892473119, 0.8345161290322581, 0.8345161290322581, 0.8345161290322581, 0.8345161290322581, 0.8377419354838709, 0.8377419354838709, 0.8378494623655917, 0.8378494623655917, 0.8378494623655917, 0.8378494623655917, 0.8478494623655916, 0.8478494623655916, 0.8478494623655916, 0.8478494623655916, 0.8478494623655916, 0.8478494623655916, 0.8478494623655916, 0.8478494623655916, 0.8478494623655916, 0.8478494623655916, 0.8478494623655916, 0.8478494623655916, 0.8478494623655916, 0.8478494623655916, 0.8478494623655916, 0.8478494623655916, 0.8478494623655916, 0.8478494623655916, 0.8478494623655916, 0.8478494623655916, 0.8644086021505377]}], \"accuracy\": [{\"categories\": [\"0\", \"1\", \"2\", \"3\", \"4\", \"5\", \"6\", \"7\", \"8\", \"9\", \"10\", \"11\", \"12\", \"13\", \"14\", \"15\", \"16\", \"17\", \"18\", \"19\", \"20\", \"21\", \"22\", \"23\", \"24\", \"25\", \"26\", \"27\", \"28\", \"29\", \"30\", \"31\", \"32\", \"33\", \"34\", \"35\", \"38\"], \"mode\": \"markers\", \"name\": \"accuracy\", \"stepped\": false, \"type\": \"scatter\", \"data\": [0.811505376344086, 0.8179569892473119, 0.8178494623655913, 0.8051612903225808, 0.8048387096774192, 0.8048387096774194, 0.8345161290322581, 0.8148387096774196, 0.82494623655914, 0.824516129032258, 0.8377419354838709, 0.8018279569892475, 0.8378494623655917, 0.8150537634408602, 0.811505376344086, 0.8015053763440859, 0.8478494623655916, 0.8182795698924732, 0.8446236559139786, 0.8477419354838711, 0.8313978494623656, 0.8378494623655917, 0.8215053763440862, 0.8248387096774193, 0.8311827956989246, 0.791505376344086, 0.8412903225806451, 0.811505376344086, 0.8381720430107528, 0.821505376344086, 0.8250537634408601, 0.8380645161290323, 0.8413978494623657, 0.8347311827956989, 0.8280645161290321, 0.5446236559139785, 0.8644086021505377]}, {\"categories\": [\"0\", \"1\", \"2\", \"3\", \"4\", \"5\", \"6\", \"7\", \"8\", \"9\", \"10\", \"11\", \"12\", \"13\", \"14\", \"15\", \"16\", \"17\", \"18\", \"19\", \"20\", \"21\", \"22\", \"23\", \"24\", \"25\", \"26\", \"27\", \"28\", \"29\", \"30\", \"31\", \"32\", \"33\", \"34\", \"35\", \"38\"], \"mode\": \"lines\", \"name\": \"accuracy_max\", \"stepped\": true, \"type\": \"scatter\", \"data\": [0.811505376344086, 0.8179569892473119, 0.8179569892473119, 0.8179569892473119, 0.8179569892473119, 0.8179569892473119, 0.8345161290322581, 0.8345161290322581, 0.8345161290322581, 0.8345161290322581, 0.8377419354838709, 0.8377419354838709, 0.8378494623655917, 0.8378494623655917, 0.8378494623655917, 0.8378494623655917, 0.8478494623655916, 0.8478494623655916, 0.8478494623655916, 0.8478494623655916, 0.8478494623655916, 0.8478494623655916, 0.8478494623655916, 0.8478494623655916, 0.8478494623655916, 0.8478494623655916, 0.8478494623655916, 0.8478494623655916, 0.8478494623655916, 0.8478494623655916, 0.8478494623655916, 0.8478494623655916, 0.8478494623655916, 0.8478494623655916, 0.8478494623655916, 0.8478494623655916, 0.8644086021505377]}]}, \"metricName\": null, \"primaryMetricName\": \"accuracy\", \"showLegend\": false}, \"run_metrics\": [{\"name\": \"experiment_status\", \"run_id\": \"AutoML_26ea7617-8eef-4b0f-a17c-c79d471681b5\", \"categories\": [0, 1, 2, 3, 4, 5, 6, 7, 8, 9, 10, 11, 12, 13], \"series\": [{\"data\": [\"DatasetEvaluation\", \"FeaturesGeneration\", \"DatasetFeaturization\", \"DatasetFeaturizationCompleted\", \"DatasetCrossValidationSplit\", \"ModelSelection\", \"BestRunExplainModel\", \"ModelExplanationDataSetSetup\", \"PickSurrogateModel\", \"EngineeredFeatureExplanations\", \"EngineeredFeatureExplanations\", \"RawFeaturesExplanations\", \"RawFeaturesExplanations\", \"BestRunExplainModel\"]}]}, {\"name\": \"experiment_status_description\", \"run_id\": \"AutoML_26ea7617-8eef-4b0f-a17c-c79d471681b5\", \"categories\": [0, 1, 2, 3, 4, 5, 6, 7, 8, 9, 10, 11, 12, 13], \"series\": [{\"data\": [\"Gathering dataset statistics.\", \"Generating features for the dataset.\", \"Beginning to fit featurizers and featurize the dataset.\", \"Completed fit featurizers and featurizing the dataset.\", \"Generating individually featurized CV splits.\", \"Beginning model selection.\", \"Best run model explanations started\", \"Model explanations data setup completed\", \"Choosing LightGBM as the surrogate model for explanations\", \"Computation of engineered features started\", \"Computation of engineered features completed\", \"Computation of raw features started\", \"Computation of raw features completed\", \"Best run model explanations completed\"]}]}, {\"name\": \"average_precision_score_weighted\", \"run_id\": \"AutoML_26ea7617-8eef-4b0f-a17c-c79d471681b5\", \"categories\": [0], \"series\": [{\"data\": [0.9245399372671029]}]}, {\"name\": \"f1_score_micro\", \"run_id\": \"AutoML_26ea7617-8eef-4b0f-a17c-c79d471681b5\", \"categories\": [0], \"series\": [{\"data\": [0.8644086021505377]}]}, {\"name\": \"recall_score_weighted\", \"run_id\": \"AutoML_26ea7617-8eef-4b0f-a17c-c79d471681b5\", \"categories\": [0], \"series\": [{\"data\": [0.8644086021505377]}]}, {\"name\": \"AUC_micro\", \"run_id\": \"AutoML_26ea7617-8eef-4b0f-a17c-c79d471681b5\", \"categories\": [0], \"series\": [{\"data\": [0.9164353104405134]}]}, {\"name\": \"weighted_accuracy\", \"run_id\": \"AutoML_26ea7617-8eef-4b0f-a17c-c79d471681b5\", \"categories\": [0], \"series\": [{\"data\": [0.8694715934943718]}]}, {\"name\": \"log_loss\", \"run_id\": \"AutoML_26ea7617-8eef-4b0f-a17c-c79d471681b5\", \"categories\": [0], \"series\": [{\"data\": [0.37948539548112664]}]}, {\"name\": \"precision_score_weighted\", \"run_id\": \"AutoML_26ea7617-8eef-4b0f-a17c-c79d471681b5\", \"categories\": [0], \"series\": [{\"data\": [0.8676501962792285]}]}, {\"name\": \"precision_score_micro\", \"run_id\": \"AutoML_26ea7617-8eef-4b0f-a17c-c79d471681b5\", \"categories\": [0], \"series\": [{\"data\": [0.8644086021505377]}]}, {\"name\": \"accuracy\", \"run_id\": \"AutoML_26ea7617-8eef-4b0f-a17c-c79d471681b5\", \"categories\": [0], \"series\": [{\"data\": [0.8644086021505377]}]}, {\"name\": \"f1_score_macro\", \"run_id\": \"AutoML_26ea7617-8eef-4b0f-a17c-c79d471681b5\", \"categories\": [0], \"series\": [{\"data\": [0.8591690876176153]}]}, {\"name\": \"norm_macro_recall\", \"run_id\": \"AutoML_26ea7617-8eef-4b0f-a17c-c79d471681b5\", \"categories\": [0], \"series\": [{\"data\": [0.7173989044151583]}]}, {\"name\": \"balanced_accuracy\", \"run_id\": \"AutoML_26ea7617-8eef-4b0f-a17c-c79d471681b5\", \"categories\": [0], \"series\": [{\"data\": [0.8586994522075792]}]}, {\"name\": \"AUC_macro\", \"run_id\": \"AutoML_26ea7617-8eef-4b0f-a17c-c79d471681b5\", \"categories\": [0], \"series\": [{\"data\": [0.9189946385743599]}]}, {\"name\": \"average_precision_score_micro\", \"run_id\": \"AutoML_26ea7617-8eef-4b0f-a17c-c79d471681b5\", \"categories\": [0], \"series\": [{\"data\": [0.917211989861574]}]}, {\"name\": \"f1_score_weighted\", \"run_id\": \"AutoML_26ea7617-8eef-4b0f-a17c-c79d471681b5\", \"categories\": [0], \"series\": [{\"data\": [0.8633902531174356]}]}, {\"name\": \"average_precision_score_macro\", \"run_id\": \"AutoML_26ea7617-8eef-4b0f-a17c-c79d471681b5\", \"categories\": [0], \"series\": [{\"data\": [0.9213318644465931]}]}, {\"name\": \"recall_score_macro\", \"run_id\": \"AutoML_26ea7617-8eef-4b0f-a17c-c79d471681b5\", \"categories\": [0], \"series\": [{\"data\": [0.8586994522075792]}]}, {\"name\": \"precision_score_macro\", \"run_id\": \"AutoML_26ea7617-8eef-4b0f-a17c-c79d471681b5\", \"categories\": [0], \"series\": [{\"data\": [0.8651802467398442]}]}, {\"name\": \"AUC_weighted\", \"run_id\": \"AutoML_26ea7617-8eef-4b0f-a17c-c79d471681b5\", \"categories\": [0], \"series\": [{\"data\": [0.9189946385743599]}]}, {\"name\": \"matthews_correlation\", \"run_id\": \"AutoML_26ea7617-8eef-4b0f-a17c-c79d471681b5\", \"categories\": [0], \"series\": [{\"data\": [0.7237246703046771]}]}, {\"name\": \"recall_score_micro\", \"run_id\": \"AutoML_26ea7617-8eef-4b0f-a17c-c79d471681b5\", \"categories\": [0], \"series\": [{\"data\": [0.8644086021505377]}]}], \"run_logs\": \"\\nRun is completed.\", \"graph\": {}, \"widget_settings\": {\"childWidgetDisplay\": \"popup\", \"send_telemetry\": false, \"log_level\": \"INFO\", \"sdk_version\": \"1.20.0\"}, \"loading\": false}"
     },
     "metadata": {},
     "output_type": "display_data"
    },
    {
     "data": {
      "text/plain": [
       "{'runId': 'AutoML_26ea7617-8eef-4b0f-a17c-c79d471681b5',\n",
       " 'target': 'auto-ml',\n",
       " 'status': 'Completed',\n",
       " 'startTimeUtc': '2021-01-24T20:22:31.097329Z',\n",
       " 'endTimeUtc': '2021-01-24T20:42:57.160752Z',\n",
       " 'properties': {'num_iterations': '1000',\n",
       "  'training_type': 'TrainFull',\n",
       "  'acquisition_function': 'EI',\n",
       "  'primary_metric': 'accuracy',\n",
       "  'train_split': '0',\n",
       "  'acquisition_parameter': '0',\n",
       "  'num_cross_validation': None,\n",
       "  'target': 'auto-ml',\n",
       "  'AMLSettingsJsonString': '{\"path\":null,\"name\":\"heart-disease-experiment-ml1\",\"subscription_id\":\"2c48c51c-bd47-40d4-abbe-fb8eabd19c8c\",\"resource_group\":\"aml-quickstarts-135918\",\"workspace_name\":\"quick-starts-ws-135918\",\"region\":\"southcentralus\",\"compute_target\":\"auto-ml\",\"spark_service\":null,\"azure_service\":\"remote\",\"many_models\":false,\"pipeline_fetch_max_batch_size\":1,\"iterations\":1000,\"primary_metric\":\"accuracy\",\"task_type\":\"classification\",\"data_script\":null,\"validation_size\":0.0,\"n_cross_validations\":null,\"y_min\":null,\"y_max\":null,\"num_classes\":null,\"featurization\":\"auto\",\"_ignore_package_version_incompatibilities\":false,\"is_timeseries\":false,\"max_cores_per_iteration\":1,\"max_concurrent_iterations\":5,\"iteration_timeout_minutes\":null,\"mem_in_mb\":null,\"enforce_time_on_windows\":false,\"experiment_timeout_minutes\":20,\"experiment_exit_score\":0.9984,\"whitelist_models\":null,\"blacklist_algos\":[\"KNN\",\"LinearSVM\",\"TensorFlowLinearClassifier\",\"TensorFlowDNN\"],\"supported_models\":[\"SGD\",\"DecisionTree\",\"TensorFlowLinearClassifier\",\"BernoulliNaiveBayes\",\"SVM\",\"MultinomialNaiveBayes\",\"LogisticRegression\",\"LinearSVM\",\"GradientBoosting\",\"KNN\",\"RandomForest\",\"TensorFlowDNN\",\"ExtremeRandomTrees\",\"AveragedPerceptronClassifier\",\"LightGBM\",\"XGBoostClassifier\"],\"auto_blacklist\":true,\"blacklist_samples_reached\":false,\"exclude_nan_labels\":true,\"verbosity\":20,\"_debug_log\":\"azureml_automl.log\",\"show_warnings\":false,\"model_explainability\":true,\"service_url\":null,\"sdk_url\":null,\"sdk_packages\":null,\"enable_onnx_compatible_models\":true,\"enable_split_onnx_featurizer_estimator_models\":false,\"vm_type\":\"STANDARD_D2_V2\",\"telemetry_verbosity\":20,\"send_telemetry\":true,\"enable_dnn\":false,\"scenario\":\"SDK-1.13.0\",\"environment_label\":null,\"force_text_dnn\":false,\"enable_feature_sweeping\":false,\"enable_early_stopping\":true,\"early_stopping_n_iters\":10,\"metrics\":null,\"enable_ensembling\":true,\"enable_stack_ensembling\":false,\"ensemble_iterations\":15,\"enable_tf\":false,\"enable_subsampling\":null,\"subsample_seed\":null,\"enable_nimbusml\":false,\"enable_streaming\":false,\"force_streaming\":false,\"track_child_runs\":true,\"allowed_private_models\":[],\"label_column_name\":\"target\",\"weight_column_name\":null,\"cv_split_column_names\":null,\"enable_local_managed\":false,\"_local_managed_run_id\":null,\"cost_mode\":1,\"lag_length\":0,\"metric_operation\":\"maximize\",\"preprocess\":true}',\n",
       "  'DataPrepJsonString': '{\\\\\"training_data\\\\\": \\\\\"{\\\\\\\\\\\\\"blocks\\\\\\\\\\\\\": [{\\\\\\\\\\\\\"id\\\\\\\\\\\\\": \\\\\\\\\\\\\"73ac3525-c998-4a12-8884-88333bda7d6b\\\\\\\\\\\\\", \\\\\\\\\\\\\"type\\\\\\\\\\\\\": \\\\\\\\\\\\\"Microsoft.DPrep.GetFilesBlock\\\\\\\\\\\\\", \\\\\\\\\\\\\"arguments\\\\\\\\\\\\\": {\\\\\\\\\\\\\"isArchive\\\\\\\\\\\\\": false, \\\\\\\\\\\\\"path\\\\\\\\\\\\\": {\\\\\\\\\\\\\"target\\\\\\\\\\\\\": 4, \\\\\\\\\\\\\"resourceDetails\\\\\\\\\\\\\": [{\\\\\\\\\\\\\"path\\\\\\\\\\\\\": \\\\\\\\\\\\\"https://raw.githubusercontent.com/SadmiB/Heart-Disease-Prediction/master/heart.csv\\\\\\\\\\\\\"}]}}, \\\\\\\\\\\\\"localData\\\\\\\\\\\\\": {}, \\\\\\\\\\\\\"isEnabled\\\\\\\\\\\\\": true, \\\\\\\\\\\\\"name\\\\\\\\\\\\\": null, \\\\\\\\\\\\\"annotation\\\\\\\\\\\\\": null}, {\\\\\\\\\\\\\"id\\\\\\\\\\\\\": \\\\\\\\\\\\\"361a147a-6aa7-4140-8815-90d32b753f1b\\\\\\\\\\\\\", \\\\\\\\\\\\\"type\\\\\\\\\\\\\": \\\\\\\\\\\\\"Microsoft.DPrep.ParseDelimitedBlock\\\\\\\\\\\\\", \\\\\\\\\\\\\"arguments\\\\\\\\\\\\\": {\\\\\\\\\\\\\"columnHeadersMode\\\\\\\\\\\\\": 3, \\\\\\\\\\\\\"fileEncoding\\\\\\\\\\\\\": 0, \\\\\\\\\\\\\"handleQuotedLineBreaks\\\\\\\\\\\\\": false, \\\\\\\\\\\\\"preview\\\\\\\\\\\\\": false, \\\\\\\\\\\\\"separator\\\\\\\\\\\\\": \\\\\\\\\\\\\",\\\\\\\\\\\\\", \\\\\\\\\\\\\"skipRows\\\\\\\\\\\\\": 0, \\\\\\\\\\\\\"skipRowsMode\\\\\\\\\\\\\": 0}, \\\\\\\\\\\\\"localData\\\\\\\\\\\\\": {}, \\\\\\\\\\\\\"isEnabled\\\\\\\\\\\\\": true, \\\\\\\\\\\\\"name\\\\\\\\\\\\\": null, \\\\\\\\\\\\\"annotation\\\\\\\\\\\\\": null}, {\\\\\\\\\\\\\"id\\\\\\\\\\\\\": \\\\\\\\\\\\\"92e64813-09e8-4398-9d34-dcb187c25601\\\\\\\\\\\\\", \\\\\\\\\\\\\"type\\\\\\\\\\\\\": \\\\\\\\\\\\\"Microsoft.DPrep.DropColumnsBlock\\\\\\\\\\\\\", \\\\\\\\\\\\\"arguments\\\\\\\\\\\\\": {\\\\\\\\\\\\\"columns\\\\\\\\\\\\\": {\\\\\\\\\\\\\"type\\\\\\\\\\\\\": 0, \\\\\\\\\\\\\"details\\\\\\\\\\\\\": {\\\\\\\\\\\\\"selectedColumns\\\\\\\\\\\\\": [\\\\\\\\\\\\\"Path\\\\\\\\\\\\\"]}}}, \\\\\\\\\\\\\"localData\\\\\\\\\\\\\": {}, \\\\\\\\\\\\\"isEnabled\\\\\\\\\\\\\": true, \\\\\\\\\\\\\"name\\\\\\\\\\\\\": null, \\\\\\\\\\\\\"annotation\\\\\\\\\\\\\": null}, {\\\\\\\\\\\\\"id\\\\\\\\\\\\\": \\\\\\\\\\\\\"c1e6342c-74ba-414d-9c46-c66d39209e65\\\\\\\\\\\\\", \\\\\\\\\\\\\"type\\\\\\\\\\\\\": \\\\\\\\\\\\\"Microsoft.DPrep.SetColumnTypesBlock\\\\\\\\\\\\\", \\\\\\\\\\\\\"arguments\\\\\\\\\\\\\": {\\\\\\\\\\\\\"columnConversion\\\\\\\\\\\\\": [{\\\\\\\\\\\\\"column\\\\\\\\\\\\\": {\\\\\\\\\\\\\"type\\\\\\\\\\\\\": 2, \\\\\\\\\\\\\"details\\\\\\\\\\\\\": {\\\\\\\\\\\\\"selectedColumn\\\\\\\\\\\\\": \\\\\\\\\\\\\"age\\\\\\\\\\\\\"}}, \\\\\\\\\\\\\"typeProperty\\\\\\\\\\\\\": 2}, {\\\\\\\\\\\\\"column\\\\\\\\\\\\\": {\\\\\\\\\\\\\"type\\\\\\\\\\\\\": 2, \\\\\\\\\\\\\"details\\\\\\\\\\\\\": {\\\\\\\\\\\\\"selectedColumn\\\\\\\\\\\\\": \\\\\\\\\\\\\"sex\\\\\\\\\\\\\"}}, \\\\\\\\\\\\\"typeProperty\\\\\\\\\\\\\": 2}, {\\\\\\\\\\\\\"column\\\\\\\\\\\\\": {\\\\\\\\\\\\\"type\\\\\\\\\\\\\": 2, \\\\\\\\\\\\\"details\\\\\\\\\\\\\": {\\\\\\\\\\\\\"selectedColumn\\\\\\\\\\\\\": \\\\\\\\\\\\\"cp\\\\\\\\\\\\\"}}, \\\\\\\\\\\\\"typeProperty\\\\\\\\\\\\\": 2}, {\\\\\\\\\\\\\"column\\\\\\\\\\\\\": {\\\\\\\\\\\\\"type\\\\\\\\\\\\\": 2, \\\\\\\\\\\\\"details\\\\\\\\\\\\\": {\\\\\\\\\\\\\"selectedColumn\\\\\\\\\\\\\": \\\\\\\\\\\\\"trestbps\\\\\\\\\\\\\"}}, \\\\\\\\\\\\\"typeProperty\\\\\\\\\\\\\": 2}, {\\\\\\\\\\\\\"column\\\\\\\\\\\\\": {\\\\\\\\\\\\\"type\\\\\\\\\\\\\": 2, \\\\\\\\\\\\\"details\\\\\\\\\\\\\": {\\\\\\\\\\\\\"selectedColumn\\\\\\\\\\\\\": \\\\\\\\\\\\\"chol\\\\\\\\\\\\\"}}, \\\\\\\\\\\\\"typeProperty\\\\\\\\\\\\\": 2}, {\\\\\\\\\\\\\"column\\\\\\\\\\\\\": {\\\\\\\\\\\\\"type\\\\\\\\\\\\\": 2, \\\\\\\\\\\\\"details\\\\\\\\\\\\\": {\\\\\\\\\\\\\"selectedColumn\\\\\\\\\\\\\": \\\\\\\\\\\\\"fbs\\\\\\\\\\\\\"}}, \\\\\\\\\\\\\"typeProperty\\\\\\\\\\\\\": 2}, {\\\\\\\\\\\\\"column\\\\\\\\\\\\\": {\\\\\\\\\\\\\"type\\\\\\\\\\\\\": 2, \\\\\\\\\\\\\"details\\\\\\\\\\\\\": {\\\\\\\\\\\\\"selectedColumn\\\\\\\\\\\\\": \\\\\\\\\\\\\"restecg\\\\\\\\\\\\\"}}, \\\\\\\\\\\\\"typeProperty\\\\\\\\\\\\\": 2}, {\\\\\\\\\\\\\"column\\\\\\\\\\\\\": {\\\\\\\\\\\\\"type\\\\\\\\\\\\\": 2, \\\\\\\\\\\\\"details\\\\\\\\\\\\\": {\\\\\\\\\\\\\"selectedColumn\\\\\\\\\\\\\": \\\\\\\\\\\\\"thalach\\\\\\\\\\\\\"}}, \\\\\\\\\\\\\"typeProperty\\\\\\\\\\\\\": 2}, {\\\\\\\\\\\\\"column\\\\\\\\\\\\\": {\\\\\\\\\\\\\"type\\\\\\\\\\\\\": 2, \\\\\\\\\\\\\"details\\\\\\\\\\\\\": {\\\\\\\\\\\\\"selectedColumn\\\\\\\\\\\\\": \\\\\\\\\\\\\"exang\\\\\\\\\\\\\"}}, \\\\\\\\\\\\\"typeProperty\\\\\\\\\\\\\": 2}, {\\\\\\\\\\\\\"column\\\\\\\\\\\\\": {\\\\\\\\\\\\\"type\\\\\\\\\\\\\": 2, \\\\\\\\\\\\\"details\\\\\\\\\\\\\": {\\\\\\\\\\\\\"selectedColumn\\\\\\\\\\\\\": \\\\\\\\\\\\\"oldpeak\\\\\\\\\\\\\"}}, \\\\\\\\\\\\\"typeProperty\\\\\\\\\\\\\": 3}, {\\\\\\\\\\\\\"column\\\\\\\\\\\\\": {\\\\\\\\\\\\\"type\\\\\\\\\\\\\": 2, \\\\\\\\\\\\\"details\\\\\\\\\\\\\": {\\\\\\\\\\\\\"selectedColumn\\\\\\\\\\\\\": \\\\\\\\\\\\\"slope\\\\\\\\\\\\\"}}, \\\\\\\\\\\\\"typeProperty\\\\\\\\\\\\\": 2}, {\\\\\\\\\\\\\"column\\\\\\\\\\\\\": {\\\\\\\\\\\\\"type\\\\\\\\\\\\\": 2, \\\\\\\\\\\\\"details\\\\\\\\\\\\\": {\\\\\\\\\\\\\"selectedColumn\\\\\\\\\\\\\": \\\\\\\\\\\\\"ca\\\\\\\\\\\\\"}}, \\\\\\\\\\\\\"typeProperty\\\\\\\\\\\\\": 2}, {\\\\\\\\\\\\\"column\\\\\\\\\\\\\": {\\\\\\\\\\\\\"type\\\\\\\\\\\\\": 2, \\\\\\\\\\\\\"details\\\\\\\\\\\\\": {\\\\\\\\\\\\\"selectedColumn\\\\\\\\\\\\\": \\\\\\\\\\\\\"thal\\\\\\\\\\\\\"}}, \\\\\\\\\\\\\"typeProperty\\\\\\\\\\\\\": 2}, {\\\\\\\\\\\\\"column\\\\\\\\\\\\\": {\\\\\\\\\\\\\"type\\\\\\\\\\\\\": 2, \\\\\\\\\\\\\"details\\\\\\\\\\\\\": {\\\\\\\\\\\\\"selectedColumn\\\\\\\\\\\\\": \\\\\\\\\\\\\"target\\\\\\\\\\\\\"}}, \\\\\\\\\\\\\"typeProperty\\\\\\\\\\\\\": 2}]}, \\\\\\\\\\\\\"localData\\\\\\\\\\\\\": {}, \\\\\\\\\\\\\"isEnabled\\\\\\\\\\\\\": true, \\\\\\\\\\\\\"name\\\\\\\\\\\\\": null, \\\\\\\\\\\\\"annotation\\\\\\\\\\\\\": null}], \\\\\\\\\\\\\"inspectors\\\\\\\\\\\\\": [], \\\\\\\\\\\\\"meta\\\\\\\\\\\\\": {\\\\\\\\\\\\\"savedDatasetId\\\\\\\\\\\\\": \\\\\\\\\\\\\"8cf53863-8640-4eaf-a4d6-c8d88b392808\\\\\\\\\\\\\", \\\\\\\\\\\\\"datasetType\\\\\\\\\\\\\": \\\\\\\\\\\\\"tabular\\\\\\\\\\\\\", \\\\\\\\\\\\\"subscriptionId\\\\\\\\\\\\\": \\\\\\\\\\\\\"2c48c51c-bd47-40d4-abbe-fb8eabd19c8c\\\\\\\\\\\\\", \\\\\\\\\\\\\"workspaceId\\\\\\\\\\\\\": \\\\\\\\\\\\\"892f8e39-366b-4a28-a643-2b4ecceb9a20\\\\\\\\\\\\\", \\\\\\\\\\\\\"workspaceLocation\\\\\\\\\\\\\": \\\\\\\\\\\\\"southcentralus\\\\\\\\\\\\\"}}\\\\\", \\\\\"activities\\\\\": 0}',\n",
       "  'EnableSubsampling': None,\n",
       "  'runTemplate': 'AutoML',\n",
       "  'azureml.runsource': 'automl',\n",
       "  'display_task_type': 'classification',\n",
       "  'dependencies_versions': '{\"azureml-widgets\": \"1.19.0\", \"azureml-train\": \"1.19.0\", \"azureml-train-restclients-hyperdrive\": \"1.19.0\", \"azureml-train-core\": \"1.19.0\", \"azureml-train-automl\": \"1.19.0\", \"azureml-train-automl-runtime\": \"1.19.0\", \"azureml-train-automl-client\": \"1.19.0\", \"azureml-tensorboard\": \"1.19.0\", \"azureml-telemetry\": \"1.19.0\", \"azureml-sdk\": \"1.19.0\", \"azureml-samples\": \"0+unknown\", \"azureml-pipeline\": \"1.19.0\", \"azureml-pipeline-steps\": \"1.19.0\", \"azureml-pipeline-core\": \"1.19.0\", \"azureml-opendatasets\": \"1.19.0\", \"azureml-model-management-sdk\": \"1.0.1b6.post1\", \"azureml-mlflow\": \"1.19.0\", \"azureml-interpret\": \"1.19.0\", \"azureml-explain-model\": \"1.19.0\", \"azureml-defaults\": \"1.19.0\", \"azureml-dataset-runtime\": \"1.19.0.post1\", \"azureml-dataprep\": \"2.6.1\", \"azureml-dataprep-rslex\": \"1.4.0\", \"azureml-dataprep-native\": \"26.0.0\", \"azureml-datadrift\": \"1.19.0\", \"azureml-core\": \"1.20.0\", \"azureml-contrib-services\": \"1.19.0\", \"azureml-contrib-server\": \"1.19.0\", \"azureml-contrib-reinforcementlearning\": \"1.19.0\", \"azureml-contrib-pipeline-steps\": \"1.19.0\", \"azureml-contrib-notebook\": \"1.19.0\", \"azureml-contrib-interpret\": \"1.19.0\", \"azureml-contrib-gbdt\": \"1.19.0\", \"azureml-contrib-fairness\": \"1.19.0\", \"azureml-contrib-dataset\": \"1.19.0\", \"azureml-cli-common\": \"1.19.0\", \"azureml-automl-runtime\": \"1.19.0\", \"azureml-automl-core\": \"1.19.0\", \"azureml-accel-models\": \"1.19.0\"}',\n",
       "  '_aml_system_scenario_identification': 'Remote.Parent',\n",
       "  'ClientType': 'SDK',\n",
       "  'environment_cpu_name': 'AzureML-AutoML',\n",
       "  'environment_cpu_label': 'prod',\n",
       "  'environment_gpu_name': 'AzureML-AutoML-GPU',\n",
       "  'environment_gpu_label': 'prod',\n",
       "  'root_attribution': 'automl',\n",
       "  'attribution': 'AutoML',\n",
       "  'Orchestrator': 'AutoML',\n",
       "  'CancelUri': 'https://southcentralus.experiments.azureml.net/jasmine/v1.0/subscriptions/2c48c51c-bd47-40d4-abbe-fb8eabd19c8c/resourceGroups/aml-quickstarts-135918/providers/Microsoft.MachineLearningServices/workspaces/quick-starts-ws-135918/experimentids/e9ff75a5-a5b2-451b-b78f-88308e960b86/cancel/AutoML_26ea7617-8eef-4b0f-a17c-c79d471681b5',\n",
       "  'ClientSdkVersion': '1.20.0',\n",
       "  'snapshotId': '00000000-0000-0000-0000-000000000000',\n",
       "  'SetupRunId': 'AutoML_26ea7617-8eef-4b0f-a17c-c79d471681b5_setup',\n",
       "  'SetupRunContainerId': 'dcid.AutoML_26ea7617-8eef-4b0f-a17c-c79d471681b5_setup',\n",
       "  'FeaturizationRunJsonPath': 'featurizer_container.json',\n",
       "  'FeaturizationRunId': 'AutoML_26ea7617-8eef-4b0f-a17c-c79d471681b5_featurize',\n",
       "  'ProblemInfoJsonString': '{\"dataset_num_categorical\": 0, \"is_sparse\": true, \"subsampling\": false, \"dataset_classes\": 2, \"dataset_features\": 27, \"dataset_samples\": 303, \"single_frequency_class_detected\": false}',\n",
       "  'ModelExplainRunId': 'AutoML_26ea7617-8eef-4b0f-a17c-c79d471681b5_ModelExplain'},\n",
       " 'inputDatasets': [{'dataset': {'id': '8cf53863-8640-4eaf-a4d6-c8d88b392808'}, 'consumptionDetails': {'type': 'RunInput', 'inputName': 'training_data', 'mechanism': 'Direct'}}],\n",
       " 'outputDatasets': [],\n",
       " 'logFiles': {},\n",
       " 'submittedBy': 'ODL_User 135918'}"
      ]
     },
     "execution_count": 9,
     "metadata": {},
     "output_type": "execute_result"
    }
   ],
   "source": [
    "from azureml.widgets import RunDetails\n",
    "RunDetails(remote_run).show()\n",
    "remote_run.wait_for_completion()"
   ]
  },
  {
   "cell_type": "markdown",
   "metadata": {},
   "source": [
    "## Retreive and save best ONNX model"
   ]
  },
  {
   "cell_type": "code",
   "execution_count": 10,
   "metadata": {
    "gather": {
     "logged": 1611519259517
    }
   },
   "outputs": [],
   "source": [
    "from azureml.automl.runtime.onnx_convert import OnnxConverter\n",
    "\n",
    "\n",
    "best_run, onnx_model = remote_run.get_output(return_onnx_model=True)\n",
    "onnx_path = \"./best_model.onnx\"\n",
    "OnnxConverter.save_onnx_model(onnx_model, onnx_path)"
   ]
  },
  {
   "cell_type": "markdown",
   "metadata": {},
   "source": [
    "## Test prediction using ONNX model"
   ]
  },
  {
   "cell_type": "code",
   "execution_count": 14,
   "metadata": {
    "gather": {
     "logged": 1611519283546
    }
   },
   "outputs": [
    {
     "name": "stdout",
     "output_type": "stream",
     "text": [
      "[1 1]\n"
     ]
    }
   ],
   "source": [
    "from azureml.automl.core.onnx_convert import OnnxConvertConstants\n",
    "from azureml.train.automl import constants\n",
    "import onnxruntime\n",
    "from azureml.automl.runtime.onnx_convert import OnnxInferenceHelper\n",
    "import sys\n",
    "import json\n",
    "\n",
    "\n",
    "if sys.version_info < OnnxConvertConstants.OnnxIncompatiblePythonVersion:\n",
    "    python_version_compatible = True\n",
    "else:\n",
    "    python_version_compatible = False\n",
    "\n",
    "\n",
    "def get_onnx_res(run):\n",
    "    res_path = 'onnx_resource.json'\n",
    "    run.download_file(name=constants.MODEL_RESOURCE_PATH_ONNX, output_file_path=res_path)\n",
    "    with open(res_path) as f:\n",
    "        onnx_res = json.load(f)\n",
    "    return onnx_res\n",
    "\n",
    "if python_version_compatible:\n",
    "    test_df = dataset.to_pandas_dataframe()[:2]\n",
    "    mdl_bytes = onnx_model.SerializeToString()\n",
    "    onnx_res = get_onnx_res(best_run)\n",
    "\n",
    "    onnxrt_helper = OnnxInferenceHelper(mdl_bytes, onnx_res)\n",
    "    pred_onnx, pred_prob_onnx = onnxrt_helper.predict(test_df)\n",
    "\n",
    "    print(pred_onnx)\n",
    "else:\n",
    "    print('Please use Python version 3.6 or 3.7 to run the inference helper.')"
   ]
  },
  {
   "cell_type": "markdown",
   "metadata": {},
   "source": [
    "## Best Model\n",
    "\n",
    "Getting the best model from the automl experiments and display all the properties of the model.\n",
    "\n"
   ]
  },
  {
   "cell_type": "code",
   "execution_count": 22,
   "metadata": {
    "gather": {
     "logged": 1598431425670
    },
    "jupyter": {
     "outputs_hidden": false,
     "source_hidden": false
    },
    "nteract": {
     "transient": {
      "deleting": false
     }
    }
   },
   "outputs": [
    {
     "name": "stdout",
     "output_type": "stream",
     "text": [
      "- Best Run Id:  AutoML_26ea7617-8eef-4b0f-a17c-c79d471681b5_38\n",
      "- Accuracy: 0.8644086021505377\n",
      "- AUC_weighted: 0.9189946385743599\n"
     ]
    },
    {
     "data": {
      "text/plain": [
       "['azureml_fitted_model.sav']"
      ]
     },
     "execution_count": 22,
     "metadata": {},
     "output_type": "execute_result"
    }
   ],
   "source": [
    "import joblib\n",
    "# Retrieve and save your best automl model.\n",
    "\n",
    "best_run, fitted_model = remote_run.get_output()\n",
    "best_run_metrics = best_run.get_metrics()\n",
    "\n",
    "print('- Best Run Id: ', best_run.id)\n",
    "print('- Accuracy:', best_run_metrics['accuracy'])\n",
    "print('- AUC_weighted:', best_run_metrics['AUC_weighted'])\n",
    "joblib.dump(fitted_model,'azureml_fitted_model.sav')"
   ]
  },
  {
   "cell_type": "markdown",
   "metadata": {},
   "source": [
    "### Register best model"
   ]
  },
  {
   "cell_type": "code",
   "execution_count": 23,
   "metadata": {},
   "outputs": [
    {
     "name": "stdout",
     "output_type": "stream",
     "text": [
      "AutoML26ea7617838\n"
     ]
    }
   ],
   "source": [
    "model_name = best_run.properties[\"model_name\"]\n",
    "description = \"AutoML model for predicting heart disease.\"\n",
    "tags = None\n",
    "model = remote_run.register_model(model_name=model_name, description=description, tags=tags)\n",
    "\n",
    "print(remote_run.model_id)"
   ]
  },
  {
   "cell_type": "markdown",
   "metadata": {},
   "source": [
    "## Model Deployment\n",
    "\n",
    "Remember you have to deploy only one of the two models you trained.. Perform the steps in the rest of this notebook only if you wish to deploy this model.\n",
    "\n",
    "TODO: In the cell below, register the model, create an inference config and deploy the model as a web service."
   ]
  },
  {
   "cell_type": "code",
   "execution_count": 24,
   "metadata": {
    "gather": {
     "logged": 1598431435189
    },
    "jupyter": {
     "outputs_hidden": false,
     "source_hidden": false
    },
    "nteract": {
     "transient": {
      "deleting": false
     }
    }
   },
   "outputs": [],
   "source": [
    "script_file_name = 'inference/score.py'\n",
    "\n",
    "best_run.download_file('outputs/scoring_file_v_1_0_0.py', 'inference/score.py')"
   ]
  },
  {
   "cell_type": "markdown",
   "metadata": {
    "gather": {
     "logged": 1598432707604
    },
    "jupyter": {
     "outputs_hidden": false,
     "source_hidden": false
    },
    "nteract": {
     "transient": {
      "deleting": false
     }
    }
   },
   "source": [
    "### Deploy the model as a webservice using ACI"
   ]
  },
  {
   "cell_type": "code",
   "execution_count": 25,
   "metadata": {},
   "outputs": [
    {
     "name": "stdout",
     "output_type": "stream",
     "text": [
      "automl-heart-disease-prediction\n",
      "Tips: You can try get_logs(): https://aka.ms/debugimage#dockerlog or local deployment: https://aka.ms/debugimage#debug-locally to debug if deployment takes longer than 10 minutes.\n",
      "Running..............................................\n",
      "Succeeded\n",
      "ACI service creation operation finished, operation \"Succeeded\"\n",
      "Healthy\n"
     ]
    }
   ],
   "source": [
    "from azureml.core.model import InferenceConfig\n",
    "from azureml.core.webservice import AciWebservice\n",
    "from azureml.core.webservice import Webservice\n",
    "from azureml.core.model import Model\n",
    "from azureml.core.environment import Environment\n",
    "\n",
    "inference_config = InferenceConfig(entry_script=script_file_name)\n",
    "\n",
    "aciconfig = AciWebservice.deploy_configuration(cpu_cores = 1, \n",
    "                                               memory_gb = 1, \n",
    "                                               tags = {'area': \"bmData\", 'type': \"automl_classification\"}, \n",
    "                                               description = 'Heart Disease prediction using Automl Classification')\n",
    "\n",
    "aci_service_name = 'automl-heart-disease-prediction'\n",
    "print(aci_service_name)\n",
    "aci_service = Model.deploy(ws, aci_service_name, [model], inference_config, aciconfig)\n",
    "aci_service.wait_for_deployment(True)\n",
    "print(aci_service.state)"
   ]
  },
  {
   "cell_type": "markdown",
   "metadata": {},
   "source": [
    "### Test the web service"
   ]
  },
  {
   "cell_type": "code",
   "execution_count": 26,
   "metadata": {},
   "outputs": [
    {
     "name": "stdout",
     "output_type": "stream",
     "text": [
      "[1]\n"
     ]
    }
   ],
   "source": [
    "#Test 1\n",
    "import requests\n",
    "import json\n",
    "\n",
    "data = '''{ \n",
    "  \"data\": [  \n",
    "    { \n",
    "      \"age\": 63,\n",
    "      \"sex\": 1,\n",
    "      \"cp\": 3,\n",
    "      \"trestbps\": 145,\n",
    "      \"chol\": 233,\n",
    "      \"fbs\": 1,\n",
    "      \"restecg\": 0,\n",
    "      \"thalach\": 150,\n",
    "      \"exang\": 0,\n",
    "      \"oldpeak\": 2.3,\n",
    "      \"slope\": 0,\n",
    "      \"ca\": 0,\n",
    "      \"thal\": 1\n",
    "    }\n",
    "  ]\n",
    "}'''\n",
    "\n",
    "headers = {'Content-Type': 'application/json'}\n",
    "\n",
    "resp = requests.post(aci_service.scoring_uri, data, headers=headers)\n",
    "\n",
    "pred = json.loads(json.loads(resp.text))['result']\n",
    "print(pred)"
   ]
  },
  {
   "cell_type": "code",
   "execution_count": 27,
   "metadata": {},
   "outputs": [
    {
     "name": "stdout",
     "output_type": "stream",
     "text": [
      "[0]\n"
     ]
    }
   ],
   "source": [
    "# Test 2\n",
    "import requests\n",
    "import json\n",
    "\n",
    "data = '''{ \n",
    "  \"data\": [  \n",
    "    { \n",
    "      \"age\": 57,\n",
    "      \"sex\": 0,\n",
    "      \"cp\": 0,\n",
    "      \"trestbps\": 140,\n",
    "      \"chol\": 241,\n",
    "      \"fbs\": 0,\n",
    "      \"restecg\": 1,\n",
    "      \"thalach\": 123,\n",
    "      \"exang\": 1,\n",
    "      \"oldpeak\": 0.2,\n",
    "      \"slope\": 1,\n",
    "      \"ca\": 0,\n",
    "      \"thal\": 3\n",
    "    }\n",
    "  ]\n",
    "}'''\n",
    "\n",
    "headers = {'Content-Type': 'application/json'}\n",
    "\n",
    "resp = requests.post(aci_service.scoring_uri, data, headers=headers)\n",
    "\n",
    "pred = json.loads(json.loads(resp.text))['result']\n",
    "print(pred)"
   ]
  },
  {
   "cell_type": "markdown",
   "metadata": {
    "jupyter": {
     "outputs_hidden": false,
     "source_hidden": false
    },
    "nteract": {
     "transient": {
      "deleting": false
     }
    }
   },
   "source": [
    "### Get service logs"
   ]
  },
  {
   "cell_type": "code",
   "execution_count": 28,
   "metadata": {
    "scrolled": true
   },
   "outputs": [
    {
     "data": {
      "text/plain": [
       "'2021-01-24T21:04:50,269915393+00:00 - rsyslog/run \\n2021-01-24T21:04:50,269915393+00:00 - iot-server/run \\n/usr/sbin/nginx: /azureml-envs/azureml_23df5d07c5e8388dac3ecfdf573dafb1/lib/libcrypto.so.1.0.0: no version information available (required by /usr/sbin/nginx)\\n/usr/sbin/nginx: /azureml-envs/azureml_23df5d07c5e8388dac3ecfdf573dafb1/lib/libcrypto.so.1.0.0: no version information available (required by /usr/sbin/nginx)\\n/usr/sbin/nginx: /azureml-envs/azureml_23df5d07c5e8388dac3ecfdf573dafb1/lib/libssl.so.1.0.0: no version information available (required by /usr/sbin/nginx)\\n/usr/sbin/nginx: /azureml-envs/azureml_23df5d07c5e8388dac3ecfdf573dafb1/lib/libssl.so.1.0.0: no version information available (required by /usr/sbin/nginx)\\n/usr/sbin/nginx: /azureml-envs/azureml_23df5d07c5e8388dac3ecfdf573dafb1/lib/libssl.so.1.0.0: no version information available (required by /usr/sbin/nginx)\\n2021-01-24T21:04:50,271309393+00:00 - nginx/run \\n2021-01-24T21:04:50,271659319+00:00 - gunicorn/run \\nrsyslogd: /azureml-envs/azureml_23df5d07c5e8388dac3ecfdf573dafb1/lib/libuuid.so.1: no version information available (required by rsyslogd)\\nEdgeHubConnectionString and IOTEDGE_IOTHUBHOSTNAME are not set. Exiting...\\n2021-01-24T21:04:50,417060617+00:00 - iot-server/finish 1 0\\n2021-01-24T21:04:50,418423516+00:00 - Exit code 1 is normal. Not restarting iot-server.\\nStarting gunicorn 19.9.0\\nListening at: http://127.0.0.1:31311 (13)\\nUsing worker: sync\\nworker timeout is set to 300\\nBooting worker with pid: 42\\nSPARK_HOME not set. Skipping PySpark Initialization.\\nGenerating new fontManager, this may take some time...\\nInitializing logger\\n2021-01-24 21:04:51,702 | root | INFO | Starting up app insights client\\n2021-01-24 21:04:51,702 | root | INFO | Starting up request id generator\\n2021-01-24 21:04:51,702 | root | INFO | Starting up app insight hooks\\n2021-01-24 21:04:51,702 | root | INFO | Invoking user\\'s init function\\n2021-01-24 21:04:54,038 | azureml.core | WARNING | Failure while loading azureml_run_type_providers. Failed to load entrypoint automl = azureml.train.automl.run:AutoMLRun._from_run_dto with exception cannot import name \\'RunType\\'.\\nFailure while loading azureml_run_type_providers. Failed to load entrypoint automl = azureml.train.automl.run:AutoMLRun._from_run_dto with exception cannot import name \\'RunType\\'.\\n2021-01-24 21:04:54,439 | root | INFO | Users\\'s init has completed successfully\\n2021-01-24 21:04:54,442 | root | INFO | Skipping middleware: dbg_model_info as it\\'s not enabled.\\n2021-01-24 21:04:54,442 | root | INFO | Skipping middleware: dbg_resource_usage as it\\'s not enabled.\\n2021-01-24 21:04:54,444 | root | INFO | Scoring timeout is found from os.environ: 60000 ms\\n2021-01-24 21:05:03,228 | root | INFO | 200\\n127.0.0.1 - - [24/Jan/2021:21:05:03 +0000] \"GET /swagger.json HTTP/1.0\" 200 2783 \"-\" \"Go-http-client/1.1\"\\n2021-01-24 21:05:08,941 | root | INFO | 200\\n127.0.0.1 - - [24/Jan/2021:21:05:08 +0000] \"GET /swagger.json HTTP/1.0\" 200 2783 \"-\" \"Go-http-client/1.1\"\\n2021-01-24 21:05:47,602 | root | INFO | Validation Request Content-Type\\n2021-01-24 21:05:47,602 | root | INFO | Scoring Timer is set to 60.0 seconds\\n2021-01-24 21:05:47,803 | root | INFO | 200\\n127.0.0.1 - - [24/Jan/2021:21:05:47 +0000] \"POST /score HTTP/1.0\" 200 19 \"-\" \"python-requests/2.25.0\"\\n2021-01-24 21:05:58,861 | root | INFO | Validation Request Content-Type\\n2021-01-24 21:05:58,862 | root | INFO | Scoring Timer is set to 60.0 seconds\\n2021-01-24 21:05:59,090 | root | INFO | 200\\n127.0.0.1 - - [24/Jan/2021:21:05:59 +0000] \"POST /score HTTP/1.0\" 200 19 \"-\" \"python-requests/2.25.0\"\\n'"
      ]
     },
     "execution_count": 28,
     "metadata": {},
     "output_type": "execute_result"
    }
   ],
   "source": [
    "aci_service.get_logs()"
   ]
  },
  {
   "cell_type": "markdown",
   "metadata": {},
   "source": [
    "### Delete the web service"
   ]
  },
  {
   "cell_type": "code",
   "execution_count": null,
   "metadata": {},
   "outputs": [],
   "source": [
    "aci_service.delete()"
   ]
  },
  {
   "cell_type": "markdown",
   "metadata": {},
   "source": [
    "End!"
   ]
  }
 ],
 "metadata": {
  "kernel_info": {
   "name": "python3-azureml"
  },
  "kernelspec": {
   "display_name": "Python 3.6 - AzureML",
   "language": "python",
   "name": "python3-azureml"
  },
  "language_info": {
   "codemirror_mode": {
    "name": "ipython",
    "version": 3
   },
   "file_extension": ".py",
   "mimetype": "text/x-python",
   "name": "python",
   "nbconvert_exporter": "python",
   "pygments_lexer": "ipython3",
   "version": "3.6.9"
  },
  "nteract": {
   "version": "nteract-front-end@1.0.0"
  }
 },
 "nbformat": 4,
 "nbformat_minor": 2
}
