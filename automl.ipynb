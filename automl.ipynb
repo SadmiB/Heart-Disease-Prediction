{
 "cells": [
  {
   "cell_type": "markdown",
   "metadata": {},
   "source": [
    "# Automated ML\n",
    "\n",
    "Import all the dependencies that will be needed for the project."
   ]
  },
  {
   "cell_type": "code",
   "execution_count": 1,
   "metadata": {
    "gather": {
     "logged": 1598423888013
    },
    "jupyter": {
     "outputs_hidden": false,
     "source_hidden": false
    },
    "nteract": {
     "transient": {
      "deleting": false
     }
    }
   },
   "outputs": [
    {
     "name": "stdout",
     "output_type": "stream",
     "text": [
      "SDK version: 1.19.0\n"
     ]
    }
   ],
   "source": [
    "import logging\n",
    "import os\n",
    "import csv\n",
    "\n",
    "from matplotlib import pyplot as plt\n",
    "import numpy as np\n",
    "import pandas as pd\n",
    "from sklearn import datasets\n",
    "import pkg_resources\n",
    "\n",
    "import azureml.core\n",
    "from azureml.core.experiment import Experiment\n",
    "from azureml.core.workspace import Workspace\n",
    "from azureml.train.automl import AutoMLConfig\n",
    "from azureml.core.dataset import Dataset\n",
    "\n",
    "\n",
    "print(\"SDK version:\", azureml.core.VERSION)"
   ]
  },
  {
   "cell_type": "markdown",
   "metadata": {},
   "source": [
    "# Workspace"
   ]
  },
  {
   "cell_type": "code",
   "execution_count": 2,
   "metadata": {},
   "outputs": [
    {
     "name": "stdout",
     "output_type": "stream",
     "text": [
      "quick-starts-ws-135048\n",
      "aml-quickstarts-135048\n",
      "southcentralus\n",
      "a0a76bad-11a1-4a2d-9887-97a29122c8ed\n"
     ]
    }
   ],
   "source": [
    "ws = Workspace.from_config()\n",
    "print(ws.name, ws.resource_group, ws.location, ws.subscription_id, sep = '\\n')"
   ]
  },
  {
   "cell_type": "markdown",
   "metadata": {},
   "source": [
    "## Dataset\n",
    "\n",
    "### Overview\n",
    "We will be using a dataset about hear disease from [kaggle](https://www.kaggle.com/ronitf/heart-disease-uci)\n",
    "\n",
    "* age: age in years \n",
    "* sex: (1 = male; 0 = female) \n",
    "* cp: chest pain type\n",
    "* trestbps: resting blood pressure (in mm Hg on admission to the hospital)\n",
    "* chol: serum cholestoral in mg/dl \n",
    "* fbs: (fasting blood sugar &gt; 120 mg/dl) (1 = true; 0 = false) \n",
    "* restecg: resting electrocardiographic results \n",
    "* thalach: maximum heart rate achieved \n",
    "* exang: exercise induced angina (1 = yes; 0 = no) \n",
    "* oldpeak: ST depression induced by exercise relative to rest \n",
    "* slope: the slope of the peak exercise ST segment\n",
    "* ca: number of major vessels (0-3) colored by flourosopy \n",
    "* thal: 3 = normal; 6 = fixed defect; 7 = reversable defect \n",
    "* target: 1 or 0 \n",
    "\n",
    "\n",
    "Accessing the dataset:"
   ]
  },
  {
   "cell_type": "code",
   "execution_count": 3,
   "metadata": {},
   "outputs": [
    {
     "name": "stdout",
     "output_type": "stream",
     "text": [
      "Dataset heart-disease-dataset already exists..!\n"
     ]
    },
    {
     "data": {
      "text/html": [
       "<div>\n",
       "<style scoped>\n",
       "    .dataframe tbody tr th:only-of-type {\n",
       "        vertical-align: middle;\n",
       "    }\n",
       "\n",
       "    .dataframe tbody tr th {\n",
       "        vertical-align: top;\n",
       "    }\n",
       "\n",
       "    .dataframe thead th {\n",
       "        text-align: right;\n",
       "    }\n",
       "</style>\n",
       "<table border=\"1\" class=\"dataframe\">\n",
       "  <thead>\n",
       "    <tr style=\"text-align: right;\">\n",
       "      <th></th>\n",
       "      <th>age</th>\n",
       "      <th>sex</th>\n",
       "      <th>cp</th>\n",
       "      <th>trestbps</th>\n",
       "      <th>chol</th>\n",
       "      <th>fbs</th>\n",
       "      <th>restecg</th>\n",
       "      <th>thalach</th>\n",
       "      <th>exang</th>\n",
       "      <th>oldpeak</th>\n",
       "      <th>slope</th>\n",
       "      <th>ca</th>\n",
       "      <th>thal</th>\n",
       "      <th>target</th>\n",
       "    </tr>\n",
       "  </thead>\n",
       "  <tbody>\n",
       "    <tr>\n",
       "      <th>count</th>\n",
       "      <td>303.000000</td>\n",
       "      <td>303.000000</td>\n",
       "      <td>303.000000</td>\n",
       "      <td>303.000000</td>\n",
       "      <td>303.000000</td>\n",
       "      <td>303.000000</td>\n",
       "      <td>303.000000</td>\n",
       "      <td>303.000000</td>\n",
       "      <td>303.000000</td>\n",
       "      <td>303.000000</td>\n",
       "      <td>303.000000</td>\n",
       "      <td>303.000000</td>\n",
       "      <td>303.000000</td>\n",
       "      <td>303.000000</td>\n",
       "    </tr>\n",
       "    <tr>\n",
       "      <th>mean</th>\n",
       "      <td>54.366337</td>\n",
       "      <td>0.683168</td>\n",
       "      <td>0.966997</td>\n",
       "      <td>131.623762</td>\n",
       "      <td>246.264026</td>\n",
       "      <td>0.148515</td>\n",
       "      <td>0.528053</td>\n",
       "      <td>149.646865</td>\n",
       "      <td>0.326733</td>\n",
       "      <td>1.039604</td>\n",
       "      <td>1.399340</td>\n",
       "      <td>0.729373</td>\n",
       "      <td>2.313531</td>\n",
       "      <td>0.544554</td>\n",
       "    </tr>\n",
       "    <tr>\n",
       "      <th>std</th>\n",
       "      <td>9.082101</td>\n",
       "      <td>0.466011</td>\n",
       "      <td>1.032052</td>\n",
       "      <td>17.538143</td>\n",
       "      <td>51.830751</td>\n",
       "      <td>0.356198</td>\n",
       "      <td>0.525860</td>\n",
       "      <td>22.905161</td>\n",
       "      <td>0.469794</td>\n",
       "      <td>1.161075</td>\n",
       "      <td>0.616226</td>\n",
       "      <td>1.022606</td>\n",
       "      <td>0.612277</td>\n",
       "      <td>0.498835</td>\n",
       "    </tr>\n",
       "    <tr>\n",
       "      <th>min</th>\n",
       "      <td>29.000000</td>\n",
       "      <td>0.000000</td>\n",
       "      <td>0.000000</td>\n",
       "      <td>94.000000</td>\n",
       "      <td>126.000000</td>\n",
       "      <td>0.000000</td>\n",
       "      <td>0.000000</td>\n",
       "      <td>71.000000</td>\n",
       "      <td>0.000000</td>\n",
       "      <td>0.000000</td>\n",
       "      <td>0.000000</td>\n",
       "      <td>0.000000</td>\n",
       "      <td>0.000000</td>\n",
       "      <td>0.000000</td>\n",
       "    </tr>\n",
       "    <tr>\n",
       "      <th>25%</th>\n",
       "      <td>47.500000</td>\n",
       "      <td>0.000000</td>\n",
       "      <td>0.000000</td>\n",
       "      <td>120.000000</td>\n",
       "      <td>211.000000</td>\n",
       "      <td>0.000000</td>\n",
       "      <td>0.000000</td>\n",
       "      <td>133.500000</td>\n",
       "      <td>0.000000</td>\n",
       "      <td>0.000000</td>\n",
       "      <td>1.000000</td>\n",
       "      <td>0.000000</td>\n",
       "      <td>2.000000</td>\n",
       "      <td>0.000000</td>\n",
       "    </tr>\n",
       "    <tr>\n",
       "      <th>50%</th>\n",
       "      <td>55.000000</td>\n",
       "      <td>1.000000</td>\n",
       "      <td>1.000000</td>\n",
       "      <td>130.000000</td>\n",
       "      <td>240.000000</td>\n",
       "      <td>0.000000</td>\n",
       "      <td>1.000000</td>\n",
       "      <td>153.000000</td>\n",
       "      <td>0.000000</td>\n",
       "      <td>0.800000</td>\n",
       "      <td>1.000000</td>\n",
       "      <td>0.000000</td>\n",
       "      <td>2.000000</td>\n",
       "      <td>1.000000</td>\n",
       "    </tr>\n",
       "    <tr>\n",
       "      <th>75%</th>\n",
       "      <td>61.000000</td>\n",
       "      <td>1.000000</td>\n",
       "      <td>2.000000</td>\n",
       "      <td>140.000000</td>\n",
       "      <td>274.500000</td>\n",
       "      <td>0.000000</td>\n",
       "      <td>1.000000</td>\n",
       "      <td>166.000000</td>\n",
       "      <td>1.000000</td>\n",
       "      <td>1.600000</td>\n",
       "      <td>2.000000</td>\n",
       "      <td>1.000000</td>\n",
       "      <td>3.000000</td>\n",
       "      <td>1.000000</td>\n",
       "    </tr>\n",
       "    <tr>\n",
       "      <th>max</th>\n",
       "      <td>77.000000</td>\n",
       "      <td>1.000000</td>\n",
       "      <td>3.000000</td>\n",
       "      <td>200.000000</td>\n",
       "      <td>564.000000</td>\n",
       "      <td>1.000000</td>\n",
       "      <td>2.000000</td>\n",
       "      <td>202.000000</td>\n",
       "      <td>1.000000</td>\n",
       "      <td>6.200000</td>\n",
       "      <td>2.000000</td>\n",
       "      <td>4.000000</td>\n",
       "      <td>3.000000</td>\n",
       "      <td>1.000000</td>\n",
       "    </tr>\n",
       "  </tbody>\n",
       "</table>\n",
       "</div>"
      ],
      "text/plain": [
       "              age         sex          cp    trestbps        chol         fbs  \\\n",
       "count  303.000000  303.000000  303.000000  303.000000  303.000000  303.000000   \n",
       "mean    54.366337    0.683168    0.966997  131.623762  246.264026    0.148515   \n",
       "std      9.082101    0.466011    1.032052   17.538143   51.830751    0.356198   \n",
       "min     29.000000    0.000000    0.000000   94.000000  126.000000    0.000000   \n",
       "25%     47.500000    0.000000    0.000000  120.000000  211.000000    0.000000   \n",
       "50%     55.000000    1.000000    1.000000  130.000000  240.000000    0.000000   \n",
       "75%     61.000000    1.000000    2.000000  140.000000  274.500000    0.000000   \n",
       "max     77.000000    1.000000    3.000000  200.000000  564.000000    1.000000   \n",
       "\n",
       "          restecg     thalach       exang     oldpeak       slope          ca  \\\n",
       "count  303.000000  303.000000  303.000000  303.000000  303.000000  303.000000   \n",
       "mean     0.528053  149.646865    0.326733    1.039604    1.399340    0.729373   \n",
       "std      0.525860   22.905161    0.469794    1.161075    0.616226    1.022606   \n",
       "min      0.000000   71.000000    0.000000    0.000000    0.000000    0.000000   \n",
       "25%      0.000000  133.500000    0.000000    0.000000    1.000000    0.000000   \n",
       "50%      1.000000  153.000000    0.000000    0.800000    1.000000    0.000000   \n",
       "75%      1.000000  166.000000    1.000000    1.600000    2.000000    1.000000   \n",
       "max      2.000000  202.000000    1.000000    6.200000    2.000000    4.000000   \n",
       "\n",
       "             thal      target  \n",
       "count  303.000000  303.000000  \n",
       "mean     2.313531    0.544554  \n",
       "std      0.612277    0.498835  \n",
       "min      0.000000    0.000000  \n",
       "25%      2.000000    0.000000  \n",
       "50%      2.000000    1.000000  \n",
       "75%      3.000000    1.000000  \n",
       "max      3.000000    1.000000  "
      ]
     },
     "execution_count": 3,
     "metadata": {},
     "output_type": "execute_result"
    }
   ],
   "source": [
    "found = False\n",
    "key = \"heart-disease-dataset\"\n",
    "description_text = \"Heart disease dataset\"\n",
    "\n",
    "if key in ws.datasets.keys():\n",
    "        print(\"Dataset {} already exists..!\".format(key))\n",
    "        found = True\n",
    "        dataset = Dataset.get_by_name(ws, name=key)\n",
    "\n",
    "if not found:\n",
    "        # Create AML Dataset and register it into Workspace\n",
    "        print(\"Creating {} dataset..\".format(key))\n",
    "        data = 'https://raw.githubusercontent.com/SadmiB/Heart-Disease-Prediction/master/heart.csv'\n",
    "        dataset = Dataset.Tabular.from_delimited_files(data)        \n",
    "        #Register Dataset in Workspace\n",
    "        dataset = dataset.register(workspace=ws,\n",
    "                                   name=key,\n",
    "                                   description=description_text)\n",
    "\n",
    "\n",
    "df = dataset.to_pandas_dataframe()\n",
    "df.describe()"
   ]
  },
  {
   "cell_type": "code",
   "execution_count": 5,
   "metadata": {},
   "outputs": [
    {
     "data": {
      "text/html": [
       "<div>\n",
       "<style scoped>\n",
       "    .dataframe tbody tr th:only-of-type {\n",
       "        vertical-align: middle;\n",
       "    }\n",
       "\n",
       "    .dataframe tbody tr th {\n",
       "        vertical-align: top;\n",
       "    }\n",
       "\n",
       "    .dataframe thead th {\n",
       "        text-align: right;\n",
       "    }\n",
       "</style>\n",
       "<table border=\"1\" class=\"dataframe\">\n",
       "  <thead>\n",
       "    <tr style=\"text-align: right;\">\n",
       "      <th></th>\n",
       "      <th>age</th>\n",
       "      <th>sex</th>\n",
       "      <th>cp</th>\n",
       "      <th>trestbps</th>\n",
       "      <th>chol</th>\n",
       "      <th>fbs</th>\n",
       "      <th>restecg</th>\n",
       "      <th>thalach</th>\n",
       "      <th>exang</th>\n",
       "      <th>oldpeak</th>\n",
       "      <th>slope</th>\n",
       "      <th>ca</th>\n",
       "      <th>thal</th>\n",
       "      <th>target</th>\n",
       "    </tr>\n",
       "  </thead>\n",
       "  <tbody>\n",
       "    <tr>\n",
       "      <th>0</th>\n",
       "      <td>63</td>\n",
       "      <td>1</td>\n",
       "      <td>3</td>\n",
       "      <td>145</td>\n",
       "      <td>233</td>\n",
       "      <td>1</td>\n",
       "      <td>0</td>\n",
       "      <td>150</td>\n",
       "      <td>0</td>\n",
       "      <td>2.3</td>\n",
       "      <td>0</td>\n",
       "      <td>0</td>\n",
       "      <td>1</td>\n",
       "      <td>1</td>\n",
       "    </tr>\n",
       "    <tr>\n",
       "      <th>1</th>\n",
       "      <td>37</td>\n",
       "      <td>1</td>\n",
       "      <td>2</td>\n",
       "      <td>130</td>\n",
       "      <td>250</td>\n",
       "      <td>0</td>\n",
       "      <td>1</td>\n",
       "      <td>187</td>\n",
       "      <td>0</td>\n",
       "      <td>3.5</td>\n",
       "      <td>0</td>\n",
       "      <td>0</td>\n",
       "      <td>2</td>\n",
       "      <td>1</td>\n",
       "    </tr>\n",
       "    <tr>\n",
       "      <th>2</th>\n",
       "      <td>41</td>\n",
       "      <td>0</td>\n",
       "      <td>1</td>\n",
       "      <td>130</td>\n",
       "      <td>204</td>\n",
       "      <td>0</td>\n",
       "      <td>0</td>\n",
       "      <td>172</td>\n",
       "      <td>0</td>\n",
       "      <td>1.4</td>\n",
       "      <td>2</td>\n",
       "      <td>0</td>\n",
       "      <td>2</td>\n",
       "      <td>1</td>\n",
       "    </tr>\n",
       "    <tr>\n",
       "      <th>3</th>\n",
       "      <td>56</td>\n",
       "      <td>1</td>\n",
       "      <td>1</td>\n",
       "      <td>120</td>\n",
       "      <td>236</td>\n",
       "      <td>0</td>\n",
       "      <td>1</td>\n",
       "      <td>178</td>\n",
       "      <td>0</td>\n",
       "      <td>0.8</td>\n",
       "      <td>2</td>\n",
       "      <td>0</td>\n",
       "      <td>2</td>\n",
       "      <td>1</td>\n",
       "    </tr>\n",
       "    <tr>\n",
       "      <th>4</th>\n",
       "      <td>57</td>\n",
       "      <td>0</td>\n",
       "      <td>0</td>\n",
       "      <td>120</td>\n",
       "      <td>354</td>\n",
       "      <td>0</td>\n",
       "      <td>1</td>\n",
       "      <td>163</td>\n",
       "      <td>1</td>\n",
       "      <td>0.6</td>\n",
       "      <td>2</td>\n",
       "      <td>0</td>\n",
       "      <td>2</td>\n",
       "      <td>1</td>\n",
       "    </tr>\n",
       "  </tbody>\n",
       "</table>\n",
       "</div>"
      ],
      "text/plain": [
       "   age  sex  cp  trestbps  chol  fbs  restecg  thalach  exang  oldpeak  slope  \\\n",
       "0   63    1   3       145   233    1        0      150      0      2.3      0   \n",
       "1   37    1   2       130   250    0        1      187      0      3.5      0   \n",
       "2   41    0   1       130   204    0        0      172      0      1.4      2   \n",
       "3   56    1   1       120   236    0        1      178      0      0.8      2   \n",
       "4   57    0   0       120   354    0        1      163      1      0.6      2   \n",
       "\n",
       "   ca  thal  target  \n",
       "0   0     1       1  \n",
       "1   0     2       1  \n",
       "2   0     2       1  \n",
       "3   0     2       1  \n",
       "4   0     2       1  "
      ]
     },
     "execution_count": 5,
     "metadata": {},
     "output_type": "execute_result"
    }
   ],
   "source": [
    "dataset.take(5).to_pandas_dataframe()"
   ]
  },
  {
   "cell_type": "markdown",
   "metadata": {},
   "source": [
    "# Experiment"
   ]
  },
  {
   "cell_type": "code",
   "execution_count": 6,
   "metadata": {},
   "outputs": [
    {
     "data": {
      "text/html": [
       "<table style=\"width:100%\"><tr><th>Name</th><th>Workspace</th><th>Report Page</th><th>Docs Page</th></tr><tr><td>heart-disease-experiment-ml1</td><td>quick-starts-ws-135048</td><td><a href=\"https://ml.azure.com/experiments/heart-disease-experiment-ml1?wsid=/subscriptions/a0a76bad-11a1-4a2d-9887-97a29122c8ed/resourcegroups/aml-quickstarts-135048/workspaces/quick-starts-ws-135048\" target=\"_blank\" rel=\"noopener\">Link to Azure Machine Learning studio</a></td><td><a href=\"https://docs.microsoft.com/en-us/python/api/azureml-core/azureml.core.experiment.Experiment?view=azure-ml-py\" target=\"_blank\" rel=\"noopener\">Link to Documentation</a></td></tr></table>"
      ],
      "text/plain": [
       "Experiment(Name: heart-disease-experiment-ml1,\n",
       "Workspace: quick-starts-ws-135048)"
      ]
     },
     "execution_count": 6,
     "metadata": {},
     "output_type": "execute_result"
    }
   ],
   "source": [
    "# choose a name for experiment\n",
    "experiment_name = 'heart-disease-experiment-ml1'\n",
    "project_folder = 'heart-disease-project'\n",
    "experiment=Experiment(ws, experiment_name)\n",
    "experiment"
   ]
  },
  {
   "cell_type": "markdown",
   "metadata": {},
   "source": [
    "# Create or Attach an AmlCompute cluster"
   ]
  },
  {
   "cell_type": "code",
   "execution_count": 7,
   "metadata": {},
   "outputs": [
    {
     "name": "stdout",
     "output_type": "stream",
     "text": [
      "Creating\n",
      "Succeeded...............................................................................................................\n",
      "AmlCompute wait for completion finished\n",
      "\n",
      "Wait timeout has been reached\n",
      "Current provisioning state of AmlCompute is \"Succeeded\" and current node count is \"0\"\n"
     ]
    }
   ],
   "source": [
    "from azureml.core.compute import AmlCompute\n",
    "from azureml.core.compute import ComputeTarget\n",
    "from azureml.core.compute_target import ComputeTargetException\n",
    "\n",
    "# NOTE: update the cluster name to match the existing cluster\n",
    "# Choose a name for your CPU cluster\n",
    "amlcompute_cluster_name = \"auto-ml\"\n",
    "\n",
    "# Verify that cluster does not exist already\n",
    "try:\n",
    "    compute_target = ComputeTarget(workspace=ws, name=amlcompute_cluster_name)\n",
    "    print('Found existing cluster, use it.')\n",
    "except ComputeTargetException:\n",
    "    compute_config = AmlCompute.provisioning_configuration(vm_size='STANDARD_D2_V2',\n",
    "                                                           max_nodes=4)\n",
    "    compute_target = ComputeTarget.create(ws, amlcompute_cluster_name, compute_config)\n",
    "\n",
    "    compute_target.wait_for_completion(show_output=True, min_node_count = 1, timeout_in_minutes = 10)"
   ]
  },
  {
   "cell_type": "markdown",
   "metadata": {},
   "source": [
    "## AutoML Configuration\n",
    "\n",
    "Below the Automl settings and cofiguration we using AUC_weighted as a primary metric and the task to solve is classification. The target column is \"target\" which represents whether a patient has a heart disease or not."
   ]
  },
  {
   "cell_type": "code",
   "execution_count": 12,
   "metadata": {
    "gather": {
     "logged": 1598429217746
    },
    "jupyter": {
     "outputs_hidden": false,
     "source_hidden": false
    },
    "nteract": {
     "transient": {
      "deleting": false
     }
    }
   },
   "outputs": [],
   "source": [
    "# Automl settings\n",
    "automl_settings = { \n",
    "    \"experiment_timeout_minutes\": 20,\n",
    "    \"max_concurrent_iterations\": 5,\n",
    "    \"enable_onnx_compatible_models\": True,\n",
    "    \"primary_metric\" : 'accuracy',\n",
    "    \"experiment_exit_score\" : 0.9984,\n",
    "    \"enable_early_stopping\" : True,\n",
    "    \"featurization\" : \"auto\"\n",
    "}\n",
    "\n",
    "# automl config\n",
    "automl_config = AutoMLConfig(compute_target=compute_target,\n",
    "                             task = \"classification\",\n",
    "                             blocked_models = ['KNN','LinearSVM'],\n",
    "                             training_data=dataset,\n",
    "                             label_column_name=\"target\",   \n",
    "                             path = project_folder,\n",
    "                             debug_log = \"automl_errors.log\",\n",
    "                             **automl_settings)"
   ]
  },
  {
   "cell_type": "code",
   "execution_count": 13,
   "metadata": {
    "gather": {
     "logged": 1598431107951
    },
    "jupyter": {
     "outputs_hidden": false,
     "source_hidden": false
    },
    "nteract": {
     "transient": {
      "deleting": false
     }
    }
   },
   "outputs": [
    {
     "name": "stdout",
     "output_type": "stream",
     "text": [
      "Running on remote.\n"
     ]
    }
   ],
   "source": [
    "# Submit the ml experiment\n",
    "remote_run = experiment.submit(automl_config)"
   ]
  },
  {
   "cell_type": "markdown",
   "metadata": {},
   "source": [
    "## Run Details\n",
    "\n",
    "OPTIONAL: Write about the different models trained and their performance. Why do you think some models did better than others?\n",
    "\n",
    "TODO: In the cell below, use the `RunDetails` widget to show the different experiments."
   ]
  },
  {
   "cell_type": "code",
   "execution_count": 14,
   "metadata": {
    "scrolled": true
   },
   "outputs": [
    {
     "data": {
      "application/vnd.jupyter.widget-view+json": {
       "model_id": "c9c32f82f06c47ed8532147bdbd07962",
       "version_major": 2,
       "version_minor": 0
      },
      "text/plain": [
       "_AutoMLWidget(widget_settings={'childWidgetDisplay': 'popup', 'send_telemetry': False, 'log_level': 'INFO', 's…"
      ]
     },
     "metadata": {},
     "output_type": "display_data"
    },
    {
     "data": {
      "application/aml.mini.widget.v1": "{\"status\": \"Completed\", \"workbench_run_details_uri\": \"https://ml.azure.com/experiments/heart-disease-experiment-ml1/runs/AutoML_456326d9-d2ab-439d-9f2b-7c9e35b655b3?wsid=/subscriptions/a0a76bad-11a1-4a2d-9887-97a29122c8ed/resourcegroups/aml-quickstarts-135048/workspaces/quick-starts-ws-135048\", \"run_id\": \"AutoML_456326d9-d2ab-439d-9f2b-7c9e35b655b3\", \"run_properties\": {\"run_id\": \"AutoML_456326d9-d2ab-439d-9f2b-7c9e35b655b3\", \"created_utc\": \"2021-01-17T15:03:14.12251Z\", \"properties\": {\"num_iterations\": \"1000\", \"training_type\": \"TrainFull\", \"acquisition_function\": \"EI\", \"primary_metric\": \"accuracy\", \"train_split\": \"0\", \"acquisition_parameter\": \"0\", \"num_cross_validation\": null, \"target\": \"auto-ml\", \"AMLSettingsJsonString\": \"{\\\"path\\\":null,\\\"name\\\":\\\"heart-disease-experiment-ml1\\\",\\\"subscription_id\\\":\\\"a0a76bad-11a1-4a2d-9887-97a29122c8ed\\\",\\\"resource_group\\\":\\\"aml-quickstarts-135048\\\",\\\"workspace_name\\\":\\\"quick-starts-ws-135048\\\",\\\"region\\\":\\\"southcentralus\\\",\\\"compute_target\\\":\\\"auto-ml\\\",\\\"spark_service\\\":null,\\\"azure_service\\\":\\\"remote\\\",\\\"many_models\\\":false,\\\"pipeline_fetch_max_batch_size\\\":1,\\\"iterations\\\":1000,\\\"primary_metric\\\":\\\"accuracy\\\",\\\"task_type\\\":\\\"classification\\\",\\\"data_script\\\":null,\\\"validation_size\\\":0.0,\\\"n_cross_validations\\\":null,\\\"y_min\\\":null,\\\"y_max\\\":null,\\\"num_classes\\\":null,\\\"featurization\\\":\\\"auto\\\",\\\"_ignore_package_version_incompatibilities\\\":false,\\\"is_timeseries\\\":false,\\\"max_cores_per_iteration\\\":1,\\\"max_concurrent_iterations\\\":5,\\\"iteration_timeout_minutes\\\":null,\\\"mem_in_mb\\\":null,\\\"enforce_time_on_windows\\\":false,\\\"experiment_timeout_minutes\\\":20,\\\"experiment_exit_score\\\":0.9984,\\\"whitelist_models\\\":null,\\\"blacklist_algos\\\":[\\\"KNN\\\",\\\"LinearSVM\\\",\\\"TensorFlowLinearClassifier\\\",\\\"TensorFlowDNN\\\"],\\\"supported_models\\\":[\\\"ExtremeRandomTrees\\\",\\\"XGBoostClassifier\\\",\\\"DecisionTree\\\",\\\"TensorFlowLinearClassifier\\\",\\\"AveragedPerceptronClassifier\\\",\\\"KNN\\\",\\\"LogisticRegression\\\",\\\"RandomForest\\\",\\\"LightGBM\\\",\\\"SGD\\\",\\\"BernoulliNaiveBayes\\\",\\\"LinearSVM\\\",\\\"MultinomialNaiveBayes\\\",\\\"GradientBoosting\\\",\\\"TensorFlowDNN\\\",\\\"SVM\\\"],\\\"auto_blacklist\\\":true,\\\"blacklist_samples_reached\\\":false,\\\"exclude_nan_labels\\\":true,\\\"verbosity\\\":20,\\\"_debug_log\\\":\\\"azureml_automl.log\\\",\\\"show_warnings\\\":false,\\\"model_explainability\\\":true,\\\"service_url\\\":null,\\\"sdk_url\\\":null,\\\"sdk_packages\\\":null,\\\"enable_onnx_compatible_models\\\":true,\\\"enable_split_onnx_featurizer_estimator_models\\\":false,\\\"vm_type\\\":\\\"STANDARD_D2_V2\\\",\\\"telemetry_verbosity\\\":20,\\\"send_telemetry\\\":true,\\\"enable_dnn\\\":false,\\\"scenario\\\":\\\"SDK-1.13.0\\\",\\\"environment_label\\\":null,\\\"force_text_dnn\\\":false,\\\"enable_feature_sweeping\\\":false,\\\"enable_early_stopping\\\":true,\\\"early_stopping_n_iters\\\":10,\\\"metrics\\\":null,\\\"enable_ensembling\\\":true,\\\"enable_stack_ensembling\\\":false,\\\"ensemble_iterations\\\":15,\\\"enable_tf\\\":false,\\\"enable_subsampling\\\":null,\\\"subsample_seed\\\":null,\\\"enable_nimbusml\\\":false,\\\"enable_streaming\\\":false,\\\"force_streaming\\\":false,\\\"track_child_runs\\\":true,\\\"allowed_private_models\\\":[],\\\"label_column_name\\\":\\\"target\\\",\\\"weight_column_name\\\":null,\\\"cv_split_column_names\\\":null,\\\"enable_local_managed\\\":false,\\\"_local_managed_run_id\\\":null,\\\"cost_mode\\\":1,\\\"lag_length\\\":0,\\\"metric_operation\\\":\\\"maximize\\\",\\\"preprocess\\\":true}\", \"DataPrepJsonString\": \"{\\\\\\\"training_data\\\\\\\": \\\\\\\"{\\\\\\\\\\\\\\\"blocks\\\\\\\\\\\\\\\": [{\\\\\\\\\\\\\\\"id\\\\\\\\\\\\\\\": \\\\\\\\\\\\\\\"ae15fd67-e3bc-4318-9a9c-c366b0eec6bf\\\\\\\\\\\\\\\", \\\\\\\\\\\\\\\"type\\\\\\\\\\\\\\\": \\\\\\\\\\\\\\\"Microsoft.DPrep.GetFilesBlock\\\\\\\\\\\\\\\", \\\\\\\\\\\\\\\"arguments\\\\\\\\\\\\\\\": {\\\\\\\\\\\\\\\"isArchive\\\\\\\\\\\\\\\": false, \\\\\\\\\\\\\\\"path\\\\\\\\\\\\\\\": {\\\\\\\\\\\\\\\"target\\\\\\\\\\\\\\\": 4, \\\\\\\\\\\\\\\"resourceDetails\\\\\\\\\\\\\\\": [{\\\\\\\\\\\\\\\"path\\\\\\\\\\\\\\\": \\\\\\\\\\\\\\\"https://raw.githubusercontent.com/SadmiB/Heart-Disease-Prediction/master/heart.csv\\\\\\\\\\\\\\\"}]}}, \\\\\\\\\\\\\\\"localData\\\\\\\\\\\\\\\": {}, \\\\\\\\\\\\\\\"isEnabled\\\\\\\\\\\\\\\": true, \\\\\\\\\\\\\\\"name\\\\\\\\\\\\\\\": null, \\\\\\\\\\\\\\\"annotation\\\\\\\\\\\\\\\": null}, {\\\\\\\\\\\\\\\"id\\\\\\\\\\\\\\\": \\\\\\\\\\\\\\\"87ee85c5-e4b1-4633-ab2f-13d436e3846e\\\\\\\\\\\\\\\", \\\\\\\\\\\\\\\"type\\\\\\\\\\\\\\\": \\\\\\\\\\\\\\\"Microsoft.DPrep.ParseDelimitedBlock\\\\\\\\\\\\\\\", \\\\\\\\\\\\\\\"arguments\\\\\\\\\\\\\\\": {\\\\\\\\\\\\\\\"columnHeadersMode\\\\\\\\\\\\\\\": 3, \\\\\\\\\\\\\\\"fileEncoding\\\\\\\\\\\\\\\": 0, \\\\\\\\\\\\\\\"handleQuotedLineBreaks\\\\\\\\\\\\\\\": false, \\\\\\\\\\\\\\\"preview\\\\\\\\\\\\\\\": false, \\\\\\\\\\\\\\\"separator\\\\\\\\\\\\\\\": \\\\\\\\\\\\\\\",\\\\\\\\\\\\\\\", \\\\\\\\\\\\\\\"skipRows\\\\\\\\\\\\\\\": 0, \\\\\\\\\\\\\\\"skipRowsMode\\\\\\\\\\\\\\\": 0}, \\\\\\\\\\\\\\\"localData\\\\\\\\\\\\\\\": {}, \\\\\\\\\\\\\\\"isEnabled\\\\\\\\\\\\\\\": true, \\\\\\\\\\\\\\\"name\\\\\\\\\\\\\\\": null, \\\\\\\\\\\\\\\"annotation\\\\\\\\\\\\\\\": null}, {\\\\\\\\\\\\\\\"id\\\\\\\\\\\\\\\": \\\\\\\\\\\\\\\"be17b1fe-a0e7-42ee-a2c4-d66b5ebb3668\\\\\\\\\\\\\\\", \\\\\\\\\\\\\\\"type\\\\\\\\\\\\\\\": \\\\\\\\\\\\\\\"Microsoft.DPrep.DropColumnsBlock\\\\\\\\\\\\\\\", \\\\\\\\\\\\\\\"arguments\\\\\\\\\\\\\\\": {\\\\\\\\\\\\\\\"columns\\\\\\\\\\\\\\\": {\\\\\\\\\\\\\\\"type\\\\\\\\\\\\\\\": 0, \\\\\\\\\\\\\\\"details\\\\\\\\\\\\\\\": {\\\\\\\\\\\\\\\"selectedColumns\\\\\\\\\\\\\\\": [\\\\\\\\\\\\\\\"Path\\\\\\\\\\\\\\\"]}}}, \\\\\\\\\\\\\\\"localData\\\\\\\\\\\\\\\": {}, \\\\\\\\\\\\\\\"isEnabled\\\\\\\\\\\\\\\": true, \\\\\\\\\\\\\\\"name\\\\\\\\\\\\\\\": null, \\\\\\\\\\\\\\\"annotation\\\\\\\\\\\\\\\": null}, {\\\\\\\\\\\\\\\"id\\\\\\\\\\\\\\\": \\\\\\\\\\\\\\\"066ebd3b-f81f-43a2-a0bc-cdd002b0a8a7\\\\\\\\\\\\\\\", \\\\\\\\\\\\\\\"type\\\\\\\\\\\\\\\": \\\\\\\\\\\\\\\"Microsoft.DPrep.SetColumnTypesBlock\\\\\\\\\\\\\\\", \\\\\\\\\\\\\\\"arguments\\\\\\\\\\\\\\\": {\\\\\\\\\\\\\\\"columnConversion\\\\\\\\\\\\\\\": [{\\\\\\\\\\\\\\\"column\\\\\\\\\\\\\\\": {\\\\\\\\\\\\\\\"type\\\\\\\\\\\\\\\": 2, \\\\\\\\\\\\\\\"details\\\\\\\\\\\\\\\": {\\\\\\\\\\\\\\\"selectedColumn\\\\\\\\\\\\\\\": \\\\\\\\\\\\\\\"age\\\\\\\\\\\\\\\"}}, \\\\\\\\\\\\\\\"typeProperty\\\\\\\\\\\\\\\": 2}, {\\\\\\\\\\\\\\\"column\\\\\\\\\\\\\\\": {\\\\\\\\\\\\\\\"type\\\\\\\\\\\\\\\": 2, \\\\\\\\\\\\\\\"details\\\\\\\\\\\\\\\": {\\\\\\\\\\\\\\\"selectedColumn\\\\\\\\\\\\\\\": \\\\\\\\\\\\\\\"sex\\\\\\\\\\\\\\\"}}, \\\\\\\\\\\\\\\"typeProperty\\\\\\\\\\\\\\\": 2}, {\\\\\\\\\\\\\\\"column\\\\\\\\\\\\\\\": {\\\\\\\\\\\\\\\"type\\\\\\\\\\\\\\\": 2, \\\\\\\\\\\\\\\"details\\\\\\\\\\\\\\\": {\\\\\\\\\\\\\\\"selectedColumn\\\\\\\\\\\\\\\": \\\\\\\\\\\\\\\"cp\\\\\\\\\\\\\\\"}}, \\\\\\\\\\\\\\\"typeProperty\\\\\\\\\\\\\\\": 2}, {\\\\\\\\\\\\\\\"column\\\\\\\\\\\\\\\": {\\\\\\\\\\\\\\\"type\\\\\\\\\\\\\\\": 2, \\\\\\\\\\\\\\\"details\\\\\\\\\\\\\\\": {\\\\\\\\\\\\\\\"selectedColumn\\\\\\\\\\\\\\\": \\\\\\\\\\\\\\\"trestbps\\\\\\\\\\\\\\\"}}, \\\\\\\\\\\\\\\"typeProperty\\\\\\\\\\\\\\\": 2}, {\\\\\\\\\\\\\\\"column\\\\\\\\\\\\\\\": {\\\\\\\\\\\\\\\"type\\\\\\\\\\\\\\\": 2, \\\\\\\\\\\\\\\"details\\\\\\\\\\\\\\\": {\\\\\\\\\\\\\\\"selectedColumn\\\\\\\\\\\\\\\": \\\\\\\\\\\\\\\"chol\\\\\\\\\\\\\\\"}}, \\\\\\\\\\\\\\\"typeProperty\\\\\\\\\\\\\\\": 2}, {\\\\\\\\\\\\\\\"column\\\\\\\\\\\\\\\": {\\\\\\\\\\\\\\\"type\\\\\\\\\\\\\\\": 2, \\\\\\\\\\\\\\\"details\\\\\\\\\\\\\\\": {\\\\\\\\\\\\\\\"selectedColumn\\\\\\\\\\\\\\\": \\\\\\\\\\\\\\\"fbs\\\\\\\\\\\\\\\"}}, \\\\\\\\\\\\\\\"typeProperty\\\\\\\\\\\\\\\": 2}, {\\\\\\\\\\\\\\\"column\\\\\\\\\\\\\\\": {\\\\\\\\\\\\\\\"type\\\\\\\\\\\\\\\": 2, \\\\\\\\\\\\\\\"details\\\\\\\\\\\\\\\": {\\\\\\\\\\\\\\\"selectedColumn\\\\\\\\\\\\\\\": \\\\\\\\\\\\\\\"restecg\\\\\\\\\\\\\\\"}}, \\\\\\\\\\\\\\\"typeProperty\\\\\\\\\\\\\\\": 2}, {\\\\\\\\\\\\\\\"column\\\\\\\\\\\\\\\": {\\\\\\\\\\\\\\\"type\\\\\\\\\\\\\\\": 2, \\\\\\\\\\\\\\\"details\\\\\\\\\\\\\\\": {\\\\\\\\\\\\\\\"selectedColumn\\\\\\\\\\\\\\\": \\\\\\\\\\\\\\\"thalach\\\\\\\\\\\\\\\"}}, \\\\\\\\\\\\\\\"typeProperty\\\\\\\\\\\\\\\": 2}, {\\\\\\\\\\\\\\\"column\\\\\\\\\\\\\\\": {\\\\\\\\\\\\\\\"type\\\\\\\\\\\\\\\": 2, \\\\\\\\\\\\\\\"details\\\\\\\\\\\\\\\": {\\\\\\\\\\\\\\\"selectedColumn\\\\\\\\\\\\\\\": \\\\\\\\\\\\\\\"exang\\\\\\\\\\\\\\\"}}, \\\\\\\\\\\\\\\"typeProperty\\\\\\\\\\\\\\\": 2}, {\\\\\\\\\\\\\\\"column\\\\\\\\\\\\\\\": {\\\\\\\\\\\\\\\"type\\\\\\\\\\\\\\\": 2, \\\\\\\\\\\\\\\"details\\\\\\\\\\\\\\\": {\\\\\\\\\\\\\\\"selectedColumn\\\\\\\\\\\\\\\": \\\\\\\\\\\\\\\"oldpeak\\\\\\\\\\\\\\\"}}, \\\\\\\\\\\\\\\"typeProperty\\\\\\\\\\\\\\\": 3}, {\\\\\\\\\\\\\\\"column\\\\\\\\\\\\\\\": {\\\\\\\\\\\\\\\"type\\\\\\\\\\\\\\\": 2, \\\\\\\\\\\\\\\"details\\\\\\\\\\\\\\\": {\\\\\\\\\\\\\\\"selectedColumn\\\\\\\\\\\\\\\": \\\\\\\\\\\\\\\"slope\\\\\\\\\\\\\\\"}}, \\\\\\\\\\\\\\\"typeProperty\\\\\\\\\\\\\\\": 2}, {\\\\\\\\\\\\\\\"column\\\\\\\\\\\\\\\": {\\\\\\\\\\\\\\\"type\\\\\\\\\\\\\\\": 2, \\\\\\\\\\\\\\\"details\\\\\\\\\\\\\\\": {\\\\\\\\\\\\\\\"selectedColumn\\\\\\\\\\\\\\\": \\\\\\\\\\\\\\\"ca\\\\\\\\\\\\\\\"}}, \\\\\\\\\\\\\\\"typeProperty\\\\\\\\\\\\\\\": 2}, {\\\\\\\\\\\\\\\"column\\\\\\\\\\\\\\\": {\\\\\\\\\\\\\\\"type\\\\\\\\\\\\\\\": 2, \\\\\\\\\\\\\\\"details\\\\\\\\\\\\\\\": {\\\\\\\\\\\\\\\"selectedColumn\\\\\\\\\\\\\\\": \\\\\\\\\\\\\\\"thal\\\\\\\\\\\\\\\"}}, \\\\\\\\\\\\\\\"typeProperty\\\\\\\\\\\\\\\": 2}, {\\\\\\\\\\\\\\\"column\\\\\\\\\\\\\\\": {\\\\\\\\\\\\\\\"type\\\\\\\\\\\\\\\": 2, \\\\\\\\\\\\\\\"details\\\\\\\\\\\\\\\": {\\\\\\\\\\\\\\\"selectedColumn\\\\\\\\\\\\\\\": \\\\\\\\\\\\\\\"target\\\\\\\\\\\\\\\"}}, \\\\\\\\\\\\\\\"typeProperty\\\\\\\\\\\\\\\": 2}]}, \\\\\\\\\\\\\\\"localData\\\\\\\\\\\\\\\": {}, \\\\\\\\\\\\\\\"isEnabled\\\\\\\\\\\\\\\": true, \\\\\\\\\\\\\\\"name\\\\\\\\\\\\\\\": null, \\\\\\\\\\\\\\\"annotation\\\\\\\\\\\\\\\": null}], \\\\\\\\\\\\\\\"inspectors\\\\\\\\\\\\\\\": [], \\\\\\\\\\\\\\\"meta\\\\\\\\\\\\\\\": {\\\\\\\\\\\\\\\"savedDatasetId\\\\\\\\\\\\\\\": \\\\\\\\\\\\\\\"6f7ae265-73b9-4918-aad6-65f114a5947b\\\\\\\\\\\\\\\", \\\\\\\\\\\\\\\"datasetType\\\\\\\\\\\\\\\": \\\\\\\\\\\\\\\"tabular\\\\\\\\\\\\\\\", \\\\\\\\\\\\\\\"subscriptionId\\\\\\\\\\\\\\\": \\\\\\\\\\\\\\\"a0a76bad-11a1-4a2d-9887-97a29122c8ed\\\\\\\\\\\\\\\", \\\\\\\\\\\\\\\"workspaceId\\\\\\\\\\\\\\\": \\\\\\\\\\\\\\\"56c3de86-66f5-4b02-bb97-355faa9d42ac\\\\\\\\\\\\\\\", \\\\\\\\\\\\\\\"workspaceLocation\\\\\\\\\\\\\\\": \\\\\\\\\\\\\\\"southcentralus\\\\\\\\\\\\\\\"}}\\\\\\\", \\\\\\\"activities\\\\\\\": 0}\", \"EnableSubsampling\": null, \"runTemplate\": \"AutoML\", \"azureml.runsource\": \"automl\", \"display_task_type\": \"classification\", \"dependencies_versions\": \"{\\\"azureml-widgets\\\": \\\"1.19.0\\\", \\\"azureml-train\\\": \\\"1.19.0\\\", \\\"azureml-train-restclients-hyperdrive\\\": \\\"1.19.0\\\", \\\"azureml-train-core\\\": \\\"1.19.0\\\", \\\"azureml-train-automl\\\": \\\"1.19.0\\\", \\\"azureml-train-automl-runtime\\\": \\\"1.19.0\\\", \\\"azureml-train-automl-client\\\": \\\"1.19.0\\\", \\\"azureml-tensorboard\\\": \\\"1.19.0\\\", \\\"azureml-telemetry\\\": \\\"1.19.0\\\", \\\"azureml-sdk\\\": \\\"1.19.0\\\", \\\"azureml-samples\\\": \\\"0+unknown\\\", \\\"azureml-pipeline\\\": \\\"1.19.0\\\", \\\"azureml-pipeline-steps\\\": \\\"1.19.0\\\", \\\"azureml-pipeline-core\\\": \\\"1.19.0\\\", \\\"azureml-opendatasets\\\": \\\"1.19.0\\\", \\\"azureml-model-management-sdk\\\": \\\"1.0.1b6.post1\\\", \\\"azureml-mlflow\\\": \\\"1.19.0\\\", \\\"azureml-interpret\\\": \\\"1.19.0\\\", \\\"azureml-explain-model\\\": \\\"1.19.0\\\", \\\"azureml-defaults\\\": \\\"1.19.0\\\", \\\"azureml-dataset-runtime\\\": \\\"1.19.0.post1\\\", \\\"azureml-dataprep\\\": \\\"2.6.1\\\", \\\"azureml-dataprep-rslex\\\": \\\"1.4.0\\\", \\\"azureml-dataprep-native\\\": \\\"26.0.0\\\", \\\"azureml-datadrift\\\": \\\"1.19.0\\\", \\\"azureml-core\\\": \\\"1.19.0\\\", \\\"azureml-contrib-services\\\": \\\"1.19.0\\\", \\\"azureml-contrib-server\\\": \\\"1.19.0\\\", \\\"azureml-contrib-reinforcementlearning\\\": \\\"1.19.0\\\", \\\"azureml-contrib-pipeline-steps\\\": \\\"1.19.0\\\", \\\"azureml-contrib-notebook\\\": \\\"1.19.0\\\", \\\"azureml-contrib-interpret\\\": \\\"1.19.0\\\", \\\"azureml-contrib-gbdt\\\": \\\"1.19.0\\\", \\\"azureml-contrib-fairness\\\": \\\"1.19.0\\\", \\\"azureml-contrib-dataset\\\": \\\"1.19.0\\\", \\\"azureml-cli-common\\\": \\\"1.19.0\\\", \\\"azureml-automl-runtime\\\": \\\"1.19.0\\\", \\\"azureml-automl-core\\\": \\\"1.19.0\\\", \\\"azureml-accel-models\\\": \\\"1.19.0\\\"}\", \"_aml_system_scenario_identification\": \"Remote.Parent\", \"ClientType\": \"SDK\", \"environment_cpu_name\": \"AzureML-AutoML\", \"environment_cpu_label\": \"prod\", \"environment_gpu_name\": \"AzureML-AutoML-GPU\", \"environment_gpu_label\": \"prod\", \"root_attribution\": \"automl\", \"attribution\": \"AutoML\", \"Orchestrator\": \"AutoML\", \"CancelUri\": \"https://southcentralus.experiments.azureml.net/jasmine/v1.0/subscriptions/a0a76bad-11a1-4a2d-9887-97a29122c8ed/resourceGroups/aml-quickstarts-135048/providers/Microsoft.MachineLearningServices/workspaces/quick-starts-ws-135048/experimentids/48fa1b29-7621-4659-8d74-aa5dee6d5501/cancel/AutoML_456326d9-d2ab-439d-9f2b-7c9e35b655b3\", \"ClientSdkVersion\": \"1.19.0\", \"snapshotId\": \"00000000-0000-0000-0000-000000000000\", \"SetupRunId\": \"AutoML_456326d9-d2ab-439d-9f2b-7c9e35b655b3_setup\", \"SetupRunContainerId\": \"dcid.AutoML_456326d9-d2ab-439d-9f2b-7c9e35b655b3_setup\", \"FeaturizationRunJsonPath\": \"featurizer_container.json\", \"FeaturizationRunId\": \"AutoML_456326d9-d2ab-439d-9f2b-7c9e35b655b3_featurize\", \"ProblemInfoJsonString\": \"{\\\"dataset_num_categorical\\\": 0, \\\"is_sparse\\\": false, \\\"subsampling\\\": false, \\\"dataset_classes\\\": 2, \\\"dataset_features\\\": 13, \\\"dataset_samples\\\": 303, \\\"single_frequency_class_detected\\\": false}\", \"ModelExplainRunId\": \"AutoML_456326d9-d2ab-439d-9f2b-7c9e35b655b3_ModelExplain\"}, \"tags\": {\"model_explain_run\": \"best_run\", \"_aml_system_azureml.automlComponent\": \"AutoML\", \"pipeline_id\": \"\", \"score\": \"\", \"predicted_cost\": \"\", \"fit_time\": \"\", \"training_percent\": \"\", \"iteration\": \"\", \"run_preprocessor\": \"\", \"run_algorithm\": \"\", \"dynamic_whitelisting_iterations\": \"<25>;<30>;<35>;\", \"automl_best_child_run_id\": \"AutoML_456326d9-d2ab-439d-9f2b-7c9e35b655b3_38\", \"model_explain_best_run_child_id\": \"AutoML_456326d9-d2ab-439d-9f2b-7c9e35b655b3_38\"}, \"end_time_utc\": \"2021-01-17T15:25:20.46209Z\", \"status\": \"Completed\", \"log_files\": {}, \"log_groups\": [], \"run_duration\": \"0:22:06\"}, \"child_runs\": [{\"run_id\": \"AutoML_456326d9-d2ab-439d-9f2b-7c9e35b655b3_1\", \"run_number\": 50, \"metric\": null, \"status\": \"Completed\", \"run_type\": \"azureml.scriptrun\", \"training_percent\": \"100\", \"start_time\": \"2021-01-17T15:13:58.942708Z\", \"end_time\": \"2021-01-17T15:14:40.614206Z\", \"created_time\": \"2021-01-17T15:11:28.234643Z\", \"created_time_dt\": \"2021-01-17T15:11:28.234643Z\", \"duration\": \"0:03:12\", \"iteration\": \"1\", \"goal\": \"accuracy_max\", \"run_name\": \"MaxAbsScaler, XGBoostClassifier\", \"run_properties\": \"copy=True\", \"primary_metric\": 0.81129032, \"best_metric\": 0.81129032}, {\"run_id\": \"AutoML_456326d9-d2ab-439d-9f2b-7c9e35b655b3_0\", \"run_number\": 51, \"metric\": null, \"status\": \"Completed\", \"run_type\": \"azureml.scriptrun\", \"training_percent\": \"100\", \"start_time\": \"2021-01-17T15:13:47.090519Z\", \"end_time\": \"2021-01-17T15:17:23.767613Z\", \"created_time\": \"2021-01-17T15:11:28.247969Z\", \"created_time_dt\": \"2021-01-17T15:11:28.247969Z\", \"duration\": \"0:05:55\", \"iteration\": \"0\", \"goal\": \"accuracy_max\", \"run_name\": \"MaxAbsScaler, LightGBM\", \"run_properties\": \"copy=True\", \"primary_metric\": 0.80827957, \"best_metric\": 0.80827957}, {\"run_id\": \"AutoML_456326d9-d2ab-439d-9f2b-7c9e35b655b3_4\", \"run_number\": 52, \"metric\": null, \"status\": \"Completed\", \"run_type\": \"azureml.scriptrun\", \"training_percent\": \"100\", \"start_time\": \"2021-01-17T15:11:39.449031Z\", \"end_time\": \"2021-01-17T15:13:08.983136Z\", \"created_time\": \"2021-01-17T15:11:28.567169Z\", \"created_time_dt\": \"2021-01-17T15:11:28.567169Z\", \"duration\": \"0:01:40\", \"iteration\": \"4\", \"goal\": \"accuracy_max\", \"run_name\": \"MinMaxScaler, RandomForest\", \"run_properties\": \"copy=True, feature_range=(0, 1\", \"primary_metric\": 0.81827957, \"best_metric\": 0.82182796}, {\"run_id\": \"AutoML_456326d9-d2ab-439d-9f2b-7c9e35b655b3_2\", \"run_number\": 53, \"metric\": null, \"status\": \"Completed\", \"run_type\": \"azureml.scriptrun\", \"training_percent\": \"100\", \"start_time\": \"2021-01-17T15:13:12.935575Z\", \"end_time\": \"2021-01-17T15:13:55.944129Z\", \"created_time\": \"2021-01-17T15:11:28.571567Z\", \"created_time_dt\": \"2021-01-17T15:11:28.571567Z\", \"duration\": \"0:02:27\", \"iteration\": \"2\", \"goal\": \"accuracy_max\", \"run_name\": \"MinMaxScaler, RandomForest\", \"run_properties\": \"copy=True, feature_range=(0, 1\", \"primary_metric\": 0.82182796, \"best_metric\": 0.82182796}, {\"run_id\": \"AutoML_456326d9-d2ab-439d-9f2b-7c9e35b655b3_3\", \"run_number\": 54, \"metric\": null, \"status\": \"Completed\", \"run_type\": \"azureml.scriptrun\", \"training_percent\": \"100\", \"start_time\": \"2021-01-17T15:13:45.794953Z\", \"end_time\": \"2021-01-17T15:17:20.053885Z\", \"created_time\": \"2021-01-17T15:11:28.730521Z\", \"created_time_dt\": \"2021-01-17T15:11:28.730521Z\", \"duration\": \"0:05:51\", \"iteration\": \"3\", \"goal\": \"accuracy_max\", \"run_name\": \"MinMaxScaler, RandomForest\", \"run_properties\": \"copy=True, feature_range=(0, 1\", \"primary_metric\": 0.8116129, \"best_metric\": 0.82182796}, {\"run_id\": \"AutoML_456326d9-d2ab-439d-9f2b-7c9e35b655b3_5\", \"run_number\": 55, \"metric\": null, \"status\": \"Completed\", \"run_type\": \"azureml.scriptrun\", \"training_percent\": \"100\", \"start_time\": \"2021-01-17T15:14:17.778212Z\", \"end_time\": \"2021-01-17T15:16:48.086058Z\", \"created_time\": \"2021-01-17T15:13:13.055755Z\", \"created_time_dt\": \"2021-01-17T15:13:13.055755Z\", \"duration\": \"0:03:35\", \"iteration\": \"5\", \"goal\": \"accuracy_max\", \"run_name\": \"SparseNormalizer, XGBoostClassifier\", \"run_properties\": \"<azureml.automl.runtime.shared.model_wrappers.SparseNormalizer object at 0x7eff80b5c828\", \"primary_metric\": 0.82784946, \"best_metric\": 0.82784946}, {\"run_id\": \"AutoML_456326d9-d2ab-439d-9f2b-7c9e35b655b3_6\", \"run_number\": 56, \"metric\": null, \"status\": \"Completed\", \"run_type\": \"azureml.scriptrun\", \"training_percent\": \"100\", \"start_time\": \"2021-01-17T15:14:41.571829Z\", \"end_time\": \"2021-01-17T15:15:26.423056Z\", \"created_time\": \"2021-01-17T15:13:58.773048Z\", \"created_time_dt\": \"2021-01-17T15:13:58.773048Z\", \"duration\": \"0:01:27\", \"iteration\": \"6\", \"goal\": \"accuracy_max\", \"run_name\": \"MinMaxScaler, SVM\", \"run_properties\": \"copy=True, feature_range=(0, 1\", \"primary_metric\": 0.79494624, \"best_metric\": 0.82784946}, {\"run_id\": \"AutoML_456326d9-d2ab-439d-9f2b-7c9e35b655b3_7\", \"run_number\": 57, \"metric\": null, \"status\": \"Completed\", \"run_type\": \"azureml.scriptrun\", \"training_percent\": \"100\", \"start_time\": \"2021-01-17T15:15:32.333698Z\", \"end_time\": \"2021-01-17T15:16:23.018024Z\", \"created_time\": \"2021-01-17T15:14:43.261926Z\", \"created_time_dt\": \"2021-01-17T15:14:43.261926Z\", \"duration\": \"0:01:39\", \"iteration\": \"7\", \"goal\": \"accuracy_max\", \"run_name\": \"SparseNormalizer, XGBoostClassifier\", \"run_properties\": \"<azureml.automl.runtime.shared.model_wrappers.SparseNormalizer object at 0x7f6c9cf4d5c0\", \"primary_metric\": 0.82107527, \"best_metric\": 0.82784946}, {\"run_id\": \"AutoML_456326d9-d2ab-439d-9f2b-7c9e35b655b3_8\", \"run_number\": 58, \"metric\": null, \"status\": \"Completed\", \"run_type\": \"azureml.scriptrun\", \"training_percent\": \"100\", \"start_time\": \"2021-01-17T15:16:24.49523Z\", \"end_time\": \"2021-01-17T15:17:09.973986Z\", \"created_time\": \"2021-01-17T15:15:29.43079Z\", \"created_time_dt\": \"2021-01-17T15:15:29.43079Z\", \"duration\": \"0:01:40\", \"iteration\": \"8\", \"goal\": \"accuracy_max\", \"run_name\": \"MaxAbsScaler, GradientBoosting\", \"run_properties\": \"copy=True\", \"primary_metric\": 0.82806452, \"best_metric\": 0.82806452}, {\"run_id\": \"AutoML_456326d9-d2ab-439d-9f2b-7c9e35b655b3_9\", \"run_number\": 59, \"metric\": null, \"status\": \"Completed\", \"run_type\": \"azureml.scriptrun\", \"training_percent\": \"100\", \"start_time\": \"2021-01-17T15:16:53.625468Z\", \"end_time\": \"2021-01-17T15:17:53.187861Z\", \"created_time\": \"2021-01-17T15:16:25.92581Z\", \"created_time_dt\": \"2021-01-17T15:16:25.92581Z\", \"duration\": \"0:01:27\", \"iteration\": \"9\", \"goal\": \"accuracy_max\", \"run_name\": \"StandardScalerWrapper, LightGBM\", \"run_properties\": \"<azureml.automl.runtime.shared.model_wrappers.StandardScalerWrapper object at 0x7f681037f6a0\", \"primary_metric\": 0.81827957, \"best_metric\": 0.82806452}, {\"run_id\": \"AutoML_456326d9-d2ab-439d-9f2b-7c9e35b655b3_10\", \"run_number\": 60, \"metric\": null, \"status\": \"Completed\", \"run_type\": \"azureml.scriptrun\", \"training_percent\": \"100\", \"start_time\": \"2021-01-17T15:17:10.021522Z\", \"end_time\": \"2021-01-17T15:17:51.787056Z\", \"created_time\": \"2021-01-17T15:16:50.569445Z\", \"created_time_dt\": \"2021-01-17T15:16:50.569445Z\", \"duration\": \"0:01:01\", \"iteration\": \"10\", \"goal\": \"accuracy_max\", \"run_name\": \"MaxAbsScaler, LightGBM\", \"run_properties\": \"copy=True\", \"primary_metric\": 0.82473118, \"best_metric\": 0.82806452}, {\"run_id\": \"AutoML_456326d9-d2ab-439d-9f2b-7c9e35b655b3_11\", \"run_number\": 61, \"metric\": null, \"status\": \"Completed\", \"run_type\": \"azureml.scriptrun\", \"training_percent\": \"100\", \"start_time\": \"2021-01-17T15:17:24.331271Z\", \"end_time\": \"2021-01-17T15:18:14.542213Z\", \"created_time\": \"2021-01-17T15:17:12.531209Z\", \"created_time_dt\": \"2021-01-17T15:17:12.531209Z\", \"duration\": \"0:01:02\", \"iteration\": \"11\", \"goal\": \"accuracy_max\", \"run_name\": \"MinMaxScaler, RandomForest\", \"run_properties\": \"copy=True, feature_range=(0, 1\", \"primary_metric\": 0.83139785, \"best_metric\": 0.83139785}, {\"run_id\": \"AutoML_456326d9-d2ab-439d-9f2b-7c9e35b655b3_12\", \"run_number\": 62, \"metric\": null, \"status\": \"Completed\", \"run_type\": \"azureml.scriptrun\", \"training_percent\": \"100\", \"start_time\": \"2021-01-17T15:17:35.357406Z\", \"end_time\": \"2021-01-17T15:18:21.096125Z\", \"created_time\": \"2021-01-17T15:17:22.525149Z\", \"created_time_dt\": \"2021-01-17T15:17:22.525149Z\", \"duration\": \"0:00:58\", \"iteration\": \"12\", \"goal\": \"accuracy_max\", \"run_name\": \"StandardScalerWrapper, RandomForest\", \"run_properties\": \"<azureml.automl.runtime.shared.model_wrappers.StandardScalerWrapper object at 0x7fb5990ea518\", \"primary_metric\": 0.81172043, \"best_metric\": 0.83139785}, {\"run_id\": \"AutoML_456326d9-d2ab-439d-9f2b-7c9e35b655b3_13\", \"run_number\": 63, \"metric\": null, \"status\": \"Completed\", \"run_type\": \"azureml.scriptrun\", \"training_percent\": \"100\", \"start_time\": \"2021-01-17T15:17:53.050871Z\", \"end_time\": \"2021-01-17T15:18:39.213673Z\", \"created_time\": \"2021-01-17T15:17:28.438511Z\", \"created_time_dt\": \"2021-01-17T15:17:28.438511Z\", \"duration\": \"0:01:10\", \"iteration\": \"13\", \"goal\": \"accuracy_max\", \"run_name\": \"MinMaxScaler, LightGBM\", \"run_properties\": \"copy=True, feature_range=(0, 1\", \"primary_metric\": 0.83150538, \"best_metric\": 0.83150538}, {\"run_id\": \"AutoML_456326d9-d2ab-439d-9f2b-7c9e35b655b3_14\", \"run_number\": 64, \"metric\": null, \"status\": \"Completed\", \"run_type\": \"azureml.scriptrun\", \"training_percent\": \"100\", \"start_time\": \"2021-01-17T15:18:07.697561Z\", \"end_time\": \"2021-01-17T15:18:49.532863Z\", \"created_time\": \"2021-01-17T15:17:54.189631Z\", \"created_time_dt\": \"2021-01-17T15:17:54.189631Z\", \"duration\": \"0:00:55\", \"iteration\": \"14\", \"goal\": \"accuracy_max\", \"run_name\": \"SparseNormalizer, LightGBM\", \"run_properties\": \"<azureml.automl.runtime.shared.model_wrappers.SparseNormalizer object at 0x7f21a50aa470\", \"primary_metric\": 0.80473118, \"best_metric\": 0.83150538}, {\"run_id\": \"AutoML_456326d9-d2ab-439d-9f2b-7c9e35b655b3_15\", \"run_number\": 65, \"metric\": null, \"status\": \"Completed\", \"run_type\": \"azureml.scriptrun\", \"training_percent\": \"100\", \"start_time\": \"2021-01-17T15:18:16.636975Z\", \"end_time\": \"2021-01-17T15:19:00.592532Z\", \"created_time\": \"2021-01-17T15:17:59.521283Z\", \"created_time_dt\": \"2021-01-17T15:17:59.521283Z\", \"duration\": \"0:01:01\", \"iteration\": \"15\", \"goal\": \"accuracy_max\", \"run_name\": \"StandardScalerWrapper, XGBoostClassifier\", \"run_properties\": \"<azureml.automl.runtime.shared.model_wrappers.StandardScalerWrapper object at 0x7fba9dfdc668\", \"primary_metric\": 0.81172043, \"best_metric\": 0.83150538}, {\"run_id\": \"AutoML_456326d9-d2ab-439d-9f2b-7c9e35b655b3_16\", \"run_number\": 66, \"metric\": null, \"status\": \"Completed\", \"run_type\": \"azureml.scriptrun\", \"training_percent\": \"100\", \"start_time\": \"2021-01-17T15:18:29.184515Z\", \"end_time\": \"2021-01-17T15:19:06.151459Z\", \"created_time\": \"2021-01-17T15:18:16.855158Z\", \"created_time_dt\": \"2021-01-17T15:18:16.855158Z\", \"duration\": \"0:00:49\", \"iteration\": \"16\", \"goal\": \"accuracy_max\", \"run_name\": \"SparseNormalizer, XGBoostClassifier\", \"run_properties\": \"<azureml.automl.runtime.shared.model_wrappers.SparseNormalizer object at 0x7f493de104a8\", \"primary_metric\": 0.81784946, \"best_metric\": 0.83150538}, {\"run_id\": \"AutoML_456326d9-d2ab-439d-9f2b-7c9e35b655b3_17\", \"run_number\": 67, \"metric\": null, \"status\": \"Completed\", \"run_type\": \"azureml.scriptrun\", \"training_percent\": \"100\", \"start_time\": \"2021-01-17T15:18:46.043114Z\", \"end_time\": \"2021-01-17T15:19:35.247745Z\", \"created_time\": \"2021-01-17T15:18:23.44724Z\", \"created_time_dt\": \"2021-01-17T15:18:23.44724Z\", \"duration\": \"0:01:11\", \"iteration\": \"17\", \"goal\": \"accuracy_max\", \"run_name\": \"SparseNormalizer, XGBoostClassifier\", \"run_properties\": \"<azureml.automl.runtime.shared.model_wrappers.SparseNormalizer object at 0x7f3cac3afbe0\", \"primary_metric\": 0.81129032, \"best_metric\": 0.83150538}, {\"run_id\": \"AutoML_456326d9-d2ab-439d-9f2b-7c9e35b655b3_18\", \"run_number\": 68, \"metric\": null, \"status\": \"Completed\", \"run_type\": \"azureml.scriptrun\", \"training_percent\": \"100\", \"start_time\": \"2021-01-17T15:18:53.932203Z\", \"end_time\": \"2021-01-17T15:19:41.416268Z\", \"created_time\": \"2021-01-17T15:18:41.634616Z\", \"created_time_dt\": \"2021-01-17T15:18:41.634616Z\", \"duration\": \"0:00:59\", \"iteration\": \"18\", \"goal\": \"accuracy_max\", \"run_name\": \"SparseNormalizer, LightGBM\", \"run_properties\": \"<azureml.automl.runtime.shared.model_wrappers.SparseNormalizer object at 0x7f99c42c4898\", \"primary_metric\": 0.82473118, \"best_metric\": 0.83150538}, {\"run_id\": \"AutoML_456326d9-d2ab-439d-9f2b-7c9e35b655b3_19\", \"run_number\": 69, \"metric\": null, \"status\": \"Completed\", \"run_type\": \"azureml.scriptrun\", \"training_percent\": \"100\", \"start_time\": \"2021-01-17T15:19:05.118187Z\", \"end_time\": \"2021-01-17T15:19:51.516098Z\", \"created_time\": \"2021-01-17T15:18:51.834037Z\", \"created_time_dt\": \"2021-01-17T15:18:51.834037Z\", \"duration\": \"0:00:59\", \"iteration\": \"19\", \"goal\": \"accuracy_max\", \"run_name\": \"MaxAbsScaler, LightGBM\", \"run_properties\": \"copy=True\", \"primary_metric\": 0.84817204, \"best_metric\": 0.84817204}, {\"run_id\": \"AutoML_456326d9-d2ab-439d-9f2b-7c9e35b655b3_20\", \"run_number\": 70, \"metric\": null, \"status\": \"Completed\", \"run_type\": \"azureml.scriptrun\", \"training_percent\": \"100\", \"start_time\": \"2021-01-17T15:19:14.60518Z\", \"end_time\": \"2021-01-17T15:19:53.91691Z\", \"created_time\": \"2021-01-17T15:19:02.950243Z\", \"created_time_dt\": \"2021-01-17T15:19:02.950243Z\", \"duration\": \"0:00:50\", \"iteration\": \"20\", \"goal\": \"accuracy_max\", \"run_name\": \"MinMaxScaler, LightGBM\", \"run_properties\": \"copy=True, feature_range=(0, 1\", \"primary_metric\": 0.81827957, \"best_metric\": 0.84817204}, {\"run_id\": \"AutoML_456326d9-d2ab-439d-9f2b-7c9e35b655b3_21\", \"run_number\": 71, \"metric\": null, \"status\": \"Completed\", \"run_type\": \"azureml.scriptrun\", \"training_percent\": \"100\", \"start_time\": \"2021-01-17T15:19:39.103544Z\", \"end_time\": \"2021-01-17T15:20:23.35833Z\", \"created_time\": \"2021-01-17T15:19:08.600387Z\", \"created_time_dt\": \"2021-01-17T15:19:08.600387Z\", \"duration\": \"0:01:14\", \"iteration\": \"21\", \"goal\": \"accuracy_max\", \"run_name\": \"MinMaxScaler, LightGBM\", \"run_properties\": \"copy=True, feature_range=(0, 1\", \"primary_metric\": 0.8216129, \"best_metric\": 0.84817204}, {\"run_id\": \"AutoML_456326d9-d2ab-439d-9f2b-7c9e35b655b3_22\", \"run_number\": 72, \"metric\": null, \"status\": \"Completed\", \"run_type\": \"azureml.scriptrun\", \"training_percent\": \"100\", \"start_time\": \"2021-01-17T15:19:48.102391Z\", \"end_time\": \"2021-01-17T15:20:32.024864Z\", \"created_time\": \"2021-01-17T15:19:37.555667Z\", \"created_time_dt\": \"2021-01-17T15:19:37.555667Z\", \"duration\": \"0:00:54\", \"iteration\": \"22\", \"goal\": \"accuracy_max\", \"run_name\": \"MaxAbsScaler, LightGBM\", \"run_properties\": \"copy=True\", \"primary_metric\": 0.84129032, \"best_metric\": 0.84817204}, {\"run_id\": \"AutoML_456326d9-d2ab-439d-9f2b-7c9e35b655b3_23\", \"run_number\": 73, \"metric\": null, \"status\": \"Completed\", \"run_type\": \"azureml.scriptrun\", \"training_percent\": \"100\", \"start_time\": \"2021-01-17T15:19:55.229947Z\", \"end_time\": \"2021-01-17T15:20:48.846783Z\", \"created_time\": \"2021-01-17T15:19:43.852229Z\", \"created_time_dt\": \"2021-01-17T15:19:43.852229Z\", \"duration\": \"0:01:04\", \"iteration\": \"23\", \"goal\": \"accuracy_max\", \"run_name\": \"SparseNormalizer, XGBoostClassifier\", \"run_properties\": \"<azureml.automl.runtime.shared.model_wrappers.SparseNormalizer object at 0x7f1b1c5f4588\", \"primary_metric\": 0.83462366, \"best_metric\": 0.84817204}, {\"run_id\": \"AutoML_456326d9-d2ab-439d-9f2b-7c9e35b655b3_24\", \"run_number\": 74, \"metric\": null, \"status\": \"Completed\", \"run_type\": \"azureml.scriptrun\", \"training_percent\": \"100\", \"start_time\": \"2021-01-17T15:20:04.854909Z\", \"end_time\": \"2021-01-17T15:20:50.461826Z\", \"created_time\": \"2021-01-17T15:19:54.138054Z\", \"created_time_dt\": \"2021-01-17T15:19:54.138054Z\", \"duration\": \"0:00:56\", \"iteration\": \"24\", \"goal\": \"accuracy_max\", \"run_name\": \"StandardScalerWrapper, LightGBM\", \"run_properties\": \"<azureml.automl.runtime.shared.model_wrappers.StandardScalerWrapper object at 0x7f9e46cfeb70\", \"primary_metric\": 0.82806452, \"best_metric\": 0.84817204}, {\"run_id\": \"AutoML_456326d9-d2ab-439d-9f2b-7c9e35b655b3_25\", \"run_number\": 75, \"metric\": null, \"status\": \"Completed\", \"run_type\": \"azureml.scriptrun\", \"training_percent\": \"100\", \"start_time\": \"2021-01-17T15:20:27.639794Z\", \"end_time\": \"2021-01-17T15:21:18.237232Z\", \"created_time\": \"2021-01-17T15:19:59.444422Z\", \"created_time_dt\": \"2021-01-17T15:19:59.444422Z\", \"duration\": \"0:01:18\", \"iteration\": \"25\", \"goal\": \"accuracy_max\", \"run_name\": \"StandardScalerWrapper, LightGBM\", \"run_properties\": \"<azureml.automl.runtime.shared.model_wrappers.StandardScalerWrapper object at 0x7f18c13bb358\", \"primary_metric\": 0.81473118, \"best_metric\": 0.84817204}, {\"run_id\": \"AutoML_456326d9-d2ab-439d-9f2b-7c9e35b655b3_26\", \"run_number\": 76, \"metric\": null, \"status\": \"Completed\", \"run_type\": \"azureml.scriptrun\", \"training_percent\": \"100\", \"start_time\": \"2021-01-17T15:20:37.970886Z\", \"end_time\": \"2021-01-17T15:21:23.04751Z\", \"created_time\": \"2021-01-17T15:20:26.193927Z\", \"created_time_dt\": \"2021-01-17T15:20:26.193927Z\", \"duration\": \"0:00:56\", \"iteration\": \"26\", \"goal\": \"accuracy_max\", \"run_name\": \"SparseNormalizer, XGBoostClassifier\", \"run_properties\": \"<azureml.automl.runtime.shared.model_wrappers.SparseNormalizer object at 0x7f4328c8c390\", \"primary_metric\": 0.81784946, \"best_metric\": 0.84817204}, {\"run_id\": \"AutoML_456326d9-d2ab-439d-9f2b-7c9e35b655b3_27\", \"run_number\": 77, \"metric\": null, \"status\": \"Completed\", \"run_type\": \"azureml.scriptrun\", \"training_percent\": \"100\", \"start_time\": \"2021-01-17T15:20:54.526957Z\", \"end_time\": \"2021-01-17T15:21:40.385448Z\", \"created_time\": \"2021-01-17T15:20:34.368872Z\", \"created_time_dt\": \"2021-01-17T15:20:34.368872Z\", \"duration\": \"0:01:06\", \"iteration\": \"27\", \"goal\": \"accuracy_max\", \"run_name\": \"StandardScalerWrapper, RandomForest\", \"run_properties\": \"<azureml.automl.runtime.shared.model_wrappers.StandardScalerWrapper object at 0x7fe47d7cb0b8\", \"primary_metric\": 0.79817204, \"best_metric\": 0.84817204}, {\"run_id\": \"AutoML_456326d9-d2ab-439d-9f2b-7c9e35b655b3_28\", \"run_number\": 78, \"metric\": null, \"status\": \"Completed\", \"run_type\": \"azureml.scriptrun\", \"training_percent\": \"100\", \"start_time\": \"2021-01-17T15:21:06.062924Z\", \"end_time\": \"2021-01-17T15:21:44.081571Z\", \"created_time\": \"2021-01-17T15:20:51.714322Z\", \"created_time_dt\": \"2021-01-17T15:20:51.714322Z\", \"duration\": \"0:00:52\", \"iteration\": \"28\", \"goal\": \"accuracy_max\", \"run_name\": \"StandardScalerWrapper, LightGBM\", \"run_properties\": \"<azureml.automl.runtime.shared.model_wrappers.StandardScalerWrapper object at 0x7fa674fdf780\", \"primary_metric\": 0.8116129, \"best_metric\": 0.84817204}, {\"run_id\": \"AutoML_456326d9-d2ab-439d-9f2b-7c9e35b655b3_29\", \"run_number\": 79, \"metric\": null, \"status\": \"Completed\", \"run_type\": \"azureml.scriptrun\", \"training_percent\": \"100\", \"start_time\": \"2021-01-17T15:21:21.489257Z\", \"end_time\": \"2021-01-17T15:22:05.517557Z\", \"created_time\": \"2021-01-17T15:20:56.114739Z\", \"created_time_dt\": \"2021-01-17T15:20:56.114739Z\", \"duration\": \"0:01:09\", \"iteration\": \"29\", \"goal\": \"accuracy_max\", \"run_name\": \"MaxAbsScaler, LightGBM\", \"run_properties\": \"copy=True\", \"primary_metric\": 0.81139785, \"best_metric\": 0.84817204}, {\"run_id\": \"AutoML_456326d9-d2ab-439d-9f2b-7c9e35b655b3_30\", \"run_number\": 80, \"metric\": null, \"status\": \"Completed\", \"run_type\": \"azureml.scriptrun\", \"training_percent\": \"100\", \"start_time\": \"2021-01-17T15:21:34.732178Z\", \"end_time\": \"2021-01-17T15:22:09.361695Z\", \"created_time\": \"2021-01-17T15:21:21.990499Z\", \"created_time_dt\": \"2021-01-17T15:21:21.990499Z\", \"duration\": \"0:00:47\", \"iteration\": \"30\", \"goal\": \"accuracy_max\", \"run_name\": \"SparseNormalizer, LightGBM\", \"run_properties\": \"<azureml.automl.runtime.shared.model_wrappers.SparseNormalizer object at 0x7f8b73cefb70\", \"primary_metric\": 0.54462366, \"best_metric\": 0.84817204}, {\"run_id\": \"AutoML_456326d9-d2ab-439d-9f2b-7c9e35b655b3_31\", \"run_number\": 81, \"metric\": null, \"status\": \"Completed\", \"run_type\": \"azureml.scriptrun\", \"training_percent\": \"100\", \"start_time\": \"2021-01-17T15:21:45.190301Z\", \"end_time\": \"2021-01-17T15:22:29.15361Z\", \"created_time\": \"2021-01-17T15:21:27.028898Z\", \"created_time_dt\": \"2021-01-17T15:21:27.028898Z\", \"duration\": \"0:01:02\", \"iteration\": \"31\", \"goal\": \"accuracy_max\", \"run_name\": \"StandardScalerWrapper, XGBoostClassifier\", \"run_properties\": \"<azureml.automl.runtime.shared.model_wrappers.StandardScalerWrapper object at 0x7f1f2ad27240\", \"primary_metric\": 0.83462366, \"best_metric\": 0.84817204}, {\"run_id\": \"AutoML_456326d9-d2ab-439d-9f2b-7c9e35b655b3_32\", \"run_number\": 82, \"metric\": null, \"status\": \"Completed\", \"run_type\": \"azureml.scriptrun\", \"training_percent\": \"100\", \"start_time\": \"2021-01-17T15:21:57.220497Z\", \"end_time\": \"2021-01-17T15:22:36.760262Z\", \"created_time\": \"2021-01-17T15:21:42.940786Z\", \"created_time_dt\": \"2021-01-17T15:21:42.940786Z\", \"duration\": \"0:00:53\", \"iteration\": \"32\", \"goal\": \"accuracy_max\", \"run_name\": \"RobustScaler, LightGBM\", \"run_properties\": \"copy=True, quantile_range=[10, 90], with_centering=False,\\n             with_scaling=False\", \"primary_metric\": 0.82817204, \"best_metric\": 0.84817204}, {\"run_id\": \"AutoML_456326d9-d2ab-439d-9f2b-7c9e35b655b3_33\", \"run_number\": 83, \"metric\": null, \"status\": \"Completed\", \"run_type\": \"azureml.scriptrun\", \"training_percent\": \"100\", \"start_time\": \"2021-01-17T15:22:08.805087Z\", \"end_time\": \"2021-01-17T15:22:59.16349Z\", \"created_time\": \"2021-01-17T15:21:47.587247Z\", \"created_time_dt\": \"2021-01-17T15:21:47.587247Z\", \"duration\": \"0:01:11\", \"iteration\": \"33\", \"goal\": \"accuracy_max\", \"run_name\": \"StandardScalerWrapper, LogisticRegression\", \"run_properties\": \"<azureml.automl.runtime.shared.model_wrappers.StandardScalerWrapper object at 0x7f720005aac8\", \"primary_metric\": 0.8316129, \"best_metric\": 0.84817204}, {\"run_id\": \"AutoML_456326d9-d2ab-439d-9f2b-7c9e35b655b3_34\", \"run_number\": 84, \"metric\": null, \"status\": \"Completed\", \"run_type\": \"azureml.scriptrun\", \"training_percent\": \"100\", \"start_time\": \"2021-01-17T15:22:20.945359Z\", \"end_time\": \"2021-01-17T15:23:00.003348Z\", \"created_time\": \"2021-01-17T15:22:08.852499Z\", \"created_time_dt\": \"2021-01-17T15:22:08.852499Z\", \"duration\": \"0:00:51\", \"iteration\": \"34\", \"goal\": \"accuracy_max\", \"run_name\": \"SparseNormalizer, XGBoostClassifier\", \"run_properties\": \"<azureml.automl.runtime.shared.model_wrappers.SparseNormalizer object at 0x7f312420bb70\", \"primary_metric\": 0.84107527, \"best_metric\": 0.84817204}, {\"run_id\": \"AutoML_456326d9-d2ab-439d-9f2b-7c9e35b655b3_35\", \"run_number\": 85, \"metric\": null, \"status\": \"Canceled\", \"run_type\": \"azureml.scriptrun\", \"training_percent\": \"100\", \"start_time\": \"2021-01-17T15:22:31.874392Z\", \"end_time\": \"2021-01-17T15:23:09.395442Z\", \"created_time\": \"2021-01-17T15:22:14.826109Z\", \"created_time_dt\": \"2021-01-17T15:22:14.826109Z\", \"duration\": \"0:00:54\", \"iteration\": \"35\", \"goal\": \"accuracy_max\", \"run_name\": \"StandardScalerWrapper, LightGBM\", \"run_properties\": \"<azureml.automl.runtime.shared.model_wrappers.StandardScalerWrapper object at 0x7fd434334908\", \"primary_metric\": 0.79537634, \"best_metric\": 0.84817204}, {\"run_id\": \"AutoML_456326d9-d2ab-439d-9f2b-7c9e35b655b3_36\", \"run_number\": 86, \"metric\": null, \"status\": \"Canceled\", \"run_type\": \"azureml.scriptrun\", \"training_percent\": \"100\", \"start_time\": \"2021-01-17T15:22:43.717815Z\", \"end_time\": \"2021-01-17T15:23:08.77525Z\", \"created_time\": \"2021-01-17T15:22:31.972702Z\", \"created_time_dt\": \"2021-01-17T15:22:31.972702Z\", \"duration\": \"0:00:36\", \"iteration\": \"36\", \"goal\": null, \"run_name\": \"StandardScalerWrapper, RandomForest\", \"run_properties\": null}, {\"run_id\": \"AutoML_456326d9-d2ab-439d-9f2b-7c9e35b655b3_37\", \"run_number\": 87, \"metric\": null, \"status\": \"Canceled\", \"run_type\": \"azureml.scriptrun\", \"training_percent\": \"100\", \"start_time\": \"2021-01-17T15:22:58.525319Z\", \"end_time\": \"2021-01-17T15:23:08.784407Z\", \"created_time\": \"2021-01-17T15:22:39.241196Z\", \"created_time_dt\": \"2021-01-17T15:22:39.241196Z\", \"duration\": \"0:00:29\", \"iteration\": \"37\", \"goal\": null, \"run_name\": \"Canceled\", \"run_properties\": null}, {\"run_id\": \"AutoML_456326d9-d2ab-439d-9f2b-7c9e35b655b3_38\", \"run_number\": 88, \"metric\": null, \"status\": \"Completed\", \"run_type\": \"azureml.scriptrun\", \"training_percent\": \"100\", \"start_time\": \"2021-01-17T15:23:21.554779Z\", \"end_time\": \"2021-01-17T15:25:13.481401Z\", \"created_time\": \"2021-01-17T15:23:10.659419Z\", \"created_time_dt\": \"2021-01-17T15:23:10.659419Z\", \"duration\": \"0:02:02\", \"iteration\": \"38\", \"goal\": \"accuracy_max\", \"run_name\": \"VotingEnsemble\", \"run_properties\": \"classification_labels=None,\\n                              estimators=[('19',\\n                                           Pipeline(memory=None,\\n                                                    steps=[('maxabsscaler',\\n                                                            MaxAbsScaler(copy=True\", \"primary_metric\": 0.8544086, \"best_metric\": 0.8544086}], \"children_metrics\": {\"categories\": [0], \"series\": {\"weighted_accuracy\": [{\"categories\": [\"0\", \"1\", \"2\", \"3\", \"4\", \"5\", \"6\", \"7\", \"8\", \"9\", \"10\", \"11\", \"12\", \"13\", \"14\", \"15\", \"16\", \"17\", \"18\", \"19\", \"20\", \"21\", \"22\", \"23\", \"24\", \"25\", \"26\", \"27\", \"28\", \"29\", \"30\", \"31\", \"32\", \"33\", \"34\", \"35\", \"38\"], \"mode\": \"markers\", \"name\": \"weighted_accuracy\", \"stepped\": false, \"type\": \"scatter\", \"data\": [0.8118648739105845, 0.8150704154047188, 0.826237302801957, 0.815634169014338, 0.8253309391081409, 0.8289425598375203, 0.802214228837199, 0.8235798918917849, 0.830867007925338, 0.8220458825534687, 0.8279022301887761, 0.8326535029115648, 0.8158910157434105, 0.8409825239004105, 0.8173713798722844, 0.8154412983642418, 0.8221442960246078, 0.8135060965889798, 0.82715081958989, 0.8525072879843716, 0.8224452792327556, 0.826838481686299, 0.8444391093703066, 0.840640555557016, 0.8323647890676824, 0.8206176750215558, 0.820938165383755, 0.801192812692884, 0.8179626559109099, 0.8170289165856733, 0.5842748958320289, 0.8396635136815508, 0.8347318558029642, 0.8357355664883469, 0.8436441717788986, 0.8063986755388937, 0.8571090902339419]}, {\"categories\": [\"0\", \"1\", \"2\", \"3\", \"4\", \"5\", \"6\", \"7\", \"8\", \"9\", \"10\", \"11\", \"12\", \"13\", \"14\", \"15\", \"16\", \"17\", \"18\", \"19\", \"20\", \"21\", \"22\", \"23\", \"24\", \"25\", \"26\", \"27\", \"28\", \"29\", \"30\", \"31\", \"32\", \"33\", \"34\", \"35\", \"38\"], \"mode\": \"lines\", \"name\": \"weighted_accuracy_max\", \"stepped\": true, \"type\": \"scatter\", \"data\": [0.8118648739105845, 0.8150704154047188, 0.826237302801957, 0.826237302801957, 0.826237302801957, 0.8289425598375203, 0.8289425598375203, 0.8289425598375203, 0.830867007925338, 0.830867007925338, 0.830867007925338, 0.8326535029115648, 0.8326535029115648, 0.8409825239004105, 0.8409825239004105, 0.8409825239004105, 0.8409825239004105, 0.8409825239004105, 0.8409825239004105, 0.8525072879843716, 0.8525072879843716, 0.8525072879843716, 0.8525072879843716, 0.8525072879843716, 0.8525072879843716, 0.8525072879843716, 0.8525072879843716, 0.8525072879843716, 0.8525072879843716, 0.8525072879843716, 0.8525072879843716, 0.8525072879843716, 0.8525072879843716, 0.8525072879843716, 0.8525072879843716, 0.8525072879843716, 0.8571090902339419]}], \"AUC_micro\": [{\"categories\": [\"0\", \"1\", \"2\", \"3\", \"4\", \"5\", \"6\", \"7\", \"8\", \"9\", \"10\", \"11\", \"12\", \"13\", \"14\", \"15\", \"16\", \"17\", \"18\", \"19\", \"20\", \"21\", \"22\", \"23\", \"24\", \"25\", \"26\", \"27\", \"28\", \"29\", \"30\", \"31\", \"32\", \"33\", \"34\", \"35\", \"38\"], \"mode\": \"markers\", \"name\": \"AUC_micro\", \"stepped\": false, \"type\": \"scatter\", \"data\": [0.8790788530465949, 0.8849572204879177, 0.9070966585732455, 0.8851971326164876, 0.8983470921493815, 0.9015799514394727, 0.8652403167996301, 0.892602844259452, 0.907664585501214, 0.8972375997225113, 0.9108479593016534, 0.8994017805526651, 0.9001707711874205, 0.9048233321771304, 0.8841812926349867, 0.8887049369869349, 0.8949538674991329, 0.8891866111689213, 0.8975146259683202, 0.9101230200023125, 0.9104812117007747, 0.9083030408139671, 0.9131460284425945, 0.8906204185454966, 0.9061654526534859, 0.8939855474621344, 0.8804599375650364, 0.8959484333448954, 0.8976098970979305, 0.8942483524106832, 0.7413461671869579, 0.909340039310903, 0.907200716845878, 0.8989714417851775, 0.8959502832697422, 0.8644279107411261, 0.9125887385824951]}, {\"categories\": [\"0\", \"1\", \"2\", \"3\", \"4\", \"5\", \"6\", \"7\", \"8\", \"9\", \"10\", \"11\", \"12\", \"13\", \"14\", \"15\", \"16\", \"17\", \"18\", \"19\", \"20\", \"21\", \"22\", \"23\", \"24\", \"25\", \"26\", \"27\", \"28\", \"29\", \"30\", \"31\", \"32\", \"33\", \"34\", \"35\", \"38\"], \"mode\": \"lines\", \"name\": \"AUC_micro_max\", \"stepped\": true, \"type\": \"scatter\", \"data\": [0.8790788530465949, 0.8849572204879177, 0.9070966585732455, 0.9070966585732455, 0.9070966585732455, 0.9070966585732455, 0.9070966585732455, 0.9070966585732455, 0.907664585501214, 0.907664585501214, 0.9108479593016534, 0.9108479593016534, 0.9108479593016534, 0.9108479593016534, 0.9108479593016534, 0.9108479593016534, 0.9108479593016534, 0.9108479593016534, 0.9108479593016534, 0.9108479593016534, 0.9108479593016534, 0.9108479593016534, 0.9131460284425945, 0.9131460284425945, 0.9131460284425945, 0.9131460284425945, 0.9131460284425945, 0.9131460284425945, 0.9131460284425945, 0.9131460284425945, 0.9131460284425945, 0.9131460284425945, 0.9131460284425945, 0.9131460284425945, 0.9131460284425945, 0.9131460284425945, 0.9131460284425945]}], \"precision_score_micro\": [{\"categories\": [\"0\", \"1\", \"2\", \"3\", \"4\", \"5\", \"6\", \"7\", \"8\", \"9\", \"10\", \"11\", \"12\", \"13\", \"14\", \"15\", \"16\", \"17\", \"18\", \"19\", \"20\", \"21\", \"22\", \"23\", \"24\", \"25\", \"26\", \"27\", \"28\", \"29\", \"30\", \"31\", \"32\", \"33\", \"34\", \"35\", \"38\"], \"mode\": \"markers\", \"name\": \"precision_score_micro\", \"stepped\": false, \"type\": \"scatter\", \"data\": [0.8082795698924731, 0.811290322580645, 0.8218279569892474, 0.8116129032258064, 0.818279569892473, 0.8278494623655914, 0.7949462365591398, 0.8210752688172043, 0.8280645161290323, 0.8182795698924732, 0.824731182795699, 0.8313978494623656, 0.8117204301075269, 0.8315053763440862, 0.8047311827956989, 0.8117204301075269, 0.8178494623655913, 0.8112903225806452, 0.824731182795699, 0.8481720430107526, 0.8182795698924732, 0.8216129032258065, 0.8412903225806451, 0.8346236559139786, 0.8280645161290321, 0.814731182795699, 0.8178494623655915, 0.7981720430107526, 0.8116129032258064, 0.8113978494623655, 0.5446236559139785, 0.8346236559139786, 0.8281720430107529, 0.8316129032258065, 0.8410752688172044, 0.7953763440860214, 0.8544086021505377]}, {\"categories\": [\"0\", \"1\", \"2\", \"3\", \"4\", \"5\", \"6\", \"7\", \"8\", \"9\", \"10\", \"11\", \"12\", \"13\", \"14\", \"15\", \"16\", \"17\", \"18\", \"19\", \"20\", \"21\", \"22\", \"23\", \"24\", \"25\", \"26\", \"27\", \"28\", \"29\", \"30\", \"31\", \"32\", \"33\", \"34\", \"35\", \"38\"], \"mode\": \"lines\", \"name\": \"precision_score_micro_max\", \"stepped\": true, \"type\": \"scatter\", \"data\": [0.8082795698924731, 0.811290322580645, 0.8218279569892474, 0.8218279569892474, 0.8218279569892474, 0.8278494623655914, 0.8278494623655914, 0.8278494623655914, 0.8280645161290323, 0.8280645161290323, 0.8280645161290323, 0.8313978494623656, 0.8313978494623656, 0.8315053763440862, 0.8315053763440862, 0.8315053763440862, 0.8315053763440862, 0.8315053763440862, 0.8315053763440862, 0.8481720430107526, 0.8481720430107526, 0.8481720430107526, 0.8481720430107526, 0.8481720430107526, 0.8481720430107526, 0.8481720430107526, 0.8481720430107526, 0.8481720430107526, 0.8481720430107526, 0.8481720430107526, 0.8481720430107526, 0.8481720430107526, 0.8481720430107526, 0.8481720430107526, 0.8481720430107526, 0.8481720430107526, 0.8544086021505377]}], \"AUC_macro\": [{\"categories\": [\"0\", \"1\", \"2\", \"3\", \"4\", \"5\", \"6\", \"7\", \"8\", \"9\", \"10\", \"11\", \"12\", \"13\", \"14\", \"15\", \"16\", \"17\", \"18\", \"19\", \"20\", \"21\", \"22\", \"23\", \"24\", \"25\", \"26\", \"27\", \"28\", \"29\", \"30\", \"31\", \"32\", \"33\", \"34\", \"35\", \"38\"], \"mode\": \"markers\", \"name\": \"AUC_macro\", \"stepped\": false, \"type\": \"scatter\", \"data\": [0.8850880703833489, 0.8878279618558256, 0.9125501962634317, 0.8903640190505515, 0.9007708702259786, 0.906254959866415, 0.8619855076124427, 0.8974393017256792, 0.9126659397247634, 0.9005831552062202, 0.9151433133143658, 0.8962915887432141, 0.9025446980350231, 0.9067963802766436, 0.8909326423204131, 0.8878107014889137, 0.8998560306366035, 0.8947710580756245, 0.90190601001166, 0.9126569855583014, 0.912724098112643, 0.9128511242799169, 0.9176834930635239, 0.890199752675372, 0.9150303390996116, 0.9004430338753094, 0.8787156608727816, 0.8964416360356762, 0.9029305411364235, 0.9006529694935267, 0.9043037814009176, 0.9178459332778217, 0.9124369688762103, 0.904830225244312, 0.8968535192734108, 0.9068886249987255, 0.9137745224618288]}, {\"categories\": [\"0\", \"1\", \"2\", \"3\", \"4\", \"5\", \"6\", \"7\", \"8\", \"9\", \"10\", \"11\", \"12\", \"13\", \"14\", \"15\", \"16\", \"17\", \"18\", \"19\", \"20\", \"21\", \"22\", \"23\", \"24\", \"25\", \"26\", \"27\", \"28\", \"29\", \"30\", \"31\", \"32\", \"33\", \"34\", \"35\", \"38\"], \"mode\": \"lines\", \"name\": \"AUC_macro_max\", \"stepped\": true, \"type\": \"scatter\", \"data\": [0.8850880703833489, 0.8878279618558256, 0.9125501962634317, 0.9125501962634317, 0.9125501962634317, 0.9125501962634317, 0.9125501962634317, 0.9125501962634317, 0.9126659397247634, 0.9126659397247634, 0.9151433133143658, 0.9151433133143658, 0.9151433133143658, 0.9151433133143658, 0.9151433133143658, 0.9151433133143658, 0.9151433133143658, 0.9151433133143658, 0.9151433133143658, 0.9151433133143658, 0.9151433133143658, 0.9151433133143658, 0.9176834930635239, 0.9176834930635239, 0.9176834930635239, 0.9176834930635239, 0.9176834930635239, 0.9176834930635239, 0.9176834930635239, 0.9176834930635239, 0.9176834930635239, 0.9178459332778217, 0.9178459332778217, 0.9178459332778217, 0.9178459332778217, 0.9178459332778217, 0.9178459332778217]}], \"average_precision_score_macro\": [{\"categories\": [\"0\", \"1\", \"2\", \"3\", \"4\", \"5\", \"6\", \"7\", \"8\", \"9\", \"10\", \"11\", \"12\", \"13\", \"14\", \"15\", \"16\", \"17\", \"18\", \"19\", \"20\", \"21\", \"22\", \"23\", \"24\", \"25\", \"26\", \"27\", \"28\", \"29\", \"30\", \"31\", \"32\", \"33\", \"34\", \"35\", \"38\"], \"mode\": \"markers\", \"name\": \"average_precision_score_macro\", \"stepped\": false, \"type\": \"scatter\", \"data\": [0.8861054259900077, 0.8925372994430087, 0.9172464403777898, 0.8967045925379903, 0.9073381300978408, 0.9110307000159071, 0.8717274269414247, 0.9034003428310186, 0.9173961541227289, 0.9031059010322402, 0.9203618433269705, 0.902752608710996, 0.9091937685658606, 0.9115596425908585, 0.894167566553886, 0.8855237846559314, 0.9050337982708669, 0.9012489411114233, 0.9052639971647152, 0.9147586901890259, 0.9166386927876534, 0.9160947254077183, 0.9187709150420187, 0.8959371151913151, 0.9198437961300282, 0.907336986057581, 0.8840736620261895, 0.9018138567048235, 0.9044269863647765, 0.9021853695025491, 0.9111107386131163, 0.9191341765392371, 0.9178217042155656, 0.9075742492244373, 0.9003179914407479, 0.909130543245187, 0.9178535479081278]}, {\"categories\": [\"0\", \"1\", \"2\", \"3\", \"4\", \"5\", \"6\", \"7\", \"8\", \"9\", \"10\", \"11\", \"12\", \"13\", \"14\", \"15\", \"16\", \"17\", \"18\", \"19\", \"20\", \"21\", \"22\", \"23\", \"24\", \"25\", \"26\", \"27\", \"28\", \"29\", \"30\", \"31\", \"32\", \"33\", \"34\", \"35\", \"38\"], \"mode\": \"lines\", \"name\": \"average_precision_score_macro_max\", \"stepped\": true, \"type\": \"scatter\", \"data\": [0.8861054259900077, 0.8925372994430087, 0.9172464403777898, 0.9172464403777898, 0.9172464403777898, 0.9172464403777898, 0.9172464403777898, 0.9172464403777898, 0.9173961541227289, 0.9173961541227289, 0.9203618433269705, 0.9203618433269705, 0.9203618433269705, 0.9203618433269705, 0.9203618433269705, 0.9203618433269705, 0.9203618433269705, 0.9203618433269705, 0.9203618433269705, 0.9203618433269705, 0.9203618433269705, 0.9203618433269705, 0.9203618433269705, 0.9203618433269705, 0.9203618433269705, 0.9203618433269705, 0.9203618433269705, 0.9203618433269705, 0.9203618433269705, 0.9203618433269705, 0.9203618433269705, 0.9203618433269705, 0.9203618433269705, 0.9203618433269705, 0.9203618433269705, 0.9203618433269705, 0.9203618433269705]}], \"recall_score_weighted\": [{\"categories\": [\"0\", \"1\", \"2\", \"3\", \"4\", \"5\", \"6\", \"7\", \"8\", \"9\", \"10\", \"11\", \"12\", \"13\", \"14\", \"15\", \"16\", \"17\", \"18\", \"19\", \"20\", \"21\", \"22\", \"23\", \"24\", \"25\", \"26\", \"27\", \"28\", \"29\", \"30\", \"31\", \"32\", \"33\", \"34\", \"35\", \"38\"], \"mode\": \"markers\", \"name\": \"recall_score_weighted\", \"stepped\": false, \"type\": \"scatter\", \"data\": [0.8082795698924731, 0.811290322580645, 0.8218279569892474, 0.8116129032258064, 0.818279569892473, 0.8278494623655914, 0.7949462365591398, 0.8210752688172043, 0.8280645161290323, 0.8182795698924732, 0.824731182795699, 0.8313978494623656, 0.8117204301075269, 0.8315053763440862, 0.8047311827956989, 0.8117204301075269, 0.8178494623655913, 0.8112903225806452, 0.824731182795699, 0.8481720430107526, 0.8182795698924732, 0.8216129032258065, 0.8412903225806451, 0.8346236559139786, 0.8280645161290321, 0.814731182795699, 0.8178494623655915, 0.7981720430107526, 0.8116129032258064, 0.8113978494623655, 0.5446236559139785, 0.8346236559139786, 0.8281720430107529, 0.8316129032258065, 0.8410752688172044, 0.7953763440860214, 0.8544086021505377]}, {\"categories\": [\"0\", \"1\", \"2\", \"3\", \"4\", \"5\", \"6\", \"7\", \"8\", \"9\", \"10\", \"11\", \"12\", \"13\", \"14\", \"15\", \"16\", \"17\", \"18\", \"19\", \"20\", \"21\", \"22\", \"23\", \"24\", \"25\", \"26\", \"27\", \"28\", \"29\", \"30\", \"31\", \"32\", \"33\", \"34\", \"35\", \"38\"], \"mode\": \"lines\", \"name\": \"recall_score_weighted_max\", \"stepped\": true, \"type\": \"scatter\", \"data\": [0.8082795698924731, 0.811290322580645, 0.8218279569892474, 0.8218279569892474, 0.8218279569892474, 0.8278494623655914, 0.8278494623655914, 0.8278494623655914, 0.8280645161290323, 0.8280645161290323, 0.8280645161290323, 0.8313978494623656, 0.8313978494623656, 0.8315053763440862, 0.8315053763440862, 0.8315053763440862, 0.8315053763440862, 0.8315053763440862, 0.8315053763440862, 0.8481720430107526, 0.8481720430107526, 0.8481720430107526, 0.8481720430107526, 0.8481720430107526, 0.8481720430107526, 0.8481720430107526, 0.8481720430107526, 0.8481720430107526, 0.8481720430107526, 0.8481720430107526, 0.8481720430107526, 0.8481720430107526, 0.8481720430107526, 0.8481720430107526, 0.8481720430107526, 0.8481720430107526, 0.8544086021505377]}], \"f1_score_weighted\": [{\"categories\": [\"0\", \"1\", \"2\", \"3\", \"4\", \"5\", \"6\", \"7\", \"8\", \"9\", \"10\", \"11\", \"12\", \"13\", \"14\", \"15\", \"16\", \"17\", \"18\", \"19\", \"20\", \"21\", \"22\", \"23\", \"24\", \"25\", \"26\", \"27\", \"28\", \"29\", \"30\", \"31\", \"32\", \"33\", \"34\", \"35\", \"38\"], \"mode\": \"markers\", \"name\": \"f1_score_weighted\", \"stepped\": false, \"type\": \"scatter\", \"data\": [0.8071549171088572, 0.8099801097590287, 0.8201785155016343, 0.8108357084013621, 0.8157481720594861, 0.8269250285604792, 0.7935384048773282, 0.8203041912701856, 0.8269544612798082, 0.8151641754659644, 0.8230292452617389, 0.8307771233878538, 0.8102878840274197, 0.8292655797345192, 0.8007625820187965, 0.810035732469663, 0.8170763427956576, 0.8101420378061743, 0.8236553870519152, 0.8468559195491705, 0.8155608681336612, 0.8206724011642352, 0.8403169870599647, 0.8333120657943842, 0.8264069357990481, 0.8128235009592858, 0.8175402742670548, 0.7970395697745973, 0.8101132310466669, 0.8097206615095015, 0.38657973886470265, 0.8328491707691545, 0.8250017993683725, 0.8286525678115515, 0.8398030808801872, 0.7853910298381638, 0.853189669949062]}, {\"categories\": [\"0\", \"1\", \"2\", \"3\", \"4\", \"5\", \"6\", \"7\", \"8\", \"9\", \"10\", \"11\", \"12\", \"13\", \"14\", \"15\", \"16\", \"17\", \"18\", \"19\", \"20\", \"21\", \"22\", \"23\", \"24\", \"25\", \"26\", \"27\", \"28\", \"29\", \"30\", \"31\", \"32\", \"33\", \"34\", \"35\", \"38\"], \"mode\": \"lines\", \"name\": \"f1_score_weighted_max\", \"stepped\": true, \"type\": \"scatter\", \"data\": [0.8071549171088572, 0.8099801097590287, 0.8201785155016343, 0.8201785155016343, 0.8201785155016343, 0.8269250285604792, 0.8269250285604792, 0.8269250285604792, 0.8269544612798082, 0.8269544612798082, 0.8269544612798082, 0.8307771233878538, 0.8307771233878538, 0.8307771233878538, 0.8307771233878538, 0.8307771233878538, 0.8307771233878538, 0.8307771233878538, 0.8307771233878538, 0.8468559195491705, 0.8468559195491705, 0.8468559195491705, 0.8468559195491705, 0.8468559195491705, 0.8468559195491705, 0.8468559195491705, 0.8468559195491705, 0.8468559195491705, 0.8468559195491705, 0.8468559195491705, 0.8468559195491705, 0.8468559195491705, 0.8468559195491705, 0.8468559195491705, 0.8468559195491705, 0.8468559195491705, 0.853189669949062]}], \"norm_macro_recall\": [{\"categories\": [\"0\", \"1\", \"2\", \"3\", \"4\", \"5\", \"6\", \"7\", \"8\", \"9\", \"10\", \"11\", \"12\", \"13\", \"14\", \"15\", \"16\", \"17\", \"18\", \"19\", \"20\", \"21\", \"22\", \"23\", \"24\", \"25\", \"26\", \"27\", \"28\", \"29\", \"30\", \"31\", \"32\", \"33\", \"34\", \"35\", \"38\"], \"mode\": \"markers\", \"name\": \"norm_macro_recall\", \"stepped\": false, \"type\": \"scatter\", \"data\": [0.6082590229687753, 0.6139187227461221, 0.633355803123605, 0.6137570440395518, 0.6203888741117843, 0.6531882646936827, 0.5733239885329668, 0.6364535593405563, 0.6496296273386056, 0.6271015813391975, 0.6422831361105356, 0.6594805177622514, 0.6135951269233003, 0.6415176249618975, 0.5810427506789736, 0.6144417759742836, 0.6260032537122321, 0.6174306889361069, 0.6436882587656582, 0.6867979367553672, 0.6275241798964709, 0.6314256950479861, 0.6754160059926314, 0.6555152999735043, 0.6462968021830251, 0.6160033559491763, 0.6285919253605011, 0.5891299124851755, 0.6090476156110831, 0.6104462170096845, 0.0, 0.6576074316979889, 0.6411805355806903, 0.6537315488089481, 0.6762125297303315, 0.5652580447588187, 0.7024158585652394]}, {\"categories\": [\"0\", \"1\", \"2\", \"3\", \"4\", \"5\", \"6\", \"7\", \"8\", \"9\", \"10\", \"11\", \"12\", \"13\", \"14\", \"15\", \"16\", \"17\", \"18\", \"19\", \"20\", \"21\", \"22\", \"23\", \"24\", \"25\", \"26\", \"27\", \"28\", \"29\", \"30\", \"31\", \"32\", \"33\", \"34\", \"35\", \"38\"], \"mode\": \"lines\", \"name\": \"norm_macro_recall_max\", \"stepped\": true, \"type\": \"scatter\", \"data\": [0.6082590229687753, 0.6139187227461221, 0.633355803123605, 0.633355803123605, 0.633355803123605, 0.6531882646936827, 0.6531882646936827, 0.6531882646936827, 0.6531882646936827, 0.6531882646936827, 0.6531882646936827, 0.6594805177622514, 0.6594805177622514, 0.6594805177622514, 0.6594805177622514, 0.6594805177622514, 0.6594805177622514, 0.6594805177622514, 0.6594805177622514, 0.6867979367553672, 0.6867979367553672, 0.6867979367553672, 0.6867979367553672, 0.6867979367553672, 0.6867979367553672, 0.6867979367553672, 0.6867979367553672, 0.6867979367553672, 0.6867979367553672, 0.6867979367553672, 0.6867979367553672, 0.6867979367553672, 0.6867979367553672, 0.6867979367553672, 0.6867979367553672, 0.6867979367553672, 0.7024158585652394]}], \"average_precision_score_micro\": [{\"categories\": [\"0\", \"1\", \"2\", \"3\", \"4\", \"5\", \"6\", \"7\", \"8\", \"9\", \"10\", \"11\", \"12\", \"13\", \"14\", \"15\", \"16\", \"17\", \"18\", \"19\", \"20\", \"21\", \"22\", \"23\", \"24\", \"25\", \"26\", \"27\", \"28\", \"29\", \"30\", \"31\", \"32\", \"33\", \"34\", \"35\", \"38\"], \"mode\": \"markers\", \"name\": \"average_precision_score_micro\", \"stepped\": false, \"type\": \"scatter\", \"data\": [0.8807942906200612, 0.8907041408152917, 0.9115868178422868, 0.8882471924798729, 0.9012292957178969, 0.9043283205994233, 0.8707099054077405, 0.896398561891407, 0.9096068906759548, 0.8983815805835743, 0.9147290199244524, 0.9047546904534256, 0.9048245052164671, 0.9071502440952475, 0.8853014924153181, 0.8878934623004968, 0.8986561998276972, 0.893419324220012, 0.8988519951503526, 0.9111111246163357, 0.9139040385935899, 0.910727456198795, 0.9145839133525537, 0.8925366080170116, 0.909754411633965, 0.897495749778154, 0.8810025555538626, 0.899541548238683, 0.8994638464858692, 0.8949805425648867, 0.7745310546437605, 0.9113879704037554, 0.9105759182881563, 0.9025238867137414, 0.8944822547140454, 0.8650943499746166, 0.9144056881537189]}, {\"categories\": [\"0\", \"1\", \"2\", \"3\", \"4\", \"5\", \"6\", \"7\", \"8\", \"9\", \"10\", \"11\", \"12\", \"13\", \"14\", \"15\", \"16\", \"17\", \"18\", \"19\", \"20\", \"21\", \"22\", \"23\", \"24\", \"25\", \"26\", \"27\", \"28\", \"29\", \"30\", \"31\", \"32\", \"33\", \"34\", \"35\", \"38\"], \"mode\": \"lines\", \"name\": \"average_precision_score_micro_max\", \"stepped\": true, \"type\": \"scatter\", \"data\": [0.8807942906200612, 0.8907041408152917, 0.9115868178422868, 0.9115868178422868, 0.9115868178422868, 0.9115868178422868, 0.9115868178422868, 0.9115868178422868, 0.9115868178422868, 0.9115868178422868, 0.9147290199244524, 0.9147290199244524, 0.9147290199244524, 0.9147290199244524, 0.9147290199244524, 0.9147290199244524, 0.9147290199244524, 0.9147290199244524, 0.9147290199244524, 0.9147290199244524, 0.9147290199244524, 0.9147290199244524, 0.9147290199244524, 0.9147290199244524, 0.9147290199244524, 0.9147290199244524, 0.9147290199244524, 0.9147290199244524, 0.9147290199244524, 0.9147290199244524, 0.9147290199244524, 0.9147290199244524, 0.9147290199244524, 0.9147290199244524, 0.9147290199244524, 0.9147290199244524, 0.9147290199244524]}], \"f1_score_macro\": [{\"categories\": [\"0\", \"1\", \"2\", \"3\", \"4\", \"5\", \"6\", \"7\", \"8\", \"9\", \"10\", \"11\", \"12\", \"13\", \"14\", \"15\", \"16\", \"17\", \"18\", \"19\", \"20\", \"21\", \"22\", \"23\", \"24\", \"25\", \"26\", \"27\", \"28\", \"29\", \"30\", \"31\", \"32\", \"33\", \"34\", \"35\", \"38\"], \"mode\": \"markers\", \"name\": \"f1_score_macro\", \"stepped\": false, \"type\": \"scatter\", \"data\": [0.8020389630641217, 0.8049385458595983, 0.8144564652505993, 0.8063498083622088, 0.8099566343242601, 0.8229552274245246, 0.786691194630236, 0.8162134609880903, 0.8224266120887626, 0.8100283039807403, 0.8179969807727294, 0.826851432203268, 0.8052073080308366, 0.8224061613704986, 0.7927383938873878, 0.8049392430332505, 0.8127158934560562, 0.8057161465984995, 0.8195176041975177, 0.8423776222140453, 0.80941741661567, 0.815130027505919, 0.8362146891659599, 0.8287014812179745, 0.8213929682637152, 0.8070705390852615, 0.8128285350704004, 0.7924307429627916, 0.8043733291162296, 0.8043743299640174, 0.35133378648162716, 0.8277660984203499, 0.8194403364310492, 0.8237616870759265, 0.8357692585047932, 0.7783491672383852, 0.8491972161863179]}, {\"categories\": [\"0\", \"1\", \"2\", \"3\", \"4\", \"5\", \"6\", \"7\", \"8\", \"9\", \"10\", \"11\", \"12\", \"13\", \"14\", \"15\", \"16\", \"17\", \"18\", \"19\", \"20\", \"21\", \"22\", \"23\", \"24\", \"25\", \"26\", \"27\", \"28\", \"29\", \"30\", \"31\", \"32\", \"33\", \"34\", \"35\", \"38\"], \"mode\": \"lines\", \"name\": \"f1_score_macro_max\", \"stepped\": true, \"type\": \"scatter\", \"data\": [0.8020389630641217, 0.8049385458595983, 0.8144564652505993, 0.8144564652505993, 0.8144564652505993, 0.8229552274245246, 0.8229552274245246, 0.8229552274245246, 0.8229552274245246, 0.8229552274245246, 0.8229552274245246, 0.826851432203268, 0.826851432203268, 0.826851432203268, 0.826851432203268, 0.826851432203268, 0.826851432203268, 0.826851432203268, 0.826851432203268, 0.8423776222140453, 0.8423776222140453, 0.8423776222140453, 0.8423776222140453, 0.8423776222140453, 0.8423776222140453, 0.8423776222140453, 0.8423776222140453, 0.8423776222140453, 0.8423776222140453, 0.8423776222140453, 0.8423776222140453, 0.8423776222140453, 0.8423776222140453, 0.8423776222140453, 0.8423776222140453, 0.8423776222140453, 0.8491972161863179]}], \"recall_score_micro\": [{\"categories\": [\"0\", \"1\", \"2\", \"3\", \"4\", \"5\", \"6\", \"7\", \"8\", \"9\", \"10\", \"11\", \"12\", \"13\", \"14\", \"15\", \"16\", \"17\", \"18\", \"19\", \"20\", \"21\", \"22\", \"23\", \"24\", \"25\", \"26\", \"27\", \"28\", \"29\", \"30\", \"31\", \"32\", \"33\", \"34\", \"35\", \"38\"], \"mode\": \"markers\", \"name\": \"recall_score_micro\", \"stepped\": false, \"type\": \"scatter\", \"data\": [0.8082795698924731, 0.811290322580645, 0.8218279569892474, 0.8116129032258064, 0.818279569892473, 0.8278494623655914, 0.7949462365591398, 0.8210752688172043, 0.8280645161290323, 0.8182795698924732, 0.824731182795699, 0.8313978494623656, 0.8117204301075269, 0.8315053763440862, 0.8047311827956989, 0.8117204301075269, 0.8178494623655913, 0.8112903225806452, 0.824731182795699, 0.8481720430107526, 0.8182795698924732, 0.8216129032258065, 0.8412903225806451, 0.8346236559139786, 0.8280645161290321, 0.814731182795699, 0.8178494623655915, 0.7981720430107526, 0.8116129032258064, 0.8113978494623655, 0.5446236559139785, 0.8346236559139786, 0.8281720430107529, 0.8316129032258065, 0.8410752688172044, 0.7953763440860214, 0.8544086021505377]}, {\"categories\": [\"0\", \"1\", \"2\", \"3\", \"4\", \"5\", \"6\", \"7\", \"8\", \"9\", \"10\", \"11\", \"12\", \"13\", \"14\", \"15\", \"16\", \"17\", \"18\", \"19\", \"20\", \"21\", \"22\", \"23\", \"24\", \"25\", \"26\", \"27\", \"28\", \"29\", \"30\", \"31\", \"32\", \"33\", \"34\", \"35\", \"38\"], \"mode\": \"lines\", \"name\": \"recall_score_micro_max\", \"stepped\": true, \"type\": \"scatter\", \"data\": [0.8082795698924731, 0.811290322580645, 0.8218279569892474, 0.8218279569892474, 0.8218279569892474, 0.8278494623655914, 0.8278494623655914, 0.8278494623655914, 0.8280645161290323, 0.8280645161290323, 0.8280645161290323, 0.8313978494623656, 0.8313978494623656, 0.8315053763440862, 0.8315053763440862, 0.8315053763440862, 0.8315053763440862, 0.8315053763440862, 0.8315053763440862, 0.8481720430107526, 0.8481720430107526, 0.8481720430107526, 0.8481720430107526, 0.8481720430107526, 0.8481720430107526, 0.8481720430107526, 0.8481720430107526, 0.8481720430107526, 0.8481720430107526, 0.8481720430107526, 0.8481720430107526, 0.8481720430107526, 0.8481720430107526, 0.8481720430107526, 0.8481720430107526, 0.8481720430107526, 0.8544086021505377]}], \"recall_score_macro\": [{\"categories\": [\"0\", \"1\", \"2\", \"3\", \"4\", \"5\", \"6\", \"7\", \"8\", \"9\", \"10\", \"11\", \"12\", \"13\", \"14\", \"15\", \"16\", \"17\", \"18\", \"19\", \"20\", \"21\", \"22\", \"23\", \"24\", \"25\", \"26\", \"27\", \"28\", \"29\", \"30\", \"31\", \"32\", \"33\", \"34\", \"35\", \"38\"], \"mode\": \"markers\", \"name\": \"recall_score_macro\", \"stepped\": false, \"type\": \"scatter\", \"data\": [0.8041295114843875, 0.806959361373061, 0.8166779015618026, 0.8068785220197757, 0.8101944370558922, 0.8265941323468414, 0.7866619942664834, 0.8182267796702781, 0.8248148136693029, 0.8135507906695988, 0.8211415680552678, 0.8297402588811256, 0.8067975634616502, 0.8207588124809486, 0.7905213753394867, 0.8072208879871419, 0.813001626856116, 0.8087153444680533, 0.8218441293828291, 0.8433989683776835, 0.8137620899482355, 0.815712847523993, 0.8377080029963156, 0.8277576499867522, 0.8231484010915124, 0.8080016779745882, 0.8142959626802504, 0.7945649562425878, 0.8045238078055414, 0.805223108504842, 0.5, 0.8288037158489946, 0.8205902677903453, 0.8268657744044742, 0.8381062648651658, 0.7826290223794093, 0.8512079292826197]}, {\"categories\": [\"0\", \"1\", \"2\", \"3\", \"4\", \"5\", \"6\", \"7\", \"8\", \"9\", \"10\", \"11\", \"12\", \"13\", \"14\", \"15\", \"16\", \"17\", \"18\", \"19\", \"20\", \"21\", \"22\", \"23\", \"24\", \"25\", \"26\", \"27\", \"28\", \"29\", \"30\", \"31\", \"32\", \"33\", \"34\", \"35\", \"38\"], \"mode\": \"lines\", \"name\": \"recall_score_macro_max\", \"stepped\": true, \"type\": \"scatter\", \"data\": [0.8041295114843875, 0.806959361373061, 0.8166779015618026, 0.8166779015618026, 0.8166779015618026, 0.8265941323468414, 0.8265941323468414, 0.8265941323468414, 0.8265941323468414, 0.8265941323468414, 0.8265941323468414, 0.8297402588811256, 0.8297402588811256, 0.8297402588811256, 0.8297402588811256, 0.8297402588811256, 0.8297402588811256, 0.8297402588811256, 0.8297402588811256, 0.8433989683776835, 0.8433989683776835, 0.8433989683776835, 0.8433989683776835, 0.8433989683776835, 0.8433989683776835, 0.8433989683776835, 0.8433989683776835, 0.8433989683776835, 0.8433989683776835, 0.8433989683776835, 0.8433989683776835, 0.8433989683776835, 0.8433989683776835, 0.8433989683776835, 0.8433989683776835, 0.8433989683776835, 0.8512079292826197]}], \"precision_score_macro\": [{\"categories\": [\"0\", \"1\", \"2\", \"3\", \"4\", \"5\", \"6\", \"7\", \"8\", \"9\", \"10\", \"11\", \"12\", \"13\", \"14\", \"15\", \"16\", \"17\", \"18\", \"19\", \"20\", \"21\", \"22\", \"23\", \"24\", \"25\", \"26\", \"27\", \"28\", \"29\", \"30\", \"31\", \"32\", \"33\", \"34\", \"35\", \"38\"], \"mode\": \"markers\", \"name\": \"precision_score_macro\", \"stepped\": false, \"type\": \"scatter\", \"data\": [0.8106718975468974, 0.8150050179868291, 0.8243569852490131, 0.8157789054863862, 0.8253504425739081, 0.8352693090792936, 0.7956308781947327, 0.8267584582600062, 0.829919422897364, 0.8329543631874026, 0.8266081018654547, 0.8347218871599675, 0.8194748337411382, 0.8334850962142657, 0.8147073407328825, 0.8176684446855399, 0.8202396584323829, 0.8175930313236813, 0.8302295494323358, 0.8473943784973196, 0.8192246817902189, 0.8224717521041051, 0.8436817675788264, 0.8405677146734153, 0.8325455263690558, 0.8210074110615906, 0.8172578646843351, 0.8003358341864534, 0.8157019197692572, 0.8166431648416943, 0.27231182795698927, 0.8379978354978356, 0.8380198884960629, 0.8434189749187562, 0.846565159341862, 0.8321053644423209, 0.8591384333760494]}, {\"categories\": [\"0\", \"1\", \"2\", \"3\", \"4\", \"5\", \"6\", \"7\", \"8\", \"9\", \"10\", \"11\", \"12\", \"13\", \"14\", \"15\", \"16\", \"17\", \"18\", \"19\", \"20\", \"21\", \"22\", \"23\", \"24\", \"25\", \"26\", \"27\", \"28\", \"29\", \"30\", \"31\", \"32\", \"33\", \"34\", \"35\", \"38\"], \"mode\": \"lines\", \"name\": \"precision_score_macro_max\", \"stepped\": true, \"type\": \"scatter\", \"data\": [0.8106718975468974, 0.8150050179868291, 0.8243569852490131, 0.8243569852490131, 0.8253504425739081, 0.8352693090792936, 0.8352693090792936, 0.8352693090792936, 0.8352693090792936, 0.8352693090792936, 0.8352693090792936, 0.8352693090792936, 0.8352693090792936, 0.8352693090792936, 0.8352693090792936, 0.8352693090792936, 0.8352693090792936, 0.8352693090792936, 0.8352693090792936, 0.8473943784973196, 0.8473943784973196, 0.8473943784973196, 0.8473943784973196, 0.8473943784973196, 0.8473943784973196, 0.8473943784973196, 0.8473943784973196, 0.8473943784973196, 0.8473943784973196, 0.8473943784973196, 0.8473943784973196, 0.8473943784973196, 0.8473943784973196, 0.8473943784973196, 0.8473943784973196, 0.8473943784973196, 0.8591384333760494]}], \"average_precision_score_weighted\": [{\"categories\": [\"0\", \"1\", \"2\", \"3\", \"4\", \"5\", \"6\", \"7\", \"8\", \"9\", \"10\", \"11\", \"12\", \"13\", \"14\", \"15\", \"16\", \"17\", \"18\", \"19\", \"20\", \"21\", \"22\", \"23\", \"24\", \"25\", \"26\", \"27\", \"28\", \"29\", \"30\", \"31\", \"32\", \"33\", \"34\", \"35\", \"38\"], \"mode\": \"markers\", \"name\": \"average_precision_score_weighted\", \"stepped\": false, \"type\": \"scatter\", \"data\": [0.8915745488665513, 0.8971724973051718, 0.9212436219724086, 0.9005021783548999, 0.9104891723021262, 0.9146527977477483, 0.8761683470116862, 0.9069863483788965, 0.9205648895265535, 0.9071055260570153, 0.9236097230442148, 0.9070389121529561, 0.9128702361605239, 0.9153295099230586, 0.8983055992203208, 0.8901493927568488, 0.9085709534571601, 0.9044100999461883, 0.9089154132355525, 0.9185246673231939, 0.9204969625670788, 0.9195544428781662, 0.9228209731972635, 0.899653711689885, 0.9225437362842703, 0.9106128878827979, 0.8871755205830285, 0.9053350390632563, 0.9084442207109606, 0.9067871572096639, 0.9148292258013282, 0.9229236695303833, 0.9209923481131799, 0.911297732128374, 0.9036556773768186, 0.9132943598815411, 0.9209683182647144]}, {\"categories\": [\"0\", \"1\", \"2\", \"3\", \"4\", \"5\", \"6\", \"7\", \"8\", \"9\", \"10\", \"11\", \"12\", \"13\", \"14\", \"15\", \"16\", \"17\", \"18\", \"19\", \"20\", \"21\", \"22\", \"23\", \"24\", \"25\", \"26\", \"27\", \"28\", \"29\", \"30\", \"31\", \"32\", \"33\", \"34\", \"35\", \"38\"], \"mode\": \"lines\", \"name\": \"average_precision_score_weighted_max\", \"stepped\": true, \"type\": \"scatter\", \"data\": [0.8915745488665513, 0.8971724973051718, 0.9212436219724086, 0.9212436219724086, 0.9212436219724086, 0.9212436219724086, 0.9212436219724086, 0.9212436219724086, 0.9212436219724086, 0.9212436219724086, 0.9236097230442148, 0.9236097230442148, 0.9236097230442148, 0.9236097230442148, 0.9236097230442148, 0.9236097230442148, 0.9236097230442148, 0.9236097230442148, 0.9236097230442148, 0.9236097230442148, 0.9236097230442148, 0.9236097230442148, 0.9236097230442148, 0.9236097230442148, 0.9236097230442148, 0.9236097230442148, 0.9236097230442148, 0.9236097230442148, 0.9236097230442148, 0.9236097230442148, 0.9236097230442148, 0.9236097230442148, 0.9236097230442148, 0.9236097230442148, 0.9236097230442148, 0.9236097230442148, 0.9236097230442148]}], \"matthews_correlation\": [{\"categories\": [\"0\", \"1\", \"2\", \"3\", \"4\", \"5\", \"6\", \"7\", \"8\", \"9\", \"10\", \"11\", \"12\", \"13\", \"14\", \"15\", \"16\", \"17\", \"18\", \"19\", \"20\", \"21\", \"22\", \"23\", \"24\", \"25\", \"26\", \"27\", \"28\", \"29\", \"30\", \"31\", \"32\", \"33\", \"34\", \"35\", \"38\"], \"mode\": \"markers\", \"name\": \"matthews_correlation\", \"stepped\": false, \"type\": \"scatter\", \"data\": [0.6145675674321259, 0.6217536108959869, 0.6408099499337088, 0.6222618234420123, 0.6346965758999523, 0.661643420622267, 0.5820830378491024, 0.6447607214079698, 0.6545861754460447, 0.6458608741205175, 0.6475249180193214, 0.6643794627637719, 0.6256806700477594, 0.65373611604571, 0.6035972075814857, 0.624526782231644, 0.633030641716947, 0.6260330076263413, 0.6518354909170474, 0.6905428318945255, 0.6327015549540527, 0.6379619799696585, 0.6812150716094106, 0.6679158606224591, 0.6553129845952699, 0.628622592178629, 0.6314684945913427, 0.5948259589814041, 0.6198297245395954, 0.6214902536834406, 0.0, 0.6664427287938717, 0.6578479472605813, 0.669461509500384, 0.6845089728915223, 0.6120102018251787, 0.7101554984718031]}, {\"categories\": [\"0\", \"1\", \"2\", \"3\", \"4\", \"5\", \"6\", \"7\", \"8\", \"9\", \"10\", \"11\", \"12\", \"13\", \"14\", \"15\", \"16\", \"17\", \"18\", \"19\", \"20\", \"21\", \"22\", \"23\", \"24\", \"25\", \"26\", \"27\", \"28\", \"29\", \"30\", \"31\", \"32\", \"33\", \"34\", \"35\", \"38\"], \"mode\": \"lines\", \"name\": \"matthews_correlation_max\", \"stepped\": true, \"type\": \"scatter\", \"data\": [0.6145675674321259, 0.6217536108959869, 0.6408099499337088, 0.6408099499337088, 0.6408099499337088, 0.661643420622267, 0.661643420622267, 0.661643420622267, 0.661643420622267, 0.661643420622267, 0.661643420622267, 0.6643794627637719, 0.6643794627637719, 0.6643794627637719, 0.6643794627637719, 0.6643794627637719, 0.6643794627637719, 0.6643794627637719, 0.6643794627637719, 0.6905428318945255, 0.6905428318945255, 0.6905428318945255, 0.6905428318945255, 0.6905428318945255, 0.6905428318945255, 0.6905428318945255, 0.6905428318945255, 0.6905428318945255, 0.6905428318945255, 0.6905428318945255, 0.6905428318945255, 0.6905428318945255, 0.6905428318945255, 0.6905428318945255, 0.6905428318945255, 0.6905428318945255, 0.7101554984718031]}], \"precision_score_weighted\": [{\"categories\": [\"0\", \"1\", \"2\", \"3\", \"4\", \"5\", \"6\", \"7\", \"8\", \"9\", \"10\", \"11\", \"12\", \"13\", \"14\", \"15\", \"16\", \"17\", \"18\", \"19\", \"20\", \"21\", \"22\", \"23\", \"24\", \"25\", \"26\", \"27\", \"28\", \"29\", \"30\", \"31\", \"32\", \"33\", \"34\", \"35\", \"38\"], \"mode\": \"markers\", \"name\": \"precision_score_weighted\", \"stepped\": false, \"type\": \"scatter\", \"data\": [0.8163141398625269, 0.8204478325316984, 0.8303684682061542, 0.8193582395227782, 0.8277132533129767, 0.8415328146101265, 0.8007314217804457, 0.8316515462078231, 0.8354720311753043, 0.8383289095059163, 0.8326580211815031, 0.8409127759453835, 0.8237795241029813, 0.8356555951191293, 0.8144884193930434, 0.8228760364369692, 0.8237254521142715, 0.8234080512253262, 0.8353038910582853, 0.8511867135254232, 0.8263137124912661, 0.8271963233810956, 0.8480333771225611, 0.8423156169550008, 0.8370298923263819, 0.8252802423468057, 0.8229453300757854, 0.8058890865516004, 0.8194132808302512, 0.820588738313833, 0.301213203838594, 0.841805427547363, 0.840587809962145, 0.847313204374022, 0.8515489154549375, 0.8323775987660982, 0.8637574574146406]}, {\"categories\": [\"0\", \"1\", \"2\", \"3\", \"4\", \"5\", \"6\", \"7\", \"8\", \"9\", \"10\", \"11\", \"12\", \"13\", \"14\", \"15\", \"16\", \"17\", \"18\", \"19\", \"20\", \"21\", \"22\", \"23\", \"24\", \"25\", \"26\", \"27\", \"28\", \"29\", \"30\", \"31\", \"32\", \"33\", \"34\", \"35\", \"38\"], \"mode\": \"lines\", \"name\": \"precision_score_weighted_max\", \"stepped\": true, \"type\": \"scatter\", \"data\": [0.8163141398625269, 0.8204478325316984, 0.8303684682061542, 0.8303684682061542, 0.8303684682061542, 0.8415328146101265, 0.8415328146101265, 0.8415328146101265, 0.8415328146101265, 0.8415328146101265, 0.8415328146101265, 0.8415328146101265, 0.8415328146101265, 0.8415328146101265, 0.8415328146101265, 0.8415328146101265, 0.8415328146101265, 0.8415328146101265, 0.8415328146101265, 0.8511867135254232, 0.8511867135254232, 0.8511867135254232, 0.8511867135254232, 0.8511867135254232, 0.8511867135254232, 0.8511867135254232, 0.8511867135254232, 0.8511867135254232, 0.8511867135254232, 0.8511867135254232, 0.8511867135254232, 0.8511867135254232, 0.8511867135254232, 0.8511867135254232, 0.8515489154549375, 0.8515489154549375, 0.8637574574146406]}], \"log_loss\": [{\"categories\": [\"0\", \"1\", \"2\", \"3\", \"4\", \"5\", \"6\", \"7\", \"8\", \"9\", \"10\", \"11\", \"12\", \"13\", \"14\", \"15\", \"16\", \"17\", \"18\", \"19\", \"20\", \"21\", \"22\", \"23\", \"24\", \"25\", \"26\", \"27\", \"28\", \"29\", \"30\", \"31\", \"32\", \"33\", \"34\", \"35\", \"38\"], \"mode\": \"markers\", \"name\": \"log_loss\", \"stepped\": false, \"type\": \"scatter\", \"data\": [0.5120134554194041, 0.44335576716506486, 0.4007626646690909, 0.4277284299856687, 0.39866969186598206, 0.41119932417940647, 0.4580186164375317, 0.4236060348368659, 0.390595051714933, 0.4824298678106634, 0.43279537757510883, 0.3997541978227277, 0.4151494905932391, 0.45487419063492107, 0.4893384223479552, 0.5028078709443419, 0.41547366293512705, 0.4264941272746535, 0.40011636805070533, 0.3776150061817501, 0.3816714736908385, 0.3685043105710365, 0.3731997483010415, 0.412669749585017, 0.3796910297235698, 0.5135534056971028, 0.4726429799710211, 0.41292577322086366, 0.39837048624206856, 0.40637121213217464, 0.6912624211540188, 0.3746044915660472, 0.47728894001304845, 0.3972754927213004, 0.4189218478034403, 0.5995267264276236, 0.3782014899612567]}, {\"categories\": [\"0\", \"1\", \"2\", \"3\", \"4\", \"5\", \"6\", \"7\", \"8\", \"9\", \"10\", \"11\", \"12\", \"13\", \"14\", \"15\", \"16\", \"17\", \"18\", \"19\", \"20\", \"21\", \"22\", \"23\", \"24\", \"25\", \"26\", \"27\", \"28\", \"29\", \"30\", \"31\", \"32\", \"33\", \"34\", \"35\", \"38\"], \"mode\": \"lines\", \"name\": \"log_loss_min\", \"stepped\": true, \"type\": \"scatter\", \"data\": [0.5120134554194041, 0.44335576716506486, 0.4007626646690909, 0.4007626646690909, 0.39866969186598206, 0.39866969186598206, 0.39866969186598206, 0.39866969186598206, 0.390595051714933, 0.390595051714933, 0.390595051714933, 0.390595051714933, 0.390595051714933, 0.390595051714933, 0.390595051714933, 0.390595051714933, 0.390595051714933, 0.390595051714933, 0.390595051714933, 0.3776150061817501, 0.3776150061817501, 0.3685043105710365, 0.3685043105710365, 0.3685043105710365, 0.3685043105710365, 0.3685043105710365, 0.3685043105710365, 0.3685043105710365, 0.3685043105710365, 0.3685043105710365, 0.3685043105710365, 0.3685043105710365, 0.3685043105710365, 0.3685043105710365, 0.3685043105710365, 0.3685043105710365, 0.3685043105710365]}], \"AUC_weighted\": [{\"categories\": [\"0\", \"1\", \"2\", \"3\", \"4\", \"5\", \"6\", \"7\", \"8\", \"9\", \"10\", \"11\", \"12\", \"13\", \"14\", \"15\", \"16\", \"17\", \"18\", \"19\", \"20\", \"21\", \"22\", \"23\", \"24\", \"25\", \"26\", \"27\", \"28\", \"29\", \"30\", \"31\", \"32\", \"33\", \"34\", \"35\", \"38\"], \"mode\": \"markers\", \"name\": \"AUC_weighted\", \"stepped\": false, \"type\": \"scatter\", \"data\": [0.8850880703833489, 0.8878279618558256, 0.9125501962634317, 0.8903640190505515, 0.9007708702259786, 0.906254959866415, 0.8619855076124425, 0.8974393017256794, 0.9126659397247634, 0.9005831552062201, 0.9151433133143658, 0.8962915887432141, 0.9025446980350231, 0.9067963802766436, 0.8909326423204131, 0.8878107014889137, 0.8998560306366036, 0.8947710580756245, 0.9019060100116603, 0.9126569855583014, 0.912724098112643, 0.9128511242799169, 0.9176834930635239, 0.890199752675372, 0.9150303390996116, 0.9004430338753094, 0.8787156608727816, 0.8964416360356762, 0.9029305411364235, 0.9006529694935267, 0.9043037814009176, 0.9178459332778217, 0.9124369688762103, 0.904830225244312, 0.8968535192734108, 0.9068886249987255, 0.9137745224618289]}, {\"categories\": [\"0\", \"1\", \"2\", \"3\", \"4\", \"5\", \"6\", \"7\", \"8\", \"9\", \"10\", \"11\", \"12\", \"13\", \"14\", \"15\", \"16\", \"17\", \"18\", \"19\", \"20\", \"21\", \"22\", \"23\", \"24\", \"25\", \"26\", \"27\", \"28\", \"29\", \"30\", \"31\", \"32\", \"33\", \"34\", \"35\", \"38\"], \"mode\": \"lines\", \"name\": \"AUC_weighted_max\", \"stepped\": true, \"type\": \"scatter\", \"data\": [0.8850880703833489, 0.8878279618558256, 0.9125501962634317, 0.9125501962634317, 0.9125501962634317, 0.9125501962634317, 0.9125501962634317, 0.9125501962634317, 0.9126659397247634, 0.9126659397247634, 0.9151433133143658, 0.9151433133143658, 0.9151433133143658, 0.9151433133143658, 0.9151433133143658, 0.9151433133143658, 0.9151433133143658, 0.9151433133143658, 0.9151433133143658, 0.9151433133143658, 0.9151433133143658, 0.9151433133143658, 0.9176834930635239, 0.9176834930635239, 0.9176834930635239, 0.9176834930635239, 0.9176834930635239, 0.9176834930635239, 0.9176834930635239, 0.9176834930635239, 0.9176834930635239, 0.9178459332778217, 0.9178459332778217, 0.9178459332778217, 0.9178459332778217, 0.9178459332778217, 0.9178459332778217]}], \"f1_score_micro\": [{\"categories\": [\"0\", \"1\", \"2\", \"3\", \"4\", \"5\", \"6\", \"7\", \"8\", \"9\", \"10\", \"11\", \"12\", \"13\", \"14\", \"15\", \"16\", \"17\", \"18\", \"19\", \"20\", \"21\", \"22\", \"23\", \"24\", \"25\", \"26\", \"27\", \"28\", \"29\", \"30\", \"31\", \"32\", \"33\", \"34\", \"35\", \"38\"], \"mode\": \"markers\", \"name\": \"f1_score_micro\", \"stepped\": false, \"type\": \"scatter\", \"data\": [0.8082795698924731, 0.811290322580645, 0.8218279569892474, 0.8116129032258064, 0.818279569892473, 0.8278494623655914, 0.7949462365591398, 0.8210752688172045, 0.8280645161290323, 0.8182795698924732, 0.824731182795699, 0.8313978494623656, 0.8117204301075269, 0.8315053763440862, 0.8047311827956989, 0.8117204301075269, 0.8178494623655913, 0.8112903225806452, 0.824731182795699, 0.8481720430107526, 0.8182795698924732, 0.8216129032258065, 0.8412903225806451, 0.8346236559139786, 0.8280645161290321, 0.814731182795699, 0.8178494623655915, 0.7981720430107526, 0.8116129032258064, 0.8113978494623655, 0.5446236559139785, 0.8346236559139786, 0.8281720430107529, 0.8316129032258065, 0.8410752688172044, 0.7953763440860214, 0.8544086021505377]}, {\"categories\": [\"0\", \"1\", \"2\", \"3\", \"4\", \"5\", \"6\", \"7\", \"8\", \"9\", \"10\", \"11\", \"12\", \"13\", \"14\", \"15\", \"16\", \"17\", \"18\", \"19\", \"20\", \"21\", \"22\", \"23\", \"24\", \"25\", \"26\", \"27\", \"28\", \"29\", \"30\", \"31\", \"32\", \"33\", \"34\", \"35\", \"38\"], \"mode\": \"lines\", \"name\": \"f1_score_micro_max\", \"stepped\": true, \"type\": \"scatter\", \"data\": [0.8082795698924731, 0.811290322580645, 0.8218279569892474, 0.8218279569892474, 0.8218279569892474, 0.8278494623655914, 0.8278494623655914, 0.8278494623655914, 0.8280645161290323, 0.8280645161290323, 0.8280645161290323, 0.8313978494623656, 0.8313978494623656, 0.8315053763440862, 0.8315053763440862, 0.8315053763440862, 0.8315053763440862, 0.8315053763440862, 0.8315053763440862, 0.8481720430107526, 0.8481720430107526, 0.8481720430107526, 0.8481720430107526, 0.8481720430107526, 0.8481720430107526, 0.8481720430107526, 0.8481720430107526, 0.8481720430107526, 0.8481720430107526, 0.8481720430107526, 0.8481720430107526, 0.8481720430107526, 0.8481720430107526, 0.8481720430107526, 0.8481720430107526, 0.8481720430107526, 0.8544086021505377]}], \"accuracy\": [{\"categories\": [\"0\", \"1\", \"2\", \"3\", \"4\", \"5\", \"6\", \"7\", \"8\", \"9\", \"10\", \"11\", \"12\", \"13\", \"14\", \"15\", \"16\", \"17\", \"18\", \"19\", \"20\", \"21\", \"22\", \"23\", \"24\", \"25\", \"26\", \"27\", \"28\", \"29\", \"30\", \"31\", \"32\", \"33\", \"34\", \"35\", \"38\"], \"mode\": \"markers\", \"name\": \"accuracy\", \"stepped\": false, \"type\": \"scatter\", \"data\": [0.8082795698924731, 0.811290322580645, 0.8218279569892474, 0.8116129032258064, 0.818279569892473, 0.8278494623655914, 0.7949462365591398, 0.8210752688172043, 0.8280645161290323, 0.8182795698924732, 0.824731182795699, 0.8313978494623656, 0.8117204301075269, 0.8315053763440862, 0.8047311827956989, 0.8117204301075269, 0.8178494623655913, 0.8112903225806452, 0.824731182795699, 0.8481720430107526, 0.8182795698924732, 0.8216129032258065, 0.8412903225806451, 0.8346236559139786, 0.8280645161290321, 0.814731182795699, 0.8178494623655915, 0.7981720430107526, 0.8116129032258064, 0.8113978494623655, 0.5446236559139785, 0.8346236559139786, 0.8281720430107529, 0.8316129032258065, 0.8410752688172044, 0.7953763440860214, 0.8544086021505377]}, {\"categories\": [\"0\", \"1\", \"2\", \"3\", \"4\", \"5\", \"6\", \"7\", \"8\", \"9\", \"10\", \"11\", \"12\", \"13\", \"14\", \"15\", \"16\", \"17\", \"18\", \"19\", \"20\", \"21\", \"22\", \"23\", \"24\", \"25\", \"26\", \"27\", \"28\", \"29\", \"30\", \"31\", \"32\", \"33\", \"34\", \"35\", \"38\"], \"mode\": \"lines\", \"name\": \"accuracy_max\", \"stepped\": true, \"type\": \"scatter\", \"data\": [0.8082795698924731, 0.811290322580645, 0.8218279569892474, 0.8218279569892474, 0.8218279569892474, 0.8278494623655914, 0.8278494623655914, 0.8278494623655914, 0.8280645161290323, 0.8280645161290323, 0.8280645161290323, 0.8313978494623656, 0.8313978494623656, 0.8315053763440862, 0.8315053763440862, 0.8315053763440862, 0.8315053763440862, 0.8315053763440862, 0.8315053763440862, 0.8481720430107526, 0.8481720430107526, 0.8481720430107526, 0.8481720430107526, 0.8481720430107526, 0.8481720430107526, 0.8481720430107526, 0.8481720430107526, 0.8481720430107526, 0.8481720430107526, 0.8481720430107526, 0.8481720430107526, 0.8481720430107526, 0.8481720430107526, 0.8481720430107526, 0.8481720430107526, 0.8481720430107526, 0.8544086021505377]}], \"balanced_accuracy\": [{\"categories\": [\"0\", \"1\", \"2\", \"3\", \"4\", \"5\", \"6\", \"7\", \"8\", \"9\", \"10\", \"11\", \"12\", \"13\", \"14\", \"15\", \"16\", \"17\", \"18\", \"19\", \"20\", \"21\", \"22\", \"23\", \"24\", \"25\", \"26\", \"27\", \"28\", \"29\", \"30\", \"31\", \"32\", \"33\", \"34\", \"35\", \"38\"], \"mode\": \"markers\", \"name\": \"balanced_accuracy\", \"stepped\": false, \"type\": \"scatter\", \"data\": [0.8041295114843875, 0.806959361373061, 0.8166779015618026, 0.8068785220197757, 0.8101944370558922, 0.8265941323468414, 0.7866619942664834, 0.8182267796702781, 0.8248148136693029, 0.8135507906695988, 0.8211415680552678, 0.8297402588811256, 0.8067975634616502, 0.8207588124809486, 0.7905213753394867, 0.8072208879871419, 0.813001626856116, 0.8087153444680533, 0.8218441293828291, 0.8433989683776835, 0.8137620899482355, 0.815712847523993, 0.8377080029963156, 0.8277576499867522, 0.8231484010915124, 0.8080016779745882, 0.8142959626802504, 0.7945649562425878, 0.8045238078055414, 0.805223108504842, 0.5, 0.8288037158489946, 0.8205902677903453, 0.8268657744044742, 0.8381062648651658, 0.7826290223794093, 0.8512079292826197]}, {\"categories\": [\"0\", \"1\", \"2\", \"3\", \"4\", \"5\", \"6\", \"7\", \"8\", \"9\", \"10\", \"11\", \"12\", \"13\", \"14\", \"15\", \"16\", \"17\", \"18\", \"19\", \"20\", \"21\", \"22\", \"23\", \"24\", \"25\", \"26\", \"27\", \"28\", \"29\", \"30\", \"31\", \"32\", \"33\", \"34\", \"35\", \"38\"], \"mode\": \"lines\", \"name\": \"balanced_accuracy_max\", \"stepped\": true, \"type\": \"scatter\", \"data\": [0.8041295114843875, 0.806959361373061, 0.8166779015618026, 0.8166779015618026, 0.8166779015618026, 0.8265941323468414, 0.8265941323468414, 0.8265941323468414, 0.8265941323468414, 0.8265941323468414, 0.8265941323468414, 0.8297402588811256, 0.8297402588811256, 0.8297402588811256, 0.8297402588811256, 0.8297402588811256, 0.8297402588811256, 0.8297402588811256, 0.8297402588811256, 0.8433989683776835, 0.8433989683776835, 0.8433989683776835, 0.8433989683776835, 0.8433989683776835, 0.8433989683776835, 0.8433989683776835, 0.8433989683776835, 0.8433989683776835, 0.8433989683776835, 0.8433989683776835, 0.8433989683776835, 0.8433989683776835, 0.8433989683776835, 0.8433989683776835, 0.8433989683776835, 0.8433989683776835, 0.8512079292826197]}]}, \"metricName\": null, \"primaryMetricName\": \"accuracy\", \"showLegend\": false}, \"run_metrics\": [{\"name\": \"experiment_status\", \"run_id\": \"AutoML_456326d9-d2ab-439d-9f2b-7c9e35b655b3\", \"categories\": [0, 1, 2, 3, 4, 5, 6, 7, 8, 9, 10, 11, 12, 13], \"series\": [{\"data\": [\"DatasetEvaluation\", \"FeaturesGeneration\", \"DatasetFeaturization\", \"DatasetFeaturizationCompleted\", \"DatasetCrossValidationSplit\", \"ModelSelection\", \"BestRunExplainModel\", \"ModelExplanationDataSetSetup\", \"PickSurrogateModel\", \"EngineeredFeatureExplanations\", \"EngineeredFeatureExplanations\", \"RawFeaturesExplanations\", \"RawFeaturesExplanations\", \"BestRunExplainModel\"]}]}, {\"name\": \"experiment_status_description\", \"run_id\": \"AutoML_456326d9-d2ab-439d-9f2b-7c9e35b655b3\", \"categories\": [0, 1, 2, 3, 4, 5, 6, 7, 8, 9, 10, 11, 12, 13], \"series\": [{\"data\": [\"Gathering dataset statistics.\", \"Generating features for the dataset.\", \"Beginning to fit featurizers and featurize the dataset.\", \"Completed fit featurizers and featurizing the dataset.\", \"Generating individually featurized CV splits.\", \"Beginning model selection.\", \"Best run model explanations started\", \"Model explanations data setup completed\", \"Choosing LightGBM as the surrogate model for explanations\", \"Computation of engineered features started\", \"Computation of engineered features completed\", \"Computation of raw features started\", \"Computation of raw features completed\", \"Best run model explanations completed\"]}]}, {\"name\": \"average_precision_score_macro\", \"run_id\": \"AutoML_456326d9-d2ab-439d-9f2b-7c9e35b655b3\", \"categories\": [0], \"series\": [{\"data\": [0.9178535479081278]}]}, {\"name\": \"balanced_accuracy\", \"run_id\": \"AutoML_456326d9-d2ab-439d-9f2b-7c9e35b655b3\", \"categories\": [0], \"series\": [{\"data\": [0.8512079292826197]}]}, {\"name\": \"accuracy\", \"run_id\": \"AutoML_456326d9-d2ab-439d-9f2b-7c9e35b655b3\", \"categories\": [0], \"series\": [{\"data\": [0.8544086021505377]}]}, {\"name\": \"average_precision_score_micro\", \"run_id\": \"AutoML_456326d9-d2ab-439d-9f2b-7c9e35b655b3\", \"categories\": [0], \"series\": [{\"data\": [0.9144056881537189]}]}, {\"name\": \"precision_score_macro\", \"run_id\": \"AutoML_456326d9-d2ab-439d-9f2b-7c9e35b655b3\", \"categories\": [0], \"series\": [{\"data\": [0.8591384333760494]}]}, {\"name\": \"AUC_macro\", \"run_id\": \"AutoML_456326d9-d2ab-439d-9f2b-7c9e35b655b3\", \"categories\": [0], \"series\": [{\"data\": [0.9137745224618288]}]}, {\"name\": \"AUC_micro\", \"run_id\": \"AutoML_456326d9-d2ab-439d-9f2b-7c9e35b655b3\", \"categories\": [0], \"series\": [{\"data\": [0.9125887385824951]}]}, {\"name\": \"norm_macro_recall\", \"run_id\": \"AutoML_456326d9-d2ab-439d-9f2b-7c9e35b655b3\", \"categories\": [0], \"series\": [{\"data\": [0.7024158585652394]}]}, {\"name\": \"average_precision_score_weighted\", \"run_id\": \"AutoML_456326d9-d2ab-439d-9f2b-7c9e35b655b3\", \"categories\": [0], \"series\": [{\"data\": [0.9209683182647144]}]}, {\"name\": \"precision_score_weighted\", \"run_id\": \"AutoML_456326d9-d2ab-439d-9f2b-7c9e35b655b3\", \"categories\": [0], \"series\": [{\"data\": [0.8637574574146406]}]}, {\"name\": \"recall_score_micro\", \"run_id\": \"AutoML_456326d9-d2ab-439d-9f2b-7c9e35b655b3\", \"categories\": [0], \"series\": [{\"data\": [0.8544086021505377]}]}, {\"name\": \"recall_score_macro\", \"run_id\": \"AutoML_456326d9-d2ab-439d-9f2b-7c9e35b655b3\", \"categories\": [0], \"series\": [{\"data\": [0.8512079292826197]}]}, {\"name\": \"f1_score_macro\", \"run_id\": \"AutoML_456326d9-d2ab-439d-9f2b-7c9e35b655b3\", \"categories\": [0], \"series\": [{\"data\": [0.8491972161863179]}]}, {\"name\": \"f1_score_weighted\", \"run_id\": \"AutoML_456326d9-d2ab-439d-9f2b-7c9e35b655b3\", \"categories\": [0], \"series\": [{\"data\": [0.853189669949062]}]}, {\"name\": \"matthews_correlation\", \"run_id\": \"AutoML_456326d9-d2ab-439d-9f2b-7c9e35b655b3\", \"categories\": [0], \"series\": [{\"data\": [0.7101554984718031]}]}, {\"name\": \"precision_score_micro\", \"run_id\": \"AutoML_456326d9-d2ab-439d-9f2b-7c9e35b655b3\", \"categories\": [0], \"series\": [{\"data\": [0.8544086021505377]}]}, {\"name\": \"log_loss\", \"run_id\": \"AutoML_456326d9-d2ab-439d-9f2b-7c9e35b655b3\", \"categories\": [0], \"series\": [{\"data\": [0.3782014899612567]}]}, {\"name\": \"f1_score_micro\", \"run_id\": \"AutoML_456326d9-d2ab-439d-9f2b-7c9e35b655b3\", \"categories\": [0], \"series\": [{\"data\": [0.8544086021505377]}]}, {\"name\": \"AUC_weighted\", \"run_id\": \"AutoML_456326d9-d2ab-439d-9f2b-7c9e35b655b3\", \"categories\": [0], \"series\": [{\"data\": [0.9137745224618289]}]}, {\"name\": \"recall_score_weighted\", \"run_id\": \"AutoML_456326d9-d2ab-439d-9f2b-7c9e35b655b3\", \"categories\": [0], \"series\": [{\"data\": [0.8544086021505377]}]}, {\"name\": \"weighted_accuracy\", \"run_id\": \"AutoML_456326d9-d2ab-439d-9f2b-7c9e35b655b3\", \"categories\": [0], \"series\": [{\"data\": [0.8571090902339419]}]}], \"run_logs\": \"\\nRun is completed.\", \"graph\": {}, \"widget_settings\": {\"childWidgetDisplay\": \"popup\", \"send_telemetry\": false, \"log_level\": \"INFO\", \"sdk_version\": \"1.19.0\"}, \"loading\": false}"
     },
     "metadata": {},
     "output_type": "display_data"
    },
    {
     "data": {
      "text/plain": [
       "{'runId': 'AutoML_456326d9-d2ab-439d-9f2b-7c9e35b655b3',\n",
       " 'target': 'auto-ml',\n",
       " 'status': 'Completed',\n",
       " 'startTimeUtc': '2021-01-17T15:03:29.620818Z',\n",
       " 'endTimeUtc': '2021-01-17T15:25:20.46209Z',\n",
       " 'properties': {'num_iterations': '1000',\n",
       "  'training_type': 'TrainFull',\n",
       "  'acquisition_function': 'EI',\n",
       "  'primary_metric': 'accuracy',\n",
       "  'train_split': '0',\n",
       "  'acquisition_parameter': '0',\n",
       "  'num_cross_validation': None,\n",
       "  'target': 'auto-ml',\n",
       "  'AMLSettingsJsonString': '{\"path\":null,\"name\":\"heart-disease-experiment-ml1\",\"subscription_id\":\"a0a76bad-11a1-4a2d-9887-97a29122c8ed\",\"resource_group\":\"aml-quickstarts-135048\",\"workspace_name\":\"quick-starts-ws-135048\",\"region\":\"southcentralus\",\"compute_target\":\"auto-ml\",\"spark_service\":null,\"azure_service\":\"remote\",\"many_models\":false,\"pipeline_fetch_max_batch_size\":1,\"iterations\":1000,\"primary_metric\":\"accuracy\",\"task_type\":\"classification\",\"data_script\":null,\"validation_size\":0.0,\"n_cross_validations\":null,\"y_min\":null,\"y_max\":null,\"num_classes\":null,\"featurization\":\"auto\",\"_ignore_package_version_incompatibilities\":false,\"is_timeseries\":false,\"max_cores_per_iteration\":1,\"max_concurrent_iterations\":5,\"iteration_timeout_minutes\":null,\"mem_in_mb\":null,\"enforce_time_on_windows\":false,\"experiment_timeout_minutes\":20,\"experiment_exit_score\":0.9984,\"whitelist_models\":null,\"blacklist_algos\":[\"KNN\",\"LinearSVM\",\"TensorFlowLinearClassifier\",\"TensorFlowDNN\"],\"supported_models\":[\"ExtremeRandomTrees\",\"XGBoostClassifier\",\"DecisionTree\",\"TensorFlowLinearClassifier\",\"AveragedPerceptronClassifier\",\"KNN\",\"LogisticRegression\",\"RandomForest\",\"LightGBM\",\"SGD\",\"BernoulliNaiveBayes\",\"LinearSVM\",\"MultinomialNaiveBayes\",\"GradientBoosting\",\"TensorFlowDNN\",\"SVM\"],\"auto_blacklist\":true,\"blacklist_samples_reached\":false,\"exclude_nan_labels\":true,\"verbosity\":20,\"_debug_log\":\"azureml_automl.log\",\"show_warnings\":false,\"model_explainability\":true,\"service_url\":null,\"sdk_url\":null,\"sdk_packages\":null,\"enable_onnx_compatible_models\":true,\"enable_split_onnx_featurizer_estimator_models\":false,\"vm_type\":\"STANDARD_D2_V2\",\"telemetry_verbosity\":20,\"send_telemetry\":true,\"enable_dnn\":false,\"scenario\":\"SDK-1.13.0\",\"environment_label\":null,\"force_text_dnn\":false,\"enable_feature_sweeping\":false,\"enable_early_stopping\":true,\"early_stopping_n_iters\":10,\"metrics\":null,\"enable_ensembling\":true,\"enable_stack_ensembling\":false,\"ensemble_iterations\":15,\"enable_tf\":false,\"enable_subsampling\":null,\"subsample_seed\":null,\"enable_nimbusml\":false,\"enable_streaming\":false,\"force_streaming\":false,\"track_child_runs\":true,\"allowed_private_models\":[],\"label_column_name\":\"target\",\"weight_column_name\":null,\"cv_split_column_names\":null,\"enable_local_managed\":false,\"_local_managed_run_id\":null,\"cost_mode\":1,\"lag_length\":0,\"metric_operation\":\"maximize\",\"preprocess\":true}',\n",
       "  'DataPrepJsonString': '{\\\\\"training_data\\\\\": \\\\\"{\\\\\\\\\\\\\"blocks\\\\\\\\\\\\\": [{\\\\\\\\\\\\\"id\\\\\\\\\\\\\": \\\\\\\\\\\\\"ae15fd67-e3bc-4318-9a9c-c366b0eec6bf\\\\\\\\\\\\\", \\\\\\\\\\\\\"type\\\\\\\\\\\\\": \\\\\\\\\\\\\"Microsoft.DPrep.GetFilesBlock\\\\\\\\\\\\\", \\\\\\\\\\\\\"arguments\\\\\\\\\\\\\": {\\\\\\\\\\\\\"isArchive\\\\\\\\\\\\\": false, \\\\\\\\\\\\\"path\\\\\\\\\\\\\": {\\\\\\\\\\\\\"target\\\\\\\\\\\\\": 4, \\\\\\\\\\\\\"resourceDetails\\\\\\\\\\\\\": [{\\\\\\\\\\\\\"path\\\\\\\\\\\\\": \\\\\\\\\\\\\"https://raw.githubusercontent.com/SadmiB/Heart-Disease-Prediction/master/heart.csv\\\\\\\\\\\\\"}]}}, \\\\\\\\\\\\\"localData\\\\\\\\\\\\\": {}, \\\\\\\\\\\\\"isEnabled\\\\\\\\\\\\\": true, \\\\\\\\\\\\\"name\\\\\\\\\\\\\": null, \\\\\\\\\\\\\"annotation\\\\\\\\\\\\\": null}, {\\\\\\\\\\\\\"id\\\\\\\\\\\\\": \\\\\\\\\\\\\"87ee85c5-e4b1-4633-ab2f-13d436e3846e\\\\\\\\\\\\\", \\\\\\\\\\\\\"type\\\\\\\\\\\\\": \\\\\\\\\\\\\"Microsoft.DPrep.ParseDelimitedBlock\\\\\\\\\\\\\", \\\\\\\\\\\\\"arguments\\\\\\\\\\\\\": {\\\\\\\\\\\\\"columnHeadersMode\\\\\\\\\\\\\": 3, \\\\\\\\\\\\\"fileEncoding\\\\\\\\\\\\\": 0, \\\\\\\\\\\\\"handleQuotedLineBreaks\\\\\\\\\\\\\": false, \\\\\\\\\\\\\"preview\\\\\\\\\\\\\": false, \\\\\\\\\\\\\"separator\\\\\\\\\\\\\": \\\\\\\\\\\\\",\\\\\\\\\\\\\", \\\\\\\\\\\\\"skipRows\\\\\\\\\\\\\": 0, \\\\\\\\\\\\\"skipRowsMode\\\\\\\\\\\\\": 0}, \\\\\\\\\\\\\"localData\\\\\\\\\\\\\": {}, \\\\\\\\\\\\\"isEnabled\\\\\\\\\\\\\": true, \\\\\\\\\\\\\"name\\\\\\\\\\\\\": null, \\\\\\\\\\\\\"annotation\\\\\\\\\\\\\": null}, {\\\\\\\\\\\\\"id\\\\\\\\\\\\\": \\\\\\\\\\\\\"be17b1fe-a0e7-42ee-a2c4-d66b5ebb3668\\\\\\\\\\\\\", \\\\\\\\\\\\\"type\\\\\\\\\\\\\": \\\\\\\\\\\\\"Microsoft.DPrep.DropColumnsBlock\\\\\\\\\\\\\", \\\\\\\\\\\\\"arguments\\\\\\\\\\\\\": {\\\\\\\\\\\\\"columns\\\\\\\\\\\\\": {\\\\\\\\\\\\\"type\\\\\\\\\\\\\": 0, \\\\\\\\\\\\\"details\\\\\\\\\\\\\": {\\\\\\\\\\\\\"selectedColumns\\\\\\\\\\\\\": [\\\\\\\\\\\\\"Path\\\\\\\\\\\\\"]}}}, \\\\\\\\\\\\\"localData\\\\\\\\\\\\\": {}, \\\\\\\\\\\\\"isEnabled\\\\\\\\\\\\\": true, \\\\\\\\\\\\\"name\\\\\\\\\\\\\": null, \\\\\\\\\\\\\"annotation\\\\\\\\\\\\\": null}, {\\\\\\\\\\\\\"id\\\\\\\\\\\\\": \\\\\\\\\\\\\"066ebd3b-f81f-43a2-a0bc-cdd002b0a8a7\\\\\\\\\\\\\", \\\\\\\\\\\\\"type\\\\\\\\\\\\\": \\\\\\\\\\\\\"Microsoft.DPrep.SetColumnTypesBlock\\\\\\\\\\\\\", \\\\\\\\\\\\\"arguments\\\\\\\\\\\\\": {\\\\\\\\\\\\\"columnConversion\\\\\\\\\\\\\": [{\\\\\\\\\\\\\"column\\\\\\\\\\\\\": {\\\\\\\\\\\\\"type\\\\\\\\\\\\\": 2, \\\\\\\\\\\\\"details\\\\\\\\\\\\\": {\\\\\\\\\\\\\"selectedColumn\\\\\\\\\\\\\": \\\\\\\\\\\\\"age\\\\\\\\\\\\\"}}, \\\\\\\\\\\\\"typeProperty\\\\\\\\\\\\\": 2}, {\\\\\\\\\\\\\"column\\\\\\\\\\\\\": {\\\\\\\\\\\\\"type\\\\\\\\\\\\\": 2, \\\\\\\\\\\\\"details\\\\\\\\\\\\\": {\\\\\\\\\\\\\"selectedColumn\\\\\\\\\\\\\": \\\\\\\\\\\\\"sex\\\\\\\\\\\\\"}}, \\\\\\\\\\\\\"typeProperty\\\\\\\\\\\\\": 2}, {\\\\\\\\\\\\\"column\\\\\\\\\\\\\": {\\\\\\\\\\\\\"type\\\\\\\\\\\\\": 2, \\\\\\\\\\\\\"details\\\\\\\\\\\\\": {\\\\\\\\\\\\\"selectedColumn\\\\\\\\\\\\\": \\\\\\\\\\\\\"cp\\\\\\\\\\\\\"}}, \\\\\\\\\\\\\"typeProperty\\\\\\\\\\\\\": 2}, {\\\\\\\\\\\\\"column\\\\\\\\\\\\\": {\\\\\\\\\\\\\"type\\\\\\\\\\\\\": 2, \\\\\\\\\\\\\"details\\\\\\\\\\\\\": {\\\\\\\\\\\\\"selectedColumn\\\\\\\\\\\\\": \\\\\\\\\\\\\"trestbps\\\\\\\\\\\\\"}}, \\\\\\\\\\\\\"typeProperty\\\\\\\\\\\\\": 2}, {\\\\\\\\\\\\\"column\\\\\\\\\\\\\": {\\\\\\\\\\\\\"type\\\\\\\\\\\\\": 2, \\\\\\\\\\\\\"details\\\\\\\\\\\\\": {\\\\\\\\\\\\\"selectedColumn\\\\\\\\\\\\\": \\\\\\\\\\\\\"chol\\\\\\\\\\\\\"}}, \\\\\\\\\\\\\"typeProperty\\\\\\\\\\\\\": 2}, {\\\\\\\\\\\\\"column\\\\\\\\\\\\\": {\\\\\\\\\\\\\"type\\\\\\\\\\\\\": 2, \\\\\\\\\\\\\"details\\\\\\\\\\\\\": {\\\\\\\\\\\\\"selectedColumn\\\\\\\\\\\\\": \\\\\\\\\\\\\"fbs\\\\\\\\\\\\\"}}, \\\\\\\\\\\\\"typeProperty\\\\\\\\\\\\\": 2}, {\\\\\\\\\\\\\"column\\\\\\\\\\\\\": {\\\\\\\\\\\\\"type\\\\\\\\\\\\\": 2, \\\\\\\\\\\\\"details\\\\\\\\\\\\\": {\\\\\\\\\\\\\"selectedColumn\\\\\\\\\\\\\": \\\\\\\\\\\\\"restecg\\\\\\\\\\\\\"}}, \\\\\\\\\\\\\"typeProperty\\\\\\\\\\\\\": 2}, {\\\\\\\\\\\\\"column\\\\\\\\\\\\\": {\\\\\\\\\\\\\"type\\\\\\\\\\\\\": 2, \\\\\\\\\\\\\"details\\\\\\\\\\\\\": {\\\\\\\\\\\\\"selectedColumn\\\\\\\\\\\\\": \\\\\\\\\\\\\"thalach\\\\\\\\\\\\\"}}, \\\\\\\\\\\\\"typeProperty\\\\\\\\\\\\\": 2}, {\\\\\\\\\\\\\"column\\\\\\\\\\\\\": {\\\\\\\\\\\\\"type\\\\\\\\\\\\\": 2, \\\\\\\\\\\\\"details\\\\\\\\\\\\\": {\\\\\\\\\\\\\"selectedColumn\\\\\\\\\\\\\": \\\\\\\\\\\\\"exang\\\\\\\\\\\\\"}}, \\\\\\\\\\\\\"typeProperty\\\\\\\\\\\\\": 2}, {\\\\\\\\\\\\\"column\\\\\\\\\\\\\": {\\\\\\\\\\\\\"type\\\\\\\\\\\\\": 2, \\\\\\\\\\\\\"details\\\\\\\\\\\\\": {\\\\\\\\\\\\\"selectedColumn\\\\\\\\\\\\\": \\\\\\\\\\\\\"oldpeak\\\\\\\\\\\\\"}}, \\\\\\\\\\\\\"typeProperty\\\\\\\\\\\\\": 3}, {\\\\\\\\\\\\\"column\\\\\\\\\\\\\": {\\\\\\\\\\\\\"type\\\\\\\\\\\\\": 2, \\\\\\\\\\\\\"details\\\\\\\\\\\\\": {\\\\\\\\\\\\\"selectedColumn\\\\\\\\\\\\\": \\\\\\\\\\\\\"slope\\\\\\\\\\\\\"}}, \\\\\\\\\\\\\"typeProperty\\\\\\\\\\\\\": 2}, {\\\\\\\\\\\\\"column\\\\\\\\\\\\\": {\\\\\\\\\\\\\"type\\\\\\\\\\\\\": 2, \\\\\\\\\\\\\"details\\\\\\\\\\\\\": {\\\\\\\\\\\\\"selectedColumn\\\\\\\\\\\\\": \\\\\\\\\\\\\"ca\\\\\\\\\\\\\"}}, \\\\\\\\\\\\\"typeProperty\\\\\\\\\\\\\": 2}, {\\\\\\\\\\\\\"column\\\\\\\\\\\\\": {\\\\\\\\\\\\\"type\\\\\\\\\\\\\": 2, \\\\\\\\\\\\\"details\\\\\\\\\\\\\": {\\\\\\\\\\\\\"selectedColumn\\\\\\\\\\\\\": \\\\\\\\\\\\\"thal\\\\\\\\\\\\\"}}, \\\\\\\\\\\\\"typeProperty\\\\\\\\\\\\\": 2}, {\\\\\\\\\\\\\"column\\\\\\\\\\\\\": {\\\\\\\\\\\\\"type\\\\\\\\\\\\\": 2, \\\\\\\\\\\\\"details\\\\\\\\\\\\\": {\\\\\\\\\\\\\"selectedColumn\\\\\\\\\\\\\": \\\\\\\\\\\\\"target\\\\\\\\\\\\\"}}, \\\\\\\\\\\\\"typeProperty\\\\\\\\\\\\\": 2}]}, \\\\\\\\\\\\\"localData\\\\\\\\\\\\\": {}, \\\\\\\\\\\\\"isEnabled\\\\\\\\\\\\\": true, \\\\\\\\\\\\\"name\\\\\\\\\\\\\": null, \\\\\\\\\\\\\"annotation\\\\\\\\\\\\\": null}], \\\\\\\\\\\\\"inspectors\\\\\\\\\\\\\": [], \\\\\\\\\\\\\"meta\\\\\\\\\\\\\": {\\\\\\\\\\\\\"savedDatasetId\\\\\\\\\\\\\": \\\\\\\\\\\\\"6f7ae265-73b9-4918-aad6-65f114a5947b\\\\\\\\\\\\\", \\\\\\\\\\\\\"datasetType\\\\\\\\\\\\\": \\\\\\\\\\\\\"tabular\\\\\\\\\\\\\", \\\\\\\\\\\\\"subscriptionId\\\\\\\\\\\\\": \\\\\\\\\\\\\"a0a76bad-11a1-4a2d-9887-97a29122c8ed\\\\\\\\\\\\\", \\\\\\\\\\\\\"workspaceId\\\\\\\\\\\\\": \\\\\\\\\\\\\"56c3de86-66f5-4b02-bb97-355faa9d42ac\\\\\\\\\\\\\", \\\\\\\\\\\\\"workspaceLocation\\\\\\\\\\\\\": \\\\\\\\\\\\\"southcentralus\\\\\\\\\\\\\"}}\\\\\", \\\\\"activities\\\\\": 0}',\n",
       "  'EnableSubsampling': None,\n",
       "  'runTemplate': 'AutoML',\n",
       "  'azureml.runsource': 'automl',\n",
       "  'display_task_type': 'classification',\n",
       "  'dependencies_versions': '{\"azureml-widgets\": \"1.19.0\", \"azureml-train\": \"1.19.0\", \"azureml-train-restclients-hyperdrive\": \"1.19.0\", \"azureml-train-core\": \"1.19.0\", \"azureml-train-automl\": \"1.19.0\", \"azureml-train-automl-runtime\": \"1.19.0\", \"azureml-train-automl-client\": \"1.19.0\", \"azureml-tensorboard\": \"1.19.0\", \"azureml-telemetry\": \"1.19.0\", \"azureml-sdk\": \"1.19.0\", \"azureml-samples\": \"0+unknown\", \"azureml-pipeline\": \"1.19.0\", \"azureml-pipeline-steps\": \"1.19.0\", \"azureml-pipeline-core\": \"1.19.0\", \"azureml-opendatasets\": \"1.19.0\", \"azureml-model-management-sdk\": \"1.0.1b6.post1\", \"azureml-mlflow\": \"1.19.0\", \"azureml-interpret\": \"1.19.0\", \"azureml-explain-model\": \"1.19.0\", \"azureml-defaults\": \"1.19.0\", \"azureml-dataset-runtime\": \"1.19.0.post1\", \"azureml-dataprep\": \"2.6.1\", \"azureml-dataprep-rslex\": \"1.4.0\", \"azureml-dataprep-native\": \"26.0.0\", \"azureml-datadrift\": \"1.19.0\", \"azureml-core\": \"1.19.0\", \"azureml-contrib-services\": \"1.19.0\", \"azureml-contrib-server\": \"1.19.0\", \"azureml-contrib-reinforcementlearning\": \"1.19.0\", \"azureml-contrib-pipeline-steps\": \"1.19.0\", \"azureml-contrib-notebook\": \"1.19.0\", \"azureml-contrib-interpret\": \"1.19.0\", \"azureml-contrib-gbdt\": \"1.19.0\", \"azureml-contrib-fairness\": \"1.19.0\", \"azureml-contrib-dataset\": \"1.19.0\", \"azureml-cli-common\": \"1.19.0\", \"azureml-automl-runtime\": \"1.19.0\", \"azureml-automl-core\": \"1.19.0\", \"azureml-accel-models\": \"1.19.0\"}',\n",
       "  '_aml_system_scenario_identification': 'Remote.Parent',\n",
       "  'ClientType': 'SDK',\n",
       "  'environment_cpu_name': 'AzureML-AutoML',\n",
       "  'environment_cpu_label': 'prod',\n",
       "  'environment_gpu_name': 'AzureML-AutoML-GPU',\n",
       "  'environment_gpu_label': 'prod',\n",
       "  'root_attribution': 'automl',\n",
       "  'attribution': 'AutoML',\n",
       "  'Orchestrator': 'AutoML',\n",
       "  'CancelUri': 'https://southcentralus.experiments.azureml.net/jasmine/v1.0/subscriptions/a0a76bad-11a1-4a2d-9887-97a29122c8ed/resourceGroups/aml-quickstarts-135048/providers/Microsoft.MachineLearningServices/workspaces/quick-starts-ws-135048/experimentids/48fa1b29-7621-4659-8d74-aa5dee6d5501/cancel/AutoML_456326d9-d2ab-439d-9f2b-7c9e35b655b3',\n",
       "  'ClientSdkVersion': '1.19.0',\n",
       "  'snapshotId': '00000000-0000-0000-0000-000000000000',\n",
       "  'SetupRunId': 'AutoML_456326d9-d2ab-439d-9f2b-7c9e35b655b3_setup',\n",
       "  'SetupRunContainerId': 'dcid.AutoML_456326d9-d2ab-439d-9f2b-7c9e35b655b3_setup',\n",
       "  'FeaturizationRunJsonPath': 'featurizer_container.json',\n",
       "  'FeaturizationRunId': 'AutoML_456326d9-d2ab-439d-9f2b-7c9e35b655b3_featurize',\n",
       "  'ProblemInfoJsonString': '{\"dataset_num_categorical\": 0, \"is_sparse\": false, \"subsampling\": false, \"dataset_classes\": 2, \"dataset_features\": 13, \"dataset_samples\": 303, \"single_frequency_class_detected\": false}',\n",
       "  'ModelExplainRunId': 'AutoML_456326d9-d2ab-439d-9f2b-7c9e35b655b3_ModelExplain'},\n",
       " 'inputDatasets': [{'dataset': {'id': '6f7ae265-73b9-4918-aad6-65f114a5947b'}, 'consumptionDetails': {'type': 'RunInput', 'inputName': 'training_data', 'mechanism': 'Direct'}}],\n",
       " 'outputDatasets': [],\n",
       " 'logFiles': {}}"
      ]
     },
     "execution_count": 14,
     "metadata": {},
     "output_type": "execute_result"
    }
   ],
   "source": [
    "from azureml.widgets import RunDetails\n",
    "RunDetails(remote_run).show()\n",
    "remote_run.wait_for_completion()"
   ]
  },
  {
   "cell_type": "markdown",
   "metadata": {},
   "source": [
    "## Retreive and save best ONNX model"
   ]
  },
  {
   "cell_type": "code",
   "execution_count": 15,
   "metadata": {},
   "outputs": [],
   "source": [
    "from azureml.automl.runtime.onnx_convert import OnnxConverter\n",
    "\n",
    "\n",
    "best_run, onnx_model = remote_run.get_output(return_onnx_model=True)\n",
    "onnx_path = \"./best_model.onnx\"\n",
    "OnnxConverter.save_onnx_model(onnx_model, onnx_path)"
   ]
  },
  {
   "cell_type": "markdown",
   "metadata": {},
   "source": [
    "## Test prediction using ONNX model"
   ]
  },
  {
   "cell_type": "code",
   "execution_count": 24,
   "metadata": {},
   "outputs": [
    {
     "name": "stdout",
     "output_type": "stream",
     "text": [
      "[1 1 1 1 1 1 1 1 1 1 1 1 1 1 1 1 1 1 1 1 1 1 1 1 1 1 1 1 1 1 1 1 1 1 1 1 1\n",
      " 1 1 1 1 1 1 1 1 1 1 1 1 1 1 1 0 1 1 1 1 1 1 1 1 1 1 1 1 1 1 1 1 1 1 1 1 1\n",
      " 1 1 1 1 1 1 1 1 1 1 1 1 1 1 1 1 1 1 1 1 1 0 1 0 1 1 1 0 1 1 1 1 1 1 1 1 1\n",
      " 1 1 1 1 1 1 1 1 1 0 1 1 1 1 1 1 1 1 1 1 1 1 1 1 1 1 1 1 0 1 1 1 1 1 1 1 1\n",
      " 1 1 1 1 1 1 1 1 1 1 1 1 1 1 1 1 1 0 0 0 0 0 0 0 1 0 0 0 0 1 0 0 0 0 1 0 0\n",
      " 0 0 0 0 1 0 0 0 0 1 0 1 0 0 0 0 0 0 0 0 0 0 0 0 0 0 0 0 0 0 0 0 0 0 0 0 0\n",
      " 0 0 0 0 0 0 0 0 1 0 0 0 0 0 0 0 0 0 0 0 0 0 0 0 0 0 0 0 0 0 0 0 1 0 0 0 0\n",
      " 0 0 0 0 0 0 0 0 1 0 0 0 0 0 0 0 0 0 1 1 0 0 0 0 1 0 0 1 0 0 0 0 0 0 1 0 0\n",
      " 1 0 0 0 0 0 0]\n",
      "[[0.18943426 0.81056577]\n",
      " [0.19599399 0.804006  ]\n",
      " [0.04287627 0.95712376]\n",
      " [0.05916817 0.94083184]\n",
      " [0.21024954 0.78975046]\n",
      " [0.20161693 0.79838306]\n",
      " [0.18005237 0.81994754]\n",
      " [0.18116026 0.8188397 ]\n",
      " [0.12510984 0.87489015]\n",
      " [0.10805587 0.8919441 ]\n",
      " [0.16125205 0.8387479 ]\n",
      " [0.0632513  0.9367487 ]\n",
      " [0.05126768 0.94873226]\n",
      " [0.18748756 0.81251246]\n",
      " [0.0769709  0.92302907]\n",
      " [0.06135597 0.938644  ]\n",
      " [0.07819776 0.92180216]\n",
      " [0.1953515  0.8046485 ]\n",
      " [0.15382168 0.84617835]\n",
      " [0.19788732 0.80211264]\n",
      " [0.47437477 0.5256252 ]\n",
      " [0.05028579 0.94971424]\n",
      " [0.09597973 0.90402025]\n",
      " [0.26902628 0.7309737 ]\n",
      " [0.23724388 0.76275605]\n",
      " [0.3319888  0.6680112 ]\n",
      " [0.10010958 0.8998904 ]\n",
      " [0.07696581 0.9230342 ]\n",
      " [0.19040833 0.8095917 ]\n",
      " [0.12609793 0.873902  ]\n",
      " [0.10753418 0.8924658 ]\n",
      " [0.35642582 0.6435742 ]\n",
      " [0.04416278 0.9558372 ]\n",
      " [0.28757527 0.7124247 ]\n",
      " [0.34104487 0.6589551 ]\n",
      " [0.16822182 0.8317781 ]\n",
      " [0.04361538 0.95638454]\n",
      " [0.20965143 0.7903486 ]\n",
      " [0.06932766 0.9306722 ]\n",
      " [0.11930744 0.88069254]\n",
      " [0.18015614 0.8198439 ]\n",
      " [0.08906996 0.91093004]\n",
      " [0.435998   0.56400204]\n",
      " [0.1615844  0.83841556]\n",
      " [0.0669338  0.93306625]\n",
      " [0.06337143 0.93662864]\n",
      " [0.04461228 0.9553877 ]\n",
      " [0.07008379 0.9299162 ]\n",
      " [0.06738631 0.9326137 ]\n",
      " [0.07973784 0.9202622 ]\n",
      " [0.04202188 0.95797807]\n",
      " [0.2265352  0.7734648 ]\n",
      " [0.62635374 0.37364623]\n",
      " [0.05206322 0.94793683]\n",
      " [0.05280482 0.9471951 ]\n",
      " [0.2532038  0.74679613]\n",
      " [0.10354538 0.89645463]\n",
      " [0.113229   0.886771  ]\n",
      " [0.05135405 0.94864595]\n",
      " [0.39021915 0.60978085]\n",
      " [0.16474733 0.83525264]\n",
      " [0.21189222 0.78810775]\n",
      " [0.06947155 0.93052846]\n",
      " [0.12098698 0.87901306]\n",
      " [0.0694456  0.9305544 ]\n",
      " [0.12497424 0.87502575]\n",
      " [0.14889945 0.8511005 ]\n",
      " [0.06480096 0.93519896]\n",
      " [0.03832836 0.96167165]\n",
      " [0.1010948  0.89890516]\n",
      " [0.32434845 0.67565155]\n",
      " [0.24315293 0.7568471 ]\n",
      " [0.04719194 0.952808  ]\n",
      " [0.19042523 0.8095748 ]\n",
      " [0.03820999 0.96179   ]\n",
      " [0.1251469  0.87485313]\n",
      " [0.1586698  0.8413302 ]\n",
      " [0.10377126 0.8962287 ]\n",
      " [0.0370742  0.96292573]\n",
      " [0.29938766 0.70061237]\n",
      " [0.04598036 0.9540196 ]\n",
      " [0.06916993 0.93083   ]\n",
      " [0.11343236 0.88656753]\n",
      " [0.2609443  0.73905563]\n",
      " [0.19461785 0.8053822 ]\n",
      " [0.27582    0.7241799 ]\n",
      " [0.39124188 0.6087581 ]\n",
      " [0.13395284 0.8660472 ]\n",
      " [0.0610202  0.93897974]\n",
      " [0.30290607 0.6970939 ]\n",
      " [0.13684973 0.86315024]\n",
      " [0.45282322 0.5471767 ]\n",
      " [0.12375957 0.87624043]\n",
      " [0.15120694 0.848793  ]\n",
      " [0.08140799 0.91859204]\n",
      " [0.5365976  0.46340236]\n",
      " [0.3045078  0.6954922 ]\n",
      " [0.59555995 0.4044401 ]\n",
      " [0.16025841 0.8397416 ]\n",
      " [0.16375104 0.836249  ]\n",
      " [0.20567241 0.79432756]\n",
      " [0.5702842  0.42971578]\n",
      " [0.17237505 0.827625  ]\n",
      " [0.21177986 0.7882201 ]\n",
      " [0.03919121 0.9608088 ]\n",
      " [0.10904851 0.89095134]\n",
      " [0.3949439  0.6050561 ]\n",
      " [0.22532281 0.7746772 ]\n",
      " [0.04348129 0.95651865]\n",
      " [0.0972616  0.90273845]\n",
      " [0.23673163 0.76326835]\n",
      " [0.2598504  0.74014956]\n",
      " [0.18942036 0.8105796 ]\n",
      " [0.33194128 0.6680587 ]\n",
      " [0.08438301 0.9156169 ]\n",
      " [0.03040494 0.9695951 ]\n",
      " [0.12721749 0.8727825 ]\n",
      " [0.31306443 0.6869355 ]\n",
      " [0.03737446 0.9626255 ]\n",
      " [0.27266744 0.7273326 ]\n",
      " [0.7633751  0.23662493]\n",
      " [0.16428995 0.83571   ]\n",
      " [0.05558315 0.9444168 ]\n",
      " [0.04406555 0.95593446]\n",
      " [0.03572763 0.9642724 ]\n",
      " [0.03506668 0.9649333 ]\n",
      " [0.12229339 0.8777066 ]\n",
      " [0.10272112 0.8972789 ]\n",
      " [0.05832404 0.94167596]\n",
      " [0.2433586  0.7566414 ]\n",
      " [0.09842114 0.90157884]\n",
      " [0.09941068 0.9005893 ]\n",
      " [0.08186685 0.9181332 ]\n",
      " [0.05580049 0.9441995 ]\n",
      " [0.04998265 0.9500174 ]\n",
      " [0.08851808 0.9114819 ]\n",
      " [0.08063752 0.9193625 ]\n",
      " [0.08587117 0.9141288 ]\n",
      " [0.49591088 0.50408906]\n",
      " [0.77707165 0.22292832]\n",
      " [0.04608094 0.95391905]\n",
      " [0.22601828 0.7739817 ]\n",
      " [0.04221054 0.9577894 ]\n",
      " [0.42251348 0.5774865 ]\n",
      " [0.11821173 0.88178825]\n",
      " [0.1599141  0.8400859 ]\n",
      " [0.14838155 0.85161847]\n",
      " [0.0576261  0.94237393]\n",
      " [0.0363171  0.96368283]\n",
      " [0.05804152 0.9419585 ]\n",
      " [0.28946146 0.7105385 ]\n",
      " [0.3028482  0.6971518 ]\n",
      " [0.2879531  0.7120469 ]\n",
      " [0.25045955 0.74954045]\n",
      " [0.05770623 0.9422937 ]\n",
      " [0.18729949 0.81270057]\n",
      " [0.04043421 0.95956576]\n",
      " [0.04009582 0.95990413]\n",
      " [0.43110445 0.5688955 ]\n",
      " [0.19432656 0.8056735 ]\n",
      " [0.10257804 0.8974219 ]\n",
      " [0.08390163 0.9160984 ]\n",
      " [0.03981774 0.96018225]\n",
      " [0.12282219 0.8771778 ]\n",
      " [0.12282218 0.8771778 ]\n",
      " [0.9453313  0.05466868]\n",
      " [0.9626973  0.03730264]\n",
      " [0.8656003  0.13439968]\n",
      " [0.9571839  0.0428161 ]\n",
      " [0.87999827 0.12000173]\n",
      " [0.67922395 0.32077613]\n",
      " [0.54452425 0.45547578]\n",
      " [0.43544045 0.5645595 ]\n",
      " [0.6926087  0.30739123]\n",
      " [0.9684305  0.03156955]\n",
      " [0.8940281  0.10597187]\n",
      " [0.90285337 0.09714659]\n",
      " [0.28746468 0.7125353 ]\n",
      " [0.89620084 0.10379914]\n",
      " [0.91087735 0.08912265]\n",
      " [0.9329338  0.06706615]\n",
      " [0.9359905  0.0640095 ]\n",
      " [0.23619412 0.76380587]\n",
      " [0.8203339  0.17966615]\n",
      " [0.8824496  0.11755037]\n",
      " [0.7263328  0.27366713]\n",
      " [0.94047874 0.05952123]\n",
      " [0.9704417  0.02955822]\n",
      " [0.5720963  0.4279037 ]\n",
      " [0.4725907  0.52740926]\n",
      " [0.8875069  0.11249308]\n",
      " [0.96594536 0.03405458]\n",
      " [0.94020754 0.05979242]\n",
      " [0.9737253  0.02627471]\n",
      " [0.4493697  0.5506303 ]\n",
      " [0.8940081  0.10599191]\n",
      " [0.4230546  0.57694536]\n",
      " [0.8538801  0.14611982]\n",
      " [0.9548255  0.04517447]\n",
      " [0.7999875  0.20001242]\n",
      " [0.6827837  0.31721622]\n",
      " [0.9725553  0.02744471]\n",
      " [0.8623744  0.13762553]\n",
      " [0.720071   0.27992895]\n",
      " [0.93402874 0.06597124]\n",
      " [0.8466658  0.15333416]\n",
      " [0.9633199  0.03668002]\n",
      " [0.9462407  0.05375934]\n",
      " [0.74778545 0.25221452]\n",
      " [0.78889006 0.21110989]\n",
      " [0.5570769  0.4429231 ]\n",
      " [0.96239704 0.037603  ]\n",
      " [0.8205655  0.1794345 ]\n",
      " [0.88794005 0.11205999]\n",
      " [0.9442215  0.05577843]\n",
      " [0.8953387  0.10466124]\n",
      " [0.7081706  0.29182935]\n",
      " [0.95311195 0.04688809]\n",
      " [0.96329874 0.0367012 ]\n",
      " [0.876361   0.12363892]\n",
      " [0.91625416 0.08374582]\n",
      " [0.91028136 0.08971864]\n",
      " [0.5340498  0.4659502 ]\n",
      " [0.9611894  0.03881061]\n",
      " [0.9487071  0.05129289]\n",
      " [0.9055313  0.09446874]\n",
      " [0.8832689  0.11673111]\n",
      " [0.88162464 0.11837536]\n",
      " [0.54157364 0.45842633]\n",
      " [0.7431413  0.25685862]\n",
      " [0.14694382 0.8530561 ]\n",
      " [0.95745057 0.0425494 ]\n",
      " [0.9402436  0.05975636]\n",
      " [0.9411778  0.05882218]\n",
      " [0.9128241  0.08717588]\n",
      " [0.81127733 0.18872261]\n",
      " [0.8835549  0.11644512]\n",
      " [0.95498055 0.0450194 ]\n",
      " [0.83563805 0.16436185]\n",
      " [0.68478924 0.31521076]\n",
      " [0.8701452  0.12985475]\n",
      " [0.528933   0.47106695]\n",
      " [0.9160296  0.08397042]\n",
      " [0.9665612  0.03343878]\n",
      " [0.9336852  0.06631481]\n",
      " [0.6787597  0.32124034]\n",
      " [0.9261384  0.07386155]\n",
      " [0.7501351  0.24986492]\n",
      " [0.6066732  0.39332673]\n",
      " [0.84341615 0.15658379]\n",
      " [0.96257097 0.03742903]\n",
      " [0.905182   0.09481803]\n",
      " [0.82178414 0.17821589]\n",
      " [0.92261547 0.07738451]\n",
      " [0.32966307 0.6703369 ]\n",
      " [0.907585   0.09241503]\n",
      " [0.97261494 0.02738497]\n",
      " [0.89086807 0.10913199]\n",
      " [0.6020144  0.39798555]\n",
      " [0.55152047 0.4484795 ]\n",
      " [0.93217623 0.06782372]\n",
      " [0.66429263 0.33570737]\n",
      " [0.95620674 0.04379324]\n",
      " [0.8512084  0.14879157]\n",
      " [0.86551636 0.13448359]\n",
      " [0.78700405 0.2129959 ]\n",
      " [0.72304183 0.27695823]\n",
      " [0.45647654 0.54352343]\n",
      " [0.94278336 0.05721668]\n",
      " [0.93012154 0.06987847]\n",
      " [0.7560716  0.2439283 ]\n",
      " [0.6938785  0.30612153]\n",
      " [0.5654691  0.4345309 ]\n",
      " [0.77633995 0.22366007]\n",
      " [0.9230012  0.0769987 ]\n",
      " [0.8701116  0.12988834]\n",
      " [0.9502141  0.04978589]\n",
      " [0.42889604 0.57110393]\n",
      " [0.48335505 0.5166449 ]\n",
      " [0.94703335 0.05296664]\n",
      " [0.72062445 0.27937552]\n",
      " [0.516005   0.48399493]\n",
      " [0.70684284 0.29315716]\n",
      " [0.4780034  0.5219966 ]\n",
      " [0.9434186  0.05658132]\n",
      " [0.96507585 0.03492411]\n",
      " [0.38667837 0.6133216 ]\n",
      " [0.515856   0.48414397]\n",
      " [0.94575316 0.05424684]\n",
      " [0.94382566 0.0561743 ]\n",
      " [0.82470286 0.17529717]\n",
      " [0.88841325 0.11158668]\n",
      " [0.903968   0.09603198]\n",
      " [0.4802115  0.51978844]\n",
      " [0.66749775 0.33250228]\n",
      " [0.9240146  0.07598532]\n",
      " [0.42365578 0.5763442 ]\n",
      " [0.9137     0.08630002]\n",
      " [0.71995294 0.28004706]\n",
      " [0.6138987  0.38610128]\n",
      " [0.94271845 0.05728154]\n",
      " [0.94557315 0.05442685]\n",
      " [0.54631186 0.45368814]]\n"
     ]
    }
   ],
   "source": [
    "from azureml.automl.core.onnx_convert import OnnxConvertConstants\n",
    "from azureml.train.automl import constants\n",
    "import onnxruntime\n",
    "from azureml.automl.runtime.onnx_convert import OnnxInferenceHelper\n",
    "\n",
    "if sys.version_info < OnnxConvertConstants.OnnxIncompatiblePythonVersion:\n",
    "    python_version_compatible = True\n",
    "else:\n",
    "    python_version_compatible = False\n",
    "\n",
    "\n",
    "def get_onnx_res(run):\n",
    "    res_path = 'onnx_resource.json'\n",
    "    run.download_file(name=constants.MODEL_RESOURCE_PATH_ONNX, output_file_path=res_path)\n",
    "    with open(res_path) as f:\n",
    "        onnx_res = json.load(f)\n",
    "    return onnx_res\n",
    "\n",
    "if python_version_compatible:\n",
    "    test_df = dataset.to_pandas_dataframe()\n",
    "    mdl_bytes = onnx_model.SerializeToString()\n",
    "    onnx_res = get_onnx_res(best_run)\n",
    "\n",
    "    onnxrt_helper = OnnxInferenceHelper(mdl_bytes, onnx_res)\n",
    "    pred_onnx, pred_prob_onnx = onnxrt_helper.predict(test_df)\n",
    "\n",
    "    print(pred_onnx)\n",
    "    print(pred_prob_onnx)\n",
    "else:\n",
    "    print('Please use Python version 3.6 or 3.7 to run the inference helper.')"
   ]
  },
  {
   "cell_type": "markdown",
   "metadata": {},
   "source": [
    "## Best Model\n",
    "\n",
    "Getting the best model from the automl experiments and display all the properties of the model.\n",
    "\n"
   ]
  },
  {
   "cell_type": "code",
   "execution_count": 52,
   "metadata": {
    "gather": {
     "logged": 1598431425670
    },
    "jupyter": {
     "outputs_hidden": false,
     "source_hidden": false
    },
    "nteract": {
     "transient": {
      "deleting": false
     }
    }
   },
   "outputs": [
    {
     "name": "stdout",
     "output_type": "stream",
     "text": [
      "Best Run Id:  AutoML_a44c0534-d182-4428-b34f-1a1e4ddb03c6_46\n",
      "- Accuracy: 0.8611827956989249\n",
      "- AUC_weighted: 0.9190213390124381\n"
     ]
    },
    {
     "data": {
      "text/plain": [
       "['azureml_fitted_model.sav']"
      ]
     },
     "execution_count": 52,
     "metadata": {},
     "output_type": "execute_result"
    }
   ],
   "source": [
    "import joblib\n",
    "# Retrieve and save your best automl model.\n",
    "\n",
    "best_run, fitted_model = remote_run.get_output()\n",
    "best_run_metrics = best_run.get_metrics()\n",
    "\n",
    "print('- Best Run Id: ', best_run.id)\n",
    "print('- Accuracy:', best_run_metrics['accuracy'])\n",
    "print('- AUC_weighted:', best_run_metrics['AUC_weighted'])\n",
    "joblib.dump(fitted_model,'azureml_fitted_model.sav')"
   ]
  },
  {
   "cell_type": "markdown",
   "metadata": {},
   "source": [
    "### Register best model"
   ]
  },
  {
   "cell_type": "code",
   "execution_count": 53,
   "metadata": {},
   "outputs": [
    {
     "name": "stdout",
     "output_type": "stream",
     "text": [
      "AutoMLa44c0534d46\n"
     ]
    }
   ],
   "source": [
    "model_name = best_run.properties[\"model_name\"]\n",
    "description = \"AutoML model for predetcting heart disease.\"\n",
    "tags = None\n",
    "model = remote_run.register_model(model_name=model_name, description=description, tags=tags)\n",
    "\n",
    "print(remote_run.model_id)"
   ]
  },
  {
   "cell_type": "markdown",
   "metadata": {},
   "source": [
    "## Model Deployment\n",
    "\n",
    "Remember you have to deploy only one of the two models you trained.. Perform the steps in the rest of this notebook only if you wish to deploy this model.\n",
    "\n",
    "TODO: In the cell below, register the model, create an inference config and deploy the model as a web service."
   ]
  },
  {
   "cell_type": "code",
   "execution_count": 54,
   "metadata": {
    "gather": {
     "logged": 1598431435189
    },
    "jupyter": {
     "outputs_hidden": false,
     "source_hidden": false
    },
    "nteract": {
     "transient": {
      "deleting": false
     }
    }
   },
   "outputs": [],
   "source": [
    "script_file_name = 'inference/score.py'\n",
    "\n",
    "best_run.download_file('outputs/scoring_file_v_1_0_0.py', 'inference/score.py')"
   ]
  },
  {
   "cell_type": "markdown",
   "metadata": {
    "gather": {
     "logged": 1598432707604
    },
    "jupyter": {
     "outputs_hidden": false,
     "source_hidden": false
    },
    "nteract": {
     "transient": {
      "deleting": false
     }
    }
   },
   "source": [
    "### Deploy the model as a webservice using ACI"
   ]
  },
  {
   "cell_type": "code",
   "execution_count": 69,
   "metadata": {},
   "outputs": [
    {
     "name": "stdout",
     "output_type": "stream",
     "text": [
      "automl-heart-disease-prediction\n",
      "Tips: You can try get_logs(): https://aka.ms/debugimage#dockerlog or local deployment: https://aka.ms/debugimage#debug-locally to debug if deployment takes longer than 10 minutes.\n",
      "Running...................................\n",
      "Succeeded\n",
      "ACI service creation operation finished, operation \"Succeeded\"\n",
      "Healthy\n"
     ]
    }
   ],
   "source": [
    "from azureml.core.model import InferenceConfig\n",
    "from azureml.core.webservice import AciWebservice\n",
    "from azureml.core.webservice import Webservice\n",
    "from azureml.core.model import Model\n",
    "from azureml.core.environment import Environment\n",
    "\n",
    "inference_config = InferenceConfig(entry_script=script_file_name)\n",
    "\n",
    "aciconfig = AciWebservice.deploy_configuration(cpu_cores = 1, \n",
    "                                               memory_gb = 1, \n",
    "                                               tags = {'area': \"bmData\", 'type': \"automl_classification\"}, \n",
    "                                               description = 'Heart Disease prediction using Automl Classification')\n",
    "\n",
    "aci_service_name = 'automl-heart-disease-prediction'\n",
    "print(aci_service_name)\n",
    "aci_service = Model.deploy(ws, aci_service_name, [model], inference_config, aciconfig)\n",
    "aci_service.wait_for_deployment(True)\n",
    "print(aci_service.state)"
   ]
  },
  {
   "cell_type": "markdown",
   "metadata": {},
   "source": [
    "### Test the web service"
   ]
  },
  {
   "cell_type": "code",
   "execution_count": 73,
   "metadata": {},
   "outputs": [
    {
     "name": "stdout",
     "output_type": "stream",
     "text": [
      "[1]\n"
     ]
    }
   ],
   "source": [
    "#Test 1\n",
    "import requests\n",
    "import json\n",
    "\n",
    "data = '''{ \n",
    "  \"data\": [  \n",
    "    { \n",
    "      \"age\": 63,\n",
    "      \"sex\": 1,\n",
    "      \"cp\": 3,\n",
    "      \"trestbps\": 145,\n",
    "      \"chol\": 233,\n",
    "      \"fbs\": 1,\n",
    "      \"restecg\": 0,\n",
    "      \"thalach\": 150,\n",
    "      \"exang\": 0,\n",
    "      \"oldpeak\": 2.3,\n",
    "      \"slope\": 0,\n",
    "      \"ca\": 0,\n",
    "      \"thal\": 1\n",
    "    }\n",
    "  ]\n",
    "}'''\n",
    "\n",
    "headers = {'Content-Type': 'application/json'}\n",
    "\n",
    "resp = requests.post(aci_service.scoring_uri, data, headers=headers)\n",
    "\n",
    "pred = json.loads(json.loads(resp.text))['result']\n",
    "print(pred)"
   ]
  },
  {
   "cell_type": "code",
   "execution_count": 74,
   "metadata": {},
   "outputs": [
    {
     "name": "stdout",
     "output_type": "stream",
     "text": [
      "[0]\n"
     ]
    }
   ],
   "source": [
    "# Test 2\n",
    "import requests\n",
    "import json\n",
    "\n",
    "data = '''{ \n",
    "  \"data\": [  \n",
    "    { \n",
    "      \"age\": 57,\n",
    "      \"sex\": 0,\n",
    "      \"cp\": 0,\n",
    "      \"trestbps\": 140,\n",
    "      \"chol\": 241,\n",
    "      \"fbs\": 0,\n",
    "      \"restecg\": 1,\n",
    "      \"thalach\": 123,\n",
    "      \"exang\": 1,\n",
    "      \"oldpeak\": 0.2,\n",
    "      \"slope\": 1,\n",
    "      \"ca\": 0,\n",
    "      \"thal\": 3\n",
    "    }\n",
    "  ]\n",
    "}'''\n",
    "\n",
    "headers = {'Content-Type': 'application/json'}\n",
    "\n",
    "resp = requests.post(aci_service.scoring_uri, data, headers=headers)\n",
    "\n",
    "pred = json.loads(json.loads(resp.text))['result']\n",
    "print(pred)"
   ]
  },
  {
   "cell_type": "markdown",
   "metadata": {
    "jupyter": {
     "outputs_hidden": false,
     "source_hidden": false
    },
    "nteract": {
     "transient": {
      "deleting": false
     }
    }
   },
   "source": [
    "### Get service logs"
   ]
  },
  {
   "cell_type": "code",
   "execution_count": 57,
   "metadata": {},
   "outputs": [
    {
     "data": {
      "text/plain": [
       "'2021-01-12T15:59:34,981429300+00:00 - gunicorn/run \\n2021-01-12T15:59:34,988160700+00:00 - iot-server/run \\n2021-01-12T15:59:34,987325400+00:00 - rsyslog/run \\n2021-01-12T15:59:35,019080300+00:00 - nginx/run \\n/usr/sbin/nginx: /azureml-envs/azureml_8eff28b157f42edcd2424a5aae6c8074/lib/libcrypto.so.1.0.0: no version information available (required by /usr/sbin/nginx)\\n/usr/sbin/nginx: /azureml-envs/azureml_8eff28b157f42edcd2424a5aae6c8074/lib/libcrypto.so.1.0.0: no version information available (required by /usr/sbin/nginx)\\n/usr/sbin/nginx: /azureml-envs/azureml_8eff28b157f42edcd2424a5aae6c8074/lib/libssl.so.1.0.0: no version information available (required by /usr/sbin/nginx)\\n/usr/sbin/nginx: /azureml-envs/azureml_8eff28b157f42edcd2424a5aae6c8074/lib/libssl.so.1.0.0: no version information available (required by /usr/sbin/nginx)\\n/usr/sbin/nginx: /azureml-envs/azureml_8eff28b157f42edcd2424a5aae6c8074/lib/libssl.so.1.0.0: no version information available (required by /usr/sbin/nginx)\\nrsyslogd: /azureml-envs/azureml_8eff28b157f42edcd2424a5aae6c8074/lib/libuuid.so.1: no version information available (required by rsyslogd)\\nEdgeHubConnectionString and IOTEDGE_IOTHUBHOSTNAME are not set. Exiting...\\n2021-01-12T15:59:36,148648600+00:00 - iot-server/finish 1 0\\n2021-01-12T15:59:36,204221600+00:00 - Exit code 1 is normal. Not restarting iot-server.\\nStarting gunicorn 19.9.0\\nListening at: http://127.0.0.1:31311 (53)\\nUsing worker: sync\\nworker timeout is set to 300\\nBooting worker with pid: 94\\nSPARK_HOME not set. Skipping PySpark Initialization.\\nGenerating new fontManager, this may take some time...\\nInitializing logger\\n2021-01-12 15:59:41,081 | root | INFO | Starting up app insights client\\nStarting up app insights client\\n2021-01-12 15:59:41,084 | root | INFO | Starting up request id generator\\nStarting up request id generator\\n2021-01-12 15:59:41,085 | root | INFO | Starting up app insight hooks\\nStarting up app insight hooks\\n2021-01-12 15:59:41,085 | root | INFO | Invoking user\\'s init function\\nInvoking user\\'s init function\\n2021-01-12 15:59:48,558 | root | INFO | Users\\'s init has completed successfully\\nUsers\\'s init has completed successfully\\n2021-01-12 15:59:48,586 | root | INFO | Skipping middleware: dbg_model_info as it\\'s not enabled.\\nSkipping middleware: dbg_model_info as it\\'s not enabled.\\n2021-01-12 15:59:48,586 | root | INFO | Skipping middleware: dbg_resource_usage as it\\'s not enabled.\\nSkipping middleware: dbg_resource_usage as it\\'s not enabled.\\n2021-01-12 15:59:48,589 | root | INFO | Scoring timeout is found from os.environ: 60000 ms\\nScoring timeout is found from os.environ: 60000 ms\\n2021-01-12 15:59:50,752 | root | INFO | 200\\n200\\n127.0.0.1 - - [12/Jan/2021:15:59:50 +0000] \"GET /swagger.json HTTP/1.0\" 200 2807 \"-\" \"Go-http-client/1.1\"\\n2021-01-12 15:59:56,669 | root | INFO | 200\\n200\\n127.0.0.1 - - [12/Jan/2021:15:59:56 +0000] \"GET /swagger.json HTTP/1.0\" 200 2807 \"-\" \"Go-http-client/1.1\"\\n2021-01-12 15:59:56,993 | root | INFO | Validation Request Content-Type\\nValidation Request Content-Type\\n2021-01-12 15:59:56,994 | root | INFO | \\tHost: localhost:5001\\n\\tHost: localhost:5001\\n2021-01-12 15:59:56,994 | root | INFO | \\tX-Real-Ip: 127.0.0.1\\n\\tX-Real-Ip: 127.0.0.1\\n2021-01-12 15:59:56,994 | root | INFO | \\tX-Forwarded-For: 127.0.0.1\\n\\tX-Forwarded-For: 127.0.0.1\\n2021-01-12 15:59:56,994 | root | INFO | \\tX-Forwarded-Proto: http\\n\\tX-Forwarded-Proto: http\\n2021-01-12 15:59:56,994 | root | INFO | \\tConnection: close\\n\\tConnection: close\\n2021-01-12 15:59:56,994 | root | INFO | \\tContent-Length: 271\\n\\tContent-Length: 271\\n2021-01-12 15:59:56,994 | root | INFO | \\tUser-Agent: python-requests/2.25.0\\n\\tUser-Agent: python-requests/2.25.0\\n2021-01-12 15:59:56,994 | root | INFO | \\tAccept: */*\\n\\tAccept: */*\\n2021-01-12 15:59:56,995 | root | INFO | \\tAccept-Encoding: gzip, deflate\\n\\tAccept-Encoding: gzip, deflate\\n2021-01-12 15:59:56,995 | root | INFO | \\tContent-Type: application/json\\n\\tContent-Type: application/json\\n2021-01-12 15:59:56,995 | root | INFO | \\tX-Ms-Request-Id: 7f35a32e-ffb0-4d72-b848-5796da5144a2\\n\\tX-Ms-Request-Id: 7f35a32e-ffb0-4d72-b848-5796da5144a2\\n2021-01-12 15:59:56,995 | root | INFO | Scoring Timer is set to 60.0 seconds\\nScoring Timer is set to 60.0 seconds\\n2021-01-12 15:59:57,152 | root | INFO | 200\\n200\\n127.0.0.1 - - [12/Jan/2021:15:59:57 +0000] \"POST /score HTTP/1.0\" 200 19 \"-\" \"python-requests/2.25.0\"\\n'"
      ]
     },
     "execution_count": 57,
     "metadata": {},
     "output_type": "execute_result"
    }
   ],
   "source": [
    "aci_service.get_logs()"
   ]
  },
  {
   "cell_type": "markdown",
   "metadata": {},
   "source": [
    "### Delete the web service"
   ]
  },
  {
   "cell_type": "code",
   "execution_count": 65,
   "metadata": {},
   "outputs": [],
   "source": [
    "aci_service.delete()"
   ]
  },
  {
   "cell_type": "markdown",
   "metadata": {},
   "source": [
    "End!"
   ]
  }
 ],
 "metadata": {
  "kernel_info": {
   "name": "python3-azureml"
  },
  "kernelspec": {
   "display_name": "Python 3",
   "language": "python",
   "name": "python3"
  },
  "language_info": {
   "codemirror_mode": {
    "name": "ipython",
    "version": 3
   },
   "file_extension": ".py",
   "mimetype": "text/x-python",
   "name": "python",
   "nbconvert_exporter": "python",
   "pygments_lexer": "ipython3",
   "version": "3.6.9"
  },
  "nteract": {
   "version": "nteract-front-end@1.0.0"
  }
 },
 "nbformat": 4,
 "nbformat_minor": 2
}
